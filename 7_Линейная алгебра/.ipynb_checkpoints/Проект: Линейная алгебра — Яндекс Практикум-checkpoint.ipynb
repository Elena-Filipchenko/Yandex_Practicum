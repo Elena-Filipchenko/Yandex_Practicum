{
 "cells": [
  {
   "cell_type": "markdown",
   "metadata": {
    "toc": true
   },
   "source": [
    "<h1>Содержание<span class=\"tocSkip\"></span></h1>\n",
    "<div class=\"toc\"><ul class=\"toc-item\"><li><ul class=\"toc-item\"><li><span><a href=\"#Описание-данных\" data-toc-modified-id=\"Описание-данных-0.1\"><span class=\"toc-item-num\">0.1&nbsp;&nbsp;</span>Описание данных</a></span></li></ul></li><li><span><a href=\"#Загрузка-данных\" data-toc-modified-id=\"Загрузка-данных-1\"><span class=\"toc-item-num\">1&nbsp;&nbsp;</span>Загрузка данных</a></span></li><li><span><a href=\"#Умножение-матриц\" data-toc-modified-id=\"Умножение-матриц-2\"><span class=\"toc-item-num\">2&nbsp;&nbsp;</span>Умножение матриц</a></span></li><li><span><a href=\"#Алгоритм-преобразования\" data-toc-modified-id=\"Алгоритм-преобразования-3\"><span class=\"toc-item-num\">3&nbsp;&nbsp;</span>Алгоритм преобразования</a></span></li><li><span><a href=\"#Проверка-алгоритма\" data-toc-modified-id=\"Проверка-алгоритма-4\"><span class=\"toc-item-num\">4&nbsp;&nbsp;</span>Проверка алгоритма</a></span><ul class=\"toc-item\"><li><ul class=\"toc-item\"><li><span><a href=\"#Проверка-на-Линейной-регрессии:\" data-toc-modified-id=\"Проверка-на-Линейной-регрессии:-4.0.1\"><span class=\"toc-item-num\">4.0.1&nbsp;&nbsp;</span>Проверка на Линейной регрессии:</a></span></li></ul></li><li><span><a href=\"#Вывод.\" data-toc-modified-id=\"Вывод.-4.1\"><span class=\"toc-item-num\">4.1&nbsp;&nbsp;</span>Вывод.</a></span></li></ul></li><li><span><a href=\"#Чек-лист-проверки\" data-toc-modified-id=\"Чек-лист-проверки-5\"><span class=\"toc-item-num\">5&nbsp;&nbsp;</span>Чек-лист проверки</a></span></li></ul></div>"
   ]
  },
  {
   "cell_type": "markdown",
   "metadata": {},
   "source": [
    "# Защита персональных данных клиентов"
   ]
  },
  {
   "cell_type": "markdown",
   "metadata": {},
   "source": [
    "Вам нужно защитить данные клиентов страховой компании «Хоть потоп». Разработайте такой метод преобразования данных, чтобы по ним было сложно восстановить персональную информацию. Обоснуйте корректность его работы.\n",
    "\n",
    "Нужно защитить данные, чтобы при преобразовании качество моделей машинного обучения не ухудшилось. Подбирать наилучшую модель не требуется."
   ]
  },
  {
   "cell_type": "markdown",
   "metadata": {},
   "source": [
    "### Описание данных"
   ]
  },
  {
   "cell_type": "markdown",
   "metadata": {},
   "source": [
    "Набор данных находится в файле '/datasets/insurance.csv'. \n",
    "Признаки: пол, возраст и зарплата застрахованного, количество членов его семьи.\n",
    "Целевой признак: количество страховых выплат клиенту за последние 5 лет."
   ]
  },
  {
   "cell_type": "markdown",
   "metadata": {},
   "source": [
    "## Загрузка данных"
   ]
  },
  {
   "cell_type": "markdown",
   "metadata": {},
   "source": [
    "Импортируем библиотеки, загрузим датасет и посмотрим информацию:"
   ]
  },
  {
   "cell_type": "code",
   "execution_count": 1,
   "metadata": {},
   "outputs": [],
   "source": [
    "import pandas as pd\n",
    "import numpy as np \n",
    "from sklearn.linear_model import LinearRegression\n",
    "from sklearn.metrics import r2_score"
   ]
  },
  {
   "cell_type": "code",
   "execution_count": 2,
   "metadata": {},
   "outputs": [],
   "source": [
    "df = pd.read_csv('/datasets/insurance.csv')"
   ]
  },
  {
   "cell_type": "code",
   "execution_count": 3,
   "metadata": {},
   "outputs": [
    {
     "data": {
      "text/html": [
       "<div>\n",
       "<style scoped>\n",
       "    .dataframe tbody tr th:only-of-type {\n",
       "        vertical-align: middle;\n",
       "    }\n",
       "\n",
       "    .dataframe tbody tr th {\n",
       "        vertical-align: top;\n",
       "    }\n",
       "\n",
       "    .dataframe thead th {\n",
       "        text-align: right;\n",
       "    }\n",
       "</style>\n",
       "<table border=\"1\" class=\"dataframe\">\n",
       "  <thead>\n",
       "    <tr style=\"text-align: right;\">\n",
       "      <th></th>\n",
       "      <th>Пол</th>\n",
       "      <th>Возраст</th>\n",
       "      <th>Зарплата</th>\n",
       "      <th>Члены семьи</th>\n",
       "      <th>Страховые выплаты</th>\n",
       "    </tr>\n",
       "  </thead>\n",
       "  <tbody>\n",
       "    <tr>\n",
       "      <th>0</th>\n",
       "      <td>1</td>\n",
       "      <td>41.0</td>\n",
       "      <td>49600.0</td>\n",
       "      <td>1</td>\n",
       "      <td>0</td>\n",
       "    </tr>\n",
       "    <tr>\n",
       "      <th>1</th>\n",
       "      <td>0</td>\n",
       "      <td>46.0</td>\n",
       "      <td>38000.0</td>\n",
       "      <td>1</td>\n",
       "      <td>1</td>\n",
       "    </tr>\n",
       "    <tr>\n",
       "      <th>2</th>\n",
       "      <td>0</td>\n",
       "      <td>29.0</td>\n",
       "      <td>21000.0</td>\n",
       "      <td>0</td>\n",
       "      <td>0</td>\n",
       "    </tr>\n",
       "    <tr>\n",
       "      <th>3</th>\n",
       "      <td>0</td>\n",
       "      <td>21.0</td>\n",
       "      <td>41700.0</td>\n",
       "      <td>2</td>\n",
       "      <td>0</td>\n",
       "    </tr>\n",
       "    <tr>\n",
       "      <th>4</th>\n",
       "      <td>1</td>\n",
       "      <td>28.0</td>\n",
       "      <td>26100.0</td>\n",
       "      <td>0</td>\n",
       "      <td>0</td>\n",
       "    </tr>\n",
       "  </tbody>\n",
       "</table>\n",
       "</div>"
      ],
      "text/plain": [
       "   Пол  Возраст  Зарплата  Члены семьи  Страховые выплаты\n",
       "0    1     41.0   49600.0            1                  0\n",
       "1    0     46.0   38000.0            1                  1\n",
       "2    0     29.0   21000.0            0                  0\n",
       "3    0     21.0   41700.0            2                  0\n",
       "4    1     28.0   26100.0            0                  0"
      ]
     },
     "execution_count": 3,
     "metadata": {},
     "output_type": "execute_result"
    }
   ],
   "source": [
    "df.head()"
   ]
  },
  {
   "cell_type": "code",
   "execution_count": 4,
   "metadata": {},
   "outputs": [
    {
     "name": "stdout",
     "output_type": "stream",
     "text": [
      "<class 'pandas.core.frame.DataFrame'>\n",
      "RangeIndex: 5000 entries, 0 to 4999\n",
      "Data columns (total 5 columns):\n",
      " #   Column             Non-Null Count  Dtype  \n",
      "---  ------             --------------  -----  \n",
      " 0   Пол                5000 non-null   int64  \n",
      " 1   Возраст            5000 non-null   float64\n",
      " 2   Зарплата           5000 non-null   float64\n",
      " 3   Члены семьи        5000 non-null   int64  \n",
      " 4   Страховые выплаты  5000 non-null   int64  \n",
      "dtypes: float64(2), int64(3)\n",
      "memory usage: 195.4 KB\n"
     ]
    }
   ],
   "source": [
    "df.info()"
   ]
  },
  {
   "cell_type": "code",
   "execution_count": 5,
   "metadata": {},
   "outputs": [
    {
     "data": {
      "text/plain": [
       "153"
      ]
     },
     "execution_count": 5,
     "metadata": {},
     "output_type": "execute_result"
    }
   ],
   "source": [
    "df.duplicated().sum()"
   ]
  },
  {
   "cell_type": "code",
   "execution_count": 6,
   "metadata": {},
   "outputs": [],
   "source": [
    "df.drop_duplicates(inplace=True)"
   ]
  },
  {
   "cell_type": "code",
   "execution_count": 7,
   "metadata": {},
   "outputs": [
    {
     "data": {
      "text/plain": [
       "(4847, 5)"
      ]
     },
     "execution_count": 7,
     "metadata": {},
     "output_type": "execute_result"
    }
   ],
   "source": [
    "df.shape"
   ]
  },
  {
   "cell_type": "markdown",
   "metadata": {},
   "source": [
    "## Умножение матриц"
   ]
  },
  {
   "cell_type": "markdown",
   "metadata": {},
   "source": [
    "В этом задании вы можете записывать формулы в *Jupyter Notebook.*\n",
    "\n",
    "Чтобы записать формулу внутри текста, окружите её символами доллара \\\\$; если снаружи —  двойными символами \\\\$\\\\$. Эти формулы записываются на языке вёрстки *LaTeX.* \n",
    "\n",
    "Для примера мы записали формулы линейной регрессии. Можете их скопировать и отредактировать, чтобы решить задачу.\n",
    "\n",
    "Работать в *LaTeX* необязательно."
   ]
  },
  {
   "cell_type": "markdown",
   "metadata": {},
   "source": [
    "**Обозначения:**\n",
    "\n",
    "\n",
    "- $X$ — матрица признаков (нулевой столбец состоит из единиц)\n",
    "\n",
    "- $y$ — вектор целевого признака\n",
    "\n",
    "- $P$ — матрица, на которую умножаются признаки\n",
    "\n",
    "- $w$ — вектор весов линейной регрессии (нулевой элемент равен сдвигу)\n",
    "\n",
    "- $a′$ - предсказания с умноженными признаками на обратимую матрицу\n",
    "\n",
    "- $w′$ - вектор весов линейной регрессии с умноженными признаками на обратимую матрицу\n",
    "\n",
    "- $E$ - еденичная матрица\n",
    "\n",
    "- $MSE$ - средняя квадратическая ошибка (mean squared error)\n",
    "\n",
    "- $MSE′$ - средняя квадратическая ошибка с умноженными признаками на обратимую матрицу"
   ]
  },
  {
   "cell_type": "markdown",
   "metadata": {},
   "source": [
    "**Предсказания:**\n",
    "\n",
    "$$\n",
    "a = Xw\n",
    "$$\n",
    "\n",
    "Задача обучения:\n",
    "\n",
    "$$\n",
    "w = \\arg\\min_w MSE(Xw, y)\n",
    "$$\n",
    "\n",
    "Формула обучения:\n",
    "\n",
    "$$\n",
    "w = (X^T X)^{-1} X^T y\n",
    "$$"
   ]
  },
  {
   "cell_type": "markdown",
   "metadata": {},
   "source": [
    "**Ответ:** При умножении матрицы с признаками на обратимую матрицу, качество обучения Линейной регрессии не изменится.\n",
    "\n",
    "**Обоснование:** \n",
    "\n",
    "Пусть $P$ — квадратная необратимая матрица размерностью равной ширине матрицы $X$, тогда:\n",
    "\n",
    "$$w' = ((XP)^{T}XP)^{-1}(XP)^{T}y$$\n",
    "\n",
    "$$w' = (P^{T}(X^{T}X)P)^{-1}P^{T}X^{T}y$$\n",
    "\n",
    "$$w' = P^{-1}(X^{T}X)^{-1}(P^{T})^{-1}P^{T}X^{T}y$$\n",
    "\n",
    "$$w' = P^{-1}(X^{T}X)^{-1}EX^{T}y$$\n",
    "\n",
    "$$w' = P^{-1}w$$\n",
    "\n",
    "$$a' = (XP)(P)^{-1}w$$\n",
    "\n",
    "$$a' = XEw$$\n",
    "\n",
    "$$a' = Xw$$\n",
    "\n",
    "$$a' = a$$\n",
    "\n",
    "$$MSE = n^{-1}\\displaystyle\\sum_{i=1}^{n} (y - a)^{2}$$\n",
    "\n",
    "$$MSE' = n^{-1}\\displaystyle\\sum_{i=1}^{n} (y - a')^{2}$$\n",
    "\n",
    "$$a' = a \\rightarrow MSE = MSE'$$"
   ]
  },
  {
   "cell_type": "markdown",
   "metadata": {},
   "source": [
    "## Алгоритм преобразования"
   ]
  },
  {
   "cell_type": "markdown",
   "metadata": {},
   "source": [
    "**Алгоритм**\n",
    "\n",
    "Для реализации алгоритма преобразования нам требуется:\n",
    "- сгенерировать случайную квадратную обратимую матрицу кодирования (матрица должна быть обратимой, что бы можно было произвести декодирование, а размерность матрицы должна быть равна числу признаков в исходном датасете),\n",
    "- матрица декодирования является обратной матрицей от матрицы кодирования, следовательно, ее так же требуется сгенерировать."
   ]
  },
  {
   "cell_type": "markdown",
   "metadata": {},
   "source": [
    "**Обоснование**\n",
    "\n",
    "При кодировании квадратной обратимой матрицей с размерностью, равной числу признаков, и обучению на линейной регрессии, мы получаем одинаковые предсказания. Следовательно, и одинаковые средние квадратические ошибки (и вообще все ошибки одинаковые). Для получения же исходных значений из закодированных, требуется обратная к матрице кодированияя матрица. "
   ]
  },
  {
   "cell_type": "markdown",
   "metadata": {},
   "source": [
    "## Проверка алгоритма"
   ]
  },
  {
   "cell_type": "markdown",
   "metadata": {},
   "source": [
    "Выделим целевой признак:"
   ]
  },
  {
   "cell_type": "code",
   "execution_count": 8,
   "metadata": {},
   "outputs": [],
   "source": [
    "features = df.drop('Страховые выплаты', axis=1)\n",
    "target = df['Страховые выплаты']"
   ]
  },
  {
   "cell_type": "markdown",
   "metadata": {},
   "source": [
    "Напишем функцию, которая сездает 2 квадратные невырожденные матрицы, заполненные случайными значениями, где матрицы являются обратными друг другу. "
   ]
  },
  {
   "cell_type": "code",
   "execution_count": 9,
   "metadata": {},
   "outputs": [],
   "source": [
    "def matr(n):  \n",
    "    det = 0\n",
    "    while det == 0:\n",
    "        matrix = np.random.normal(size = (n, n))\n",
    "        det = np.linalg.det(matrix) \n",
    "    matrix_inv = np.linalg.inv(matrix)\n",
    "    return matrix, matrix_inv"
   ]
  },
  {
   "cell_type": "code",
   "execution_count": 10,
   "metadata": {},
   "outputs": [],
   "source": [
    "cipher, key = matr(features.shape[1])"
   ]
  },
  {
   "cell_type": "code",
   "execution_count": 11,
   "metadata": {},
   "outputs": [],
   "source": [
    "features_cipher = features.dot(cipher)"
   ]
  },
  {
   "cell_type": "code",
   "execution_count": 12,
   "metadata": {},
   "outputs": [
    {
     "data": {
      "text/html": [
       "<div>\n",
       "<style scoped>\n",
       "    .dataframe tbody tr th:only-of-type {\n",
       "        vertical-align: middle;\n",
       "    }\n",
       "\n",
       "    .dataframe tbody tr th {\n",
       "        vertical-align: top;\n",
       "    }\n",
       "\n",
       "    .dataframe thead th {\n",
       "        text-align: right;\n",
       "    }\n",
       "</style>\n",
       "<table border=\"1\" class=\"dataframe\">\n",
       "  <thead>\n",
       "    <tr style=\"text-align: right;\">\n",
       "      <th></th>\n",
       "      <th>0</th>\n",
       "      <th>1</th>\n",
       "      <th>2</th>\n",
       "      <th>3</th>\n",
       "    </tr>\n",
       "  </thead>\n",
       "  <tbody>\n",
       "    <tr>\n",
       "      <th>0</th>\n",
       "      <td>6492.634682</td>\n",
       "      <td>113813.771355</td>\n",
       "      <td>28238.311621</td>\n",
       "      <td>-51126.207624</td>\n",
       "    </tr>\n",
       "    <tr>\n",
       "      <th>1</th>\n",
       "      <td>4968.191476</td>\n",
       "      <td>87196.792874</td>\n",
       "      <td>21637.121825</td>\n",
       "      <td>-39150.968719</td>\n",
       "    </tr>\n",
       "    <tr>\n",
       "      <th>2</th>\n",
       "      <td>2744.270494</td>\n",
       "      <td>48187.615341</td>\n",
       "      <td>11959.055353</td>\n",
       "      <td>-21630.756819</td>\n",
       "    </tr>\n",
       "    <tr>\n",
       "      <th>3</th>\n",
       "      <td>5464.131493</td>\n",
       "      <td>95684.383402</td>\n",
       "      <td>23734.383199</td>\n",
       "      <td>-42999.592020</td>\n",
       "    </tr>\n",
       "    <tr>\n",
       "      <th>4</th>\n",
       "      <td>3413.774707</td>\n",
       "      <td>59890.897136</td>\n",
       "      <td>14862.331655</td>\n",
       "      <td>-26895.447706</td>\n",
       "    </tr>\n",
       "  </tbody>\n",
       "</table>\n",
       "</div>"
      ],
      "text/plain": [
       "             0              1             2             3\n",
       "0  6492.634682  113813.771355  28238.311621 -51126.207624\n",
       "1  4968.191476   87196.792874  21637.121825 -39150.968719\n",
       "2  2744.270494   48187.615341  11959.055353 -21630.756819\n",
       "3  5464.131493   95684.383402  23734.383199 -42999.592020\n",
       "4  3413.774707   59890.897136  14862.331655 -26895.447706"
      ]
     },
     "execution_count": 12,
     "metadata": {},
     "output_type": "execute_result"
    }
   ],
   "source": [
    "features_cipher.head()"
   ]
  },
  {
   "cell_type": "markdown",
   "metadata": {},
   "source": [
    "В силу особенностей работы python, предусмотрительно округлим и возьмем модули полученных значений."
   ]
  },
  {
   "cell_type": "code",
   "execution_count": 13,
   "metadata": {},
   "outputs": [],
   "source": [
    "features_key = abs(np.around(features_cipher.dot(key)))"
   ]
  },
  {
   "cell_type": "code",
   "execution_count": 14,
   "metadata": {},
   "outputs": [
    {
     "data": {
      "text/html": [
       "<div>\n",
       "<style scoped>\n",
       "    .dataframe tbody tr th:only-of-type {\n",
       "        vertical-align: middle;\n",
       "    }\n",
       "\n",
       "    .dataframe tbody tr th {\n",
       "        vertical-align: top;\n",
       "    }\n",
       "\n",
       "    .dataframe thead th {\n",
       "        text-align: right;\n",
       "    }\n",
       "</style>\n",
       "<table border=\"1\" class=\"dataframe\">\n",
       "  <thead>\n",
       "    <tr style=\"text-align: right;\">\n",
       "      <th></th>\n",
       "      <th>0</th>\n",
       "      <th>1</th>\n",
       "      <th>2</th>\n",
       "      <th>3</th>\n",
       "    </tr>\n",
       "  </thead>\n",
       "  <tbody>\n",
       "    <tr>\n",
       "      <th>0</th>\n",
       "      <td>1.0</td>\n",
       "      <td>41.0</td>\n",
       "      <td>49600.0</td>\n",
       "      <td>1.0</td>\n",
       "    </tr>\n",
       "    <tr>\n",
       "      <th>1</th>\n",
       "      <td>0.0</td>\n",
       "      <td>46.0</td>\n",
       "      <td>38000.0</td>\n",
       "      <td>1.0</td>\n",
       "    </tr>\n",
       "    <tr>\n",
       "      <th>2</th>\n",
       "      <td>0.0</td>\n",
       "      <td>29.0</td>\n",
       "      <td>21000.0</td>\n",
       "      <td>0.0</td>\n",
       "    </tr>\n",
       "    <tr>\n",
       "      <th>3</th>\n",
       "      <td>0.0</td>\n",
       "      <td>21.0</td>\n",
       "      <td>41700.0</td>\n",
       "      <td>2.0</td>\n",
       "    </tr>\n",
       "    <tr>\n",
       "      <th>4</th>\n",
       "      <td>1.0</td>\n",
       "      <td>28.0</td>\n",
       "      <td>26100.0</td>\n",
       "      <td>0.0</td>\n",
       "    </tr>\n",
       "  </tbody>\n",
       "</table>\n",
       "</div>"
      ],
      "text/plain": [
       "     0     1        2    3\n",
       "0  1.0  41.0  49600.0  1.0\n",
       "1  0.0  46.0  38000.0  1.0\n",
       "2  0.0  29.0  21000.0  0.0\n",
       "3  0.0  21.0  41700.0  2.0\n",
       "4  1.0  28.0  26100.0  0.0"
      ]
     },
     "execution_count": 14,
     "metadata": {},
     "output_type": "execute_result"
    }
   ],
   "source": [
    "features_key.head()"
   ]
  },
  {
   "cell_type": "code",
   "execution_count": 15,
   "metadata": {},
   "outputs": [
    {
     "data": {
      "text/html": [
       "<div>\n",
       "<style scoped>\n",
       "    .dataframe tbody tr th:only-of-type {\n",
       "        vertical-align: middle;\n",
       "    }\n",
       "\n",
       "    .dataframe tbody tr th {\n",
       "        vertical-align: top;\n",
       "    }\n",
       "\n",
       "    .dataframe thead th {\n",
       "        text-align: right;\n",
       "    }\n",
       "</style>\n",
       "<table border=\"1\" class=\"dataframe\">\n",
       "  <thead>\n",
       "    <tr style=\"text-align: right;\">\n",
       "      <th></th>\n",
       "      <th>Пол</th>\n",
       "      <th>Возраст</th>\n",
       "      <th>Зарплата</th>\n",
       "      <th>Члены семьи</th>\n",
       "    </tr>\n",
       "  </thead>\n",
       "  <tbody>\n",
       "    <tr>\n",
       "      <th>0</th>\n",
       "      <td>1</td>\n",
       "      <td>41.0</td>\n",
       "      <td>49600.0</td>\n",
       "      <td>1</td>\n",
       "    </tr>\n",
       "    <tr>\n",
       "      <th>1</th>\n",
       "      <td>0</td>\n",
       "      <td>46.0</td>\n",
       "      <td>38000.0</td>\n",
       "      <td>1</td>\n",
       "    </tr>\n",
       "    <tr>\n",
       "      <th>2</th>\n",
       "      <td>0</td>\n",
       "      <td>29.0</td>\n",
       "      <td>21000.0</td>\n",
       "      <td>0</td>\n",
       "    </tr>\n",
       "    <tr>\n",
       "      <th>3</th>\n",
       "      <td>0</td>\n",
       "      <td>21.0</td>\n",
       "      <td>41700.0</td>\n",
       "      <td>2</td>\n",
       "    </tr>\n",
       "    <tr>\n",
       "      <th>4</th>\n",
       "      <td>1</td>\n",
       "      <td>28.0</td>\n",
       "      <td>26100.0</td>\n",
       "      <td>0</td>\n",
       "    </tr>\n",
       "  </tbody>\n",
       "</table>\n",
       "</div>"
      ],
      "text/plain": [
       "   Пол  Возраст  Зарплата  Члены семьи\n",
       "0    1     41.0   49600.0            1\n",
       "1    0     46.0   38000.0            1\n",
       "2    0     29.0   21000.0            0\n",
       "3    0     21.0   41700.0            2\n",
       "4    1     28.0   26100.0            0"
      ]
     },
     "execution_count": 15,
     "metadata": {},
     "output_type": "execute_result"
    }
   ],
   "source": [
    "features.head()"
   ]
  },
  {
   "cell_type": "markdown",
   "metadata": {},
   "source": [
    "Получили исходные значения признаков, значит, кодирование и декодирование работает верно.\n",
    "\n",
    "#### Проверка на Линейной регрессии:"
   ]
  },
  {
   "cell_type": "code",
   "execution_count": 16,
   "metadata": {},
   "outputs": [
    {
     "data": {
      "text/plain": [
       "0.4302010044852066"
      ]
     },
     "execution_count": 16,
     "metadata": {},
     "output_type": "execute_result"
    }
   ],
   "source": [
    "model = LinearRegression()\n",
    "model.fit(features, target)\n",
    "pred = model.predict(features)\n",
    "r2_score(target, pred)"
   ]
  },
  {
   "cell_type": "code",
   "execution_count": 17,
   "metadata": {},
   "outputs": [
    {
     "data": {
      "text/plain": [
       "0.43020100448520804"
      ]
     },
     "execution_count": 17,
     "metadata": {},
     "output_type": "execute_result"
    }
   ],
   "source": [
    "model = LinearRegression()\n",
    "model.fit(features_cipher, target)\n",
    "pred_cipher = model.predict(features_cipher)\n",
    "r2_score(target, pred_cipher)"
   ]
  },
  {
   "cell_type": "markdown",
   "metadata": {},
   "source": [
    "Качество обучения модели по исходным и закодированным признакам совпадает, следовательно, метод кодировки-рабочий и не мещает обучению модели."
   ]
  },
  {
   "cell_type": "markdown",
   "metadata": {},
   "source": [
    "### Вывод."
   ]
  },
  {
   "cell_type": "markdown",
   "metadata": {},
   "source": [
    "В ходе проделанной работы нами был разработан метод защиты данных клиентов страховой компании «Хоть потоп». \n",
    "\n",
    "Данные преобразованы таким образом, что по ним сложно восстановить исходную информацию - для этого дребуется специальный ключ-дешифратор - квадратная матрица, подходящая под условия шифрования, подобрать ее крайне сложно, тк генерация ключа и дешифратора будет происходить заново с каждым запуском функции.\n",
    "\n",
    "Так же в работе было выявлено, что шифрование данных не ухудшает качество обучения машинного обучения, что было проверено на Линейной регресси."
   ]
  }
 ],
 "metadata": {
  "ExecuteTimeLog": [
   {
    "duration": 422,
    "start_time": "2023-04-27T15:27:33.887Z"
   },
   {
    "duration": 117,
    "start_time": "2023-04-27T15:28:09.546Z"
   },
   {
    "duration": 17,
    "start_time": "2023-04-27T15:28:22.354Z"
   },
   {
    "duration": 11,
    "start_time": "2023-04-27T15:32:03.391Z"
   },
   {
    "duration": 6,
    "start_time": "2023-04-27T15:32:19.758Z"
   },
   {
    "duration": 5,
    "start_time": "2023-04-27T15:32:38.080Z"
   },
   {
    "duration": 6,
    "start_time": "2023-04-27T16:37:29.814Z"
   },
   {
    "duration": 62,
    "start_time": "2023-04-27T16:37:56.223Z"
   },
   {
    "duration": 7,
    "start_time": "2023-04-27T16:38:00.925Z"
   },
   {
    "duration": 4,
    "start_time": "2023-04-27T16:38:05.702Z"
   },
   {
    "duration": 1217,
    "start_time": "2023-04-27T20:58:41.603Z"
   },
   {
    "duration": 120,
    "start_time": "2023-04-27T20:58:42.822Z"
   },
   {
    "duration": 18,
    "start_time": "2023-04-27T20:58:42.944Z"
   },
   {
    "duration": 13,
    "start_time": "2023-04-27T20:58:42.963Z"
   },
   {
    "duration": 21,
    "start_time": "2023-04-27T20:58:42.978Z"
   },
   {
    "duration": 7,
    "start_time": "2023-04-27T20:58:43.001Z"
   },
   {
    "duration": 9,
    "start_time": "2023-04-27T20:58:43.010Z"
   },
   {
    "duration": 18,
    "start_time": "2023-04-27T20:58:43.020Z"
   },
   {
    "duration": 7,
    "start_time": "2023-04-27T20:58:43.041Z"
   },
   {
    "duration": 4,
    "start_time": "2023-04-27T21:01:26.244Z"
   },
   {
    "duration": 4,
    "start_time": "2023-04-27T21:02:05.802Z"
   },
   {
    "duration": 10,
    "start_time": "2023-04-27T21:02:18.924Z"
   },
   {
    "duration": 3,
    "start_time": "2023-04-27T21:03:03.055Z"
   },
   {
    "duration": 11,
    "start_time": "2023-04-27T21:03:14.080Z"
   },
   {
    "duration": 10,
    "start_time": "2023-04-27T21:03:51.607Z"
   },
   {
    "duration": 102,
    "start_time": "2023-04-27T21:04:44.916Z"
   },
   {
    "duration": 3,
    "start_time": "2023-04-27T21:05:03.546Z"
   },
   {
    "duration": 7,
    "start_time": "2023-04-27T21:05:41.611Z"
   },
   {
    "duration": 10,
    "start_time": "2023-04-27T21:05:42.189Z"
   },
   {
    "duration": 9,
    "start_time": "2023-04-27T21:05:45.248Z"
   },
   {
    "duration": 8,
    "start_time": "2023-04-27T21:09:47.385Z"
   },
   {
    "duration": 10,
    "start_time": "2023-04-27T21:09:48.334Z"
   },
   {
    "duration": 18,
    "start_time": "2023-04-27T21:37:00.504Z"
   },
   {
    "duration": 16,
    "start_time": "2023-04-27T21:37:01.602Z"
   },
   {
    "duration": 16,
    "start_time": "2023-04-27T21:37:10.039Z"
   },
   {
    "duration": 2340,
    "start_time": "2023-04-28T18:32:48.359Z"
   },
   {
    "duration": 118,
    "start_time": "2023-04-28T18:32:50.701Z"
   },
   {
    "duration": 15,
    "start_time": "2023-04-28T18:32:50.821Z"
   },
   {
    "duration": 15,
    "start_time": "2023-04-28T18:32:50.838Z"
   },
   {
    "duration": 16,
    "start_time": "2023-04-28T18:32:50.856Z"
   },
   {
    "duration": 12,
    "start_time": "2023-04-28T18:32:50.874Z"
   },
   {
    "duration": 8,
    "start_time": "2023-04-28T18:32:50.887Z"
   },
   {
    "duration": 13,
    "start_time": "2023-04-28T18:32:50.897Z"
   },
   {
    "duration": 10,
    "start_time": "2023-04-28T18:32:50.911Z"
   },
   {
    "duration": 7,
    "start_time": "2023-04-28T18:32:50.923Z"
   },
   {
    "duration": 24,
    "start_time": "2023-04-28T18:32:50.932Z"
   },
   {
    "duration": 17,
    "start_time": "2023-04-28T18:32:50.958Z"
   },
   {
    "duration": 82,
    "start_time": "2023-04-28T18:32:50.977Z"
   },
   {
    "duration": 30,
    "start_time": "2023-04-28T18:32:51.061Z"
   },
   {
    "duration": 21,
    "start_time": "2023-04-28T18:32:51.093Z"
   },
   {
    "duration": 39,
    "start_time": "2023-04-28T18:32:51.116Z"
   },
   {
    "duration": 102,
    "start_time": "2023-04-28T18:32:51.162Z"
   },
   {
    "duration": 2523,
    "start_time": "2023-04-29T04:35:47.414Z"
   },
   {
    "duration": 76,
    "start_time": "2023-04-29T04:35:49.940Z"
   },
   {
    "duration": 15,
    "start_time": "2023-04-29T04:35:50.017Z"
   },
   {
    "duration": 36,
    "start_time": "2023-04-29T04:35:50.034Z"
   },
   {
    "duration": 20,
    "start_time": "2023-04-29T04:35:50.071Z"
   },
   {
    "duration": 14,
    "start_time": "2023-04-29T04:35:50.092Z"
   },
   {
    "duration": 22,
    "start_time": "2023-04-29T04:35:50.107Z"
   },
   {
    "duration": 28,
    "start_time": "2023-04-29T04:35:50.131Z"
   },
   {
    "duration": 5,
    "start_time": "2023-04-29T04:35:50.160Z"
   },
   {
    "duration": 6,
    "start_time": "2023-04-29T04:35:50.168Z"
   },
   {
    "duration": 59,
    "start_time": "2023-04-29T04:35:50.176Z"
   },
   {
    "duration": 12,
    "start_time": "2023-04-29T04:35:50.236Z"
   },
   {
    "duration": 87,
    "start_time": "2023-04-29T04:35:50.250Z"
   },
   {
    "duration": 15,
    "start_time": "2023-04-29T04:35:50.338Z"
   },
   {
    "duration": 10,
    "start_time": "2023-04-29T04:35:50.355Z"
   },
   {
    "duration": 18,
    "start_time": "2023-04-29T04:35:50.366Z"
   },
   {
    "duration": 62,
    "start_time": "2023-04-29T04:35:50.386Z"
   }
  ],
  "kernelspec": {
   "display_name": "Python 3 (ipykernel)",
   "language": "python",
   "name": "python3"
  },
  "language_info": {
   "codemirror_mode": {
    "name": "ipython",
    "version": 3
   },
   "file_extension": ".py",
   "mimetype": "text/x-python",
   "name": "python",
   "nbconvert_exporter": "python",
   "pygments_lexer": "ipython3",
   "version": "3.9.12"
  },
  "toc": {
   "base_numbering": 1,
   "nav_menu": {},
   "number_sections": true,
   "sideBar": true,
   "skip_h1_title": true,
   "title_cell": "Содержание",
   "title_sidebar": "Contents",
   "toc_cell": true,
   "toc_position": {},
   "toc_section_display": true,
   "toc_window_display": false
  }
 },
 "nbformat": 4,
 "nbformat_minor": 2
}
