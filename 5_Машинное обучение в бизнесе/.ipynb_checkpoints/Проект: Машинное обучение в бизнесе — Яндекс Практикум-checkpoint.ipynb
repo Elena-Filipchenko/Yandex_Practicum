{
 "cells": [
  {
   "cell_type": "markdown",
   "metadata": {},
   "source": [
    "# Выбор локации для скважины"
   ]
  },
  {
   "cell_type": "markdown",
   "metadata": {},
   "source": [
    "Допустим, вы работаете в добывающей компании «ГлавРосГосНефть». Нужно решить, где бурить новую скважину.\n",
    "\n",
    "Вам предоставлены пробы нефти в трёх регионах: в каждом 10 000 месторождений, где измерили качество нефти и объём её запасов. Постройте модель машинного обучения, которая поможет определить регион, где добыча принесёт наибольшую прибыль. Проанализируйте возможную прибыль и риски техникой *Bootstrap.*\n",
    "\n",
    "Шаги для выбора локации:\n",
    "\n",
    "- В избранном регионе ищут месторождения, для каждого определяют значения признаков;\n",
    "- Строят модель и оценивают объём запасов;\n",
    "- Выбирают месторождения с самым высокими оценками значений. Количество месторождений зависит от бюджета компании и стоимости разработки одной скважины;\n",
    "- Прибыль равна суммарной прибыли отобранных месторождений."
   ]
  },
  {
   "cell_type": "markdown",
   "metadata": {},
   "source": [
    "## Описание данных"
   ]
  },
  {
   "cell_type": "markdown",
   "metadata": {},
   "source": [
    "Данные геологоразведки трёх регионов находятся в файлах: \n",
    "/datasets/geo_data_0.csv. \n",
    "/datasets/geo_data_1.csv. \n",
    "/datasets/geo_data_2.csv. \n",
    "id — уникальный идентификатор скважины;\n",
    "f0, f1, f2 — три признака точек (неважно, что они означают, но сами признаки значимы);\n",
    "product — объём запасов в скважине (тыс. баррелей)."
   ]
  },
  {
   "cell_type": "markdown",
   "metadata": {},
   "source": [
    "## Ход работы"
   ]
  },
  {
   "cell_type": "markdown",
   "metadata": {},
   "source": [
    "В ходе работы будут проанализированы 3 датасета, при необходимости произведется очистка данных. Для анализа прибыли будут обучены модели, определяющие запасы нефти в каждом регионе, так же будут оценены риски для каждого региона. После проделанной работы будет предложен регион для разработки."
   ]
  },
  {
   "cell_type": "markdown",
   "metadata": {},
   "source": [
    "## Загрузка и подготовка данных"
   ]
  },
  {
   "cell_type": "code",
   "execution_count": 1,
   "metadata": {},
   "outputs": [
    {
     "data": {
      "text/html": [
       "<style>.container { width:90% !important; }</style>"
      ],
      "text/plain": [
       "<IPython.core.display.HTML object>"
      ]
     },
     "metadata": {},
     "output_type": "display_data"
    }
   ],
   "source": [
    "import pandas as pd\n",
    "import seaborn as sns\n",
    "import numpy as np\n",
    "import matplotlib.pyplot as plt\n",
    "\n",
    "from sklearn.model_selection import train_test_split\n",
    "from sklearn.metrics import mean_squared_error\n",
    "from sklearn.model_selection import GridSearchCV\n",
    "from sklearn.linear_model import LinearRegression\n",
    "from numpy.random import RandomState\n",
    "\n",
    "state = RandomState(12345)\n",
    "\n",
    "from IPython.core.display import display, HTML\n",
    "display(HTML(\"<style>.container { width:90% !important; }</style>\"))"
   ]
  },
  {
   "cell_type": "code",
   "execution_count": 2,
   "metadata": {},
   "outputs": [],
   "source": [
    "data0 = pd.read_csv('/datasets/geo_data_0.csv')\n",
    "data1 = pd.read_csv('/datasets/geo_data_1.csv')\n",
    "data2 = pd.read_csv('/datasets/geo_data_2.csv')"
   ]
  },
  {
   "cell_type": "markdown",
   "metadata": {},
   "source": [
    "Напишем функцию для вывода на экран основной информации по датасетам:"
   ]
  },
  {
   "cell_type": "code",
   "execution_count": 3,
   "metadata": {},
   "outputs": [],
   "source": [
    "def inform(data):\n",
    "    print(data.info(),\n",
    "         '\\n\\n Первые 5 строк датасета: \\n', data.head(),   \n",
    "         '\\n\\n Разброс данных по столбцам: \\n', data.describe(),  \n",
    "         '\\n\\n Наличие пропусков: \\n', data.isna().sum(),\n",
    "         '\\n\\n Корреляция данных: \\n', data.corr(),\n",
    "         '\\n\\n Ящик с усами f0: \\n', sns.boxplot(data=data['f0']),\n",
    "          plt.show(),\n",
    "          '\\n\\n Ящик с усами f1: \\n', sns.boxplot(data=data['f1']),\n",
    "          plt.show(),\n",
    "          '\\n\\n Ящик с усами f2: \\n', sns.boxplot(data=data['f2']),\n",
    "          plt.show(),\n",
    "          '\\n\\n Ящик с усами product: \\n', sns.boxplot(data=data['product']),\n",
    "          plt.show(),\n",
    "         '\\n\\n Гистограмма распределения объёма запасов в скважине (тыс. баррелей): \\n', data['product'].hist(bins = 300, figsize=[9,5]))"
   ]
  },
  {
   "cell_type": "code",
   "execution_count": 4,
   "metadata": {},
   "outputs": [
    {
     "name": "stdout",
     "output_type": "stream",
     "text": [
      "<class 'pandas.core.frame.DataFrame'>\n",
      "RangeIndex: 100000 entries, 0 to 99999\n",
      "Data columns (total 5 columns):\n",
      " #   Column   Non-Null Count   Dtype  \n",
      "---  ------   --------------   -----  \n",
      " 0   id       100000 non-null  object \n",
      " 1   f0       100000 non-null  float64\n",
      " 2   f1       100000 non-null  float64\n",
      " 3   f2       100000 non-null  float64\n",
      " 4   product  100000 non-null  float64\n",
      "dtypes: float64(4), object(1)\n",
      "memory usage: 3.8+ MB\n"
     ]
    },
    {
     "data": {
      "image/png": "[encoded data removed]",
      "text/plain": [
       "<Figure size 432x288 with 1 Axes>"
      ]
     },
     "metadata": {
      "needs_background": "light"
     },
     "output_type": "display_data"
    },
    {
     "data": {
      "image/png": "[encoded data removed]",
      "text/plain": [
       "<Figure size 432x288 with 1 Axes>"
      ]
     },
     "metadata": {
      "needs_background": "light"
     },
     "output_type": "display_data"
    },
    {
     "data": {
      "image/png": "[encoded data removed]",
      "text/plain": [
       "<Figure size 432x288 with 1 Axes>"
      ]
     },
     "metadata": {
      "needs_background": "light"
     },
     "output_type": "display_data"
    },
    {
     "data": {
      "image/png": "[encoded data removed]",
      "text/plain": [
       "<Figure size 432x288 with 1 Axes>"
      ]
     },
     "metadata": {
      "needs_background": "light"
     },
     "output_type": "display_data"
    },
    {
     "name": "stdout",
     "output_type": "stream",
     "text": [
      "None \n",
      "\n",
      " Первые 5 строк датасета: \n",
      "       id        f0        f1        f2     product\n",
      "0  txEyH  0.705745 -0.497823  1.221170  105.280062\n",
      "1  2acmU  1.334711 -0.340164  4.365080   73.037750\n",
      "2  409Wp  1.022732  0.151990  1.419926   85.265647\n",
      "3  iJLyR -0.032172  0.139033  2.978566  168.620776\n",
      "4  Xdl7t  1.988431  0.155413  4.751769  154.036647 \n",
      "\n",
      " Разброс данных по столбцам: \n",
      "                   f0             f1             f2        product\n",
      "count  100000.000000  100000.000000  100000.000000  100000.000000\n",
      "mean        0.500419       0.250143       2.502647      92.500000\n",
      "std         0.871832       0.504433       3.248248      44.288691\n",
      "min        -1.408605      -0.848218     -12.088328       0.000000\n",
      "25%        -0.072580      -0.200881       0.287748      56.497507\n",
      "50%         0.502360       0.250252       2.515969      91.849972\n",
      "75%         1.073581       0.700646       4.715088     128.564089\n",
      "max         2.362331       1.343769      16.003790     185.364347 \n",
      "\n",
      " Наличие пропусков: \n",
      " id         0\n",
      "f0         0\n",
      "f1         0\n",
      "f2         0\n",
      "product    0\n",
      "dtype: int64 \n",
      "\n",
      " Корреляция данных: \n",
      "                f0        f1        f2   product\n",
      "f0       1.000000 -0.440723 -0.003153  0.143536\n",
      "f1      -0.440723  1.000000  0.001724 -0.192356\n",
      "f2      -0.003153  0.001724  1.000000  0.483663\n",
      "product  0.143536 -0.192356  0.483663  1.000000 \n",
      "\n",
      " Ящик с усами f0: \n",
      " AxesSubplot(0.125,0.125;0.775x0.755) None \n",
      "\n",
      " Ящик с усами f1: \n",
      " AxesSubplot(0.125,0.125;0.775x0.755) None \n",
      "\n",
      " Ящик с усами f2: \n",
      " AxesSubplot(0.125,0.125;0.775x0.755) None \n",
      "\n",
      " Ящик с усами product: \n",
      " AxesSubplot(0.125,0.125;0.775x0.755) None \n",
      "\n",
      " Гистограмма распределения объёма запасов в скважине (тыс. баррелей): \n",
      " AxesSubplot(0.125,0.125;0.775x0.755)\n"
     ]
    },
    {
     "data": {
      "image/png": "[encoded data removed]",
      "text/plain": [
       "<Figure size 648x360 with 1 Axes>"
      ]
     },
     "metadata": {
      "needs_background": "light"
     },
     "output_type": "display_data"
    }
   ],
   "source": [
    "inform(data0)"
   ]
  },
  {
   "cell_type": "code",
   "execution_count": 5,
   "metadata": {},
   "outputs": [
    {
     "name": "stdout",
     "output_type": "stream",
     "text": [
      "<class 'pandas.core.frame.DataFrame'>\n",
      "RangeIndex: 100000 entries, 0 to 99999\n",
      "Data columns (total 5 columns):\n",
      " #   Column   Non-Null Count   Dtype  \n",
      "---  ------   --------------   -----  \n",
      " 0   id       100000 non-null  object \n",
      " 1   f0       100000 non-null  float64\n",
      " 2   f1       100000 non-null  float64\n",
      " 3   f2       100000 non-null  float64\n",
      " 4   product  100000 non-null  float64\n",
      "dtypes: float64(4), object(1)\n",
      "memory usage: 3.8+ MB\n"
     ]
    },
    {
     "data": {
      "image/png": "[encoded data removed]",
      "text/plain": [
       "<Figure size 432x288 with 1 Axes>"
      ]
     },
     "metadata": {
      "needs_background": "light"
     },
     "output_type": "display_data"
    },
    {
     "data": {
      "image/png": "[encoded data removed]",
      "text/plain": [
       "<Figure size 432x288 with 1 Axes>"
      ]
     },
     "metadata": {
      "needs_background": "light"
     },
     "output_type": "display_data"
    },
    {
     "data": {
      "image/png": "[encoded data removed]",
      "text/plain": [
       "<Figure size 432x288 with 1 Axes>"
      ]
     },
     "metadata": {
      "needs_background": "light"
     },
     "output_type": "display_data"
    },
    {
     "data": {
      "image/png": "[encoded data removed]",
      "text/plain": [
       "<Figure size 432x288 with 1 Axes>"
      ]
     },
     "metadata": {
      "needs_background": "light"
     },
     "output_type": "display_data"
    },
    {
     "name": "stdout",
     "output_type": "stream",
     "text": [
      "None \n",
      "\n",
      " Первые 5 строк датасета: \n",
      "       id         f0         f1        f2     product\n",
      "0  kBEdx -15.001348  -8.276000 -0.005876    3.179103\n",
      "1  62mP7  14.272088  -3.475083  0.999183   26.953261\n",
      "2  vyE1P   6.263187  -5.948386  5.001160  134.766305\n",
      "3  KcrkZ -13.081196 -11.506057  4.999415  137.945408\n",
      "4  AHL4O  12.702195  -8.147433  5.004363  134.766305 \n",
      "\n",
      " Разброс данных по столбцам: \n",
      "                   f0             f1             f2        product\n",
      "count  100000.000000  100000.000000  100000.000000  100000.000000\n",
      "mean        1.141296      -4.796579       2.494541      68.825000\n",
      "std         8.965932       5.119872       1.703572      45.944423\n",
      "min       -31.609576     -26.358598      -0.018144       0.000000\n",
      "25%        -6.298551      -8.267985       1.000021      26.953261\n",
      "50%         1.153055      -4.813172       2.011479      57.085625\n",
      "75%         8.621015      -1.332816       3.999904     107.813044\n",
      "max        29.421755      18.734063       5.019721     137.945408 \n",
      "\n",
      " Наличие пропусков: \n",
      " id         0\n",
      "f0         0\n",
      "f1         0\n",
      "f2         0\n",
      "product    0\n",
      "dtype: int64 \n",
      "\n",
      " Корреляция данных: \n",
      "                f0        f1        f2   product\n",
      "f0       1.000000  0.182287 -0.001777 -0.030491\n",
      "f1       0.182287  1.000000 -0.002595 -0.010155\n",
      "f2      -0.001777 -0.002595  1.000000  0.999397\n",
      "product -0.030491 -0.010155  0.999397  1.000000 \n",
      "\n",
      " Ящик с усами f0: \n",
      " AxesSubplot(0.125,0.125;0.775x0.755) None \n",
      "\n",
      " Ящик с усами f1: \n",
      " AxesSubplot(0.125,0.125;0.775x0.755) None \n",
      "\n",
      " Ящик с усами f2: \n",
      " AxesSubplot(0.125,0.125;0.775x0.755) None \n",
      "\n",
      " Ящик с усами product: \n",
      " AxesSubplot(0.125,0.125;0.775x0.755) None \n",
      "\n",
      " Гистограмма распределения объёма запасов в скважине (тыс. баррелей): \n",
      " AxesSubplot(0.125,0.125;0.775x0.755)\n"
     ]
    },
    {
     "data": {
      "image/png": "[encoded data removed]",
      "text/plain": [
       "<Figure size 648x360 with 1 Axes>"
      ]
     },
     "metadata": {
      "needs_background": "light"
     },
     "output_type": "display_data"
    }
   ],
   "source": [
    "inform(data1)"
   ]
  },
  {
   "cell_type": "code",
   "execution_count": 6,
   "metadata": {},
   "outputs": [
    {
     "name": "stdout",
     "output_type": "stream",
     "text": [
      "<class 'pandas.core.frame.DataFrame'>\n",
      "RangeIndex: 100000 entries, 0 to 99999\n",
      "Data columns (total 5 columns):\n",
      " #   Column   Non-Null Count   Dtype  \n",
      "---  ------   --------------   -----  \n",
      " 0   id       100000 non-null  object \n",
      " 1   f0       100000 non-null  float64\n",
      " 2   f1       100000 non-null  float64\n",
      " 3   f2       100000 non-null  float64\n",
      " 4   product  100000 non-null  float64\n",
      "dtypes: float64(4), object(1)\n",
      "memory usage: 3.8+ MB\n"
     ]
    },
    {
     "data": {
      "image/png": "[encoded data removed]",
      "text/plain": [
       "<Figure size 432x288 with 1 Axes>"
      ]
     },
     "metadata": {
      "needs_background": "light"
     },
     "output_type": "display_data"
    },
    {
     "data": {
      "image/png": "[encoded data removed]",
      "text/plain": [
       "<Figure size 432x288 with 1 Axes>"
      ]
     },
     "metadata": {
      "needs_background": "light"
     },
     "output_type": "display_data"
    },
    {
     "data": {
      "image/png": "[encoded data removed]",
      "text/plain": [
       "<Figure size 432x288 with 1 Axes>"
      ]
     },
     "metadata": {
      "needs_background": "light"
     },
     "output_type": "display_data"
    },
    {
     "data": {
      "image/png": "[encoded data removed]",
      "text/plain": [
       "<Figure size 432x288 with 1 Axes>"
      ]
     },
     "metadata": {
      "needs_background": "light"
     },
     "output_type": "display_data"
    },
    {
     "name": "stdout",
     "output_type": "stream",
     "text": [
      "None \n",
      "\n",
      " Первые 5 строк датасета: \n",
      "       id        f0        f1        f2     product\n",
      "0  fwXo0 -1.146987  0.963328 -0.828965   27.758673\n",
      "1  WJtFt  0.262778  0.269839 -2.530187   56.069697\n",
      "2  ovLUW  0.194587  0.289035 -5.586433   62.871910\n",
      "3  q6cA6  2.236060 -0.553760  0.930038  114.572842\n",
      "4  WPMUX -0.515993  1.716266  5.899011  149.600746 \n",
      "\n",
      " Разброс данных по столбцам: \n",
      "                   f0             f1             f2        product\n",
      "count  100000.000000  100000.000000  100000.000000  100000.000000\n",
      "mean        0.002023      -0.002081       2.495128      95.000000\n",
      "std         1.732045       1.730417       3.473445      44.749921\n",
      "min        -8.760004      -7.084020     -11.970335       0.000000\n",
      "25%        -1.162288      -1.174820       0.130359      59.450441\n",
      "50%         0.009424      -0.009482       2.484236      94.925613\n",
      "75%         1.158535       1.163678       4.858794     130.595027\n",
      "max         7.238262       7.844801      16.739402     190.029838 \n",
      "\n",
      " Наличие пропусков: \n",
      " id         0\n",
      "f0         0\n",
      "f1         0\n",
      "f2         0\n",
      "product    0\n",
      "dtype: int64 \n",
      "\n",
      " Корреляция данных: \n",
      "                f0        f1        f2   product\n",
      "f0       1.000000  0.000528 -0.000448 -0.001987\n",
      "f1       0.000528  1.000000  0.000779 -0.001012\n",
      "f2      -0.000448  0.000779  1.000000  0.445871\n",
      "product -0.001987 -0.001012  0.445871  1.000000 \n",
      "\n",
      " Ящик с усами f0: \n",
      " AxesSubplot(0.125,0.125;0.775x0.755) None \n",
      "\n",
      " Ящик с усами f1: \n",
      " AxesSubplot(0.125,0.125;0.775x0.755) None \n",
      "\n",
      " Ящик с усами f2: \n",
      " AxesSubplot(0.125,0.125;0.775x0.755) None \n",
      "\n",
      " Ящик с усами product: \n",
      " AxesSubplot(0.125,0.125;0.775x0.755) None \n",
      "\n",
      " Гистограмма распределения объёма запасов в скважине (тыс. баррелей): \n",
      " AxesSubplot(0.125,0.125;0.775x0.755)\n"
     ]
    },
    {
     "data": {
      "image/png": "[encoded data removed]",
      "text/plain": [
       "<Figure size 648x360 with 1 Axes>"
      ]
     },
     "metadata": {
      "needs_background": "light"
     },
     "output_type": "display_data"
    }
   ],
   "source": [
    "inform(data2)"
   ]
  },
  {
   "cell_type": "markdown",
   "metadata": {},
   "source": [
    "Во всех датасетах по 10000 строк, пропусков нет, названия колонок одинаковые. \n",
    "В некоторых столбцах есть так назывыемые \"выбросы\", их необходимо удалить, что бы они не мешали модели обучаться."
   ]
  },
  {
   "cell_type": "markdown",
   "metadata": {},
   "source": [
    "#### Удаление строк с выбросами:"
   ]
  },
  {
   "cell_type": "code",
   "execution_count": 7,
   "metadata": {},
   "outputs": [],
   "source": [
    "def cleaning(data, column):\n",
    "    Q1 =  data[column].quantile(0.25)\n",
    "    Q3 = data[column].quantile(0.75)\n",
    "    IQR = Q3 - Q1\n",
    "    data[column] = data[(data[column] > Q1-1.5*IQR ) & (data[column] < Q3+1.5*IQR)][column]\n",
    "    data = data.dropna().reset_index(drop=True)\n",
    "    return data "
   ]
  },
  {
   "cell_type": "code",
   "execution_count": 8,
   "metadata": {},
   "outputs": [],
   "source": [
    "#data0 = cleaning(data0, 'f2')"
   ]
  },
  {
   "cell_type": "code",
   "execution_count": 9,
   "metadata": {},
   "outputs": [],
   "source": [
    "#data1 = cleaning(data1, 'f0')\n",
    "#data1 = cleaning(data1, 'f1')"
   ]
  },
  {
   "cell_type": "code",
   "execution_count": 10,
   "metadata": {},
   "outputs": [],
   "source": [
    "#data2 = cleaning(data2, 'f0')\n",
    "#data2 = cleaning(data2, 'f1')\n",
    "#data2 = cleaning(data2, 'f2')"
   ]
  },
  {
   "cell_type": "markdown",
   "metadata": {},
   "source": [
    "Итак, все датасеты очищены от выбросов, потеря данных не превышает 2%, можно начинать обучать модель."
   ]
  },
  {
   "cell_type": "markdown",
   "metadata": {},
   "source": [
    "<div class=\"alert alert-block alert-info\">\n",
    "<b> \n",
    "Закомментила, но не стала удалять. Но как тогда понять, что стоит удалять, а что оставить?\n",
    "</div>\n",
    "\n"
   ]
  },
  {
   "cell_type": "markdown",
   "metadata": {},
   "source": [
    "<div class=\"alert alert-success\">\n",
    "<h2> Комментарий ревьюера v2 ✔️ <a class=\"tocSkip\"> </h2>\n",
    "\n",
    "Здесь у нас распределение красивое и не имеет каких-то артефактов. Вот ниже пример с некоторым выбросом, который хорошо бы убрать\n",
    "    \n",
    "![](https://i.ibb.co/FhJ9PRP/image.png)"
   ]
  },
  {
   "cell_type": "markdown",
   "metadata": {},
   "source": [
    "#### Проверка дубликатов"
   ]
  },
  {
   "cell_type": "code",
   "execution_count": 11,
   "metadata": {},
   "outputs": [
    {
     "data": {
      "text/plain": [
       "10"
      ]
     },
     "execution_count": 11,
     "metadata": {},
     "output_type": "execute_result"
    }
   ],
   "source": [
    "data0['id'].duplicated().sum()"
   ]
  },
  {
   "cell_type": "code",
   "execution_count": 12,
   "metadata": {},
   "outputs": [
    {
     "data": {
      "text/plain": [
       "4"
      ]
     },
     "execution_count": 12,
     "metadata": {},
     "output_type": "execute_result"
    }
   ],
   "source": [
    "data1['id'].duplicated().sum()"
   ]
  },
  {
   "cell_type": "code",
   "execution_count": 13,
   "metadata": {},
   "outputs": [
    {
     "data": {
      "text/plain": [
       "4"
      ]
     },
     "execution_count": 13,
     "metadata": {},
     "output_type": "execute_result"
    }
   ],
   "source": [
    "data2['id'].duplicated().sum()"
   ]
  },
  {
   "cell_type": "markdown",
   "metadata": {},
   "source": [
    "#### Удаление дубликатов"
   ]
  },
  {
   "cell_type": "code",
   "execution_count": 14,
   "metadata": {},
   "outputs": [
    {
     "data": {
      "text/plain": [
       "0        txEyH\n",
       "1        2acmU\n",
       "2        409Wp\n",
       "3        iJLyR\n",
       "4        Xdl7t\n",
       "         ...  \n",
       "99995    DLsed\n",
       "99996    QKivN\n",
       "99997    3rnvd\n",
       "99998    7kl59\n",
       "99999    1CWhH\n",
       "Name: id, Length: 99990, dtype: object"
      ]
     },
     "execution_count": 14,
     "metadata": {},
     "output_type": "execute_result"
    }
   ],
   "source": [
    "data0['id'].drop_duplicates()"
   ]
  },
  {
   "cell_type": "code",
   "execution_count": 15,
   "metadata": {},
   "outputs": [
    {
     "data": {
      "text/plain": [
       "0        kBEdx\n",
       "1        62mP7\n",
       "2        vyE1P\n",
       "3        KcrkZ\n",
       "4        AHL4O\n",
       "         ...  \n",
       "99995    QywKC\n",
       "99996    ptvty\n",
       "99997    09gWa\n",
       "99998    rqwUm\n",
       "99999    relB0\n",
       "Name: id, Length: 99996, dtype: object"
      ]
     },
     "execution_count": 15,
     "metadata": {},
     "output_type": "execute_result"
    }
   ],
   "source": [
    "data1['id'].drop_duplicates()"
   ]
  },
  {
   "cell_type": "code",
   "execution_count": 16,
   "metadata": {},
   "outputs": [
    {
     "data": {
      "text/plain": [
       "0        fwXo0\n",
       "1        WJtFt\n",
       "2        ovLUW\n",
       "3        q6cA6\n",
       "4        WPMUX\n",
       "         ...  \n",
       "99995    4GxBu\n",
       "99996    YKFjq\n",
       "99997    tKPY3\n",
       "99998    nmxp2\n",
       "99999    V9kWn\n",
       "Name: id, Length: 99996, dtype: object"
      ]
     },
     "execution_count": 16,
     "metadata": {},
     "output_type": "execute_result"
    }
   ],
   "source": [
    "data2['id'].drop_duplicates()"
   ]
  },
  {
   "cell_type": "markdown",
   "metadata": {},
   "source": [
    "#### Промежуточные выводы"
   ]
  },
  {
   "cell_type": "markdown",
   "metadata": {},
   "source": [
    "Распределение целевого признака в датасетах по регионам 0 и 2 выглядят нормальными, в 1 датасете целевой признак выглядит синтетическим.\n",
    "\n",
    "В процесе предобработки датасеты были очищены от выбросов для того, что бы лучшим образом реализовать машинное обучение."
   ]
  },
  {
   "cell_type": "markdown",
   "metadata": {},
   "source": [
    "## Обучение и проверка модели"
   ]
  },
  {
   "cell_type": "markdown",
   "metadata": {},
   "source": [
    "### Разделим данные на обучающую и валидационную выборку."
   ]
  },
  {
   "cell_type": "markdown",
   "metadata": {},
   "source": [
    "#### Датасет 0:"
   ]
  },
  {
   "cell_type": "code",
   "execution_count": 17,
   "metadata": {},
   "outputs": [],
   "source": [
    "features0 = data0.drop(['id', 'product'], axis=1)\n",
    "target0 = data0['product']"
   ]
  },
  {
   "cell_type": "code",
   "execution_count": 18,
   "metadata": {},
   "outputs": [],
   "source": [
    "features_train0, features_valid0, target_train0, target_valid0 = train_test_split(\n",
    "    features0, target0, test_size=0.25, random_state=12345\n",
    ")"
   ]
  },
  {
   "cell_type": "code",
   "execution_count": 19,
   "metadata": {},
   "outputs": [
    {
     "data": {
      "text/plain": [
       "((75000, 3), (25000, 3), (75000,), (25000,))"
      ]
     },
     "execution_count": 19,
     "metadata": {},
     "output_type": "execute_result"
    }
   ],
   "source": [
    "features_train0.shape, features_valid0.shape, target_train0.shape, target_valid0.shape"
   ]
  },
  {
   "cell_type": "markdown",
   "metadata": {},
   "source": [
    "#### Датасет 1:"
   ]
  },
  {
   "cell_type": "code",
   "execution_count": 20,
   "metadata": {},
   "outputs": [],
   "source": [
    "features1 = data1.drop(['id', 'product'], axis=1)\n",
    "target1 = data1['product']"
   ]
  },
  {
   "cell_type": "code",
   "execution_count": 21,
   "metadata": {},
   "outputs": [],
   "source": [
    "features_train1, features_valid1, target_train1, target_valid1 = train_test_split(\n",
    "    features1, target1, test_size=0.25, random_state=12345\n",
    ")"
   ]
  },
  {
   "cell_type": "code",
   "execution_count": 22,
   "metadata": {},
   "outputs": [
    {
     "data": {
      "text/plain": [
       "((75000, 3), (25000, 3), (75000,), (25000,))"
      ]
     },
     "execution_count": 22,
     "metadata": {},
     "output_type": "execute_result"
    }
   ],
   "source": [
    "features_train1.shape, features_valid1.shape, target_train1.shape, target_valid1.shape"
   ]
  },
  {
   "cell_type": "markdown",
   "metadata": {},
   "source": [
    "#### Датасет 2:"
   ]
  },
  {
   "cell_type": "code",
   "execution_count": 23,
   "metadata": {},
   "outputs": [],
   "source": [
    "features2 = data2.drop(['id', 'product'], axis=1)\n",
    "target2 = data2['product']"
   ]
  },
  {
   "cell_type": "code",
   "execution_count": 24,
   "metadata": {},
   "outputs": [],
   "source": [
    "features_train2, features_valid2, target_train2, target_valid2 = train_test_split(\n",
    "    features2, target2, test_size=0.25, random_state=12345\n",
    ")"
   ]
  },
  {
   "cell_type": "code",
   "execution_count": 25,
   "metadata": {},
   "outputs": [
    {
     "data": {
      "text/plain": [
       "((75000, 3), (25000, 3), (75000,), (25000,))"
      ]
     },
     "execution_count": 25,
     "metadata": {},
     "output_type": "execute_result"
    }
   ],
   "source": [
    "features_train2.shape, features_valid2.shape, target_train2.shape, target_valid2.shape"
   ]
  },
  {
   "cell_type": "markdown",
   "metadata": {},
   "source": [
    "### Линейная регрессия"
   ]
  },
  {
   "cell_type": "code",
   "execution_count": 26,
   "metadata": {},
   "outputs": [],
   "source": [
    "model = LinearRegression()"
   ]
  },
  {
   "cell_type": "markdown",
   "metadata": {},
   "source": [
    "#### Датасет 0:"
   ]
  },
  {
   "cell_type": "code",
   "execution_count": 27,
   "metadata": {},
   "outputs": [
    {
     "name": "stdout",
     "output_type": "stream",
     "text": [
      "Средний запас нефти предсказанный: 92.59256778438035\n",
      "Средний запас нефти реальный: 92.50000000000001\n",
      "RMSE модели 37.5794217150813\n"
     ]
    }
   ],
   "source": [
    "model.fit(features_train0, target_train0)\n",
    "predictions_valid0 = model.predict(features_valid0) \n",
    "print('Средний запас нефти предсказанный:', predictions_valid0.mean())\n",
    "print('Средний запас нефти реальный:', data0['product'].mean())\n",
    "print('RMSE модели', mean_squared_error(target_valid0, predictions_valid0)**0.5)"
   ]
  },
  {
   "cell_type": "markdown",
   "metadata": {},
   "source": [
    "#### Датасет 1:"
   ]
  },
  {
   "cell_type": "code",
   "execution_count": 28,
   "metadata": {},
   "outputs": [
    {
     "name": "stdout",
     "output_type": "stream",
     "text": [
      "Средний запас нефти предсказанный: 68.728546895446\n",
      "Средний запас нефти реальный: 68.82500000000002\n",
      "RMSE модели 0.893099286775617\n"
     ]
    }
   ],
   "source": [
    "model.fit(features_train1, target_train1)\n",
    "predictions_valid1 = model.predict(features_valid1)   \n",
    "print('Средний запас нефти предсказанный:', predictions_valid1.mean())\n",
    "print('Средний запас нефти реальный:', data1['product'].mean())\n",
    "print('RMSE модели', mean_squared_error(target_valid1, predictions_valid1)**0.5)"
   ]
  },
  {
   "cell_type": "markdown",
   "metadata": {},
   "source": [
    "#### Датасет 2:"
   ]
  },
  {
   "cell_type": "code",
   "execution_count": 29,
   "metadata": {},
   "outputs": [
    {
     "name": "stdout",
     "output_type": "stream",
     "text": [
      "Средний запас нефти предсказанный: 94.96504596800489\n",
      "Средний запас нефти реальный: 95.00000000000004\n",
      "RMSE модели 40.02970873393434\n"
     ]
    }
   ],
   "source": [
    "model.fit(features_train2, target_train2)\n",
    "predictions_valid2 = model.predict(features_valid2)   \n",
    "print('Средний запас нефти предсказанный:', predictions_valid2.mean())\n",
    "print('Средний запас нефти реальный:', data2['product'].mean())\n",
    "print('RMSE модели', mean_squared_error(target_valid2, predictions_valid2)**0.5)"
   ]
  },
  {
   "cell_type": "markdown",
   "metadata": {},
   "source": [
    "#### Выводы"
   ]
  },
  {
   "cell_type": "markdown",
   "metadata": {},
   "source": [
    "Для определения целевого признака были обучены 3 модели. Было выявлено, что средний запас нефти выше всего во 2 регионе, на втором месте регион 0, в регионе 1 средние запасы нефти ниже всего."
   ]
  },
  {
   "cell_type": "markdown",
   "metadata": {},
   "source": [
    "## Подготовка к расчёту прибыли"
   ]
  },
  {
   "cell_type": "markdown",
   "metadata": {},
   "source": [
    "Сохраним все известные параметры:"
   ]
  },
  {
   "cell_type": "code",
   "execution_count": 30,
   "metadata": {},
   "outputs": [],
   "source": [
    "BUDGET = 10**10                 #Бюджет на разработку скважин в регионе\n",
    "BARREL_INCOME = 450             #Доход за баррель\n",
    "UNIT_INCOME = 450000            #Доход за единице продукции (1 тыс баррелей)\n",
    "EXPLORED_POINTS = 500           #Количество точек исследования\n",
    "CHOSEN_POINTS = 200             #Количество лучших точек\n",
    "MAX_PROBABILITY_OF_LOSS = 0.025 #Максимальная вероятность убытков по условиям"
   ]
  },
  {
   "cell_type": "markdown",
   "metadata": {},
   "source": [
    "Бюджет на разработку скважин в регионе — 10 млрд рублей. С помощью машинного обучения выбирают 200 лучших точек для разработки. 1 единица продукции в каждой точке стоит 450000 рублей. Таким образом, для того, что бы предприятие не несло убытки, минимальное количество добытых нефтепродуктов должно составлять: "
   ]
  },
  {
   "cell_type": "code",
   "execution_count": 31,
   "metadata": {},
   "outputs": [
    {
     "data": {
      "text/plain": [
       "111.11"
      ]
     },
     "execution_count": 31,
     "metadata": {},
     "output_type": "execute_result"
    }
   ],
   "source": [
    "min_amount = round(BUDGET / (CHOSEN_POINTS * UNIT_INCOME),2)\n",
    "min_amount"
   ]
  },
  {
   "cell_type": "markdown",
   "metadata": {},
   "source": [
    "Таким образом, для работы не в убыток, предприятие должно добывать в точке в среднем, 111.(1) тысячу единиц продукции, а для работы с получением дохода, нефтедобыча в среднем должна превышать рассчитанное значение min_amount.\n",
    "\n",
    "Средний запас нефти в регионе 0 составляет 92,5, в регоне 1 - 68,8, в регионе 2 - 95,0. Все значения средних запасов по регионам ниже среднего минимального значения, необходимого для добычи без убытков.\n",
    "Сравнение средней величины запасов нефти со средним минимальным значением количества добываемой нефти, достаточным для безубыточной торговли, не информативно. Тк это разные понятия, основанные на разных закономерностях. Как минимум, потому, что нефтедобыча ведется в 200 лучших точках, а среднее значение запасов рассчитывается по всему региону. Для получения информативных значений, нужно понимать, что количество точек, в которых запасы больше необходимого, достаточно."
   ]
  },
  {
   "cell_type": "markdown",
   "metadata": {},
   "source": [
    "Найдем количество скважин в каждом регионе, запасы нефти в которых превышают min_amount:"
   ]
  },
  {
   "cell_type": "code",
   "execution_count": 32,
   "metadata": {},
   "outputs": [
    {
     "data": {
      "text/plain": [
       "0.36584"
      ]
     },
     "execution_count": 32,
     "metadata": {},
     "output_type": "execute_result"
    }
   ],
   "source": [
    "data0['id'][data0['product'] > min_amount].count() / data0['product'].count()"
   ]
  },
  {
   "cell_type": "code",
   "execution_count": 33,
   "metadata": {},
   "outputs": [
    {
     "data": {
      "text/plain": [
       "0.16537"
      ]
     },
     "execution_count": 33,
     "metadata": {},
     "output_type": "execute_result"
    }
   ],
   "source": [
    "data1['id'][data1['product'] > min_amount].count() / data1['product'].count()"
   ]
  },
  {
   "cell_type": "code",
   "execution_count": 34,
   "metadata": {},
   "outputs": [
    {
     "data": {
      "text/plain": [
       "0.38178"
      ]
     },
     "execution_count": 34,
     "metadata": {},
     "output_type": "execute_result"
    }
   ],
   "source": [
    "data2['id'][data2['product'] > min_amount].count() / data2['product'].count()"
   ]
  },
  {
   "cell_type": "markdown",
   "metadata": {},
   "source": [
    "#### Вывод:"
   ]
  },
  {
   "cell_type": "markdown",
   "metadata": {},
   "source": [
    "Среднее количество добытой нефти из 1 точки должно составлять не менее 111.(1) тыс тонн.\n",
    "Количество точек во всех регионах достаточно для получения прибыли. Причем, их количество ниже в регионе 1 и выше всего в регионе 2."
   ]
  },
  {
   "cell_type": "markdown",
   "metadata": {},
   "source": [
    "## Расчёт прибыли и рисков "
   ]
  },
  {
   "cell_type": "markdown",
   "metadata": {},
   "source": [
    "Прибыль-это проданная нефть из 200 скважин за вычетом расходов на разработку скважин. Для увеличения прибыли, выбирать будем 200 лучших скважин в каждом регионе с помощью предсказаний, а прибыль будем считать на основании истинных значений.\n",
    "\n",
    "Функция для расчета истинной прибыли для 200 лучших предсказанных скважин:"
   ]
  },
  {
   "cell_type": "code",
   "execution_count": 39,
   "metadata": {},
   "outputs": [],
   "source": [
    "def profit(target_valid, predictions_valid):\n",
    "    sort_predictions_valid_series = pd.Series(predictions_valid).sort_values(ascending=False)[:CHOSEN_POINTS]\n",
    "    target_valid_sort = (target_valid.reset_index(drop = True)[sort_predictions_valid_series.index])\n",
    "    target_valid_sort_sum = target_valid_sort.sum() \n",
    "    print('Истинная прибыль при разработке 200 лучших предсказанных скважин района (млрд. руб.):')\n",
    "\n",
    "    return round(((target_valid_sort_sum * UNIT_INCOME) - BUDGET) / 10**9,2)"
   ]
  },
  {
   "cell_type": "markdown",
   "metadata": {},
   "source": [
    "#### Район0:"
   ]
  },
  {
   "cell_type": "code",
   "execution_count": 40,
   "metadata": {},
   "outputs": [
    {
     "name": "stdout",
     "output_type": "stream",
     "text": [
      "Истинная прибыль при разработке 200 лучших предсказанных скважин района (млрд. руб.):\n"
     ]
    },
    {
     "data": {
      "text/plain": [
       "3.32"
      ]
     },
     "execution_count": 40,
     "metadata": {},
     "output_type": "execute_result"
    }
   ],
   "source": [
    "profit(target_valid0, predictions_valid0)"
   ]
  },
  {
   "cell_type": "markdown",
   "metadata": {},
   "source": [
    "#### Район1:"
   ]
  },
  {
   "cell_type": "code",
   "execution_count": 41,
   "metadata": {},
   "outputs": [
    {
     "name": "stdout",
     "output_type": "stream",
     "text": [
      "Истинная прибыль при разработке 200 лучших предсказанных скважин района (млрд. руб.):\n"
     ]
    },
    {
     "data": {
      "text/plain": [
       "2.42"
      ]
     },
     "execution_count": 41,
     "metadata": {},
     "output_type": "execute_result"
    }
   ],
   "source": [
    "profit(target_valid1, predictions_valid1)"
   ]
  },
  {
   "cell_type": "markdown",
   "metadata": {},
   "source": [
    "#### Район2:"
   ]
  },
  {
   "cell_type": "code",
   "execution_count": 42,
   "metadata": {},
   "outputs": [
    {
     "name": "stdout",
     "output_type": "stream",
     "text": [
      "Истинная прибыль при разработке 200 лучших предсказанных скважин района (млрд. руб.):\n"
     ]
    },
    {
     "data": {
      "text/plain": [
       "2.71"
      ]
     },
     "execution_count": 42,
     "metadata": {},
     "output_type": "execute_result"
    }
   ],
   "source": [
    "profit(target_valid2, predictions_valid2)"
   ]
  },
  {
   "cell_type": "markdown",
   "metadata": {},
   "source": [
    "#### Промежуточный вывод:\n",
    "\n",
    "Самая высокая прибыль возможна при освоении региона 0."
   ]
  },
  {
   "cell_type": "markdown",
   "metadata": {},
   "source": [
    "### Рассчет рисков обытков в регионах"
   ]
  },
  {
   "cell_type": "markdown",
   "metadata": {},
   "source": [
    "Рассчитаем вероятность убытков в регионах. По условиям задачи нам необходимо оставить те, вероятность убытков в которых менее 2,5%."
   ]
  },
  {
   "cell_type": "code",
   "execution_count": 54,
   "metadata": {},
   "outputs": [],
   "source": [
    "def revenue(target, probabilities):\n",
    "    probs_sorted = probabilities.sort_values(ascending=False) #[:explored_points]\n",
    "    selected = target[probs_sorted.index][:CHOSEN_POINTS]\n",
    "    selected_sum = selected.sum()\n",
    "    return (selected_sum * UNIT_INCOME - BUDGET)\n",
    "\n",
    "\n",
    "def risk_assessment(target_valid, predictions_valid):\n",
    "    target = pd.Series(target_valid)\n",
    "    probabilities = pd.Series(predictions_valid, index=target.index)\n",
    "    \n",
    "    lost = 0\n",
    "    values = []\n",
    "    \n",
    "    for i in range(1000):\n",
    "        target_subsample = target.sample(n=EXPLORED_POINTS, replace=True, random_state=state)\n",
    "        probs_subsample = probabilities[target_subsample.index] \n",
    "        subsample = revenue(target_subsample, probs_subsample)\n",
    "        values.append(subsample)\n",
    "        if subsample < 0:\n",
    "            lost += 1\n",
    "        \n",
    "\n",
    "    values = pd.Series(values)\n",
    "    lower = values.quantile(0.025)\n",
    "    upper = values.quantile(0.975)\n",
    "    values_mean = values.mean()\n",
    "    risk = lost / 1000\n",
    "    print('Риск убытков (%):', risk, \n",
    "          '\\n Среднее значение прибыли (млрд):', values_mean / 10**9, \n",
    "          '\\n 95% доверительный интервал для прибыли', lower, upper, \n",
    "          '\\n Количество рисков получить убытки (из 1000)', lost)"
   ]
  },
  {
   "cell_type": "code",
   "execution_count": 55,
   "metadata": {},
   "outputs": [
    {
     "name": "stdout",
     "output_type": "stream",
     "text": [
      "Риск убытков (%): 0.06 \n",
      " Среднее значение прибыли (млрд): 0.42561036554131826 \n",
      " 95% доверительный интервал для прибыли -118245549.41941264 952966123.6860889 \n",
      " Количество рисков получить убытки (из 1000) 60\n"
     ]
    }
   ],
   "source": [
    "risk_assessment(target_valid0, predictions_valid0)"
   ]
  },
  {
   "cell_type": "code",
   "execution_count": 56,
   "metadata": {},
   "outputs": [
    {
     "name": "stdout",
     "output_type": "stream",
     "text": [
      "Риск убытков (%): 0.007 \n",
      " Среднее значение прибыли (млрд): 0.502842394253506 \n",
      " 95% доверительный интервал для прибыли 90944836.16367513 894397185.9125582 \n",
      " Количество рисков получить убытки (из 1000) 7\n"
     ]
    }
   ],
   "source": [
    "risk_assessment(target_valid1, predictions_valid1)"
   ]
  },
  {
   "cell_type": "code",
   "execution_count": 57,
   "metadata": {},
   "outputs": [
    {
     "name": "stdout",
     "output_type": "stream",
     "text": [
      "Риск убытков (%): 0.068 \n",
      " Среднее значение прибыли (млрд): 0.4198264794790639 \n",
      " 95% доверительный интервал для прибыли -124444555.57288493 973655281.1533407 \n",
      " Количество рисков получить убытки (из 1000) 68\n"
     ]
    }
   ],
   "source": [
    "risk_assessment(target_valid2, predictions_valid2)"
   ]
  },
  {
   "cell_type": "markdown",
   "metadata": {},
   "source": [
    "### Выводы:"
   ]
  },
  {
   "cell_type": "markdown",
   "metadata": {},
   "source": [
    "В ходе проделанной работы были проанализированы 3 датасета с информацией о геологоразведке трёх регионов. Была проделана работа по очистке датасетов от выбросов и обучены модели, предсказывающие запасы нефти в точках. \n",
    "Так же были написаны функции по предсказанию прибыли в регионе и для оценки рисков убытков."
   ]
  },
  {
   "cell_type": "markdown",
   "metadata": {},
   "source": [
    "Было выявлено, при выборе регионов на основании результатов машинного обучения, риски убытков выше 2,5% для 0 или 2 регионов и ниже 2,5% для первого региона. Такое низкое значение может быть связано с искусственностью данных по этому региону, за счет чего модель хорошо обучается и дает низкую ошибку. Самый высокий риск убытков - в регионе 2 (6,8%).\n",
    "\n",
    "Предполагаемая прибыль выше всего в регионе 1, а ниже всего-в регионе 2.\n",
    "\n",
    "*По результатам проведенной работы, для разработки месторождений предлагается регион №1.*"
   ]
  },
  {
   "cell_type": "code",
   "execution_count": null,
   "metadata": {},
   "outputs": [],
   "source": []
  }
 ],
 "metadata": {
  "ExecuteTimeLog": [
   {
    "duration": 431,
    "start_time": "2023-03-30T13:05:30.766Z"
   },
   {
    "duration": 888,
    "start_time": "2023-03-30T13:05:31.366Z"
   },
   {
    "duration": 3,
    "start_time": "2023-03-30T13:05:32.373Z"
   },
   {
    "duration": 57,
    "start_time": "2023-03-30T13:05:33.384Z"
   },
   {
    "duration": 67,
    "start_time": "2023-03-30T13:05:52.207Z"
   },
   {
    "duration": 55,
    "start_time": "2023-03-30T13:06:17.744Z"
   },
   {
    "duration": 48,
    "start_time": "2023-03-30T13:06:38.324Z"
   },
   {
    "duration": 4,
    "start_time": "2023-03-30T13:06:53.402Z"
   },
   {
    "duration": 66,
    "start_time": "2023-03-30T13:07:00.855Z"
   },
   {
    "duration": 3,
    "start_time": "2023-03-30T13:07:32.856Z"
   },
   {
    "duration": 4,
    "start_time": "2023-03-30T13:12:11.257Z"
   },
   {
    "duration": 78,
    "start_time": "2023-03-30T13:12:11.885Z"
   },
   {
    "duration": 3,
    "start_time": "2023-03-30T13:12:23.727Z"
   },
   {
    "duration": 58,
    "start_time": "2023-03-30T13:12:24.655Z"
   },
   {
    "duration": 3,
    "start_time": "2023-03-30T13:13:13.334Z"
   },
   {
    "duration": 4,
    "start_time": "2023-03-30T13:14:00.403Z"
   },
   {
    "duration": 2,
    "start_time": "2023-03-30T13:14:10.928Z"
   },
   {
    "duration": 3,
    "start_time": "2023-03-30T13:14:38.706Z"
   },
   {
    "duration": 43,
    "start_time": "2023-03-30T13:14:59.184Z"
   },
   {
    "duration": 4,
    "start_time": "2023-03-30T13:15:12.451Z"
   },
   {
    "duration": 3,
    "start_time": "2023-03-30T13:15:19.089Z"
   },
   {
    "duration": 51,
    "start_time": "2023-03-30T13:15:22.074Z"
   },
   {
    "duration": 4,
    "start_time": "2023-03-30T13:18:34.096Z"
   },
   {
    "duration": 58,
    "start_time": "2023-03-30T13:18:37.188Z"
   },
   {
    "duration": 4,
    "start_time": "2023-03-30T13:19:05.539Z"
   },
   {
    "duration": 3,
    "start_time": "2023-03-30T13:19:14.397Z"
   },
   {
    "duration": 4,
    "start_time": "2023-03-30T13:19:24.248Z"
   },
   {
    "duration": 4,
    "start_time": "2023-03-30T13:19:46.911Z"
   },
   {
    "duration": 75,
    "start_time": "2023-03-30T13:19:48.848Z"
   },
   {
    "duration": 4,
    "start_time": "2023-03-30T13:20:36.990Z"
   },
   {
    "duration": 60,
    "start_time": "2023-03-30T13:20:38.412Z"
   },
   {
    "duration": 4,
    "start_time": "2023-03-30T13:20:55.192Z"
   },
   {
    "duration": 56,
    "start_time": "2023-03-30T13:20:55.834Z"
   },
   {
    "duration": 3,
    "start_time": "2023-03-30T13:21:23.057Z"
   },
   {
    "duration": 57,
    "start_time": "2023-03-30T13:21:25.484Z"
   },
   {
    "duration": 62,
    "start_time": "2023-03-30T13:21:58.689Z"
   },
   {
    "duration": 53,
    "start_time": "2023-03-30T13:22:01.150Z"
   },
   {
    "duration": 50,
    "start_time": "2023-03-30T13:22:22.905Z"
   },
   {
    "duration": 54,
    "start_time": "2023-03-30T13:22:23.783Z"
   },
   {
    "duration": 7,
    "start_time": "2023-03-30T13:23:02.670Z"
   },
   {
    "duration": 67,
    "start_time": "2023-03-30T13:23:03.188Z"
   },
   {
    "duration": 8,
    "start_time": "2023-03-30T13:24:07.156Z"
   },
   {
    "duration": 53,
    "start_time": "2023-03-30T13:24:07.682Z"
   },
   {
    "duration": 3,
    "start_time": "2023-03-30T13:25:08.982Z"
   },
   {
    "duration": 60,
    "start_time": "2023-03-30T13:25:09.618Z"
   },
   {
    "duration": 4,
    "start_time": "2023-03-30T13:26:16.239Z"
   },
   {
    "duration": 3,
    "start_time": "2023-03-30T13:26:33.210Z"
   },
   {
    "duration": 399,
    "start_time": "2023-03-30T13:27:08.819Z"
   },
   {
    "duration": 402,
    "start_time": "2023-03-30T13:27:09.220Z"
   },
   {
    "duration": 61,
    "start_time": "2023-03-30T13:27:09.624Z"
   },
   {
    "duration": 0,
    "start_time": "2023-03-30T13:27:09.687Z"
   },
   {
    "duration": 4,
    "start_time": "2023-03-30T13:27:28.303Z"
   },
   {
    "duration": 64,
    "start_time": "2023-03-30T13:27:29.745Z"
   },
   {
    "duration": 3,
    "start_time": "2023-03-30T13:27:47.442Z"
   },
   {
    "duration": 59,
    "start_time": "2023-03-30T13:27:48.719Z"
   },
   {
    "duration": 53,
    "start_time": "2023-03-30T13:28:15.494Z"
   },
   {
    "duration": 60,
    "start_time": "2023-03-30T13:28:28.607Z"
   },
   {
    "duration": 435,
    "start_time": "2023-03-31T11:26:46.044Z"
   },
   {
    "duration": 2230,
    "start_time": "2023-03-31T11:26:47.277Z"
   },
   {
    "duration": 4,
    "start_time": "2023-03-31T11:26:49.730Z"
   },
   {
    "duration": 1211,
    "start_time": "2023-03-31T11:26:50.528Z"
   },
   {
    "duration": 642,
    "start_time": "2023-03-31T11:26:51.832Z"
   },
   {
    "duration": 678,
    "start_time": "2023-03-31T11:26:52.873Z"
   },
   {
    "duration": 1176,
    "start_time": "2023-04-01T10:27:32.688Z"
   },
   {
    "duration": 1485,
    "start_time": "2023-04-01T10:27:33.866Z"
   },
   {
    "duration": 5,
    "start_time": "2023-04-01T10:27:35.352Z"
   },
   {
    "duration": 1249,
    "start_time": "2023-04-01T10:27:35.359Z"
   },
   {
    "duration": 839,
    "start_time": "2023-04-01T10:27:36.609Z"
   },
   {
    "duration": 741,
    "start_time": "2023-04-01T10:27:37.450Z"
   },
   {
    "duration": 4,
    "start_time": "2023-04-01T10:28:18.328Z"
   },
   {
    "duration": 897,
    "start_time": "2023-04-01T10:28:19.115Z"
   },
   {
    "duration": 1142,
    "start_time": "2023-04-01T10:28:20.014Z"
   },
   {
    "duration": 909,
    "start_time": "2023-04-01T10:28:21.159Z"
   },
   {
    "duration": 1449,
    "start_time": "2023-04-01T10:36:36.957Z"
   },
   {
    "duration": 401,
    "start_time": "2023-04-01T10:36:38.408Z"
   },
   {
    "duration": 5,
    "start_time": "2023-04-01T10:36:38.811Z"
   },
   {
    "duration": 1100,
    "start_time": "2023-04-01T10:36:38.819Z"
   },
   {
    "duration": 1259,
    "start_time": "2023-04-01T10:36:39.922Z"
   },
   {
    "duration": 1025,
    "start_time": "2023-04-01T10:36:41.188Z"
   },
   {
    "duration": 1425,
    "start_time": "2023-04-01T10:38:36.537Z"
   },
   {
    "duration": 397,
    "start_time": "2023-04-01T10:38:37.964Z"
   },
   {
    "duration": 5,
    "start_time": "2023-04-01T10:38:38.362Z"
   },
   {
    "duration": 201,
    "start_time": "2023-04-01T10:38:38.369Z"
   },
   {
    "duration": 0,
    "start_time": "2023-04-01T10:38:38.571Z"
   },
   {
    "duration": 0,
    "start_time": "2023-04-01T10:38:38.573Z"
   },
   {
    "duration": 1502,
    "start_time": "2023-04-01T10:39:11.128Z"
   },
   {
    "duration": 488,
    "start_time": "2023-04-01T10:39:12.633Z"
   },
   {
    "duration": 5,
    "start_time": "2023-04-01T10:39:13.123Z"
   },
   {
    "duration": 2714,
    "start_time": "2023-04-01T10:39:13.131Z"
   },
   {
    "duration": 0,
    "start_time": "2023-04-01T10:39:15.847Z"
   },
   {
    "duration": 0,
    "start_time": "2023-04-01T10:39:15.849Z"
   },
   {
    "duration": 7,
    "start_time": "2023-04-01T10:40:15.914Z"
   },
   {
    "duration": 64,
    "start_time": "2023-04-01T10:40:17.479Z"
   },
   {
    "duration": 5,
    "start_time": "2023-04-01T10:44:17.153Z"
   },
   {
    "duration": 90,
    "start_time": "2023-04-01T10:44:22.287Z"
   },
   {
    "duration": 412,
    "start_time": "2023-04-01T10:44:22.949Z"
   },
   {
    "duration": 6,
    "start_time": "2023-04-01T10:44:24.036Z"
   },
   {
    "duration": 6,
    "start_time": "2023-04-01T10:45:25.026Z"
   },
   {
    "duration": 1334,
    "start_time": "2023-04-01T10:45:26.551Z"
   },
   {
    "duration": 5,
    "start_time": "2023-04-01T10:45:55.196Z"
   },
   {
    "duration": 1259,
    "start_time": "2023-04-01T10:45:56.436Z"
   },
   {
    "duration": 4,
    "start_time": "2023-04-01T10:46:41.342Z"
   },
   {
    "duration": 975,
    "start_time": "2023-04-01T10:46:41.861Z"
   },
   {
    "duration": 1542,
    "start_time": "2023-04-01T10:47:42.264Z"
   },
   {
    "duration": 415,
    "start_time": "2023-04-01T10:47:43.808Z"
   },
   {
    "duration": 6,
    "start_time": "2023-04-01T10:47:44.225Z"
   },
   {
    "duration": 1135,
    "start_time": "2023-04-01T10:47:44.233Z"
   },
   {
    "duration": 974,
    "start_time": "2023-04-01T10:47:45.370Z"
   },
   {
    "duration": 1193,
    "start_time": "2023-04-01T10:47:46.345Z"
   },
   {
    "duration": 93,
    "start_time": "2023-04-01T11:14:08.472Z"
   },
   {
    "duration": 4,
    "start_time": "2023-04-01T11:14:34.058Z"
   },
   {
    "duration": 114,
    "start_time": "2023-04-01T11:15:16.992Z"
   },
   {
    "duration": 19,
    "start_time": "2023-04-01T11:15:41.118Z"
   },
   {
    "duration": 5,
    "start_time": "2023-04-01T11:15:52.646Z"
   },
   {
    "duration": 1352,
    "start_time": "2023-04-01T11:15:53.297Z"
   },
   {
    "duration": 1497,
    "start_time": "2023-04-01T11:16:09.103Z"
   },
   {
    "duration": 5,
    "start_time": "2023-04-01T11:16:22.280Z"
   },
   {
    "duration": 1627,
    "start_time": "2023-04-01T11:16:23.054Z"
   },
   {
    "duration": 9,
    "start_time": "2023-04-01T11:16:52.941Z"
   },
   {
    "duration": 1311,
    "start_time": "2023-04-01T11:16:59.762Z"
   },
   {
    "duration": 12,
    "start_time": "2023-04-01T11:17:22.452Z"
   },
   {
    "duration": 1670,
    "start_time": "2023-04-01T11:17:30.744Z"
   },
   {
    "duration": 4,
    "start_time": "2023-04-01T11:18:21.546Z"
   },
   {
    "duration": 1497,
    "start_time": "2023-04-01T11:18:22.099Z"
   },
   {
    "duration": 1620,
    "start_time": "2023-04-01T11:18:40.965Z"
   },
   {
    "duration": 11,
    "start_time": "2023-04-01T11:20:53.591Z"
   },
   {
    "duration": 98,
    "start_time": "2023-04-01T11:21:31.821Z"
   },
   {
    "duration": 76,
    "start_time": "2023-04-01T11:21:51.660Z"
   },
   {
    "duration": 69,
    "start_time": "2023-04-01T11:21:58.998Z"
   },
   {
    "duration": 4,
    "start_time": "2023-04-01T11:22:06.106Z"
   },
   {
    "duration": 11,
    "start_time": "2023-04-01T11:22:27.966Z"
   },
   {
    "duration": 35,
    "start_time": "2023-04-01T11:23:28.220Z"
   },
   {
    "duration": 4,
    "start_time": "2023-04-01T11:27:23.288Z"
   },
   {
    "duration": 12,
    "start_time": "2023-04-01T11:27:24.058Z"
   },
   {
    "duration": 1254,
    "start_time": "2023-04-01T11:27:43.629Z"
   },
   {
    "duration": 5,
    "start_time": "2023-04-01T11:28:05.207Z"
   },
   {
    "duration": 1654,
    "start_time": "2023-04-01T11:28:06.389Z"
   },
   {
    "duration": 117,
    "start_time": "2023-04-01T11:29:05.450Z"
   },
   {
    "duration": 3,
    "start_time": "2023-04-01T11:29:29.504Z"
   },
   {
    "duration": 1477,
    "start_time": "2023-04-01T11:29:30.613Z"
   },
   {
    "duration": 3,
    "start_time": "2023-04-01T11:32:46.299Z"
   },
   {
    "duration": 48,
    "start_time": "2023-04-01T11:32:47.194Z"
   },
   {
    "duration": 41,
    "start_time": "2023-04-01T11:33:17.044Z"
   },
   {
    "duration": 3,
    "start_time": "2023-04-01T11:33:25.902Z"
   },
   {
    "duration": 13,
    "start_time": "2023-04-01T11:33:26.671Z"
   },
   {
    "duration": 6,
    "start_time": "2023-04-01T11:33:50.805Z"
   },
   {
    "duration": 24,
    "start_time": "2023-04-01T11:33:51.348Z"
   },
   {
    "duration": 4,
    "start_time": "2023-04-01T11:34:24.604Z"
   },
   {
    "duration": 17,
    "start_time": "2023-04-01T11:34:25.219Z"
   },
   {
    "duration": 4,
    "start_time": "2023-04-01T11:35:58.527Z"
   },
   {
    "duration": 24,
    "start_time": "2023-04-01T11:35:59.093Z"
   },
   {
    "duration": 4,
    "start_time": "2023-04-01T11:36:54.186Z"
   },
   {
    "duration": 21,
    "start_time": "2023-04-01T11:36:54.915Z"
   },
   {
    "duration": 4,
    "start_time": "2023-04-01T11:37:57.623Z"
   },
   {
    "duration": 17,
    "start_time": "2023-04-01T11:37:58.318Z"
   },
   {
    "duration": 3,
    "start_time": "2023-04-01T11:38:22.436Z"
   },
   {
    "duration": 25,
    "start_time": "2023-04-01T11:38:40.567Z"
   },
   {
    "duration": 4,
    "start_time": "2023-04-01T11:39:20.148Z"
   },
   {
    "duration": 17,
    "start_time": "2023-04-01T11:39:20.939Z"
   },
   {
    "duration": 4,
    "start_time": "2023-04-01T11:39:32.539Z"
   },
   {
    "duration": 28,
    "start_time": "2023-04-01T11:39:33.498Z"
   },
   {
    "duration": 3,
    "start_time": "2023-04-01T11:40:25.064Z"
   },
   {
    "duration": 22,
    "start_time": "2023-04-01T11:40:25.661Z"
   },
   {
    "duration": 1642,
    "start_time": "2023-04-01T11:40:38.906Z"
   },
   {
    "duration": 494,
    "start_time": "2023-04-01T11:40:40.551Z"
   },
   {
    "duration": 5,
    "start_time": "2023-04-01T11:40:41.047Z"
   },
   {
    "duration": 1214,
    "start_time": "2023-04-01T11:40:41.054Z"
   },
   {
    "duration": 1104,
    "start_time": "2023-04-01T11:40:42.270Z"
   },
   {
    "duration": 1259,
    "start_time": "2023-04-01T11:40:43.376Z"
   },
   {
    "duration": 5,
    "start_time": "2023-04-01T11:40:44.638Z"
   },
   {
    "duration": 81,
    "start_time": "2023-04-01T11:40:44.646Z"
   },
   {
    "duration": 4,
    "start_time": "2023-04-01T11:40:44.728Z"
   },
   {
    "duration": 151,
    "start_time": "2023-04-01T11:40:44.734Z"
   },
   {
    "duration": 5,
    "start_time": "2023-04-01T11:41:38.792Z"
   },
   {
    "duration": 40,
    "start_time": "2023-04-01T11:41:39.720Z"
   },
   {
    "duration": 104,
    "start_time": "2023-04-01T11:47:20.216Z"
   },
   {
    "duration": 103,
    "start_time": "2023-04-01T11:47:25.621Z"
   },
   {
    "duration": 4,
    "start_time": "2023-04-01T11:48:00.031Z"
   },
   {
    "duration": 38,
    "start_time": "2023-04-01T11:48:00.614Z"
   },
   {
    "duration": 97,
    "start_time": "2023-04-01T11:48:07.919Z"
   },
   {
    "duration": 5,
    "start_time": "2023-04-01T11:48:33.629Z"
   },
   {
    "duration": 36,
    "start_time": "2023-04-01T11:48:34.637Z"
   },
   {
    "duration": 1545,
    "start_time": "2023-04-01T11:48:48.568Z"
   },
   {
    "duration": 459,
    "start_time": "2023-04-01T11:48:50.115Z"
   },
   {
    "duration": 6,
    "start_time": "2023-04-01T11:48:50.576Z"
   },
   {
    "duration": 1236,
    "start_time": "2023-04-01T11:48:50.589Z"
   },
   {
    "duration": 1114,
    "start_time": "2023-04-01T11:48:51.827Z"
   },
   {
    "duration": 1218,
    "start_time": "2023-04-01T11:48:52.942Z"
   },
   {
    "duration": 4,
    "start_time": "2023-04-01T11:48:54.161Z"
   },
   {
    "duration": 59,
    "start_time": "2023-04-01T11:48:54.167Z"
   },
   {
    "duration": 115,
    "start_time": "2023-04-01T11:48:54.228Z"
   },
   {
    "duration": 3,
    "start_time": "2023-04-01T11:49:17.147Z"
   },
   {
    "duration": 38,
    "start_time": "2023-04-01T11:49:17.831Z"
   },
   {
    "duration": 156,
    "start_time": "2023-04-01T11:51:55.458Z"
   },
   {
    "duration": 148,
    "start_time": "2023-04-01T11:53:15.192Z"
   },
   {
    "duration": 124,
    "start_time": "2023-04-01T11:54:51.870Z"
   },
   {
    "duration": 1647,
    "start_time": "2023-04-01T13:36:10.397Z"
   },
   {
    "duration": 1471,
    "start_time": "2023-04-01T13:36:12.047Z"
   },
   {
    "duration": 5,
    "start_time": "2023-04-01T13:36:13.520Z"
   },
   {
    "duration": 1068,
    "start_time": "2023-04-01T13:36:13.526Z"
   },
   {
    "duration": 968,
    "start_time": "2023-04-01T13:36:14.596Z"
   },
   {
    "duration": 1082,
    "start_time": "2023-04-01T13:36:15.565Z"
   },
   {
    "duration": 4,
    "start_time": "2023-04-01T13:36:16.649Z"
   },
   {
    "duration": 49,
    "start_time": "2023-04-01T13:36:16.656Z"
   },
   {
    "duration": 51,
    "start_time": "2023-04-01T13:36:16.707Z"
   },
   {
    "duration": 107,
    "start_time": "2023-04-01T13:36:16.760Z"
   },
   {
    "duration": 5,
    "start_time": "2023-04-01T13:36:16.869Z"
   },
   {
    "duration": 85,
    "start_time": "2023-04-01T13:39:40.116Z"
   },
   {
    "duration": 113,
    "start_time": "2023-04-01T13:40:54.967Z"
   },
   {
    "duration": 6,
    "start_time": "2023-04-01T13:41:16.956Z"
   },
   {
    "duration": 12,
    "start_time": "2023-04-01T13:41:18.192Z"
   },
   {
    "duration": 4,
    "start_time": "2023-04-01T13:41:20.101Z"
   },
   {
    "duration": 1411,
    "start_time": "2023-04-01T13:48:49.968Z"
   },
   {
    "duration": 415,
    "start_time": "2023-04-01T13:48:51.381Z"
   },
   {
    "duration": 5,
    "start_time": "2023-04-01T13:48:51.797Z"
   },
   {
    "duration": 1147,
    "start_time": "2023-04-01T13:48:51.804Z"
   },
   {
    "duration": 957,
    "start_time": "2023-04-01T13:48:52.954Z"
   },
   {
    "duration": 1043,
    "start_time": "2023-04-01T13:48:53.917Z"
   },
   {
    "duration": 3,
    "start_time": "2023-04-01T13:48:54.962Z"
   },
   {
    "duration": 77,
    "start_time": "2023-04-01T13:48:54.967Z"
   },
   {
    "duration": 36,
    "start_time": "2023-04-01T13:48:55.046Z"
   },
   {
    "duration": 98,
    "start_time": "2023-04-01T13:48:55.083Z"
   },
   {
    "duration": 5,
    "start_time": "2023-04-01T13:48:55.183Z"
   },
   {
    "duration": 31,
    "start_time": "2023-04-01T13:48:55.190Z"
   },
   {
    "duration": 30,
    "start_time": "2023-04-01T13:48:55.223Z"
   },
   {
    "duration": 87,
    "start_time": "2023-04-01T13:48:55.256Z"
   },
   {
    "duration": 25,
    "start_time": "2023-04-01T13:48:55.345Z"
   },
   {
    "duration": 28,
    "start_time": "2023-04-01T13:48:55.372Z"
   },
   {
    "duration": 26,
    "start_time": "2023-04-01T13:48:55.402Z"
   },
   {
    "duration": 38,
    "start_time": "2023-04-01T13:48:55.430Z"
   },
   {
    "duration": 5,
    "start_time": "2023-04-01T13:48:55.470Z"
   },
   {
    "duration": 125,
    "start_time": "2023-04-01T13:49:37.732Z"
   },
   {
    "duration": 4,
    "start_time": "2023-04-01T13:49:57.579Z"
   },
   {
    "duration": 52,
    "start_time": "2023-04-01T13:49:58.327Z"
   },
   {
    "duration": 5,
    "start_time": "2023-04-01T13:50:09.274Z"
   },
   {
    "duration": 47,
    "start_time": "2023-04-01T13:50:10.303Z"
   },
   {
    "duration": 30,
    "start_time": "2023-04-01T13:56:09.759Z"
   },
   {
    "duration": 4,
    "start_time": "2023-04-01T13:56:17.363Z"
   },
   {
    "duration": 12,
    "start_time": "2023-04-01T13:56:18.353Z"
   },
   {
    "duration": 4,
    "start_time": "2023-04-01T13:56:19.015Z"
   },
   {
    "duration": 3,
    "start_time": "2023-04-01T13:56:29.672Z"
   },
   {
    "duration": 28,
    "start_time": "2023-04-01T13:56:31.007Z"
   },
   {
    "duration": 40,
    "start_time": "2023-04-01T13:56:33.675Z"
   },
   {
    "duration": 1489,
    "start_time": "2023-04-01T13:57:23.758Z"
   },
   {
    "duration": 413,
    "start_time": "2023-04-01T13:57:25.249Z"
   },
   {
    "duration": 6,
    "start_time": "2023-04-01T13:57:25.664Z"
   },
   {
    "duration": 1161,
    "start_time": "2023-04-01T13:57:25.672Z"
   },
   {
    "duration": 1008,
    "start_time": "2023-04-01T13:57:26.835Z"
   },
   {
    "duration": 1050,
    "start_time": "2023-04-01T13:57:27.845Z"
   },
   {
    "duration": 4,
    "start_time": "2023-04-01T13:57:28.897Z"
   },
   {
    "duration": 54,
    "start_time": "2023-04-01T13:57:28.917Z"
   },
   {
    "duration": 30,
    "start_time": "2023-04-01T13:57:28.973Z"
   },
   {
    "duration": 78,
    "start_time": "2023-04-01T13:57:29.006Z"
   },
   {
    "duration": 6,
    "start_time": "2023-04-01T13:57:29.086Z"
   },
   {
    "duration": 23,
    "start_time": "2023-04-01T13:57:29.093Z"
   },
   {
    "duration": 18,
    "start_time": "2023-04-01T13:57:29.118Z"
   },
   {
    "duration": 17,
    "start_time": "2023-04-01T13:57:29.138Z"
   },
   {
    "duration": 36,
    "start_time": "2023-04-01T13:57:29.157Z"
   },
   {
    "duration": 16,
    "start_time": "2023-04-01T13:57:29.195Z"
   },
   {
    "duration": 46,
    "start_time": "2023-04-01T13:57:29.213Z"
   },
   {
    "duration": 133,
    "start_time": "2023-04-01T13:57:29.261Z"
   },
   {
    "duration": 0,
    "start_time": "2023-04-01T13:57:29.396Z"
   },
   {
    "duration": 6,
    "start_time": "2023-04-01T14:01:16.575Z"
   },
   {
    "duration": 13,
    "start_time": "2023-04-01T14:01:17.083Z"
   },
   {
    "duration": 5,
    "start_time": "2023-04-01T14:01:18.649Z"
   },
   {
    "duration": 3,
    "start_time": "2023-04-01T14:43:58.276Z"
   },
   {
    "duration": 11,
    "start_time": "2023-04-01T14:43:58.774Z"
   },
   {
    "duration": 3,
    "start_time": "2023-04-01T14:46:48.628Z"
   },
   {
    "duration": 15,
    "start_time": "2023-04-01T14:46:49.198Z"
   },
   {
    "duration": 10,
    "start_time": "2023-04-01T14:49:24.808Z"
   },
   {
    "duration": 3,
    "start_time": "2023-04-01T14:49:33.353Z"
   },
   {
    "duration": 19,
    "start_time": "2023-04-01T14:49:34.258Z"
   },
   {
    "duration": 23,
    "start_time": "2023-04-01T14:49:57.158Z"
   },
   {
    "duration": 17,
    "start_time": "2023-04-01T14:50:11.311Z"
   },
   {
    "duration": 43,
    "start_time": "2023-04-01T15:01:11.379Z"
   },
   {
    "duration": 96,
    "start_time": "2023-04-01T15:25:18.628Z"
   },
   {
    "duration": 93,
    "start_time": "2023-04-01T15:27:34.526Z"
   },
   {
    "duration": 20,
    "start_time": "2023-04-01T15:28:29.232Z"
   },
   {
    "duration": 1382,
    "start_time": "2023-04-01T15:29:29.007Z"
   },
   {
    "duration": 384,
    "start_time": "2023-04-01T15:29:30.391Z"
   },
   {
    "duration": 5,
    "start_time": "2023-04-01T15:29:30.777Z"
   },
   {
    "duration": 1058,
    "start_time": "2023-04-01T15:29:30.783Z"
   },
   {
    "duration": 1030,
    "start_time": "2023-04-01T15:29:31.843Z"
   },
   {
    "duration": 1050,
    "start_time": "2023-04-01T15:29:32.875Z"
   },
   {
    "duration": 4,
    "start_time": "2023-04-01T15:29:33.927Z"
   },
   {
    "duration": 48,
    "start_time": "2023-04-01T15:29:33.933Z"
   },
   {
    "duration": 45,
    "start_time": "2023-04-01T15:29:33.984Z"
   },
   {
    "duration": 78,
    "start_time": "2023-04-01T15:29:34.031Z"
   },
   {
    "duration": 9,
    "start_time": "2023-04-01T15:29:34.110Z"
   },
   {
    "duration": 32,
    "start_time": "2023-04-01T15:29:34.121Z"
   },
   {
    "duration": 5,
    "start_time": "2023-04-01T15:29:34.155Z"
   },
   {
    "duration": 21,
    "start_time": "2023-04-01T15:29:34.162Z"
   },
   {
    "duration": 22,
    "start_time": "2023-04-01T15:29:34.185Z"
   },
   {
    "duration": 12,
    "start_time": "2023-04-01T15:29:34.209Z"
   },
   {
    "duration": 19,
    "start_time": "2023-04-01T15:29:34.223Z"
   },
   {
    "duration": 28,
    "start_time": "2023-04-01T15:29:34.244Z"
   },
   {
    "duration": 10,
    "start_time": "2023-04-01T15:29:34.274Z"
   },
   {
    "duration": 23,
    "start_time": "2023-04-01T15:29:34.286Z"
   },
   {
    "duration": 30,
    "start_time": "2023-04-01T15:29:34.311Z"
   },
   {
    "duration": 14,
    "start_time": "2023-04-01T15:30:33.923Z"
   },
   {
    "duration": 190,
    "start_time": "2023-04-01T15:41:12.925Z"
   },
   {
    "duration": 67,
    "start_time": "2023-04-01T15:41:18.726Z"
   },
   {
    "duration": 4,
    "start_time": "2023-04-01T15:41:35.144Z"
   },
   {
    "duration": 10,
    "start_time": "2023-04-01T15:41:36.284Z"
   },
   {
    "duration": 1388,
    "start_time": "2023-04-01T15:43:07.867Z"
   },
   {
    "duration": 384,
    "start_time": "2023-04-01T15:43:09.257Z"
   },
   {
    "duration": 5,
    "start_time": "2023-04-01T15:43:09.643Z"
   },
   {
    "duration": 1074,
    "start_time": "2023-04-01T15:43:09.649Z"
   },
   {
    "duration": 943,
    "start_time": "2023-04-01T15:43:10.725Z"
   },
   {
    "duration": 1162,
    "start_time": "2023-04-01T15:43:11.669Z"
   },
   {
    "duration": 4,
    "start_time": "2023-04-01T15:43:12.832Z"
   },
   {
    "duration": 43,
    "start_time": "2023-04-01T15:43:12.838Z"
   },
   {
    "duration": 40,
    "start_time": "2023-04-01T15:43:12.883Z"
   },
   {
    "duration": 83,
    "start_time": "2023-04-01T15:43:12.925Z"
   },
   {
    "duration": 9,
    "start_time": "2023-04-01T15:43:13.010Z"
   },
   {
    "duration": 27,
    "start_time": "2023-04-01T15:43:13.020Z"
   },
   {
    "duration": 6,
    "start_time": "2023-04-01T15:43:13.049Z"
   },
   {
    "duration": 7,
    "start_time": "2023-04-01T15:43:13.059Z"
   },
   {
    "duration": 21,
    "start_time": "2023-04-01T15:43:13.067Z"
   },
   {
    "duration": 6,
    "start_time": "2023-04-01T15:43:13.089Z"
   },
   {
    "duration": 26,
    "start_time": "2023-04-01T15:43:13.097Z"
   },
   {
    "duration": 15,
    "start_time": "2023-04-01T15:43:13.124Z"
   },
   {
    "duration": 7,
    "start_time": "2023-04-01T15:43:13.141Z"
   },
   {
    "duration": 10,
    "start_time": "2023-04-01T15:43:13.149Z"
   },
   {
    "duration": 59,
    "start_time": "2023-04-01T15:43:13.160Z"
   },
   {
    "duration": 3,
    "start_time": "2023-04-01T15:43:13.221Z"
   },
   {
    "duration": 93,
    "start_time": "2023-04-01T15:43:13.225Z"
   },
   {
    "duration": 8907,
    "start_time": "2023-04-01T15:43:13.320Z"
   },
   {
    "duration": 3,
    "start_time": "2023-04-01T15:45:02.219Z"
   },
   {
    "duration": 9374,
    "start_time": "2023-04-01T15:45:03.753Z"
   },
   {
    "duration": 8965,
    "start_time": "2023-04-01T15:45:20.056Z"
   },
   {
    "duration": 4,
    "start_time": "2023-04-01T15:46:06.040Z"
   },
   {
    "duration": 108,
    "start_time": "2023-04-01T15:47:28.103Z"
   },
   {
    "duration": 43,
    "start_time": "2023-04-01T15:47:48.230Z"
   },
   {
    "duration": 4,
    "start_time": "2023-04-01T15:49:14.367Z"
   },
   {
    "duration": 3,
    "start_time": "2023-04-01T15:50:35.010Z"
   },
   {
    "duration": 20,
    "start_time": "2023-04-01T15:51:03.010Z"
   },
   {
    "duration": 21,
    "start_time": "2023-04-01T15:55:24.938Z"
   },
   {
    "duration": 16,
    "start_time": "2023-04-01T15:55:40.855Z"
   },
   {
    "duration": 14,
    "start_time": "2023-04-01T15:55:53.987Z"
   },
   {
    "duration": 24,
    "start_time": "2023-04-01T15:55:56.408Z"
   },
   {
    "duration": 15,
    "start_time": "2023-04-01T15:55:58.934Z"
   },
   {
    "duration": 3,
    "start_time": "2023-04-01T15:56:17.785Z"
   },
   {
    "duration": 4,
    "start_time": "2023-04-01T15:57:13.339Z"
   },
   {
    "duration": 11,
    "start_time": "2023-04-01T15:57:14.004Z"
   },
   {
    "duration": 4,
    "start_time": "2023-04-01T15:57:14.826Z"
   },
   {
    "duration": 5,
    "start_time": "2023-04-01T15:57:17.234Z"
   },
   {
    "duration": 10,
    "start_time": "2023-04-01T15:57:18.620Z"
   },
   {
    "duration": 4,
    "start_time": "2023-04-01T15:57:19.235Z"
   },
   {
    "duration": 4,
    "start_time": "2023-04-01T15:57:25.017Z"
   },
   {
    "duration": 20,
    "start_time": "2023-04-01T15:57:25.923Z"
   },
   {
    "duration": 15,
    "start_time": "2023-04-01T15:57:29.724Z"
   },
   {
    "duration": 15,
    "start_time": "2023-04-01T15:57:33.916Z"
   },
   {
    "duration": 51,
    "start_time": "2023-04-01T20:49:57.002Z"
   },
   {
    "duration": 1562,
    "start_time": "2023-04-01T20:50:18.548Z"
   },
   {
    "duration": 1555,
    "start_time": "2023-04-01T20:50:20.112Z"
   },
   {
    "duration": 6,
    "start_time": "2023-04-01T20:50:21.668Z"
   },
   {
    "duration": 1070,
    "start_time": "2023-04-01T20:50:21.675Z"
   },
   {
    "duration": 933,
    "start_time": "2023-04-01T20:50:22.748Z"
   },
   {
    "duration": 1138,
    "start_time": "2023-04-01T20:50:23.683Z"
   },
   {
    "duration": 4,
    "start_time": "2023-04-01T20:50:24.823Z"
   },
   {
    "duration": 82,
    "start_time": "2023-04-01T20:50:24.829Z"
   },
   {
    "duration": 37,
    "start_time": "2023-04-01T20:50:24.913Z"
   },
   {
    "duration": 100,
    "start_time": "2023-04-01T20:50:24.953Z"
   },
   {
    "duration": 8,
    "start_time": "2023-04-01T20:50:25.057Z"
   },
   {
    "duration": 40,
    "start_time": "2023-04-01T20:50:25.067Z"
   },
   {
    "duration": 27,
    "start_time": "2023-04-01T20:50:25.109Z"
   },
   {
    "duration": 37,
    "start_time": "2023-04-01T20:50:25.139Z"
   },
   {
    "duration": 34,
    "start_time": "2023-04-01T20:50:25.178Z"
   },
   {
    "duration": 8,
    "start_time": "2023-04-01T20:50:25.221Z"
   },
   {
    "duration": 34,
    "start_time": "2023-04-01T20:50:25.231Z"
   },
   {
    "duration": 42,
    "start_time": "2023-04-01T20:50:25.267Z"
   },
   {
    "duration": 27,
    "start_time": "2023-04-01T20:50:25.311Z"
   },
   {
    "duration": 18,
    "start_time": "2023-04-01T20:50:25.340Z"
   },
   {
    "duration": 181,
    "start_time": "2023-04-01T20:50:25.360Z"
   },
   {
    "duration": 18,
    "start_time": "2023-04-01T20:50:25.543Z"
   },
   {
    "duration": 197,
    "start_time": "2023-04-01T20:50:25.563Z"
   },
   {
    "duration": 531,
    "start_time": "2023-04-01T20:51:43.924Z"
   },
   {
    "duration": 303,
    "start_time": "2023-04-01T20:52:54.153Z"
   },
   {
    "duration": 111,
    "start_time": "2023-04-01T20:53:36.207Z"
   },
   {
    "duration": 1193,
    "start_time": "2023-04-01T20:53:41.413Z"
   },
   {
    "duration": 1169,
    "start_time": "2023-04-01T20:58:49.863Z"
   },
   {
    "duration": 0,
    "start_time": "2023-04-01T21:00:35.648Z"
   },
   {
    "duration": 0,
    "start_time": "2023-04-01T21:11:25.949Z"
   },
   {
    "duration": 382765,
    "start_time": "2023-04-01T21:11:27.445Z"
   },
   {
    "duration": 2290,
    "start_time": "2023-04-01T21:18:00.327Z"
   },
   {
    "duration": 1536,
    "start_time": "2023-04-01T21:18:37.391Z"
   },
   {
    "duration": 463,
    "start_time": "2023-04-01T21:18:38.929Z"
   },
   {
    "duration": 6,
    "start_time": "2023-04-01T21:18:39.393Z"
   },
   {
    "duration": 1127,
    "start_time": "2023-04-01T21:18:39.400Z"
   },
   {
    "duration": 1050,
    "start_time": "2023-04-01T21:18:40.530Z"
   },
   {
    "duration": 1179,
    "start_time": "2023-04-01T21:18:41.582Z"
   },
   {
    "duration": 4,
    "start_time": "2023-04-01T21:18:42.763Z"
   },
   {
    "duration": 68,
    "start_time": "2023-04-01T21:18:42.769Z"
   },
   {
    "duration": 32,
    "start_time": "2023-04-01T21:18:42.838Z"
   },
   {
    "duration": 110,
    "start_time": "2023-04-01T21:18:42.872Z"
   },
   {
    "duration": 7,
    "start_time": "2023-04-01T21:18:42.984Z"
   },
   {
    "duration": 31,
    "start_time": "2023-04-01T21:18:42.992Z"
   },
   {
    "duration": 30,
    "start_time": "2023-04-01T21:18:43.025Z"
   },
   {
    "duration": 25,
    "start_time": "2023-04-01T21:18:43.058Z"
   },
   {
    "duration": 31,
    "start_time": "2023-04-01T21:18:43.085Z"
   },
   {
    "duration": 20,
    "start_time": "2023-04-01T21:18:43.119Z"
   },
   {
    "duration": 54,
    "start_time": "2023-04-01T21:18:43.140Z"
   },
   {
    "duration": 64,
    "start_time": "2023-04-01T21:18:43.196Z"
   },
   {
    "duration": 23,
    "start_time": "2023-04-01T21:18:43.263Z"
   },
   {
    "duration": 40,
    "start_time": "2023-04-01T21:18:43.288Z"
   },
   {
    "duration": 111,
    "start_time": "2023-04-01T21:18:43.331Z"
   },
   {
    "duration": 104,
    "start_time": "2023-04-01T21:18:43.444Z"
   },
   {
    "duration": 103,
    "start_time": "2023-04-01T21:18:43.550Z"
   },
   {
    "duration": 106,
    "start_time": "2023-04-01T21:30:33.038Z"
   },
   {
    "duration": 17,
    "start_time": "2023-04-01T21:30:48.053Z"
   },
   {
    "duration": 17,
    "start_time": "2023-04-01T21:30:53.425Z"
   },
   {
    "duration": 16,
    "start_time": "2023-04-01T21:31:02.592Z"
   },
   {
    "duration": 15,
    "start_time": "2023-04-01T21:34:22.457Z"
   },
   {
    "duration": 14,
    "start_time": "2023-04-01T21:34:25.624Z"
   },
   {
    "duration": 16,
    "start_time": "2023-04-01T21:34:27.716Z"
   },
   {
    "duration": 18,
    "start_time": "2023-04-01T21:37:15.196Z"
   },
   {
    "duration": 16,
    "start_time": "2023-04-01T21:37:39.808Z"
   },
   {
    "duration": 16,
    "start_time": "2023-04-01T21:37:46.422Z"
   },
   {
    "duration": 67,
    "start_time": "2023-04-01T21:40:00.516Z"
   },
   {
    "duration": 1384,
    "start_time": "2023-04-01T21:40:28.840Z"
   },
   {
    "duration": 411,
    "start_time": "2023-04-01T21:40:30.226Z"
   },
   {
    "duration": 5,
    "start_time": "2023-04-01T21:40:30.640Z"
   },
   {
    "duration": 1094,
    "start_time": "2023-04-01T21:40:30.647Z"
   },
   {
    "duration": 953,
    "start_time": "2023-04-01T21:40:31.743Z"
   },
   {
    "duration": 1163,
    "start_time": "2023-04-01T21:40:32.698Z"
   },
   {
    "duration": 4,
    "start_time": "2023-04-01T21:40:33.863Z"
   },
   {
    "duration": 56,
    "start_time": "2023-04-01T21:40:33.868Z"
   },
   {
    "duration": 55,
    "start_time": "2023-04-01T21:40:33.926Z"
   },
   {
    "duration": 85,
    "start_time": "2023-04-01T21:40:33.984Z"
   },
   {
    "duration": 5,
    "start_time": "2023-04-01T21:40:34.071Z"
   },
   {
    "duration": 21,
    "start_time": "2023-04-01T21:40:34.078Z"
   },
   {
    "duration": 4,
    "start_time": "2023-04-01T21:40:34.101Z"
   },
   {
    "duration": 8,
    "start_time": "2023-04-01T21:40:34.106Z"
   },
   {
    "duration": 37,
    "start_time": "2023-04-01T21:40:34.123Z"
   },
   {
    "duration": 5,
    "start_time": "2023-04-01T21:40:34.161Z"
   },
   {
    "duration": 8,
    "start_time": "2023-04-01T21:40:34.167Z"
   },
   {
    "duration": 22,
    "start_time": "2023-04-01T21:40:34.176Z"
   },
   {
    "duration": 3,
    "start_time": "2023-04-01T21:40:34.200Z"
   },
   {
    "duration": 10,
    "start_time": "2023-04-01T21:40:34.205Z"
   },
   {
    "duration": 26,
    "start_time": "2023-04-01T21:40:34.217Z"
   },
   {
    "duration": 105,
    "start_time": "2023-04-01T21:40:34.244Z"
   },
   {
    "duration": 117,
    "start_time": "2023-04-01T21:40:34.441Z"
   },
   {
    "duration": 125,
    "start_time": "2023-04-01T22:23:01.710Z"
   },
   {
    "duration": 4,
    "start_time": "2023-04-01T22:23:05.593Z"
   },
   {
    "duration": 5,
    "start_time": "2023-04-01T22:23:07.158Z"
   },
   {
    "duration": 4,
    "start_time": "2023-04-01T22:28:46.754Z"
   },
   {
    "duration": 4,
    "start_time": "2023-04-01T22:28:49.505Z"
   },
   {
    "duration": 1840,
    "start_time": "2023-04-03T10:09:44.477Z"
   },
   {
    "duration": 2213,
    "start_time": "2023-04-03T10:09:46.319Z"
   },
   {
    "duration": 12,
    "start_time": "2023-04-03T10:09:48.548Z"
   },
   {
    "duration": 1163,
    "start_time": "2023-04-03T10:09:48.562Z"
   },
   {
    "duration": 1111,
    "start_time": "2023-04-03T10:09:49.727Z"
   },
   {
    "duration": 1258,
    "start_time": "2023-04-03T10:09:50.840Z"
   },
   {
    "duration": 5,
    "start_time": "2023-04-03T10:09:52.099Z"
   },
   {
    "duration": 54,
    "start_time": "2023-04-03T10:09:52.106Z"
   },
   {
    "duration": 58,
    "start_time": "2023-04-03T10:09:52.163Z"
   },
   {
    "duration": 90,
    "start_time": "2023-04-03T10:09:52.233Z"
   },
   {
    "duration": 7,
    "start_time": "2023-04-03T10:09:52.333Z"
   },
   {
    "duration": 37,
    "start_time": "2023-04-03T10:09:52.349Z"
   },
   {
    "duration": 32,
    "start_time": "2023-04-03T10:09:52.388Z"
   },
   {
    "duration": 46,
    "start_time": "2023-04-03T10:09:52.423Z"
   },
   {
    "duration": 37,
    "start_time": "2023-04-03T10:09:52.471Z"
   },
   {
    "duration": 13,
    "start_time": "2023-04-03T10:09:52.510Z"
   },
   {
    "duration": 60,
    "start_time": "2023-04-03T10:09:52.526Z"
   },
   {
    "duration": 35,
    "start_time": "2023-04-03T10:09:52.588Z"
   },
   {
    "duration": 36,
    "start_time": "2023-04-03T10:09:52.625Z"
   },
   {
    "duration": 23,
    "start_time": "2023-04-03T10:09:52.663Z"
   },
   {
    "duration": 149,
    "start_time": "2023-04-03T10:09:52.688Z"
   },
   {
    "duration": 123,
    "start_time": "2023-04-03T10:09:52.840Z"
   },
   {
    "duration": 177,
    "start_time": "2023-04-03T10:09:52.966Z"
   },
   {
    "duration": 9,
    "start_time": "2023-04-03T10:09:53.146Z"
   },
   {
    "duration": 120,
    "start_time": "2023-04-03T10:09:53.160Z"
   },
   {
    "duration": 146,
    "start_time": "2023-04-03T10:09:53.334Z"
   },
   {
    "duration": 13,
    "start_time": "2023-04-03T10:10:02.416Z"
   },
   {
    "duration": 152,
    "start_time": "2023-04-03T10:10:47.970Z"
   },
   {
    "duration": 13,
    "start_time": "2023-04-03T10:13:24.607Z"
   },
   {
    "duration": 36,
    "start_time": "2023-04-03T10:13:29.905Z"
   },
   {
    "duration": 16,
    "start_time": "2023-04-03T10:13:52.967Z"
   },
   {
    "duration": 13,
    "start_time": "2023-04-03T10:14:32.264Z"
   },
   {
    "duration": 17,
    "start_time": "2023-04-03T10:14:46.794Z"
   },
   {
    "duration": 17,
    "start_time": "2023-04-03T10:15:02.673Z"
   },
   {
    "duration": 20,
    "start_time": "2023-04-03T10:15:08.421Z"
   },
   {
    "duration": 22,
    "start_time": "2023-04-03T10:15:34.634Z"
   },
   {
    "duration": 18,
    "start_time": "2023-04-03T10:15:36.075Z"
   },
   {
    "duration": 20,
    "start_time": "2023-04-03T10:16:59.086Z"
   },
   {
    "duration": 10,
    "start_time": "2023-04-03T10:17:42.561Z"
   },
   {
    "duration": 20,
    "start_time": "2023-04-03T10:17:47.804Z"
   },
   {
    "duration": 13,
    "start_time": "2023-04-03T10:18:13.598Z"
   },
   {
    "duration": 38,
    "start_time": "2023-04-03T10:18:43.378Z"
   },
   {
    "duration": 33,
    "start_time": "2023-04-03T10:19:08.546Z"
   },
   {
    "duration": 28,
    "start_time": "2023-04-03T10:19:09.597Z"
   },
   {
    "duration": 28,
    "start_time": "2023-04-03T10:19:10.419Z"
   },
   {
    "duration": 18,
    "start_time": "2023-04-03T10:21:13.327Z"
   },
   {
    "duration": 19,
    "start_time": "2023-04-03T10:24:31.210Z"
   },
   {
    "duration": 18,
    "start_time": "2023-04-03T10:25:11.865Z"
   },
   {
    "duration": 22,
    "start_time": "2023-04-03T10:25:24.999Z"
   },
   {
    "duration": 13,
    "start_time": "2023-04-03T11:11:57.833Z"
   },
   {
    "duration": 1783,
    "start_time": "2023-04-03T15:31:55.629Z"
   },
   {
    "duration": 2018,
    "start_time": "2023-04-03T15:31:57.415Z"
   },
   {
    "duration": 6,
    "start_time": "2023-04-03T15:31:59.436Z"
   },
   {
    "duration": 1165,
    "start_time": "2023-04-03T15:31:59.444Z"
   },
   {
    "duration": 1065,
    "start_time": "2023-04-03T15:32:00.611Z"
   },
   {
    "duration": 1272,
    "start_time": "2023-04-03T15:32:01.678Z"
   },
   {
    "duration": 4,
    "start_time": "2023-04-03T15:32:02.952Z"
   },
   {
    "duration": 66,
    "start_time": "2023-04-03T15:32:02.957Z"
   },
   {
    "duration": 60,
    "start_time": "2023-04-03T15:32:03.031Z"
   },
   {
    "duration": 85,
    "start_time": "2023-04-03T15:32:03.093Z"
   },
   {
    "duration": 5,
    "start_time": "2023-04-03T15:32:03.180Z"
   },
   {
    "duration": 44,
    "start_time": "2023-04-03T15:32:03.187Z"
   },
   {
    "duration": 100,
    "start_time": "2023-04-03T15:32:03.232Z"
   },
   {
    "duration": 40,
    "start_time": "2023-04-03T15:32:03.335Z"
   },
   {
    "duration": 30,
    "start_time": "2023-04-03T15:32:03.377Z"
   },
   {
    "duration": 27,
    "start_time": "2023-04-03T15:32:03.409Z"
   },
   {
    "duration": 22,
    "start_time": "2023-04-03T15:32:03.437Z"
   },
   {
    "duration": 22,
    "start_time": "2023-04-03T15:32:03.460Z"
   },
   {
    "duration": 4,
    "start_time": "2023-04-03T15:32:03.484Z"
   },
   {
    "duration": 16,
    "start_time": "2023-04-03T15:32:03.489Z"
   },
   {
    "duration": 129,
    "start_time": "2023-04-03T15:32:03.507Z"
   },
   {
    "duration": 190,
    "start_time": "2023-04-03T15:32:03.639Z"
   },
   {
    "duration": 105,
    "start_time": "2023-04-03T15:32:03.833Z"
   },
   {
    "duration": 187,
    "start_time": "2023-04-03T15:32:03.941Z"
   },
   {
    "duration": 17,
    "start_time": "2023-04-03T15:32:04.130Z"
   },
   {
    "duration": 38,
    "start_time": "2023-04-03T15:32:04.149Z"
   },
   {
    "duration": 19,
    "start_time": "2023-04-03T15:32:04.189Z"
   },
   {
    "duration": 25,
    "start_time": "2023-04-03T15:32:04.209Z"
   },
   {
    "duration": 11,
    "start_time": "2023-04-03T15:32:04.235Z"
   },
   {
    "duration": 59,
    "start_time": "2023-04-03T15:32:04.248Z"
   },
   {
    "duration": 5,
    "start_time": "2023-04-03T15:40:51.077Z"
   },
   {
    "duration": 156,
    "start_time": "2023-04-03T15:41:16.901Z"
   },
   {
    "duration": 3,
    "start_time": "2023-04-03T15:41:34.453Z"
   },
   {
    "duration": 10,
    "start_time": "2023-04-03T15:41:35.246Z"
   },
   {
    "duration": 5,
    "start_time": "2023-04-03T15:42:46.820Z"
   },
   {
    "duration": 8,
    "start_time": "2023-04-03T15:42:47.756Z"
   },
   {
    "duration": 8,
    "start_time": "2023-04-03T15:43:19.245Z"
   },
   {
    "duration": 11,
    "start_time": "2023-04-03T15:43:20.233Z"
   },
   {
    "duration": 4,
    "start_time": "2023-04-03T15:47:23.988Z"
   },
   {
    "duration": 12,
    "start_time": "2023-04-03T15:47:24.536Z"
   },
   {
    "duration": 4,
    "start_time": "2023-04-03T15:47:46.499Z"
   },
   {
    "duration": 10,
    "start_time": "2023-04-03T15:47:47.056Z"
   },
   {
    "duration": 11,
    "start_time": "2023-04-03T15:47:49.475Z"
   },
   {
    "duration": 4,
    "start_time": "2023-04-03T15:50:50.867Z"
   },
   {
    "duration": 11,
    "start_time": "2023-04-03T15:50:54.833Z"
   },
   {
    "duration": 4,
    "start_time": "2023-04-03T15:51:11.564Z"
   },
   {
    "duration": 9,
    "start_time": "2023-04-03T15:51:13.548Z"
   },
   {
    "duration": 8,
    "start_time": "2023-04-03T15:51:17.489Z"
   },
   {
    "duration": 9,
    "start_time": "2023-04-03T15:51:20.591Z"
   },
   {
    "duration": 6,
    "start_time": "2023-04-03T15:53:33.189Z"
   },
   {
    "duration": 9,
    "start_time": "2023-04-03T15:53:35.104Z"
   },
   {
    "duration": 10,
    "start_time": "2023-04-03T15:53:38.249Z"
   },
   {
    "duration": 16,
    "start_time": "2023-04-03T15:53:42.735Z"
   },
   {
    "duration": 5,
    "start_time": "2023-04-03T16:32:48.828Z"
   },
   {
    "duration": 20,
    "start_time": "2023-04-03T16:33:10.838Z"
   },
   {
    "duration": 5,
    "start_time": "2023-04-03T16:34:10.976Z"
   },
   {
    "duration": 14,
    "start_time": "2023-04-03T16:34:11.638Z"
   },
   {
    "duration": 5,
    "start_time": "2023-04-03T16:34:32.187Z"
   },
   {
    "duration": 14,
    "start_time": "2023-04-03T16:34:32.533Z"
   },
   {
    "duration": 6,
    "start_time": "2023-04-03T16:38:45.936Z"
   },
   {
    "duration": 13,
    "start_time": "2023-04-03T16:38:46.755Z"
   },
   {
    "duration": 5,
    "start_time": "2023-04-03T16:40:09.688Z"
   },
   {
    "duration": 15,
    "start_time": "2023-04-03T16:40:10.640Z"
   },
   {
    "duration": 6,
    "start_time": "2023-04-03T16:42:51.253Z"
   },
   {
    "duration": 126,
    "start_time": "2023-04-03T16:42:52.149Z"
   },
   {
    "duration": 5,
    "start_time": "2023-04-03T16:46:39.669Z"
   },
   {
    "duration": 516,
    "start_time": "2023-04-03T16:46:40.356Z"
   },
   {
    "duration": 8,
    "start_time": "2023-04-03T16:47:28.064Z"
   },
   {
    "duration": 340,
    "start_time": "2023-04-03T16:47:28.659Z"
   },
   {
    "duration": 5,
    "start_time": "2023-04-03T16:47:59.805Z"
   },
   {
    "duration": 446,
    "start_time": "2023-04-03T16:48:00.801Z"
   },
   {
    "duration": 1456,
    "start_time": "2023-04-03T17:40:43.443Z"
   },
   {
    "duration": 459,
    "start_time": "2023-04-03T17:40:44.901Z"
   },
   {
    "duration": 4,
    "start_time": "2023-04-03T17:40:45.362Z"
   },
   {
    "duration": 1107,
    "start_time": "2023-04-03T17:40:45.369Z"
   },
   {
    "duration": 1029,
    "start_time": "2023-04-03T17:40:46.479Z"
   },
   {
    "duration": 1171,
    "start_time": "2023-04-03T17:40:47.510Z"
   },
   {
    "duration": 5,
    "start_time": "2023-04-03T17:40:48.683Z"
   },
   {
    "duration": 67,
    "start_time": "2023-04-03T17:40:48.690Z"
   },
   {
    "duration": 78,
    "start_time": "2023-04-03T17:40:48.759Z"
   },
   {
    "duration": 96,
    "start_time": "2023-04-03T17:40:48.841Z"
   },
   {
    "duration": 5,
    "start_time": "2023-04-03T17:40:48.939Z"
   },
   {
    "duration": 22,
    "start_time": "2023-04-03T17:40:48.945Z"
   },
   {
    "duration": 13,
    "start_time": "2023-04-03T17:40:48.969Z"
   },
   {
    "duration": 22,
    "start_time": "2023-04-03T17:40:48.984Z"
   },
   {
    "duration": 36,
    "start_time": "2023-04-03T17:40:49.007Z"
   },
   {
    "duration": 23,
    "start_time": "2023-04-03T17:40:49.045Z"
   },
   {
    "duration": 20,
    "start_time": "2023-04-03T17:40:49.070Z"
   },
   {
    "duration": 69,
    "start_time": "2023-04-03T17:40:49.092Z"
   },
   {
    "duration": 5,
    "start_time": "2023-04-03T17:40:49.163Z"
   },
   {
    "duration": 19,
    "start_time": "2023-04-03T17:40:49.170Z"
   },
   {
    "duration": 129,
    "start_time": "2023-04-03T17:40:49.191Z"
   },
   {
    "duration": 108,
    "start_time": "2023-04-03T17:40:49.322Z"
   },
   {
    "duration": 189,
    "start_time": "2023-04-03T17:40:49.435Z"
   },
   {
    "duration": 7,
    "start_time": "2023-04-03T17:40:49.629Z"
   },
   {
    "duration": 107,
    "start_time": "2023-04-03T17:40:49.638Z"
   },
   {
    "duration": 23,
    "start_time": "2023-04-03T17:40:49.747Z"
   },
   {
    "duration": 19,
    "start_time": "2023-04-03T17:40:49.772Z"
   },
   {
    "duration": 20,
    "start_time": "2023-04-03T17:40:49.794Z"
   },
   {
    "duration": 8,
    "start_time": "2023-04-03T17:40:49.820Z"
   },
   {
    "duration": 31,
    "start_time": "2023-04-03T17:40:49.832Z"
   },
   {
    "duration": 8,
    "start_time": "2023-04-03T17:40:49.865Z"
   },
   {
    "duration": 27,
    "start_time": "2023-04-03T17:40:49.875Z"
   },
   {
    "duration": 10,
    "start_time": "2023-04-03T17:40:49.904Z"
   },
   {
    "duration": 27,
    "start_time": "2023-04-03T17:40:49.916Z"
   },
   {
    "duration": 446,
    "start_time": "2023-04-03T17:40:49.945Z"
   },
   {
    "duration": 5,
    "start_time": "2023-04-03T17:43:48.334Z"
   },
   {
    "duration": 17,
    "start_time": "2023-04-03T17:44:03.294Z"
   },
   {
    "duration": 7,
    "start_time": "2023-04-03T17:44:23.985Z"
   },
   {
    "duration": 15,
    "start_time": "2023-04-03T17:44:27.810Z"
   },
   {
    "duration": 5,
    "start_time": "2023-04-03T17:45:00.733Z"
   },
   {
    "duration": 844,
    "start_time": "2023-04-03T17:45:04.579Z"
   },
   {
    "duration": 6,
    "start_time": "2023-04-03T17:47:32.732Z"
   },
   {
    "duration": 27,
    "start_time": "2023-04-03T17:47:33.342Z"
   },
   {
    "duration": 6,
    "start_time": "2023-04-03T17:51:40.672Z"
   },
   {
    "duration": 37,
    "start_time": "2023-04-03T17:51:41.941Z"
   },
   {
    "duration": 5,
    "start_time": "2023-04-03T17:53:12.777Z"
   },
   {
    "duration": 30,
    "start_time": "2023-04-03T17:53:13.520Z"
   },
   {
    "duration": 851,
    "start_time": "2023-04-03T17:53:42.415Z"
   },
   {
    "duration": 13,
    "start_time": "2023-04-03T17:56:29.048Z"
   },
   {
    "duration": 1209,
    "start_time": "2023-04-03T17:57:43.553Z"
   },
   {
    "duration": 15,
    "start_time": "2023-04-03T17:58:05.329Z"
   },
   {
    "duration": 12,
    "start_time": "2023-04-03T18:00:08.104Z"
   },
   {
    "duration": 5,
    "start_time": "2023-04-03T18:00:35.447Z"
   },
   {
    "duration": 8,
    "start_time": "2023-04-03T18:01:03.327Z"
   },
   {
    "duration": 14,
    "start_time": "2023-04-03T18:01:30.751Z"
   },
   {
    "duration": 5,
    "start_time": "2023-04-03T18:02:28.806Z"
   },
   {
    "duration": 8,
    "start_time": "2023-04-03T18:02:29.663Z"
   },
   {
    "duration": 80,
    "start_time": "2023-04-03T18:04:28.175Z"
   },
   {
    "duration": 101,
    "start_time": "2023-04-03T18:04:53.511Z"
   },
   {
    "duration": 6,
    "start_time": "2023-04-03T18:05:09.706Z"
   },
   {
    "duration": 10,
    "start_time": "2023-04-03T18:05:10.752Z"
   },
   {
    "duration": 5,
    "start_time": "2023-04-03T18:06:37.871Z"
   },
   {
    "duration": 8,
    "start_time": "2023-04-03T18:06:38.833Z"
   },
   {
    "duration": 7,
    "start_time": "2023-04-03T18:13:46.823Z"
   },
   {
    "duration": 14,
    "start_time": "2023-04-03T18:13:47.735Z"
   },
   {
    "duration": 6,
    "start_time": "2023-04-03T18:14:33.296Z"
   },
   {
    "duration": 16,
    "start_time": "2023-04-03T18:14:34.895Z"
   },
   {
    "duration": 7,
    "start_time": "2023-04-03T18:14:58.122Z"
   },
   {
    "duration": 26,
    "start_time": "2023-04-03T18:14:59.059Z"
   },
   {
    "duration": 8,
    "start_time": "2023-04-03T18:19:00.645Z"
   },
   {
    "duration": 35,
    "start_time": "2023-04-03T18:19:01.622Z"
   },
   {
    "duration": 6,
    "start_time": "2023-04-03T18:21:56.465Z"
   },
   {
    "duration": 30,
    "start_time": "2023-04-03T18:21:57.499Z"
   },
   {
    "duration": 7,
    "start_time": "2023-04-03T18:23:26.919Z"
   },
   {
    "duration": 30,
    "start_time": "2023-04-03T18:23:27.573Z"
   },
   {
    "duration": 5,
    "start_time": "2023-04-03T18:24:30.753Z"
   },
   {
    "duration": 31,
    "start_time": "2023-04-03T18:24:31.584Z"
   },
   {
    "duration": 30,
    "start_time": "2023-04-03T18:24:41.138Z"
   },
   {
    "duration": 3,
    "start_time": "2023-04-03T18:25:15.968Z"
   },
   {
    "duration": 5,
    "start_time": "2023-04-03T18:25:29.479Z"
   },
   {
    "duration": 37,
    "start_time": "2023-04-03T18:25:30.264Z"
   },
   {
    "duration": 6,
    "start_time": "2023-04-03T18:26:49.035Z"
   },
   {
    "duration": 42,
    "start_time": "2023-04-03T18:26:50.036Z"
   },
   {
    "duration": 7,
    "start_time": "2023-04-03T18:28:32.478Z"
   },
   {
    "duration": 16,
    "start_time": "2023-04-03T18:28:33.310Z"
   },
   {
    "duration": 7,
    "start_time": "2023-04-03T18:30:16.622Z"
   },
   {
    "duration": 15,
    "start_time": "2023-04-03T18:30:17.571Z"
   },
   {
    "duration": 6,
    "start_time": "2023-04-03T18:33:49.385Z"
   },
   {
    "duration": 14,
    "start_time": "2023-04-03T18:33:50.212Z"
   },
   {
    "duration": 5,
    "start_time": "2023-04-03T18:34:59.008Z"
   },
   {
    "duration": 12,
    "start_time": "2023-04-03T18:34:59.929Z"
   },
   {
    "duration": 5,
    "start_time": "2023-04-03T18:36:06.750Z"
   },
   {
    "duration": 31,
    "start_time": "2023-04-03T18:36:07.239Z"
   },
   {
    "duration": 7,
    "start_time": "2023-04-03T18:38:34.770Z"
   },
   {
    "duration": 29,
    "start_time": "2023-04-03T18:38:36.407Z"
   },
   {
    "duration": 7,
    "start_time": "2023-04-03T18:38:51.985Z"
   },
   {
    "duration": 40,
    "start_time": "2023-04-03T18:38:52.669Z"
   },
   {
    "duration": 5,
    "start_time": "2023-04-03T18:40:39.012Z"
   },
   {
    "duration": 17,
    "start_time": "2023-04-03T18:40:55.180Z"
   },
   {
    "duration": 13,
    "start_time": "2023-04-03T18:41:14.610Z"
   },
   {
    "duration": 80,
    "start_time": "2023-04-03T19:04:03.901Z"
   },
   {
    "duration": 7,
    "start_time": "2023-04-03T19:04:56.329Z"
   },
   {
    "duration": 1187,
    "start_time": "2023-04-03T19:05:23.365Z"
   },
   {
    "duration": 5,
    "start_time": "2023-04-03T19:05:38.624Z"
   },
   {
    "duration": 31,
    "start_time": "2023-04-03T19:05:39.368Z"
   },
   {
    "duration": 4,
    "start_time": "2023-04-03T19:06:38.147Z"
   },
   {
    "duration": 19,
    "start_time": "2023-04-03T19:06:39.466Z"
   },
   {
    "duration": 5,
    "start_time": "2023-04-03T19:09:17.059Z"
   },
   {
    "duration": 1695,
    "start_time": "2023-04-03T19:09:17.767Z"
   },
   {
    "duration": 6,
    "start_time": "2023-04-03T19:35:17.531Z"
   },
   {
    "duration": 1761,
    "start_time": "2023-04-03T19:35:18.376Z"
   },
   {
    "duration": 5,
    "start_time": "2023-04-03T19:35:31.530Z"
   },
   {
    "duration": 1775,
    "start_time": "2023-04-03T19:35:32.245Z"
   },
   {
    "duration": 7,
    "start_time": "2023-04-03T19:35:59.359Z"
   },
   {
    "duration": 1774,
    "start_time": "2023-04-03T19:35:59.916Z"
   },
   {
    "duration": 6,
    "start_time": "2023-04-03T19:36:59.539Z"
   },
   {
    "duration": 1798,
    "start_time": "2023-04-03T19:37:00.662Z"
   },
   {
    "duration": 5,
    "start_time": "2023-04-03T19:38:35.817Z"
   },
   {
    "duration": 1739,
    "start_time": "2023-04-03T19:38:36.560Z"
   },
   {
    "duration": 4,
    "start_time": "2023-04-03T19:39:17.578Z"
   },
   {
    "duration": 5,
    "start_time": "2023-04-03T19:39:22.212Z"
   },
   {
    "duration": 1707,
    "start_time": "2023-04-03T19:39:22.976Z"
   },
   {
    "duration": 6,
    "start_time": "2023-04-03T19:44:28.026Z"
   },
   {
    "duration": 18,
    "start_time": "2023-04-03T19:44:29.087Z"
   },
   {
    "duration": 7,
    "start_time": "2023-04-03T19:46:15.187Z"
   },
   {
    "duration": 19,
    "start_time": "2023-04-03T19:46:16.263Z"
   },
   {
    "duration": 5,
    "start_time": "2023-04-03T19:46:39.515Z"
   },
   {
    "duration": 1742,
    "start_time": "2023-04-03T19:46:40.470Z"
   },
   {
    "duration": 1758,
    "start_time": "2023-04-03T19:47:03.080Z"
   },
   {
    "duration": 1440,
    "start_time": "2023-04-03T19:48:04.127Z"
   },
   {
    "duration": 408,
    "start_time": "2023-04-03T19:48:05.569Z"
   },
   {
    "duration": 5,
    "start_time": "2023-04-03T19:48:05.979Z"
   },
   {
    "duration": 1096,
    "start_time": "2023-04-03T19:48:05.986Z"
   },
   {
    "duration": 969,
    "start_time": "2023-04-03T19:48:07.084Z"
   },
   {
    "duration": 1053,
    "start_time": "2023-04-03T19:48:08.055Z"
   },
   {
    "duration": 8,
    "start_time": "2023-04-03T19:48:09.110Z"
   },
   {
    "duration": 46,
    "start_time": "2023-04-03T19:48:09.119Z"
   },
   {
    "duration": 59,
    "start_time": "2023-04-03T19:48:09.167Z"
   },
   {
    "duration": 73,
    "start_time": "2023-04-03T19:48:09.229Z"
   },
   {
    "duration": 14,
    "start_time": "2023-04-03T19:48:09.304Z"
   },
   {
    "duration": 17,
    "start_time": "2023-04-03T19:48:09.320Z"
   },
   {
    "duration": 12,
    "start_time": "2023-04-03T19:48:09.338Z"
   },
   {
    "duration": 15,
    "start_time": "2023-04-03T19:48:09.352Z"
   },
   {
    "duration": 17,
    "start_time": "2023-04-03T19:48:09.369Z"
   },
   {
    "duration": 7,
    "start_time": "2023-04-03T19:48:09.388Z"
   },
   {
    "duration": 15,
    "start_time": "2023-04-03T19:48:09.397Z"
   },
   {
    "duration": 17,
    "start_time": "2023-04-03T19:48:09.413Z"
   },
   {
    "duration": 4,
    "start_time": "2023-04-03T19:48:09.432Z"
   },
   {
    "duration": 11,
    "start_time": "2023-04-03T19:48:09.437Z"
   },
   {
    "duration": 67,
    "start_time": "2023-04-03T19:48:09.450Z"
   },
   {
    "duration": 105,
    "start_time": "2023-04-03T19:48:09.521Z"
   },
   {
    "duration": 198,
    "start_time": "2023-04-03T19:48:09.628Z"
   },
   {
    "duration": 93,
    "start_time": "2023-04-03T19:48:09.830Z"
   },
   {
    "duration": 106,
    "start_time": "2023-04-03T19:48:09.927Z"
   },
   {
    "duration": 27,
    "start_time": "2023-04-03T19:48:10.034Z"
   },
   {
    "duration": 18,
    "start_time": "2023-04-03T19:48:10.062Z"
   },
   {
    "duration": 19,
    "start_time": "2023-04-03T19:48:10.083Z"
   },
   {
    "duration": 14,
    "start_time": "2023-04-03T19:48:10.103Z"
   },
   {
    "duration": 9,
    "start_time": "2023-04-03T19:48:10.119Z"
   },
   {
    "duration": 7,
    "start_time": "2023-04-03T19:48:10.129Z"
   },
   {
    "duration": 14,
    "start_time": "2023-04-03T19:48:10.137Z"
   },
   {
    "duration": 11,
    "start_time": "2023-04-03T19:48:10.153Z"
   },
   {
    "duration": 2163,
    "start_time": "2023-04-03T19:48:10.165Z"
   },
   {
    "duration": 2287,
    "start_time": "2023-04-03T19:48:12.330Z"
   },
   {
    "duration": 5,
    "start_time": "2023-04-03T19:48:14.619Z"
   },
   {
    "duration": 150,
    "start_time": "2023-04-03T19:48:14.626Z"
   },
   {
    "duration": 0,
    "start_time": "2023-04-03T19:48:14.778Z"
   },
   {
    "duration": 0,
    "start_time": "2023-04-03T19:48:14.779Z"
   },
   {
    "duration": 0,
    "start_time": "2023-04-03T19:48:14.781Z"
   },
   {
    "duration": 0,
    "start_time": "2023-04-03T19:48:14.782Z"
   },
   {
    "duration": 0,
    "start_time": "2023-04-03T19:48:14.784Z"
   },
   {
    "duration": 0,
    "start_time": "2023-04-03T19:48:14.785Z"
   },
   {
    "duration": 4,
    "start_time": "2023-04-03T19:49:49.901Z"
   },
   {
    "duration": 9,
    "start_time": "2023-04-03T19:49:51.253Z"
   },
   {
    "duration": 4,
    "start_time": "2023-04-03T19:50:52.678Z"
   },
   {
    "duration": 5,
    "start_time": "2023-04-03T19:51:38.814Z"
   },
   {
    "duration": 1710,
    "start_time": "2023-04-03T19:51:39.384Z"
   },
   {
    "duration": 1721,
    "start_time": "2023-04-03T19:51:58.983Z"
   },
   {
    "duration": 12,
    "start_time": "2023-04-03T19:52:00.705Z"
   },
   {
    "duration": 13,
    "start_time": "2023-04-03T19:52:15.513Z"
   },
   {
    "duration": 6,
    "start_time": "2023-04-03T19:53:46.173Z"
   },
   {
    "duration": 2305,
    "start_time": "2023-04-03T19:53:47.221Z"
   },
   {
    "duration": 5,
    "start_time": "2023-04-03T19:54:45.473Z"
   },
   {
    "duration": 68,
    "start_time": "2023-04-03T19:54:46.224Z"
   },
   {
    "duration": 6,
    "start_time": "2023-04-03T19:54:54.981Z"
   },
   {
    "duration": 7,
    "start_time": "2023-04-03T19:54:58.131Z"
   },
   {
    "duration": 54,
    "start_time": "2023-04-03T20:27:15.852Z"
   },
   {
    "duration": 6,
    "start_time": "2023-04-03T20:33:24.606Z"
   },
   {
    "duration": 18,
    "start_time": "2023-04-03T20:33:26.552Z"
   },
   {
    "duration": 5,
    "start_time": "2023-04-03T20:34:53.304Z"
   },
   {
    "duration": 23,
    "start_time": "2023-04-03T20:34:54.133Z"
   },
   {
    "duration": 10,
    "start_time": "2023-04-03T20:37:24.660Z"
   },
   {
    "duration": 11,
    "start_time": "2023-04-03T20:37:32.902Z"
   },
   {
    "duration": 9,
    "start_time": "2023-04-03T20:37:45.008Z"
   },
   {
    "duration": 9,
    "start_time": "2023-04-03T20:38:37.637Z"
   },
   {
    "duration": 8,
    "start_time": "2023-04-03T20:38:39.720Z"
   },
   {
    "duration": 8,
    "start_time": "2023-04-03T20:42:18.063Z"
   },
   {
    "duration": 27,
    "start_time": "2023-04-03T20:42:21.491Z"
   },
   {
    "duration": 7,
    "start_time": "2023-04-03T20:43:25.871Z"
   },
   {
    "duration": 46,
    "start_time": "2023-04-03T20:43:27.106Z"
   },
   {
    "duration": 9,
    "start_time": "2023-04-03T20:45:02.662Z"
   },
   {
    "duration": 42,
    "start_time": "2023-04-03T20:45:04.360Z"
   },
   {
    "duration": 7,
    "start_time": "2023-04-03T20:45:21.215Z"
   },
   {
    "duration": 403,
    "start_time": "2023-04-03T20:45:22.346Z"
   },
   {
    "duration": 8,
    "start_time": "2023-04-03T20:53:24.937Z"
   },
   {
    "duration": 3704,
    "start_time": "2023-04-03T20:53:25.705Z"
   },
   {
    "duration": 6,
    "start_time": "2023-04-03T20:54:51.051Z"
   },
   {
    "duration": 32,
    "start_time": "2023-04-03T20:54:52.620Z"
   },
   {
    "duration": 6,
    "start_time": "2023-04-03T20:59:23.601Z"
   },
   {
    "duration": 24,
    "start_time": "2023-04-03T20:59:24.391Z"
   },
   {
    "duration": 25,
    "start_time": "2023-04-03T20:59:26.301Z"
   },
   {
    "duration": 6,
    "start_time": "2023-04-03T21:01:17.118Z"
   },
   {
    "duration": 23,
    "start_time": "2023-04-03T21:01:18.204Z"
   },
   {
    "duration": 8,
    "start_time": "2023-04-03T21:03:02.813Z"
   },
   {
    "duration": 24,
    "start_time": "2023-04-03T21:03:03.528Z"
   },
   {
    "duration": 11,
    "start_time": "2023-04-03T21:06:15.715Z"
   },
   {
    "duration": 23,
    "start_time": "2023-04-03T21:06:16.755Z"
   },
   {
    "duration": 6,
    "start_time": "2023-04-03T21:07:09.789Z"
   },
   {
    "duration": 17,
    "start_time": "2023-04-03T21:07:10.547Z"
   },
   {
    "duration": 8,
    "start_time": "2023-04-03T21:07:31.911Z"
   },
   {
    "duration": 18,
    "start_time": "2023-04-03T21:07:33.235Z"
   },
   {
    "duration": 6,
    "start_time": "2023-04-03T21:07:57.171Z"
   },
   {
    "duration": 24,
    "start_time": "2023-04-03T21:07:58.186Z"
   },
   {
    "duration": 11,
    "start_time": "2023-04-03T21:09:33.716Z"
   },
   {
    "duration": 19,
    "start_time": "2023-04-03T21:09:48.800Z"
   },
   {
    "duration": 7,
    "start_time": "2023-04-03T21:11:19.938Z"
   },
   {
    "duration": 20,
    "start_time": "2023-04-03T21:11:24.209Z"
   },
   {
    "duration": 6,
    "start_time": "2023-04-03T21:12:27.285Z"
   },
   {
    "duration": 32,
    "start_time": "2023-04-03T21:12:31.772Z"
   },
   {
    "duration": 5,
    "start_time": "2023-04-03T21:16:56.355Z"
   },
   {
    "duration": 25,
    "start_time": "2023-04-03T21:17:14.809Z"
   },
   {
    "duration": 17,
    "start_time": "2023-04-03T21:19:50.023Z"
   },
   {
    "duration": 5,
    "start_time": "2023-04-03T21:22:26.763Z"
   },
   {
    "duration": 25,
    "start_time": "2023-04-03T21:22:28.340Z"
   },
   {
    "duration": 5,
    "start_time": "2023-04-03T21:24:11.098Z"
   },
   {
    "duration": 33,
    "start_time": "2023-04-03T21:24:12.549Z"
   },
   {
    "duration": 13,
    "start_time": "2023-04-03T21:25:40.232Z"
   },
   {
    "duration": 26,
    "start_time": "2023-04-03T21:26:40.064Z"
   },
   {
    "duration": 3,
    "start_time": "2023-04-03T21:27:50.598Z"
   },
   {
    "duration": 12,
    "start_time": "2023-04-03T21:27:53.193Z"
   },
   {
    "duration": 13,
    "start_time": "2023-04-03T21:31:51.494Z"
   },
   {
    "duration": 20,
    "start_time": "2023-04-03T21:32:00.656Z"
   },
   {
    "duration": 1205,
    "start_time": "2023-04-03T21:33:28.393Z"
   },
   {
    "duration": 1017,
    "start_time": "2023-04-03T21:33:51.790Z"
   },
   {
    "duration": 976,
    "start_time": "2023-04-03T21:34:26.690Z"
   },
   {
    "duration": 1033,
    "start_time": "2023-04-03T21:35:19.853Z"
   },
   {
    "duration": 1064,
    "start_time": "2023-04-03T21:35:43.947Z"
   },
   {
    "duration": 1024,
    "start_time": "2023-04-03T21:37:25.550Z"
   },
   {
    "duration": 1072,
    "start_time": "2023-04-03T21:38:55.124Z"
   },
   {
    "duration": 1004,
    "start_time": "2023-04-03T21:41:39.257Z"
   },
   {
    "duration": 1078,
    "start_time": "2023-04-03T21:41:49.384Z"
   },
   {
    "duration": 14,
    "start_time": "2023-04-03T21:44:09.058Z"
   },
   {
    "duration": 1054,
    "start_time": "2023-04-03T21:45:10.070Z"
   },
   {
    "duration": 1050,
    "start_time": "2023-04-03T21:45:23.509Z"
   },
   {
    "duration": 15,
    "start_time": "2023-04-03T21:45:46.184Z"
   },
   {
    "duration": 1051,
    "start_time": "2023-04-03T21:45:53.918Z"
   },
   {
    "duration": 1763,
    "start_time": "2023-04-04T08:52:46.469Z"
   },
   {
    "duration": 1663,
    "start_time": "2023-04-04T08:52:48.234Z"
   },
   {
    "duration": 6,
    "start_time": "2023-04-04T08:52:49.898Z"
   },
   {
    "duration": 1230,
    "start_time": "2023-04-04T08:52:49.906Z"
   },
   {
    "duration": 998,
    "start_time": "2023-04-04T08:52:51.139Z"
   },
   {
    "duration": 1111,
    "start_time": "2023-04-04T08:52:52.139Z"
   },
   {
    "duration": 4,
    "start_time": "2023-04-04T08:52:53.252Z"
   },
   {
    "duration": 54,
    "start_time": "2023-04-04T08:52:53.258Z"
   },
   {
    "duration": 58,
    "start_time": "2023-04-04T08:52:53.314Z"
   },
   {
    "duration": 87,
    "start_time": "2023-04-04T08:52:53.374Z"
   },
   {
    "duration": 4,
    "start_time": "2023-04-04T08:52:53.463Z"
   },
   {
    "duration": 29,
    "start_time": "2023-04-04T08:52:53.469Z"
   },
   {
    "duration": 4,
    "start_time": "2023-04-04T08:52:53.500Z"
   },
   {
    "duration": 6,
    "start_time": "2023-04-04T08:52:53.507Z"
   },
   {
    "duration": 17,
    "start_time": "2023-04-04T08:52:53.515Z"
   },
   {
    "duration": 5,
    "start_time": "2023-04-04T08:52:53.533Z"
   },
   {
    "duration": 8,
    "start_time": "2023-04-04T08:52:53.539Z"
   },
   {
    "duration": 49,
    "start_time": "2023-04-04T08:52:53.548Z"
   },
   {
    "duration": 4,
    "start_time": "2023-04-04T08:52:53.599Z"
   },
   {
    "duration": 4,
    "start_time": "2023-04-04T08:52:53.605Z"
   },
   {
    "duration": 177,
    "start_time": "2023-04-04T08:52:53.611Z"
   },
   {
    "duration": 101,
    "start_time": "2023-04-04T08:52:53.791Z"
   },
   {
    "duration": 199,
    "start_time": "2023-04-04T08:52:53.895Z"
   },
   {
    "duration": 199,
    "start_time": "2023-04-04T08:52:54.096Z"
   },
   {
    "duration": 20,
    "start_time": "2023-04-04T08:52:54.297Z"
   },
   {
    "duration": 23,
    "start_time": "2023-04-04T08:52:54.319Z"
   },
   {
    "duration": 18,
    "start_time": "2023-04-04T08:52:54.344Z"
   },
   {
    "duration": 25,
    "start_time": "2023-04-04T08:52:54.364Z"
   },
   {
    "duration": 4,
    "start_time": "2023-04-04T08:52:54.391Z"
   },
   {
    "duration": 26,
    "start_time": "2023-04-04T08:52:54.396Z"
   },
   {
    "duration": 9,
    "start_time": "2023-04-04T08:52:54.424Z"
   },
   {
    "duration": 9,
    "start_time": "2023-04-04T08:52:54.435Z"
   },
   {
    "duration": 1088,
    "start_time": "2023-04-04T08:52:54.446Z"
   },
   {
    "duration": 1062,
    "start_time": "2023-04-04T08:52:55.535Z"
   },
   {
    "duration": 1082,
    "start_time": "2023-04-04T08:52:56.598Z"
   },
   {
    "duration": 19,
    "start_time": "2023-04-04T08:52:57.682Z"
   },
   {
    "duration": 7,
    "start_time": "2023-04-04T08:52:57.702Z"
   },
   {
    "duration": 136,
    "start_time": "2023-04-04T08:52:57.711Z"
   },
   {
    "duration": 0,
    "start_time": "2023-04-04T08:52:57.849Z"
   },
   {
    "duration": 5,
    "start_time": "2023-04-04T08:56:26.024Z"
   },
   {
    "duration": 1064,
    "start_time": "2023-04-04T08:56:34.503Z"
   },
   {
    "duration": 5,
    "start_time": "2023-04-04T08:58:27.705Z"
   },
   {
    "duration": 26,
    "start_time": "2023-04-04T08:58:28.376Z"
   },
   {
    "duration": 7,
    "start_time": "2023-04-04T08:59:40.665Z"
   },
   {
    "duration": 1072,
    "start_time": "2023-04-04T08:59:41.580Z"
   },
   {
    "duration": 5,
    "start_time": "2023-04-04T09:08:54.818Z"
   },
   {
    "duration": 1256,
    "start_time": "2023-04-04T09:08:54.825Z"
   },
   {
    "duration": 6,
    "start_time": "2023-04-04T09:15:59.051Z"
   },
   {
    "duration": 1116,
    "start_time": "2023-04-04T09:15:59.059Z"
   },
   {
    "duration": 4,
    "start_time": "2023-04-04T09:23:48.935Z"
   },
   {
    "duration": 9,
    "start_time": "2023-04-04T09:24:08.075Z"
   },
   {
    "duration": 20,
    "start_time": "2023-04-04T09:24:36.133Z"
   },
   {
    "duration": 6,
    "start_time": "2023-04-04T09:27:44.691Z"
   },
   {
    "duration": 1418,
    "start_time": "2023-04-04T09:27:45.238Z"
   },
   {
    "duration": 8,
    "start_time": "2023-04-04T09:31:31.857Z"
   },
   {
    "duration": 736,
    "start_time": "2023-04-04T09:31:32.647Z"
   },
   {
    "duration": 5,
    "start_time": "2023-04-04T09:32:24.136Z"
   },
   {
    "duration": 594,
    "start_time": "2023-04-04T09:32:24.800Z"
   },
   {
    "duration": 6,
    "start_time": "2023-04-04T09:33:01.415Z"
   },
   {
    "duration": 629,
    "start_time": "2023-04-04T09:33:02.415Z"
   },
   {
    "duration": 5,
    "start_time": "2023-04-04T09:33:15.478Z"
   },
   {
    "duration": 671,
    "start_time": "2023-04-04T09:33:16.457Z"
   },
   {
    "duration": 6,
    "start_time": "2023-04-04T09:36:10.693Z"
   },
   {
    "duration": 744,
    "start_time": "2023-04-04T09:36:11.866Z"
   },
   {
    "duration": 7,
    "start_time": "2023-04-04T09:38:54.526Z"
   },
   {
    "duration": 1206,
    "start_time": "2023-04-04T09:38:55.830Z"
   },
   {
    "duration": 6,
    "start_time": "2023-04-04T09:39:16.410Z"
   },
   {
    "duration": 1144,
    "start_time": "2023-04-04T09:39:17.564Z"
   },
   {
    "duration": 9,
    "start_time": "2023-04-04T09:42:08.499Z"
   },
   {
    "duration": 1439,
    "start_time": "2023-04-04T09:42:09.558Z"
   },
   {
    "duration": 7,
    "start_time": "2023-04-04T09:43:01.211Z"
   },
   {
    "duration": 539,
    "start_time": "2023-04-04T09:43:01.994Z"
   },
   {
    "duration": 6,
    "start_time": "2023-04-04T09:45:13.041Z"
   },
   {
    "duration": 754,
    "start_time": "2023-04-04T09:45:14.188Z"
   },
   {
    "duration": 783,
    "start_time": "2023-04-04T09:45:35.746Z"
   },
   {
    "duration": 5,
    "start_time": "2023-04-04T09:49:04.382Z"
   },
   {
    "duration": 1215,
    "start_time": "2023-04-04T09:49:06.160Z"
   },
   {
    "duration": 6,
    "start_time": "2023-04-04T09:50:36.419Z"
   },
   {
    "duration": 750,
    "start_time": "2023-04-04T09:50:37.417Z"
   },
   {
    "duration": 6,
    "start_time": "2023-04-04T09:50:47.536Z"
   },
   {
    "duration": 1265,
    "start_time": "2023-04-04T09:50:48.279Z"
   },
   {
    "duration": 6,
    "start_time": "2023-04-04T09:51:40.621Z"
   },
   {
    "duration": 715,
    "start_time": "2023-04-04T09:51:41.681Z"
   },
   {
    "duration": 7,
    "start_time": "2023-04-04T09:51:53.205Z"
   },
   {
    "duration": 712,
    "start_time": "2023-04-04T09:51:53.964Z"
   },
   {
    "duration": 7,
    "start_time": "2023-04-04T09:52:11.641Z"
   },
   {
    "duration": 691,
    "start_time": "2023-04-04T09:52:13.227Z"
   },
   {
    "duration": 7,
    "start_time": "2023-04-04T09:52:29.560Z"
   },
   {
    "duration": 893,
    "start_time": "2023-04-04T09:52:30.375Z"
   },
   {
    "duration": 10,
    "start_time": "2023-04-04T09:53:08.371Z"
   },
   {
    "duration": 1247,
    "start_time": "2023-04-04T09:53:09.351Z"
   },
   {
    "duration": 6,
    "start_time": "2023-04-04T09:55:29.893Z"
   },
   {
    "duration": 24,
    "start_time": "2023-04-04T09:55:31.051Z"
   },
   {
    "duration": 12,
    "start_time": "2023-04-04T10:00:36.486Z"
   },
   {
    "duration": 1330,
    "start_time": "2023-04-04T10:00:37.183Z"
   },
   {
    "duration": 6,
    "start_time": "2023-04-04T10:03:53.506Z"
   },
   {
    "duration": 784,
    "start_time": "2023-04-04T10:03:54.981Z"
   },
   {
    "duration": 6,
    "start_time": "2023-04-04T10:07:11.255Z"
   },
   {
    "duration": 22,
    "start_time": "2023-04-04T10:07:12.198Z"
   },
   {
    "duration": 6,
    "start_time": "2023-04-04T10:07:57.181Z"
   },
   {
    "duration": 19,
    "start_time": "2023-04-04T10:07:58.330Z"
   },
   {
    "duration": 6,
    "start_time": "2023-04-04T10:08:05.451Z"
   },
   {
    "duration": 1181,
    "start_time": "2023-04-04T10:08:06.325Z"
   },
   {
    "duration": 6,
    "start_time": "2023-04-04T10:08:32.551Z"
   },
   {
    "duration": 523,
    "start_time": "2023-04-04T10:08:33.780Z"
   },
   {
    "duration": 6,
    "start_time": "2023-04-04T10:12:24.548Z"
   },
   {
    "duration": 18,
    "start_time": "2023-04-04T10:12:25.139Z"
   },
   {
    "duration": 6,
    "start_time": "2023-04-04T10:12:38.214Z"
   },
   {
    "duration": 16,
    "start_time": "2023-04-04T10:12:38.705Z"
   },
   {
    "duration": 7,
    "start_time": "2023-04-04T10:13:04.504Z"
   },
   {
    "duration": 517,
    "start_time": "2023-04-04T10:13:05.455Z"
   },
   {
    "duration": 6,
    "start_time": "2023-04-04T10:14:19.523Z"
   },
   {
    "duration": 527,
    "start_time": "2023-04-04T10:14:20.989Z"
   },
   {
    "duration": 6,
    "start_time": "2023-04-04T10:15:29.704Z"
   },
   {
    "duration": 703,
    "start_time": "2023-04-04T10:15:30.229Z"
   },
   {
    "duration": 8,
    "start_time": "2023-04-04T10:15:46.484Z"
   },
   {
    "duration": 571,
    "start_time": "2023-04-04T10:15:47.091Z"
   },
   {
    "duration": 5,
    "start_time": "2023-04-04T10:17:11.515Z"
   },
   {
    "duration": 1377,
    "start_time": "2023-04-04T10:17:13.922Z"
   },
   {
    "duration": 6,
    "start_time": "2023-04-04T10:18:03.833Z"
   },
   {
    "duration": 771,
    "start_time": "2023-04-04T10:18:04.694Z"
   },
   {
    "duration": 7,
    "start_time": "2023-04-04T10:18:44.082Z"
   },
   {
    "duration": 1219,
    "start_time": "2023-04-04T10:18:45.527Z"
   },
   {
    "duration": 6,
    "start_time": "2023-04-04T10:20:16.366Z"
   },
   {
    "duration": 534,
    "start_time": "2023-04-04T10:20:17.680Z"
   },
   {
    "duration": 7,
    "start_time": "2023-04-04T10:22:36.520Z"
   },
   {
    "duration": 70043,
    "start_time": "2023-04-04T10:22:37.538Z"
   },
   {
    "duration": 6,
    "start_time": "2023-04-04T10:24:11.722Z"
   },
   {
    "duration": 114,
    "start_time": "2023-04-04T10:24:12.543Z"
   },
   {
    "duration": 9,
    "start_time": "2023-04-04T10:24:37.454Z"
   },
   {
    "duration": 539,
    "start_time": "2023-04-04T10:24:38.124Z"
   },
   {
    "duration": 5,
    "start_time": "2023-04-04T10:27:33.128Z"
   },
   {
    "duration": 521,
    "start_time": "2023-04-04T10:27:33.819Z"
   },
   {
    "duration": 6,
    "start_time": "2023-04-04T10:29:49.958Z"
   },
   {
    "duration": 1220,
    "start_time": "2023-04-04T10:29:51.292Z"
   },
   {
    "duration": 6,
    "start_time": "2023-04-04T10:31:07.642Z"
   },
   {
    "duration": 1435,
    "start_time": "2023-04-04T10:31:09.327Z"
   },
   {
    "duration": 6,
    "start_time": "2023-04-04T10:32:17.339Z"
   },
   {
    "duration": 1350,
    "start_time": "2023-04-04T10:32:18.873Z"
   },
   {
    "duration": 6,
    "start_time": "2023-04-04T10:32:49.527Z"
   },
   {
    "duration": 352,
    "start_time": "2023-04-04T10:32:50.386Z"
   },
   {
    "duration": 6,
    "start_time": "2023-04-04T10:33:36.665Z"
   },
   {
    "duration": 382,
    "start_time": "2023-04-04T10:33:37.725Z"
   },
   {
    "duration": 6,
    "start_time": "2023-04-04T10:35:03.744Z"
   },
   {
    "duration": 325,
    "start_time": "2023-04-04T10:35:04.642Z"
   },
   {
    "duration": 5,
    "start_time": "2023-04-04T10:35:29.491Z"
   },
   {
    "duration": 378,
    "start_time": "2023-04-04T10:35:30.391Z"
   },
   {
    "duration": 6,
    "start_time": "2023-04-04T10:36:05.514Z"
   },
   {
    "duration": 363,
    "start_time": "2023-04-04T10:36:06.554Z"
   },
   {
    "duration": 5,
    "start_time": "2023-04-04T10:36:20.212Z"
   },
   {
    "duration": 295,
    "start_time": "2023-04-04T10:36:21.110Z"
   },
   {
    "duration": 290,
    "start_time": "2023-04-04T10:36:46.317Z"
   },
   {
    "duration": 286,
    "start_time": "2023-04-04T10:37:27.929Z"
   },
   {
    "duration": 1341,
    "start_time": "2023-04-04T10:52:59.927Z"
   },
   {
    "duration": 6,
    "start_time": "2023-04-04T11:17:49.482Z"
   },
   {
    "duration": 154,
    "start_time": "2023-04-04T11:17:53.603Z"
   },
   {
    "duration": 7,
    "start_time": "2023-04-04T11:19:39.381Z"
   },
   {
    "duration": 24,
    "start_time": "2023-04-04T11:19:43.176Z"
   },
   {
    "duration": 1537,
    "start_time": "2023-04-04T11:28:30.206Z"
   },
   {
    "duration": 416,
    "start_time": "2023-04-04T11:28:31.745Z"
   },
   {
    "duration": 6,
    "start_time": "2023-04-04T11:28:32.163Z"
   },
   {
    "duration": 1120,
    "start_time": "2023-04-04T11:28:32.171Z"
   },
   {
    "duration": 986,
    "start_time": "2023-04-04T11:28:33.293Z"
   },
   {
    "duration": 1163,
    "start_time": "2023-04-04T11:28:34.288Z"
   },
   {
    "duration": 4,
    "start_time": "2023-04-04T11:28:35.454Z"
   },
   {
    "duration": 70,
    "start_time": "2023-04-04T11:28:35.460Z"
   },
   {
    "duration": 62,
    "start_time": "2023-04-04T11:28:35.532Z"
   },
   {
    "duration": 79,
    "start_time": "2023-04-04T11:28:35.596Z"
   },
   {
    "duration": 13,
    "start_time": "2023-04-04T11:28:35.677Z"
   },
   {
    "duration": 16,
    "start_time": "2023-04-04T11:28:35.691Z"
   },
   {
    "duration": 38,
    "start_time": "2023-04-04T11:28:35.709Z"
   },
   {
    "duration": 12,
    "start_time": "2023-04-04T11:28:35.750Z"
   },
   {
    "duration": 24,
    "start_time": "2023-04-04T11:28:35.763Z"
   },
   {
    "duration": 5,
    "start_time": "2023-04-04T11:28:35.789Z"
   },
   {
    "duration": 14,
    "start_time": "2023-04-04T11:28:35.795Z"
   },
   {
    "duration": 18,
    "start_time": "2023-04-04T11:28:35.811Z"
   },
   {
    "duration": 5,
    "start_time": "2023-04-04T11:28:35.830Z"
   },
   {
    "duration": 13,
    "start_time": "2023-04-04T11:28:35.836Z"
   },
   {
    "duration": 42,
    "start_time": "2023-04-04T11:28:35.851Z"
   },
   {
    "duration": 193,
    "start_time": "2023-04-04T11:28:35.899Z"
   },
   {
    "duration": 108,
    "start_time": "2023-04-04T11:28:36.094Z"
   },
   {
    "duration": 187,
    "start_time": "2023-04-04T11:28:36.204Z"
   },
   {
    "duration": 14,
    "start_time": "2023-04-04T11:28:36.393Z"
   },
   {
    "duration": 29,
    "start_time": "2023-04-04T11:28:36.409Z"
   },
   {
    "duration": 21,
    "start_time": "2023-04-04T11:28:36.440Z"
   },
   {
    "duration": 38,
    "start_time": "2023-04-04T11:28:36.463Z"
   },
   {
    "duration": 8,
    "start_time": "2023-04-04T11:28:36.502Z"
   },
   {
    "duration": 14,
    "start_time": "2023-04-04T11:28:36.512Z"
   },
   {
    "duration": 10,
    "start_time": "2023-04-04T11:28:36.527Z"
   },
   {
    "duration": 8,
    "start_time": "2023-04-04T11:28:36.539Z"
   },
   {
    "duration": 1127,
    "start_time": "2023-04-04T11:28:36.548Z"
   },
   {
    "duration": 97,
    "start_time": "2023-04-04T11:28:37.677Z"
   },
   {
    "duration": 0,
    "start_time": "2023-04-04T11:28:37.775Z"
   },
   {
    "duration": 0,
    "start_time": "2023-04-04T11:28:37.777Z"
   },
   {
    "duration": 0,
    "start_time": "2023-04-04T11:28:37.778Z"
   },
   {
    "duration": 0,
    "start_time": "2023-04-04T11:28:37.779Z"
   },
   {
    "duration": 105,
    "start_time": "2023-04-04T11:29:05.997Z"
   },
   {
    "duration": 5,
    "start_time": "2023-04-04T11:29:37.120Z"
   },
   {
    "duration": 315,
    "start_time": "2023-04-04T11:29:39.424Z"
   },
   {
    "duration": 334,
    "start_time": "2023-04-04T11:29:40.100Z"
   },
   {
    "duration": 318,
    "start_time": "2023-04-04T11:29:41.001Z"
   },
   {
    "duration": 1392,
    "start_time": "2023-04-04T15:51:40.231Z"
   },
   {
    "duration": 439,
    "start_time": "2023-04-04T15:51:41.625Z"
   },
   {
    "duration": 6,
    "start_time": "2023-04-04T15:51:42.067Z"
   },
   {
    "duration": 1021,
    "start_time": "2023-04-04T15:51:42.076Z"
   },
   {
    "duration": 1114,
    "start_time": "2023-04-04T15:51:43.103Z"
   },
   {
    "duration": 1105,
    "start_time": "2023-04-04T15:51:44.219Z"
   },
   {
    "duration": 5,
    "start_time": "2023-04-04T15:51:45.326Z"
   },
   {
    "duration": 44,
    "start_time": "2023-04-04T15:51:45.332Z"
   },
   {
    "duration": 87,
    "start_time": "2023-04-04T15:51:45.378Z"
   },
   {
    "duration": 107,
    "start_time": "2023-04-04T15:51:45.468Z"
   },
   {
    "duration": 5,
    "start_time": "2023-04-04T15:51:45.576Z"
   },
   {
    "duration": 30,
    "start_time": "2023-04-04T15:51:45.583Z"
   },
   {
    "duration": 6,
    "start_time": "2023-04-04T15:51:45.614Z"
   },
   {
    "duration": 9,
    "start_time": "2023-04-04T15:51:45.621Z"
   },
   {
    "duration": 24,
    "start_time": "2023-04-04T15:51:45.632Z"
   },
   {
    "duration": 5,
    "start_time": "2023-04-04T15:51:45.658Z"
   },
   {
    "duration": 6,
    "start_time": "2023-04-04T15:51:45.665Z"
   },
   {
    "duration": 44,
    "start_time": "2023-04-04T15:51:45.673Z"
   },
   {
    "duration": 5,
    "start_time": "2023-04-04T15:51:45.720Z"
   },
   {
    "duration": 4,
    "start_time": "2023-04-04T15:51:45.727Z"
   },
   {
    "duration": 80,
    "start_time": "2023-04-04T15:51:45.733Z"
   },
   {
    "duration": 104,
    "start_time": "2023-04-04T15:51:45.821Z"
   },
   {
    "duration": 192,
    "start_time": "2023-04-04T15:51:45.927Z"
   },
   {
    "duration": 5,
    "start_time": "2023-04-04T15:51:46.122Z"
   },
   {
    "duration": 17,
    "start_time": "2023-04-04T15:51:46.207Z"
   },
   {
    "duration": 32,
    "start_time": "2023-04-04T15:51:46.305Z"
   },
   {
    "duration": 22,
    "start_time": "2023-04-04T15:51:46.339Z"
   },
   {
    "duration": 55,
    "start_time": "2023-04-04T15:51:46.364Z"
   },
   {
    "duration": 4,
    "start_time": "2023-04-04T15:51:46.422Z"
   },
   {
    "duration": 12,
    "start_time": "2023-04-04T15:51:46.428Z"
   },
   {
    "duration": 8,
    "start_time": "2023-04-04T15:51:46.442Z"
   },
   {
    "duration": 10,
    "start_time": "2023-04-04T15:51:46.451Z"
   },
   {
    "duration": 1259,
    "start_time": "2023-04-04T15:51:46.462Z"
   },
   {
    "duration": 45,
    "start_time": "2023-04-04T15:51:47.723Z"
   },
   {
    "duration": 0,
    "start_time": "2023-04-04T15:51:47.770Z"
   },
   {
    "duration": 0,
    "start_time": "2023-04-04T15:51:47.771Z"
   },
   {
    "duration": 0,
    "start_time": "2023-04-04T15:51:47.773Z"
   },
   {
    "duration": 0,
    "start_time": "2023-04-04T15:51:47.774Z"
   },
   {
    "duration": 7,
    "start_time": "2023-04-04T15:57:12.939Z"
   },
   {
    "duration": 322,
    "start_time": "2023-04-04T15:57:13.600Z"
   },
   {
    "duration": 333,
    "start_time": "2023-04-04T15:57:13.924Z"
   },
   {
    "duration": 318,
    "start_time": "2023-04-04T15:57:14.259Z"
   },
   {
    "duration": 1162,
    "start_time": "2023-04-04T15:58:54.824Z"
   },
   {
    "duration": 6,
    "start_time": "2023-04-04T15:59:00.623Z"
   },
   {
    "duration": 7,
    "start_time": "2023-04-04T15:59:18.784Z"
   },
   {
    "duration": 4,
    "start_time": "2023-04-04T15:59:37.026Z"
   },
   {
    "duration": 1508,
    "start_time": "2023-04-04T15:59:44.418Z"
   },
   {
    "duration": 5,
    "start_time": "2023-04-04T16:00:02.057Z"
   },
   {
    "duration": 1491,
    "start_time": "2023-04-04T16:00:10.039Z"
   },
   {
    "duration": 4,
    "start_time": "2023-04-04T16:00:30.833Z"
   },
   {
    "duration": 1661,
    "start_time": "2023-04-04T16:18:22.279Z"
   },
   {
    "duration": 901,
    "start_time": "2023-04-04T16:18:32.596Z"
   },
   {
    "duration": 1539,
    "start_time": "2023-04-04T16:18:39.010Z"
   },
   {
    "duration": 393,
    "start_time": "2023-04-04T16:18:40.552Z"
   },
   {
    "duration": 5,
    "start_time": "2023-04-04T16:18:40.947Z"
   },
   {
    "duration": 1115,
    "start_time": "2023-04-04T16:18:40.954Z"
   },
   {
    "duration": 1031,
    "start_time": "2023-04-04T16:18:42.071Z"
   },
   {
    "duration": 1170,
    "start_time": "2023-04-04T16:18:43.104Z"
   },
   {
    "duration": 4,
    "start_time": "2023-04-04T16:18:44.276Z"
   },
   {
    "duration": 50,
    "start_time": "2023-04-04T16:18:44.281Z"
   },
   {
    "duration": 56,
    "start_time": "2023-04-04T16:18:44.333Z"
   },
   {
    "duration": 97,
    "start_time": "2023-04-04T16:18:44.391Z"
   },
   {
    "duration": 4,
    "start_time": "2023-04-04T16:18:44.490Z"
   },
   {
    "duration": 13,
    "start_time": "2023-04-04T16:18:44.496Z"
   },
   {
    "duration": 13,
    "start_time": "2023-04-04T16:18:44.511Z"
   },
   {
    "duration": 6,
    "start_time": "2023-04-04T16:18:44.528Z"
   },
   {
    "duration": 26,
    "start_time": "2023-04-04T16:18:44.536Z"
   },
   {
    "duration": 22,
    "start_time": "2023-04-04T16:18:44.564Z"
   },
   {
    "duration": 8,
    "start_time": "2023-04-04T16:18:44.587Z"
   },
   {
    "duration": 15,
    "start_time": "2023-04-04T16:18:44.597Z"
   },
   {
    "duration": 11,
    "start_time": "2023-04-04T16:18:44.614Z"
   },
   {
    "duration": 2,
    "start_time": "2023-04-04T16:18:44.627Z"
   },
   {
    "duration": 24,
    "start_time": "2023-04-04T16:18:44.631Z"
   },
   {
    "duration": 107,
    "start_time": "2023-04-04T16:18:44.722Z"
   },
   {
    "duration": 20,
    "start_time": "2023-04-04T16:18:44.923Z"
   },
   {
    "duration": 4,
    "start_time": "2023-04-04T16:18:45.025Z"
   },
   {
    "duration": 98,
    "start_time": "2023-04-04T16:18:45.031Z"
   },
   {
    "duration": 41,
    "start_time": "2023-04-04T16:18:45.131Z"
   },
   {
    "duration": 19,
    "start_time": "2023-04-04T16:18:45.174Z"
   },
   {
    "duration": 27,
    "start_time": "2023-04-04T16:18:45.195Z"
   },
   {
    "duration": 4,
    "start_time": "2023-04-04T16:18:45.224Z"
   },
   {
    "duration": 10,
    "start_time": "2023-04-04T16:18:45.230Z"
   },
   {
    "duration": 35,
    "start_time": "2023-04-04T16:18:45.242Z"
   },
   {
    "duration": 14,
    "start_time": "2023-04-04T16:18:45.279Z"
   },
   {
    "duration": 1114,
    "start_time": "2023-04-04T16:18:45.294Z"
   },
   {
    "duration": 5,
    "start_time": "2023-04-04T16:18:46.410Z"
   },
   {
    "duration": 301,
    "start_time": "2023-04-04T16:18:46.423Z"
   },
   {
    "duration": 311,
    "start_time": "2023-04-04T16:18:46.726Z"
   },
   {
    "duration": 294,
    "start_time": "2023-04-04T16:18:47.039Z"
   },
   {
    "duration": 21,
    "start_time": "2023-04-04T16:26:43.779Z"
   },
   {
    "duration": 21,
    "start_time": "2023-04-04T16:27:40.871Z"
   },
   {
    "duration": 20,
    "start_time": "2023-04-04T16:27:41.844Z"
   },
   {
    "duration": 18,
    "start_time": "2023-04-04T16:32:35.680Z"
   },
   {
    "duration": 18,
    "start_time": "2023-04-04T16:32:36.185Z"
   },
   {
    "duration": 17,
    "start_time": "2023-04-04T16:32:38.489Z"
   },
   {
    "duration": 1427,
    "start_time": "2023-04-04T16:32:48.423Z"
   },
   {
    "duration": 382,
    "start_time": "2023-04-04T16:32:49.852Z"
   },
   {
    "duration": 5,
    "start_time": "2023-04-04T16:32:50.236Z"
   },
   {
    "duration": 1171,
    "start_time": "2023-04-04T16:32:50.243Z"
   },
   {
    "duration": 1034,
    "start_time": "2023-04-04T16:32:51.416Z"
   },
   {
    "duration": 1133,
    "start_time": "2023-04-04T16:32:52.452Z"
   },
   {
    "duration": 4,
    "start_time": "2023-04-04T16:32:53.587Z"
   },
   {
    "duration": 15,
    "start_time": "2023-04-04T16:32:53.593Z"
   },
   {
    "duration": 10,
    "start_time": "2023-04-04T16:32:53.609Z"
   },
   {
    "duration": 3,
    "start_time": "2023-04-04T16:32:53.623Z"
   },
   {
    "duration": 26,
    "start_time": "2023-04-04T16:32:53.628Z"
   },
   {
    "duration": 22,
    "start_time": "2023-04-04T16:32:53.656Z"
   },
   {
    "duration": 19,
    "start_time": "2023-04-04T16:32:53.680Z"
   },
   {
    "duration": 38,
    "start_time": "2023-04-04T16:32:53.701Z"
   },
   {
    "duration": 23,
    "start_time": "2023-04-04T16:32:53.741Z"
   },
   {
    "duration": 20,
    "start_time": "2023-04-04T16:32:53.765Z"
   },
   {
    "duration": 7,
    "start_time": "2023-04-04T16:32:53.787Z"
   },
   {
    "duration": 34,
    "start_time": "2023-04-04T16:32:53.796Z"
   },
   {
    "duration": 4,
    "start_time": "2023-04-04T16:32:53.832Z"
   },
   {
    "duration": 9,
    "start_time": "2023-04-04T16:32:53.838Z"
   },
   {
    "duration": 16,
    "start_time": "2023-04-04T16:32:53.849Z"
   },
   {
    "duration": 4,
    "start_time": "2023-04-04T16:32:53.867Z"
   },
   {
    "duration": 10,
    "start_time": "2023-04-04T16:32:53.873Z"
   },
   {
    "duration": 13,
    "start_time": "2023-04-04T16:32:53.885Z"
   },
   {
    "duration": 26,
    "start_time": "2023-04-04T16:32:53.900Z"
   },
   {
    "duration": 4,
    "start_time": "2023-04-04T16:32:53.928Z"
   },
   {
    "duration": 90,
    "start_time": "2023-04-04T16:32:53.934Z"
   },
   {
    "duration": 104,
    "start_time": "2023-04-04T16:32:54.029Z"
   },
   {
    "duration": 190,
    "start_time": "2023-04-04T16:32:54.138Z"
   },
   {
    "duration": 4,
    "start_time": "2023-04-04T16:32:54.330Z"
   },
   {
    "duration": 5,
    "start_time": "2023-04-04T16:32:54.424Z"
   },
   {
    "duration": 98,
    "start_time": "2023-04-04T16:32:54.431Z"
   },
   {
    "duration": 17,
    "start_time": "2023-04-04T16:32:54.531Z"
   },
   {
    "duration": 19,
    "start_time": "2023-04-04T16:32:54.550Z"
   },
   {
    "duration": 4,
    "start_time": "2023-04-04T16:32:54.571Z"
   },
   {
    "duration": 24,
    "start_time": "2023-04-04T16:32:54.576Z"
   },
   {
    "duration": 25,
    "start_time": "2023-04-04T16:32:54.602Z"
   },
   {
    "duration": 9,
    "start_time": "2023-04-04T16:32:54.629Z"
   },
   {
    "duration": 1100,
    "start_time": "2023-04-04T16:32:54.640Z"
   },
   {
    "duration": 6,
    "start_time": "2023-04-04T16:32:55.742Z"
   },
   {
    "duration": 291,
    "start_time": "2023-04-04T16:32:55.750Z"
   },
   {
    "duration": 292,
    "start_time": "2023-04-04T16:32:56.043Z"
   },
   {
    "duration": 289,
    "start_time": "2023-04-04T16:32:56.337Z"
   },
   {
    "duration": 123,
    "start_time": "2023-04-04T16:37:04.053Z"
   },
   {
    "duration": 9,
    "start_time": "2023-04-04T16:43:10.527Z"
   },
   {
    "duration": 14,
    "start_time": "2023-04-04T16:43:17.941Z"
   },
   {
    "duration": 4,
    "start_time": "2023-04-04T16:43:22.067Z"
   },
   {
    "duration": 4,
    "start_time": "2023-04-04T16:43:24.814Z"
   },
   {
    "duration": 5,
    "start_time": "2023-04-04T16:43:30.527Z"
   },
   {
    "duration": 5,
    "start_time": "2023-04-04T16:44:10.296Z"
   },
   {
    "duration": 19,
    "start_time": "2023-04-04T16:50:00.064Z"
   },
   {
    "duration": 13,
    "start_time": "2023-04-04T16:50:09.045Z"
   },
   {
    "duration": 46,
    "start_time": "2023-04-04T16:50:29.473Z"
   },
   {
    "duration": 48,
    "start_time": "2023-04-04T16:50:49.584Z"
   },
   {
    "duration": 32,
    "start_time": "2023-04-04T16:53:56.597Z"
   },
   {
    "duration": 21,
    "start_time": "2023-04-04T16:54:20.643Z"
   },
   {
    "duration": 133,
    "start_time": "2023-04-04T16:55:25.000Z"
   },
   {
    "duration": 18,
    "start_time": "2023-04-04T16:55:48.104Z"
   },
   {
    "duration": 10,
    "start_time": "2023-04-04T16:56:12.293Z"
   },
   {
    "duration": 16,
    "start_time": "2023-04-04T16:56:34.037Z"
   },
   {
    "duration": 13,
    "start_time": "2023-04-04T16:56:52.296Z"
   },
   {
    "duration": 10,
    "start_time": "2023-04-04T16:57:01.468Z"
   },
   {
    "duration": 1469,
    "start_time": "2023-04-04T16:58:55.087Z"
   },
   {
    "duration": 1423,
    "start_time": "2023-04-04T16:59:33.667Z"
   },
   {
    "duration": 6,
    "start_time": "2023-04-04T16:59:46.782Z"
   },
   {
    "duration": 285,
    "start_time": "2023-04-04T16:59:50.997Z"
   },
   {
    "duration": 287,
    "start_time": "2023-04-04T16:59:53.335Z"
   },
   {
    "duration": 297,
    "start_time": "2023-04-04T16:59:54.786Z"
   },
   {
    "duration": 1591,
    "start_time": "2023-04-05T09:29:56.761Z"
   },
   {
    "duration": 1463,
    "start_time": "2023-04-05T09:29:58.354Z"
   },
   {
    "duration": 4,
    "start_time": "2023-04-05T09:29:59.819Z"
   },
   {
    "duration": 970,
    "start_time": "2023-04-05T09:29:59.825Z"
   },
   {
    "duration": 877,
    "start_time": "2023-04-05T09:30:00.798Z"
   },
   {
    "duration": 951,
    "start_time": "2023-04-05T09:30:01.677Z"
   },
   {
    "duration": 3,
    "start_time": "2023-04-05T09:30:02.631Z"
   },
   {
    "duration": 22,
    "start_time": "2023-04-05T09:30:02.636Z"
   },
   {
    "duration": 96,
    "start_time": "2023-04-05T09:30:02.659Z"
   },
   {
    "duration": 95,
    "start_time": "2023-04-05T09:30:02.756Z"
   },
   {
    "duration": 32,
    "start_time": "2023-04-05T09:30:02.852Z"
   },
   {
    "duration": 28,
    "start_time": "2023-04-05T09:30:02.886Z"
   },
   {
    "duration": 43,
    "start_time": "2023-04-05T09:30:02.915Z"
   },
   {
    "duration": 25,
    "start_time": "2023-04-05T09:30:02.961Z"
   },
   {
    "duration": 21,
    "start_time": "2023-04-05T09:30:02.987Z"
   },
   {
    "duration": 47,
    "start_time": "2023-04-05T09:30:03.009Z"
   },
   {
    "duration": 25,
    "start_time": "2023-04-05T09:30:03.058Z"
   },
   {
    "duration": 32,
    "start_time": "2023-04-05T09:30:03.085Z"
   },
   {
    "duration": 31,
    "start_time": "2023-04-05T09:30:03.119Z"
   },
   {
    "duration": 18,
    "start_time": "2023-04-05T09:30:03.152Z"
   },
   {
    "duration": 49,
    "start_time": "2023-04-05T09:30:03.172Z"
   },
   {
    "duration": 28,
    "start_time": "2023-04-05T09:30:03.223Z"
   },
   {
    "duration": 20,
    "start_time": "2023-04-05T09:30:03.253Z"
   },
   {
    "duration": 48,
    "start_time": "2023-04-05T09:30:03.275Z"
   },
   {
    "duration": 7,
    "start_time": "2023-04-05T09:30:03.325Z"
   },
   {
    "duration": 13,
    "start_time": "2023-04-05T09:30:03.334Z"
   },
   {
    "duration": 187,
    "start_time": "2023-04-05T09:30:03.348Z"
   },
   {
    "duration": 97,
    "start_time": "2023-04-05T09:30:03.537Z"
   },
   {
    "duration": 123,
    "start_time": "2023-04-05T09:30:03.637Z"
   },
   {
    "duration": 75,
    "start_time": "2023-04-05T09:30:03.762Z"
   },
   {
    "duration": 100,
    "start_time": "2023-04-05T09:30:03.839Z"
   },
   {
    "duration": 19,
    "start_time": "2023-04-05T09:30:03.941Z"
   },
   {
    "duration": 7,
    "start_time": "2023-04-05T09:30:03.962Z"
   },
   {
    "duration": 14,
    "start_time": "2023-04-05T09:30:03.971Z"
   },
   {
    "duration": 7,
    "start_time": "2023-04-05T09:30:03.986Z"
   },
   {
    "duration": 117,
    "start_time": "2023-04-05T09:30:03.995Z"
   },
   {
    "duration": 0,
    "start_time": "2023-04-05T09:30:04.114Z"
   },
   {
    "duration": 0,
    "start_time": "2023-04-05T09:30:04.116Z"
   },
   {
    "duration": 0,
    "start_time": "2023-04-05T09:30:04.117Z"
   },
   {
    "duration": 0,
    "start_time": "2023-04-05T09:30:04.118Z"
   },
   {
    "duration": 0,
    "start_time": "2023-04-05T09:30:04.120Z"
   },
   {
    "duration": 0,
    "start_time": "2023-04-05T09:30:04.133Z"
   },
   {
    "duration": 0,
    "start_time": "2023-04-05T09:30:04.135Z"
   },
   {
    "duration": 3,
    "start_time": "2023-04-05T09:30:44.246Z"
   },
   {
    "duration": 16,
    "start_time": "2023-04-05T09:30:46.081Z"
   },
   {
    "duration": 3,
    "start_time": "2023-04-05T09:31:43.155Z"
   },
   {
    "duration": 10,
    "start_time": "2023-04-05T09:31:44.871Z"
   },
   {
    "duration": 9,
    "start_time": "2023-04-05T09:31:53.742Z"
   },
   {
    "duration": 9,
    "start_time": "2023-04-05T09:31:55.489Z"
   },
   {
    "duration": 3,
    "start_time": "2023-04-05T09:31:57.702Z"
   },
   {
    "duration": 5,
    "start_time": "2023-04-05T09:32:00.444Z"
   },
   {
    "duration": 19,
    "start_time": "2023-04-05T09:32:02.226Z"
   },
   {
    "duration": 6,
    "start_time": "2023-04-05T09:32:36.177Z"
   },
   {
    "duration": 17,
    "start_time": "2023-04-05T09:32:38.604Z"
   },
   {
    "duration": 5,
    "start_time": "2023-04-05T09:32:49.716Z"
   },
   {
    "duration": 1279,
    "start_time": "2023-04-05T09:32:55.012Z"
   },
   {
    "duration": 1211,
    "start_time": "2023-04-05T09:33:02.004Z"
   },
   {
    "duration": 1222,
    "start_time": "2023-04-05T09:33:05.038Z"
   },
   {
    "duration": 6,
    "start_time": "2023-04-05T09:33:33.370Z"
   },
   {
    "duration": 1226,
    "start_time": "2023-04-05T09:33:34.783Z"
   },
   {
    "duration": 9,
    "start_time": "2023-04-05T09:33:45.132Z"
   },
   {
    "duration": 1358,
    "start_time": "2023-04-05T09:33:46.623Z"
   },
   {
    "duration": 1224,
    "start_time": "2023-04-05T09:33:51.670Z"
   },
   {
    "duration": 1342,
    "start_time": "2023-04-05T09:33:54.574Z"
   }
  ],
  "kernelspec": {
   "display_name": "Python 3 (ipykernel)",
   "language": "python",
   "name": "python3"
  },
  "language_info": {
   "codemirror_mode": {
    "name": "ipython",
    "version": 3
   },
   "file_extension": ".py",
   "mimetype": "text/x-python",
   "name": "python",
   "nbconvert_exporter": "python",
   "pygments_lexer": "ipython3",
   "version": "3.9.12"
  },
  "toc": {
   "base_numbering": 1,
   "nav_menu": {},
   "number_sections": true,
   "sideBar": true,
   "skip_h1_title": true,
   "title_cell": "Table of Contents",
   "title_sidebar": "Contents",
   "toc_cell": false,
   "toc_position": {},
   "toc_section_display": true,
   "toc_window_display": false
  }
 },
 "nbformat": 4,
 "nbformat_minor": 2
}
