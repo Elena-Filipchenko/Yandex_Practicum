{
 "cells": [
  {
   "cell_type": "markdown",
   "metadata": {},
   "source": [
    "## Исследование данных о продаже видео игр"
   ]
  },
  {
   "cell_type": "markdown",
   "metadata": {},
   "source": [
    "### Цель исследования:\n",
    "\n",
    "1. Изучить данные и рассмотреть зависимости между ними.\n",
    "2. Установить, какие факторы влияют на продажи игр.\n",
    "3. Проанализировать, как изменялись продажи по платформам.\n",
    "4. Составить портрет пользователей по регионам.\n",
    "5. Сделать прогноз, какие данные понадобятся для прогнозирования продаж на 2017 год.\n",
    "\n",
    "### План работы:\n",
    "\n",
    "Данные о продажах игр получены из датасета '/datasets/games.csv', о качестве данных в котором нет информации, поэтому я сначала проведу его предобработку и исправлю имеющиеся ошибки, а так же, по возможности, исправлю пропуски, если они есть, создам необходимые столбцы, а потом уже перейду к анализу.\n",
    "В ходе исследованию установлю тенденции на рынке игр, выделю данные, на основании которых буду проводить дальнейший анализ, построю портрет пользоветеля и найду самые популярные платформы и жанры."
   ]
  },
  {
   "cell_type": "markdown",
   "metadata": {},
   "source": [
    "**Описание данных**\n",
    "\n",
    "Name — название игры\n",
    "Platform — платформа\n",
    "Year_of_Release — год выпуска\n",
    "Genre — жанр игры\n",
    "NA_sales — продажи в Северной Америке (миллионы проданных копий)\n",
    "EU_sales — продажи в Европе (миллионы проданных копий)\n",
    "JP_sales — продажи в Японии (миллионы проданных копий)\n",
    "Other_sales — продажи в других странах (миллионы проданных копий)\n",
    "Critic_Score — оценка критиков (максимум 100)\n",
    "User_Score — оценка пользователей (максимум 10)\n",
    "Rating — рейтинг от организации ESRB (англ. Entertainment Software Rating Board). Эта ассоциация определяет рейтинг компьютерных игр и присваивает им подходящую возрастную категорию.\n",
    "Данные за 2016 год могут быть неполными."
   ]
  },
  {
   "cell_type": "markdown",
   "metadata": {},
   "source": [
    "## Изучение общей информации"
   ]
  },
  {
   "cell_type": "markdown",
   "metadata": {},
   "source": [
    "### Откроем файл и посмотрим общую информацию:"
   ]
  },
  {
   "cell_type": "code",
   "execution_count": 1,
   "metadata": {},
   "outputs": [],
   "source": [
    "import pandas as pd\n",
    "import matplotlib.pyplot as plt\n",
    "import numpy as np\n",
    "\n",
    "from scipy import stats as st"
   ]
  },
  {
   "cell_type": "code",
   "execution_count": 2,
   "metadata": {},
   "outputs": [
    {
     "data": {
      "text/html": [
       "<div>\n",
       "<style scoped>\n",
       "    .dataframe tbody tr th:only-of-type {\n",
       "        vertical-align: middle;\n",
       "    }\n",
       "\n",
       "    .dataframe tbody tr th {\n",
       "        vertical-align: top;\n",
       "    }\n",
       "\n",
       "    .dataframe thead th {\n",
       "        text-align: right;\n",
       "    }\n",
       "</style>\n",
       "<table border=\"1\" class=\"dataframe\">\n",
       "  <thead>\n",
       "    <tr style=\"text-align: right;\">\n",
       "      <th></th>\n",
       "      <th>Name</th>\n",
       "      <th>Platform</th>\n",
       "      <th>Year_of_Release</th>\n",
       "      <th>Genre</th>\n",
       "      <th>NA_sales</th>\n",
       "      <th>EU_sales</th>\n",
       "      <th>JP_sales</th>\n",
       "      <th>Other_sales</th>\n",
       "      <th>Critic_Score</th>\n",
       "      <th>User_Score</th>\n",
       "      <th>Rating</th>\n",
       "    </tr>\n",
       "  </thead>\n",
       "  <tbody>\n",
       "    <tr>\n",
       "      <th>0</th>\n",
       "      <td>Wii Sports</td>\n",
       "      <td>Wii</td>\n",
       "      <td>2006.0</td>\n",
       "      <td>Sports</td>\n",
       "      <td>41.36</td>\n",
       "      <td>28.96</td>\n",
       "      <td>3.77</td>\n",
       "      <td>8.45</td>\n",
       "      <td>76.0</td>\n",
       "      <td>8</td>\n",
       "      <td>E</td>\n",
       "    </tr>\n",
       "    <tr>\n",
       "      <th>1</th>\n",
       "      <td>Super Mario Bros.</td>\n",
       "      <td>NES</td>\n",
       "      <td>1985.0</td>\n",
       "      <td>Platform</td>\n",
       "      <td>29.08</td>\n",
       "      <td>3.58</td>\n",
       "      <td>6.81</td>\n",
       "      <td>0.77</td>\n",
       "      <td>NaN</td>\n",
       "      <td>NaN</td>\n",
       "      <td>NaN</td>\n",
       "    </tr>\n",
       "    <tr>\n",
       "      <th>2</th>\n",
       "      <td>Mario Kart Wii</td>\n",
       "      <td>Wii</td>\n",
       "      <td>2008.0</td>\n",
       "      <td>Racing</td>\n",
       "      <td>15.68</td>\n",
       "      <td>12.76</td>\n",
       "      <td>3.79</td>\n",
       "      <td>3.29</td>\n",
       "      <td>82.0</td>\n",
       "      <td>8.3</td>\n",
       "      <td>E</td>\n",
       "    </tr>\n",
       "    <tr>\n",
       "      <th>3</th>\n",
       "      <td>Wii Sports Resort</td>\n",
       "      <td>Wii</td>\n",
       "      <td>2009.0</td>\n",
       "      <td>Sports</td>\n",
       "      <td>15.61</td>\n",
       "      <td>10.93</td>\n",
       "      <td>3.28</td>\n",
       "      <td>2.95</td>\n",
       "      <td>80.0</td>\n",
       "      <td>8</td>\n",
       "      <td>E</td>\n",
       "    </tr>\n",
       "    <tr>\n",
       "      <th>4</th>\n",
       "      <td>Pokemon Red/Pokemon Blue</td>\n",
       "      <td>GB</td>\n",
       "      <td>1996.0</td>\n",
       "      <td>Role-Playing</td>\n",
       "      <td>11.27</td>\n",
       "      <td>8.89</td>\n",
       "      <td>10.22</td>\n",
       "      <td>1.00</td>\n",
       "      <td>NaN</td>\n",
       "      <td>NaN</td>\n",
       "      <td>NaN</td>\n",
       "    </tr>\n",
       "    <tr>\n",
       "      <th>5</th>\n",
       "      <td>Tetris</td>\n",
       "      <td>GB</td>\n",
       "      <td>1989.0</td>\n",
       "      <td>Puzzle</td>\n",
       "      <td>23.20</td>\n",
       "      <td>2.26</td>\n",
       "      <td>4.22</td>\n",
       "      <td>0.58</td>\n",
       "      <td>NaN</td>\n",
       "      <td>NaN</td>\n",
       "      <td>NaN</td>\n",
       "    </tr>\n",
       "    <tr>\n",
       "      <th>6</th>\n",
       "      <td>New Super Mario Bros.</td>\n",
       "      <td>DS</td>\n",
       "      <td>2006.0</td>\n",
       "      <td>Platform</td>\n",
       "      <td>11.28</td>\n",
       "      <td>9.14</td>\n",
       "      <td>6.50</td>\n",
       "      <td>2.88</td>\n",
       "      <td>89.0</td>\n",
       "      <td>8.5</td>\n",
       "      <td>E</td>\n",
       "    </tr>\n",
       "    <tr>\n",
       "      <th>7</th>\n",
       "      <td>Wii Play</td>\n",
       "      <td>Wii</td>\n",
       "      <td>2006.0</td>\n",
       "      <td>Misc</td>\n",
       "      <td>13.96</td>\n",
       "      <td>9.18</td>\n",
       "      <td>2.93</td>\n",
       "      <td>2.84</td>\n",
       "      <td>58.0</td>\n",
       "      <td>6.6</td>\n",
       "      <td>E</td>\n",
       "    </tr>\n",
       "    <tr>\n",
       "      <th>8</th>\n",
       "      <td>New Super Mario Bros. Wii</td>\n",
       "      <td>Wii</td>\n",
       "      <td>2009.0</td>\n",
       "      <td>Platform</td>\n",
       "      <td>14.44</td>\n",
       "      <td>6.94</td>\n",
       "      <td>4.70</td>\n",
       "      <td>2.24</td>\n",
       "      <td>87.0</td>\n",
       "      <td>8.4</td>\n",
       "      <td>E</td>\n",
       "    </tr>\n",
       "    <tr>\n",
       "      <th>9</th>\n",
       "      <td>Duck Hunt</td>\n",
       "      <td>NES</td>\n",
       "      <td>1984.0</td>\n",
       "      <td>Shooter</td>\n",
       "      <td>26.93</td>\n",
       "      <td>0.63</td>\n",
       "      <td>0.28</td>\n",
       "      <td>0.47</td>\n",
       "      <td>NaN</td>\n",
       "      <td>NaN</td>\n",
       "      <td>NaN</td>\n",
       "    </tr>\n",
       "    <tr>\n",
       "      <th>10</th>\n",
       "      <td>Nintendogs</td>\n",
       "      <td>DS</td>\n",
       "      <td>2005.0</td>\n",
       "      <td>Simulation</td>\n",
       "      <td>9.05</td>\n",
       "      <td>10.95</td>\n",
       "      <td>1.93</td>\n",
       "      <td>2.74</td>\n",
       "      <td>NaN</td>\n",
       "      <td>NaN</td>\n",
       "      <td>NaN</td>\n",
       "    </tr>\n",
       "    <tr>\n",
       "      <th>11</th>\n",
       "      <td>Mario Kart DS</td>\n",
       "      <td>DS</td>\n",
       "      <td>2005.0</td>\n",
       "      <td>Racing</td>\n",
       "      <td>9.71</td>\n",
       "      <td>7.47</td>\n",
       "      <td>4.13</td>\n",
       "      <td>1.90</td>\n",
       "      <td>91.0</td>\n",
       "      <td>8.6</td>\n",
       "      <td>E</td>\n",
       "    </tr>\n",
       "    <tr>\n",
       "      <th>12</th>\n",
       "      <td>Pokemon Gold/Pokemon Silver</td>\n",
       "      <td>GB</td>\n",
       "      <td>1999.0</td>\n",
       "      <td>Role-Playing</td>\n",
       "      <td>9.00</td>\n",
       "      <td>6.18</td>\n",
       "      <td>7.20</td>\n",
       "      <td>0.71</td>\n",
       "      <td>NaN</td>\n",
       "      <td>NaN</td>\n",
       "      <td>NaN</td>\n",
       "    </tr>\n",
       "    <tr>\n",
       "      <th>13</th>\n",
       "      <td>Wii Fit</td>\n",
       "      <td>Wii</td>\n",
       "      <td>2007.0</td>\n",
       "      <td>Sports</td>\n",
       "      <td>8.92</td>\n",
       "      <td>8.03</td>\n",
       "      <td>3.60</td>\n",
       "      <td>2.15</td>\n",
       "      <td>80.0</td>\n",
       "      <td>7.7</td>\n",
       "      <td>E</td>\n",
       "    </tr>\n",
       "    <tr>\n",
       "      <th>14</th>\n",
       "      <td>Kinect Adventures!</td>\n",
       "      <td>X360</td>\n",
       "      <td>2010.0</td>\n",
       "      <td>Misc</td>\n",
       "      <td>15.00</td>\n",
       "      <td>4.89</td>\n",
       "      <td>0.24</td>\n",
       "      <td>1.69</td>\n",
       "      <td>61.0</td>\n",
       "      <td>6.3</td>\n",
       "      <td>E</td>\n",
       "    </tr>\n",
       "    <tr>\n",
       "      <th>15</th>\n",
       "      <td>Wii Fit Plus</td>\n",
       "      <td>Wii</td>\n",
       "      <td>2009.0</td>\n",
       "      <td>Sports</td>\n",
       "      <td>9.01</td>\n",
       "      <td>8.49</td>\n",
       "      <td>2.53</td>\n",
       "      <td>1.77</td>\n",
       "      <td>80.0</td>\n",
       "      <td>7.4</td>\n",
       "      <td>E</td>\n",
       "    </tr>\n",
       "    <tr>\n",
       "      <th>16</th>\n",
       "      <td>Grand Theft Auto V</td>\n",
       "      <td>PS3</td>\n",
       "      <td>2013.0</td>\n",
       "      <td>Action</td>\n",
       "      <td>7.02</td>\n",
       "      <td>9.09</td>\n",
       "      <td>0.98</td>\n",
       "      <td>3.96</td>\n",
       "      <td>97.0</td>\n",
       "      <td>8.2</td>\n",
       "      <td>M</td>\n",
       "    </tr>\n",
       "    <tr>\n",
       "      <th>17</th>\n",
       "      <td>Grand Theft Auto: San Andreas</td>\n",
       "      <td>PS2</td>\n",
       "      <td>2004.0</td>\n",
       "      <td>Action</td>\n",
       "      <td>9.43</td>\n",
       "      <td>0.40</td>\n",
       "      <td>0.41</td>\n",
       "      <td>10.57</td>\n",
       "      <td>95.0</td>\n",
       "      <td>9</td>\n",
       "      <td>M</td>\n",
       "    </tr>\n",
       "    <tr>\n",
       "      <th>18</th>\n",
       "      <td>Super Mario World</td>\n",
       "      <td>SNES</td>\n",
       "      <td>1990.0</td>\n",
       "      <td>Platform</td>\n",
       "      <td>12.78</td>\n",
       "      <td>3.75</td>\n",
       "      <td>3.54</td>\n",
       "      <td>0.55</td>\n",
       "      <td>NaN</td>\n",
       "      <td>NaN</td>\n",
       "      <td>NaN</td>\n",
       "    </tr>\n",
       "    <tr>\n",
       "      <th>19</th>\n",
       "      <td>Brain Age: Train Your Brain in Minutes a Day</td>\n",
       "      <td>DS</td>\n",
       "      <td>2005.0</td>\n",
       "      <td>Misc</td>\n",
       "      <td>4.74</td>\n",
       "      <td>9.20</td>\n",
       "      <td>4.16</td>\n",
       "      <td>2.04</td>\n",
       "      <td>77.0</td>\n",
       "      <td>7.9</td>\n",
       "      <td>E</td>\n",
       "    </tr>\n",
       "  </tbody>\n",
       "</table>\n",
       "</div>"
      ],
      "text/plain": [
       "                                            Name Platform  Year_of_Release  \\\n",
       "0                                     Wii Sports      Wii           2006.0   \n",
       "1                              Super Mario Bros.      NES           1985.0   \n",
       "2                                 Mario Kart Wii      Wii           2008.0   \n",
       "3                              Wii Sports Resort      Wii           2009.0   \n",
       "4                       Pokemon Red/Pokemon Blue       GB           1996.0   \n",
       "5                                         Tetris       GB           1989.0   \n",
       "6                          New Super Mario Bros.       DS           2006.0   \n",
       "7                                       Wii Play      Wii           2006.0   \n",
       "8                      New Super Mario Bros. Wii      Wii           2009.0   \n",
       "9                                      Duck Hunt      NES           1984.0   \n",
       "10                                    Nintendogs       DS           2005.0   \n",
       "11                                 Mario Kart DS       DS           2005.0   \n",
       "12                   Pokemon Gold/Pokemon Silver       GB           1999.0   \n",
       "13                                       Wii Fit      Wii           2007.0   \n",
       "14                            Kinect Adventures!     X360           2010.0   \n",
       "15                                  Wii Fit Plus      Wii           2009.0   \n",
       "16                            Grand Theft Auto V      PS3           2013.0   \n",
       "17                 Grand Theft Auto: San Andreas      PS2           2004.0   \n",
       "18                             Super Mario World     SNES           1990.0   \n",
       "19  Brain Age: Train Your Brain in Minutes a Day       DS           2005.0   \n",
       "\n",
       "           Genre  NA_sales  EU_sales  JP_sales  Other_sales  Critic_Score  \\\n",
       "0         Sports     41.36     28.96      3.77         8.45          76.0   \n",
       "1       Platform     29.08      3.58      6.81         0.77           NaN   \n",
       "2         Racing     15.68     12.76      3.79         3.29          82.0   \n",
       "3         Sports     15.61     10.93      3.28         2.95          80.0   \n",
       "4   Role-Playing     11.27      8.89     10.22         1.00           NaN   \n",
       "5         Puzzle     23.20      2.26      4.22         0.58           NaN   \n",
       "6       Platform     11.28      9.14      6.50         2.88          89.0   \n",
       "7           Misc     13.96      9.18      2.93         2.84          58.0   \n",
       "8       Platform     14.44      6.94      4.70         2.24          87.0   \n",
       "9        Shooter     26.93      0.63      0.28         0.47           NaN   \n",
       "10    Simulation      9.05     10.95      1.93         2.74           NaN   \n",
       "11        Racing      9.71      7.47      4.13         1.90          91.0   \n",
       "12  Role-Playing      9.00      6.18      7.20         0.71           NaN   \n",
       "13        Sports      8.92      8.03      3.60         2.15          80.0   \n",
       "14          Misc     15.00      4.89      0.24         1.69          61.0   \n",
       "15        Sports      9.01      8.49      2.53         1.77          80.0   \n",
       "16        Action      7.02      9.09      0.98         3.96          97.0   \n",
       "17        Action      9.43      0.40      0.41        10.57          95.0   \n",
       "18      Platform     12.78      3.75      3.54         0.55           NaN   \n",
       "19          Misc      4.74      9.20      4.16         2.04          77.0   \n",
       "\n",
       "   User_Score Rating  \n",
       "0           8      E  \n",
       "1         NaN    NaN  \n",
       "2         8.3      E  \n",
       "3           8      E  \n",
       "4         NaN    NaN  \n",
       "5         NaN    NaN  \n",
       "6         8.5      E  \n",
       "7         6.6      E  \n",
       "8         8.4      E  \n",
       "9         NaN    NaN  \n",
       "10        NaN    NaN  \n",
       "11        8.6      E  \n",
       "12        NaN    NaN  \n",
       "13        7.7      E  \n",
       "14        6.3      E  \n",
       "15        7.4      E  \n",
       "16        8.2      M  \n",
       "17          9      M  \n",
       "18        NaN    NaN  \n",
       "19        7.9      E  "
      ]
     },
     "execution_count": 2,
     "metadata": {},
     "output_type": "execute_result"
    }
   ],
   "source": [
    "df = pd.read_csv('/datasets/games.csv')\n",
    "df.head(20)"
   ]
  },
  {
   "cell_type": "code",
   "execution_count": 3,
   "metadata": {
    "scrolled": true
   },
   "outputs": [
    {
     "name": "stdout",
     "output_type": "stream",
     "text": [
      "<class 'pandas.core.frame.DataFrame'>\n",
      "RangeIndex: 16715 entries, 0 to 16714\n",
      "Data columns (total 11 columns):\n",
      " #   Column           Non-Null Count  Dtype  \n",
      "---  ------           --------------  -----  \n",
      " 0   Name             16713 non-null  object \n",
      " 1   Platform         16715 non-null  object \n",
      " 2   Year_of_Release  16446 non-null  float64\n",
      " 3   Genre            16713 non-null  object \n",
      " 4   NA_sales         16715 non-null  float64\n",
      " 5   EU_sales         16715 non-null  float64\n",
      " 6   JP_sales         16715 non-null  float64\n",
      " 7   Other_sales      16715 non-null  float64\n",
      " 8   Critic_Score     8137 non-null   float64\n",
      " 9   User_Score       10014 non-null  object \n",
      " 10  Rating           9949 non-null   object \n",
      "dtypes: float64(6), object(5)\n",
      "memory usage: 1.4+ MB\n"
     ]
    }
   ],
   "source": [
    "df.info()"
   ]
  },
  {
   "cell_type": "markdown",
   "metadata": {},
   "source": [
    "#### Приведем названия столбцов к единому виду:"
   ]
  },
  {
   "cell_type": "code",
   "execution_count": 4,
   "metadata": {},
   "outputs": [
    {
     "data": {
      "text/html": [
       "<div>\n",
       "<style scoped>\n",
       "    .dataframe tbody tr th:only-of-type {\n",
       "        vertical-align: middle;\n",
       "    }\n",
       "\n",
       "    .dataframe tbody tr th {\n",
       "        vertical-align: top;\n",
       "    }\n",
       "\n",
       "    .dataframe thead th {\n",
       "        text-align: right;\n",
       "    }\n",
       "</style>\n",
       "<table border=\"1\" class=\"dataframe\">\n",
       "  <thead>\n",
       "    <tr style=\"text-align: right;\">\n",
       "      <th></th>\n",
       "      <th>name</th>\n",
       "      <th>platform</th>\n",
       "      <th>year_of_release</th>\n",
       "      <th>genre</th>\n",
       "      <th>na_sales</th>\n",
       "      <th>eu_sales</th>\n",
       "      <th>jp_sales</th>\n",
       "      <th>other_sales</th>\n",
       "      <th>critic_score</th>\n",
       "      <th>user_score</th>\n",
       "      <th>rating</th>\n",
       "    </tr>\n",
       "  </thead>\n",
       "  <tbody>\n",
       "    <tr>\n",
       "      <th>0</th>\n",
       "      <td>Wii Sports</td>\n",
       "      <td>Wii</td>\n",
       "      <td>2006.0</td>\n",
       "      <td>Sports</td>\n",
       "      <td>41.36</td>\n",
       "      <td>28.96</td>\n",
       "      <td>3.77</td>\n",
       "      <td>8.45</td>\n",
       "      <td>76.0</td>\n",
       "      <td>8</td>\n",
       "      <td>E</td>\n",
       "    </tr>\n",
       "    <tr>\n",
       "      <th>1</th>\n",
       "      <td>Super Mario Bros.</td>\n",
       "      <td>NES</td>\n",
       "      <td>1985.0</td>\n",
       "      <td>Platform</td>\n",
       "      <td>29.08</td>\n",
       "      <td>3.58</td>\n",
       "      <td>6.81</td>\n",
       "      <td>0.77</td>\n",
       "      <td>NaN</td>\n",
       "      <td>NaN</td>\n",
       "      <td>NaN</td>\n",
       "    </tr>\n",
       "    <tr>\n",
       "      <th>2</th>\n",
       "      <td>Mario Kart Wii</td>\n",
       "      <td>Wii</td>\n",
       "      <td>2008.0</td>\n",
       "      <td>Racing</td>\n",
       "      <td>15.68</td>\n",
       "      <td>12.76</td>\n",
       "      <td>3.79</td>\n",
       "      <td>3.29</td>\n",
       "      <td>82.0</td>\n",
       "      <td>8.3</td>\n",
       "      <td>E</td>\n",
       "    </tr>\n",
       "    <tr>\n",
       "      <th>3</th>\n",
       "      <td>Wii Sports Resort</td>\n",
       "      <td>Wii</td>\n",
       "      <td>2009.0</td>\n",
       "      <td>Sports</td>\n",
       "      <td>15.61</td>\n",
       "      <td>10.93</td>\n",
       "      <td>3.28</td>\n",
       "      <td>2.95</td>\n",
       "      <td>80.0</td>\n",
       "      <td>8</td>\n",
       "      <td>E</td>\n",
       "    </tr>\n",
       "    <tr>\n",
       "      <th>4</th>\n",
       "      <td>Pokemon Red/Pokemon Blue</td>\n",
       "      <td>GB</td>\n",
       "      <td>1996.0</td>\n",
       "      <td>Role-Playing</td>\n",
       "      <td>11.27</td>\n",
       "      <td>8.89</td>\n",
       "      <td>10.22</td>\n",
       "      <td>1.00</td>\n",
       "      <td>NaN</td>\n",
       "      <td>NaN</td>\n",
       "      <td>NaN</td>\n",
       "    </tr>\n",
       "  </tbody>\n",
       "</table>\n",
       "</div>"
      ],
      "text/plain": [
       "                       name platform  year_of_release         genre  na_sales  \\\n",
       "0                Wii Sports      Wii           2006.0        Sports     41.36   \n",
       "1         Super Mario Bros.      NES           1985.0      Platform     29.08   \n",
       "2            Mario Kart Wii      Wii           2008.0        Racing     15.68   \n",
       "3         Wii Sports Resort      Wii           2009.0        Sports     15.61   \n",
       "4  Pokemon Red/Pokemon Blue       GB           1996.0  Role-Playing     11.27   \n",
       "\n",
       "   eu_sales  jp_sales  other_sales  critic_score user_score rating  \n",
       "0     28.96      3.77         8.45          76.0          8      E  \n",
       "1      3.58      6.81         0.77           NaN        NaN    NaN  \n",
       "2     12.76      3.79         3.29          82.0        8.3      E  \n",
       "3     10.93      3.28         2.95          80.0          8      E  \n",
       "4      8.89     10.22         1.00           NaN        NaN    NaN  "
      ]
     },
     "execution_count": 4,
     "metadata": {},
     "output_type": "execute_result"
    }
   ],
   "source": [
    "df.columns = df.columns.str.lower()\n",
    "df.head()"
   ]
  },
  {
   "cell_type": "markdown",
   "metadata": {},
   "source": [
    "В столбце с оценкой пользователей присутствуют значения tbd, посмотрим, сколько их."
   ]
  },
  {
   "cell_type": "code",
   "execution_count": 5,
   "metadata": {},
   "outputs": [
    {
     "data": {
      "text/html": [
       "<div>\n",
       "<style scoped>\n",
       "    .dataframe tbody tr th:only-of-type {\n",
       "        vertical-align: middle;\n",
       "    }\n",
       "\n",
       "    .dataframe tbody tr th {\n",
       "        vertical-align: top;\n",
       "    }\n",
       "\n",
       "    .dataframe thead th {\n",
       "        text-align: right;\n",
       "    }\n",
       "</style>\n",
       "<table border=\"1\" class=\"dataframe\">\n",
       "  <thead>\n",
       "    <tr style=\"text-align: right;\">\n",
       "      <th></th>\n",
       "      <th>name</th>\n",
       "      <th>platform</th>\n",
       "      <th>year_of_release</th>\n",
       "      <th>genre</th>\n",
       "      <th>na_sales</th>\n",
       "      <th>eu_sales</th>\n",
       "      <th>jp_sales</th>\n",
       "      <th>other_sales</th>\n",
       "      <th>critic_score</th>\n",
       "      <th>user_score</th>\n",
       "      <th>rating</th>\n",
       "    </tr>\n",
       "  </thead>\n",
       "  <tbody>\n",
       "    <tr>\n",
       "      <th>119</th>\n",
       "      <td>Zumba Fitness</td>\n",
       "      <td>Wii</td>\n",
       "      <td>2010.0</td>\n",
       "      <td>Sports</td>\n",
       "      <td>3.45</td>\n",
       "      <td>2.59</td>\n",
       "      <td>0.0</td>\n",
       "      <td>0.66</td>\n",
       "      <td>NaN</td>\n",
       "      <td>tbd</td>\n",
       "      <td>E</td>\n",
       "    </tr>\n",
       "    <tr>\n",
       "      <th>301</th>\n",
       "      <td>Namco Museum: 50th Anniversary</td>\n",
       "      <td>PS2</td>\n",
       "      <td>2005.0</td>\n",
       "      <td>Misc</td>\n",
       "      <td>2.08</td>\n",
       "      <td>1.35</td>\n",
       "      <td>0.0</td>\n",
       "      <td>0.54</td>\n",
       "      <td>61.0</td>\n",
       "      <td>tbd</td>\n",
       "      <td>E10+</td>\n",
       "    </tr>\n",
       "    <tr>\n",
       "      <th>520</th>\n",
       "      <td>Zumba Fitness 2</td>\n",
       "      <td>Wii</td>\n",
       "      <td>2011.0</td>\n",
       "      <td>Sports</td>\n",
       "      <td>1.51</td>\n",
       "      <td>1.03</td>\n",
       "      <td>0.0</td>\n",
       "      <td>0.27</td>\n",
       "      <td>NaN</td>\n",
       "      <td>tbd</td>\n",
       "      <td>T</td>\n",
       "    </tr>\n",
       "    <tr>\n",
       "      <th>645</th>\n",
       "      <td>uDraw Studio</td>\n",
       "      <td>Wii</td>\n",
       "      <td>2010.0</td>\n",
       "      <td>Misc</td>\n",
       "      <td>1.65</td>\n",
       "      <td>0.57</td>\n",
       "      <td>0.0</td>\n",
       "      <td>0.20</td>\n",
       "      <td>71.0</td>\n",
       "      <td>tbd</td>\n",
       "      <td>E</td>\n",
       "    </tr>\n",
       "    <tr>\n",
       "      <th>657</th>\n",
       "      <td>Frogger's Adventures: Temple of the Frog</td>\n",
       "      <td>GBA</td>\n",
       "      <td>NaN</td>\n",
       "      <td>Adventure</td>\n",
       "      <td>2.15</td>\n",
       "      <td>0.18</td>\n",
       "      <td>0.0</td>\n",
       "      <td>0.07</td>\n",
       "      <td>73.0</td>\n",
       "      <td>tbd</td>\n",
       "      <td>E</td>\n",
       "    </tr>\n",
       "    <tr>\n",
       "      <th>...</th>\n",
       "      <td>...</td>\n",
       "      <td>...</td>\n",
       "      <td>...</td>\n",
       "      <td>...</td>\n",
       "      <td>...</td>\n",
       "      <td>...</td>\n",
       "      <td>...</td>\n",
       "      <td>...</td>\n",
       "      <td>...</td>\n",
       "      <td>...</td>\n",
       "      <td>...</td>\n",
       "    </tr>\n",
       "    <tr>\n",
       "      <th>16695</th>\n",
       "      <td>Planet Monsters</td>\n",
       "      <td>GBA</td>\n",
       "      <td>2001.0</td>\n",
       "      <td>Action</td>\n",
       "      <td>0.01</td>\n",
       "      <td>0.00</td>\n",
       "      <td>0.0</td>\n",
       "      <td>0.00</td>\n",
       "      <td>67.0</td>\n",
       "      <td>tbd</td>\n",
       "      <td>E</td>\n",
       "    </tr>\n",
       "    <tr>\n",
       "      <th>16697</th>\n",
       "      <td>Bust-A-Move 3000</td>\n",
       "      <td>GC</td>\n",
       "      <td>2003.0</td>\n",
       "      <td>Puzzle</td>\n",
       "      <td>0.01</td>\n",
       "      <td>0.00</td>\n",
       "      <td>0.0</td>\n",
       "      <td>0.00</td>\n",
       "      <td>53.0</td>\n",
       "      <td>tbd</td>\n",
       "      <td>E</td>\n",
       "    </tr>\n",
       "    <tr>\n",
       "      <th>16698</th>\n",
       "      <td>Mega Brain Boost</td>\n",
       "      <td>DS</td>\n",
       "      <td>2008.0</td>\n",
       "      <td>Puzzle</td>\n",
       "      <td>0.01</td>\n",
       "      <td>0.00</td>\n",
       "      <td>0.0</td>\n",
       "      <td>0.00</td>\n",
       "      <td>48.0</td>\n",
       "      <td>tbd</td>\n",
       "      <td>E</td>\n",
       "    </tr>\n",
       "    <tr>\n",
       "      <th>16704</th>\n",
       "      <td>Plushees</td>\n",
       "      <td>DS</td>\n",
       "      <td>2008.0</td>\n",
       "      <td>Simulation</td>\n",
       "      <td>0.01</td>\n",
       "      <td>0.00</td>\n",
       "      <td>0.0</td>\n",
       "      <td>0.00</td>\n",
       "      <td>NaN</td>\n",
       "      <td>tbd</td>\n",
       "      <td>E</td>\n",
       "    </tr>\n",
       "    <tr>\n",
       "      <th>16706</th>\n",
       "      <td>Men in Black II: Alien Escape</td>\n",
       "      <td>GC</td>\n",
       "      <td>2003.0</td>\n",
       "      <td>Shooter</td>\n",
       "      <td>0.01</td>\n",
       "      <td>0.00</td>\n",
       "      <td>0.0</td>\n",
       "      <td>0.00</td>\n",
       "      <td>NaN</td>\n",
       "      <td>tbd</td>\n",
       "      <td>T</td>\n",
       "    </tr>\n",
       "  </tbody>\n",
       "</table>\n",
       "<p>2424 rows × 11 columns</p>\n",
       "</div>"
      ],
      "text/plain": [
       "                                           name platform  year_of_release  \\\n",
       "119                               Zumba Fitness      Wii           2010.0   \n",
       "301              Namco Museum: 50th Anniversary      PS2           2005.0   \n",
       "520                             Zumba Fitness 2      Wii           2011.0   \n",
       "645                                uDraw Studio      Wii           2010.0   \n",
       "657    Frogger's Adventures: Temple of the Frog      GBA              NaN   \n",
       "...                                         ...      ...              ...   \n",
       "16695                           Planet Monsters      GBA           2001.0   \n",
       "16697                          Bust-A-Move 3000       GC           2003.0   \n",
       "16698                          Mega Brain Boost       DS           2008.0   \n",
       "16704                                  Plushees       DS           2008.0   \n",
       "16706             Men in Black II: Alien Escape       GC           2003.0   \n",
       "\n",
       "            genre  na_sales  eu_sales  jp_sales  other_sales  critic_score  \\\n",
       "119        Sports      3.45      2.59       0.0         0.66           NaN   \n",
       "301          Misc      2.08      1.35       0.0         0.54          61.0   \n",
       "520        Sports      1.51      1.03       0.0         0.27           NaN   \n",
       "645          Misc      1.65      0.57       0.0         0.20          71.0   \n",
       "657     Adventure      2.15      0.18       0.0         0.07          73.0   \n",
       "...           ...       ...       ...       ...          ...           ...   \n",
       "16695      Action      0.01      0.00       0.0         0.00          67.0   \n",
       "16697      Puzzle      0.01      0.00       0.0         0.00          53.0   \n",
       "16698      Puzzle      0.01      0.00       0.0         0.00          48.0   \n",
       "16704  Simulation      0.01      0.00       0.0         0.00           NaN   \n",
       "16706     Shooter      0.01      0.00       0.0         0.00           NaN   \n",
       "\n",
       "      user_score rating  \n",
       "119          tbd      E  \n",
       "301          tbd   E10+  \n",
       "520          tbd      T  \n",
       "645          tbd      E  \n",
       "657          tbd      E  \n",
       "...          ...    ...  \n",
       "16695        tbd      E  \n",
       "16697        tbd      E  \n",
       "16698        tbd      E  \n",
       "16704        tbd      E  \n",
       "16706        tbd      T  \n",
       "\n",
       "[2424 rows x 11 columns]"
      ]
     },
     "execution_count": 5,
     "metadata": {},
     "output_type": "execute_result"
    }
   ],
   "source": [
    "df[df['user_score'] == 'tbd']"
   ]
  },
  {
   "cell_type": "markdown",
   "metadata": {},
   "source": [
    "2424 строки. По данным Metacritic, это аббревиатура To Be Determined - когда игра имеет недостаточное количество отзывов - менее 4 для подсчета рейтинга. По сути, это так же NaN."
   ]
  },
  {
   "cell_type": "markdown",
   "metadata": {},
   "source": [
    "Год релиза точно не может быть не целым числом. Оценка пользователей приведена в десятибальной системе в виде строки. Приведем ее к стобальной и типу с плавающей точкой для упрощения расчетв далее.\n",
    "В столбце с оценкой пользователей присутствуют значения tbd. Обратим на него внимание.\n",
    "\n",
    "#### Преобразуем данные к нужному типу:"
   ]
  },
  {
   "cell_type": "code",
   "execution_count": 6,
   "metadata": {},
   "outputs": [],
   "source": [
    "df['year_of_release'] = df['year_of_release'].astype('Int64', errors='ignore')\n",
    "df['critic_score'] = df['critic_score'].astype('float', errors='ignore')  \n",
    "df['user_score'] = pd.to_numeric(df['user_score'], errors='coerce')\n",
    "df['user_score'] = df['user_score'].apply(lambda x: x*10)   \n",
    "df['user_score'] = df['user_score'].astype('float', errors='ignore')"
   ]
  },
  {
   "cell_type": "code",
   "execution_count": 7,
   "metadata": {
    "scrolled": true
   },
   "outputs": [
    {
     "name": "stdout",
     "output_type": "stream",
     "text": [
      "<class 'pandas.core.frame.DataFrame'>\n",
      "RangeIndex: 16715 entries, 0 to 16714\n",
      "Data columns (total 11 columns):\n",
      " #   Column           Non-Null Count  Dtype  \n",
      "---  ------           --------------  -----  \n",
      " 0   name             16713 non-null  object \n",
      " 1   platform         16715 non-null  object \n",
      " 2   year_of_release  16446 non-null  Int64  \n",
      " 3   genre            16713 non-null  object \n",
      " 4   na_sales         16715 non-null  float64\n",
      " 5   eu_sales         16715 non-null  float64\n",
      " 6   jp_sales         16715 non-null  float64\n",
      " 7   other_sales      16715 non-null  float64\n",
      " 8   critic_score     8137 non-null   float64\n",
      " 9   user_score       7590 non-null   float64\n",
      " 10  rating           9949 non-null   object \n",
      "dtypes: Int64(1), float64(6), object(4)\n",
      "memory usage: 1.4+ MB\n"
     ]
    }
   ],
   "source": [
    "df.info()"
   ]
  },
  {
   "cell_type": "markdown",
   "metadata": {},
   "source": [
    "#### Проверим, в каких столбцах и сколько значений отсутствует:"
   ]
  },
  {
   "cell_type": "code",
   "execution_count": 8,
   "metadata": {},
   "outputs": [
    {
     "data": {
      "text/plain": [
       "name                  2\n",
       "platform              0\n",
       "year_of_release     269\n",
       "genre                 2\n",
       "na_sales              0\n",
       "eu_sales              0\n",
       "jp_sales              0\n",
       "other_sales           0\n",
       "critic_score       8578\n",
       "user_score         9125\n",
       "rating             6766\n",
       "dtype: int64"
      ]
     },
     "execution_count": 8,
     "metadata": {},
     "output_type": "execute_result"
    }
   ],
   "source": [
    "df.isna().sum()"
   ]
  },
  {
   "cell_type": "markdown",
   "metadata": {},
   "source": [
    "Пропущенные значения из столбцах 'year_of_release', 'name', 'genre' нельзя заменить никакими значениями без искажения данных, поэтому удалим строки с пропущенными значениями."
   ]
  },
  {
   "cell_type": "code",
   "execution_count": 9,
   "metadata": {},
   "outputs": [],
   "source": [
    "df = df.dropna(subset=['name', 'year_of_release', 'genre']).reset_index(drop=True)"
   ]
  },
  {
   "cell_type": "code",
   "execution_count": 10,
   "metadata": {
    "scrolled": true
   },
   "outputs": [
    {
     "data": {
      "text/plain": [
       "name                  0\n",
       "platform              0\n",
       "year_of_release       0\n",
       "genre                 0\n",
       "na_sales              0\n",
       "eu_sales              0\n",
       "jp_sales              0\n",
       "other_sales           0\n",
       "critic_score       8461\n",
       "user_score         8981\n",
       "rating             6676\n",
       "dtype: int64"
      ]
     },
     "execution_count": 10,
     "metadata": {},
     "output_type": "execute_result"
    }
   ],
   "source": [
    "df.isna().sum()"
   ]
  },
  {
   "cell_type": "markdown",
   "metadata": {},
   "source": [
    "#### Проверим, имеются ли строки, в которых отсутствуют значения во всех 3 столбцах:"
   ]
  },
  {
   "cell_type": "code",
   "execution_count": 11,
   "metadata": {},
   "outputs": [],
   "source": [
    "df_nan = df[(df['critic_score'].isna() == True) \n",
    "      & (df['user_score'].isna() == True) \n",
    "      & (df['rating'].isna() == True)]"
   ]
  },
  {
   "cell_type": "markdown",
   "metadata": {},
   "source": [
    "6534 строки в датасете с отсутствующими сразу в 3 столбцах данными. Очевидно, что часть данных по играм с низким количеством продаж. И отсутствие значений могут быть следствием невостребованности игр на мировом рынке или выпуске игры для только, например, Японии. \n",
    "\n",
    "#### Посмотрим распределение по годам:"
   ]
  },
  {
   "cell_type": "code",
   "execution_count": 12,
   "metadata": {},
   "outputs": [
    {
     "data": {
      "text/plain": [
       "year_of_release\n",
       "1980      9\n",
       "1981     46\n",
       "1982     36\n",
       "1983     17\n",
       "1984     14\n",
       "1985     13\n",
       "1986     21\n",
       "1987     16\n",
       "1988     14\n",
       "1989     17\n",
       "1990     16\n",
       "1991     41\n",
       "1992     41\n",
       "1993     60\n",
       "1994    120\n",
       "1995    219\n",
       "1996    255\n",
       "1997    268\n",
       "1998    346\n",
       "1999    296\n",
       "2000    200\n",
       "2001    143\n",
       "2002    174\n",
       "2003    161\n",
       "2004    161\n",
       "2005    232\n",
       "2006    327\n",
       "2007    375\n",
       "2008    440\n",
       "2009    408\n",
       "2010    453\n",
       "2011    419\n",
       "2012    290\n",
       "2013    222\n",
       "2014    231\n",
       "2015    273\n",
       "2016    206\n",
       "Name: name, dtype: int64"
      ]
     },
     "execution_count": 12,
     "metadata": {},
     "output_type": "execute_result"
    }
   ],
   "source": [
    "df_nan.groupby('year_of_release')['name'].count()"
   ]
  },
  {
   "cell_type": "markdown",
   "metadata": {},
   "source": [
    "Некоторые игры были выпущены во времена, когда даже Metacritic еще не издавался (1999 г), а рейтинг ESRB мог появиться только после появления самой организации, ее выставляющей, в 1994 году. Для некоторых игр однозначно, не хватает данных для оценок, поэтому их не занесли.\n",
    "\n",
    "Однако, пропуски есть и в данных по играм с большим количеством продаж и с годом выпуска после 1999.\n",
    "\n",
    "Замена пропусков на средние или медианы в этих строках может исказить данные, а удаление этих строк приведет к потере большого количества строк. Заменим пропуски на численные значения, которые не подходят по смыслу, что бы не спутать с реальными данными. \n",
    "\n",
    "#### Для замены пропусков выберем -1:"
   ]
  },
  {
   "cell_type": "code",
   "execution_count": 13,
   "metadata": {},
   "outputs": [],
   "source": [
    "df['critic_score'] = df['critic_score'].fillna(-1)\n",
    "df['user_score'] = df['user_score'].fillna(-1)\n",
    "df['rating'] = df['rating'].fillna(-1)"
   ]
  },
  {
   "cell_type": "markdown",
   "metadata": {},
   "source": [
    "Таким образом, все пропуски были обработаны и не была потеряна значительная часть датасета."
   ]
  },
  {
   "cell_type": "markdown",
   "metadata": {},
   "source": [
    "#### Создадим столбец с общим количеством продаж:"
   ]
  },
  {
   "cell_type": "code",
   "execution_count": 14,
   "metadata": {},
   "outputs": [],
   "source": [
    "df['total_sales'] = df['na_sales'] + df['eu_sales']+ df['jp_sales']+ df['other_sales']"
   ]
  },
  {
   "cell_type": "markdown",
   "metadata": {},
   "source": [
    "#### Проверим, есть ли в датасете полные дубликаты."
   ]
  },
  {
   "cell_type": "code",
   "execution_count": 15,
   "metadata": {},
   "outputs": [
    {
     "data": {
      "text/html": [
       "<div>\n",
       "<style scoped>\n",
       "    .dataframe tbody tr th:only-of-type {\n",
       "        vertical-align: middle;\n",
       "    }\n",
       "\n",
       "    .dataframe tbody tr th {\n",
       "        vertical-align: top;\n",
       "    }\n",
       "\n",
       "    .dataframe thead th {\n",
       "        text-align: right;\n",
       "    }\n",
       "</style>\n",
       "<table border=\"1\" class=\"dataframe\">\n",
       "  <thead>\n",
       "    <tr style=\"text-align: right;\">\n",
       "      <th></th>\n",
       "      <th>name</th>\n",
       "      <th>platform</th>\n",
       "      <th>year_of_release</th>\n",
       "      <th>genre</th>\n",
       "      <th>na_sales</th>\n",
       "      <th>eu_sales</th>\n",
       "      <th>jp_sales</th>\n",
       "      <th>other_sales</th>\n",
       "      <th>critic_score</th>\n",
       "      <th>user_score</th>\n",
       "      <th>rating</th>\n",
       "      <th>total_sales</th>\n",
       "    </tr>\n",
       "  </thead>\n",
       "  <tbody>\n",
       "  </tbody>\n",
       "</table>\n",
       "</div>"
      ],
      "text/plain": [
       "Empty DataFrame\n",
       "Columns: [name, platform, year_of_release, genre, na_sales, eu_sales, jp_sales, other_sales, critic_score, user_score, rating, total_sales]\n",
       "Index: []"
      ]
     },
     "execution_count": 15,
     "metadata": {},
     "output_type": "execute_result"
    }
   ],
   "source": [
    "df[df.duplicated()]"
   ]
  },
  {
   "cell_type": "markdown",
   "metadata": {},
   "source": [
    "Такие строки отсутствуют."
   ]
  },
  {
   "cell_type": "markdown",
   "metadata": {},
   "source": [
    "#### Проверим частичные дубликаты.\n",
    "Одна и та же игра может продаватся на разных платформах, а в разные года могуд выходить дополнения или расширенные версии, поэтому дубликаты проверяем в столбцах 'name', 'platform', 'year_of_release'."
   ]
  },
  {
   "cell_type": "code",
   "execution_count": 16,
   "metadata": {},
   "outputs": [
    {
     "data": {
      "text/html": [
       "<div>\n",
       "<style scoped>\n",
       "    .dataframe tbody tr th:only-of-type {\n",
       "        vertical-align: middle;\n",
       "    }\n",
       "\n",
       "    .dataframe tbody tr th {\n",
       "        vertical-align: top;\n",
       "    }\n",
       "\n",
       "    .dataframe thead th {\n",
       "        text-align: right;\n",
       "    }\n",
       "</style>\n",
       "<table border=\"1\" class=\"dataframe\">\n",
       "  <thead>\n",
       "    <tr style=\"text-align: right;\">\n",
       "      <th></th>\n",
       "      <th>name</th>\n",
       "      <th>platform</th>\n",
       "      <th>year_of_release</th>\n",
       "      <th>genre</th>\n",
       "      <th>na_sales</th>\n",
       "      <th>eu_sales</th>\n",
       "      <th>jp_sales</th>\n",
       "      <th>other_sales</th>\n",
       "      <th>critic_score</th>\n",
       "      <th>user_score</th>\n",
       "      <th>rating</th>\n",
       "      <th>total_sales</th>\n",
       "    </tr>\n",
       "  </thead>\n",
       "  <tbody>\n",
       "    <tr>\n",
       "      <th>15969</th>\n",
       "      <td>Madden NFL 13</td>\n",
       "      <td>PS3</td>\n",
       "      <td>2012</td>\n",
       "      <td>Sports</td>\n",
       "      <td>0.0</td>\n",
       "      <td>0.01</td>\n",
       "      <td>0.0</td>\n",
       "      <td>0.0</td>\n",
       "      <td>83.0</td>\n",
       "      <td>55.0</td>\n",
       "      <td>E</td>\n",
       "      <td>0.01</td>\n",
       "    </tr>\n",
       "  </tbody>\n",
       "</table>\n",
       "</div>"
      ],
      "text/plain": [
       "                name platform  year_of_release   genre  na_sales  eu_sales  \\\n",
       "15969  Madden NFL 13      PS3             2012  Sports       0.0      0.01   \n",
       "\n",
       "       jp_sales  other_sales  critic_score  user_score rating  total_sales  \n",
       "15969       0.0          0.0          83.0        55.0      E         0.01  "
      ]
     },
     "execution_count": 16,
     "metadata": {},
     "output_type": "execute_result"
    }
   ],
   "source": [
    "df[df.duplicated(subset=['name', 'platform', 'year_of_release'])]"
   ]
  },
  {
   "cell_type": "markdown",
   "metadata": {},
   "source": [
    "Можем удалить:"
   ]
  },
  {
   "cell_type": "code",
   "execution_count": 17,
   "metadata": {},
   "outputs": [],
   "source": [
    "df =  df.drop_duplicates(subset=['name', 'platform', 'year_of_release'], keep='last')"
   ]
  },
  {
   "cell_type": "markdown",
   "metadata": {},
   "source": [
    "## Исследовательский анализ данных"
   ]
  },
  {
   "cell_type": "markdown",
   "metadata": {},
   "source": [
    "#### Посмотрим разброс данных по столбцам."
   ]
  },
  {
   "cell_type": "code",
   "execution_count": 18,
   "metadata": {},
   "outputs": [
    {
     "data": {
      "text/html": [
       "<div>\n",
       "<style scoped>\n",
       "    .dataframe tbody tr th:only-of-type {\n",
       "        vertical-align: middle;\n",
       "    }\n",
       "\n",
       "    .dataframe tbody tr th {\n",
       "        vertical-align: top;\n",
       "    }\n",
       "\n",
       "    .dataframe thead th {\n",
       "        text-align: right;\n",
       "    }\n",
       "</style>\n",
       "<table border=\"1\" class=\"dataframe\">\n",
       "  <thead>\n",
       "    <tr style=\"text-align: right;\">\n",
       "      <th></th>\n",
       "      <th>year_of_release</th>\n",
       "      <th>na_sales</th>\n",
       "      <th>eu_sales</th>\n",
       "      <th>jp_sales</th>\n",
       "      <th>other_sales</th>\n",
       "      <th>critic_score</th>\n",
       "      <th>user_score</th>\n",
       "      <th>total_sales</th>\n",
       "    </tr>\n",
       "  </thead>\n",
       "  <tbody>\n",
       "    <tr>\n",
       "      <th>count</th>\n",
       "      <td>16443.000000</td>\n",
       "      <td>16443.000000</td>\n",
       "      <td>16443.000000</td>\n",
       "      <td>16443.000000</td>\n",
       "      <td>16443.000000</td>\n",
       "      <td>16443.000000</td>\n",
       "      <td>16443.000000</td>\n",
       "      <td>16443.000000</td>\n",
       "    </tr>\n",
       "    <tr>\n",
       "      <th>mean</th>\n",
       "      <td>2006.485921</td>\n",
       "      <td>0.263900</td>\n",
       "      <td>0.145926</td>\n",
       "      <td>0.078492</td>\n",
       "      <td>0.047583</td>\n",
       "      <td>32.976829</td>\n",
       "      <td>31.794806</td>\n",
       "      <td>0.535900</td>\n",
       "    </tr>\n",
       "    <tr>\n",
       "      <th>std</th>\n",
       "      <td>5.875546</td>\n",
       "      <td>0.818276</td>\n",
       "      <td>0.506731</td>\n",
       "      <td>0.311109</td>\n",
       "      <td>0.188006</td>\n",
       "      <td>36.301955</td>\n",
       "      <td>37.370227</td>\n",
       "      <td>1.558753</td>\n",
       "    </tr>\n",
       "    <tr>\n",
       "      <th>min</th>\n",
       "      <td>1980.000000</td>\n",
       "      <td>0.000000</td>\n",
       "      <td>0.000000</td>\n",
       "      <td>0.000000</td>\n",
       "      <td>0.000000</td>\n",
       "      <td>-1.000000</td>\n",
       "      <td>-1.000000</td>\n",
       "      <td>0.000000</td>\n",
       "    </tr>\n",
       "    <tr>\n",
       "      <th>25%</th>\n",
       "      <td>2003.000000</td>\n",
       "      <td>0.000000</td>\n",
       "      <td>0.000000</td>\n",
       "      <td>0.000000</td>\n",
       "      <td>0.000000</td>\n",
       "      <td>-1.000000</td>\n",
       "      <td>-1.000000</td>\n",
       "      <td>0.060000</td>\n",
       "    </tr>\n",
       "    <tr>\n",
       "      <th>50%</th>\n",
       "      <td>2007.000000</td>\n",
       "      <td>0.080000</td>\n",
       "      <td>0.020000</td>\n",
       "      <td>0.000000</td>\n",
       "      <td>0.010000</td>\n",
       "      <td>-1.000000</td>\n",
       "      <td>-1.000000</td>\n",
       "      <td>0.170000</td>\n",
       "    </tr>\n",
       "    <tr>\n",
       "      <th>75%</th>\n",
       "      <td>2010.000000</td>\n",
       "      <td>0.240000</td>\n",
       "      <td>0.110000</td>\n",
       "      <td>0.040000</td>\n",
       "      <td>0.030000</td>\n",
       "      <td>70.000000</td>\n",
       "      <td>73.000000</td>\n",
       "      <td>0.470000</td>\n",
       "    </tr>\n",
       "    <tr>\n",
       "      <th>max</th>\n",
       "      <td>2016.000000</td>\n",
       "      <td>41.360000</td>\n",
       "      <td>28.960000</td>\n",
       "      <td>10.220000</td>\n",
       "      <td>10.570000</td>\n",
       "      <td>98.000000</td>\n",
       "      <td>97.000000</td>\n",
       "      <td>82.540000</td>\n",
       "    </tr>\n",
       "  </tbody>\n",
       "</table>\n",
       "</div>"
      ],
      "text/plain": [
       "       year_of_release      na_sales      eu_sales      jp_sales  \\\n",
       "count     16443.000000  16443.000000  16443.000000  16443.000000   \n",
       "mean       2006.485921      0.263900      0.145926      0.078492   \n",
       "std           5.875546      0.818276      0.506731      0.311109   \n",
       "min        1980.000000      0.000000      0.000000      0.000000   \n",
       "25%        2003.000000      0.000000      0.000000      0.000000   \n",
       "50%        2007.000000      0.080000      0.020000      0.000000   \n",
       "75%        2010.000000      0.240000      0.110000      0.040000   \n",
       "max        2016.000000     41.360000     28.960000     10.220000   \n",
       "\n",
       "        other_sales  critic_score    user_score   total_sales  \n",
       "count  16443.000000  16443.000000  16443.000000  16443.000000  \n",
       "mean       0.047583     32.976829     31.794806      0.535900  \n",
       "std        0.188006     36.301955     37.370227      1.558753  \n",
       "min        0.000000     -1.000000     -1.000000      0.000000  \n",
       "25%        0.000000     -1.000000     -1.000000      0.060000  \n",
       "50%        0.010000     -1.000000     -1.000000      0.170000  \n",
       "75%        0.030000     70.000000     73.000000      0.470000  \n",
       "max       10.570000     98.000000     97.000000     82.540000  "
      ]
     },
     "execution_count": 18,
     "metadata": {},
     "output_type": "execute_result"
    }
   ],
   "source": [
    "df.describe()"
   ]
  },
  {
   "cell_type": "markdown",
   "metadata": {},
   "source": [
    "#### Построим гистограммы:"
   ]
  },
  {
   "cell_type": "markdown",
   "metadata": {},
   "source": [
    "Поскольку датасет приведен за 37 лет, на гистограммах удобнее всего выбрать именно такую разбивку по годам. А диапазон значений выберем из соображений распределения значений, что бы гистограммы были максимально наглядными."
   ]
  },
  {
   "cell_type": "code",
   "execution_count": 19,
   "metadata": {},
   "outputs": [
    {
     "data": {
      "image/png": "[encoded data removed]",
      "text/plain": [
       "<Figure size 504x504 with 1 Axes>"
      ]
     },
     "metadata": {
      "needs_background": "light"
     },
     "output_type": "display_data"
    },
    {
     "data": {
      "image/png": "[encoded data removed]",
      "text/plain": [
       "<Figure size 504x504 with 1 Axes>"
      ]
     },
     "metadata": {
      "needs_background": "light"
     },
     "output_type": "display_data"
    },
    {
     "data": {
      "image/png": "[encoded data removed]",
      "text/plain": [
       "<Figure size 504x504 with 1 Axes>"
      ]
     },
     "metadata": {
      "needs_background": "light"
     },
     "output_type": "display_data"
    },
    {
     "data": {
      "image/png": "[encoded data removed]",
      "text/plain": [
       "<Figure size 504x504 with 1 Axes>"
      ]
     },
     "metadata": {
      "needs_background": "light"
     },
     "output_type": "display_data"
    },
    {
     "data": {
      "image/png": "[encoded data removed]",
      "text/plain": [
       "<Figure size 504x504 with 1 Axes>"
      ]
     },
     "metadata": {
      "needs_background": "light"
     },
     "output_type": "display_data"
    },
    {
     "data": {
      "image/png": "[encoded data removed]",
      "text/plain": [
       "<Figure size 504x504 with 1 Axes>"
      ]
     },
     "metadata": {
      "needs_background": "light"
     },
     "output_type": "display_data"
    },
    {
     "data": {
      "image/png": "[encoded data removed]",
      "text/plain": [
       "<Figure size 504x504 with 1 Axes>"
      ]
     },
     "metadata": {
      "needs_background": "light"
     },
     "output_type": "display_data"
    },
    {
     "data": {
      "image/png": "[encoded data removed]",
      "text/plain": [
       "<Figure size 504x504 with 1 Axes>"
      ]
     },
     "metadata": {
      "needs_background": "light"
     },
     "output_type": "display_data"
    }
   ],
   "source": [
    "df['year_of_release'].hist(bins=37, figsize=(7, 7), legend=True)\n",
    "plt.show()\n",
    "df['na_sales'].hist(bins=25, figsize=(7, 7), range=(0.01, 1), legend=True)\n",
    "plt.show()\n",
    "df['eu_sales'].hist(bins=25, figsize=(7, 7), range=(0.01, 0.4), legend=True)\n",
    "plt.show()\n",
    "df['jp_sales'].hist(bins=25, figsize=(7, 7), range=(0.01, 0.2), legend=True)\n",
    "plt.show()\n",
    "df['other_sales'].hist(bins=25, figsize=(7, 7), range=(0.01, 0.15), legend=True)\n",
    "plt.show()\n",
    "df['critic_score'].hist(bins=50, figsize=(7, 7), range=(0, 100), legend=True)\n",
    "plt.show()\n",
    "df['user_score'].hist(bins=50, figsize=(7, 7), range=(0, 100), legend=True)\n",
    "plt.show()\n",
    "df['total_sales'].hist(bins=25, figsize=(7, 7), range=(0, 1.5), legend=True)\n",
    "plt.show()"
   ]
  },
  {
   "cell_type": "markdown",
   "metadata": {},
   "source": [
    "#### И \"Ящик с усами\":"
   ]
  },
  {
   "cell_type": "code",
   "execution_count": 20,
   "metadata": {},
   "outputs": [
    {
     "data": {
      "image/png": "[encoded data removed]",
      "text/plain": [
       "<Figure size 432x288 with 1 Axes>"
      ]
     },
     "metadata": {
      "needs_background": "light"
     },
     "output_type": "display_data"
    },
    {
     "data": {
      "image/png": "[encoded data removed]",
      "text/plain": [
       "<Figure size 432x288 with 1 Axes>"
      ]
     },
     "metadata": {
      "needs_background": "light"
     },
     "output_type": "display_data"
    },
    {
     "data": {
      "image/png": "[encoded data removed]",
      "text/plain": [
       "<Figure size 432x288 with 1 Axes>"
      ]
     },
     "metadata": {
      "needs_background": "light"
     },
     "output_type": "display_data"
    },
    {
     "data": {
      "image/png": "[encoded data removed]",
      "text/plain": [
       "<Figure size 432x288 with 1 Axes>"
      ]
     },
     "metadata": {
      "needs_background": "light"
     },
     "output_type": "display_data"
    },
    {
     "data": {
      "image/png": "[encoded data removed]",
      "text/plain": [
       "<Figure size 432x288 with 1 Axes>"
      ]
     },
     "metadata": {
      "needs_background": "light"
     },
     "output_type": "display_data"
    },
    {
     "data": {
      "image/png": "[encoded data removed]",
      "text/plain": [
       "<Figure size 432x288 with 1 Axes>"
      ]
     },
     "metadata": {
      "needs_background": "light"
     },
     "output_type": "display_data"
    },
    {
     "data": {
      "image/png": "[encoded data removed]",
      "text/plain": [
       "<Figure size 432x288 with 1 Axes>"
      ]
     },
     "metadata": {
      "needs_background": "light"
     },
     "output_type": "display_data"
    },
    {
     "data": {
      "text/plain": [
       "<AxesSubplot:>"
      ]
     },
     "execution_count": 20,
     "metadata": {},
     "output_type": "execute_result"
    },
    {
     "data": {
      "image/png": "[encoded data removed]",
      "text/plain": [
       "<Figure size 432x288 with 1 Axes>"
      ]
     },
     "metadata": {
      "needs_background": "light"
     },
     "output_type": "display_data"
    }
   ],
   "source": [
    "df.boxplot(column='year_of_release')\n",
    "plt.show()\n",
    "\n",
    "plt.ylim(0, 1)\n",
    "df.boxplot(column='na_sales')\n",
    "plt.show()\n",
    "\n",
    "plt.ylim(0, 0.4)\n",
    "df.boxplot(column='eu_sales')\n",
    "plt.show()\n",
    "\n",
    "plt.ylim(0, 0.2)\n",
    "df.boxplot(column='jp_sales')\n",
    "plt.show()\n",
    "\n",
    "plt.ylim(0, 0.15)\n",
    "df.boxplot(column='other_sales')\n",
    "plt.show()\n",
    "\n",
    "\n",
    "plt.ylim(0, 1.5)\n",
    "df.boxplot(column='total_sales')\n",
    "plt.show()\n",
    "\n",
    "\n",
    "plt.ylim(0, 100)\n",
    "df.boxplot(column='critic_score')\n",
    "plt.show()\n",
    "df.boxplot(column='user_score')"
   ]
  },
  {
   "cell_type": "markdown",
   "metadata": {},
   "source": [
    "#### Проверим, сколько игр выпускалось по годам:"
   ]
  },
  {
   "cell_type": "code",
   "execution_count": 21,
   "metadata": {},
   "outputs": [
    {
     "data": {
      "text/plain": [
       "year_of_release\n",
       "1980       9\n",
       "1981      46\n",
       "1982      36\n",
       "1983      17\n",
       "1984      14\n",
       "1985      14\n",
       "1986      21\n",
       "1987      16\n",
       "1988      15\n",
       "1989      17\n",
       "1990      16\n",
       "1991      41\n",
       "1992      43\n",
       "1993      60\n",
       "1994     121\n",
       "1995     219\n",
       "1996     263\n",
       "1997     289\n",
       "1998     379\n",
       "1999     338\n",
       "2000     350\n",
       "2001     482\n",
       "2002     829\n",
       "2003     775\n",
       "2004     762\n",
       "2005     939\n",
       "2006    1006\n",
       "2007    1197\n",
       "2008    1427\n",
       "2009    1426\n",
       "2010    1255\n",
       "2011    1136\n",
       "2012     652\n",
       "2013     544\n",
       "2014     581\n",
       "2015     606\n",
       "2016     502\n",
       "Name: user_score, dtype: int64"
      ]
     },
     "execution_count": 21,
     "metadata": {},
     "output_type": "execute_result"
    }
   ],
   "source": [
    "df.groupby('year_of_release')['user_score'].count()"
   ]
  },
  {
   "cell_type": "markdown",
   "metadata": {},
   "source": [
    "На основании данных выше, можно сказать, что до 1995 года игр почти не было - компьютер в доме - роскошь, резкий скачок по количеству выпущенных игр же произошел в 2002, достигнув пика в 2008-2009 гг, а с 2012 г наблюдается снижение количества выпущенных игр, что может быть связано с популярностью мобильных игр и приложений.\n",
    "\n",
    "Большое количество игр практически не продавались в некоторых регионах (или на момент составления датасета только начали продаваться).\n",
    "\n",
    "Так же, интересным наблюдением является факт, что \"на вкус все фломастеры разные\" и все игры нравятся и не нравятся не одинаково-игр ни с нуливым, ни с максимыльным баллом нет."
   ]
  },
  {
   "cell_type": "markdown",
   "metadata": {},
   "source": [
    "#### Проверим, какие суммы от продаж были по годам:"
   ]
  },
  {
   "cell_type": "code",
   "execution_count": 22,
   "metadata": {},
   "outputs": [],
   "source": [
    "import warnings\n",
    "\n",
    "warnings.filterwarnings(\"ignore\")"
   ]
  },
  {
   "cell_type": "code",
   "execution_count": 23,
   "metadata": {
    "scrolled": true
   },
   "outputs": [
    {
     "data": {
      "text/html": [
       "<div>\n",
       "<style scoped>\n",
       "    .dataframe tbody tr th:only-of-type {\n",
       "        vertical-align: middle;\n",
       "    }\n",
       "\n",
       "    .dataframe tbody tr th {\n",
       "        vertical-align: top;\n",
       "    }\n",
       "\n",
       "    .dataframe thead th {\n",
       "        text-align: right;\n",
       "    }\n",
       "</style>\n",
       "<table border=\"1\" class=\"dataframe\">\n",
       "  <thead>\n",
       "    <tr style=\"text-align: right;\">\n",
       "      <th></th>\n",
       "      <th>na_sales</th>\n",
       "      <th>eu_sales</th>\n",
       "      <th>jp_sales</th>\n",
       "      <th>other_sales</th>\n",
       "      <th>total_sales</th>\n",
       "    </tr>\n",
       "    <tr>\n",
       "      <th>year_of_release</th>\n",
       "      <th></th>\n",
       "      <th></th>\n",
       "      <th></th>\n",
       "      <th></th>\n",
       "      <th></th>\n",
       "    </tr>\n",
       "  </thead>\n",
       "  <tbody>\n",
       "    <tr>\n",
       "      <th>1980</th>\n",
       "      <td>10.59</td>\n",
       "      <td>0.67</td>\n",
       "      <td>0.00</td>\n",
       "      <td>0.12</td>\n",
       "      <td>11.38</td>\n",
       "    </tr>\n",
       "    <tr>\n",
       "      <th>1981</th>\n",
       "      <td>33.40</td>\n",
       "      <td>1.96</td>\n",
       "      <td>0.00</td>\n",
       "      <td>0.32</td>\n",
       "      <td>35.68</td>\n",
       "    </tr>\n",
       "    <tr>\n",
       "      <th>1982</th>\n",
       "      <td>26.92</td>\n",
       "      <td>1.65</td>\n",
       "      <td>0.00</td>\n",
       "      <td>0.31</td>\n",
       "      <td>28.88</td>\n",
       "    </tr>\n",
       "    <tr>\n",
       "      <th>1983</th>\n",
       "      <td>7.76</td>\n",
       "      <td>0.80</td>\n",
       "      <td>8.10</td>\n",
       "      <td>0.14</td>\n",
       "      <td>16.80</td>\n",
       "    </tr>\n",
       "    <tr>\n",
       "      <th>1984</th>\n",
       "      <td>33.28</td>\n",
       "      <td>2.10</td>\n",
       "      <td>14.27</td>\n",
       "      <td>0.70</td>\n",
       "      <td>50.35</td>\n",
       "    </tr>\n",
       "    <tr>\n",
       "      <th>1985</th>\n",
       "      <td>33.73</td>\n",
       "      <td>4.74</td>\n",
       "      <td>14.56</td>\n",
       "      <td>0.92</td>\n",
       "      <td>53.95</td>\n",
       "    </tr>\n",
       "    <tr>\n",
       "      <th>1986</th>\n",
       "      <td>12.50</td>\n",
       "      <td>2.84</td>\n",
       "      <td>19.81</td>\n",
       "      <td>1.93</td>\n",
       "      <td>37.08</td>\n",
       "    </tr>\n",
       "    <tr>\n",
       "      <th>1987</th>\n",
       "      <td>8.46</td>\n",
       "      <td>1.41</td>\n",
       "      <td>11.63</td>\n",
       "      <td>0.20</td>\n",
       "      <td>21.70</td>\n",
       "    </tr>\n",
       "    <tr>\n",
       "      <th>1988</th>\n",
       "      <td>23.87</td>\n",
       "      <td>6.59</td>\n",
       "      <td>15.76</td>\n",
       "      <td>0.99</td>\n",
       "      <td>47.21</td>\n",
       "    </tr>\n",
       "    <tr>\n",
       "      <th>1989</th>\n",
       "      <td>45.15</td>\n",
       "      <td>8.44</td>\n",
       "      <td>18.36</td>\n",
       "      <td>1.50</td>\n",
       "      <td>73.45</td>\n",
       "    </tr>\n",
       "    <tr>\n",
       "      <th>1990</th>\n",
       "      <td>25.46</td>\n",
       "      <td>7.63</td>\n",
       "      <td>14.88</td>\n",
       "      <td>1.40</td>\n",
       "      <td>49.37</td>\n",
       "    </tr>\n",
       "    <tr>\n",
       "      <th>1991</th>\n",
       "      <td>12.76</td>\n",
       "      <td>3.95</td>\n",
       "      <td>14.78</td>\n",
       "      <td>0.74</td>\n",
       "      <td>32.23</td>\n",
       "    </tr>\n",
       "    <tr>\n",
       "      <th>1992</th>\n",
       "      <td>33.89</td>\n",
       "      <td>11.71</td>\n",
       "      <td>28.91</td>\n",
       "      <td>1.65</td>\n",
       "      <td>76.16</td>\n",
       "    </tr>\n",
       "    <tr>\n",
       "      <th>1993</th>\n",
       "      <td>15.12</td>\n",
       "      <td>4.65</td>\n",
       "      <td>25.33</td>\n",
       "      <td>0.89</td>\n",
       "      <td>45.99</td>\n",
       "    </tr>\n",
       "    <tr>\n",
       "      <th>1994</th>\n",
       "      <td>28.16</td>\n",
       "      <td>14.88</td>\n",
       "      <td>33.99</td>\n",
       "      <td>2.20</td>\n",
       "      <td>79.23</td>\n",
       "    </tr>\n",
       "    <tr>\n",
       "      <th>1995</th>\n",
       "      <td>24.83</td>\n",
       "      <td>14.90</td>\n",
       "      <td>45.75</td>\n",
       "      <td>2.64</td>\n",
       "      <td>88.12</td>\n",
       "    </tr>\n",
       "    <tr>\n",
       "      <th>1996</th>\n",
       "      <td>86.76</td>\n",
       "      <td>47.26</td>\n",
       "      <td>57.44</td>\n",
       "      <td>7.69</td>\n",
       "      <td>199.15</td>\n",
       "    </tr>\n",
       "    <tr>\n",
       "      <th>1997</th>\n",
       "      <td>94.75</td>\n",
       "      <td>48.32</td>\n",
       "      <td>48.87</td>\n",
       "      <td>9.13</td>\n",
       "      <td>201.07</td>\n",
       "    </tr>\n",
       "    <tr>\n",
       "      <th>1998</th>\n",
       "      <td>128.36</td>\n",
       "      <td>66.90</td>\n",
       "      <td>50.04</td>\n",
       "      <td>11.01</td>\n",
       "      <td>256.31</td>\n",
       "    </tr>\n",
       "    <tr>\n",
       "      <th>1999</th>\n",
       "      <td>126.06</td>\n",
       "      <td>62.67</td>\n",
       "      <td>52.34</td>\n",
       "      <td>10.04</td>\n",
       "      <td>251.11</td>\n",
       "    </tr>\n",
       "    <tr>\n",
       "      <th>2000</th>\n",
       "      <td>94.50</td>\n",
       "      <td>52.77</td>\n",
       "      <td>42.77</td>\n",
       "      <td>11.62</td>\n",
       "      <td>201.66</td>\n",
       "    </tr>\n",
       "    <tr>\n",
       "      <th>2001</th>\n",
       "      <td>173.98</td>\n",
       "      <td>94.89</td>\n",
       "      <td>39.86</td>\n",
       "      <td>22.73</td>\n",
       "      <td>331.46</td>\n",
       "    </tr>\n",
       "    <tr>\n",
       "      <th>2002</th>\n",
       "      <td>216.19</td>\n",
       "      <td>109.75</td>\n",
       "      <td>41.76</td>\n",
       "      <td>27.27</td>\n",
       "      <td>394.97</td>\n",
       "    </tr>\n",
       "    <tr>\n",
       "      <th>2003</th>\n",
       "      <td>193.61</td>\n",
       "      <td>103.81</td>\n",
       "      <td>34.20</td>\n",
       "      <td>25.92</td>\n",
       "      <td>357.54</td>\n",
       "    </tr>\n",
       "    <tr>\n",
       "      <th>2004</th>\n",
       "      <td>222.51</td>\n",
       "      <td>107.28</td>\n",
       "      <td>41.65</td>\n",
       "      <td>47.24</td>\n",
       "      <td>418.68</td>\n",
       "    </tr>\n",
       "    <tr>\n",
       "      <th>2005</th>\n",
       "      <td>242.15</td>\n",
       "      <td>121.11</td>\n",
       "      <td>54.27</td>\n",
       "      <td>40.29</td>\n",
       "      <td>457.82</td>\n",
       "    </tr>\n",
       "    <tr>\n",
       "      <th>2006</th>\n",
       "      <td>262.13</td>\n",
       "      <td>127.89</td>\n",
       "      <td>73.74</td>\n",
       "      <td>53.95</td>\n",
       "      <td>517.71</td>\n",
       "    </tr>\n",
       "    <tr>\n",
       "      <th>2007</th>\n",
       "      <td>309.89</td>\n",
       "      <td>157.82</td>\n",
       "      <td>60.29</td>\n",
       "      <td>76.75</td>\n",
       "      <td>604.75</td>\n",
       "    </tr>\n",
       "    <tr>\n",
       "      <th>2008</th>\n",
       "      <td>348.69</td>\n",
       "      <td>181.14</td>\n",
       "      <td>60.25</td>\n",
       "      <td>81.42</td>\n",
       "      <td>671.50</td>\n",
       "    </tr>\n",
       "    <tr>\n",
       "      <th>2009</th>\n",
       "      <td>335.55</td>\n",
       "      <td>187.94</td>\n",
       "      <td>61.89</td>\n",
       "      <td>73.44</td>\n",
       "      <td>658.82</td>\n",
       "    </tr>\n",
       "    <tr>\n",
       "      <th>2010</th>\n",
       "      <td>300.65</td>\n",
       "      <td>171.42</td>\n",
       "      <td>59.49</td>\n",
       "      <td>58.57</td>\n",
       "      <td>590.13</td>\n",
       "    </tr>\n",
       "    <tr>\n",
       "      <th>2011</th>\n",
       "      <td>238.79</td>\n",
       "      <td>162.97</td>\n",
       "      <td>53.07</td>\n",
       "      <td>52.75</td>\n",
       "      <td>507.58</td>\n",
       "    </tr>\n",
       "    <tr>\n",
       "      <th>2012</th>\n",
       "      <td>151.15</td>\n",
       "      <td>114.37</td>\n",
       "      <td>51.80</td>\n",
       "      <td>35.96</td>\n",
       "      <td>353.28</td>\n",
       "    </tr>\n",
       "    <tr>\n",
       "      <th>2013</th>\n",
       "      <td>153.65</td>\n",
       "      <td>121.55</td>\n",
       "      <td>47.69</td>\n",
       "      <td>38.35</td>\n",
       "      <td>361.24</td>\n",
       "    </tr>\n",
       "    <tr>\n",
       "      <th>2014</th>\n",
       "      <td>132.27</td>\n",
       "      <td>122.74</td>\n",
       "      <td>39.69</td>\n",
       "      <td>36.83</td>\n",
       "      <td>331.53</td>\n",
       "    </tr>\n",
       "    <tr>\n",
       "      <th>2015</th>\n",
       "      <td>106.86</td>\n",
       "      <td>96.72</td>\n",
       "      <td>34.09</td>\n",
       "      <td>30.31</td>\n",
       "      <td>267.98</td>\n",
       "    </tr>\n",
       "    <tr>\n",
       "      <th>2016</th>\n",
       "      <td>44.93</td>\n",
       "      <td>51.22</td>\n",
       "      <td>19.31</td>\n",
       "      <td>14.48</td>\n",
       "      <td>129.94</td>\n",
       "    </tr>\n",
       "  </tbody>\n",
       "</table>\n",
       "</div>"
      ],
      "text/plain": [
       "                 na_sales  eu_sales  jp_sales  other_sales  total_sales\n",
       "year_of_release                                                        \n",
       "1980                10.59      0.67      0.00         0.12        11.38\n",
       "1981                33.40      1.96      0.00         0.32        35.68\n",
       "1982                26.92      1.65      0.00         0.31        28.88\n",
       "1983                 7.76      0.80      8.10         0.14        16.80\n",
       "1984                33.28      2.10     14.27         0.70        50.35\n",
       "1985                33.73      4.74     14.56         0.92        53.95\n",
       "1986                12.50      2.84     19.81         1.93        37.08\n",
       "1987                 8.46      1.41     11.63         0.20        21.70\n",
       "1988                23.87      6.59     15.76         0.99        47.21\n",
       "1989                45.15      8.44     18.36         1.50        73.45\n",
       "1990                25.46      7.63     14.88         1.40        49.37\n",
       "1991                12.76      3.95     14.78         0.74        32.23\n",
       "1992                33.89     11.71     28.91         1.65        76.16\n",
       "1993                15.12      4.65     25.33         0.89        45.99\n",
       "1994                28.16     14.88     33.99         2.20        79.23\n",
       "1995                24.83     14.90     45.75         2.64        88.12\n",
       "1996                86.76     47.26     57.44         7.69       199.15\n",
       "1997                94.75     48.32     48.87         9.13       201.07\n",
       "1998               128.36     66.90     50.04        11.01       256.31\n",
       "1999               126.06     62.67     52.34        10.04       251.11\n",
       "2000                94.50     52.77     42.77        11.62       201.66\n",
       "2001               173.98     94.89     39.86        22.73       331.46\n",
       "2002               216.19    109.75     41.76        27.27       394.97\n",
       "2003               193.61    103.81     34.20        25.92       357.54\n",
       "2004               222.51    107.28     41.65        47.24       418.68\n",
       "2005               242.15    121.11     54.27        40.29       457.82\n",
       "2006               262.13    127.89     73.74        53.95       517.71\n",
       "2007               309.89    157.82     60.29        76.75       604.75\n",
       "2008               348.69    181.14     60.25        81.42       671.50\n",
       "2009               335.55    187.94     61.89        73.44       658.82\n",
       "2010               300.65    171.42     59.49        58.57       590.13\n",
       "2011               238.79    162.97     53.07        52.75       507.58\n",
       "2012               151.15    114.37     51.80        35.96       353.28\n",
       "2013               153.65    121.55     47.69        38.35       361.24\n",
       "2014               132.27    122.74     39.69        36.83       331.53\n",
       "2015               106.86     96.72     34.09        30.31       267.98\n",
       "2016                44.93     51.22     19.31        14.48       129.94"
      ]
     },
     "execution_count": 23,
     "metadata": {},
     "output_type": "execute_result"
    }
   ],
   "source": [
    "df.groupby('year_of_release')['na_sales', 'eu_sales', 'jp_sales', 'other_sales', 'total_sales'].sum()"
   ]
  },
  {
   "cell_type": "markdown",
   "metadata": {},
   "source": [
    "спасибо)"
   ]
  },
  {
   "cell_type": "markdown",
   "metadata": {},
   "source": [
    "Времена меняются, меняется и покупательский спрос и паттерны поведения покупателей. И то, что было актуально 30 лет назад, уже давно не актуально. \n",
    "\n",
    "Прогнозировать продажи на следующие годы лучше всего по тем данным, которые максимально близки ко времени, на которое планируется прогноз.\n",
    "\n",
    "Снижение количества выпускаемых игр произошло с 2012 года, эти данные и лучше всего брать для построения модели прогноза. Данные по суммарным продажам по регионам и совместные подтверждают мое предположение - продажи падают.\n",
    "\n",
    "Причем, интересным является факт, что в 2010-2011 гг снижение выпуска игр было не таким сильным, но суммарное количество продаж просело на более, чем 10% и игровая индустрия сильно изменилась - в следующие годы уже было выпущено меньше игр."
   ]
  },
  {
   "cell_type": "markdown",
   "metadata": {},
   "source": [
    "#### Посмотрим, как менялись продажи по платформам:"
   ]
  },
  {
   "cell_type": "code",
   "execution_count": 24,
   "metadata": {},
   "outputs": [
    {
     "data": {
      "text/plain": [
       "platform\n",
       "PS2     1233.56\n",
       "X360     961.24\n",
       "PS3      928.78\n",
       "Wii      891.18\n",
       "DS       802.78\n",
       "PS       727.58\n",
       "PS4      314.14\n",
       "GBA      312.88\n",
       "PSP      289.53\n",
       "3DS      257.81\n",
       "Name: total_sales, dtype: float64"
      ]
     },
     "execution_count": 24,
     "metadata": {},
     "output_type": "execute_result"
    }
   ],
   "source": [
    "df_platform_top = df.groupby('platform')['total_sales'].sum() \n",
    "df_platform_top.sort_values(ascending=False)[0:10]"
   ]
  },
  {
   "cell_type": "markdown",
   "metadata": {},
   "source": [
    "Четко видна шестерка платформ-лидеров. \n",
    "\n",
    "#### Построим график продаж на этих платформах по годам:"
   ]
  },
  {
   "cell_type": "code",
   "execution_count": 25,
   "metadata": {},
   "outputs": [
    {
     "data": {
      "text/plain": [
       "<bound method Index._get_level_values of Index(['PS2', 'X360', 'PS3', 'Wii', 'DS', 'PS'], dtype='object', name='platform')>"
      ]
     },
     "execution_count": 25,
     "metadata": {},
     "output_type": "execute_result"
    }
   ],
   "source": [
    "top_platforms = df_platform_top.sort_values(ascending=False)[0:6].index.get_level_values\n",
    "top_platforms"
   ]
  },
  {
   "cell_type": "code",
   "execution_count": 26,
   "metadata": {},
   "outputs": [],
   "source": [
    "top_platforms = ['PS2', 'X360', 'PS3', 'Wii', 'DS', 'PS']"
   ]
  },
  {
   "cell_type": "code",
   "execution_count": 27,
   "metadata": {},
   "outputs": [
    {
     "data": {
      "text/html": [
       "<div>\n",
       "<style scoped>\n",
       "    .dataframe tbody tr th:only-of-type {\n",
       "        vertical-align: middle;\n",
       "    }\n",
       "\n",
       "    .dataframe tbody tr th {\n",
       "        vertical-align: top;\n",
       "    }\n",
       "\n",
       "    .dataframe thead th {\n",
       "        text-align: right;\n",
       "    }\n",
       "</style>\n",
       "<table border=\"1\" class=\"dataframe\">\n",
       "  <thead>\n",
       "    <tr style=\"text-align: right;\">\n",
       "      <th></th>\n",
       "      <th>name</th>\n",
       "      <th>platform</th>\n",
       "      <th>year_of_release</th>\n",
       "      <th>genre</th>\n",
       "      <th>na_sales</th>\n",
       "      <th>eu_sales</th>\n",
       "      <th>jp_sales</th>\n",
       "      <th>other_sales</th>\n",
       "      <th>critic_score</th>\n",
       "      <th>user_score</th>\n",
       "      <th>rating</th>\n",
       "      <th>total_sales</th>\n",
       "    </tr>\n",
       "  </thead>\n",
       "  <tbody>\n",
       "    <tr>\n",
       "      <th>0</th>\n",
       "      <td>Wii Sports</td>\n",
       "      <td>Wii</td>\n",
       "      <td>2006</td>\n",
       "      <td>Sports</td>\n",
       "      <td>41.36</td>\n",
       "      <td>28.96</td>\n",
       "      <td>3.77</td>\n",
       "      <td>8.45</td>\n",
       "      <td>76.0</td>\n",
       "      <td>80.0</td>\n",
       "      <td>E</td>\n",
       "      <td>82.54</td>\n",
       "    </tr>\n",
       "    <tr>\n",
       "      <th>2</th>\n",
       "      <td>Mario Kart Wii</td>\n",
       "      <td>Wii</td>\n",
       "      <td>2008</td>\n",
       "      <td>Racing</td>\n",
       "      <td>15.68</td>\n",
       "      <td>12.76</td>\n",
       "      <td>3.79</td>\n",
       "      <td>3.29</td>\n",
       "      <td>82.0</td>\n",
       "      <td>83.0</td>\n",
       "      <td>E</td>\n",
       "      <td>35.52</td>\n",
       "    </tr>\n",
       "    <tr>\n",
       "      <th>3</th>\n",
       "      <td>Wii Sports Resort</td>\n",
       "      <td>Wii</td>\n",
       "      <td>2009</td>\n",
       "      <td>Sports</td>\n",
       "      <td>15.61</td>\n",
       "      <td>10.93</td>\n",
       "      <td>3.28</td>\n",
       "      <td>2.95</td>\n",
       "      <td>80.0</td>\n",
       "      <td>80.0</td>\n",
       "      <td>E</td>\n",
       "      <td>32.77</td>\n",
       "    </tr>\n",
       "    <tr>\n",
       "      <th>6</th>\n",
       "      <td>New Super Mario Bros.</td>\n",
       "      <td>DS</td>\n",
       "      <td>2006</td>\n",
       "      <td>Platform</td>\n",
       "      <td>11.28</td>\n",
       "      <td>9.14</td>\n",
       "      <td>6.50</td>\n",
       "      <td>2.88</td>\n",
       "      <td>89.0</td>\n",
       "      <td>85.0</td>\n",
       "      <td>E</td>\n",
       "      <td>29.80</td>\n",
       "    </tr>\n",
       "    <tr>\n",
       "      <th>7</th>\n",
       "      <td>Wii Play</td>\n",
       "      <td>Wii</td>\n",
       "      <td>2006</td>\n",
       "      <td>Misc</td>\n",
       "      <td>13.96</td>\n",
       "      <td>9.18</td>\n",
       "      <td>2.93</td>\n",
       "      <td>2.84</td>\n",
       "      <td>58.0</td>\n",
       "      <td>66.0</td>\n",
       "      <td>E</td>\n",
       "      <td>28.91</td>\n",
       "    </tr>\n",
       "    <tr>\n",
       "      <th>...</th>\n",
       "      <td>...</td>\n",
       "      <td>...</td>\n",
       "      <td>...</td>\n",
       "      <td>...</td>\n",
       "      <td>...</td>\n",
       "      <td>...</td>\n",
       "      <td>...</td>\n",
       "      <td>...</td>\n",
       "      <td>...</td>\n",
       "      <td>...</td>\n",
       "      <td>...</td>\n",
       "      <td>...</td>\n",
       "    </tr>\n",
       "    <tr>\n",
       "      <th>16429</th>\n",
       "      <td>Mezase!! Tsuri Master DS</td>\n",
       "      <td>DS</td>\n",
       "      <td>2009</td>\n",
       "      <td>Sports</td>\n",
       "      <td>0.00</td>\n",
       "      <td>0.00</td>\n",
       "      <td>0.01</td>\n",
       "      <td>0.00</td>\n",
       "      <td>-1.0</td>\n",
       "      <td>-1.0</td>\n",
       "      <td>-1</td>\n",
       "      <td>0.01</td>\n",
       "    </tr>\n",
       "    <tr>\n",
       "      <th>16433</th>\n",
       "      <td>Plushees</td>\n",
       "      <td>DS</td>\n",
       "      <td>2008</td>\n",
       "      <td>Simulation</td>\n",
       "      <td>0.01</td>\n",
       "      <td>0.00</td>\n",
       "      <td>0.00</td>\n",
       "      <td>0.00</td>\n",
       "      <td>-1.0</td>\n",
       "      <td>-1.0</td>\n",
       "      <td>E</td>\n",
       "      <td>0.01</td>\n",
       "    </tr>\n",
       "    <tr>\n",
       "      <th>16438</th>\n",
       "      <td>SCORE International Baja 1000: The Official Game</td>\n",
       "      <td>PS2</td>\n",
       "      <td>2008</td>\n",
       "      <td>Racing</td>\n",
       "      <td>0.00</td>\n",
       "      <td>0.00</td>\n",
       "      <td>0.00</td>\n",
       "      <td>0.00</td>\n",
       "      <td>-1.0</td>\n",
       "      <td>-1.0</td>\n",
       "      <td>-1</td>\n",
       "      <td>0.00</td>\n",
       "    </tr>\n",
       "    <tr>\n",
       "      <th>16439</th>\n",
       "      <td>Samurai Warriors: Sanada Maru</td>\n",
       "      <td>PS3</td>\n",
       "      <td>2016</td>\n",
       "      <td>Action</td>\n",
       "      <td>0.00</td>\n",
       "      <td>0.00</td>\n",
       "      <td>0.01</td>\n",
       "      <td>0.00</td>\n",
       "      <td>-1.0</td>\n",
       "      <td>-1.0</td>\n",
       "      <td>-1</td>\n",
       "      <td>0.01</td>\n",
       "    </tr>\n",
       "    <tr>\n",
       "      <th>16440</th>\n",
       "      <td>LMA Manager 2007</td>\n",
       "      <td>X360</td>\n",
       "      <td>2006</td>\n",
       "      <td>Sports</td>\n",
       "      <td>0.00</td>\n",
       "      <td>0.01</td>\n",
       "      <td>0.00</td>\n",
       "      <td>0.00</td>\n",
       "      <td>-1.0</td>\n",
       "      <td>-1.0</td>\n",
       "      <td>-1</td>\n",
       "      <td>0.01</td>\n",
       "    </tr>\n",
       "  </tbody>\n",
       "</table>\n",
       "<p>9261 rows × 12 columns</p>\n",
       "</div>"
      ],
      "text/plain": [
       "                                                   name platform  \\\n",
       "0                                            Wii Sports      Wii   \n",
       "2                                        Mario Kart Wii      Wii   \n",
       "3                                     Wii Sports Resort      Wii   \n",
       "6                                 New Super Mario Bros.       DS   \n",
       "7                                              Wii Play      Wii   \n",
       "...                                                 ...      ...   \n",
       "16429                          Mezase!! Tsuri Master DS       DS   \n",
       "16433                                          Plushees       DS   \n",
       "16438  SCORE International Baja 1000: The Official Game      PS2   \n",
       "16439                     Samurai Warriors: Sanada Maru      PS3   \n",
       "16440                                  LMA Manager 2007     X360   \n",
       "\n",
       "       year_of_release       genre  na_sales  eu_sales  jp_sales  other_sales  \\\n",
       "0                 2006      Sports     41.36     28.96      3.77         8.45   \n",
       "2                 2008      Racing     15.68     12.76      3.79         3.29   \n",
       "3                 2009      Sports     15.61     10.93      3.28         2.95   \n",
       "6                 2006    Platform     11.28      9.14      6.50         2.88   \n",
       "7                 2006        Misc     13.96      9.18      2.93         2.84   \n",
       "...                ...         ...       ...       ...       ...          ...   \n",
       "16429             2009      Sports      0.00      0.00      0.01         0.00   \n",
       "16433             2008  Simulation      0.01      0.00      0.00         0.00   \n",
       "16438             2008      Racing      0.00      0.00      0.00         0.00   \n",
       "16439             2016      Action      0.00      0.00      0.01         0.00   \n",
       "16440             2006      Sports      0.00      0.01      0.00         0.00   \n",
       "\n",
       "       critic_score  user_score rating  total_sales  \n",
       "0              76.0        80.0      E        82.54  \n",
       "2              82.0        83.0      E        35.52  \n",
       "3              80.0        80.0      E        32.77  \n",
       "6              89.0        85.0      E        29.80  \n",
       "7              58.0        66.0      E        28.91  \n",
       "...             ...         ...    ...          ...  \n",
       "16429          -1.0        -1.0     -1         0.01  \n",
       "16433          -1.0        -1.0      E         0.01  \n",
       "16438          -1.0        -1.0     -1         0.00  \n",
       "16439          -1.0        -1.0     -1         0.01  \n",
       "16440          -1.0        -1.0     -1         0.01  \n",
       "\n",
       "[9261 rows x 12 columns]"
      ]
     },
     "execution_count": 27,
     "metadata": {},
     "output_type": "execute_result"
    }
   ],
   "source": [
    "df_top = df.loc[df['platform']. isin(['PS2', 'X360', 'PS3', 'Wii', 'DS', 'PS'])]\n",
    "df_top"
   ]
  },
  {
   "cell_type": "markdown",
   "metadata": {},
   "source": [
    "Итак, мы получили датафрейм по топ-6 платформам. Построим график распределения по годам:"
   ]
  },
  {
   "cell_type": "code",
   "execution_count": 28,
   "metadata": {
    "scrolled": true
   },
   "outputs": [
    {
     "data": {
      "text/html": [
       "<div>\n",
       "<style scoped>\n",
       "    .dataframe tbody tr th:only-of-type {\n",
       "        vertical-align: middle;\n",
       "    }\n",
       "\n",
       "    .dataframe tbody tr th {\n",
       "        vertical-align: top;\n",
       "    }\n",
       "\n",
       "    .dataframe thead th {\n",
       "        text-align: right;\n",
       "    }\n",
       "</style>\n",
       "<table border=\"1\" class=\"dataframe\">\n",
       "  <thead>\n",
       "    <tr style=\"text-align: right;\">\n",
       "      <th>platform</th>\n",
       "      <th>DS</th>\n",
       "      <th>PS</th>\n",
       "      <th>PS2</th>\n",
       "      <th>PS3</th>\n",
       "      <th>Wii</th>\n",
       "      <th>X360</th>\n",
       "    </tr>\n",
       "    <tr>\n",
       "      <th>year_of_release</th>\n",
       "      <th></th>\n",
       "      <th></th>\n",
       "      <th></th>\n",
       "      <th></th>\n",
       "      <th></th>\n",
       "      <th></th>\n",
       "    </tr>\n",
       "  </thead>\n",
       "  <tbody>\n",
       "    <tr>\n",
       "      <th>1985</th>\n",
       "      <td>0.02</td>\n",
       "      <td>NaN</td>\n",
       "      <td>NaN</td>\n",
       "      <td>NaN</td>\n",
       "      <td>NaN</td>\n",
       "      <td>NaN</td>\n",
       "    </tr>\n",
       "    <tr>\n",
       "      <th>1994</th>\n",
       "      <td>NaN</td>\n",
       "      <td>6.03</td>\n",
       "      <td>NaN</td>\n",
       "      <td>NaN</td>\n",
       "      <td>NaN</td>\n",
       "      <td>NaN</td>\n",
       "    </tr>\n",
       "    <tr>\n",
       "      <th>1995</th>\n",
       "      <td>NaN</td>\n",
       "      <td>35.96</td>\n",
       "      <td>NaN</td>\n",
       "      <td>NaN</td>\n",
       "      <td>NaN</td>\n",
       "      <td>NaN</td>\n",
       "    </tr>\n",
       "    <tr>\n",
       "      <th>1996</th>\n",
       "      <td>NaN</td>\n",
       "      <td>94.70</td>\n",
       "      <td>NaN</td>\n",
       "      <td>NaN</td>\n",
       "      <td>NaN</td>\n",
       "      <td>NaN</td>\n",
       "    </tr>\n",
       "    <tr>\n",
       "      <th>1997</th>\n",
       "      <td>NaN</td>\n",
       "      <td>136.17</td>\n",
       "      <td>NaN</td>\n",
       "      <td>NaN</td>\n",
       "      <td>NaN</td>\n",
       "      <td>NaN</td>\n",
       "    </tr>\n",
       "    <tr>\n",
       "      <th>1998</th>\n",
       "      <td>NaN</td>\n",
       "      <td>169.49</td>\n",
       "      <td>NaN</td>\n",
       "      <td>NaN</td>\n",
       "      <td>NaN</td>\n",
       "      <td>NaN</td>\n",
       "    </tr>\n",
       "    <tr>\n",
       "      <th>1999</th>\n",
       "      <td>NaN</td>\n",
       "      <td>144.53</td>\n",
       "      <td>NaN</td>\n",
       "      <td>NaN</td>\n",
       "      <td>NaN</td>\n",
       "      <td>NaN</td>\n",
       "    </tr>\n",
       "    <tr>\n",
       "      <th>2000</th>\n",
       "      <td>NaN</td>\n",
       "      <td>96.37</td>\n",
       "      <td>39.17</td>\n",
       "      <td>NaN</td>\n",
       "      <td>NaN</td>\n",
       "      <td>NaN</td>\n",
       "    </tr>\n",
       "    <tr>\n",
       "      <th>2001</th>\n",
       "      <td>NaN</td>\n",
       "      <td>35.59</td>\n",
       "      <td>166.43</td>\n",
       "      <td>NaN</td>\n",
       "      <td>NaN</td>\n",
       "      <td>NaN</td>\n",
       "    </tr>\n",
       "    <tr>\n",
       "      <th>2002</th>\n",
       "      <td>NaN</td>\n",
       "      <td>6.67</td>\n",
       "      <td>205.38</td>\n",
       "      <td>NaN</td>\n",
       "      <td>NaN</td>\n",
       "      <td>NaN</td>\n",
       "    </tr>\n",
       "    <tr>\n",
       "      <th>2003</th>\n",
       "      <td>NaN</td>\n",
       "      <td>2.07</td>\n",
       "      <td>184.31</td>\n",
       "      <td>NaN</td>\n",
       "      <td>NaN</td>\n",
       "      <td>NaN</td>\n",
       "    </tr>\n",
       "    <tr>\n",
       "      <th>2004</th>\n",
       "      <td>17.27</td>\n",
       "      <td>NaN</td>\n",
       "      <td>211.81</td>\n",
       "      <td>NaN</td>\n",
       "      <td>NaN</td>\n",
       "      <td>NaN</td>\n",
       "    </tr>\n",
       "    <tr>\n",
       "      <th>2005</th>\n",
       "      <td>130.14</td>\n",
       "      <td>NaN</td>\n",
       "      <td>160.66</td>\n",
       "      <td>NaN</td>\n",
       "      <td>NaN</td>\n",
       "      <td>8.25</td>\n",
       "    </tr>\n",
       "    <tr>\n",
       "      <th>2006</th>\n",
       "      <td>119.81</td>\n",
       "      <td>NaN</td>\n",
       "      <td>103.42</td>\n",
       "      <td>20.96</td>\n",
       "      <td>137.15</td>\n",
       "      <td>51.62</td>\n",
       "    </tr>\n",
       "    <tr>\n",
       "      <th>2007</th>\n",
       "      <td>146.94</td>\n",
       "      <td>NaN</td>\n",
       "      <td>75.99</td>\n",
       "      <td>73.19</td>\n",
       "      <td>152.77</td>\n",
       "      <td>95.41</td>\n",
       "    </tr>\n",
       "    <tr>\n",
       "      <th>2008</th>\n",
       "      <td>145.31</td>\n",
       "      <td>NaN</td>\n",
       "      <td>53.90</td>\n",
       "      <td>118.52</td>\n",
       "      <td>171.32</td>\n",
       "      <td>135.26</td>\n",
       "    </tr>\n",
       "    <tr>\n",
       "      <th>2009</th>\n",
       "      <td>119.54</td>\n",
       "      <td>NaN</td>\n",
       "      <td>26.40</td>\n",
       "      <td>130.93</td>\n",
       "      <td>206.97</td>\n",
       "      <td>120.29</td>\n",
       "    </tr>\n",
       "    <tr>\n",
       "      <th>2010</th>\n",
       "      <td>85.02</td>\n",
       "      <td>NaN</td>\n",
       "      <td>5.64</td>\n",
       "      <td>142.17</td>\n",
       "      <td>127.95</td>\n",
       "      <td>170.03</td>\n",
       "    </tr>\n",
       "    <tr>\n",
       "      <th>2011</th>\n",
       "      <td>26.18</td>\n",
       "      <td>NaN</td>\n",
       "      <td>0.45</td>\n",
       "      <td>156.78</td>\n",
       "      <td>59.65</td>\n",
       "      <td>143.84</td>\n",
       "    </tr>\n",
       "    <tr>\n",
       "      <th>2012</th>\n",
       "      <td>11.01</td>\n",
       "      <td>NaN</td>\n",
       "      <td>NaN</td>\n",
       "      <td>104.80</td>\n",
       "      <td>21.71</td>\n",
       "      <td>99.74</td>\n",
       "    </tr>\n",
       "    <tr>\n",
       "      <th>2013</th>\n",
       "      <td>1.54</td>\n",
       "      <td>NaN</td>\n",
       "      <td>NaN</td>\n",
       "      <td>113.25</td>\n",
       "      <td>8.59</td>\n",
       "      <td>88.58</td>\n",
       "    </tr>\n",
       "    <tr>\n",
       "      <th>2014</th>\n",
       "      <td>NaN</td>\n",
       "      <td>NaN</td>\n",
       "      <td>NaN</td>\n",
       "      <td>47.76</td>\n",
       "      <td>3.75</td>\n",
       "      <td>34.74</td>\n",
       "    </tr>\n",
       "    <tr>\n",
       "      <th>2015</th>\n",
       "      <td>NaN</td>\n",
       "      <td>NaN</td>\n",
       "      <td>NaN</td>\n",
       "      <td>16.82</td>\n",
       "      <td>1.14</td>\n",
       "      <td>11.96</td>\n",
       "    </tr>\n",
       "    <tr>\n",
       "      <th>2016</th>\n",
       "      <td>NaN</td>\n",
       "      <td>NaN</td>\n",
       "      <td>NaN</td>\n",
       "      <td>3.60</td>\n",
       "      <td>0.18</td>\n",
       "      <td>1.52</td>\n",
       "    </tr>\n",
       "  </tbody>\n",
       "</table>\n",
       "</div>"
      ],
      "text/plain": [
       "platform             DS      PS     PS2     PS3     Wii    X360\n",
       "year_of_release                                                \n",
       "1985               0.02     NaN     NaN     NaN     NaN     NaN\n",
       "1994                NaN    6.03     NaN     NaN     NaN     NaN\n",
       "1995                NaN   35.96     NaN     NaN     NaN     NaN\n",
       "1996                NaN   94.70     NaN     NaN     NaN     NaN\n",
       "1997                NaN  136.17     NaN     NaN     NaN     NaN\n",
       "1998                NaN  169.49     NaN     NaN     NaN     NaN\n",
       "1999                NaN  144.53     NaN     NaN     NaN     NaN\n",
       "2000                NaN   96.37   39.17     NaN     NaN     NaN\n",
       "2001                NaN   35.59  166.43     NaN     NaN     NaN\n",
       "2002                NaN    6.67  205.38     NaN     NaN     NaN\n",
       "2003                NaN    2.07  184.31     NaN     NaN     NaN\n",
       "2004              17.27     NaN  211.81     NaN     NaN     NaN\n",
       "2005             130.14     NaN  160.66     NaN     NaN    8.25\n",
       "2006             119.81     NaN  103.42   20.96  137.15   51.62\n",
       "2007             146.94     NaN   75.99   73.19  152.77   95.41\n",
       "2008             145.31     NaN   53.90  118.52  171.32  135.26\n",
       "2009             119.54     NaN   26.40  130.93  206.97  120.29\n",
       "2010              85.02     NaN    5.64  142.17  127.95  170.03\n",
       "2011              26.18     NaN    0.45  156.78   59.65  143.84\n",
       "2012              11.01     NaN     NaN  104.80   21.71   99.74\n",
       "2013               1.54     NaN     NaN  113.25    8.59   88.58\n",
       "2014                NaN     NaN     NaN   47.76    3.75   34.74\n",
       "2015                NaN     NaN     NaN   16.82    1.14   11.96\n",
       "2016                NaN     NaN     NaN    3.60    0.18    1.52"
      ]
     },
     "execution_count": 28,
     "metadata": {},
     "output_type": "execute_result"
    }
   ],
   "source": [
    "df_top_pivot = df_top.pivot_table(index='year_of_release', columns='platform', values='total_sales', aggfunc='sum')\n",
    "df_top_pivot"
   ]
  },
  {
   "cell_type": "code",
   "execution_count": 29,
   "metadata": {},
   "outputs": [
    {
     "data": {
      "text/plain": [
       "<AxesSubplot:xlabel='year_of_release'>"
      ]
     },
     "execution_count": 29,
     "metadata": {},
     "output_type": "execute_result"
    },
    {
     "data": {
      "image/png": "[encoded data removed]",
      "text/plain": [
       "<Figure size 1080x504 with 1 Axes>"
      ]
     },
     "metadata": {
      "needs_background": "light"
     },
     "output_type": "display_data"
    }
   ],
   "source": [
    "df_top_pivot.plot(kind='line', style='-o', alpha=0.5, figsize=(15, 7))"
   ]
  },
  {
   "cell_type": "markdown",
   "metadata": {},
   "source": [
    "Итак, 3 платформы в топе по продажам и еще не умерли на момент составления датафрейма-\"X360\", \"Wii\", \"PS3\".\n",
    "Остальные же ТОПы выпуск игр уже прекратили. Интересно, что из этого списка DS продавали игры в 1985, потом был период затишья, а затем снова продажи в 2004-2013 гг.\n",
    "\n",
    "Судя по графику для ТОПов, в среднем, они \"живут\" около 10 лет. При этом, все еще существующие на момент составления датасета ТОПы существуют уже 10-11 лет. Прогнозирую и их скорое \"завершение карьеры\" и образование новых лидеров.\n",
    "\n",
    "Причем, по графикам видно, что пик продаж на этих платформах проходился на 2009-2012 годы, затем продажи пошли на спад."
   ]
  },
  {
   "cell_type": "markdown",
   "metadata": {},
   "source": [
    "Для построения дальнейшей модели возьмом данные за последние 3 года, которые отражают уже сложившийся спад продаж."
   ]
  },
  {
   "cell_type": "markdown",
   "metadata": {},
   "source": []
  },
  {
   "cell_type": "markdown",
   "metadata": {},
   "source": [
    "#### Создадим новый датасет с данными за актуальный период:"
   ]
  },
  {
   "cell_type": "code",
   "execution_count": 30,
   "metadata": {},
   "outputs": [
    {
     "data": {
      "text/html": [
       "<div>\n",
       "<style scoped>\n",
       "    .dataframe tbody tr th:only-of-type {\n",
       "        vertical-align: middle;\n",
       "    }\n",
       "\n",
       "    .dataframe tbody tr th {\n",
       "        vertical-align: top;\n",
       "    }\n",
       "\n",
       "    .dataframe thead th {\n",
       "        text-align: right;\n",
       "    }\n",
       "</style>\n",
       "<table border=\"1\" class=\"dataframe\">\n",
       "  <thead>\n",
       "    <tr style=\"text-align: right;\">\n",
       "      <th></th>\n",
       "      <th>name</th>\n",
       "      <th>platform</th>\n",
       "      <th>year_of_release</th>\n",
       "      <th>genre</th>\n",
       "      <th>na_sales</th>\n",
       "      <th>eu_sales</th>\n",
       "      <th>jp_sales</th>\n",
       "      <th>other_sales</th>\n",
       "      <th>critic_score</th>\n",
       "      <th>user_score</th>\n",
       "      <th>rating</th>\n",
       "      <th>total_sales</th>\n",
       "    </tr>\n",
       "  </thead>\n",
       "  <tbody>\n",
       "    <tr>\n",
       "      <th>31</th>\n",
       "      <td>Call of Duty: Black Ops 3</td>\n",
       "      <td>PS4</td>\n",
       "      <td>2015</td>\n",
       "      <td>Shooter</td>\n",
       "      <td>6.03</td>\n",
       "      <td>5.86</td>\n",
       "      <td>0.36</td>\n",
       "      <td>2.38</td>\n",
       "      <td>-1.0</td>\n",
       "      <td>-1.0</td>\n",
       "      <td>-1</td>\n",
       "      <td>14.63</td>\n",
       "    </tr>\n",
       "    <tr>\n",
       "      <th>42</th>\n",
       "      <td>Grand Theft Auto V</td>\n",
       "      <td>PS4</td>\n",
       "      <td>2014</td>\n",
       "      <td>Action</td>\n",
       "      <td>3.96</td>\n",
       "      <td>6.31</td>\n",
       "      <td>0.38</td>\n",
       "      <td>1.97</td>\n",
       "      <td>97.0</td>\n",
       "      <td>83.0</td>\n",
       "      <td>M</td>\n",
       "      <td>12.62</td>\n",
       "    </tr>\n",
       "    <tr>\n",
       "      <th>47</th>\n",
       "      <td>Pokemon Omega Ruby/Pokemon Alpha Sapphire</td>\n",
       "      <td>3DS</td>\n",
       "      <td>2014</td>\n",
       "      <td>Role-Playing</td>\n",
       "      <td>4.35</td>\n",
       "      <td>3.49</td>\n",
       "      <td>3.10</td>\n",
       "      <td>0.74</td>\n",
       "      <td>-1.0</td>\n",
       "      <td>-1.0</td>\n",
       "      <td>-1</td>\n",
       "      <td>11.68</td>\n",
       "    </tr>\n",
       "    <tr>\n",
       "      <th>77</th>\n",
       "      <td>FIFA 16</td>\n",
       "      <td>PS4</td>\n",
       "      <td>2015</td>\n",
       "      <td>Sports</td>\n",
       "      <td>1.12</td>\n",
       "      <td>6.12</td>\n",
       "      <td>0.06</td>\n",
       "      <td>1.28</td>\n",
       "      <td>82.0</td>\n",
       "      <td>43.0</td>\n",
       "      <td>E</td>\n",
       "      <td>8.58</td>\n",
       "    </tr>\n",
       "    <tr>\n",
       "      <th>87</th>\n",
       "      <td>Star Wars Battlefront (2015)</td>\n",
       "      <td>PS4</td>\n",
       "      <td>2015</td>\n",
       "      <td>Shooter</td>\n",
       "      <td>2.99</td>\n",
       "      <td>3.49</td>\n",
       "      <td>0.22</td>\n",
       "      <td>1.28</td>\n",
       "      <td>-1.0</td>\n",
       "      <td>-1.0</td>\n",
       "      <td>-1</td>\n",
       "      <td>7.98</td>\n",
       "    </tr>\n",
       "    <tr>\n",
       "      <th>...</th>\n",
       "      <td>...</td>\n",
       "      <td>...</td>\n",
       "      <td>...</td>\n",
       "      <td>...</td>\n",
       "      <td>...</td>\n",
       "      <td>...</td>\n",
       "      <td>...</td>\n",
       "      <td>...</td>\n",
       "      <td>...</td>\n",
       "      <td>...</td>\n",
       "      <td>...</td>\n",
       "      <td>...</td>\n",
       "    </tr>\n",
       "    <tr>\n",
       "      <th>16432</th>\n",
       "      <td>Strawberry Nauts</td>\n",
       "      <td>PSV</td>\n",
       "      <td>2016</td>\n",
       "      <td>Adventure</td>\n",
       "      <td>0.00</td>\n",
       "      <td>0.00</td>\n",
       "      <td>0.01</td>\n",
       "      <td>0.00</td>\n",
       "      <td>-1.0</td>\n",
       "      <td>-1.0</td>\n",
       "      <td>-1</td>\n",
       "      <td>0.01</td>\n",
       "    </tr>\n",
       "    <tr>\n",
       "      <th>16436</th>\n",
       "      <td>Aiyoku no Eustia</td>\n",
       "      <td>PSV</td>\n",
       "      <td>2014</td>\n",
       "      <td>Misc</td>\n",
       "      <td>0.00</td>\n",
       "      <td>0.00</td>\n",
       "      <td>0.01</td>\n",
       "      <td>0.00</td>\n",
       "      <td>-1.0</td>\n",
       "      <td>-1.0</td>\n",
       "      <td>-1</td>\n",
       "      <td>0.01</td>\n",
       "    </tr>\n",
       "    <tr>\n",
       "      <th>16439</th>\n",
       "      <td>Samurai Warriors: Sanada Maru</td>\n",
       "      <td>PS3</td>\n",
       "      <td>2016</td>\n",
       "      <td>Action</td>\n",
       "      <td>0.00</td>\n",
       "      <td>0.00</td>\n",
       "      <td>0.01</td>\n",
       "      <td>0.00</td>\n",
       "      <td>-1.0</td>\n",
       "      <td>-1.0</td>\n",
       "      <td>-1</td>\n",
       "      <td>0.01</td>\n",
       "    </tr>\n",
       "    <tr>\n",
       "      <th>16441</th>\n",
       "      <td>Haitaka no Psychedelica</td>\n",
       "      <td>PSV</td>\n",
       "      <td>2016</td>\n",
       "      <td>Adventure</td>\n",
       "      <td>0.00</td>\n",
       "      <td>0.00</td>\n",
       "      <td>0.01</td>\n",
       "      <td>0.00</td>\n",
       "      <td>-1.0</td>\n",
       "      <td>-1.0</td>\n",
       "      <td>-1</td>\n",
       "      <td>0.01</td>\n",
       "    </tr>\n",
       "    <tr>\n",
       "      <th>16443</th>\n",
       "      <td>Winning Post 8 2016</td>\n",
       "      <td>PSV</td>\n",
       "      <td>2016</td>\n",
       "      <td>Simulation</td>\n",
       "      <td>0.00</td>\n",
       "      <td>0.00</td>\n",
       "      <td>0.01</td>\n",
       "      <td>0.00</td>\n",
       "      <td>-1.0</td>\n",
       "      <td>-1.0</td>\n",
       "      <td>-1</td>\n",
       "      <td>0.01</td>\n",
       "    </tr>\n",
       "  </tbody>\n",
       "</table>\n",
       "<p>1689 rows × 12 columns</p>\n",
       "</div>"
      ],
      "text/plain": [
       "                                            name platform  year_of_release  \\\n",
       "31                     Call of Duty: Black Ops 3      PS4             2015   \n",
       "42                            Grand Theft Auto V      PS4             2014   \n",
       "47     Pokemon Omega Ruby/Pokemon Alpha Sapphire      3DS             2014   \n",
       "77                                       FIFA 16      PS4             2015   \n",
       "87                  Star Wars Battlefront (2015)      PS4             2015   \n",
       "...                                          ...      ...              ...   \n",
       "16432                           Strawberry Nauts      PSV             2016   \n",
       "16436                           Aiyoku no Eustia      PSV             2014   \n",
       "16439              Samurai Warriors: Sanada Maru      PS3             2016   \n",
       "16441                    Haitaka no Psychedelica      PSV             2016   \n",
       "16443                        Winning Post 8 2016      PSV             2016   \n",
       "\n",
       "              genre  na_sales  eu_sales  jp_sales  other_sales  critic_score  \\\n",
       "31          Shooter      6.03      5.86      0.36         2.38          -1.0   \n",
       "42           Action      3.96      6.31      0.38         1.97          97.0   \n",
       "47     Role-Playing      4.35      3.49      3.10         0.74          -1.0   \n",
       "77           Sports      1.12      6.12      0.06         1.28          82.0   \n",
       "87          Shooter      2.99      3.49      0.22         1.28          -1.0   \n",
       "...             ...       ...       ...       ...          ...           ...   \n",
       "16432     Adventure      0.00      0.00      0.01         0.00          -1.0   \n",
       "16436          Misc      0.00      0.00      0.01         0.00          -1.0   \n",
       "16439        Action      0.00      0.00      0.01         0.00          -1.0   \n",
       "16441     Adventure      0.00      0.00      0.01         0.00          -1.0   \n",
       "16443    Simulation      0.00      0.00      0.01         0.00          -1.0   \n",
       "\n",
       "       user_score rating  total_sales  \n",
       "31           -1.0     -1        14.63  \n",
       "42           83.0      M        12.62  \n",
       "47           -1.0     -1        11.68  \n",
       "77           43.0      E         8.58  \n",
       "87           -1.0     -1         7.98  \n",
       "...           ...    ...          ...  \n",
       "16432        -1.0     -1         0.01  \n",
       "16436        -1.0     -1         0.01  \n",
       "16439        -1.0     -1         0.01  \n",
       "16441        -1.0     -1         0.01  \n",
       "16443        -1.0     -1         0.01  \n",
       "\n",
       "[1689 rows x 12 columns]"
      ]
     },
     "execution_count": 30,
     "metadata": {},
     "output_type": "execute_result"
    }
   ],
   "source": [
    "df_actual_years = df.loc[df['year_of_release'] > 2013]\n",
    "\n",
    "df_actual_years"
   ]
  },
  {
   "cell_type": "markdown",
   "metadata": {},
   "source": [
    "###### Осталось чуть более 1600 строк из всего датасета. Не плохо.\n",
    "\n",
    "Мы веделили 3 ТОПа по продажам за все предыдущие годы. Построим теперь графики по актуальному датасету и посмотрим, возможно, мы найдем новых лидеров с предпосылками на высокие продажи."
   ]
  },
  {
   "cell_type": "code",
   "execution_count": 31,
   "metadata": {},
   "outputs": [
    {
     "data": {
      "text/html": [
       "<div>\n",
       "<style scoped>\n",
       "    .dataframe tbody tr th:only-of-type {\n",
       "        vertical-align: middle;\n",
       "    }\n",
       "\n",
       "    .dataframe tbody tr th {\n",
       "        vertical-align: top;\n",
       "    }\n",
       "\n",
       "    .dataframe thead th {\n",
       "        text-align: right;\n",
       "    }\n",
       "</style>\n",
       "<table border=\"1\" class=\"dataframe\">\n",
       "  <thead>\n",
       "    <tr style=\"text-align: right;\">\n",
       "      <th>platform</th>\n",
       "      <th>3DS</th>\n",
       "      <th>PC</th>\n",
       "      <th>PS3</th>\n",
       "      <th>PS4</th>\n",
       "      <th>PSP</th>\n",
       "      <th>PSV</th>\n",
       "      <th>Wii</th>\n",
       "      <th>WiiU</th>\n",
       "      <th>X360</th>\n",
       "      <th>XOne</th>\n",
       "    </tr>\n",
       "    <tr>\n",
       "      <th>year_of_release</th>\n",
       "      <th></th>\n",
       "      <th></th>\n",
       "      <th></th>\n",
       "      <th></th>\n",
       "      <th></th>\n",
       "      <th></th>\n",
       "      <th></th>\n",
       "      <th></th>\n",
       "      <th></th>\n",
       "      <th></th>\n",
       "    </tr>\n",
       "  </thead>\n",
       "  <tbody>\n",
       "    <tr>\n",
       "      <th>2014</th>\n",
       "      <td>43.76</td>\n",
       "      <td>13.28</td>\n",
       "      <td>47.76</td>\n",
       "      <td>100.00</td>\n",
       "      <td>0.24</td>\n",
       "      <td>11.90</td>\n",
       "      <td>3.75</td>\n",
       "      <td>22.03</td>\n",
       "      <td>34.74</td>\n",
       "      <td>54.07</td>\n",
       "    </tr>\n",
       "    <tr>\n",
       "      <th>2015</th>\n",
       "      <td>27.78</td>\n",
       "      <td>8.52</td>\n",
       "      <td>16.82</td>\n",
       "      <td>118.90</td>\n",
       "      <td>0.12</td>\n",
       "      <td>6.25</td>\n",
       "      <td>1.14</td>\n",
       "      <td>16.35</td>\n",
       "      <td>11.96</td>\n",
       "      <td>60.14</td>\n",
       "    </tr>\n",
       "    <tr>\n",
       "      <th>2016</th>\n",
       "      <td>15.14</td>\n",
       "      <td>5.25</td>\n",
       "      <td>3.60</td>\n",
       "      <td>69.25</td>\n",
       "      <td>NaN</td>\n",
       "      <td>4.25</td>\n",
       "      <td>0.18</td>\n",
       "      <td>4.60</td>\n",
       "      <td>1.52</td>\n",
       "      <td>26.15</td>\n",
       "    </tr>\n",
       "  </tbody>\n",
       "</table>\n",
       "</div>"
      ],
      "text/plain": [
       "platform           3DS     PC    PS3     PS4   PSP    PSV   Wii   WiiU   X360  \\\n",
       "year_of_release                                                                 \n",
       "2014             43.76  13.28  47.76  100.00  0.24  11.90  3.75  22.03  34.74   \n",
       "2015             27.78   8.52  16.82  118.90  0.12   6.25  1.14  16.35  11.96   \n",
       "2016             15.14   5.25   3.60   69.25   NaN   4.25  0.18   4.60   1.52   \n",
       "\n",
       "platform          XOne  \n",
       "year_of_release         \n",
       "2014             54.07  \n",
       "2015             60.14  \n",
       "2016             26.15  "
      ]
     },
     "execution_count": 31,
     "metadata": {},
     "output_type": "execute_result"
    }
   ],
   "source": [
    "df_actual_years_pivot = df_actual_years.pivot_table(index='year_of_release', columns='platform', values='total_sales', aggfunc='sum')\n",
    "df_actual_years_pivot"
   ]
  },
  {
   "cell_type": "code",
   "execution_count": 32,
   "metadata": {},
   "outputs": [
    {
     "data": {
      "text/plain": [
       "<AxesSubplot:xlabel='year_of_release'>"
      ]
     },
     "execution_count": 32,
     "metadata": {},
     "output_type": "execute_result"
    },
    {
     "data": {
      "image/png": "[encoded data removed]",
      "text/plain": [
       "<Figure size 1080x504 with 1 Axes>"
      ]
     },
     "metadata": {
      "needs_background": "light"
     },
     "output_type": "display_data"
    }
   ],
   "source": [
    "df_actual_years_pivot.plot(kind='line', style='-o', alpha=0.5, figsize=(15, 7))\n",
    "\n"
   ]
  },
  {
   "cell_type": "markdown",
   "metadata": {},
   "source": [
    "PS4, я выбираю тебя! И, определенно, XOne. Оба начали продажи в 2013, оба имеют заметные пики в 2015 (а данные за 2016 точно собраны не все, судя по характеру данных и графиков). Вангую, что продажи на этих платформах должны быть хороши в будущем."
   ]
  },
  {
   "cell_type": "markdown",
   "metadata": {},
   "source": [
    "Построим \"ящик с усами\" для X360, Wii, PS3, PS4 и XOne."
   ]
  },
  {
   "cell_type": "code",
   "execution_count": 33,
   "metadata": {},
   "outputs": [
    {
     "data": {
      "text/plain": [
       "<AxesSubplot:>"
      ]
     },
     "execution_count": 33,
     "metadata": {},
     "output_type": "execute_result"
    },
    {
     "data": {
      "image/png": "[encoded data removed]",
      "text/plain": [
       "<Figure size 432x288 with 1 Axes>"
      ]
     },
     "metadata": {
      "needs_background": "light"
     },
     "output_type": "display_data"
    }
   ],
   "source": [
    "plt.ylim(0, 1.25)\n",
    "df_actual_years[df_actual_years['platform'] == 'X360'].boxplot(['total_sales'])"
   ]
  },
  {
   "cell_type": "code",
   "execution_count": 34,
   "metadata": {},
   "outputs": [
    {
     "data": {
      "text/plain": [
       "<AxesSubplot:>"
      ]
     },
     "execution_count": 34,
     "metadata": {},
     "output_type": "execute_result"
    },
    {
     "data": {
      "image/png": "[encoded data removed]",
      "text/plain": [
       "<Figure size 432x288 with 1 Axes>"
      ]
     },
     "metadata": {
      "needs_background": "light"
     },
     "output_type": "display_data"
    }
   ],
   "source": [
    "plt.ylim(0, 1.25)\n",
    "df_actual_years[df_actual_years['platform'] == 'Wii'].boxplot(['total_sales'])"
   ]
  },
  {
   "cell_type": "code",
   "execution_count": 35,
   "metadata": {},
   "outputs": [
    {
     "data": {
      "text/plain": [
       "<AxesSubplot:>"
      ]
     },
     "execution_count": 35,
     "metadata": {},
     "output_type": "execute_result"
    },
    {
     "data": {
      "image/png": "[encoded data removed]",
      "text/plain": [
       "<Figure size 432x288 with 1 Axes>"
      ]
     },
     "metadata": {
      "needs_background": "light"
     },
     "output_type": "display_data"
    }
   ],
   "source": [
    "plt.ylim(0, 1)\n",
    "df_actual_years[df_actual_years['platform'] == 'PS3'].boxplot(['total_sales'])"
   ]
  },
  {
   "cell_type": "code",
   "execution_count": 36,
   "metadata": {},
   "outputs": [
    {
     "data": {
      "text/plain": [
       "<AxesSubplot:>"
      ]
     },
     "execution_count": 36,
     "metadata": {},
     "output_type": "execute_result"
    },
    {
     "data": {
      "image/png": "[encoded data removed]",
      "text/plain": [
       "<Figure size 432x288 with 1 Axes>"
      ]
     },
     "metadata": {
      "needs_background": "light"
     },
     "output_type": "display_data"
    }
   ],
   "source": [
    "plt.ylim(0, 2)\n",
    "df_actual_years[df_actual_years['platform'] == 'PS4'].boxplot(['total_sales'])"
   ]
  },
  {
   "cell_type": "code",
   "execution_count": 37,
   "metadata": {},
   "outputs": [
    {
     "data": {
      "text/plain": [
       "<AxesSubplot:>"
      ]
     },
     "execution_count": 37,
     "metadata": {},
     "output_type": "execute_result"
    },
    {
     "data": {
      "image/png": "[encoded data removed]",
      "text/plain": [
       "<Figure size 432x288 with 1 Axes>"
      ]
     },
     "metadata": {
      "needs_background": "light"
     },
     "output_type": "display_data"
    }
   ],
   "source": [
    "plt.ylim(0, 2)\n",
    "df_actual_years[df_actual_years['platform'] == 'XOne'].boxplot(['total_sales'])"
   ]
  },
  {
   "cell_type": "markdown",
   "metadata": {},
   "source": []
  },
  {
   "cell_type": "markdown",
   "metadata": {},
   "source": [
    "На каждой платформе были суперуспешные игры с большим количеством продаж. \n",
    "Например, у X360 и PS3 - более 20 миллионов, на Wii - более 80 млн, и PS4 с XOne уже отличились хорошими продажами на примерно 15 и 8 млн соответственно. Для платформ интереснее всего, конечно, значения, превышающие средние (причем, средние эти сильно отличаются от выбросов, в которых платформа заинтересована). Больше продаж-больше доход от игры.\n",
    "\n",
    "При этом, средние значения по всем платформам довольно стандартные - в пределах 1,25 млн по всем."
   ]
  },
  {
   "cell_type": "markdown",
   "metadata": {},
   "source": [
    "По графикам видно, что более половины значений лежат ниже среднего для всех платформ. Это значит, что обычно продажи игр не велики."
   ]
  },
  {
   "cell_type": "markdown",
   "metadata": {},
   "source": [
    "#### Посмотрим, как на продажи X360 влияют отзывы пользоватей и критиков:"
   ]
  },
  {
   "cell_type": "code",
   "execution_count": 38,
   "metadata": {},
   "outputs": [],
   "source": [
    "df_actual_years_x360 = df_actual_years[(df_actual_years['platform'] == 'X360') & (df_actual_years['critic_score'] > 0) & (df_actual_years['user_score'] > 0)]"
   ]
  },
  {
   "cell_type": "markdown",
   "metadata": {},
   "source": [
    "#### Построим диаграмму рассеяния для оценок критиков:"
   ]
  },
  {
   "cell_type": "code",
   "execution_count": 39,
   "metadata": {},
   "outputs": [
    {
     "data": {
      "text/plain": [
       "<AxesSubplot:xlabel='critic_score', ylabel='total_sales'>"
      ]
     },
     "execution_count": 39,
     "metadata": {},
     "output_type": "execute_result"
    },
    {
     "data": {
      "image/png": "[encoded data removed]",
      "text/plain": [
       "<Figure size 720x504 with 1 Axes>"
      ]
     },
     "metadata": {
      "needs_background": "light"
     },
     "output_type": "display_data"
    }
   ],
   "source": [
    "df_actual_years_x360.plot(kind='scatter', x='critic_score', y='total_sales', figsize=(10,7))"
   ]
  },
  {
   "cell_type": "markdown",
   "metadata": {},
   "source": [
    "Практически все данные выглядят довольно логично. Чем выше оценка критиков, тем больше продаж. Однако, хорошие продажи были у игр, получивших не высокие оценки крититков."
   ]
  },
  {
   "cell_type": "markdown",
   "metadata": {},
   "source": [
    "#### Построим диаграмму рассеяния для оценок пользователей:"
   ]
  },
  {
   "cell_type": "code",
   "execution_count": 40,
   "metadata": {},
   "outputs": [
    {
     "data": {
      "text/plain": [
       "<AxesSubplot:xlabel='user_score', ylabel='total_sales'>"
      ]
     },
     "execution_count": 40,
     "metadata": {},
     "output_type": "execute_result"
    },
    {
     "data": {
      "image/png": "[encoded data removed]",
      "text/plain": [
       "<Figure size 720x504 with 1 Axes>"
      ]
     },
     "metadata": {
      "needs_background": "light"
     },
     "output_type": "display_data"
    }
   ],
   "source": [
    "df_actual_years_x360.plot(kind='scatter', x='user_score', y='total_sales', figsize=(10,7))"
   ]
  },
  {
   "cell_type": "markdown",
   "metadata": {},
   "source": [
    "А вот недовольных пользоватей, купивших популярные игры, значительно больше. Но в целом, тенденция прежняя - чем выше рейтинг, тем больше продаж.\n",
    "Очевидно, что это касается и других платформ."
   ]
  },
  {
   "cell_type": "markdown",
   "metadata": {},
   "source": [
    "####  Посмотрим, как на продажи Wii влияют отзывы пользоватей и критиков"
   ]
  },
  {
   "cell_type": "code",
   "execution_count": 41,
   "metadata": {},
   "outputs": [],
   "source": [
    "df_actual_years_xone = df_actual_years[(df_actual_years['platform'] == 'XOne') & (df_actual_years['critic_score'] > 0) & (df_actual_years['user_score'] > 0)]"
   ]
  },
  {
   "cell_type": "markdown",
   "metadata": {},
   "source": [
    "####  Построим диаграмму рассеяния для оценок критиков:"
   ]
  },
  {
   "cell_type": "code",
   "execution_count": 42,
   "metadata": {},
   "outputs": [
    {
     "data": {
      "text/plain": [
       "<AxesSubplot:xlabel='critic_score', ylabel='total_sales'>"
      ]
     },
     "execution_count": 42,
     "metadata": {},
     "output_type": "execute_result"
    },
    {
     "data": {
      "image/png": "[encoded data removed]",
      "text/plain": [
       "<Figure size 720x504 with 1 Axes>"
      ]
     },
     "metadata": {
      "needs_background": "light"
     },
     "output_type": "display_data"
    }
   ],
   "source": [
    "df_actual_years_xone.plot(kind='scatter', x='critic_score', y='total_sales', figsize=(10,7))"
   ]
  },
  {
   "cell_type": "markdown",
   "metadata": {},
   "source": [
    "Для XOne так же прослеживается зависимость роста продаж от роста оценки критиков."
   ]
  },
  {
   "cell_type": "markdown",
   "metadata": {},
   "source": [
    "####  Построим диаграмму рассеяния для оценок пользователей:"
   ]
  },
  {
   "cell_type": "code",
   "execution_count": 43,
   "metadata": {},
   "outputs": [
    {
     "data": {
      "text/plain": [
       "<AxesSubplot:xlabel='user_score', ylabel='total_sales'>"
      ]
     },
     "execution_count": 43,
     "metadata": {},
     "output_type": "execute_result"
    },
    {
     "data": {
      "image/png": "[encoded data removed]",
      "text/plain": [
       "<Figure size 720x504 with 1 Axes>"
      ]
     },
     "metadata": {
      "needs_background": "light"
     },
     "output_type": "display_data"
    }
   ],
   "source": [
    "df_actual_years_xone.plot(kind='scatter', x='user_score', y='total_sales', figsize=(10,7))"
   ]
  },
  {
   "cell_type": "markdown",
   "metadata": {},
   "source": [
    "А по оценкам пользователей для XOne зависимость более рассеянна.\n",
    "Построим на общую корреляцию по всем платформам."
   ]
  },
  {
   "cell_type": "markdown",
   "metadata": {},
   "source": [
    "### Построим матрицу корреляции:"
   ]
  },
  {
   "cell_type": "code",
   "execution_count": 44,
   "metadata": {},
   "outputs": [
    {
     "data": {
      "text/html": [
       "<style  type=\"text/css\" >\n",
       "#T_cdeb9_row0_col0,#T_cdeb9_row1_col1,#T_cdeb9_row2_col2,#T_cdeb9_row3_col3,#T_cdeb9_row4_col4,#T_cdeb9_row5_col5,#T_cdeb9_row6_col6,#T_cdeb9_row7_col7{\n",
       "            background-color:  #b40426;\n",
       "            color:  #f1f1f1;\n",
       "        }#T_cdeb9_row0_col1,#T_cdeb9_row0_col2,#T_cdeb9_row0_col3,#T_cdeb9_row0_col4,#T_cdeb9_row0_col7,#T_cdeb9_row1_col0,#T_cdeb9_row3_col5,#T_cdeb9_row3_col6{\n",
       "            background-color:  #3b4cc0;\n",
       "            color:  #f1f1f1;\n",
       "        }#T_cdeb9_row0_col5{\n",
       "            background-color:  #4a63d3;\n",
       "            color:  #f1f1f1;\n",
       "        }#T_cdeb9_row0_col6{\n",
       "            background-color:  #3e51c5;\n",
       "            color:  #f1f1f1;\n",
       "        }#T_cdeb9_row1_col2{\n",
       "            background-color:  #f39577;\n",
       "            color:  #000000;\n",
       "        }#T_cdeb9_row1_col3{\n",
       "            background-color:  #9fbfff;\n",
       "            color:  #000000;\n",
       "        }#T_cdeb9_row1_col4,#T_cdeb9_row4_col1{\n",
       "            background-color:  #e26952;\n",
       "            color:  #000000;\n",
       "        }#T_cdeb9_row1_col5,#T_cdeb9_row2_col5{\n",
       "            background-color:  #89acfd;\n",
       "            color:  #000000;\n",
       "        }#T_cdeb9_row1_col6{\n",
       "            background-color:  #7b9ff9;\n",
       "            color:  #000000;\n",
       "        }#T_cdeb9_row1_col7,#T_cdeb9_row2_col7,#T_cdeb9_row7_col1,#T_cdeb9_row7_col2{\n",
       "            background-color:  #cf453c;\n",
       "            color:  #f1f1f1;\n",
       "        }#T_cdeb9_row2_col0{\n",
       "            background-color:  #4257c9;\n",
       "            color:  #f1f1f1;\n",
       "        }#T_cdeb9_row2_col1{\n",
       "            background-color:  #f39475;\n",
       "            color:  #000000;\n",
       "        }#T_cdeb9_row2_col3,#T_cdeb9_row4_col5,#T_cdeb9_row7_col5{\n",
       "            background-color:  #86a9fc;\n",
       "            color:  #000000;\n",
       "        }#T_cdeb9_row2_col4,#T_cdeb9_row4_col2{\n",
       "            background-color:  #cb3e38;\n",
       "            color:  #f1f1f1;\n",
       "        }#T_cdeb9_row2_col6,#T_cdeb9_row4_col6{\n",
       "            background-color:  #779af7;\n",
       "            color:  #000000;\n",
       "        }#T_cdeb9_row3_col0{\n",
       "            background-color:  #4c66d6;\n",
       "            color:  #000000;\n",
       "        }#T_cdeb9_row3_col1{\n",
       "            background-color:  #aec9fc;\n",
       "            color:  #000000;\n",
       "        }#T_cdeb9_row3_col2{\n",
       "            background-color:  #90b2fe;\n",
       "            color:  #000000;\n",
       "        }#T_cdeb9_row3_col4{\n",
       "            background-color:  #8badfd;\n",
       "            color:  #000000;\n",
       "        }#T_cdeb9_row3_col7{\n",
       "            background-color:  #d7dce3;\n",
       "            color:  #000000;\n",
       "        }#T_cdeb9_row4_col0{\n",
       "            background-color:  #4055c8;\n",
       "            color:  #f1f1f1;\n",
       "        }#T_cdeb9_row4_col3{\n",
       "            background-color:  #81a4fb;\n",
       "            color:  #000000;\n",
       "        }#T_cdeb9_row4_col7{\n",
       "            background-color:  #c83836;\n",
       "            color:  #f1f1f1;\n",
       "        }#T_cdeb9_row5_col0{\n",
       "            background-color:  #6180e9;\n",
       "            color:  #000000;\n",
       "        }#T_cdeb9_row5_col1{\n",
       "            background-color:  #9ebeff;\n",
       "            color:  #000000;\n",
       "        }#T_cdeb9_row5_col2{\n",
       "            background-color:  #97b8ff;\n",
       "            color:  #000000;\n",
       "        }#T_cdeb9_row5_col3{\n",
       "            background-color:  #3f53c6;\n",
       "            color:  #f1f1f1;\n",
       "        }#T_cdeb9_row5_col4{\n",
       "            background-color:  #94b6ff;\n",
       "            color:  #000000;\n",
       "        }#T_cdeb9_row5_col6,#T_cdeb9_row6_col5{\n",
       "            background-color:  #ed8366;\n",
       "            color:  #000000;\n",
       "        }#T_cdeb9_row5_col7{\n",
       "            background-color:  #9abbff;\n",
       "            color:  #000000;\n",
       "        }#T_cdeb9_row6_col0{\n",
       "            background-color:  #536edd;\n",
       "            color:  #000000;\n",
       "        }#T_cdeb9_row6_col1{\n",
       "            background-color:  #8fb1fe;\n",
       "            color:  #000000;\n",
       "        }#T_cdeb9_row6_col2,#T_cdeb9_row6_col4{\n",
       "            background-color:  #84a7fc;\n",
       "            color:  #000000;\n",
       "        }#T_cdeb9_row6_col3{\n",
       "            background-color:  #3d50c3;\n",
       "            color:  #f1f1f1;\n",
       "        }#T_cdeb9_row6_col7{\n",
       "            background-color:  #88abfd;\n",
       "            color:  #000000;\n",
       "        }#T_cdeb9_row7_col0{\n",
       "            background-color:  #3c4ec2;\n",
       "            color:  #f1f1f1;\n",
       "        }#T_cdeb9_row7_col3{\n",
       "            background-color:  #cedaeb;\n",
       "            color:  #000000;\n",
       "        }#T_cdeb9_row7_col4{\n",
       "            background-color:  #ca3b37;\n",
       "            color:  #f1f1f1;\n",
       "        }#T_cdeb9_row7_col6{\n",
       "            background-color:  #7699f6;\n",
       "            color:  #000000;\n",
       "        }</style><table id=\"T_cdeb9_\" ><thead>    <tr>        <th class=\"blank level0\" ></th>        <th class=\"col_heading level0 col0\" >year_of_release</th>        <th class=\"col_heading level0 col1\" >na_sales</th>        <th class=\"col_heading level0 col2\" >eu_sales</th>        <th class=\"col_heading level0 col3\" >jp_sales</th>        <th class=\"col_heading level0 col4\" >other_sales</th>        <th class=\"col_heading level0 col5\" >critic_score</th>        <th class=\"col_heading level0 col6\" >user_score</th>        <th class=\"col_heading level0 col7\" >total_sales</th>    </tr></thead><tbody>\n",
       "                <tr>\n",
       "                        <th id=\"T_cdeb9_level0_row0\" class=\"row_heading level0 row0\" >year_of_release</th>\n",
       "                        <td id=\"T_cdeb9_row0_col0\" class=\"data row0 col0\" >1.000000</td>\n",
       "                        <td id=\"T_cdeb9_row0_col1\" class=\"data row0 col1\" >-0.122977</td>\n",
       "                        <td id=\"T_cdeb9_row0_col2\" class=\"data row0 col2\" >-0.093408</td>\n",
       "                        <td id=\"T_cdeb9_row0_col3\" class=\"data row0 col3\" >-0.056134</td>\n",
       "                        <td id=\"T_cdeb9_row0_col4\" class=\"data row0 col4\" >-0.096834</td>\n",
       "                        <td id=\"T_cdeb9_row0_col5\" class=\"data row0 col5\" >0.017105</td>\n",
       "                        <td id=\"T_cdeb9_row0_col6\" class=\"data row0 col6\" >-0.032414</td>\n",
       "                        <td id=\"T_cdeb9_row0_col7\" class=\"data row0 col7\" >-0.117482</td>\n",
       "            </tr>\n",
       "            <tr>\n",
       "                        <th id=\"T_cdeb9_level0_row1\" class=\"row_heading level0 row1\" >na_sales</th>\n",
       "                        <td id=\"T_cdeb9_row1_col0\" class=\"data row1 col0\" >-0.122977</td>\n",
       "                        <td id=\"T_cdeb9_row1_col1\" class=\"data row1 col1\" >1.000000</td>\n",
       "                        <td id=\"T_cdeb9_row1_col2\" class=\"data row1 col2\" >0.735920</td>\n",
       "                        <td id=\"T_cdeb9_row1_col3\" class=\"data row1 col3\" >0.264362</td>\n",
       "                        <td id=\"T_cdeb9_row1_col4\" class=\"data row1 col4\" >0.841484</td>\n",
       "                        <td id=\"T_cdeb9_row1_col5\" class=\"data row1 col5\" >0.213604</td>\n",
       "                        <td id=\"T_cdeb9_row1_col6\" class=\"data row1 col6\" >0.163664</td>\n",
       "                        <td id=\"T_cdeb9_row1_col7\" class=\"data row1 col7\" >0.913660</td>\n",
       "            </tr>\n",
       "            <tr>\n",
       "                        <th id=\"T_cdeb9_level0_row2\" class=\"row_heading level0 row2\" >eu_sales</th>\n",
       "                        <td id=\"T_cdeb9_row2_col0\" class=\"data row2 col0\" >-0.093408</td>\n",
       "                        <td id=\"T_cdeb9_row2_col1\" class=\"data row2 col1\" >0.735920</td>\n",
       "                        <td id=\"T_cdeb9_row2_col2\" class=\"data row2 col2\" >1.000000</td>\n",
       "                        <td id=\"T_cdeb9_row2_col3\" class=\"data row2 col3\" >0.188675</td>\n",
       "                        <td id=\"T_cdeb9_row2_col4\" class=\"data row2 col4\" >0.930140</td>\n",
       "                        <td id=\"T_cdeb9_row2_col5\" class=\"data row2 col5\" >0.209984</td>\n",
       "                        <td id=\"T_cdeb9_row2_col6\" class=\"data row2 col6\" >0.150455</td>\n",
       "                        <td id=\"T_cdeb9_row2_col7\" class=\"data row2 col7\" >0.915583</td>\n",
       "            </tr>\n",
       "            <tr>\n",
       "                        <th id=\"T_cdeb9_level0_row3\" class=\"row_heading level0 row3\" >jp_sales</th>\n",
       "                        <td id=\"T_cdeb9_row3_col0\" class=\"data row3 col0\" >-0.056134</td>\n",
       "                        <td id=\"T_cdeb9_row3_col1\" class=\"data row3 col1\" >0.264362</td>\n",
       "                        <td id=\"T_cdeb9_row3_col2\" class=\"data row3 col2\" >0.188675</td>\n",
       "                        <td id=\"T_cdeb9_row3_col3\" class=\"data row3 col3\" >1.000000</td>\n",
       "                        <td id=\"T_cdeb9_row3_col4\" class=\"data row3 col4\" >0.170780</td>\n",
       "                        <td id=\"T_cdeb9_row3_col5\" class=\"data row3 col5\" >-0.037457</td>\n",
       "                        <td id=\"T_cdeb9_row3_col6\" class=\"data row3 col6\" >-0.047662</td>\n",
       "                        <td id=\"T_cdeb9_row3_col7\" class=\"data row3 col7\" >0.418281</td>\n",
       "            </tr>\n",
       "            <tr>\n",
       "                        <th id=\"T_cdeb9_level0_row4\" class=\"row_heading level0 row4\" >other_sales</th>\n",
       "                        <td id=\"T_cdeb9_row4_col0\" class=\"data row4 col0\" >-0.096834</td>\n",
       "                        <td id=\"T_cdeb9_row4_col1\" class=\"data row4 col1\" >0.841484</td>\n",
       "                        <td id=\"T_cdeb9_row4_col2\" class=\"data row4 col2\" >0.930140</td>\n",
       "                        <td id=\"T_cdeb9_row4_col3\" class=\"data row4 col3\" >0.170780</td>\n",
       "                        <td id=\"T_cdeb9_row4_col4\" class=\"data row4 col4\" >1.000000</td>\n",
       "                        <td id=\"T_cdeb9_row4_col5\" class=\"data row4 col5\" >0.201837</td>\n",
       "                        <td id=\"T_cdeb9_row4_col6\" class=\"data row4 col6\" >0.149126</td>\n",
       "                        <td id=\"T_cdeb9_row4_col7\" class=\"data row4 col7\" >0.935091</td>\n",
       "            </tr>\n",
       "            <tr>\n",
       "                        <th id=\"T_cdeb9_level0_row5\" class=\"row_heading level0 row5\" >critic_score</th>\n",
       "                        <td id=\"T_cdeb9_row5_col0\" class=\"data row5 col0\" >0.017105</td>\n",
       "                        <td id=\"T_cdeb9_row5_col1\" class=\"data row5 col1\" >0.213604</td>\n",
       "                        <td id=\"T_cdeb9_row5_col2\" class=\"data row5 col2\" >0.209984</td>\n",
       "                        <td id=\"T_cdeb9_row5_col3\" class=\"data row5 col3\" >-0.037457</td>\n",
       "                        <td id=\"T_cdeb9_row5_col4\" class=\"data row5 col4\" >0.201837</td>\n",
       "                        <td id=\"T_cdeb9_row5_col5\" class=\"data row5 col5\" >1.000000</td>\n",
       "                        <td id=\"T_cdeb9_row5_col6\" class=\"data row5 col6\" >0.794176</td>\n",
       "                        <td id=\"T_cdeb9_row5_col7\" class=\"data row5 col7\" >0.202651</td>\n",
       "            </tr>\n",
       "            <tr>\n",
       "                        <th id=\"T_cdeb9_level0_row6\" class=\"row_heading level0 row6\" >user_score</th>\n",
       "                        <td id=\"T_cdeb9_row6_col0\" class=\"data row6 col0\" >-0.032414</td>\n",
       "                        <td id=\"T_cdeb9_row6_col1\" class=\"data row6 col1\" >0.163664</td>\n",
       "                        <td id=\"T_cdeb9_row6_col2\" class=\"data row6 col2\" >0.150455</td>\n",
       "                        <td id=\"T_cdeb9_row6_col3\" class=\"data row6 col3\" >-0.047662</td>\n",
       "                        <td id=\"T_cdeb9_row6_col4\" class=\"data row6 col4\" >0.149126</td>\n",
       "                        <td id=\"T_cdeb9_row6_col5\" class=\"data row6 col5\" >0.794176</td>\n",
       "                        <td id=\"T_cdeb9_row6_col6\" class=\"data row6 col6\" >1.000000</td>\n",
       "                        <td id=\"T_cdeb9_row6_col7\" class=\"data row6 col7\" >0.146120</td>\n",
       "            </tr>\n",
       "            <tr>\n",
       "                        <th id=\"T_cdeb9_level0_row7\" class=\"row_heading level0 row7\" >total_sales</th>\n",
       "                        <td id=\"T_cdeb9_row7_col0\" class=\"data row7 col0\" >-0.117482</td>\n",
       "                        <td id=\"T_cdeb9_row7_col1\" class=\"data row7 col1\" >0.913660</td>\n",
       "                        <td id=\"T_cdeb9_row7_col2\" class=\"data row7 col2\" >0.915583</td>\n",
       "                        <td id=\"T_cdeb9_row7_col3\" class=\"data row7 col3\" >0.418281</td>\n",
       "                        <td id=\"T_cdeb9_row7_col4\" class=\"data row7 col4\" >0.935091</td>\n",
       "                        <td id=\"T_cdeb9_row7_col5\" class=\"data row7 col5\" >0.202651</td>\n",
       "                        <td id=\"T_cdeb9_row7_col6\" class=\"data row7 col6\" >0.146120</td>\n",
       "                        <td id=\"T_cdeb9_row7_col7\" class=\"data row7 col7\" >1.000000</td>\n",
       "            </tr>\n",
       "    </tbody></table>"
      ],
      "text/plain": [
       "<pandas.io.formats.style.Styler at 0x7f88d0d99280>"
      ]
     },
     "execution_count": 44,
     "metadata": {},
     "output_type": "execute_result"
    }
   ],
   "source": [
    "corr = df_actual_years.corr()\n",
    "corr.style.background_gradient(cmap='coolwarm')"
   ]
  },
  {
   "cell_type": "markdown",
   "metadata": {},
   "source": [
    "Можно заметить, что на количество продаж оценка пользователей и критиков влияет примерно одинаково (но оценка критиков сильнее, что очень логично - некоторые пользователи покупают игры после отзыва критиков).\n",
    "\n",
    "А слабая отрицательная корреляция продаж с годом, на мой взгляд, указывает на спад продаж."
   ]
  },
  {
   "cell_type": "markdown",
   "metadata": {},
   "source": [
    "#### Посмотрим, как распределены игры по жанрам:"
   ]
  },
  {
   "cell_type": "code",
   "execution_count": 45,
   "metadata": {},
   "outputs": [
    {
     "data": {
      "text/plain": [
       "genre\n",
       "Adventure       0.094865\n",
       "Strategy        0.107027\n",
       "Puzzle          0.157857\n",
       "Simulation      0.298409\n",
       "Action          0.322068\n",
       "Misc            0.332301\n",
       "Racing          0.398841\n",
       "Role-Playing    0.459005\n",
       "Fighting        0.470333\n",
       "Platform        0.476053\n",
       "Sports          0.680000\n",
       "Shooter         1.335469\n",
       "Name: total_sales, dtype: float64"
      ]
     },
     "execution_count": 45,
     "metadata": {},
     "output_type": "execute_result"
    }
   ],
   "source": [
    "df_actual_years.groupby('genre')['total_sales'].mean().sort_values()"
   ]
  },
  {
   "cell_type": "markdown",
   "metadata": {},
   "source": [
    "Самые популярные жанры игр: Shooter, Sports, Misc.\n",
    "\n",
    "Антипопулярны в числе проданных копий Puzzle, Strategy"
   ]
  },
  {
   "cell_type": "markdown",
   "metadata": {},
   "source": [
    "## Портрет пользователя каждого региона."
   ]
  },
  {
   "cell_type": "markdown",
   "metadata": {},
   "source": [
    "Определим для пользователя каждого региона (NA, EU, JP):\n",
    "Самые популярные платформы (топ-5).\n",
    "Самые популярные жанры (топ-5).\n",
    "Влияет ли рейтинг ESRB на продажи в отдельном регионе."
   ]
  },
  {
   "cell_type": "markdown",
   "metadata": {},
   "source": [
    "#### Определим самые популярные платформы по регионам:"
   ]
  },
  {
   "cell_type": "code",
   "execution_count": 46,
   "metadata": {},
   "outputs": [
    {
     "data": {
      "text/plain": [
       "<AxesSubplot:xlabel='platform'>"
      ]
     },
     "execution_count": 46,
     "metadata": {},
     "output_type": "execute_result"
    },
    {
     "data": {
      "image/png": "[encoded data removed]",
      "text/plain": [
       "<Figure size 432x288 with 1 Axes>"
      ]
     },
     "metadata": {
      "needs_background": "light"
     },
     "output_type": "display_data"
    }
   ],
   "source": [
    "platforms_na = df_actual_years.groupby('platform')['na_sales'].sum() / df_actual_years['na_sales'].sum()\n",
    "platforms_na = platforms_na.sort_values()\n",
    "platforms_na.plot(kind='bar')"
   ]
  },
  {
   "cell_type": "markdown",
   "metadata": {},
   "source": [
    "В Северной Америке самые популярные платформы - PS4 и XOne."
   ]
  },
  {
   "cell_type": "code",
   "execution_count": 47,
   "metadata": {},
   "outputs": [
    {
     "data": {
      "text/plain": [
       "<AxesSubplot:xlabel='platform'>"
      ]
     },
     "execution_count": 47,
     "metadata": {},
     "output_type": "execute_result"
    },
    {
     "data": {
      "image/png": "[encoded data removed]",
      "text/plain": [
       "<Figure size 432x288 with 1 Axes>"
      ]
     },
     "metadata": {
      "needs_background": "light"
     },
     "output_type": "display_data"
    }
   ],
   "source": [
    "platforms_eu = df_actual_years.groupby('platform')['eu_sales'].sum() / df_actual_years['eu_sales'].sum()\n",
    "platforms_eu = platforms_eu.sort_values()\n",
    "platforms_eu.plot(kind='bar')"
   ]
  },
  {
   "cell_type": "markdown",
   "metadata": {},
   "source": [
    "В Европе с большим отрывом лидирует PS4. В процентном отношении других платформ намного меньше."
   ]
  },
  {
   "cell_type": "code",
   "execution_count": 48,
   "metadata": {},
   "outputs": [
    {
     "data": {
      "text/plain": [
       "<AxesSubplot:xlabel='platform'>"
      ]
     },
     "execution_count": 48,
     "metadata": {},
     "output_type": "execute_result"
    },
    {
     "data": {
      "image/png": "[encoded data removed]",
      "text/plain": [
       "<Figure size 432x288 with 1 Axes>"
      ]
     },
     "metadata": {
      "needs_background": "light"
     },
     "output_type": "display_data"
    }
   ],
   "source": [
    "platforms_jp = df_actual_years.groupby('platform')['jp_sales'].sum() / df_actual_years['jp_sales'].sum()\n",
    "platforms_jp = platforms_jp.sort_values()\n",
    "platforms_jp.plot(kind='bar')"
   ]
  },
  {
   "cell_type": "markdown",
   "metadata": {},
   "source": [
    "В Японии популярнее всего 3DS."
   ]
  },
  {
   "cell_type": "markdown",
   "metadata": {},
   "source": [
    "#### Определим самые популярные жанры по регионам:"
   ]
  },
  {
   "cell_type": "code",
   "execution_count": 49,
   "metadata": {},
   "outputs": [
    {
     "data": {
      "text/plain": [
       "<AxesSubplot:xlabel='genre'>"
      ]
     },
     "execution_count": 49,
     "metadata": {},
     "output_type": "execute_result"
    },
    {
     "data": {
      "image/png": "[encoded data removed]",
      "text/plain": [
       "<Figure size 432x288 with 1 Axes>"
      ]
     },
     "metadata": {
      "needs_background": "light"
     },
     "output_type": "display_data"
    }
   ],
   "source": [
    "genre_na = df_actual_years.groupby('genre')['na_sales'].sum() / df_actual_years['na_sales'].sum()\n",
    "genre_na = genre_na.sort_values()\n",
    "genre_na.plot(kind='bar')"
   ]
  },
  {
   "cell_type": "code",
   "execution_count": 50,
   "metadata": {
    "scrolled": true
   },
   "outputs": [
    {
     "data": {
      "text/plain": [
       "<AxesSubplot:xlabel='genre'>"
      ]
     },
     "execution_count": 50,
     "metadata": {},
     "output_type": "execute_result"
    },
    {
     "data": {
      "image/png": "[encoded data removed]",
      "text/plain": [
       "<Figure size 432x288 with 1 Axes>"
      ]
     },
     "metadata": {
      "needs_background": "light"
     },
     "output_type": "display_data"
    }
   ],
   "source": [
    "genre_eu = df_actual_years.groupby('genre')['eu_sales'].sum() / df_actual_years['eu_sales'].sum()\n",
    "genre_eu = genre_na.sort_values()\n",
    "genre_eu.plot(kind='bar')"
   ]
  },
  {
   "cell_type": "code",
   "execution_count": 51,
   "metadata": {},
   "outputs": [
    {
     "data": {
      "text/plain": [
       "<AxesSubplot:xlabel='genre'>"
      ]
     },
     "execution_count": 51,
     "metadata": {},
     "output_type": "execute_result"
    },
    {
     "data": {
      "image/png": "[encoded data removed]",
      "text/plain": [
       "<Figure size 432x288 with 1 Axes>"
      ]
     },
     "metadata": {
      "needs_background": "light"
     },
     "output_type": "display_data"
    }
   ],
   "source": [
    "genre_jp = df_actual_years.groupby('genre')['jp_sales'].sum() / df_actual_years['jp_sales'].sum()\n",
    "genre_jp = genre_jp.sort_values()\n",
    "genre_jp.plot(kind='bar')"
   ]
  },
  {
   "cell_type": "markdown",
   "metadata": {},
   "source": [
    "Япония, как обычно, имеет весьма специфические вкусы, которые отличаются от \"средних по миру\". Ролевые игры рулят и в играх, ничего удивительного.\n",
    "А в Северной Америке и Европе топ-3 Action, Shooter, Sports7"
   ]
  },
  {
   "cell_type": "markdown",
   "metadata": {},
   "source": [
    "#### Проверим, влияет ли рейтинг ESRB на продажи в отдельном регионе."
   ]
  },
  {
   "cell_type": "code",
   "execution_count": 52,
   "metadata": {},
   "outputs": [
    {
     "data": {
      "text/plain": [
       "<AxesSubplot:xlabel='rating'>"
      ]
     },
     "execution_count": 52,
     "metadata": {},
     "output_type": "execute_result"
    },
    {
     "data": {
      "image/png": "[encoded data removed]",
      "text/plain": [
       "<Figure size 432x288 with 1 Axes>"
      ]
     },
     "metadata": {
      "needs_background": "light"
     },
     "output_type": "display_data"
    }
   ],
   "source": [
    "rating_na = df_actual_years[df_actual_years['rating'] != -1].groupby('rating')['na_sales'].sum()\n",
    "rating_na = rating_na.sort_values()\n",
    "rating_na.plot(kind='bar')"
   ]
  },
  {
   "cell_type": "code",
   "execution_count": 53,
   "metadata": {},
   "outputs": [
    {
     "data": {
      "text/plain": [
       "<AxesSubplot:xlabel='rating'>"
      ]
     },
     "execution_count": 53,
     "metadata": {},
     "output_type": "execute_result"
    },
    {
     "data": {
      "image/png": "[encoded data removed]",
      "text/plain": [
       "<Figure size 432x288 with 1 Axes>"
      ]
     },
     "metadata": {
      "needs_background": "light"
     },
     "output_type": "display_data"
    }
   ],
   "source": [
    "rating_eu = df_actual_years[df_actual_years['rating'] != -1].groupby('rating')['eu_sales'].sum()\n",
    "rating_eu = rating_eu.sort_values()\n",
    "rating_eu.plot(kind='bar')"
   ]
  },
  {
   "cell_type": "code",
   "execution_count": 54,
   "metadata": {},
   "outputs": [
    {
     "data": {
      "text/plain": [
       "<AxesSubplot:xlabel='rating'>"
      ]
     },
     "execution_count": 54,
     "metadata": {},
     "output_type": "execute_result"
    },
    {
     "data": {
      "image/png": "[encoded data removed]",
      "text/plain": [
       "<Figure size 432x288 with 1 Axes>"
      ]
     },
     "metadata": {
      "needs_background": "light"
     },
     "output_type": "display_data"
    }
   ],
   "source": [
    "rating_jp = df_actual_years[df_actual_years['rating'] != -1].groupby('rating')['jp_sales'].sum()\n",
    "rating_jp = rating_jp.sort_values()\n",
    "rating_jp.plot(kind='bar')"
   ]
  },
  {
   "cell_type": "markdown",
   "metadata": {},
   "source": [
    "E       - для всех,\n",
    "E10+     > 10 лет,\n",
    "EC       - для детей младшего возраста,\n",
    "M        > 17 лет,\n",
    "RP        - рейтинг ожидается,\n",
    "T        13-19 лет."
   ]
  },
  {
   "cell_type": "markdown",
   "metadata": {},
   "source": [
    "Все покупают игры для всех) Все довольно логично.\n",
    "Но если в Европе и Северной Америке на первом месте по продажам игры 17+, то в Японии 13-19 лет. Подростки там точно играют чаще."
   ]
  },
  {
   "cell_type": "markdown",
   "metadata": {},
   "source": [
    "## Проверка гипотез"
   ]
  },
  {
   "cell_type": "markdown",
   "metadata": {},
   "source": [
    "### Гипотеза №1. Средние пользовательские рейтинги платформ Xbox One и PC одинаковые."
   ]
  },
  {
   "cell_type": "markdown",
   "metadata": {},
   "source": [
    "H_0: Средний пользовательский рейтинг (user_score) платформы Xbox One = средний пользовательский рейтинг (user_score) платформы PC \n",
    "\n",
    "H_a: Средний пользовательский рейтинг (user_score) платформы Xbox One ≠ средний пользовательский рейтинг (user_score) платформы PC \n",
    "\n",
    "alpha = 0.05"
   ]
  },
  {
   "cell_type": "code",
   "execution_count": 58,
   "metadata": {},
   "outputs": [
    {
     "name": "stdout",
     "output_type": "stream",
     "text": [
      "0.11601398086668918\n",
      "Не получилось отвергнуть нулевую гипотезу \n"
     ]
    }
   ],
   "source": [
    "xbox_rating = df_actual_years[(df_actual_years['platform'] =='XOne') & (df_actual_years['user_score'] >= 0)]['user_score']\n",
    "pc_rating = df_actual_years[(df_actual_years['platform'] =='PC') & (df_actual_years['user_score'] >= 0)]['user_score']\n",
    "\n",
    "results = st.ttest_ind(xbox_rating, pc_rating, equal_var=False) \n",
    "\n",
    "alpha = 0.05 # alpha = задайте значение уровня значимости\n",
    "\n",
    "print(results.pvalue) # вывод значения p-value на экран \n",
    "\n",
    "if results.pvalue < alpha:\n",
    "    print('Отвергаем нулевую гипотезу')\n",
    "else:\n",
    "    print('Не получилось отвергнуть нулевую гипотезу ')\n",
    "# условный оператор с выводом строки с ответом"
   ]
  },
  {
   "cell_type": "markdown",
   "metadata": {},
   "source": [
    "Предложенная гипотеза нашла подтверждение. Таким образом, делаем вывод о том, что средние пользовательские рейтинги платформ Xbox One и PC одинаковые.  "
   ]
  },
  {
   "cell_type": "markdown",
   "metadata": {},
   "source": [
    "### Гипотеза №2. Средние пользовательские рейтинги жанров Action и Sports разные."
   ]
  },
  {
   "cell_type": "markdown",
   "metadata": {},
   "source": [
    "H_0: Средний пользовательский рейтинг (user_score) жанра Action = средний пользовательский рейтинг (user_score) жанра Sports\n",
    "\n",
    "H_a: Средний пользовательский рейтинг (user_score) жанра Action ≠ средний пользовательский рейтинг (user_score) жанра Sports\n",
    "\n",
    "alpha = 0.05"
   ]
  },
  {
   "cell_type": "code",
   "execution_count": 59,
   "metadata": {},
   "outputs": [
    {
     "name": "stdout",
     "output_type": "stream",
     "text": [
      "1.182555038264477e-14\n",
      "Отвергаем нулевую гипотезу\n"
     ]
    }
   ],
   "source": [
    "action_rating = df_actual_years[(df_actual_years['genre'] =='Action') & (df_actual_years['user_score'] >= 0)]['user_score']\n",
    "sports_rating = df_actual_years[(df_actual_years['genre'] =='Sports') & (df_actual_years['user_score'] >= 0)]['user_score']\n",
    "\n",
    "results = st.ttest_ind(action_rating, sports_rating, equal_var=False) \n",
    "\n",
    "alpha = 0.05 # alpha = задайте значение уровня значимости\n",
    "\n",
    "print(results.pvalue) # вывод значения p-value на экран \n",
    "\n",
    "if results.pvalue < alpha:\n",
    "    print('Отвергаем нулевую гипотезу')\n",
    "else:\n",
    "    print('Не получилось отвергнуть нулевую гипотезу ')\n",
    "# условный оператор с выводом строки с ответом"
   ]
  },
  {
   "cell_type": "markdown",
   "metadata": {},
   "source": [
    "Предложенная гипотеза нашла подтверждение. Можем сделать вывод, что средние пользовательские рейтинги жанров Action и Sports разные."
   ]
  },
  {
   "cell_type": "markdown",
   "metadata": {},
   "source": [
    "Обе гипотезы не нашли подтверждение в ходе расчетов."
   ]
  },
  {
   "cell_type": "markdown",
   "metadata": {},
   "source": [
    "## Общий вывод"
   ]
  },
  {
   "cell_type": "markdown",
   "metadata": {},
   "source": [
    "В ходе работы был проанализирован датасет с данными по продажам игр на разных платформах и их рейтингом от критиков и пользователей.\n",
    "\n",
    "На начальном этапе исследования была проделана работа по приведению данных к необходимым для дальнейшего исследования типам, удалению дубликатов и строк с пропущенными данными. \n",
    "\n",
    "Пропуски в столбцах были заменены на значения-\"индикаторы\", которые явно выбиваются из логики данных, но позволяют сохранить имеющиеся данные. Для замены было выбрано значение \"-1\".\n",
    "\n",
    "Так же в датасет был добавлен дополнительный столбец с данными о суммарных продаж во всех регионах."
   ]
  },
  {
   "cell_type": "markdown",
   "metadata": {},
   "source": [
    "В ходе исследования были найдены закономерности о продолжительности \"жизни\" платформы и тенденциям по росту и падению продаж на платформах. Было выявлено, что как правило, цикл \"жизни\" популярных платформ составляет около 10-11 лет и эта величина бфла выбрана для дальнейшего анализа и построения модели для прогноза продаж в следующие годы."
   ]
  },
  {
   "cell_type": "markdown",
   "metadata": {},
   "source": [
    "Были найдены 5 потенциально прибыльных платформ: X360, Wii, PS3, PS4 и XOne. Было выявлено, что на количество продаж оценка пользователей и критиков влияет примерно одинаково (но оценка критиков сильнее, что очень логично - некоторые пользователи покупают игры после отзыва критиков).\n",
    "А так же присутствует слабая отрицательная корреляция продаж с годом,  что, на мой взгляд, указывает на имеющийся спад продаж игр в целом."
   ]
  },
  {
   "cell_type": "markdown",
   "metadata": {},
   "source": [
    "В ходе исследования портрета пользователей, было отмечено, что вкусы японцев, а так же время начала геймерства отличается от того, что актуально в Северной Америке и Европе. Не удивительно, что рынок для Японии развивается иначе."
   ]
  },
  {
   "cell_type": "markdown",
   "metadata": {},
   "source": [
    "Были подтверждены обе постороенные гипотезы за актуальный период и сделаны выводы, что:\n",
    "средние пользовательские рейтинги жанров Action и Sports разные;\n",
    "средние пользовательские рейтинги платформ Xbox One и PC одинаковые.  "
   ]
  },
  {
   "cell_type": "markdown",
   "metadata": {},
   "source": [
    "Итак, рынок немобильных игр затухает, его пик пришелся на 2008-2009 гг и с этого времени падает. У каждой платформы есть суперпопулярные игры, которые приносят огромную прибыль, но, несмотря на это, продаж с каждым годом все меньше. Сильнее всего продажи зависят от рейтинга критиков, так что, есть предложение переводить критиков на свою сторону)"
   ]
  }
 ],
 "metadata": {
  "ExecuteTimeLog": [
   {
    "duration": 835,
    "start_time": "2023-02-13T11:50:32.173Z"
   },
   {
    "duration": 209,
    "start_time": "2023-02-13T11:50:33.285Z"
   },
   {
    "duration": 16,
    "start_time": "2023-02-13T11:50:33.884Z"
   },
   {
    "duration": 69,
    "start_time": "2023-02-13T11:51:07.921Z"
   },
   {
    "duration": 84,
    "start_time": "2023-02-13T12:06:31.380Z"
   },
   {
    "duration": 15,
    "start_time": "2023-02-13T12:12:29.377Z"
   },
   {
    "duration": 8,
    "start_time": "2023-02-13T12:12:58.818Z"
   },
   {
    "duration": 11,
    "start_time": "2023-02-13T12:13:27.072Z"
   },
   {
    "duration": 15,
    "start_time": "2023-02-13T12:14:05.622Z"
   },
   {
    "duration": 15,
    "start_time": "2023-02-13T12:14:27.934Z"
   },
   {
    "duration": 15,
    "start_time": "2023-02-13T12:21:50.442Z"
   },
   {
    "duration": 7,
    "start_time": "2023-02-13T12:22:35.873Z"
   },
   {
    "duration": 16,
    "start_time": "2023-02-13T12:22:37.468Z"
   },
   {
    "duration": 11,
    "start_time": "2023-02-13T12:29:43.569Z"
   },
   {
    "duration": 796,
    "start_time": "2023-02-13T14:44:56.337Z"
   },
   {
    "duration": 126,
    "start_time": "2023-02-13T14:44:57.136Z"
   },
   {
    "duration": 24,
    "start_time": "2023-02-13T14:44:57.265Z"
   },
   {
    "duration": 17,
    "start_time": "2023-02-13T14:44:57.292Z"
   },
   {
    "duration": 24,
    "start_time": "2023-02-13T14:44:57.311Z"
   },
   {
    "duration": 17,
    "start_time": "2023-02-13T14:44:57.337Z"
   },
   {
    "duration": 18,
    "start_time": "2023-02-13T14:44:57.356Z"
   },
   {
    "duration": 9,
    "start_time": "2023-02-13T14:47:10.947Z"
   },
   {
    "duration": 13,
    "start_time": "2023-02-13T14:47:34.197Z"
   },
   {
    "duration": 8,
    "start_time": "2023-02-13T14:47:49.669Z"
   },
   {
    "duration": 73,
    "start_time": "2023-02-13T14:47:53.089Z"
   },
   {
    "duration": 5,
    "start_time": "2023-02-13T14:48:08.155Z"
   },
   {
    "duration": 650,
    "start_time": "2023-02-13T14:48:27.070Z"
   },
   {
    "duration": 69,
    "start_time": "2023-02-13T14:48:27.721Z"
   },
   {
    "duration": 18,
    "start_time": "2023-02-13T14:48:27.793Z"
   },
   {
    "duration": 20,
    "start_time": "2023-02-13T14:48:27.813Z"
   },
   {
    "duration": 22,
    "start_time": "2023-02-13T14:48:27.836Z"
   },
   {
    "duration": 20,
    "start_time": "2023-02-13T14:48:27.860Z"
   },
   {
    "duration": 23,
    "start_time": "2023-02-13T14:48:27.882Z"
   },
   {
    "duration": 14,
    "start_time": "2023-02-13T14:48:27.907Z"
   },
   {
    "duration": 22,
    "start_time": "2023-02-13T14:48:27.923Z"
   },
   {
    "duration": 4,
    "start_time": "2023-02-13T14:48:39.799Z"
   },
   {
    "duration": 5,
    "start_time": "2023-02-13T14:48:40.857Z"
   },
   {
    "duration": 73,
    "start_time": "2023-02-13T14:49:42.524Z"
   },
   {
    "duration": 5,
    "start_time": "2023-02-13T14:49:59.694Z"
   },
   {
    "duration": 8,
    "start_time": "2023-02-13T14:50:08.821Z"
   },
   {
    "duration": 4,
    "start_time": "2023-02-13T14:50:10.179Z"
   },
   {
    "duration": 7,
    "start_time": "2023-02-13T14:50:51.732Z"
   },
   {
    "duration": 4,
    "start_time": "2023-02-13T14:50:58.022Z"
   },
   {
    "duration": 667,
    "start_time": "2023-02-13T14:51:05.405Z"
   },
   {
    "duration": 62,
    "start_time": "2023-02-13T14:51:06.074Z"
   },
   {
    "duration": 14,
    "start_time": "2023-02-13T14:51:06.137Z"
   },
   {
    "duration": 15,
    "start_time": "2023-02-13T14:51:06.152Z"
   },
   {
    "duration": 11,
    "start_time": "2023-02-13T14:51:06.170Z"
   },
   {
    "duration": 35,
    "start_time": "2023-02-13T14:51:06.183Z"
   },
   {
    "duration": 19,
    "start_time": "2023-02-13T14:51:06.220Z"
   },
   {
    "duration": 31,
    "start_time": "2023-02-13T14:51:06.241Z"
   },
   {
    "duration": 9,
    "start_time": "2023-02-13T14:51:06.274Z"
   },
   {
    "duration": 68,
    "start_time": "2023-02-13T14:54:24.614Z"
   },
   {
    "duration": 6,
    "start_time": "2023-02-13T14:55:17.604Z"
   },
   {
    "duration": 9,
    "start_time": "2023-02-13T14:55:24.464Z"
   },
   {
    "duration": 13,
    "start_time": "2023-02-13T14:58:22.678Z"
   },
   {
    "duration": 53,
    "start_time": "2023-02-13T14:59:19.868Z"
   },
   {
    "duration": 26,
    "start_time": "2023-02-13T15:03:16.454Z"
   },
   {
    "duration": 11,
    "start_time": "2023-02-13T15:03:23.571Z"
   },
   {
    "duration": 10,
    "start_time": "2023-02-13T15:04:11.921Z"
   },
   {
    "duration": 9,
    "start_time": "2023-02-13T15:04:13.918Z"
   },
   {
    "duration": 30,
    "start_time": "2023-02-13T15:11:47.998Z"
   },
   {
    "duration": 4,
    "start_time": "2023-02-13T15:13:33.952Z"
   },
   {
    "duration": 5,
    "start_time": "2023-02-13T15:14:04.258Z"
   },
   {
    "duration": 4,
    "start_time": "2023-02-13T15:14:43.443Z"
   },
   {
    "duration": 19,
    "start_time": "2023-02-13T15:15:37.127Z"
   },
   {
    "duration": 26,
    "start_time": "2023-02-13T15:19:22.556Z"
   },
   {
    "duration": 69,
    "start_time": "2023-02-13T16:10:34.838Z"
   },
   {
    "duration": 51,
    "start_time": "2023-02-13T19:35:27.452Z"
   },
   {
    "duration": 774,
    "start_time": "2023-02-13T19:35:40.165Z"
   },
   {
    "duration": 216,
    "start_time": "2023-02-13T19:35:40.941Z"
   },
   {
    "duration": 13,
    "start_time": "2023-02-13T19:35:41.159Z"
   },
   {
    "duration": 13,
    "start_time": "2023-02-13T19:35:41.174Z"
   },
   {
    "duration": 8,
    "start_time": "2023-02-13T19:35:41.189Z"
   },
   {
    "duration": 12,
    "start_time": "2023-02-13T19:35:41.198Z"
   },
   {
    "duration": 9,
    "start_time": "2023-02-13T19:35:41.211Z"
   },
   {
    "duration": 10,
    "start_time": "2023-02-13T19:35:41.221Z"
   },
   {
    "duration": 8,
    "start_time": "2023-02-13T19:35:41.233Z"
   },
   {
    "duration": 8,
    "start_time": "2023-02-13T19:35:41.243Z"
   },
   {
    "duration": 6,
    "start_time": "2023-02-13T19:35:41.252Z"
   },
   {
    "duration": 45,
    "start_time": "2023-02-13T19:35:41.259Z"
   },
   {
    "duration": 84,
    "start_time": "2023-02-13T20:19:02.027Z"
   },
   {
    "duration": 14,
    "start_time": "2023-02-13T20:19:02.900Z"
   },
   {
    "duration": 12,
    "start_time": "2023-02-13T20:28:10.911Z"
   },
   {
    "duration": 865,
    "start_time": "2023-02-13T20:32:07.979Z"
   },
   {
    "duration": 9,
    "start_time": "2023-02-13T20:33:04.324Z"
   },
   {
    "duration": 13,
    "start_time": "2023-02-13T20:36:05.097Z"
   },
   {
    "duration": 16,
    "start_time": "2023-02-13T20:36:07.177Z"
   },
   {
    "duration": 675,
    "start_time": "2023-02-13T20:36:59.934Z"
   },
   {
    "duration": 13,
    "start_time": "2023-02-13T20:37:00.820Z"
   },
   {
    "duration": 73,
    "start_time": "2023-02-13T20:37:41.186Z"
   },
   {
    "duration": 40,
    "start_time": "2023-02-13T20:39:05.829Z"
   },
   {
    "duration": 14,
    "start_time": "2023-02-13T20:39:07.154Z"
   },
   {
    "duration": 652,
    "start_time": "2023-02-13T20:39:28.685Z"
   },
   {
    "duration": 72,
    "start_time": "2023-02-13T20:39:29.339Z"
   },
   {
    "duration": 13,
    "start_time": "2023-02-13T20:39:29.413Z"
   },
   {
    "duration": 13,
    "start_time": "2023-02-13T20:39:29.429Z"
   },
   {
    "duration": 12,
    "start_time": "2023-02-13T20:39:29.444Z"
   },
   {
    "duration": 33,
    "start_time": "2023-02-13T20:39:29.458Z"
   },
   {
    "duration": 12,
    "start_time": "2023-02-13T20:39:29.493Z"
   },
   {
    "duration": 9,
    "start_time": "2023-02-13T20:39:29.507Z"
   },
   {
    "duration": 19,
    "start_time": "2023-02-13T20:39:29.517Z"
   },
   {
    "duration": 13,
    "start_time": "2023-02-13T20:39:29.538Z"
   },
   {
    "duration": 23,
    "start_time": "2023-02-13T20:39:29.553Z"
   },
   {
    "duration": 15,
    "start_time": "2023-02-13T20:39:29.577Z"
   },
   {
    "duration": 20,
    "start_time": "2023-02-13T20:39:29.593Z"
   },
   {
    "duration": 601,
    "start_time": "2023-02-13T20:41:15.313Z"
   },
   {
    "duration": 71,
    "start_time": "2023-02-13T20:41:15.916Z"
   },
   {
    "duration": 13,
    "start_time": "2023-02-13T20:41:15.988Z"
   },
   {
    "duration": 13,
    "start_time": "2023-02-13T20:41:16.003Z"
   },
   {
    "duration": 12,
    "start_time": "2023-02-13T20:41:16.018Z"
   },
   {
    "duration": 12,
    "start_time": "2023-02-13T20:41:16.031Z"
   },
   {
    "duration": 15,
    "start_time": "2023-02-13T20:41:16.045Z"
   },
   {
    "duration": 30,
    "start_time": "2023-02-13T20:41:16.062Z"
   },
   {
    "duration": 9,
    "start_time": "2023-02-13T20:41:16.094Z"
   },
   {
    "duration": 10,
    "start_time": "2023-02-13T20:41:16.105Z"
   },
   {
    "duration": 8,
    "start_time": "2023-02-13T20:41:16.116Z"
   },
   {
    "duration": 7,
    "start_time": "2023-02-13T20:41:16.125Z"
   },
   {
    "duration": 23,
    "start_time": "2023-02-13T20:41:16.134Z"
   },
   {
    "duration": 656,
    "start_time": "2023-02-13T20:42:17.679Z"
   },
   {
    "duration": 75,
    "start_time": "2023-02-13T20:42:18.337Z"
   },
   {
    "duration": 13,
    "start_time": "2023-02-13T20:42:18.414Z"
   },
   {
    "duration": 18,
    "start_time": "2023-02-13T20:42:18.428Z"
   },
   {
    "duration": 15,
    "start_time": "2023-02-13T20:42:18.449Z"
   },
   {
    "duration": 34,
    "start_time": "2023-02-13T20:42:18.466Z"
   },
   {
    "duration": 24,
    "start_time": "2023-02-13T20:42:18.502Z"
   },
   {
    "duration": 11,
    "start_time": "2023-02-13T20:42:18.528Z"
   },
   {
    "duration": 11,
    "start_time": "2023-02-13T20:42:18.540Z"
   },
   {
    "duration": 11,
    "start_time": "2023-02-13T20:42:18.553Z"
   },
   {
    "duration": 31,
    "start_time": "2023-02-13T20:42:18.565Z"
   },
   {
    "duration": 8,
    "start_time": "2023-02-13T20:42:18.598Z"
   },
   {
    "duration": 26,
    "start_time": "2023-02-13T20:42:18.608Z"
   },
   {
    "duration": 604,
    "start_time": "2023-02-13T20:43:37.401Z"
   },
   {
    "duration": 70,
    "start_time": "2023-02-13T20:43:38.006Z"
   },
   {
    "duration": 13,
    "start_time": "2023-02-13T20:43:38.078Z"
   },
   {
    "duration": 16,
    "start_time": "2023-02-13T20:43:38.093Z"
   },
   {
    "duration": 80,
    "start_time": "2023-02-13T20:43:38.111Z"
   },
   {
    "duration": 0,
    "start_time": "2023-02-13T20:43:38.193Z"
   },
   {
    "duration": 0,
    "start_time": "2023-02-13T20:43:38.194Z"
   },
   {
    "duration": 0,
    "start_time": "2023-02-13T20:43:38.195Z"
   },
   {
    "duration": 0,
    "start_time": "2023-02-13T20:43:38.196Z"
   },
   {
    "duration": 0,
    "start_time": "2023-02-13T20:43:38.197Z"
   },
   {
    "duration": 0,
    "start_time": "2023-02-13T20:43:38.198Z"
   },
   {
    "duration": 0,
    "start_time": "2023-02-13T20:43:38.199Z"
   },
   {
    "duration": 0,
    "start_time": "2023-02-13T20:43:38.200Z"
   },
   {
    "duration": 48,
    "start_time": "2023-02-13T20:46:04.802Z"
   },
   {
    "duration": 707,
    "start_time": "2023-02-13T20:46:16.076Z"
   },
   {
    "duration": 73,
    "start_time": "2023-02-13T20:46:16.785Z"
   },
   {
    "duration": 13,
    "start_time": "2023-02-13T20:46:16.860Z"
   },
   {
    "duration": 13,
    "start_time": "2023-02-13T20:46:16.875Z"
   },
   {
    "duration": 9,
    "start_time": "2023-02-13T20:46:16.890Z"
   },
   {
    "duration": 13,
    "start_time": "2023-02-13T20:46:16.901Z"
   },
   {
    "duration": 13,
    "start_time": "2023-02-13T20:46:16.916Z"
   },
   {
    "duration": 9,
    "start_time": "2023-02-13T20:46:16.930Z"
   },
   {
    "duration": 10,
    "start_time": "2023-02-13T20:46:16.940Z"
   },
   {
    "duration": 9,
    "start_time": "2023-02-13T20:46:16.952Z"
   },
   {
    "duration": 29,
    "start_time": "2023-02-13T20:46:16.962Z"
   },
   {
    "duration": 6,
    "start_time": "2023-02-13T20:46:16.993Z"
   },
   {
    "duration": 24,
    "start_time": "2023-02-13T20:46:17.000Z"
   },
   {
    "duration": 772,
    "start_time": "2023-02-14T12:00:49.474Z"
   },
   {
    "duration": 123,
    "start_time": "2023-02-14T12:00:50.249Z"
   },
   {
    "duration": 15,
    "start_time": "2023-02-14T12:00:50.374Z"
   },
   {
    "duration": 29,
    "start_time": "2023-02-14T12:00:50.391Z"
   },
   {
    "duration": 13,
    "start_time": "2023-02-14T12:00:50.422Z"
   },
   {
    "duration": 26,
    "start_time": "2023-02-14T12:00:50.436Z"
   },
   {
    "duration": 22,
    "start_time": "2023-02-14T12:00:50.463Z"
   },
   {
    "duration": 12,
    "start_time": "2023-02-14T12:00:50.487Z"
   },
   {
    "duration": 9,
    "start_time": "2023-02-14T12:00:50.501Z"
   },
   {
    "duration": 9,
    "start_time": "2023-02-14T12:00:50.512Z"
   },
   {
    "duration": 13,
    "start_time": "2023-02-14T12:00:50.524Z"
   },
   {
    "duration": 9,
    "start_time": "2023-02-14T12:00:50.540Z"
   },
   {
    "duration": 54,
    "start_time": "2023-02-14T12:00:50.551Z"
   },
   {
    "duration": 54,
    "start_time": "2023-02-14T12:05:40.398Z"
   },
   {
    "duration": 613,
    "start_time": "2023-02-14T12:05:49.866Z"
   },
   {
    "duration": 73,
    "start_time": "2023-02-14T12:05:50.481Z"
   },
   {
    "duration": 14,
    "start_time": "2023-02-14T12:05:50.556Z"
   },
   {
    "duration": 27,
    "start_time": "2023-02-14T12:05:50.572Z"
   },
   {
    "duration": 37,
    "start_time": "2023-02-14T12:05:50.601Z"
   },
   {
    "duration": 27,
    "start_time": "2023-02-14T12:05:50.639Z"
   },
   {
    "duration": 45,
    "start_time": "2023-02-14T12:05:50.668Z"
   },
   {
    "duration": 17,
    "start_time": "2023-02-14T12:05:50.715Z"
   },
   {
    "duration": 21,
    "start_time": "2023-02-14T12:05:50.734Z"
   },
   {
    "duration": 14,
    "start_time": "2023-02-14T12:05:50.758Z"
   },
   {
    "duration": 26,
    "start_time": "2023-02-14T12:05:50.774Z"
   },
   {
    "duration": 30,
    "start_time": "2023-02-14T12:05:50.802Z"
   },
   {
    "duration": 42,
    "start_time": "2023-02-14T12:05:50.833Z"
   },
   {
    "duration": 49,
    "start_time": "2023-02-14T12:07:06.108Z"
   },
   {
    "duration": 664,
    "start_time": "2023-02-14T12:07:13.892Z"
   },
   {
    "duration": 67,
    "start_time": "2023-02-14T12:07:14.558Z"
   },
   {
    "duration": 14,
    "start_time": "2023-02-14T12:07:14.627Z"
   },
   {
    "duration": 15,
    "start_time": "2023-02-14T12:07:14.643Z"
   },
   {
    "duration": 13,
    "start_time": "2023-02-14T12:07:14.661Z"
   },
   {
    "duration": 31,
    "start_time": "2023-02-14T12:07:14.676Z"
   },
   {
    "duration": 16,
    "start_time": "2023-02-14T12:07:14.709Z"
   },
   {
    "duration": 11,
    "start_time": "2023-02-14T12:07:14.727Z"
   },
   {
    "duration": 14,
    "start_time": "2023-02-14T12:07:14.740Z"
   },
   {
    "duration": 15,
    "start_time": "2023-02-14T12:07:14.756Z"
   },
   {
    "duration": 26,
    "start_time": "2023-02-14T12:07:14.773Z"
   },
   {
    "duration": 8,
    "start_time": "2023-02-14T12:07:14.801Z"
   },
   {
    "duration": 26,
    "start_time": "2023-02-14T12:07:14.811Z"
   },
   {
    "duration": 256,
    "start_time": "2023-02-14T12:07:34.685Z"
   },
   {
    "duration": 14,
    "start_time": "2023-02-14T12:08:33.407Z"
   },
   {
    "duration": 16,
    "start_time": "2023-02-14T12:08:35.779Z"
   },
   {
    "duration": 721,
    "start_time": "2023-02-14T12:08:48.571Z"
   },
   {
    "duration": 75,
    "start_time": "2023-02-14T12:08:49.294Z"
   },
   {
    "duration": 15,
    "start_time": "2023-02-14T12:08:49.370Z"
   },
   {
    "duration": 21,
    "start_time": "2023-02-14T12:08:49.387Z"
   },
   {
    "duration": 28,
    "start_time": "2023-02-14T12:08:49.411Z"
   },
   {
    "duration": 55,
    "start_time": "2023-02-14T12:08:49.442Z"
   },
   {
    "duration": 28,
    "start_time": "2023-02-14T12:08:49.500Z"
   },
   {
    "duration": 18,
    "start_time": "2023-02-14T12:08:49.530Z"
   },
   {
    "duration": 13,
    "start_time": "2023-02-14T12:08:49.550Z"
   },
   {
    "duration": 24,
    "start_time": "2023-02-14T12:08:49.565Z"
   },
   {
    "duration": 20,
    "start_time": "2023-02-14T12:08:49.592Z"
   },
   {
    "duration": 24,
    "start_time": "2023-02-14T12:08:49.615Z"
   },
   {
    "duration": 38,
    "start_time": "2023-02-14T12:08:49.642Z"
   },
   {
    "duration": 19,
    "start_time": "2023-02-14T12:09:47.416Z"
   },
   {
    "duration": 17,
    "start_time": "2023-02-14T12:11:30.344Z"
   },
   {
    "duration": 16,
    "start_time": "2023-02-14T12:11:34.569Z"
   },
   {
    "duration": 640,
    "start_time": "2023-02-14T12:11:50.802Z"
   },
   {
    "duration": 72,
    "start_time": "2023-02-14T12:11:51.445Z"
   },
   {
    "duration": 30,
    "start_time": "2023-02-14T12:11:51.519Z"
   },
   {
    "duration": 21,
    "start_time": "2023-02-14T12:11:51.552Z"
   },
   {
    "duration": 31,
    "start_time": "2023-02-14T12:11:51.574Z"
   },
   {
    "duration": 21,
    "start_time": "2023-02-14T12:11:51.607Z"
   },
   {
    "duration": 17,
    "start_time": "2023-02-14T12:11:51.629Z"
   },
   {
    "duration": 30,
    "start_time": "2023-02-14T12:11:51.648Z"
   },
   {
    "duration": 22,
    "start_time": "2023-02-14T12:11:51.680Z"
   },
   {
    "duration": 22,
    "start_time": "2023-02-14T12:11:51.705Z"
   },
   {
    "duration": 17,
    "start_time": "2023-02-14T12:11:51.729Z"
   },
   {
    "duration": 10,
    "start_time": "2023-02-14T12:11:51.748Z"
   },
   {
    "duration": 20,
    "start_time": "2023-02-14T12:11:51.760Z"
   },
   {
    "duration": 56,
    "start_time": "2023-02-14T12:11:51.782Z"
   },
   {
    "duration": 77,
    "start_time": "2023-02-14T12:13:45.260Z"
   },
   {
    "duration": 652,
    "start_time": "2023-02-14T12:14:07.575Z"
   },
   {
    "duration": 67,
    "start_time": "2023-02-14T12:14:08.229Z"
   },
   {
    "duration": 16,
    "start_time": "2023-02-14T12:14:08.298Z"
   },
   {
    "duration": 20,
    "start_time": "2023-02-14T12:14:08.317Z"
   },
   {
    "duration": 21,
    "start_time": "2023-02-14T12:14:08.339Z"
   },
   {
    "duration": 102,
    "start_time": "2023-02-14T12:14:08.361Z"
   },
   {
    "duration": 0,
    "start_time": "2023-02-14T12:14:08.465Z"
   },
   {
    "duration": 0,
    "start_time": "2023-02-14T12:14:08.467Z"
   },
   {
    "duration": 0,
    "start_time": "2023-02-14T12:14:08.469Z"
   },
   {
    "duration": 0,
    "start_time": "2023-02-14T12:14:08.470Z"
   },
   {
    "duration": 0,
    "start_time": "2023-02-14T12:14:08.472Z"
   },
   {
    "duration": 0,
    "start_time": "2023-02-14T12:14:08.473Z"
   },
   {
    "duration": 0,
    "start_time": "2023-02-14T12:14:08.475Z"
   },
   {
    "duration": 0,
    "start_time": "2023-02-14T12:14:08.476Z"
   },
   {
    "duration": 12,
    "start_time": "2023-02-14T12:15:05.620Z"
   },
   {
    "duration": 13,
    "start_time": "2023-02-14T12:15:13.310Z"
   },
   {
    "duration": 670,
    "start_time": "2023-02-14T12:25:10.725Z"
   },
   {
    "duration": 71,
    "start_time": "2023-02-14T12:25:11.398Z"
   },
   {
    "duration": 15,
    "start_time": "2023-02-14T12:25:11.473Z"
   },
   {
    "duration": 15,
    "start_time": "2023-02-14T12:25:11.491Z"
   },
   {
    "duration": 33,
    "start_time": "2023-02-14T12:25:11.508Z"
   },
   {
    "duration": 24,
    "start_time": "2023-02-14T12:25:11.543Z"
   },
   {
    "duration": 30,
    "start_time": "2023-02-14T12:25:11.569Z"
   },
   {
    "duration": 15,
    "start_time": "2023-02-14T12:25:11.601Z"
   },
   {
    "duration": 11,
    "start_time": "2023-02-14T12:25:11.617Z"
   },
   {
    "duration": 13,
    "start_time": "2023-02-14T12:25:11.630Z"
   },
   {
    "duration": 15,
    "start_time": "2023-02-14T12:25:11.644Z"
   },
   {
    "duration": 39,
    "start_time": "2023-02-14T12:25:11.661Z"
   },
   {
    "duration": 38,
    "start_time": "2023-02-14T12:25:11.703Z"
   },
   {
    "duration": 34,
    "start_time": "2023-02-14T12:25:11.743Z"
   },
   {
    "duration": 729,
    "start_time": "2023-02-14T12:28:23.688Z"
   },
   {
    "duration": 79,
    "start_time": "2023-02-14T12:28:24.419Z"
   },
   {
    "duration": 17,
    "start_time": "2023-02-14T12:28:24.500Z"
   },
   {
    "duration": 24,
    "start_time": "2023-02-14T12:28:24.519Z"
   },
   {
    "duration": 22,
    "start_time": "2023-02-14T12:28:24.547Z"
   },
   {
    "duration": 452,
    "start_time": "2023-02-14T12:28:24.571Z"
   },
   {
    "duration": 0,
    "start_time": "2023-02-14T12:28:25.025Z"
   },
   {
    "duration": 0,
    "start_time": "2023-02-14T12:28:25.026Z"
   },
   {
    "duration": 0,
    "start_time": "2023-02-14T12:28:25.028Z"
   },
   {
    "duration": 0,
    "start_time": "2023-02-14T12:28:25.029Z"
   },
   {
    "duration": 0,
    "start_time": "2023-02-14T12:28:25.031Z"
   },
   {
    "duration": 0,
    "start_time": "2023-02-14T12:28:25.033Z"
   },
   {
    "duration": 0,
    "start_time": "2023-02-14T12:28:25.034Z"
   },
   {
    "duration": 0,
    "start_time": "2023-02-14T12:28:25.036Z"
   },
   {
    "duration": 645,
    "start_time": "2023-02-14T12:30:21.217Z"
   },
   {
    "duration": 82,
    "start_time": "2023-02-14T12:30:21.863Z"
   },
   {
    "duration": 18,
    "start_time": "2023-02-14T12:30:21.947Z"
   },
   {
    "duration": 16,
    "start_time": "2023-02-14T12:30:21.967Z"
   },
   {
    "duration": 23,
    "start_time": "2023-02-14T12:30:22.001Z"
   },
   {
    "duration": 22,
    "start_time": "2023-02-14T12:30:22.025Z"
   },
   {
    "duration": 16,
    "start_time": "2023-02-14T12:30:22.049Z"
   },
   {
    "duration": 50,
    "start_time": "2023-02-14T12:30:22.067Z"
   },
   {
    "duration": 17,
    "start_time": "2023-02-14T12:30:22.119Z"
   },
   {
    "duration": 13,
    "start_time": "2023-02-14T12:30:22.138Z"
   },
   {
    "duration": 11,
    "start_time": "2023-02-14T12:30:22.153Z"
   },
   {
    "duration": 8,
    "start_time": "2023-02-14T12:30:22.166Z"
   },
   {
    "duration": 32,
    "start_time": "2023-02-14T12:30:22.176Z"
   },
   {
    "duration": 25,
    "start_time": "2023-02-14T12:30:22.213Z"
   },
   {
    "duration": 16,
    "start_time": "2023-02-14T12:39:29.416Z"
   },
   {
    "duration": 23,
    "start_time": "2023-02-14T12:39:37.151Z"
   },
   {
    "duration": 17,
    "start_time": "2023-02-14T12:39:38.976Z"
   },
   {
    "duration": 17,
    "start_time": "2023-02-14T12:39:40.372Z"
   },
   {
    "duration": 837,
    "start_time": "2023-02-14T12:40:13.152Z"
   },
   {
    "duration": 96,
    "start_time": "2023-02-14T12:40:13.994Z"
   },
   {
    "duration": 26,
    "start_time": "2023-02-14T12:40:14.092Z"
   },
   {
    "duration": 26,
    "start_time": "2023-02-14T12:40:14.121Z"
   },
   {
    "duration": 28,
    "start_time": "2023-02-14T12:40:14.150Z"
   },
   {
    "duration": 54,
    "start_time": "2023-02-14T12:40:14.181Z"
   },
   {
    "duration": 15,
    "start_time": "2023-02-14T12:40:14.237Z"
   },
   {
    "duration": 26,
    "start_time": "2023-02-14T12:40:14.254Z"
   },
   {
    "duration": 10,
    "start_time": "2023-02-14T12:40:14.283Z"
   },
   {
    "duration": 22,
    "start_time": "2023-02-14T12:40:14.299Z"
   },
   {
    "duration": 22,
    "start_time": "2023-02-14T12:40:14.323Z"
   },
   {
    "duration": 8,
    "start_time": "2023-02-14T12:40:14.347Z"
   },
   {
    "duration": 42,
    "start_time": "2023-02-14T12:40:14.357Z"
   },
   {
    "duration": 27,
    "start_time": "2023-02-14T12:40:14.401Z"
   },
   {
    "duration": 11,
    "start_time": "2023-02-14T12:45:51.495Z"
   },
   {
    "duration": 698,
    "start_time": "2023-02-14T12:46:27.927Z"
   },
   {
    "duration": 84,
    "start_time": "2023-02-14T12:46:28.628Z"
   },
   {
    "duration": 907,
    "start_time": "2023-02-14T12:46:28.714Z"
   },
   {
    "duration": 0,
    "start_time": "2023-02-14T12:46:29.624Z"
   },
   {
    "duration": 0,
    "start_time": "2023-02-14T12:46:29.625Z"
   },
   {
    "duration": 0,
    "start_time": "2023-02-14T12:46:29.627Z"
   },
   {
    "duration": 0,
    "start_time": "2023-02-14T12:46:29.628Z"
   },
   {
    "duration": 0,
    "start_time": "2023-02-14T12:46:29.629Z"
   },
   {
    "duration": 0,
    "start_time": "2023-02-14T12:46:29.631Z"
   },
   {
    "duration": 0,
    "start_time": "2023-02-14T12:46:29.632Z"
   },
   {
    "duration": 0,
    "start_time": "2023-02-14T12:46:29.632Z"
   },
   {
    "duration": 0,
    "start_time": "2023-02-14T12:46:29.636Z"
   },
   {
    "duration": 0,
    "start_time": "2023-02-14T12:46:29.638Z"
   },
   {
    "duration": 0,
    "start_time": "2023-02-14T12:46:29.639Z"
   },
   {
    "duration": 655,
    "start_time": "2023-02-14T12:47:18.361Z"
   },
   {
    "duration": 78,
    "start_time": "2023-02-14T12:47:19.018Z"
   },
   {
    "duration": 18,
    "start_time": "2023-02-14T12:47:19.098Z"
   },
   {
    "duration": 30,
    "start_time": "2023-02-14T12:47:19.119Z"
   },
   {
    "duration": 33,
    "start_time": "2023-02-14T12:47:19.151Z"
   },
   {
    "duration": 18,
    "start_time": "2023-02-14T12:47:19.186Z"
   },
   {
    "duration": 20,
    "start_time": "2023-02-14T12:47:19.206Z"
   },
   {
    "duration": 14,
    "start_time": "2023-02-14T12:47:19.228Z"
   },
   {
    "duration": 10,
    "start_time": "2023-02-14T12:47:19.244Z"
   },
   {
    "duration": 50,
    "start_time": "2023-02-14T12:47:19.257Z"
   },
   {
    "duration": 13,
    "start_time": "2023-02-14T12:47:19.309Z"
   },
   {
    "duration": 20,
    "start_time": "2023-02-14T12:47:19.325Z"
   },
   {
    "duration": 26,
    "start_time": "2023-02-14T12:47:19.347Z"
   },
   {
    "duration": 33,
    "start_time": "2023-02-14T12:47:19.375Z"
   },
   {
    "duration": 8,
    "start_time": "2023-02-14T12:52:15.950Z"
   },
   {
    "duration": 638,
    "start_time": "2023-02-14T12:52:26.813Z"
   },
   {
    "duration": 69,
    "start_time": "2023-02-14T12:52:27.453Z"
   },
   {
    "duration": 16,
    "start_time": "2023-02-14T12:52:27.524Z"
   },
   {
    "duration": 15,
    "start_time": "2023-02-14T12:52:27.542Z"
   },
   {
    "duration": 13,
    "start_time": "2023-02-14T12:52:27.558Z"
   },
   {
    "duration": 35,
    "start_time": "2023-02-14T12:52:27.573Z"
   },
   {
    "duration": 16,
    "start_time": "2023-02-14T12:52:27.610Z"
   },
   {
    "duration": 14,
    "start_time": "2023-02-14T12:52:27.628Z"
   },
   {
    "duration": 17,
    "start_time": "2023-02-14T12:52:27.644Z"
   },
   {
    "duration": 14,
    "start_time": "2023-02-14T12:52:27.663Z"
   },
   {
    "duration": 25,
    "start_time": "2023-02-14T12:52:27.678Z"
   },
   {
    "duration": 12,
    "start_time": "2023-02-14T12:52:27.706Z"
   },
   {
    "duration": 9,
    "start_time": "2023-02-14T12:52:27.720Z"
   },
   {
    "duration": 22,
    "start_time": "2023-02-14T12:52:27.731Z"
   },
   {
    "duration": 6,
    "start_time": "2023-02-14T13:32:50.793Z"
   },
   {
    "duration": 70,
    "start_time": "2023-02-14T13:33:14.889Z"
   },
   {
    "duration": 8,
    "start_time": "2023-02-14T13:35:09.414Z"
   },
   {
    "duration": 22,
    "start_time": "2023-02-14T13:44:21.811Z"
   },
   {
    "duration": 15,
    "start_time": "2023-02-14T13:51:46.117Z"
   },
   {
    "duration": 23,
    "start_time": "2023-02-14T13:51:51.648Z"
   },
   {
    "duration": 680,
    "start_time": "2023-02-14T14:06:45.677Z"
   },
   {
    "duration": 86,
    "start_time": "2023-02-14T14:06:46.359Z"
   },
   {
    "duration": 22,
    "start_time": "2023-02-14T14:06:46.447Z"
   },
   {
    "duration": 38,
    "start_time": "2023-02-14T14:06:46.473Z"
   },
   {
    "duration": 55,
    "start_time": "2023-02-14T14:06:46.513Z"
   },
   {
    "duration": 20,
    "start_time": "2023-02-14T14:06:46.570Z"
   },
   {
    "duration": 57,
    "start_time": "2023-02-14T14:06:46.592Z"
   },
   {
    "duration": 15,
    "start_time": "2023-02-14T14:06:46.650Z"
   },
   {
    "duration": 13,
    "start_time": "2023-02-14T14:06:46.668Z"
   },
   {
    "duration": 20,
    "start_time": "2023-02-14T14:06:46.683Z"
   },
   {
    "duration": 48,
    "start_time": "2023-02-14T14:06:46.704Z"
   },
   {
    "duration": 9,
    "start_time": "2023-02-14T14:06:46.754Z"
   },
   {
    "duration": 10,
    "start_time": "2023-02-14T14:06:46.765Z"
   },
   {
    "duration": 9,
    "start_time": "2023-02-14T14:06:46.777Z"
   },
   {
    "duration": 10,
    "start_time": "2023-02-14T14:06:46.788Z"
   },
   {
    "duration": 69,
    "start_time": "2023-02-14T14:06:46.800Z"
   },
   {
    "duration": 1465,
    "start_time": "2023-02-14T14:15:32.540Z"
   },
   {
    "duration": 77,
    "start_time": "2023-02-14T14:16:17.589Z"
   },
   {
    "duration": 48,
    "start_time": "2023-02-14T16:24:02.102Z"
   },
   {
    "duration": 829,
    "start_time": "2023-02-14T16:24:11.545Z"
   },
   {
    "duration": 140,
    "start_time": "2023-02-14T16:24:12.377Z"
   },
   {
    "duration": 17,
    "start_time": "2023-02-14T16:24:12.519Z"
   },
   {
    "duration": 15,
    "start_time": "2023-02-14T16:24:12.538Z"
   },
   {
    "duration": 38,
    "start_time": "2023-02-14T16:24:12.555Z"
   },
   {
    "duration": 41,
    "start_time": "2023-02-14T16:24:12.595Z"
   },
   {
    "duration": 20,
    "start_time": "2023-02-14T16:24:12.638Z"
   },
   {
    "duration": 14,
    "start_time": "2023-02-14T16:24:12.660Z"
   },
   {
    "duration": 13,
    "start_time": "2023-02-14T16:24:12.676Z"
   },
   {
    "duration": 37,
    "start_time": "2023-02-14T16:24:12.692Z"
   },
   {
    "duration": 12,
    "start_time": "2023-02-14T16:24:12.731Z"
   },
   {
    "duration": 9,
    "start_time": "2023-02-14T16:24:12.744Z"
   },
   {
    "duration": 8,
    "start_time": "2023-02-14T16:24:12.755Z"
   },
   {
    "duration": 9,
    "start_time": "2023-02-14T16:24:12.765Z"
   },
   {
    "duration": 5,
    "start_time": "2023-02-14T16:24:12.776Z"
   },
   {
    "duration": 65,
    "start_time": "2023-02-14T16:24:12.783Z"
   },
   {
    "duration": 54,
    "start_time": "2023-02-14T16:24:12.850Z"
   },
   {
    "duration": 1447,
    "start_time": "2023-02-14T16:24:12.905Z"
   },
   {
    "duration": 290,
    "start_time": "2023-02-14T16:24:14.353Z"
   },
   {
    "duration": 1564,
    "start_time": "2023-02-14T16:32:20.984Z"
   },
   {
    "duration": 1332,
    "start_time": "2023-02-14T16:38:21.684Z"
   },
   {
    "duration": 77,
    "start_time": "2023-02-14T16:40:36.829Z"
   },
   {
    "duration": 1036,
    "start_time": "2023-02-14T16:47:17.509Z"
   },
   {
    "duration": 1393,
    "start_time": "2023-02-14T17:06:07.871Z"
   },
   {
    "duration": 1280,
    "start_time": "2023-02-14T17:06:57.861Z"
   },
   {
    "duration": 1499,
    "start_time": "2023-02-14T17:07:40.764Z"
   },
   {
    "duration": 46,
    "start_time": "2023-02-14T17:20:49.446Z"
   },
   {
    "duration": 1408,
    "start_time": "2023-02-14T17:20:59.212Z"
   },
   {
    "duration": 1335,
    "start_time": "2023-02-14T17:27:14.738Z"
   },
   {
    "duration": 226,
    "start_time": "2023-02-14T17:28:20.088Z"
   },
   {
    "duration": 214,
    "start_time": "2023-02-14T17:32:06.324Z"
   },
   {
    "duration": 6,
    "start_time": "2023-02-14T17:32:45.854Z"
   },
   {
    "duration": 187,
    "start_time": "2023-02-14T17:32:55.607Z"
   },
   {
    "duration": 271,
    "start_time": "2023-02-14T17:33:49.898Z"
   },
   {
    "duration": 1338,
    "start_time": "2023-02-14T17:35:04.825Z"
   },
   {
    "duration": 7,
    "start_time": "2023-02-14T17:35:33.178Z"
   },
   {
    "duration": 1668,
    "start_time": "2023-02-14T17:35:58.770Z"
   },
   {
    "duration": 587,
    "start_time": "2023-02-14T18:35:20.565Z"
   },
   {
    "duration": 79,
    "start_time": "2023-02-14T18:35:21.154Z"
   },
   {
    "duration": 17,
    "start_time": "2023-02-14T18:35:21.234Z"
   },
   {
    "duration": 15,
    "start_time": "2023-02-14T18:35:21.253Z"
   },
   {
    "duration": 30,
    "start_time": "2023-02-14T18:35:21.270Z"
   },
   {
    "duration": 32,
    "start_time": "2023-02-14T18:35:21.302Z"
   },
   {
    "duration": 16,
    "start_time": "2023-02-14T18:35:21.335Z"
   },
   {
    "duration": 12,
    "start_time": "2023-02-14T18:35:21.353Z"
   },
   {
    "duration": 13,
    "start_time": "2023-02-14T18:35:21.367Z"
   },
   {
    "duration": 11,
    "start_time": "2023-02-14T18:35:21.383Z"
   },
   {
    "duration": 36,
    "start_time": "2023-02-14T18:35:21.395Z"
   },
   {
    "duration": 7,
    "start_time": "2023-02-14T18:35:21.433Z"
   },
   {
    "duration": 11,
    "start_time": "2023-02-14T18:35:21.442Z"
   },
   {
    "duration": 6,
    "start_time": "2023-02-14T18:35:21.454Z"
   },
   {
    "duration": 12,
    "start_time": "2023-02-14T18:35:21.462Z"
   },
   {
    "duration": 30,
    "start_time": "2023-02-14T18:35:21.475Z"
   },
   {
    "duration": 65,
    "start_time": "2023-02-14T18:35:21.507Z"
   },
   {
    "duration": 1502,
    "start_time": "2023-02-14T18:35:21.573Z"
   },
   {
    "duration": 933,
    "start_time": "2023-02-14T18:35:23.077Z"
   },
   {
    "duration": 6,
    "start_time": "2023-02-14T18:36:54.774Z"
   },
   {
    "duration": 621,
    "start_time": "2023-02-14T18:39:17.331Z"
   },
   {
    "duration": 68,
    "start_time": "2023-02-14T18:39:17.954Z"
   },
   {
    "duration": 16,
    "start_time": "2023-02-14T18:39:18.024Z"
   },
   {
    "duration": 16,
    "start_time": "2023-02-14T18:39:18.041Z"
   },
   {
    "duration": 22,
    "start_time": "2023-02-14T18:39:18.059Z"
   },
   {
    "duration": 4,
    "start_time": "2023-02-14T18:39:18.083Z"
   },
   {
    "duration": 17,
    "start_time": "2023-02-14T18:39:18.088Z"
   },
   {
    "duration": 36,
    "start_time": "2023-02-14T18:39:18.106Z"
   },
   {
    "duration": 12,
    "start_time": "2023-02-14T18:39:18.144Z"
   },
   {
    "duration": 10,
    "start_time": "2023-02-14T18:39:18.157Z"
   },
   {
    "duration": 15,
    "start_time": "2023-02-14T18:39:18.169Z"
   },
   {
    "duration": 8,
    "start_time": "2023-02-14T18:39:18.186Z"
   },
   {
    "duration": 7,
    "start_time": "2023-02-14T18:39:18.195Z"
   },
   {
    "duration": 8,
    "start_time": "2023-02-14T18:39:18.226Z"
   },
   {
    "duration": 6,
    "start_time": "2023-02-14T18:39:18.236Z"
   },
   {
    "duration": 7,
    "start_time": "2023-02-14T18:39:18.244Z"
   },
   {
    "duration": 21,
    "start_time": "2023-02-14T18:39:18.252Z"
   },
   {
    "duration": 74,
    "start_time": "2023-02-14T18:39:18.274Z"
   },
   {
    "duration": 1519,
    "start_time": "2023-02-14T18:39:18.349Z"
   },
   {
    "duration": 998,
    "start_time": "2023-02-14T18:39:19.870Z"
   },
   {
    "duration": 856,
    "start_time": "2023-02-14T18:47:31.328Z"
   },
   {
    "duration": 850,
    "start_time": "2023-02-14T18:48:11.730Z"
   },
   {
    "duration": 715,
    "start_time": "2023-02-14T18:48:30.473Z"
   },
   {
    "duration": 826,
    "start_time": "2023-02-14T18:48:59.537Z"
   },
   {
    "duration": 801,
    "start_time": "2023-02-14T18:49:24.577Z"
   },
   {
    "duration": 739,
    "start_time": "2023-02-14T18:49:43.192Z"
   },
   {
    "duration": 888,
    "start_time": "2023-02-14T18:50:59.079Z"
   },
   {
    "duration": 905,
    "start_time": "2023-02-14T18:51:27.028Z"
   },
   {
    "duration": 697,
    "start_time": "2023-02-14T18:52:20.774Z"
   },
   {
    "duration": 840,
    "start_time": "2023-02-14T18:52:50.923Z"
   },
   {
    "duration": 701,
    "start_time": "2023-02-14T18:53:37.778Z"
   },
   {
    "duration": 800,
    "start_time": "2023-02-14T18:54:23.171Z"
   },
   {
    "duration": 966,
    "start_time": "2023-02-14T18:54:52.168Z"
   },
   {
    "duration": 1440,
    "start_time": "2023-02-14T18:56:23.375Z"
   },
   {
    "duration": 1494,
    "start_time": "2023-02-14T18:56:47.942Z"
   },
   {
    "duration": 1564,
    "start_time": "2023-02-14T18:57:37.516Z"
   },
   {
    "duration": 1041,
    "start_time": "2023-02-15T07:35:38.844Z"
   },
   {
    "duration": 145,
    "start_time": "2023-02-15T07:35:39.888Z"
   },
   {
    "duration": 26,
    "start_time": "2023-02-15T07:35:40.035Z"
   },
   {
    "duration": 43,
    "start_time": "2023-02-15T07:35:40.064Z"
   },
   {
    "duration": 63,
    "start_time": "2023-02-15T07:35:40.109Z"
   },
   {
    "duration": 26,
    "start_time": "2023-02-15T07:35:40.175Z"
   },
   {
    "duration": 83,
    "start_time": "2023-02-15T07:35:40.203Z"
   },
   {
    "duration": 28,
    "start_time": "2023-02-15T07:35:40.289Z"
   },
   {
    "duration": 35,
    "start_time": "2023-02-15T07:35:40.322Z"
   },
   {
    "duration": 21,
    "start_time": "2023-02-15T07:35:40.365Z"
   },
   {
    "duration": 13,
    "start_time": "2023-02-15T07:35:40.389Z"
   },
   {
    "duration": 54,
    "start_time": "2023-02-15T07:35:40.405Z"
   },
   {
    "duration": 16,
    "start_time": "2023-02-15T07:35:40.462Z"
   },
   {
    "duration": 22,
    "start_time": "2023-02-15T07:35:40.480Z"
   },
   {
    "duration": 57,
    "start_time": "2023-02-15T07:35:40.504Z"
   },
   {
    "duration": 36,
    "start_time": "2023-02-15T07:35:40.562Z"
   },
   {
    "duration": 94,
    "start_time": "2023-02-15T07:35:40.603Z"
   },
   {
    "duration": 1821,
    "start_time": "2023-02-15T07:35:40.700Z"
   },
   {
    "duration": 1150,
    "start_time": "2023-02-15T07:35:42.523Z"
   },
   {
    "duration": 1548,
    "start_time": "2023-02-15T07:41:49.944Z"
   },
   {
    "duration": 1716,
    "start_time": "2023-02-15T07:44:49.578Z"
   },
   {
    "duration": 1708,
    "start_time": "2023-02-15T07:47:38.627Z"
   },
   {
    "duration": 1542,
    "start_time": "2023-02-15T08:05:24.319Z"
   },
   {
    "duration": 93,
    "start_time": "2023-02-15T08:28:36.538Z"
   },
   {
    "duration": 7,
    "start_time": "2023-02-15T08:30:07.171Z"
   },
   {
    "duration": 29,
    "start_time": "2023-02-15T08:49:54.101Z"
   },
   {
    "duration": 20,
    "start_time": "2023-02-15T08:50:03.658Z"
   },
   {
    "duration": 29,
    "start_time": "2023-02-15T08:50:24.692Z"
   },
   {
    "duration": 179,
    "start_time": "2023-02-15T09:28:58.995Z"
   },
   {
    "duration": 7,
    "start_time": "2023-02-15T09:30:45.677Z"
   },
   {
    "duration": 71,
    "start_time": "2023-02-15T09:37:01.752Z"
   },
   {
    "duration": 74,
    "start_time": "2023-02-15T09:51:03.480Z"
   },
   {
    "duration": 9,
    "start_time": "2023-02-15T09:51:17.810Z"
   },
   {
    "duration": 11,
    "start_time": "2023-02-15T09:52:08.143Z"
   },
   {
    "duration": 8,
    "start_time": "2023-02-15T09:52:41.156Z"
   },
   {
    "duration": 10,
    "start_time": "2023-02-15T09:57:51.583Z"
   },
   {
    "duration": 8,
    "start_time": "2023-02-15T09:58:13.168Z"
   },
   {
    "duration": 7,
    "start_time": "2023-02-15T09:58:43.825Z"
   },
   {
    "duration": 12,
    "start_time": "2023-02-15T10:03:54.863Z"
   },
   {
    "duration": 6,
    "start_time": "2023-02-15T10:04:26.746Z"
   },
   {
    "duration": 8,
    "start_time": "2023-02-15T10:04:28.820Z"
   },
   {
    "duration": 48,
    "start_time": "2023-02-15T10:04:43.899Z"
   },
   {
    "duration": 50,
    "start_time": "2023-02-15T10:04:51.621Z"
   },
   {
    "duration": 3,
    "start_time": "2023-02-15T10:06:45.992Z"
   },
   {
    "duration": 6,
    "start_time": "2023-02-15T10:06:57.463Z"
   },
   {
    "duration": 6,
    "start_time": "2023-02-15T10:07:27.231Z"
   },
   {
    "duration": 3,
    "start_time": "2023-02-15T10:22:43.666Z"
   },
   {
    "duration": 44,
    "start_time": "2023-02-15T10:27:11.220Z"
   },
   {
    "duration": 50,
    "start_time": "2023-02-15T10:27:27.037Z"
   },
   {
    "duration": 42,
    "start_time": "2023-02-15T10:27:48.807Z"
   },
   {
    "duration": 11,
    "start_time": "2023-02-15T10:28:01.928Z"
   },
   {
    "duration": 16,
    "start_time": "2023-02-15T10:28:20.041Z"
   },
   {
    "duration": 11,
    "start_time": "2023-02-15T10:28:58.937Z"
   },
   {
    "duration": 1083,
    "start_time": "2023-02-15T10:29:19.020Z"
   },
   {
    "duration": 10,
    "start_time": "2023-02-15T10:33:02.565Z"
   },
   {
    "duration": 9,
    "start_time": "2023-02-15T10:36:46.475Z"
   },
   {
    "duration": 9,
    "start_time": "2023-02-15T10:36:57.464Z"
   },
   {
    "duration": 31,
    "start_time": "2023-02-15T10:37:09.052Z"
   },
   {
    "duration": 637,
    "start_time": "2023-02-15T10:37:50.739Z"
   },
   {
    "duration": 71,
    "start_time": "2023-02-15T10:37:51.379Z"
   },
   {
    "duration": 20,
    "start_time": "2023-02-15T10:37:51.452Z"
   },
   {
    "duration": 32,
    "start_time": "2023-02-15T10:37:51.474Z"
   },
   {
    "duration": 46,
    "start_time": "2023-02-15T10:37:51.507Z"
   },
   {
    "duration": 14,
    "start_time": "2023-02-15T10:37:51.554Z"
   },
   {
    "duration": 25,
    "start_time": "2023-02-15T10:37:51.570Z"
   },
   {
    "duration": 19,
    "start_time": "2023-02-15T10:37:51.597Z"
   },
   {
    "duration": 9,
    "start_time": "2023-02-15T10:37:51.618Z"
   },
   {
    "duration": 17,
    "start_time": "2023-02-15T10:37:51.630Z"
   },
   {
    "duration": 10,
    "start_time": "2023-02-15T10:37:51.649Z"
   },
   {
    "duration": 43,
    "start_time": "2023-02-15T10:37:51.661Z"
   },
   {
    "duration": 25,
    "start_time": "2023-02-15T10:37:51.706Z"
   },
   {
    "duration": 20,
    "start_time": "2023-02-15T10:37:51.733Z"
   },
   {
    "duration": 25,
    "start_time": "2023-02-15T10:37:51.755Z"
   },
   {
    "duration": 35,
    "start_time": "2023-02-15T10:37:51.782Z"
   },
   {
    "duration": 59,
    "start_time": "2023-02-15T10:37:51.819Z"
   },
   {
    "duration": 1647,
    "start_time": "2023-02-15T10:37:51.880Z"
   },
   {
    "duration": 1075,
    "start_time": "2023-02-15T10:37:53.529Z"
   },
   {
    "duration": 7,
    "start_time": "2023-02-15T10:37:54.606Z"
   },
   {
    "duration": 28,
    "start_time": "2023-02-15T10:37:54.615Z"
   },
   {
    "duration": 9,
    "start_time": "2023-02-15T10:37:54.645Z"
   },
   {
    "duration": 9,
    "start_time": "2023-02-15T10:37:54.656Z"
   },
   {
    "duration": 5,
    "start_time": "2023-02-15T10:37:54.667Z"
   },
   {
    "duration": 80,
    "start_time": "2023-02-15T10:37:54.674Z"
   },
   {
    "duration": 78,
    "start_time": "2023-02-15T10:38:24.364Z"
   },
   {
    "duration": 71,
    "start_time": "2023-02-15T10:39:11.961Z"
   },
   {
    "duration": 76,
    "start_time": "2023-02-15T10:39:36.079Z"
   },
   {
    "duration": 615,
    "start_time": "2023-02-15T10:53:09.433Z"
   },
   {
    "duration": 74,
    "start_time": "2023-02-15T10:53:10.050Z"
   },
   {
    "duration": 15,
    "start_time": "2023-02-15T10:53:10.126Z"
   },
   {
    "duration": 24,
    "start_time": "2023-02-15T10:53:10.143Z"
   },
   {
    "duration": 47,
    "start_time": "2023-02-15T10:53:10.169Z"
   },
   {
    "duration": 15,
    "start_time": "2023-02-15T10:53:10.217Z"
   },
   {
    "duration": 18,
    "start_time": "2023-02-15T10:53:10.234Z"
   },
   {
    "duration": 13,
    "start_time": "2023-02-15T10:53:10.253Z"
   },
   {
    "duration": 39,
    "start_time": "2023-02-15T10:53:10.268Z"
   },
   {
    "duration": 10,
    "start_time": "2023-02-15T10:53:10.310Z"
   },
   {
    "duration": 10,
    "start_time": "2023-02-15T10:53:10.321Z"
   },
   {
    "duration": 7,
    "start_time": "2023-02-15T10:53:10.332Z"
   },
   {
    "duration": 7,
    "start_time": "2023-02-15T10:53:10.341Z"
   },
   {
    "duration": 7,
    "start_time": "2023-02-15T10:53:10.350Z"
   },
   {
    "duration": 44,
    "start_time": "2023-02-15T10:53:10.360Z"
   },
   {
    "duration": 23,
    "start_time": "2023-02-15T10:53:10.406Z"
   },
   {
    "duration": 51,
    "start_time": "2023-02-15T10:53:10.430Z"
   },
   {
    "duration": 1679,
    "start_time": "2023-02-15T10:53:10.482Z"
   },
   {
    "duration": 997,
    "start_time": "2023-02-15T10:53:12.162Z"
   },
   {
    "duration": 7,
    "start_time": "2023-02-15T10:53:13.161Z"
   },
   {
    "duration": 41,
    "start_time": "2023-02-15T10:53:13.169Z"
   },
   {
    "duration": 8,
    "start_time": "2023-02-15T10:53:13.212Z"
   },
   {
    "duration": 8,
    "start_time": "2023-02-15T10:53:13.222Z"
   },
   {
    "duration": 5,
    "start_time": "2023-02-15T10:53:13.232Z"
   },
   {
    "duration": 103,
    "start_time": "2023-02-15T10:53:13.239Z"
   },
   {
    "duration": 94,
    "start_time": "2023-02-15T10:53:13.344Z"
   },
   {
    "duration": 53,
    "start_time": "2023-02-15T10:54:56.776Z"
   },
   {
    "duration": 45,
    "start_time": "2023-02-15T10:55:09.333Z"
   },
   {
    "duration": 632,
    "start_time": "2023-02-15T10:58:36.129Z"
   },
   {
    "duration": 81,
    "start_time": "2023-02-15T10:58:36.764Z"
   },
   {
    "duration": 14,
    "start_time": "2023-02-15T10:58:36.847Z"
   },
   {
    "duration": 16,
    "start_time": "2023-02-15T10:58:36.863Z"
   },
   {
    "duration": 43,
    "start_time": "2023-02-15T10:58:36.881Z"
   },
   {
    "duration": 14,
    "start_time": "2023-02-15T10:58:36.926Z"
   },
   {
    "duration": 17,
    "start_time": "2023-02-15T10:58:36.942Z"
   },
   {
    "duration": 13,
    "start_time": "2023-02-15T10:58:36.961Z"
   },
   {
    "duration": 35,
    "start_time": "2023-02-15T10:58:36.976Z"
   },
   {
    "duration": 10,
    "start_time": "2023-02-15T10:58:37.013Z"
   },
   {
    "duration": 10,
    "start_time": "2023-02-15T10:58:37.025Z"
   },
   {
    "duration": 7,
    "start_time": "2023-02-15T10:58:37.036Z"
   },
   {
    "duration": 10,
    "start_time": "2023-02-15T10:58:37.045Z"
   },
   {
    "duration": 6,
    "start_time": "2023-02-15T10:58:37.057Z"
   },
   {
    "duration": 38,
    "start_time": "2023-02-15T10:58:37.065Z"
   },
   {
    "duration": 20,
    "start_time": "2023-02-15T10:58:37.105Z"
   },
   {
    "duration": 55,
    "start_time": "2023-02-15T10:58:37.126Z"
   },
   {
    "duration": 1622,
    "start_time": "2023-02-15T10:58:37.183Z"
   },
   {
    "duration": 969,
    "start_time": "2023-02-15T10:58:38.806Z"
   },
   {
    "duration": 7,
    "start_time": "2023-02-15T10:58:39.777Z"
   },
   {
    "duration": 39,
    "start_time": "2023-02-15T10:58:39.785Z"
   },
   {
    "duration": 9,
    "start_time": "2023-02-15T10:58:39.825Z"
   },
   {
    "duration": 8,
    "start_time": "2023-02-15T10:58:39.836Z"
   },
   {
    "duration": 8,
    "start_time": "2023-02-15T10:58:39.846Z"
   },
   {
    "duration": 152035,
    "start_time": "2023-02-15T10:58:39.856Z"
   },
   {
    "duration": 51,
    "start_time": "2023-02-15T11:04:20.601Z"
   },
   {
    "duration": 72,
    "start_time": "2023-02-15T11:05:42.040Z"
   },
   {
    "duration": 14,
    "start_time": "2023-02-15T11:06:11.235Z"
   },
   {
    "duration": 10,
    "start_time": "2023-02-15T11:06:34.720Z"
   },
   {
    "duration": 8,
    "start_time": "2023-02-15T11:10:58.521Z"
   },
   {
    "duration": 10,
    "start_time": "2023-02-15T11:14:49.715Z"
   },
   {
    "duration": 15,
    "start_time": "2023-02-15T11:18:52.274Z"
   },
   {
    "duration": 17,
    "start_time": "2023-02-15T11:19:06.292Z"
   },
   {
    "duration": 5,
    "start_time": "2023-02-15T11:19:25.167Z"
   },
   {
    "duration": 15,
    "start_time": "2023-02-15T11:19:40.504Z"
   },
   {
    "duration": 17,
    "start_time": "2023-02-15T11:20:19.299Z"
   },
   {
    "duration": 8,
    "start_time": "2023-02-15T11:23:08.125Z"
   },
   {
    "duration": 12,
    "start_time": "2023-02-15T11:27:07.248Z"
   },
   {
    "duration": 9,
    "start_time": "2023-02-15T11:28:07.493Z"
   },
   {
    "duration": 13,
    "start_time": "2023-02-15T11:28:43.100Z"
   },
   {
    "duration": 18,
    "start_time": "2023-02-15T11:30:03.465Z"
   },
   {
    "duration": 4,
    "start_time": "2023-02-15T11:34:19.734Z"
   },
   {
    "duration": 20,
    "start_time": "2023-02-15T11:34:28.014Z"
   },
   {
    "duration": 17,
    "start_time": "2023-02-15T11:34:34.169Z"
   },
   {
    "duration": 784,
    "start_time": "2023-02-15T11:35:10.688Z"
   },
   {
    "duration": 79,
    "start_time": "2023-02-15T11:35:11.475Z"
   },
   {
    "duration": 16,
    "start_time": "2023-02-15T11:35:11.556Z"
   },
   {
    "duration": 16,
    "start_time": "2023-02-15T11:35:11.575Z"
   },
   {
    "duration": 46,
    "start_time": "2023-02-15T11:35:11.608Z"
   },
   {
    "duration": 16,
    "start_time": "2023-02-15T11:35:11.656Z"
   },
   {
    "duration": 19,
    "start_time": "2023-02-15T11:35:11.674Z"
   },
   {
    "duration": 29,
    "start_time": "2023-02-15T11:35:11.695Z"
   },
   {
    "duration": 11,
    "start_time": "2023-02-15T11:35:11.727Z"
   },
   {
    "duration": 11,
    "start_time": "2023-02-15T11:35:11.741Z"
   },
   {
    "duration": 10,
    "start_time": "2023-02-15T11:35:11.754Z"
   },
   {
    "duration": 10,
    "start_time": "2023-02-15T11:35:11.766Z"
   },
   {
    "duration": 39,
    "start_time": "2023-02-15T11:35:11.778Z"
   },
   {
    "duration": 7,
    "start_time": "2023-02-15T11:35:11.819Z"
   },
   {
    "duration": 6,
    "start_time": "2023-02-15T11:35:11.828Z"
   },
   {
    "duration": 24,
    "start_time": "2023-02-15T11:35:11.835Z"
   },
   {
    "duration": 86,
    "start_time": "2023-02-15T11:35:11.861Z"
   },
   {
    "duration": 1932,
    "start_time": "2023-02-15T11:35:11.949Z"
   },
   {
    "duration": 1150,
    "start_time": "2023-02-15T11:35:13.883Z"
   },
   {
    "duration": 8,
    "start_time": "2023-02-15T11:35:15.035Z"
   },
   {
    "duration": 48,
    "start_time": "2023-02-15T11:35:15.045Z"
   },
   {
    "duration": 21,
    "start_time": "2023-02-15T11:35:15.095Z"
   },
   {
    "duration": 15,
    "start_time": "2023-02-15T11:35:15.118Z"
   },
   {
    "duration": 12,
    "start_time": "2023-02-15T11:35:15.135Z"
   },
   {
    "duration": 36,
    "start_time": "2023-02-15T11:35:15.149Z"
   },
   {
    "duration": 103,
    "start_time": "2023-02-15T11:35:15.187Z"
   },
   {
    "duration": 20,
    "start_time": "2023-02-15T11:36:06.256Z"
   },
   {
    "duration": 683,
    "start_time": "2023-02-15T11:36:28.251Z"
   },
   {
    "duration": 83,
    "start_time": "2023-02-15T11:36:28.936Z"
   },
   {
    "duration": 15,
    "start_time": "2023-02-15T11:36:29.021Z"
   },
   {
    "duration": 17,
    "start_time": "2023-02-15T11:36:29.038Z"
   },
   {
    "duration": 36,
    "start_time": "2023-02-15T11:36:29.057Z"
   },
   {
    "duration": 26,
    "start_time": "2023-02-15T11:36:29.104Z"
   },
   {
    "duration": 20,
    "start_time": "2023-02-15T11:36:29.132Z"
   },
   {
    "duration": 15,
    "start_time": "2023-02-15T11:36:29.154Z"
   },
   {
    "duration": 50,
    "start_time": "2023-02-15T11:36:29.171Z"
   },
   {
    "duration": 11,
    "start_time": "2023-02-15T11:36:29.224Z"
   },
   {
    "duration": 19,
    "start_time": "2023-02-15T11:36:29.237Z"
   },
   {
    "duration": 12,
    "start_time": "2023-02-15T11:36:29.257Z"
   },
   {
    "duration": 10,
    "start_time": "2023-02-15T11:36:29.270Z"
   },
   {
    "duration": 22,
    "start_time": "2023-02-15T11:36:29.282Z"
   },
   {
    "duration": 11,
    "start_time": "2023-02-15T11:36:29.312Z"
   },
   {
    "duration": 27,
    "start_time": "2023-02-15T11:36:29.324Z"
   },
   {
    "duration": 68,
    "start_time": "2023-02-15T11:36:29.353Z"
   },
   {
    "duration": 1824,
    "start_time": "2023-02-15T11:36:29.423Z"
   },
   {
    "duration": 1105,
    "start_time": "2023-02-15T11:36:31.249Z"
   },
   {
    "duration": 9,
    "start_time": "2023-02-15T11:36:32.355Z"
   },
   {
    "duration": 41,
    "start_time": "2023-02-15T11:36:32.365Z"
   },
   {
    "duration": 15,
    "start_time": "2023-02-15T11:36:32.408Z"
   },
   {
    "duration": 12,
    "start_time": "2023-02-15T11:36:32.425Z"
   },
   {
    "duration": 26,
    "start_time": "2023-02-15T11:36:32.439Z"
   },
   {
    "duration": 23,
    "start_time": "2023-02-15T11:36:32.467Z"
   },
   {
    "duration": 84,
    "start_time": "2023-02-15T11:36:32.492Z"
   },
   {
    "duration": 25,
    "start_time": "2023-02-15T11:36:45.560Z"
   },
   {
    "duration": 202,
    "start_time": "2023-02-15T11:38:51.982Z"
   },
   {
    "duration": 221,
    "start_time": "2023-02-15T12:11:25.422Z"
   },
   {
    "duration": 15,
    "start_time": "2023-02-15T12:14:38.880Z"
   },
   {
    "duration": 46,
    "start_time": "2023-02-15T12:14:49.387Z"
   },
   {
    "duration": 722,
    "start_time": "2023-02-15T12:15:05.039Z"
   },
   {
    "duration": 83,
    "start_time": "2023-02-15T12:15:05.763Z"
   },
   {
    "duration": 16,
    "start_time": "2023-02-15T12:15:05.848Z"
   },
   {
    "duration": 16,
    "start_time": "2023-02-15T12:15:05.865Z"
   },
   {
    "duration": 49,
    "start_time": "2023-02-15T12:15:05.883Z"
   },
   {
    "duration": 34,
    "start_time": "2023-02-15T12:15:05.937Z"
   },
   {
    "duration": 57,
    "start_time": "2023-02-15T12:15:05.973Z"
   },
   {
    "duration": 37,
    "start_time": "2023-02-15T12:15:06.038Z"
   },
   {
    "duration": 13,
    "start_time": "2023-02-15T12:15:06.077Z"
   },
   {
    "duration": 26,
    "start_time": "2023-02-15T12:15:06.092Z"
   },
   {
    "duration": 42,
    "start_time": "2023-02-15T12:15:06.121Z"
   },
   {
    "duration": 13,
    "start_time": "2023-02-15T12:15:06.165Z"
   },
   {
    "duration": 10,
    "start_time": "2023-02-15T12:15:06.179Z"
   },
   {
    "duration": 17,
    "start_time": "2023-02-15T12:15:06.192Z"
   },
   {
    "duration": 38,
    "start_time": "2023-02-15T12:15:06.212Z"
   },
   {
    "duration": 25,
    "start_time": "2023-02-15T12:15:06.251Z"
   },
   {
    "duration": 71,
    "start_time": "2023-02-15T12:15:06.277Z"
   },
   {
    "duration": 1855,
    "start_time": "2023-02-15T12:15:06.350Z"
   },
   {
    "duration": 1094,
    "start_time": "2023-02-15T12:15:08.213Z"
   },
   {
    "duration": 7,
    "start_time": "2023-02-15T12:15:09.309Z"
   },
   {
    "duration": 47,
    "start_time": "2023-02-15T12:15:09.318Z"
   },
   {
    "duration": 15,
    "start_time": "2023-02-15T12:15:09.366Z"
   },
   {
    "duration": 24,
    "start_time": "2023-02-15T12:15:09.383Z"
   },
   {
    "duration": 36,
    "start_time": "2023-02-15T12:15:09.410Z"
   },
   {
    "duration": 31,
    "start_time": "2023-02-15T12:15:09.448Z"
   },
   {
    "duration": 51,
    "start_time": "2023-02-15T12:15:09.481Z"
   },
   {
    "duration": 176,
    "start_time": "2023-02-15T12:15:09.535Z"
   },
   {
    "duration": 1011,
    "start_time": "2023-02-15T12:15:27.748Z"
   },
   {
    "duration": 2213,
    "start_time": "2023-02-15T12:16:34.746Z"
   },
   {
    "duration": 28,
    "start_time": "2023-02-15T12:17:25.764Z"
   },
   {
    "duration": 854,
    "start_time": "2023-02-15T12:17:37.917Z"
   },
   {
    "duration": 179,
    "start_time": "2023-02-15T12:21:40.442Z"
   },
   {
    "duration": 237,
    "start_time": "2023-02-15T12:22:04.557Z"
   },
   {
    "duration": 15,
    "start_time": "2023-02-15T12:29:33.617Z"
   },
   {
    "duration": 1039,
    "start_time": "2023-02-15T12:29:51.660Z"
   },
   {
    "duration": 230,
    "start_time": "2023-02-15T12:31:04.521Z"
   },
   {
    "duration": 883,
    "start_time": "2023-02-15T12:31:29.179Z"
   },
   {
    "duration": 237,
    "start_time": "2023-02-15T12:31:53.688Z"
   },
   {
    "duration": 275,
    "start_time": "2023-02-15T12:32:50.970Z"
   },
   {
    "duration": 367,
    "start_time": "2023-02-15T12:34:35.029Z"
   },
   {
    "duration": 354,
    "start_time": "2023-02-15T12:34:43.931Z"
   },
   {
    "duration": 365,
    "start_time": "2023-02-15T12:34:53.664Z"
   },
   {
    "duration": 1169,
    "start_time": "2023-02-15T15:26:41.956Z"
   },
   {
    "duration": 726,
    "start_time": "2023-02-15T15:26:43.132Z"
   },
   {
    "duration": 32,
    "start_time": "2023-02-15T15:26:43.860Z"
   },
   {
    "duration": 33,
    "start_time": "2023-02-15T15:26:43.895Z"
   },
   {
    "duration": 78,
    "start_time": "2023-02-15T15:26:43.931Z"
   },
   {
    "duration": 38,
    "start_time": "2023-02-15T15:26:44.011Z"
   },
   {
    "duration": 45,
    "start_time": "2023-02-15T15:26:44.058Z"
   },
   {
    "duration": 42,
    "start_time": "2023-02-15T15:26:44.105Z"
   },
   {
    "duration": 62,
    "start_time": "2023-02-15T15:26:44.148Z"
   },
   {
    "duration": 24,
    "start_time": "2023-02-15T15:26:44.212Z"
   },
   {
    "duration": 51,
    "start_time": "2023-02-15T15:26:44.239Z"
   },
   {
    "duration": 11,
    "start_time": "2023-02-15T15:26:44.293Z"
   },
   {
    "duration": 70,
    "start_time": "2023-02-15T15:26:44.306Z"
   },
   {
    "duration": 13,
    "start_time": "2023-02-15T15:26:44.380Z"
   },
   {
    "duration": 6,
    "start_time": "2023-02-15T15:26:44.396Z"
   },
   {
    "duration": 32,
    "start_time": "2023-02-15T15:26:44.404Z"
   },
   {
    "duration": 85,
    "start_time": "2023-02-15T15:26:44.437Z"
   },
   {
    "duration": 2607,
    "start_time": "2023-02-15T15:26:44.530Z"
   },
   {
    "duration": 1425,
    "start_time": "2023-02-15T15:26:47.142Z"
   },
   {
    "duration": 24,
    "start_time": "2023-02-15T15:26:48.573Z"
   },
   {
    "duration": 102,
    "start_time": "2023-02-15T15:26:48.605Z"
   },
   {
    "duration": 11,
    "start_time": "2023-02-15T15:26:48.708Z"
   },
   {
    "duration": 60,
    "start_time": "2023-02-15T15:26:48.724Z"
   },
   {
    "duration": 15,
    "start_time": "2023-02-15T15:26:48.786Z"
   },
   {
    "duration": 53,
    "start_time": "2023-02-15T15:26:48.804Z"
   },
   {
    "duration": 45,
    "start_time": "2023-02-15T15:26:48.859Z"
   },
   {
    "duration": 375,
    "start_time": "2023-02-15T15:26:48.907Z"
   },
   {
    "duration": 41,
    "start_time": "2023-02-15T15:37:37.258Z"
   },
   {
    "duration": 48,
    "start_time": "2023-02-15T15:46:08.537Z"
   },
   {
    "duration": 102,
    "start_time": "2023-02-15T15:47:22.268Z"
   },
   {
    "duration": 723,
    "start_time": "2023-02-15T15:47:37.961Z"
   },
   {
    "duration": 92,
    "start_time": "2023-02-15T15:47:38.686Z"
   },
   {
    "duration": 14,
    "start_time": "2023-02-15T15:47:38.780Z"
   },
   {
    "duration": 14,
    "start_time": "2023-02-15T15:47:38.795Z"
   },
   {
    "duration": 30,
    "start_time": "2023-02-15T15:47:38.824Z"
   },
   {
    "duration": 40,
    "start_time": "2023-02-15T15:47:38.856Z"
   },
   {
    "duration": 17,
    "start_time": "2023-02-15T15:47:38.898Z"
   },
   {
    "duration": 22,
    "start_time": "2023-02-15T15:47:38.917Z"
   },
   {
    "duration": 25,
    "start_time": "2023-02-15T15:47:38.953Z"
   },
   {
    "duration": 11,
    "start_time": "2023-02-15T15:47:38.980Z"
   },
   {
    "duration": 9,
    "start_time": "2023-02-15T15:47:38.993Z"
   },
   {
    "duration": 8,
    "start_time": "2023-02-15T15:47:39.003Z"
   },
   {
    "duration": 7,
    "start_time": "2023-02-15T15:47:39.012Z"
   },
   {
    "duration": 44,
    "start_time": "2023-02-15T15:47:39.023Z"
   },
   {
    "duration": 15,
    "start_time": "2023-02-15T15:47:39.069Z"
   },
   {
    "duration": 25,
    "start_time": "2023-02-15T15:47:39.085Z"
   },
   {
    "duration": 73,
    "start_time": "2023-02-15T15:47:39.111Z"
   },
   {
    "duration": 1807,
    "start_time": "2023-02-15T15:47:39.185Z"
   },
   {
    "duration": 1056,
    "start_time": "2023-02-15T15:47:40.994Z"
   },
   {
    "duration": 7,
    "start_time": "2023-02-15T15:47:42.052Z"
   },
   {
    "duration": 32,
    "start_time": "2023-02-15T15:47:42.060Z"
   },
   {
    "duration": 8,
    "start_time": "2023-02-15T15:47:42.094Z"
   },
   {
    "duration": 4,
    "start_time": "2023-02-15T15:47:42.104Z"
   },
   {
    "duration": 12,
    "start_time": "2023-02-15T15:47:42.110Z"
   },
   {
    "duration": 60,
    "start_time": "2023-02-15T15:47:42.130Z"
   },
   {
    "duration": 24,
    "start_time": "2023-02-15T15:47:42.192Z"
   },
   {
    "duration": 286,
    "start_time": "2023-02-15T15:47:42.218Z"
   },
   {
    "duration": 25,
    "start_time": "2023-02-15T15:47:42.506Z"
   },
   {
    "duration": 37,
    "start_time": "2023-02-15T15:47:42.536Z"
   },
   {
    "duration": 596,
    "start_time": "2023-02-15T15:47:42.574Z"
   },
   {
    "duration": 395,
    "start_time": "2023-02-15T15:48:03.895Z"
   },
   {
    "duration": 323,
    "start_time": "2023-02-15T16:04:52.616Z"
   },
   {
    "duration": 111,
    "start_time": "2023-02-15T16:05:26.406Z"
   },
   {
    "duration": 112,
    "start_time": "2023-02-15T16:05:44.074Z"
   },
   {
    "duration": 121,
    "start_time": "2023-02-15T16:06:56.193Z"
   },
   {
    "duration": 142,
    "start_time": "2023-02-15T16:06:57.605Z"
   },
   {
    "duration": 114,
    "start_time": "2023-02-15T16:06:58.563Z"
   },
   {
    "duration": 112,
    "start_time": "2023-02-15T16:06:59.957Z"
   },
   {
    "duration": 249,
    "start_time": "2023-02-15T16:16:57.818Z"
   },
   {
    "duration": 136,
    "start_time": "2023-02-15T16:18:14.280Z"
   },
   {
    "duration": 14,
    "start_time": "2023-02-15T16:18:42.507Z"
   },
   {
    "duration": 326,
    "start_time": "2023-02-15T16:19:46.688Z"
   },
   {
    "duration": 118,
    "start_time": "2023-02-15T16:20:15.793Z"
   },
   {
    "duration": 14,
    "start_time": "2023-02-15T16:20:56.544Z"
   },
   {
    "duration": 132,
    "start_time": "2023-02-15T16:21:01.955Z"
   },
   {
    "duration": 121,
    "start_time": "2023-02-15T16:22:42.849Z"
   },
   {
    "duration": 109,
    "start_time": "2023-02-15T16:22:48.910Z"
   },
   {
    "duration": 114,
    "start_time": "2023-02-15T16:22:49.678Z"
   },
   {
    "duration": 138,
    "start_time": "2023-02-15T16:22:50.454Z"
   },
   {
    "duration": 127,
    "start_time": "2023-02-15T16:22:51.155Z"
   },
   {
    "duration": 133,
    "start_time": "2023-02-15T16:26:51.094Z"
   },
   {
    "duration": 107,
    "start_time": "2023-02-15T16:29:02.497Z"
   },
   {
    "duration": 28,
    "start_time": "2023-02-15T16:31:28.911Z"
   },
   {
    "duration": 20,
    "start_time": "2023-02-15T16:32:08.049Z"
   },
   {
    "duration": 243,
    "start_time": "2023-02-15T16:33:15.205Z"
   },
   {
    "duration": 12,
    "start_time": "2023-02-15T16:33:25.689Z"
   },
   {
    "duration": 754,
    "start_time": "2023-02-15T17:03:47.226Z"
   },
   {
    "duration": 90,
    "start_time": "2023-02-15T17:03:47.982Z"
   },
   {
    "duration": 16,
    "start_time": "2023-02-15T17:03:48.074Z"
   },
   {
    "duration": 14,
    "start_time": "2023-02-15T17:03:48.092Z"
   },
   {
    "duration": 45,
    "start_time": "2023-02-15T17:03:48.109Z"
   },
   {
    "duration": 18,
    "start_time": "2023-02-15T17:03:48.162Z"
   },
   {
    "duration": 18,
    "start_time": "2023-02-15T17:03:48.182Z"
   },
   {
    "duration": 31,
    "start_time": "2023-02-15T17:03:48.202Z"
   },
   {
    "duration": 41,
    "start_time": "2023-02-15T17:03:48.235Z"
   },
   {
    "duration": 13,
    "start_time": "2023-02-15T17:03:48.278Z"
   },
   {
    "duration": 10,
    "start_time": "2023-02-15T17:03:48.292Z"
   },
   {
    "duration": 8,
    "start_time": "2023-02-15T17:03:48.304Z"
   },
   {
    "duration": 46,
    "start_time": "2023-02-15T17:03:48.313Z"
   },
   {
    "duration": 8,
    "start_time": "2023-02-15T17:03:48.364Z"
   },
   {
    "duration": 14,
    "start_time": "2023-02-15T17:03:48.373Z"
   },
   {
    "duration": 30,
    "start_time": "2023-02-15T17:03:48.389Z"
   },
   {
    "duration": 73,
    "start_time": "2023-02-15T17:03:48.420Z"
   },
   {
    "duration": 1768,
    "start_time": "2023-02-15T17:03:48.495Z"
   },
   {
    "duration": 1017,
    "start_time": "2023-02-15T17:03:50.264Z"
   },
   {
    "duration": 8,
    "start_time": "2023-02-15T17:03:51.282Z"
   },
   {
    "duration": 53,
    "start_time": "2023-02-15T17:03:51.292Z"
   },
   {
    "duration": 8,
    "start_time": "2023-02-15T17:03:51.350Z"
   },
   {
    "duration": 9,
    "start_time": "2023-02-15T17:03:51.359Z"
   },
   {
    "duration": 6,
    "start_time": "2023-02-15T17:03:51.370Z"
   },
   {
    "duration": 26,
    "start_time": "2023-02-15T17:03:51.378Z"
   },
   {
    "duration": 46,
    "start_time": "2023-02-15T17:03:51.406Z"
   },
   {
    "duration": 290,
    "start_time": "2023-02-15T17:03:51.453Z"
   },
   {
    "duration": 25,
    "start_time": "2023-02-15T17:03:51.745Z"
   },
   {
    "duration": 37,
    "start_time": "2023-02-15T17:03:51.772Z"
   },
   {
    "duration": 363,
    "start_time": "2023-02-15T17:03:51.811Z"
   },
   {
    "duration": 89,
    "start_time": "2023-02-15T17:03:52.175Z"
   },
   {
    "duration": 0,
    "start_time": "2023-02-15T17:03:52.265Z"
   },
   {
    "duration": 0,
    "start_time": "2023-02-15T17:03:52.267Z"
   },
   {
    "duration": 0,
    "start_time": "2023-02-15T17:03:52.267Z"
   },
   {
    "duration": 0,
    "start_time": "2023-02-15T17:03:52.269Z"
   },
   {
    "duration": 101,
    "start_time": "2023-02-15T17:04:09.699Z"
   },
   {
    "duration": 100,
    "start_time": "2023-02-15T17:04:31.562Z"
   },
   {
    "duration": 117,
    "start_time": "2023-02-15T17:04:38.614Z"
   },
   {
    "duration": 124,
    "start_time": "2023-02-15T17:04:40.893Z"
   },
   {
    "duration": 147,
    "start_time": "2023-02-15T17:04:42.004Z"
   },
   {
    "duration": 1149,
    "start_time": "2023-02-15T20:02:53.168Z"
   },
   {
    "duration": 257,
    "start_time": "2023-02-15T20:02:54.320Z"
   },
   {
    "duration": 20,
    "start_time": "2023-02-15T20:02:54.578Z"
   },
   {
    "duration": 18,
    "start_time": "2023-02-15T20:02:54.601Z"
   },
   {
    "duration": 42,
    "start_time": "2023-02-15T20:02:54.621Z"
   },
   {
    "duration": 12,
    "start_time": "2023-02-15T20:02:54.665Z"
   },
   {
    "duration": 17,
    "start_time": "2023-02-15T20:02:54.679Z"
   },
   {
    "duration": 14,
    "start_time": "2023-02-15T20:02:54.697Z"
   },
   {
    "duration": 52,
    "start_time": "2023-02-15T20:02:54.713Z"
   },
   {
    "duration": 12,
    "start_time": "2023-02-15T20:02:54.768Z"
   },
   {
    "duration": 11,
    "start_time": "2023-02-15T20:02:54.781Z"
   },
   {
    "duration": 12,
    "start_time": "2023-02-15T20:02:54.794Z"
   },
   {
    "duration": 15,
    "start_time": "2023-02-15T20:02:54.808Z"
   },
   {
    "duration": 8,
    "start_time": "2023-02-15T20:02:54.825Z"
   },
   {
    "duration": 8,
    "start_time": "2023-02-15T20:02:54.834Z"
   },
   {
    "duration": 28,
    "start_time": "2023-02-15T20:02:54.850Z"
   },
   {
    "duration": 80,
    "start_time": "2023-02-15T20:02:54.880Z"
   },
   {
    "duration": 1829,
    "start_time": "2023-02-15T20:02:54.965Z"
   },
   {
    "duration": 1084,
    "start_time": "2023-02-15T20:02:56.796Z"
   },
   {
    "duration": 7,
    "start_time": "2023-02-15T20:02:57.883Z"
   },
   {
    "duration": 28,
    "start_time": "2023-02-15T20:02:57.892Z"
   },
   {
    "duration": 45,
    "start_time": "2023-02-15T20:02:57.922Z"
   },
   {
    "duration": 7,
    "start_time": "2023-02-15T20:02:57.969Z"
   },
   {
    "duration": 5,
    "start_time": "2023-02-15T20:02:57.977Z"
   },
   {
    "duration": 27,
    "start_time": "2023-02-15T20:02:57.984Z"
   },
   {
    "duration": 53,
    "start_time": "2023-02-15T20:02:58.013Z"
   },
   {
    "duration": 253,
    "start_time": "2023-02-15T20:02:58.068Z"
   },
   {
    "duration": 28,
    "start_time": "2023-02-15T20:02:58.324Z"
   },
   {
    "duration": 52,
    "start_time": "2023-02-15T20:02:58.354Z"
   },
   {
    "duration": 375,
    "start_time": "2023-02-15T20:02:58.409Z"
   },
   {
    "duration": 117,
    "start_time": "2023-02-15T20:02:58.785Z"
   },
   {
    "duration": 151,
    "start_time": "2023-02-15T20:02:58.904Z"
   },
   {
    "duration": 160,
    "start_time": "2023-02-15T20:02:59.057Z"
   },
   {
    "duration": 150,
    "start_time": "2023-02-15T20:02:59.219Z"
   },
   {
    "duration": 132,
    "start_time": "2023-02-15T20:02:59.371Z"
   },
   {
    "duration": 7,
    "start_time": "2023-02-15T20:02:59.504Z"
   },
   {
    "duration": 1626,
    "start_time": "2023-02-15T20:07:20.450Z"
   },
   {
    "duration": 217,
    "start_time": "2023-02-15T20:07:47.056Z"
   },
   {
    "duration": 242,
    "start_time": "2023-02-15T20:16:54.193Z"
   },
   {
    "duration": 12,
    "start_time": "2023-02-15T20:17:59.643Z"
   },
   {
    "duration": 286,
    "start_time": "2023-02-15T20:18:04.874Z"
   },
   {
    "duration": 18,
    "start_time": "2023-02-15T20:24:36.195Z"
   },
   {
    "duration": 71,
    "start_time": "2023-02-15T20:25:55.571Z"
   },
   {
    "duration": 41,
    "start_time": "2023-02-15T20:26:22.382Z"
   },
   {
    "duration": 6,
    "start_time": "2023-02-15T20:51:27.208Z"
   },
   {
    "duration": 7,
    "start_time": "2023-02-15T21:08:09.966Z"
   },
   {
    "duration": 8,
    "start_time": "2023-02-15T21:08:47.434Z"
   },
   {
    "duration": 7,
    "start_time": "2023-02-15T21:08:48.881Z"
   },
   {
    "duration": 7,
    "start_time": "2023-02-15T21:14:38.233Z"
   },
   {
    "duration": 9,
    "start_time": "2023-02-15T21:14:43.609Z"
   },
   {
    "duration": 8,
    "start_time": "2023-02-15T21:14:46.396Z"
   },
   {
    "duration": 26,
    "start_time": "2023-02-15T21:15:39.825Z"
   },
   {
    "duration": 9,
    "start_time": "2023-02-15T21:15:59.735Z"
   },
   {
    "duration": 9,
    "start_time": "2023-02-15T21:19:43.478Z"
   },
   {
    "duration": 8,
    "start_time": "2023-02-15T21:19:45.517Z"
   },
   {
    "duration": 8,
    "start_time": "2023-02-15T21:19:48.038Z"
   },
   {
    "duration": 7,
    "start_time": "2023-02-15T21:31:23.883Z"
   },
   {
    "duration": 9,
    "start_time": "2023-02-15T21:31:35.082Z"
   },
   {
    "duration": 8,
    "start_time": "2023-02-15T21:32:06.886Z"
   },
   {
    "duration": 8,
    "start_time": "2023-02-15T21:32:18.785Z"
   },
   {
    "duration": 14,
    "start_time": "2023-02-15T21:32:27.557Z"
   },
   {
    "duration": 8,
    "start_time": "2023-02-15T21:33:10.793Z"
   },
   {
    "duration": 11,
    "start_time": "2023-02-15T21:33:51.408Z"
   },
   {
    "duration": 8,
    "start_time": "2023-02-15T21:34:05.689Z"
   },
   {
    "duration": 13,
    "start_time": "2023-02-15T21:34:17.776Z"
   },
   {
    "duration": 6,
    "start_time": "2023-02-15T21:34:35.441Z"
   },
   {
    "duration": 8,
    "start_time": "2023-02-15T21:35:11.820Z"
   },
   {
    "duration": 7,
    "start_time": "2023-02-15T21:35:15.975Z"
   },
   {
    "duration": 9,
    "start_time": "2023-02-15T21:41:58.772Z"
   },
   {
    "duration": 8,
    "start_time": "2023-02-15T21:42:00.106Z"
   },
   {
    "duration": 8,
    "start_time": "2023-02-15T21:42:04.478Z"
   },
   {
    "duration": 7,
    "start_time": "2023-02-15T21:58:03.518Z"
   },
   {
    "duration": 7,
    "start_time": "2023-02-15T22:02:33.984Z"
   },
   {
    "duration": 7,
    "start_time": "2023-02-15T22:02:49.180Z"
   },
   {
    "duration": 7,
    "start_time": "2023-02-15T22:03:30.482Z"
   },
   {
    "duration": 288,
    "start_time": "2023-02-15T22:03:39.919Z"
   },
   {
    "duration": 9,
    "start_time": "2023-02-15T22:04:15.615Z"
   },
   {
    "duration": 12,
    "start_time": "2023-02-15T22:04:38.242Z"
   },
   {
    "duration": 13,
    "start_time": "2023-02-15T22:04:39.305Z"
   },
   {
    "duration": 754,
    "start_time": "2023-02-18T11:03:58.687Z"
   },
   {
    "duration": 112,
    "start_time": "2023-02-18T11:03:59.443Z"
   },
   {
    "duration": 14,
    "start_time": "2023-02-18T11:03:59.556Z"
   },
   {
    "duration": 13,
    "start_time": "2023-02-18T11:03:59.572Z"
   },
   {
    "duration": 23,
    "start_time": "2023-02-18T11:03:59.587Z"
   },
   {
    "duration": 22,
    "start_time": "2023-02-18T11:03:59.612Z"
   },
   {
    "duration": 16,
    "start_time": "2023-02-18T11:03:59.635Z"
   },
   {
    "duration": 11,
    "start_time": "2023-02-18T11:03:59.653Z"
   },
   {
    "duration": 7,
    "start_time": "2023-02-18T11:03:59.666Z"
   },
   {
    "duration": 9,
    "start_time": "2023-02-18T11:03:59.676Z"
   },
   {
    "duration": 20,
    "start_time": "2023-02-18T11:03:59.686Z"
   },
   {
    "duration": 7,
    "start_time": "2023-02-18T11:03:59.727Z"
   },
   {
    "duration": 6,
    "start_time": "2023-02-18T11:03:59.735Z"
   },
   {
    "duration": 5,
    "start_time": "2023-02-18T11:03:59.743Z"
   },
   {
    "duration": 4,
    "start_time": "2023-02-18T11:03:59.749Z"
   },
   {
    "duration": 20,
    "start_time": "2023-02-18T11:03:59.755Z"
   },
   {
    "duration": 78,
    "start_time": "2023-02-18T11:03:59.776Z"
   },
   {
    "duration": 1660,
    "start_time": "2023-02-18T11:03:59.855Z"
   },
   {
    "duration": 934,
    "start_time": "2023-02-18T11:04:01.517Z"
   },
   {
    "duration": 5,
    "start_time": "2023-02-18T11:04:02.453Z"
   },
   {
    "duration": 20,
    "start_time": "2023-02-18T11:04:02.460Z"
   },
   {
    "duration": 7,
    "start_time": "2023-02-18T11:04:02.482Z"
   },
   {
    "duration": 6,
    "start_time": "2023-02-18T11:04:02.490Z"
   },
   {
    "duration": 29,
    "start_time": "2023-02-18T11:04:02.498Z"
   },
   {
    "duration": 23,
    "start_time": "2023-02-18T11:04:02.529Z"
   },
   {
    "duration": 26,
    "start_time": "2023-02-18T11:04:02.553Z"
   },
   {
    "duration": 263,
    "start_time": "2023-02-18T11:04:02.580Z"
   },
   {
    "duration": 23,
    "start_time": "2023-02-18T11:04:02.848Z"
   },
   {
    "duration": 33,
    "start_time": "2023-02-18T11:04:02.873Z"
   },
   {
    "duration": 343,
    "start_time": "2023-02-18T11:04:02.908Z"
   },
   {
    "duration": 112,
    "start_time": "2023-02-18T11:04:03.254Z"
   },
   {
    "duration": 106,
    "start_time": "2023-02-18T11:04:03.367Z"
   },
   {
    "duration": 104,
    "start_time": "2023-02-18T11:04:03.475Z"
   },
   {
    "duration": 116,
    "start_time": "2023-02-18T11:04:03.581Z"
   },
   {
    "duration": 116,
    "start_time": "2023-02-18T11:04:03.698Z"
   },
   {
    "duration": 6,
    "start_time": "2023-02-18T11:04:03.826Z"
   },
   {
    "duration": 161,
    "start_time": "2023-02-18T11:04:03.834Z"
   },
   {
    "duration": 170,
    "start_time": "2023-02-18T11:04:03.997Z"
   },
   {
    "duration": 68,
    "start_time": "2023-02-18T11:04:04.168Z"
   },
   {
    "duration": 8,
    "start_time": "2023-02-18T11:04:04.238Z"
   },
   {
    "duration": 8,
    "start_time": "2023-02-18T11:04:04.247Z"
   },
   {
    "duration": 7,
    "start_time": "2023-02-18T11:04:04.256Z"
   },
   {
    "duration": 9,
    "start_time": "2023-02-18T11:04:04.265Z"
   },
   {
    "duration": 8,
    "start_time": "2023-02-18T11:04:04.275Z"
   },
   {
    "duration": 48,
    "start_time": "2023-02-18T11:04:04.285Z"
   },
   {
    "duration": 10,
    "start_time": "2023-02-18T11:04:04.335Z"
   },
   {
    "duration": 8,
    "start_time": "2023-02-18T11:04:04.347Z"
   },
   {
    "duration": 9,
    "start_time": "2023-02-18T11:04:04.356Z"
   },
   {
    "duration": 8,
    "start_time": "2023-02-18T11:04:04.366Z"
   },
   {
    "duration": 49,
    "start_time": "2023-02-18T11:07:14.743Z"
   },
   {
    "duration": 44,
    "start_time": "2023-02-18T11:08:16.605Z"
   },
   {
    "duration": 48,
    "start_time": "2023-02-18T11:08:55.413Z"
   },
   {
    "duration": 86,
    "start_time": "2023-02-18T11:09:31.474Z"
   },
   {
    "duration": 18,
    "start_time": "2023-02-18T11:09:50.981Z"
   },
   {
    "duration": 21,
    "start_time": "2023-02-18T11:10:23.513Z"
   },
   {
    "duration": 10,
    "start_time": "2023-02-18T11:12:06.908Z"
   },
   {
    "duration": 19,
    "start_time": "2023-02-18T11:17:52.728Z"
   },
   {
    "duration": 9,
    "start_time": "2023-02-18T11:19:28.903Z"
   },
   {
    "duration": 8,
    "start_time": "2023-02-18T11:19:40.960Z"
   },
   {
    "duration": 9,
    "start_time": "2023-02-18T11:23:00.175Z"
   },
   {
    "duration": 499,
    "start_time": "2023-02-18T11:51:04.088Z"
   },
   {
    "duration": 41,
    "start_time": "2023-02-18T11:51:05.944Z"
   },
   {
    "duration": 673,
    "start_time": "2023-02-18T11:52:42.565Z"
   },
   {
    "duration": 92,
    "start_time": "2023-02-18T11:52:43.241Z"
   },
   {
    "duration": 22,
    "start_time": "2023-02-18T11:52:43.336Z"
   },
   {
    "duration": 22,
    "start_time": "2023-02-18T11:52:43.361Z"
   },
   {
    "duration": 47,
    "start_time": "2023-02-18T11:52:43.387Z"
   },
   {
    "duration": 19,
    "start_time": "2023-02-18T11:52:43.436Z"
   },
   {
    "duration": 27,
    "start_time": "2023-02-18T11:52:43.457Z"
   },
   {
    "duration": 44,
    "start_time": "2023-02-18T11:52:43.487Z"
   },
   {
    "duration": 14,
    "start_time": "2023-02-18T11:52:43.533Z"
   },
   {
    "duration": 15,
    "start_time": "2023-02-18T11:52:43.549Z"
   },
   {
    "duration": 12,
    "start_time": "2023-02-18T11:52:43.567Z"
   },
   {
    "duration": 25,
    "start_time": "2023-02-18T11:52:43.581Z"
   },
   {
    "duration": 28,
    "start_time": "2023-02-18T11:52:43.608Z"
   },
   {
    "duration": 9,
    "start_time": "2023-02-18T11:52:43.641Z"
   },
   {
    "duration": 27,
    "start_time": "2023-02-18T11:52:43.652Z"
   },
   {
    "duration": 41,
    "start_time": "2023-02-18T11:52:43.681Z"
   },
   {
    "duration": 29,
    "start_time": "2023-02-18T11:52:43.726Z"
   },
   {
    "duration": 15,
    "start_time": "2023-02-18T11:52:43.757Z"
   },
   {
    "duration": 97,
    "start_time": "2023-02-18T11:52:43.774Z"
   },
   {
    "duration": 1937,
    "start_time": "2023-02-18T11:52:43.873Z"
   },
   {
    "duration": 1242,
    "start_time": "2023-02-18T11:52:45.812Z"
   },
   {
    "duration": 8,
    "start_time": "2023-02-18T11:52:47.056Z"
   },
   {
    "duration": 30,
    "start_time": "2023-02-18T11:52:47.066Z"
   },
   {
    "duration": 30,
    "start_time": "2023-02-18T11:52:47.098Z"
   },
   {
    "duration": 5,
    "start_time": "2023-02-18T11:52:47.131Z"
   },
   {
    "duration": 13,
    "start_time": "2023-02-18T11:52:47.138Z"
   },
   {
    "duration": 32,
    "start_time": "2023-02-18T11:52:47.153Z"
   },
   {
    "duration": 45,
    "start_time": "2023-02-18T11:52:47.187Z"
   },
   {
    "duration": 286,
    "start_time": "2023-02-18T11:52:47.234Z"
   },
   {
    "duration": 36,
    "start_time": "2023-02-18T11:52:47.522Z"
   },
   {
    "duration": 35,
    "start_time": "2023-02-18T11:52:47.560Z"
   },
   {
    "duration": 374,
    "start_time": "2023-02-18T11:52:47.597Z"
   },
   {
    "duration": 168,
    "start_time": "2023-02-18T11:52:47.972Z"
   },
   {
    "duration": 111,
    "start_time": "2023-02-18T11:52:48.143Z"
   },
   {
    "duration": 142,
    "start_time": "2023-02-18T11:52:48.256Z"
   },
   {
    "duration": 117,
    "start_time": "2023-02-18T11:52:48.400Z"
   },
   {
    "duration": 152,
    "start_time": "2023-02-18T11:52:48.519Z"
   },
   {
    "duration": 7,
    "start_time": "2023-02-18T11:52:48.672Z"
   },
   {
    "duration": 217,
    "start_time": "2023-02-18T11:52:48.680Z"
   },
   {
    "duration": 203,
    "start_time": "2023-02-18T11:52:48.899Z"
   },
   {
    "duration": 135,
    "start_time": "2023-02-18T11:52:49.107Z"
   },
   {
    "duration": 10,
    "start_time": "2023-02-18T11:52:49.244Z"
   },
   {
    "duration": 10,
    "start_time": "2023-02-18T11:52:49.256Z"
   },
   {
    "duration": 15,
    "start_time": "2023-02-18T11:52:49.268Z"
   },
   {
    "duration": 15,
    "start_time": "2023-02-18T11:52:49.285Z"
   },
   {
    "duration": 32,
    "start_time": "2023-02-18T11:52:49.302Z"
   },
   {
    "duration": 8,
    "start_time": "2023-02-18T11:52:49.336Z"
   },
   {
    "duration": 8,
    "start_time": "2023-02-18T11:52:49.346Z"
   },
   {
    "duration": 12,
    "start_time": "2023-02-18T11:52:49.356Z"
   },
   {
    "duration": 17,
    "start_time": "2023-02-18T11:52:49.370Z"
   },
   {
    "duration": 44,
    "start_time": "2023-02-18T11:52:49.388Z"
   },
   {
    "duration": 386,
    "start_time": "2023-02-18T11:52:49.434Z"
   },
   {
    "duration": 122,
    "start_time": "2023-02-18T11:52:49.822Z"
   },
   {
    "duration": 23,
    "start_time": "2023-02-18T11:56:37.658Z"
   },
   {
    "duration": 62,
    "start_time": "2023-02-18T11:59:09.033Z"
   },
   {
    "duration": 14,
    "start_time": "2023-02-18T11:59:47.305Z"
   },
   {
    "duration": 17,
    "start_time": "2023-02-18T12:02:00.372Z"
   },
   {
    "duration": 19,
    "start_time": "2023-02-18T12:04:32.084Z"
   },
   {
    "duration": 7,
    "start_time": "2023-02-18T12:11:15.047Z"
   },
   {
    "duration": 18,
    "start_time": "2023-02-18T12:11:21.383Z"
   },
   {
    "duration": 6,
    "start_time": "2023-02-18T12:11:51.363Z"
   },
   {
    "duration": 17,
    "start_time": "2023-02-18T12:11:52.417Z"
   },
   {
    "duration": 18,
    "start_time": "2023-02-18T12:12:25.004Z"
   },
   {
    "duration": 6,
    "start_time": "2023-02-18T12:13:04.407Z"
   },
   {
    "duration": 14,
    "start_time": "2023-02-18T12:13:08.592Z"
   },
   {
    "duration": 658,
    "start_time": "2023-02-18T12:13:21.044Z"
   },
   {
    "duration": 76,
    "start_time": "2023-02-18T12:13:21.705Z"
   },
   {
    "duration": 19,
    "start_time": "2023-02-18T12:13:21.783Z"
   },
   {
    "duration": 25,
    "start_time": "2023-02-18T12:13:21.804Z"
   },
   {
    "duration": 43,
    "start_time": "2023-02-18T12:13:21.831Z"
   },
   {
    "duration": 99,
    "start_time": "2023-02-18T12:13:21.876Z"
   },
   {
    "duration": 0,
    "start_time": "2023-02-18T12:13:21.980Z"
   },
   {
    "duration": 0,
    "start_time": "2023-02-18T12:13:21.982Z"
   },
   {
    "duration": 0,
    "start_time": "2023-02-18T12:13:21.983Z"
   },
   {
    "duration": 0,
    "start_time": "2023-02-18T12:13:21.984Z"
   },
   {
    "duration": 0,
    "start_time": "2023-02-18T12:13:21.986Z"
   },
   {
    "duration": 0,
    "start_time": "2023-02-18T12:13:21.988Z"
   },
   {
    "duration": 0,
    "start_time": "2023-02-18T12:13:21.989Z"
   },
   {
    "duration": 0,
    "start_time": "2023-02-18T12:13:21.990Z"
   },
   {
    "duration": 0,
    "start_time": "2023-02-18T12:13:21.991Z"
   },
   {
    "duration": 0,
    "start_time": "2023-02-18T12:13:21.992Z"
   },
   {
    "duration": 0,
    "start_time": "2023-02-18T12:13:21.993Z"
   },
   {
    "duration": 0,
    "start_time": "2023-02-18T12:13:21.994Z"
   },
   {
    "duration": 0,
    "start_time": "2023-02-18T12:13:21.996Z"
   },
   {
    "duration": 0,
    "start_time": "2023-02-18T12:13:21.999Z"
   },
   {
    "duration": 0,
    "start_time": "2023-02-18T12:13:22.000Z"
   },
   {
    "duration": 0,
    "start_time": "2023-02-18T12:13:22.029Z"
   },
   {
    "duration": 0,
    "start_time": "2023-02-18T12:13:22.032Z"
   },
   {
    "duration": 0,
    "start_time": "2023-02-18T12:13:22.033Z"
   },
   {
    "duration": 0,
    "start_time": "2023-02-18T12:13:22.035Z"
   },
   {
    "duration": 0,
    "start_time": "2023-02-18T12:13:22.036Z"
   },
   {
    "duration": 0,
    "start_time": "2023-02-18T12:13:22.038Z"
   },
   {
    "duration": 0,
    "start_time": "2023-02-18T12:13:22.040Z"
   },
   {
    "duration": 0,
    "start_time": "2023-02-18T12:13:22.041Z"
   },
   {
    "duration": 0,
    "start_time": "2023-02-18T12:13:22.042Z"
   },
   {
    "duration": 0,
    "start_time": "2023-02-18T12:13:22.043Z"
   },
   {
    "duration": 0,
    "start_time": "2023-02-18T12:13:22.043Z"
   },
   {
    "duration": 0,
    "start_time": "2023-02-18T12:13:22.044Z"
   },
   {
    "duration": 0,
    "start_time": "2023-02-18T12:13:22.045Z"
   },
   {
    "duration": 0,
    "start_time": "2023-02-18T12:13:22.045Z"
   },
   {
    "duration": 0,
    "start_time": "2023-02-18T12:13:22.048Z"
   },
   {
    "duration": 0,
    "start_time": "2023-02-18T12:13:22.049Z"
   },
   {
    "duration": 0,
    "start_time": "2023-02-18T12:13:22.050Z"
   },
   {
    "duration": 0,
    "start_time": "2023-02-18T12:13:22.051Z"
   },
   {
    "duration": 0,
    "start_time": "2023-02-18T12:13:22.052Z"
   },
   {
    "duration": 0,
    "start_time": "2023-02-18T12:13:22.053Z"
   },
   {
    "duration": 0,
    "start_time": "2023-02-18T12:13:22.054Z"
   },
   {
    "duration": 0,
    "start_time": "2023-02-18T12:13:22.055Z"
   },
   {
    "duration": 0,
    "start_time": "2023-02-18T12:13:22.056Z"
   },
   {
    "duration": 0,
    "start_time": "2023-02-18T12:13:22.057Z"
   },
   {
    "duration": 0,
    "start_time": "2023-02-18T12:13:22.058Z"
   },
   {
    "duration": 0,
    "start_time": "2023-02-18T12:13:22.059Z"
   },
   {
    "duration": 0,
    "start_time": "2023-02-18T12:13:22.060Z"
   },
   {
    "duration": 0,
    "start_time": "2023-02-18T12:13:22.061Z"
   },
   {
    "duration": 0,
    "start_time": "2023-02-18T12:13:22.062Z"
   },
   {
    "duration": 0,
    "start_time": "2023-02-18T12:13:22.063Z"
   },
   {
    "duration": 0,
    "start_time": "2023-02-18T12:13:22.064Z"
   },
   {
    "duration": 0,
    "start_time": "2023-02-18T12:13:22.066Z"
   },
   {
    "duration": 8,
    "start_time": "2023-02-18T12:13:58.239Z"
   },
   {
    "duration": 21,
    "start_time": "2023-02-18T12:14:02.517Z"
   },
   {
    "duration": 24,
    "start_time": "2023-02-18T12:15:41.127Z"
   },
   {
    "duration": 684,
    "start_time": "2023-02-18T12:15:54.003Z"
   },
   {
    "duration": 80,
    "start_time": "2023-02-18T12:15:54.689Z"
   },
   {
    "duration": 20,
    "start_time": "2023-02-18T12:15:54.772Z"
   },
   {
    "duration": 37,
    "start_time": "2023-02-18T12:15:54.795Z"
   },
   {
    "duration": 23,
    "start_time": "2023-02-18T12:15:54.834Z"
   },
   {
    "duration": 18,
    "start_time": "2023-02-18T12:15:54.858Z"
   },
   {
    "duration": 16,
    "start_time": "2023-02-18T12:15:54.878Z"
   },
   {
    "duration": 43,
    "start_time": "2023-02-18T12:15:54.896Z"
   },
   {
    "duration": 20,
    "start_time": "2023-02-18T12:15:54.941Z"
   },
   {
    "duration": 13,
    "start_time": "2023-02-18T12:15:54.965Z"
   },
   {
    "duration": 8,
    "start_time": "2023-02-18T12:15:54.980Z"
   },
   {
    "duration": 13,
    "start_time": "2023-02-18T12:15:54.990Z"
   },
   {
    "duration": 8,
    "start_time": "2023-02-18T12:15:55.028Z"
   },
   {
    "duration": 5,
    "start_time": "2023-02-18T12:15:55.038Z"
   },
   {
    "duration": 33,
    "start_time": "2023-02-18T12:15:55.045Z"
   },
   {
    "duration": 46,
    "start_time": "2023-02-18T12:15:55.081Z"
   },
   {
    "duration": 11,
    "start_time": "2023-02-18T12:15:55.129Z"
   },
   {
    "duration": 88,
    "start_time": "2023-02-18T12:15:55.142Z"
   },
   {
    "duration": 1774,
    "start_time": "2023-02-18T12:15:55.232Z"
   },
   {
    "duration": 989,
    "start_time": "2023-02-18T12:15:57.008Z"
   },
   {
    "duration": 8,
    "start_time": "2023-02-18T12:15:57.999Z"
   },
   {
    "duration": 41,
    "start_time": "2023-02-18T12:15:58.008Z"
   },
   {
    "duration": 9,
    "start_time": "2023-02-18T12:15:58.052Z"
   },
   {
    "duration": 7,
    "start_time": "2023-02-18T12:15:58.063Z"
   },
   {
    "duration": 6,
    "start_time": "2023-02-18T12:15:58.072Z"
   },
   {
    "duration": 63,
    "start_time": "2023-02-18T12:15:58.080Z"
   },
   {
    "duration": 40,
    "start_time": "2023-02-18T12:15:58.146Z"
   },
   {
    "duration": 311,
    "start_time": "2023-02-18T12:15:58.192Z"
   },
   {
    "duration": 37,
    "start_time": "2023-02-18T12:15:58.505Z"
   },
   {
    "duration": 37,
    "start_time": "2023-02-18T12:15:58.544Z"
   },
   {
    "duration": 372,
    "start_time": "2023-02-18T12:15:58.583Z"
   },
   {
    "duration": 154,
    "start_time": "2023-02-18T12:15:58.957Z"
   },
   {
    "duration": 138,
    "start_time": "2023-02-18T12:15:59.113Z"
   },
   {
    "duration": 121,
    "start_time": "2023-02-18T12:15:59.253Z"
   },
   {
    "duration": 116,
    "start_time": "2023-02-18T12:15:59.376Z"
   },
   {
    "duration": 157,
    "start_time": "2023-02-18T12:15:59.493Z"
   },
   {
    "duration": 10,
    "start_time": "2023-02-18T12:15:59.652Z"
   },
   {
    "duration": 220,
    "start_time": "2023-02-18T12:15:59.664Z"
   },
   {
    "duration": 176,
    "start_time": "2023-02-18T12:15:59.886Z"
   },
   {
    "duration": 70,
    "start_time": "2023-02-18T12:16:00.064Z"
   },
   {
    "duration": 9,
    "start_time": "2023-02-18T12:16:00.135Z"
   },
   {
    "duration": 14,
    "start_time": "2023-02-18T12:16:00.147Z"
   },
   {
    "duration": 11,
    "start_time": "2023-02-18T12:16:00.163Z"
   },
   {
    "duration": 11,
    "start_time": "2023-02-18T12:16:00.176Z"
   },
   {
    "duration": 14,
    "start_time": "2023-02-18T12:16:00.188Z"
   },
   {
    "duration": 12,
    "start_time": "2023-02-18T12:16:00.226Z"
   },
   {
    "duration": 14,
    "start_time": "2023-02-18T12:16:00.240Z"
   },
   {
    "duration": 37,
    "start_time": "2023-02-18T12:16:00.256Z"
   },
   {
    "duration": 23,
    "start_time": "2023-02-18T12:16:00.296Z"
   },
   {
    "duration": 15,
    "start_time": "2023-02-18T12:16:00.321Z"
   },
   {
    "duration": 546,
    "start_time": "2023-02-18T12:16:00.338Z"
   },
   {
    "duration": 18,
    "start_time": "2023-02-18T12:16:00.886Z"
   },
   {
    "duration": 206,
    "start_time": "2023-02-18T12:16:00.906Z"
   },
   {
    "duration": 46,
    "start_time": "2023-02-18T12:16:58.772Z"
   },
   {
    "duration": 26,
    "start_time": "2023-02-18T12:18:42.406Z"
   },
   {
    "duration": 19,
    "start_time": "2023-02-18T12:19:25.404Z"
   },
   {
    "duration": 20,
    "start_time": "2023-02-18T12:20:17.828Z"
   },
   {
    "duration": 10,
    "start_time": "2023-02-18T12:28:48.087Z"
   },
   {
    "duration": 10,
    "start_time": "2023-02-18T12:30:02.019Z"
   },
   {
    "duration": 606,
    "start_time": "2023-02-18T12:31:29.366Z"
   },
   {
    "duration": 73,
    "start_time": "2023-02-18T12:31:29.975Z"
   },
   {
    "duration": 14,
    "start_time": "2023-02-18T12:31:30.049Z"
   },
   {
    "duration": 14,
    "start_time": "2023-02-18T12:31:30.065Z"
   },
   {
    "duration": 28,
    "start_time": "2023-02-18T12:31:30.081Z"
   },
   {
    "duration": 30,
    "start_time": "2023-02-18T12:31:30.111Z"
   },
   {
    "duration": 27,
    "start_time": "2023-02-18T12:31:30.143Z"
   },
   {
    "duration": 14,
    "start_time": "2023-02-18T12:31:30.171Z"
   },
   {
    "duration": 45,
    "start_time": "2023-02-18T12:31:30.186Z"
   },
   {
    "duration": 40,
    "start_time": "2023-02-18T12:31:30.233Z"
   },
   {
    "duration": 75,
    "start_time": "2023-02-18T12:31:30.275Z"
   },
   {
    "duration": 46,
    "start_time": "2023-02-18T12:31:30.352Z"
   },
   {
    "duration": 78,
    "start_time": "2023-02-18T12:31:30.401Z"
   },
   {
    "duration": 42,
    "start_time": "2023-02-18T12:31:30.483Z"
   },
   {
    "duration": 45,
    "start_time": "2023-02-18T12:31:30.527Z"
   },
   {
    "duration": 42,
    "start_time": "2023-02-18T12:31:30.574Z"
   },
   {
    "duration": 37,
    "start_time": "2023-02-18T12:31:30.618Z"
   },
   {
    "duration": 71,
    "start_time": "2023-02-18T12:31:30.658Z"
   },
   {
    "duration": 1609,
    "start_time": "2023-02-18T12:31:30.731Z"
   },
   {
    "duration": 956,
    "start_time": "2023-02-18T12:31:32.341Z"
   },
   {
    "duration": 7,
    "start_time": "2023-02-18T12:31:33.299Z"
   },
   {
    "duration": 35,
    "start_time": "2023-02-18T12:31:33.307Z"
   },
   {
    "duration": 9,
    "start_time": "2023-02-18T12:31:33.343Z"
   },
   {
    "duration": 6,
    "start_time": "2023-02-18T12:31:33.354Z"
   },
   {
    "duration": 9,
    "start_time": "2023-02-18T12:31:33.362Z"
   },
   {
    "duration": 35,
    "start_time": "2023-02-18T12:31:33.372Z"
   },
   {
    "duration": 36,
    "start_time": "2023-02-18T12:31:33.428Z"
   },
   {
    "duration": 280,
    "start_time": "2023-02-18T12:31:33.467Z"
   },
   {
    "duration": 24,
    "start_time": "2023-02-18T12:31:33.749Z"
   },
   {
    "duration": 35,
    "start_time": "2023-02-18T12:31:33.775Z"
   },
   {
    "duration": 347,
    "start_time": "2023-02-18T12:31:33.812Z"
   },
   {
    "duration": 104,
    "start_time": "2023-02-18T12:31:34.160Z"
   },
   {
    "duration": 105,
    "start_time": "2023-02-18T12:31:34.265Z"
   },
   {
    "duration": 111,
    "start_time": "2023-02-18T12:31:34.372Z"
   },
   {
    "duration": 130,
    "start_time": "2023-02-18T12:31:34.486Z"
   },
   {
    "duration": 136,
    "start_time": "2023-02-18T12:31:34.617Z"
   },
   {
    "duration": 8,
    "start_time": "2023-02-18T12:31:34.754Z"
   },
   {
    "duration": 172,
    "start_time": "2023-02-18T12:31:34.763Z"
   },
   {
    "duration": 173,
    "start_time": "2023-02-18T12:31:34.938Z"
   },
   {
    "duration": 121,
    "start_time": "2023-02-18T12:31:35.113Z"
   },
   {
    "duration": 8,
    "start_time": "2023-02-18T12:31:35.235Z"
   },
   {
    "duration": 11,
    "start_time": "2023-02-18T12:31:35.245Z"
   },
   {
    "duration": 7,
    "start_time": "2023-02-18T12:31:35.257Z"
   },
   {
    "duration": 7,
    "start_time": "2023-02-18T12:31:35.266Z"
   },
   {
    "duration": 6,
    "start_time": "2023-02-18T12:31:35.275Z"
   },
   {
    "duration": 44,
    "start_time": "2023-02-18T12:31:35.283Z"
   },
   {
    "duration": 8,
    "start_time": "2023-02-18T12:31:35.329Z"
   },
   {
    "duration": 9,
    "start_time": "2023-02-18T12:31:35.339Z"
   },
   {
    "duration": 9,
    "start_time": "2023-02-18T12:31:35.350Z"
   },
   {
    "duration": 8,
    "start_time": "2023-02-18T12:31:35.361Z"
   },
   {
    "duration": 458,
    "start_time": "2023-02-18T12:31:35.371Z"
   },
   {
    "duration": 113,
    "start_time": "2023-02-18T12:31:35.831Z"
   },
   {
    "duration": 645,
    "start_time": "2023-02-18T12:35:36.590Z"
   },
   {
    "duration": 87,
    "start_time": "2023-02-18T12:35:37.237Z"
   },
   {
    "duration": 16,
    "start_time": "2023-02-18T12:35:37.326Z"
   },
   {
    "duration": 15,
    "start_time": "2023-02-18T12:35:37.345Z"
   },
   {
    "duration": 47,
    "start_time": "2023-02-18T12:35:37.362Z"
   },
   {
    "duration": 22,
    "start_time": "2023-02-18T12:35:37.411Z"
   },
   {
    "duration": 19,
    "start_time": "2023-02-18T12:35:37.434Z"
   },
   {
    "duration": 18,
    "start_time": "2023-02-18T12:35:37.454Z"
   },
   {
    "duration": 21,
    "start_time": "2023-02-18T12:35:37.474Z"
   },
   {
    "duration": 18,
    "start_time": "2023-02-18T12:35:37.498Z"
   },
   {
    "duration": 14,
    "start_time": "2023-02-18T12:35:37.517Z"
   },
   {
    "duration": 7,
    "start_time": "2023-02-18T12:35:37.533Z"
   },
   {
    "duration": 16,
    "start_time": "2023-02-18T12:35:37.541Z"
   },
   {
    "duration": 13,
    "start_time": "2023-02-18T12:35:37.559Z"
   },
   {
    "duration": 24,
    "start_time": "2023-02-18T12:35:37.573Z"
   },
   {
    "duration": 30,
    "start_time": "2023-02-18T12:35:37.598Z"
   },
   {
    "duration": 9,
    "start_time": "2023-02-18T12:35:37.632Z"
   },
   {
    "duration": 60,
    "start_time": "2023-02-18T12:35:37.643Z"
   },
   {
    "duration": 1635,
    "start_time": "2023-02-18T12:35:37.704Z"
   },
   {
    "duration": 998,
    "start_time": "2023-02-18T12:35:39.340Z"
   },
   {
    "duration": 9,
    "start_time": "2023-02-18T12:35:40.340Z"
   },
   {
    "duration": 46,
    "start_time": "2023-02-18T12:35:40.350Z"
   },
   {
    "duration": 10,
    "start_time": "2023-02-18T12:35:40.398Z"
   },
   {
    "duration": 18,
    "start_time": "2023-02-18T12:35:40.410Z"
   },
   {
    "duration": 20,
    "start_time": "2023-02-18T12:35:40.430Z"
   },
   {
    "duration": 48,
    "start_time": "2023-02-18T12:35:40.453Z"
   },
   {
    "duration": 28,
    "start_time": "2023-02-18T12:35:40.503Z"
   },
   {
    "duration": 277,
    "start_time": "2023-02-18T12:35:40.534Z"
   },
   {
    "duration": 24,
    "start_time": "2023-02-18T12:35:40.813Z"
   },
   {
    "duration": 35,
    "start_time": "2023-02-18T12:35:40.838Z"
   },
   {
    "duration": 385,
    "start_time": "2023-02-18T12:35:40.875Z"
   },
   {
    "duration": 110,
    "start_time": "2023-02-18T12:35:41.262Z"
   },
   {
    "duration": 99,
    "start_time": "2023-02-18T12:35:41.374Z"
   },
   {
    "duration": 107,
    "start_time": "2023-02-18T12:35:41.475Z"
   },
   {
    "duration": 119,
    "start_time": "2023-02-18T12:35:41.584Z"
   },
   {
    "duration": 129,
    "start_time": "2023-02-18T12:35:41.705Z"
   },
   {
    "duration": 7,
    "start_time": "2023-02-18T12:35:41.837Z"
   },
   {
    "duration": 188,
    "start_time": "2023-02-18T12:35:41.846Z"
   },
   {
    "duration": 193,
    "start_time": "2023-02-18T12:35:42.035Z"
   },
   {
    "duration": 69,
    "start_time": "2023-02-18T12:35:42.231Z"
   },
   {
    "duration": 7,
    "start_time": "2023-02-18T12:35:42.302Z"
   },
   {
    "duration": 28,
    "start_time": "2023-02-18T12:35:42.326Z"
   },
   {
    "duration": 27,
    "start_time": "2023-02-18T12:35:42.355Z"
   },
   {
    "duration": 37,
    "start_time": "2023-02-18T12:35:42.384Z"
   },
   {
    "duration": 12,
    "start_time": "2023-02-18T12:35:42.423Z"
   },
   {
    "duration": 20,
    "start_time": "2023-02-18T12:35:42.437Z"
   },
   {
    "duration": 23,
    "start_time": "2023-02-18T12:35:42.459Z"
   },
   {
    "duration": 16,
    "start_time": "2023-02-18T12:35:42.484Z"
   },
   {
    "duration": 34,
    "start_time": "2023-02-18T12:35:42.502Z"
   },
   {
    "duration": 28,
    "start_time": "2023-02-18T12:35:42.537Z"
   },
   {
    "duration": 460,
    "start_time": "2023-02-18T12:35:42.567Z"
   },
   {
    "duration": 115,
    "start_time": "2023-02-18T12:35:43.029Z"
   },
   {
    "duration": 19,
    "start_time": "2023-02-18T12:38:01.110Z"
   },
   {
    "duration": 19,
    "start_time": "2023-02-18T12:43:45.740Z"
   },
   {
    "duration": 25,
    "start_time": "2023-02-18T12:44:04.657Z"
   },
   {
    "duration": 21,
    "start_time": "2023-02-18T12:44:38.900Z"
   },
   {
    "duration": 22,
    "start_time": "2023-02-18T12:47:47.253Z"
   },
   {
    "duration": 18,
    "start_time": "2023-02-18T12:51:17.744Z"
   },
   {
    "duration": 13,
    "start_time": "2023-02-18T12:51:19.584Z"
   },
   {
    "duration": 17,
    "start_time": "2023-02-18T12:51:40.430Z"
   },
   {
    "duration": 17,
    "start_time": "2023-02-18T12:51:45.875Z"
   },
   {
    "duration": 667,
    "start_time": "2023-02-18T12:51:53.791Z"
   },
   {
    "duration": 66,
    "start_time": "2023-02-18T12:51:54.461Z"
   },
   {
    "duration": 15,
    "start_time": "2023-02-18T12:51:54.529Z"
   },
   {
    "duration": 14,
    "start_time": "2023-02-18T12:51:54.546Z"
   },
   {
    "duration": 22,
    "start_time": "2023-02-18T12:51:54.562Z"
   },
   {
    "duration": 58,
    "start_time": "2023-02-18T12:51:54.585Z"
   },
   {
    "duration": 16,
    "start_time": "2023-02-18T12:51:54.645Z"
   },
   {
    "duration": 8,
    "start_time": "2023-02-18T12:51:54.664Z"
   },
   {
    "duration": 10,
    "start_time": "2023-02-18T12:51:54.674Z"
   },
   {
    "duration": 11,
    "start_time": "2023-02-18T12:51:54.687Z"
   },
   {
    "duration": 27,
    "start_time": "2023-02-18T12:51:54.700Z"
   },
   {
    "duration": 8,
    "start_time": "2023-02-18T12:51:54.728Z"
   },
   {
    "duration": 9,
    "start_time": "2023-02-18T12:51:54.737Z"
   },
   {
    "duration": 7,
    "start_time": "2023-02-18T12:51:54.748Z"
   },
   {
    "duration": 32,
    "start_time": "2023-02-18T12:51:54.756Z"
   },
   {
    "duration": 38,
    "start_time": "2023-02-18T12:51:54.790Z"
   },
   {
    "duration": 10,
    "start_time": "2023-02-18T12:51:54.829Z"
   },
   {
    "duration": 44,
    "start_time": "2023-02-18T12:51:54.840Z"
   },
   {
    "duration": 1688,
    "start_time": "2023-02-18T12:51:54.885Z"
   },
   {
    "duration": 940,
    "start_time": "2023-02-18T12:51:56.574Z"
   },
   {
    "duration": 7,
    "start_time": "2023-02-18T12:51:57.526Z"
   },
   {
    "duration": 23,
    "start_time": "2023-02-18T12:51:57.534Z"
   },
   {
    "duration": 7,
    "start_time": "2023-02-18T12:51:57.559Z"
   },
   {
    "duration": 4,
    "start_time": "2023-02-18T12:51:57.568Z"
   },
   {
    "duration": 5,
    "start_time": "2023-02-18T12:51:57.574Z"
   },
   {
    "duration": 56,
    "start_time": "2023-02-18T12:51:57.580Z"
   },
   {
    "duration": 29,
    "start_time": "2023-02-18T12:51:57.637Z"
   },
   {
    "duration": 274,
    "start_time": "2023-02-18T12:51:57.669Z"
   },
   {
    "duration": 24,
    "start_time": "2023-02-18T12:51:57.945Z"
   },
   {
    "duration": 34,
    "start_time": "2023-02-18T12:51:57.970Z"
   },
   {
    "duration": 340,
    "start_time": "2023-02-18T12:51:58.006Z"
   },
   {
    "duration": 107,
    "start_time": "2023-02-18T12:51:58.348Z"
   },
   {
    "duration": 115,
    "start_time": "2023-02-18T12:51:58.457Z"
   },
   {
    "duration": 126,
    "start_time": "2023-02-18T12:51:58.574Z"
   },
   {
    "duration": 117,
    "start_time": "2023-02-18T12:51:58.702Z"
   },
   {
    "duration": 118,
    "start_time": "2023-02-18T12:51:58.827Z"
   },
   {
    "duration": 7,
    "start_time": "2023-02-18T12:51:58.946Z"
   },
   {
    "duration": 166,
    "start_time": "2023-02-18T12:51:58.954Z"
   },
   {
    "duration": 161,
    "start_time": "2023-02-18T12:51:59.122Z"
   },
   {
    "duration": 67,
    "start_time": "2023-02-18T12:51:59.285Z"
   },
   {
    "duration": 7,
    "start_time": "2023-02-18T12:51:59.353Z"
   },
   {
    "duration": 7,
    "start_time": "2023-02-18T12:51:59.361Z"
   },
   {
    "duration": 7,
    "start_time": "2023-02-18T12:51:59.369Z"
   },
   {
    "duration": 6,
    "start_time": "2023-02-18T12:51:59.377Z"
   },
   {
    "duration": 43,
    "start_time": "2023-02-18T12:51:59.385Z"
   },
   {
    "duration": 7,
    "start_time": "2023-02-18T12:51:59.430Z"
   },
   {
    "duration": 7,
    "start_time": "2023-02-18T12:51:59.439Z"
   },
   {
    "duration": 8,
    "start_time": "2023-02-18T12:51:59.448Z"
   },
   {
    "duration": 8,
    "start_time": "2023-02-18T12:51:59.458Z"
   },
   {
    "duration": 8,
    "start_time": "2023-02-18T12:51:59.467Z"
   },
   {
    "duration": 544,
    "start_time": "2023-02-18T12:51:59.477Z"
   },
   {
    "duration": 12,
    "start_time": "2023-02-18T12:52:00.023Z"
   },
   {
    "duration": 13,
    "start_time": "2023-02-18T12:52:00.037Z"
   },
   {
    "duration": 619,
    "start_time": "2023-02-18T12:54:47.937Z"
   },
   {
    "duration": 69,
    "start_time": "2023-02-18T12:54:48.558Z"
   },
   {
    "duration": 17,
    "start_time": "2023-02-18T12:54:48.629Z"
   },
   {
    "duration": 24,
    "start_time": "2023-02-18T12:54:48.648Z"
   },
   {
    "duration": 34,
    "start_time": "2023-02-18T12:54:48.674Z"
   },
   {
    "duration": 21,
    "start_time": "2023-02-18T12:54:48.710Z"
   },
   {
    "duration": 22,
    "start_time": "2023-02-18T12:54:48.733Z"
   },
   {
    "duration": 22,
    "start_time": "2023-02-18T12:54:48.757Z"
   },
   {
    "duration": 16,
    "start_time": "2023-02-18T12:54:48.781Z"
   },
   {
    "duration": 18,
    "start_time": "2023-02-18T12:54:48.799Z"
   },
   {
    "duration": 24,
    "start_time": "2023-02-18T12:54:48.819Z"
   },
   {
    "duration": 20,
    "start_time": "2023-02-18T12:54:48.844Z"
   },
   {
    "duration": 8,
    "start_time": "2023-02-18T12:54:48.865Z"
   },
   {
    "duration": 6,
    "start_time": "2023-02-18T12:54:48.875Z"
   },
   {
    "duration": 40,
    "start_time": "2023-02-18T12:54:48.883Z"
   },
   {
    "duration": 19,
    "start_time": "2023-02-18T12:54:48.926Z"
   },
   {
    "duration": 16,
    "start_time": "2023-02-18T12:54:48.946Z"
   },
   {
    "duration": 69,
    "start_time": "2023-02-18T12:54:48.963Z"
   },
   {
    "duration": 1677,
    "start_time": "2023-02-18T12:54:49.034Z"
   },
   {
    "duration": 1025,
    "start_time": "2023-02-18T12:54:50.713Z"
   },
   {
    "duration": 7,
    "start_time": "2023-02-18T12:54:51.739Z"
   },
   {
    "duration": 25,
    "start_time": "2023-02-18T12:54:51.747Z"
   },
   {
    "duration": 8,
    "start_time": "2023-02-18T12:54:51.774Z"
   },
   {
    "duration": 6,
    "start_time": "2023-02-18T12:54:51.783Z"
   },
   {
    "duration": 7,
    "start_time": "2023-02-18T12:54:51.790Z"
   },
   {
    "duration": 47,
    "start_time": "2023-02-18T12:54:51.798Z"
   },
   {
    "duration": 29,
    "start_time": "2023-02-18T12:54:51.847Z"
   },
   {
    "duration": 261,
    "start_time": "2023-02-18T12:54:51.878Z"
   },
   {
    "duration": 24,
    "start_time": "2023-02-18T12:54:52.141Z"
   },
   {
    "duration": 33,
    "start_time": "2023-02-18T12:54:52.166Z"
   },
   {
    "duration": 348,
    "start_time": "2023-02-18T12:54:52.201Z"
   },
   {
    "duration": 111,
    "start_time": "2023-02-18T12:54:52.551Z"
   },
   {
    "duration": 124,
    "start_time": "2023-02-18T12:54:52.664Z"
   },
   {
    "duration": 109,
    "start_time": "2023-02-18T12:54:52.791Z"
   },
   {
    "duration": 132,
    "start_time": "2023-02-18T12:54:52.903Z"
   },
   {
    "duration": 124,
    "start_time": "2023-02-18T12:54:53.037Z"
   },
   {
    "duration": 6,
    "start_time": "2023-02-18T12:54:53.163Z"
   },
   {
    "duration": 163,
    "start_time": "2023-02-18T12:54:53.170Z"
   },
   {
    "duration": 168,
    "start_time": "2023-02-18T12:54:53.334Z"
   },
   {
    "duration": 130,
    "start_time": "2023-02-18T12:54:53.504Z"
   },
   {
    "duration": 8,
    "start_time": "2023-02-18T12:54:53.639Z"
   },
   {
    "duration": 18,
    "start_time": "2023-02-18T12:54:53.648Z"
   },
   {
    "duration": 11,
    "start_time": "2023-02-18T12:54:53.668Z"
   },
   {
    "duration": 12,
    "start_time": "2023-02-18T12:54:53.681Z"
   },
   {
    "duration": 11,
    "start_time": "2023-02-18T12:54:53.694Z"
   },
   {
    "duration": 8,
    "start_time": "2023-02-18T12:54:53.728Z"
   },
   {
    "duration": 22,
    "start_time": "2023-02-18T12:54:53.738Z"
   },
   {
    "duration": 13,
    "start_time": "2023-02-18T12:54:53.762Z"
   },
   {
    "duration": 11,
    "start_time": "2023-02-18T12:54:53.777Z"
   },
   {
    "duration": 21,
    "start_time": "2023-02-18T12:54:53.789Z"
   },
   {
    "duration": 411,
    "start_time": "2023-02-18T12:54:53.812Z"
   },
   {
    "duration": 12,
    "start_time": "2023-02-18T12:54:54.224Z"
   },
   {
    "duration": 13,
    "start_time": "2023-02-18T12:54:54.238Z"
   },
   {
    "duration": 49,
    "start_time": "2023-02-18T14:02:07.997Z"
   },
   {
    "duration": 885,
    "start_time": "2023-02-18T14:48:49.526Z"
   },
   {
    "duration": 168,
    "start_time": "2023-02-18T14:48:50.415Z"
   },
   {
    "duration": 17,
    "start_time": "2023-02-18T14:48:50.584Z"
   },
   {
    "duration": 57,
    "start_time": "2023-02-18T14:48:50.603Z"
   },
   {
    "duration": 48,
    "start_time": "2023-02-18T14:48:50.661Z"
   },
   {
    "duration": 32,
    "start_time": "2023-02-18T14:48:50.715Z"
   },
   {
    "duration": 13,
    "start_time": "2023-02-18T14:48:50.749Z"
   },
   {
    "duration": 10,
    "start_time": "2023-02-18T14:48:50.764Z"
   },
   {
    "duration": 14,
    "start_time": "2023-02-18T14:48:50.776Z"
   },
   {
    "duration": 16,
    "start_time": "2023-02-18T14:48:50.794Z"
   },
   {
    "duration": 33,
    "start_time": "2023-02-18T14:48:50.812Z"
   },
   {
    "duration": 10,
    "start_time": "2023-02-18T14:48:50.847Z"
   },
   {
    "duration": 6,
    "start_time": "2023-02-18T14:48:50.858Z"
   },
   {
    "duration": 5,
    "start_time": "2023-02-18T14:48:50.865Z"
   },
   {
    "duration": 51,
    "start_time": "2023-02-18T14:48:50.872Z"
   },
   {
    "duration": 35,
    "start_time": "2023-02-18T14:48:50.924Z"
   },
   {
    "duration": 10,
    "start_time": "2023-02-18T14:48:50.960Z"
   },
   {
    "duration": 65,
    "start_time": "2023-02-18T14:48:50.972Z"
   },
   {
    "duration": 1802,
    "start_time": "2023-02-18T14:48:51.039Z"
   },
   {
    "duration": 1036,
    "start_time": "2023-02-18T14:48:52.842Z"
   },
   {
    "duration": 7,
    "start_time": "2023-02-18T14:48:53.880Z"
   },
   {
    "duration": 84,
    "start_time": "2023-02-18T14:48:53.889Z"
   },
   {
    "duration": 37,
    "start_time": "2023-02-18T14:48:53.976Z"
   },
   {
    "duration": 26,
    "start_time": "2023-02-18T14:48:54.014Z"
   },
   {
    "duration": 13,
    "start_time": "2023-02-18T14:48:54.044Z"
   },
   {
    "duration": 22,
    "start_time": "2023-02-18T14:48:54.060Z"
   },
   {
    "duration": 39,
    "start_time": "2023-02-18T14:48:54.084Z"
   },
   {
    "duration": 32,
    "start_time": "2023-02-18T14:48:54.127Z"
   },
   {
    "duration": 371,
    "start_time": "2023-02-18T14:48:54.162Z"
   },
   {
    "duration": 34,
    "start_time": "2023-02-18T14:48:54.537Z"
   },
   {
    "duration": 24,
    "start_time": "2023-02-18T14:48:54.572Z"
   },
   {
    "duration": 324,
    "start_time": "2023-02-18T14:48:54.597Z"
   },
   {
    "duration": 110,
    "start_time": "2023-02-18T14:48:54.923Z"
   },
   {
    "duration": 131,
    "start_time": "2023-02-18T14:48:55.035Z"
   },
   {
    "duration": 141,
    "start_time": "2023-02-18T14:48:55.168Z"
   },
   {
    "duration": 120,
    "start_time": "2023-02-18T14:48:55.311Z"
   },
   {
    "duration": 128,
    "start_time": "2023-02-18T14:48:55.433Z"
   },
   {
    "duration": 4,
    "start_time": "2023-02-18T14:48:55.563Z"
   },
   {
    "duration": 178,
    "start_time": "2023-02-18T14:48:55.569Z"
   },
   {
    "duration": 185,
    "start_time": "2023-02-18T14:48:55.748Z"
   },
   {
    "duration": 76,
    "start_time": "2023-02-18T14:48:55.935Z"
   },
   {
    "duration": 15,
    "start_time": "2023-02-18T14:48:56.017Z"
   },
   {
    "duration": 26,
    "start_time": "2023-02-18T14:48:56.034Z"
   },
   {
    "duration": 9,
    "start_time": "2023-02-18T14:48:56.062Z"
   },
   {
    "duration": 9,
    "start_time": "2023-02-18T14:48:56.073Z"
   },
   {
    "duration": 11,
    "start_time": "2023-02-18T14:48:56.083Z"
   },
   {
    "duration": 32,
    "start_time": "2023-02-18T14:48:56.096Z"
   },
   {
    "duration": 9,
    "start_time": "2023-02-18T14:48:56.134Z"
   },
   {
    "duration": 8,
    "start_time": "2023-02-18T14:48:56.145Z"
   },
   {
    "duration": 20,
    "start_time": "2023-02-18T14:48:56.154Z"
   },
   {
    "duration": 7,
    "start_time": "2023-02-18T14:48:56.176Z"
   },
   {
    "duration": 551,
    "start_time": "2023-02-18T14:48:56.184Z"
   },
   {
    "duration": 11,
    "start_time": "2023-02-18T14:48:56.737Z"
   },
   {
    "duration": 16,
    "start_time": "2023-02-18T14:48:56.750Z"
   },
   {
    "duration": 239,
    "start_time": "2023-02-18T14:51:37.833Z"
   },
   {
    "duration": 43,
    "start_time": "2023-02-18T14:51:47.638Z"
   },
   {
    "duration": 46,
    "start_time": "2023-02-18T14:52:10.436Z"
   },
   {
    "duration": 16,
    "start_time": "2023-02-18T14:52:26.735Z"
   },
   {
    "duration": 167,
    "start_time": "2023-02-18T14:52:55.283Z"
   },
   {
    "duration": 119,
    "start_time": "2023-02-18T14:53:10.336Z"
   },
   {
    "duration": 114,
    "start_time": "2023-02-18T14:53:17.658Z"
   },
   {
    "duration": 127,
    "start_time": "2023-02-18T14:53:31.035Z"
   },
   {
    "duration": 238,
    "start_time": "2023-02-18T14:53:39.885Z"
   },
   {
    "duration": 129,
    "start_time": "2023-02-18T14:53:46.666Z"
   },
   {
    "duration": 132,
    "start_time": "2023-02-18T14:53:59.282Z"
   },
   {
    "duration": 134,
    "start_time": "2023-02-18T14:54:06.487Z"
   },
   {
    "duration": 150,
    "start_time": "2023-02-18T14:54:20.992Z"
   },
   {
    "duration": 4,
    "start_time": "2023-02-18T15:04:46.030Z"
   },
   {
    "duration": 155,
    "start_time": "2023-02-18T15:04:49.277Z"
   },
   {
    "duration": 152,
    "start_time": "2023-02-18T15:04:58.884Z"
   },
   {
    "duration": 10,
    "start_time": "2023-02-18T15:06:34.119Z"
   },
   {
    "duration": 176,
    "start_time": "2023-02-18T15:06:36.420Z"
   },
   {
    "duration": 133,
    "start_time": "2023-02-18T15:06:42.031Z"
   },
   {
    "duration": 154,
    "start_time": "2023-02-18T15:06:51.725Z"
   },
   {
    "duration": 6,
    "start_time": "2023-02-18T15:17:51.466Z"
   },
   {
    "duration": 7,
    "start_time": "2023-02-18T15:22:09.422Z"
   },
   {
    "duration": 129,
    "start_time": "2023-02-18T15:22:51.757Z"
   },
   {
    "duration": 150,
    "start_time": "2023-02-18T15:26:07.966Z"
   },
   {
    "duration": 133,
    "start_time": "2023-02-18T15:27:07.703Z"
   },
   {
    "duration": 127,
    "start_time": "2023-02-18T15:27:19.923Z"
   },
   {
    "duration": 10,
    "start_time": "2023-02-18T15:27:35.629Z"
   },
   {
    "duration": 136,
    "start_time": "2023-02-18T15:28:04.993Z"
   },
   {
    "duration": 151,
    "start_time": "2023-02-18T15:28:13.464Z"
   },
   {
    "duration": 228,
    "start_time": "2023-02-18T15:28:27.286Z"
   },
   {
    "duration": 155,
    "start_time": "2023-02-18T15:29:38.900Z"
   },
   {
    "duration": 144,
    "start_time": "2023-02-18T15:30:38.136Z"
   },
   {
    "duration": 184,
    "start_time": "2023-02-18T15:30:45.629Z"
   },
   {
    "duration": 145,
    "start_time": "2023-02-18T15:30:57.037Z"
   },
   {
    "duration": 14,
    "start_time": "2023-02-18T15:31:43.628Z"
   },
   {
    "duration": 13,
    "start_time": "2023-02-18T15:32:18.028Z"
   },
   {
    "duration": 12,
    "start_time": "2023-02-18T15:33:12.525Z"
   },
   {
    "duration": 150,
    "start_time": "2023-02-18T15:34:33.352Z"
   },
   {
    "duration": 149,
    "start_time": "2023-02-18T15:35:54.794Z"
   },
   {
    "duration": 151,
    "start_time": "2023-02-18T15:36:25.541Z"
   },
   {
    "duration": 155,
    "start_time": "2023-02-18T15:38:27.462Z"
   },
   {
    "duration": 155,
    "start_time": "2023-02-18T15:38:31.930Z"
   },
   {
    "duration": 144,
    "start_time": "2023-02-18T15:38:40.328Z"
   },
   {
    "duration": 181,
    "start_time": "2023-02-18T15:49:07.485Z"
   },
   {
    "duration": 168,
    "start_time": "2023-02-18T15:49:39.001Z"
   },
   {
    "duration": 164,
    "start_time": "2023-02-18T15:50:22.863Z"
   },
   {
    "duration": 111,
    "start_time": "2023-02-18T15:54:34.572Z"
   },
   {
    "duration": 102,
    "start_time": "2023-02-18T15:54:35.990Z"
   },
   {
    "duration": 219,
    "start_time": "2023-02-18T15:54:37.780Z"
   },
   {
    "duration": 46,
    "start_time": "2023-02-19T07:47:06.425Z"
   },
   {
    "duration": 764,
    "start_time": "2023-02-19T07:47:12.561Z"
   },
   {
    "duration": 243,
    "start_time": "2023-02-19T07:47:13.327Z"
   },
   {
    "duration": 15,
    "start_time": "2023-02-19T07:47:13.572Z"
   },
   {
    "duration": 14,
    "start_time": "2023-02-19T07:47:13.590Z"
   },
   {
    "duration": 23,
    "start_time": "2023-02-19T07:47:13.605Z"
   },
   {
    "duration": 14,
    "start_time": "2023-02-19T07:47:13.629Z"
   },
   {
    "duration": 13,
    "start_time": "2023-02-19T07:47:13.645Z"
   },
   {
    "duration": 8,
    "start_time": "2023-02-19T07:47:13.660Z"
   },
   {
    "duration": 12,
    "start_time": "2023-02-19T07:47:13.670Z"
   },
   {
    "duration": 39,
    "start_time": "2023-02-19T07:47:13.685Z"
   },
   {
    "duration": 8,
    "start_time": "2023-02-19T07:47:13.726Z"
   },
   {
    "duration": 6,
    "start_time": "2023-02-19T07:47:13.736Z"
   },
   {
    "duration": 8,
    "start_time": "2023-02-19T07:47:13.744Z"
   },
   {
    "duration": 4,
    "start_time": "2023-02-19T07:47:13.753Z"
   },
   {
    "duration": 18,
    "start_time": "2023-02-19T07:47:13.759Z"
   },
   {
    "duration": 54,
    "start_time": "2023-02-19T07:47:13.779Z"
   },
   {
    "duration": 12,
    "start_time": "2023-02-19T07:47:13.836Z"
   },
   {
    "duration": 41,
    "start_time": "2023-02-19T07:47:13.850Z"
   },
   {
    "duration": 1657,
    "start_time": "2023-02-19T07:47:13.893Z"
   },
   {
    "duration": 918,
    "start_time": "2023-02-19T07:47:15.552Z"
   },
   {
    "duration": 8,
    "start_time": "2023-02-19T07:47:16.472Z"
   },
   {
    "duration": 11,
    "start_time": "2023-02-19T07:47:16.482Z"
   },
   {
    "duration": 39,
    "start_time": "2023-02-19T07:47:16.495Z"
   },
   {
    "duration": 10,
    "start_time": "2023-02-19T07:47:16.536Z"
   },
   {
    "duration": 14,
    "start_time": "2023-02-19T07:47:16.548Z"
   },
   {
    "duration": 12,
    "start_time": "2023-02-19T07:47:16.564Z"
   },
   {
    "duration": 32,
    "start_time": "2023-02-19T07:47:16.577Z"
   },
   {
    "duration": 25,
    "start_time": "2023-02-19T07:47:16.620Z"
   },
   {
    "duration": 249,
    "start_time": "2023-02-19T07:47:16.647Z"
   },
   {
    "duration": 22,
    "start_time": "2023-02-19T07:47:16.898Z"
   },
   {
    "duration": 21,
    "start_time": "2023-02-19T07:47:16.921Z"
   },
   {
    "duration": 295,
    "start_time": "2023-02-19T07:47:16.944Z"
   },
   {
    "duration": 111,
    "start_time": "2023-02-19T07:47:17.241Z"
   },
   {
    "duration": 107,
    "start_time": "2023-02-19T07:47:17.354Z"
   },
   {
    "duration": 109,
    "start_time": "2023-02-19T07:47:17.463Z"
   },
   {
    "duration": 115,
    "start_time": "2023-02-19T07:47:17.573Z"
   },
   {
    "duration": 111,
    "start_time": "2023-02-19T07:47:17.690Z"
   },
   {
    "duration": 4,
    "start_time": "2023-02-19T07:47:17.803Z"
   },
   {
    "duration": 166,
    "start_time": "2023-02-19T07:47:17.808Z"
   },
   {
    "duration": 149,
    "start_time": "2023-02-19T07:47:17.976Z"
   },
   {
    "duration": 4,
    "start_time": "2023-02-19T07:47:18.127Z"
   },
   {
    "duration": 164,
    "start_time": "2023-02-19T07:47:18.133Z"
   },
   {
    "duration": 211,
    "start_time": "2023-02-19T07:47:18.298Z"
   },
   {
    "duration": 65,
    "start_time": "2023-02-19T07:47:18.511Z"
   },
   {
    "duration": 6,
    "start_time": "2023-02-19T07:47:18.578Z"
   },
   {
    "duration": 159,
    "start_time": "2023-02-19T07:47:18.585Z"
   },
   {
    "duration": 142,
    "start_time": "2023-02-19T07:47:18.747Z"
   },
   {
    "duration": 138,
    "start_time": "2023-02-19T07:47:18.891Z"
   },
   {
    "duration": 158,
    "start_time": "2023-02-19T07:47:19.030Z"
   },
   {
    "duration": 160,
    "start_time": "2023-02-19T07:47:19.190Z"
   },
   {
    "duration": 156,
    "start_time": "2023-02-19T07:47:19.352Z"
   },
   {
    "duration": 173,
    "start_time": "2023-02-19T07:47:19.509Z"
   },
   {
    "duration": 108,
    "start_time": "2023-02-19T07:47:19.683Z"
   },
   {
    "duration": 108,
    "start_time": "2023-02-19T07:47:19.793Z"
   },
   {
    "duration": 193,
    "start_time": "2023-02-19T07:47:19.903Z"
   },
   {
    "duration": 437,
    "start_time": "2023-02-19T07:47:20.098Z"
   },
   {
    "duration": 11,
    "start_time": "2023-02-19T07:47:20.536Z"
   },
   {
    "duration": 10,
    "start_time": "2023-02-19T07:47:20.548Z"
   },
   {
    "duration": 55,
    "start_time": "2023-02-19T07:49:26.970Z"
   },
   {
    "duration": 831,
    "start_time": "2023-02-19T08:13:08.360Z"
   },
   {
    "duration": 220,
    "start_time": "2023-02-19T08:13:09.194Z"
   },
   {
    "duration": 15,
    "start_time": "2023-02-19T08:13:09.415Z"
   },
   {
    "duration": 13,
    "start_time": "2023-02-19T08:13:09.431Z"
   },
   {
    "duration": 22,
    "start_time": "2023-02-19T08:13:09.446Z"
   },
   {
    "duration": 16,
    "start_time": "2023-02-19T08:13:09.469Z"
   },
   {
    "duration": 13,
    "start_time": "2023-02-19T08:13:09.486Z"
   },
   {
    "duration": 8,
    "start_time": "2023-02-19T08:13:09.501Z"
   },
   {
    "duration": 38,
    "start_time": "2023-02-19T08:13:09.511Z"
   },
   {
    "duration": 12,
    "start_time": "2023-02-19T08:13:09.550Z"
   },
   {
    "duration": 8,
    "start_time": "2023-02-19T08:13:09.563Z"
   },
   {
    "duration": 9,
    "start_time": "2023-02-19T08:13:09.573Z"
   },
   {
    "duration": 6,
    "start_time": "2023-02-19T08:13:09.583Z"
   },
   {
    "duration": 4,
    "start_time": "2023-02-19T08:13:09.592Z"
   },
   {
    "duration": 21,
    "start_time": "2023-02-19T08:13:09.597Z"
   },
   {
    "duration": 17,
    "start_time": "2023-02-19T08:13:09.648Z"
   },
   {
    "duration": 10,
    "start_time": "2023-02-19T08:13:09.667Z"
   },
   {
    "duration": 41,
    "start_time": "2023-02-19T08:13:09.678Z"
   },
   {
    "duration": 1696,
    "start_time": "2023-02-19T08:13:09.721Z"
   },
   {
    "duration": 919,
    "start_time": "2023-02-19T08:13:11.418Z"
   },
   {
    "duration": 6,
    "start_time": "2023-02-19T08:13:12.349Z"
   },
   {
    "duration": 3,
    "start_time": "2023-02-19T08:13:12.357Z"
   },
   {
    "duration": 28,
    "start_time": "2023-02-19T08:13:12.362Z"
   },
   {
    "duration": 7,
    "start_time": "2023-02-19T08:13:12.391Z"
   },
   {
    "duration": 14,
    "start_time": "2023-02-19T08:13:12.400Z"
   },
   {
    "duration": 8,
    "start_time": "2023-02-19T08:13:12.416Z"
   },
   {
    "duration": 42,
    "start_time": "2023-02-19T08:13:12.425Z"
   },
   {
    "duration": 26,
    "start_time": "2023-02-19T08:13:12.468Z"
   },
   {
    "duration": 253,
    "start_time": "2023-02-19T08:13:12.496Z"
   },
   {
    "duration": 24,
    "start_time": "2023-02-19T08:13:12.750Z"
   },
   {
    "duration": 23,
    "start_time": "2023-02-19T08:13:12.776Z"
   },
   {
    "duration": 308,
    "start_time": "2023-02-19T08:13:12.801Z"
   },
   {
    "duration": 113,
    "start_time": "2023-02-19T08:13:13.111Z"
   },
   {
    "duration": 103,
    "start_time": "2023-02-19T08:13:13.226Z"
   },
   {
    "duration": 122,
    "start_time": "2023-02-19T08:13:13.331Z"
   },
   {
    "duration": 118,
    "start_time": "2023-02-19T08:13:13.454Z"
   },
   {
    "duration": 116,
    "start_time": "2023-02-19T08:13:13.574Z"
   },
   {
    "duration": 4,
    "start_time": "2023-02-19T08:13:13.692Z"
   },
   {
    "duration": 192,
    "start_time": "2023-02-19T08:13:13.698Z"
   },
   {
    "duration": 165,
    "start_time": "2023-02-19T08:13:13.892Z"
   },
   {
    "duration": 5,
    "start_time": "2023-02-19T08:13:14.061Z"
   },
   {
    "duration": 165,
    "start_time": "2023-02-19T08:13:14.068Z"
   },
   {
    "duration": 209,
    "start_time": "2023-02-19T08:13:14.235Z"
   },
   {
    "duration": 51,
    "start_time": "2023-02-19T08:13:14.446Z"
   },
   {
    "duration": 7,
    "start_time": "2023-02-19T08:13:14.499Z"
   },
   {
    "duration": 153,
    "start_time": "2023-02-19T08:13:14.508Z"
   },
   {
    "duration": 138,
    "start_time": "2023-02-19T08:13:14.663Z"
   },
   {
    "duration": 151,
    "start_time": "2023-02-19T08:13:14.802Z"
   },
   {
    "duration": 168,
    "start_time": "2023-02-19T08:13:14.955Z"
   },
   {
    "duration": 169,
    "start_time": "2023-02-19T08:13:15.125Z"
   },
   {
    "duration": 178,
    "start_time": "2023-02-19T08:13:15.296Z"
   },
   {
    "duration": 114,
    "start_time": "2023-02-19T08:13:15.476Z"
   },
   {
    "duration": 105,
    "start_time": "2023-02-19T08:13:15.592Z"
   },
   {
    "duration": 124,
    "start_time": "2023-02-19T08:13:15.699Z"
   },
   {
    "duration": 525,
    "start_time": "2023-02-19T08:13:15.825Z"
   },
   {
    "duration": 15,
    "start_time": "2023-02-19T08:13:16.352Z"
   },
   {
    "duration": 29,
    "start_time": "2023-02-19T08:13:16.369Z"
   },
   {
    "duration": 8,
    "start_time": "2023-02-19T08:14:34.331Z"
   },
   {
    "duration": 9,
    "start_time": "2023-02-19T08:15:41.737Z"
   }
  ],
  "kernelspec": {
   "display_name": "Python 3 (ipykernel)",
   "language": "python",
   "name": "python3"
  },
  "language_info": {
   "codemirror_mode": {
    "name": "ipython",
    "version": 3
   },
   "file_extension": ".py",
   "mimetype": "text/x-python",
   "name": "python",
   "nbconvert_exporter": "python",
   "pygments_lexer": "ipython3",
   "version": "3.9.12"
  },
  "toc": {
   "base_numbering": 1,
   "nav_menu": {},
   "number_sections": true,
   "sideBar": true,
   "skip_h1_title": true,
   "title_cell": "Table of Contents",
   "title_sidebar": "Contents",
   "toc_cell": false,
   "toc_position": {},
   "toc_section_display": true,
   "toc_window_display": false
  }
 },
 "nbformat": 4,
 "nbformat_minor": 2
}
