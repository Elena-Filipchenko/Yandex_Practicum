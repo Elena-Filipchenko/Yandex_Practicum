{
 "cells": [
  {
   "cell_type": "markdown",
   "metadata": {},
   "source": [
    "# Определение стоимости автомобилей"
   ]
  },
  {
   "cell_type": "markdown",
   "metadata": {},
   "source": [
    "Сервис по продаже автомобилей с пробегом «Не бит, не крашен» разрабатывает приложение для привлечения новых клиентов. В нём можно быстро узнать рыночную стоимость своего автомобиля. В вашем распоряжении исторические данные: технические характеристики, комплектации и цены автомобилей. Вам нужно построить модель для определения стоимости. \n",
    "\n",
    "Заказчику важны:\n",
    "\n",
    "- качество предсказания;\n",
    "- скорость предсказания;\n",
    "- время обучения."
   ]
  },
  {
   "cell_type": "markdown",
   "metadata": {},
   "source": [
    "### Описание данных"
   ]
  },
  {
   "cell_type": "markdown",
   "metadata": {},
   "source": [
    "Признаки\n",
    "- DateCrawled — дата скачивания анкеты из базы\n",
    "- VehicleType — тип автомобильного кузова\n",
    "- RegistrationYear — год регистрации автомобиля\n",
    "- Gearbox — тип коробки передач\n",
    "- Power — мощность (л. с.)\n",
    "- Model — модель автомобиля\n",
    "- Kilometer — пробег (км)\n",
    "- RegistrationMonth — месяц регистрации автомобиля\n",
    "- FuelType — тип топлива\n",
    "- Brand — марка автомобиля\n",
    "- Repaired — была машина в ремонте или нет\n",
    "- DateCreated — дата создания анкеты\n",
    "- NumberOfPictures — количество фотографий автомобиля\n",
    "- PostalCode — почтовый индекс владельца анкеты (пользователя)\n",
    "- LastSeen — дата последней активности пользователя\n",
    "\n",
    "\n",
    "Целевой признак\n",
    "- Price — цена (евро)"
   ]
  },
  {
   "cell_type": "markdown",
   "metadata": {},
   "source": [
    "## Подготовка данных"
   ]
  },
  {
   "cell_type": "markdown",
   "metadata": {},
   "source": [
    "#### Импорт необходимых библиотек:"
   ]
  },
  {
   "cell_type": "code",
   "execution_count": 1,
   "metadata": {},
   "outputs": [],
   "source": [
    "# pip install lightgbm"
   ]
  },
  {
   "cell_type": "code",
   "execution_count": 2,
   "metadata": {},
   "outputs": [],
   "source": [
    "# pip install --upgrade pip setuptools wheel"
   ]
  },
  {
   "cell_type": "code",
   "execution_count": 3,
   "metadata": {},
   "outputs": [],
   "source": [
    "# pip install catboost --no-binary :all:"
   ]
  },
  {
   "cell_type": "markdown",
   "metadata": {},
   "source": [
    "!!!!!!!!!!!!! \n",
    "Мне нужна помощь, выводы не писала и проект не доделан, тк у меня на 1 месте умирает ноутбук. Помогите, пожалуйста, разобраться."
   ]
  },
  {
   "cell_type": "code",
   "execution_count": 4,
   "metadata": {},
   "outputs": [],
   "source": [
    "import warnings\n",
    "warnings.simplefilter('ignore')"
   ]
  },
  {
   "cell_type": "code",
   "execution_count": 5,
   "metadata": {},
   "outputs": [],
   "source": [
    "import pandas as pd\n",
    "import numpy as np\n",
    "import seaborn as sns\n",
    "import matplotlib.pyplot as plt\n",
    "\n",
    "from sklearn.model_selection import train_test_split\n",
    "from sklearn.metrics import mean_squared_error, make_scorer\n",
    "from sklearn.preprocessing import StandardScaler\n",
    "from sklearn.model_selection import cross_val_score\n",
    "from sklearn.preprocessing import OrdinalEncoder\n",
    "import lightgbm as lgb\n",
    "#from catboost import CatBoostRegressor\n",
    "\n",
    "\n",
    "from sklearn.model_selection import GridSearchCV\n",
    "from sklearn.linear_model import LinearRegression\n",
    "from numpy.random import RandomState\n",
    "from sklearn.tree import DecisionTreeRegressor\n",
    "from sklearn.ensemble import RandomForestRegressor\n",
    "from sklearn.dummy import DummyRegressor\n",
    "\n",
    "\n",
    "state = RandomState(12345)"
   ]
  },
  {
   "cell_type": "markdown",
   "metadata": {},
   "source": [
    "#### Загрузка датасета и основная информация:"
   ]
  },
  {
   "cell_type": "code",
   "execution_count": 6,
   "metadata": {},
   "outputs": [],
   "source": [
    "data = pd.read_csv('autos.csv')"
   ]
  },
  {
   "cell_type": "code",
   "execution_count": 7,
   "metadata": {},
   "outputs": [
    {
     "data": {
      "text/html": [
       "<div>\n",
       "<style scoped>\n",
       "    .dataframe tbody tr th:only-of-type {\n",
       "        vertical-align: middle;\n",
       "    }\n",
       "\n",
       "    .dataframe tbody tr th {\n",
       "        vertical-align: top;\n",
       "    }\n",
       "\n",
       "    .dataframe thead th {\n",
       "        text-align: right;\n",
       "    }\n",
       "</style>\n",
       "<table border=\"1\" class=\"dataframe\">\n",
       "  <thead>\n",
       "    <tr style=\"text-align: right;\">\n",
       "      <th></th>\n",
       "      <th>DateCrawled</th>\n",
       "      <th>Price</th>\n",
       "      <th>VehicleType</th>\n",
       "      <th>RegistrationYear</th>\n",
       "      <th>Gearbox</th>\n",
       "      <th>Power</th>\n",
       "      <th>Model</th>\n",
       "      <th>Kilometer</th>\n",
       "      <th>RegistrationMonth</th>\n",
       "      <th>FuelType</th>\n",
       "      <th>Brand</th>\n",
       "      <th>Repaired</th>\n",
       "      <th>DateCreated</th>\n",
       "      <th>NumberOfPictures</th>\n",
       "      <th>PostalCode</th>\n",
       "      <th>LastSeen</th>\n",
       "    </tr>\n",
       "  </thead>\n",
       "  <tbody>\n",
       "    <tr>\n",
       "      <th>0</th>\n",
       "      <td>2016-03-24 11:52:17</td>\n",
       "      <td>480</td>\n",
       "      <td>NaN</td>\n",
       "      <td>1993</td>\n",
       "      <td>manual</td>\n",
       "      <td>0</td>\n",
       "      <td>golf</td>\n",
       "      <td>150000</td>\n",
       "      <td>0</td>\n",
       "      <td>petrol</td>\n",
       "      <td>volkswagen</td>\n",
       "      <td>NaN</td>\n",
       "      <td>2016-03-24 00:00:00</td>\n",
       "      <td>0</td>\n",
       "      <td>70435</td>\n",
       "      <td>2016-04-07 03:16:57</td>\n",
       "    </tr>\n",
       "    <tr>\n",
       "      <th>1</th>\n",
       "      <td>2016-03-24 10:58:45</td>\n",
       "      <td>18300</td>\n",
       "      <td>coupe</td>\n",
       "      <td>2011</td>\n",
       "      <td>manual</td>\n",
       "      <td>190</td>\n",
       "      <td>NaN</td>\n",
       "      <td>125000</td>\n",
       "      <td>5</td>\n",
       "      <td>gasoline</td>\n",
       "      <td>audi</td>\n",
       "      <td>yes</td>\n",
       "      <td>2016-03-24 00:00:00</td>\n",
       "      <td>0</td>\n",
       "      <td>66954</td>\n",
       "      <td>2016-04-07 01:46:50</td>\n",
       "    </tr>\n",
       "    <tr>\n",
       "      <th>2</th>\n",
       "      <td>2016-03-14 12:52:21</td>\n",
       "      <td>9800</td>\n",
       "      <td>suv</td>\n",
       "      <td>2004</td>\n",
       "      <td>auto</td>\n",
       "      <td>163</td>\n",
       "      <td>grand</td>\n",
       "      <td>125000</td>\n",
       "      <td>8</td>\n",
       "      <td>gasoline</td>\n",
       "      <td>jeep</td>\n",
       "      <td>NaN</td>\n",
       "      <td>2016-03-14 00:00:00</td>\n",
       "      <td>0</td>\n",
       "      <td>90480</td>\n",
       "      <td>2016-04-05 12:47:46</td>\n",
       "    </tr>\n",
       "    <tr>\n",
       "      <th>3</th>\n",
       "      <td>2016-03-17 16:54:04</td>\n",
       "      <td>1500</td>\n",
       "      <td>small</td>\n",
       "      <td>2001</td>\n",
       "      <td>manual</td>\n",
       "      <td>75</td>\n",
       "      <td>golf</td>\n",
       "      <td>150000</td>\n",
       "      <td>6</td>\n",
       "      <td>petrol</td>\n",
       "      <td>volkswagen</td>\n",
       "      <td>no</td>\n",
       "      <td>2016-03-17 00:00:00</td>\n",
       "      <td>0</td>\n",
       "      <td>91074</td>\n",
       "      <td>2016-03-17 17:40:17</td>\n",
       "    </tr>\n",
       "    <tr>\n",
       "      <th>4</th>\n",
       "      <td>2016-03-31 17:25:20</td>\n",
       "      <td>3600</td>\n",
       "      <td>small</td>\n",
       "      <td>2008</td>\n",
       "      <td>manual</td>\n",
       "      <td>69</td>\n",
       "      <td>fabia</td>\n",
       "      <td>90000</td>\n",
       "      <td>7</td>\n",
       "      <td>gasoline</td>\n",
       "      <td>skoda</td>\n",
       "      <td>no</td>\n",
       "      <td>2016-03-31 00:00:00</td>\n",
       "      <td>0</td>\n",
       "      <td>60437</td>\n",
       "      <td>2016-04-06 10:17:21</td>\n",
       "    </tr>\n",
       "  </tbody>\n",
       "</table>\n",
       "</div>"
      ],
      "text/plain": [
       "           DateCrawled  Price VehicleType  RegistrationYear Gearbox  Power  \\\n",
       "0  2016-03-24 11:52:17    480         NaN              1993  manual      0   \n",
       "1  2016-03-24 10:58:45  18300       coupe              2011  manual    190   \n",
       "2  2016-03-14 12:52:21   9800         suv              2004    auto    163   \n",
       "3  2016-03-17 16:54:04   1500       small              2001  manual     75   \n",
       "4  2016-03-31 17:25:20   3600       small              2008  manual     69   \n",
       "\n",
       "   Model  Kilometer  RegistrationMonth  FuelType       Brand Repaired  \\\n",
       "0   golf     150000                  0    petrol  volkswagen      NaN   \n",
       "1    NaN     125000                  5  gasoline        audi      yes   \n",
       "2  grand     125000                  8  gasoline        jeep      NaN   \n",
       "3   golf     150000                  6    petrol  volkswagen       no   \n",
       "4  fabia      90000                  7  gasoline       skoda       no   \n",
       "\n",
       "           DateCreated  NumberOfPictures  PostalCode             LastSeen  \n",
       "0  2016-03-24 00:00:00                 0       70435  2016-04-07 03:16:57  \n",
       "1  2016-03-24 00:00:00                 0       66954  2016-04-07 01:46:50  \n",
       "2  2016-03-14 00:00:00                 0       90480  2016-04-05 12:47:46  \n",
       "3  2016-03-17 00:00:00                 0       91074  2016-03-17 17:40:17  \n",
       "4  2016-03-31 00:00:00                 0       60437  2016-04-06 10:17:21  "
      ]
     },
     "execution_count": 7,
     "metadata": {},
     "output_type": "execute_result"
    }
   ],
   "source": [
    "data.head()"
   ]
  },
  {
   "cell_type": "code",
   "execution_count": 8,
   "metadata": {},
   "outputs": [
    {
     "name": "stdout",
     "output_type": "stream",
     "text": [
      "<class 'pandas.core.frame.DataFrame'>\n",
      "RangeIndex: 354369 entries, 0 to 354368\n",
      "Data columns (total 16 columns):\n",
      " #   Column             Non-Null Count   Dtype \n",
      "---  ------             --------------   ----- \n",
      " 0   DateCrawled        354369 non-null  object\n",
      " 1   Price              354369 non-null  int64 \n",
      " 2   VehicleType        316879 non-null  object\n",
      " 3   RegistrationYear   354369 non-null  int64 \n",
      " 4   Gearbox            334536 non-null  object\n",
      " 5   Power              354369 non-null  int64 \n",
      " 6   Model              334664 non-null  object\n",
      " 7   Kilometer          354369 non-null  int64 \n",
      " 8   RegistrationMonth  354369 non-null  int64 \n",
      " 9   FuelType           321474 non-null  object\n",
      " 10  Brand              354369 non-null  object\n",
      " 11  Repaired           283215 non-null  object\n",
      " 12  DateCreated        354369 non-null  object\n",
      " 13  NumberOfPictures   354369 non-null  int64 \n",
      " 14  PostalCode         354369 non-null  int64 \n",
      " 15  LastSeen           354369 non-null  object\n",
      "dtypes: int64(7), object(9)\n",
      "memory usage: 43.3+ MB\n"
     ]
    }
   ],
   "source": [
    "data.info()"
   ]
  },
  {
   "cell_type": "code",
   "execution_count": 9,
   "metadata": {},
   "outputs": [
    {
     "data": {
      "text/html": [
       "<div>\n",
       "<style scoped>\n",
       "    .dataframe tbody tr th:only-of-type {\n",
       "        vertical-align: middle;\n",
       "    }\n",
       "\n",
       "    .dataframe tbody tr th {\n",
       "        vertical-align: top;\n",
       "    }\n",
       "\n",
       "    .dataframe thead th {\n",
       "        text-align: right;\n",
       "    }\n",
       "</style>\n",
       "<table border=\"1\" class=\"dataframe\">\n",
       "  <thead>\n",
       "    <tr style=\"text-align: right;\">\n",
       "      <th></th>\n",
       "      <th>Price</th>\n",
       "      <th>RegistrationYear</th>\n",
       "      <th>Power</th>\n",
       "      <th>Kilometer</th>\n",
       "      <th>RegistrationMonth</th>\n",
       "      <th>NumberOfPictures</th>\n",
       "      <th>PostalCode</th>\n",
       "    </tr>\n",
       "  </thead>\n",
       "  <tbody>\n",
       "    <tr>\n",
       "      <th>count</th>\n",
       "      <td>354369.000000</td>\n",
       "      <td>354369.000000</td>\n",
       "      <td>354369.000000</td>\n",
       "      <td>354369.000000</td>\n",
       "      <td>354369.000000</td>\n",
       "      <td>354369.0</td>\n",
       "      <td>354369.000000</td>\n",
       "    </tr>\n",
       "    <tr>\n",
       "      <th>mean</th>\n",
       "      <td>4416.656776</td>\n",
       "      <td>2004.234448</td>\n",
       "      <td>110.094337</td>\n",
       "      <td>128211.172535</td>\n",
       "      <td>5.714645</td>\n",
       "      <td>0.0</td>\n",
       "      <td>50508.689087</td>\n",
       "    </tr>\n",
       "    <tr>\n",
       "      <th>std</th>\n",
       "      <td>4514.158514</td>\n",
       "      <td>90.227958</td>\n",
       "      <td>189.850405</td>\n",
       "      <td>37905.341530</td>\n",
       "      <td>3.726421</td>\n",
       "      <td>0.0</td>\n",
       "      <td>25783.096248</td>\n",
       "    </tr>\n",
       "    <tr>\n",
       "      <th>min</th>\n",
       "      <td>0.000000</td>\n",
       "      <td>1000.000000</td>\n",
       "      <td>0.000000</td>\n",
       "      <td>5000.000000</td>\n",
       "      <td>0.000000</td>\n",
       "      <td>0.0</td>\n",
       "      <td>1067.000000</td>\n",
       "    </tr>\n",
       "    <tr>\n",
       "      <th>25%</th>\n",
       "      <td>1050.000000</td>\n",
       "      <td>1999.000000</td>\n",
       "      <td>69.000000</td>\n",
       "      <td>125000.000000</td>\n",
       "      <td>3.000000</td>\n",
       "      <td>0.0</td>\n",
       "      <td>30165.000000</td>\n",
       "    </tr>\n",
       "    <tr>\n",
       "      <th>50%</th>\n",
       "      <td>2700.000000</td>\n",
       "      <td>2003.000000</td>\n",
       "      <td>105.000000</td>\n",
       "      <td>150000.000000</td>\n",
       "      <td>6.000000</td>\n",
       "      <td>0.0</td>\n",
       "      <td>49413.000000</td>\n",
       "    </tr>\n",
       "    <tr>\n",
       "      <th>75%</th>\n",
       "      <td>6400.000000</td>\n",
       "      <td>2008.000000</td>\n",
       "      <td>143.000000</td>\n",
       "      <td>150000.000000</td>\n",
       "      <td>9.000000</td>\n",
       "      <td>0.0</td>\n",
       "      <td>71083.000000</td>\n",
       "    </tr>\n",
       "    <tr>\n",
       "      <th>max</th>\n",
       "      <td>20000.000000</td>\n",
       "      <td>9999.000000</td>\n",
       "      <td>20000.000000</td>\n",
       "      <td>150000.000000</td>\n",
       "      <td>12.000000</td>\n",
       "      <td>0.0</td>\n",
       "      <td>99998.000000</td>\n",
       "    </tr>\n",
       "  </tbody>\n",
       "</table>\n",
       "</div>"
      ],
      "text/plain": [
       "               Price  RegistrationYear          Power      Kilometer  \\\n",
       "count  354369.000000     354369.000000  354369.000000  354369.000000   \n",
       "mean     4416.656776       2004.234448     110.094337  128211.172535   \n",
       "std      4514.158514         90.227958     189.850405   37905.341530   \n",
       "min         0.000000       1000.000000       0.000000    5000.000000   \n",
       "25%      1050.000000       1999.000000      69.000000  125000.000000   \n",
       "50%      2700.000000       2003.000000     105.000000  150000.000000   \n",
       "75%      6400.000000       2008.000000     143.000000  150000.000000   \n",
       "max     20000.000000       9999.000000   20000.000000  150000.000000   \n",
       "\n",
       "       RegistrationMonth  NumberOfPictures     PostalCode  \n",
       "count      354369.000000          354369.0  354369.000000  \n",
       "mean            5.714645               0.0   50508.689087  \n",
       "std             3.726421               0.0   25783.096248  \n",
       "min             0.000000               0.0    1067.000000  \n",
       "25%             3.000000               0.0   30165.000000  \n",
       "50%             6.000000               0.0   49413.000000  \n",
       "75%             9.000000               0.0   71083.000000  \n",
       "max            12.000000               0.0   99998.000000  "
      ]
     },
     "execution_count": 9,
     "metadata": {},
     "output_type": "execute_result"
    }
   ],
   "source": [
    "data.describe()"
   ]
  },
  {
   "cell_type": "code",
   "execution_count": 10,
   "metadata": {},
   "outputs": [
    {
     "data": {
      "text/plain": [
       "<AxesSubplot:>"
      ]
     },
     "execution_count": 10,
     "metadata": {},
     "output_type": "execute_result"
    },
    {
     "data": {
      "image/png": "[encoded data removed]",
      "text/plain": [
       "<Figure size 432x288 with 1 Axes>"
      ]
     },
     "metadata": {
      "needs_background": "light"
     },
     "output_type": "display_data"
    }
   ],
   "source": [
    "data.boxplot()"
   ]
  },
  {
   "cell_type": "code",
   "execution_count": 11,
   "metadata": {},
   "outputs": [
    {
     "data": {
      "text/plain": [
       "array([[<AxesSubplot:title={'center':'Price'}>,\n",
       "        <AxesSubplot:title={'center':'RegistrationYear'}>,\n",
       "        <AxesSubplot:title={'center':'Power'}>],\n",
       "       [<AxesSubplot:title={'center':'Kilometer'}>,\n",
       "        <AxesSubplot:title={'center':'RegistrationMonth'}>,\n",
       "        <AxesSubplot:title={'center':'NumberOfPictures'}>],\n",
       "       [<AxesSubplot:title={'center':'PostalCode'}>, <AxesSubplot:>,\n",
       "        <AxesSubplot:>]], dtype=object)"
      ]
     },
     "execution_count": 11,
     "metadata": {},
     "output_type": "execute_result"
    },
    {
     "data": {
      "image/png": "[encoded data removed]",
      "text/plain": [
       "<Figure size 6480x6480 with 9 Axes>"
      ]
     },
     "metadata": {
      "needs_background": "light"
     },
     "output_type": "display_data"
    }
   ],
   "source": [
    "data.hist(bins=50, figsize=(90,90))"
   ]
  },
  {
   "cell_type": "code",
   "execution_count": 12,
   "metadata": {},
   "outputs": [
    {
     "data": {
      "text/plain": [
       "DateCrawled              0\n",
       "Price                    0\n",
       "VehicleType          37490\n",
       "RegistrationYear         0\n",
       "Gearbox              19833\n",
       "Power                    0\n",
       "Model                19705\n",
       "Kilometer                0\n",
       "RegistrationMonth        0\n",
       "FuelType             32895\n",
       "Brand                    0\n",
       "Repaired             71154\n",
       "DateCreated              0\n",
       "NumberOfPictures         0\n",
       "PostalCode               0\n",
       "LastSeen                 0\n",
       "dtype: int64"
      ]
     },
     "execution_count": 12,
     "metadata": {},
     "output_type": "execute_result"
    }
   ],
   "source": [
    "data.isna().sum()"
   ]
  },
  {
   "cell_type": "code",
   "execution_count": 13,
   "metadata": {},
   "outputs": [
    {
     "data": {
      "image/png": "[encoded data removed]",
      "text/plain": [
       "<Figure size 576x360 with 2 Axes>"
      ]
     },
     "metadata": {
      "needs_background": "light"
     },
     "output_type": "display_data"
    }
   ],
   "source": [
    "corr_matrix = data.corr()\n",
    "\n",
    "fig, ax = plt.subplots(figsize=(8,5))\n",
    "sns.heatmap(corr_matrix, cmap='coolwarm',annot=True, fmt='.1f', ax=ax)\n",
    "plt.show()"
   ]
  },
  {
   "cell_type": "markdown",
   "metadata": {},
   "source": [
    "#### Проверка на уникальные значения в столбце 'NumberOfPictures':"
   ]
  },
  {
   "cell_type": "code",
   "execution_count": 14,
   "metadata": {},
   "outputs": [
    {
     "data": {
      "text/plain": [
       "array([0])"
      ]
     },
     "execution_count": 14,
     "metadata": {},
     "output_type": "execute_result"
    }
   ],
   "source": [
    "data['NumberOfPictures'].unique()"
   ]
  },
  {
   "cell_type": "markdown",
   "metadata": {},
   "source": [
    "Столбец не несет никакой смысловой и информационной нагрузки, удаляем вместе со столбцами дат."
   ]
  },
  {
   "cell_type": "code",
   "execution_count": 15,
   "metadata": {},
   "outputs": [],
   "source": [
    "data = data.drop(['NumberOfPictures', 'DateCrawled', 'DateCreated', 'LastSeen'], axis=1)"
   ]
  },
  {
   "cell_type": "markdown",
   "metadata": {},
   "source": [
    "#### Анализ пропусков пропусков и кодирование данных:"
   ]
  },
  {
   "cell_type": "markdown",
   "metadata": {},
   "source": [
    "Для обучения базовых моделей требуется заполнить пропуски и кодировать категориальные признаки. Создадим копию датасета и будем работать с копией.\n",
    "\n",
    "Пропусков в датасете много, поэтому заменим пропуски в категориальных данных на 'unknown'."
   ]
  },
  {
   "cell_type": "code",
   "execution_count": 9,
   "metadata": {},
   "outputs": [],
   "source": [
    "data_coding = data"
   ]
  },
  {
   "cell_type": "code",
   "execution_count": 10,
   "metadata": {},
   "outputs": [
    {
     "name": "stdout",
     "output_type": "stream",
     "text": [
      "<class 'pandas.core.frame.DataFrame'>\n",
      "RangeIndex: 354369 entries, 0 to 354368\n",
      "Data columns (total 16 columns):\n",
      " #   Column             Non-Null Count   Dtype \n",
      "---  ------             --------------   ----- \n",
      " 0   DateCrawled        354369 non-null  object\n",
      " 1   Price              354369 non-null  int64 \n",
      " 2   VehicleType        316879 non-null  object\n",
      " 3   RegistrationYear   354369 non-null  int64 \n",
      " 4   Gearbox            334536 non-null  object\n",
      " 5   Power              354369 non-null  int64 \n",
      " 6   Model              334664 non-null  object\n",
      " 7   Kilometer          354369 non-null  int64 \n",
      " 8   RegistrationMonth  354369 non-null  int64 \n",
      " 9   FuelType           321474 non-null  object\n",
      " 10  Brand              354369 non-null  object\n",
      " 11  Repaired           283215 non-null  object\n",
      " 12  DateCreated        354369 non-null  object\n",
      " 13  NumberOfPictures   354369 non-null  int64 \n",
      " 14  PostalCode         354369 non-null  int64 \n",
      " 15  LastSeen           354369 non-null  object\n",
      "dtypes: int64(7), object(9)\n",
      "memory usage: 43.3+ MB\n"
     ]
    }
   ],
   "source": [
    "data_coding.info()"
   ]
  },
  {
   "cell_type": "code",
   "execution_count": 11,
   "metadata": {},
   "outputs": [
    {
     "data": {
      "text/plain": [
       "DateCrawled              0\n",
       "Price                    0\n",
       "VehicleType          37490\n",
       "RegistrationYear         0\n",
       "Gearbox              19833\n",
       "Power                    0\n",
       "Model                19705\n",
       "Kilometer                0\n",
       "RegistrationMonth        0\n",
       "FuelType             32895\n",
       "Brand                    0\n",
       "Repaired             71154\n",
       "DateCreated              0\n",
       "NumberOfPictures         0\n",
       "PostalCode               0\n",
       "LastSeen                 0\n",
       "dtype: int64"
      ]
     },
     "execution_count": 11,
     "metadata": {},
     "output_type": "execute_result"
    }
   ],
   "source": [
    "data_coding.isna().sum()"
   ]
  },
  {
   "cell_type": "code",
   "execution_count": 12,
   "metadata": {},
   "outputs": [
    {
     "data": {
      "text/plain": [
       "array([nan, 'yes', 'no'], dtype=object)"
      ]
     },
     "execution_count": 12,
     "metadata": {},
     "output_type": "execute_result"
    }
   ],
   "source": [
    "data_coding['Repaired'].unique()"
   ]
  },
  {
   "cell_type": "code",
   "execution_count": 13,
   "metadata": {},
   "outputs": [],
   "source": [
    "data_coding['Repaired'] = data_coding['Repaired'].fillna(value='unknown_repared')"
   ]
  },
  {
   "cell_type": "code",
   "execution_count": 14,
   "metadata": {},
   "outputs": [
    {
     "data": {
      "text/plain": [
       "array(['petrol', 'gasoline', nan, 'lpg', 'other', 'hybrid', 'cng',\n",
       "       'electric'], dtype=object)"
      ]
     },
     "execution_count": 14,
     "metadata": {},
     "output_type": "execute_result"
    }
   ],
   "source": [
    "data_coding['FuelType'].unique()"
   ]
  },
  {
   "cell_type": "code",
   "execution_count": 15,
   "metadata": {},
   "outputs": [],
   "source": [
    "data_coding['FuelType'] = data_coding['FuelType'].fillna(value='unknown_fueltype')"
   ]
  },
  {
   "cell_type": "code",
   "execution_count": 16,
   "metadata": {},
   "outputs": [
    {
     "data": {
      "text/plain": [
       "array(['golf', nan, 'grand', 'fabia', '3er', '2_reihe', 'other', 'c_max',\n",
       "       '3_reihe', 'passat', 'navara', 'ka', 'polo', 'twingo', 'a_klasse',\n",
       "       'scirocco', '5er', 'meriva', 'arosa', 'c4', 'civic', 'transporter',\n",
       "       'punto', 'e_klasse', 'clio', 'kadett', 'kangoo', 'corsa', 'one',\n",
       "       'fortwo', '1er', 'b_klasse', 'signum', 'astra', 'a8', 'jetta',\n",
       "       'fiesta', 'c_klasse', 'micra', 'vito', 'sprinter', '156', 'escort',\n",
       "       'forester', 'xc_reihe', 'scenic', 'a4', 'a1', 'insignia', 'combo',\n",
       "       'focus', 'tt', 'a6', 'jazz', 'omega', 'slk', '7er', '80', '147',\n",
       "       '100', 'z_reihe', 'sportage', 'sorento', 'v40', 'ibiza', 'mustang',\n",
       "       'eos', 'touran', 'getz', 'a3', 'almera', 'megane', 'lupo', 'r19',\n",
       "       'zafira', 'caddy', 'mondeo', 'cordoba', 'colt', 'impreza',\n",
       "       'vectra', 'berlingo', 'tiguan', 'i_reihe', 'espace', 'sharan',\n",
       "       '6_reihe', 'panda', 'up', 'seicento', 'ceed', '5_reihe', 'yeti',\n",
       "       'octavia', 'mii', 'rx_reihe', '6er', 'modus', 'fox', 'matiz',\n",
       "       'beetle', 'c1', 'rio', 'touareg', 'logan', 'spider', 'cuore',\n",
       "       's_max', 'a2', 'galaxy', 'c3', 'viano', 's_klasse', '1_reihe',\n",
       "       'avensis', 'roomster', 'sl', 'kaefer', 'santa', 'cooper', 'leon',\n",
       "       '4_reihe', 'a5', '500', 'laguna', 'ptcruiser', 'clk', 'primera',\n",
       "       'x_reihe', 'exeo', '159', 'transit', 'juke', 'qashqai', 'carisma',\n",
       "       'accord', 'corolla', 'lanos', 'phaeton', 'verso', 'swift', 'rav',\n",
       "       'picanto', 'boxster', 'kalos', 'superb', 'stilo', 'alhambra',\n",
       "       'mx_reihe', 'roadster', 'ypsilon', 'cayenne', 'galant', 'justy',\n",
       "       '90', 'sirion', 'crossfire', 'agila', 'duster', 'cr_reihe', 'v50',\n",
       "       'c_reihe', 'v_klasse', 'm_klasse', 'yaris', 'c5', 'aygo', 'cc',\n",
       "       'carnival', 'fusion', '911', 'bora', 'forfour', 'm_reihe', 'cl',\n",
       "       'tigra', '300c', 'spark', 'v70', 'kuga', 'x_type', 'ducato',\n",
       "       's_type', 'x_trail', 'toledo', 'altea', 'voyager', 'calibra',\n",
       "       'bravo', 'antara', 'tucson', 'citigo', 'jimny', 'wrangler',\n",
       "       'lybra', 'q7', 'lancer', 'captiva', 'c2', 'discovery',\n",
       "       'freelander', 'sandero', 'note', '900', 'cherokee', 'clubman',\n",
       "       'samara', 'defender', '601', 'cx_reihe', 'legacy', 'pajero',\n",
       "       'auris', 'niva', 's60', 'nubira', 'vivaro', 'g_klasse', 'lodgy',\n",
       "       '850', 'range_rover', 'q3', 'serie_2', 'glk', 'charade', 'croma',\n",
       "       'outlander', 'doblo', 'musa', 'move', '9000', 'v60', '145', 'aveo',\n",
       "       '200', 'b_max', 'range_rover_sport', 'terios', 'rangerover', 'q5',\n",
       "       'range_rover_evoque', 'materia', 'delta', 'gl', 'kalina', 'amarok',\n",
       "       'elefantino', 'i3', 'kappa', 'serie_3', 'serie_1'], dtype=object)"
      ]
     },
     "execution_count": 16,
     "metadata": {},
     "output_type": "execute_result"
    }
   ],
   "source": [
    "data_coding['Model'].unique()"
   ]
  },
  {
   "cell_type": "code",
   "execution_count": 17,
   "metadata": {},
   "outputs": [],
   "source": [
    "data_coding['Model'] = data_coding['Model'].fillna(value='unknown_model')"
   ]
  },
  {
   "cell_type": "code",
   "execution_count": 18,
   "metadata": {},
   "outputs": [
    {
     "data": {
      "text/plain": [
       "array(['manual', 'auto', nan], dtype=object)"
      ]
     },
     "execution_count": 18,
     "metadata": {},
     "output_type": "execute_result"
    }
   ],
   "source": [
    "data_coding['Gearbox'].unique()"
   ]
  },
  {
   "cell_type": "code",
   "execution_count": 19,
   "metadata": {},
   "outputs": [],
   "source": [
    "data_coding['Gearbox'] = data_coding['Gearbox'].fillna(value='unknown_gearbox')"
   ]
  },
  {
   "cell_type": "code",
   "execution_count": 20,
   "metadata": {},
   "outputs": [
    {
     "data": {
      "text/plain": [
       "array([nan, 'coupe', 'suv', 'small', 'sedan', 'convertible', 'bus',\n",
       "       'wagon', 'other'], dtype=object)"
      ]
     },
     "execution_count": 20,
     "metadata": {},
     "output_type": "execute_result"
    }
   ],
   "source": [
    "data_coding['VehicleType'].unique()"
   ]
  },
  {
   "cell_type": "code",
   "execution_count": 21,
   "metadata": {},
   "outputs": [],
   "source": [
    "data_coding['VehicleType'] = data_coding['VehicleType'].fillna(value='unknown_vehicletype')"
   ]
  },
  {
   "cell_type": "markdown",
   "metadata": {},
   "source": [
    "#### Кодирование признаков:"
   ]
  },
  {
   "cell_type": "code",
   "execution_count": 22,
   "metadata": {},
   "outputs": [],
   "source": [
    "category_columns = [\"VehicleType\", \"Gearbox\", \"Model\", \"FuelType\", \"Brand\", \"Repaired\"]\n",
    "data_coding = data_coding.astype({key: 'category' for key in category_columns})\n",
    "\n",
    "coding_data = data_coding[[\"VehicleType\", \"Gearbox\", \"Model\", \"FuelType\", \"Brand\", \"Repaired\"]]\n",
    "non_coding_data = data_coding[['Price', 'RegistrationYear', 'Power', 'Kilometer', 'RegistrationMonth']]"
   ]
  },
  {
   "cell_type": "code",
   "execution_count": 23,
   "metadata": {},
   "outputs": [],
   "source": [
    "encoding = OrdinalEncoder(dtype=np.int)\n",
    "encoding.fit(coding_data)\n",
    "encoding_data = pd.DataFrame(encoding.transform(coding_data))"
   ]
  },
  {
   "cell_type": "code",
   "execution_count": 24,
   "metadata": {},
   "outputs": [
    {
     "data": {
      "text/html": [
       "<div>\n",
       "<style scoped>\n",
       "    .dataframe tbody tr th:only-of-type {\n",
       "        vertical-align: middle;\n",
       "    }\n",
       "\n",
       "    .dataframe tbody tr th {\n",
       "        vertical-align: top;\n",
       "    }\n",
       "\n",
       "    .dataframe thead th {\n",
       "        text-align: right;\n",
       "    }\n",
       "</style>\n",
       "<table border=\"1\" class=\"dataframe\">\n",
       "  <thead>\n",
       "    <tr style=\"text-align: right;\">\n",
       "      <th></th>\n",
       "      <th>Price</th>\n",
       "      <th>RegistrationYear</th>\n",
       "      <th>Power</th>\n",
       "      <th>Kilometer</th>\n",
       "      <th>RegistrationMonth</th>\n",
       "      <th>VehicleType</th>\n",
       "      <th>Gearbox</th>\n",
       "      <th>Model</th>\n",
       "      <th>FuelType</th>\n",
       "      <th>Brand</th>\n",
       "      <th>Repaired</th>\n",
       "    </tr>\n",
       "  </thead>\n",
       "  <tbody>\n",
       "    <tr>\n",
       "      <th>0</th>\n",
       "      <td>480</td>\n",
       "      <td>1993</td>\n",
       "      <td>0</td>\n",
       "      <td>150000</td>\n",
       "      <td>0</td>\n",
       "      <td>7</td>\n",
       "      <td>1</td>\n",
       "      <td>116</td>\n",
       "      <td>6</td>\n",
       "      <td>38</td>\n",
       "      <td>1</td>\n",
       "    </tr>\n",
       "    <tr>\n",
       "      <th>1</th>\n",
       "      <td>18300</td>\n",
       "      <td>2011</td>\n",
       "      <td>190</td>\n",
       "      <td>125000</td>\n",
       "      <td>5</td>\n",
       "      <td>2</td>\n",
       "      <td>1</td>\n",
       "      <td>228</td>\n",
       "      <td>2</td>\n",
       "      <td>1</td>\n",
       "      <td>2</td>\n",
       "    </tr>\n",
       "    <tr>\n",
       "      <th>2</th>\n",
       "      <td>9800</td>\n",
       "      <td>2004</td>\n",
       "      <td>163</td>\n",
       "      <td>125000</td>\n",
       "      <td>8</td>\n",
       "      <td>6</td>\n",
       "      <td>0</td>\n",
       "      <td>117</td>\n",
       "      <td>2</td>\n",
       "      <td>14</td>\n",
       "      <td>1</td>\n",
       "    </tr>\n",
       "    <tr>\n",
       "      <th>3</th>\n",
       "      <td>1500</td>\n",
       "      <td>2001</td>\n",
       "      <td>75</td>\n",
       "      <td>150000</td>\n",
       "      <td>6</td>\n",
       "      <td>5</td>\n",
       "      <td>1</td>\n",
       "      <td>116</td>\n",
       "      <td>6</td>\n",
       "      <td>38</td>\n",
       "      <td>0</td>\n",
       "    </tr>\n",
       "    <tr>\n",
       "      <th>4</th>\n",
       "      <td>3600</td>\n",
       "      <td>2008</td>\n",
       "      <td>69</td>\n",
       "      <td>90000</td>\n",
       "      <td>7</td>\n",
       "      <td>5</td>\n",
       "      <td>1</td>\n",
       "      <td>101</td>\n",
       "      <td>2</td>\n",
       "      <td>31</td>\n",
       "      <td>0</td>\n",
       "    </tr>\n",
       "  </tbody>\n",
       "</table>\n",
       "</div>"
      ],
      "text/plain": [
       "   Price  RegistrationYear  Power  Kilometer  RegistrationMonth  VehicleType  \\\n",
       "0    480              1993      0     150000                  0            7   \n",
       "1  18300              2011    190     125000                  5            2   \n",
       "2   9800              2004    163     125000                  8            6   \n",
       "3   1500              2001     75     150000                  6            5   \n",
       "4   3600              2008     69      90000                  7            5   \n",
       "\n",
       "   Gearbox  Model  FuelType  Brand  Repaired  \n",
       "0        1    116         6     38         1  \n",
       "1        1    228         2      1         2  \n",
       "2        0    117         2     14         1  \n",
       "3        1    116         6     38         0  \n",
       "4        1    101         2     31         0  "
      ]
     },
     "execution_count": 24,
     "metadata": {},
     "output_type": "execute_result"
    }
   ],
   "source": [
    "data_after_coding = pd.DataFrame(np.concatenate([non_coding_data, encoding_data], axis = 1))\n",
    "data_after_coding.columns = ['Price', 'RegistrationYear', 'Power', 'Kilometer', 'RegistrationMonth', \"VehicleType\", \"Gearbox\", \"Model\", \"FuelType\", \"Brand\", \"Repaired\"]\n",
    "data_after_coding.head()"
   ]
  },
  {
   "cell_type": "markdown",
   "metadata": {},
   "source": [
    "## Обучение моделей"
   ]
  },
  {
   "cell_type": "code",
   "execution_count": 32,
   "metadata": {},
   "outputs": [],
   "source": [
    "#data_ohe_coding = pd.get_dummies(data_coding, columns=['VehicleType', 'RegistrationYear', 'RegistrationMonth', 'Gearbox', 'Model', 'FuelType', 'PostalCode'], drop_first= True)"
   ]
  },
  {
   "cell_type": "markdown",
   "metadata": {},
   "source": [
    "Для обучения возьмем:\n",
    "- Линейную регрессию\n",
    "- Случайный лес\n",
    "- Градиентный бустинг\n",
    "\n",
    "Линейную регрессию и Случайный лес будем обучать на закодированных признаках, а градиентный бустинг на исходном датасете и закодированном. \n",
    "\n",
    "Выделим 25% датасета в тестовую выборку."
   ]
  },
  {
   "cell_type": "code",
   "execution_count": 25,
   "metadata": {},
   "outputs": [],
   "source": [
    "features_coding = data_after_coding.drop('Price', axis=1)\n",
    "target_coding = data_after_coding['Price']"
   ]
  },
  {
   "cell_type": "code",
   "execution_count": 26,
   "metadata": {},
   "outputs": [],
   "source": [
    "features_train_coding, features_valid_coding, test_train_coding, test_valid_coding = train_test_split(\n",
    "    features_coding, target_coding, test_size=0.25, random_state=12345)"
   ]
  },
  {
   "cell_type": "code",
   "execution_count": 27,
   "metadata": {},
   "outputs": [
    {
     "data": {
      "text/plain": [
       "((265776, 10), (88593, 10), (265776,), (88593,))"
      ]
     },
     "execution_count": 27,
     "metadata": {},
     "output_type": "execute_result"
    }
   ],
   "source": [
    "features_train_coding.shape, features_valid_coding.shape, test_train_coding.shape, test_valid_coding.shape"
   ]
  },
  {
   "cell_type": "markdown",
   "metadata": {},
   "source": [
    "Для интерпритации результата заказчик просит применять RMSE, обучим линейные модели с параметром scoring='neg_mean_absolute_error' и возьмем корень."
   ]
  },
  {
   "cell_type": "markdown",
   "metadata": {},
   "source": [
    "### Линейная регрессия"
   ]
  },
  {
   "cell_type": "code",
   "execution_count": 36,
   "metadata": {},
   "outputs": [
    {
     "name": "stdout",
     "output_type": "stream",
     "text": [
      "Средняя оценка качества модели: 51.621831528876484\n",
      "CPU times: user 1.1 s, sys: 98.5 ms, total: 1.2 s\n",
      "Wall time: 347 ms\n"
     ]
    }
   ],
   "source": [
    "%%time\n",
    "model_linear = LinearRegression()\n",
    "\n",
    "scores = -1 * cross_val_score(model_linear, features_train_coding, test_train_coding, scoring='neg_mean_absolute_error', cv=5)\n",
    "final_score = scores.mean()\n",
    "print('Средняя оценка качества модели:', final_score ** 0.5)"
   ]
  },
  {
   "cell_type": "markdown",
   "metadata": {},
   "source": [
    "### Случайное дерево"
   ]
  },
  {
   "cell_type": "code",
   "execution_count": 37,
   "metadata": {},
   "outputs": [
    {
     "name": "stdout",
     "output_type": "stream",
     "text": [
      "Средняя оценка качества модели: 35.269292209344954\n",
      "CPU times: user 15.6 s, sys: 242 ms, total: 15.9 s\n",
      "Wall time: 15.4 s\n"
     ]
    },
    {
     "data": {
      "text/plain": [
       "{'depth': 16}"
      ]
     },
     "execution_count": 37,
     "metadata": {},
     "output_type": "execute_result"
    }
   ],
   "source": [
    "%%time\n",
    "\n",
    "best_depth = 0\n",
    "best_score = 1500\n",
    "\n",
    "for depth in range(15, 20):\n",
    "    model_three = DecisionTreeRegressor(max_depth=depth)\n",
    "    scores = -1 * cross_val_score(\n",
    "        model_three, features_train_coding, test_train_coding, \n",
    "        scoring='neg_mean_absolute_error', cv=5\n",
    "    )\n",
    "    final_score = scores.mean()\n",
    "    if final_score < best_score:\n",
    "        best_score = final_score\n",
    "        best_depth = depth\n",
    "        \n",
    "# сохраним лучшие параметры в словаре\n",
    "tree_best = {'depth': best_depth}\n",
    "print('Средняя оценка качества модели:', final_score ** 0.5)\n",
    "tree_best"
   ]
  },
  {
   "cell_type": "markdown",
   "metadata": {},
   "source": [
    "### Случайный лес"
   ]
  },
  {
   "cell_type": "code",
   "execution_count": 38,
   "metadata": {},
   "outputs": [
    {
     "name": "stdout",
     "output_type": "stream",
     "text": [
      "Средняя оценка качества модели: 32.88336062286636\n",
      "CPU times: user 3min 45s, sys: 1.08 s, total: 3min 46s\n",
      "Wall time: 3min 47s\n"
     ]
    },
    {
     "data": {
      "text/plain": [
       "{'depth': 16, 'n_estimators': 31}"
      ]
     },
     "execution_count": 38,
     "metadata": {},
     "output_type": "execute_result"
    }
   ],
   "source": [
    "%%time\n",
    "\n",
    "\n",
    "best_depth_forest = 0\n",
    "best_est_forest = 0\n",
    "best_forest_score = 1500\n",
    "\n",
    "for est in range(31, 32):\n",
    "    for depth in range (15, 17):\n",
    "        model_forest = RandomForestRegressor(n_estimators=est, max_depth=depth)\n",
    "        scores = -1 * cross_val_score(\n",
    "            model_forest, features_train_coding, test_train_coding, \n",
    "            scoring='neg_mean_absolute_error', cv=5\n",
    "        )\n",
    "        final_score = scores.mean()\n",
    "        if final_score < best_forest_score:\n",
    "            best_forest_score = final_score\n",
    "            best_est_forest = est\n",
    "            best_depth_forest = depth\n",
    "            \n",
    "forest_best = {'depth': best_depth_forest, 'n_estimators': best_est_forest}\n",
    "print('Средняя оценка качества модели:', best_forest_score**0.5)\n",
    "forest_best"
   ]
  },
  {
   "cell_type": "markdown",
   "metadata": {},
   "source": [
    "###  LGBMRegressor"
   ]
  },
  {
   "cell_type": "code",
   "execution_count": 28,
   "metadata": {},
   "outputs": [],
   "source": [
    "lgb_params = {\n",
    "    'learning_rate': 0.01,\n",
    "    'max_depth': 5,\n",
    "    'num_leaves': 40, \n",
    "    'objective': 'multiclass',\n",
    "    'num_class':9,\n",
    "    'tree_learner':'voting',\n",
    "    'metric':'multi_logloss',\n",
    "    'feature_fraction': 0.75,\n",
    "    'bagging_fraction': 0.75,\n",
    "    'max_bin': 100}"
   ]
  },
  {
   "cell_type": "code",
   "execution_count": 29,
   "metadata": {},
   "outputs": [],
   "source": [
    "dtrain_lgb = lgb.Dataset(features_train_coding, label=test_train_coding)\n"
   ]
  },
  {
   "cell_type": "code",
   "execution_count": null,
   "metadata": {},
   "outputs": [],
   "source": [
    "cv_result_lgb = lgb.cv(lgb_params, \n",
    "                       dtrain_lgb, \n",
    "                       num_boost_round=1000, \n",
    "                       nfold=5, \n",
    "                       stratified=True, \n",
    "                       early_stopping_rounds=50, \n",
    "                       verbose_eval=100, \n",
    "                       show_stdv=True)"
   ]
  },
  {
   "cell_type": "code",
   "execution_count": null,
   "metadata": {},
   "outputs": [],
   "source": [
    "num_boost_rounds_lgb = len(cv_result_lgb['multi_logloss-mean'])\n",
    "print('num_boost_rounds_lgb=' + str(num_boost_rounds_lgb))"
   ]
  },
  {
   "cell_type": "markdown",
   "metadata": {},
   "source": [
    "!!!!!!!!!!!!!!!!!!!!!!!!!!!!!!!!!!!!!\n",
    "\n",
    "У меня какая-то беда с этим lgb, прошу помощи. Ноутбук умирает на этом этапе и я не могу его добить. Выводы не писала, прошу помощи, что бы провести дальше тесты уже на лучшей модели."
   ]
  },
  {
   "cell_type": "code",
   "execution_count": null,
   "metadata": {},
   "outputs": [],
   "source": []
  },
  {
   "cell_type": "code",
   "execution_count": null,
   "metadata": {},
   "outputs": [],
   "source": []
  },
  {
   "cell_type": "code",
   "execution_count": null,
   "metadata": {},
   "outputs": [],
   "source": []
  },
  {
   "cell_type": "markdown",
   "metadata": {},
   "source": []
  },
  {
   "cell_type": "code",
   "execution_count": null,
   "metadata": {},
   "outputs": [],
   "source": []
  },
  {
   "cell_type": "code",
   "execution_count": null,
   "metadata": {},
   "outputs": [],
   "source": []
  },
  {
   "cell_type": "code",
   "execution_count": null,
   "metadata": {},
   "outputs": [],
   "source": []
  },
  {
   "cell_type": "code",
   "execution_count": null,
   "metadata": {},
   "outputs": [],
   "source": []
  },
  {
   "cell_type": "markdown",
   "metadata": {},
   "source": [
    "## Анализ моделей"
   ]
  },
  {
   "cell_type": "code",
   "execution_count": null,
   "metadata": {},
   "outputs": [],
   "source": []
  },
  {
   "cell_type": "markdown",
   "metadata": {},
   "source": [
    "## Чек-лист проверки"
   ]
  },
  {
   "cell_type": "markdown",
   "metadata": {},
   "source": [
    "Поставьте 'x' в выполненных пунктах. Далее нажмите Shift+Enter."
   ]
  },
  {
   "cell_type": "markdown",
   "metadata": {},
   "source": [
    "- [x]  Jupyter Notebook открыт\n",
    "- [ ]  Весь код выполняется без ошибок\n",
    "- [ ]  Ячейки с кодом расположены в порядке исполнения\n",
    "- [ ]  Выполнена загрузка и подготовка данных\n",
    "- [ ]  Выполнено обучение моделей\n",
    "- [ ]  Есть анализ скорости работы и качества моделей"
   ]
  },
  {
   "cell_type": "code",
   "execution_count": null,
   "metadata": {},
   "outputs": [],
   "source": []
  }
 ],
 "metadata": {
  "ExecuteTimeLog": [
   {
    "duration": 387,
    "start_time": "2023-05-10T16:50:07.089Z"
   },
   {
    "duration": 1149,
    "start_time": "2023-05-10T16:50:08.125Z"
   },
   {
    "duration": 21,
    "start_time": "2023-05-10T16:50:17.872Z"
   },
   {
    "duration": 498,
    "start_time": "2023-05-10T19:43:46.591Z"
   },
   {
    "duration": 1394,
    "start_time": "2023-05-10T19:43:47.664Z"
   },
   {
    "duration": 22,
    "start_time": "2023-05-10T19:43:49.061Z"
   },
   {
    "duration": 49,
    "start_time": "2023-05-10T19:49:44.764Z"
   },
   {
    "duration": 131,
    "start_time": "2023-05-10T20:01:04.497Z"
   },
   {
    "duration": 128,
    "start_time": "2023-05-10T20:01:24.362Z"
   },
   {
    "duration": 109,
    "start_time": "2023-05-10T20:01:30.855Z"
   },
   {
    "duration": 156,
    "start_time": "2023-05-10T20:01:47.272Z"
   },
   {
    "duration": 173,
    "start_time": "2023-05-10T20:15:26.047Z"
   },
   {
    "duration": 1167,
    "start_time": "2023-05-10T20:16:03.378Z"
   },
   {
    "duration": 995,
    "start_time": "2023-05-10T20:16:08.264Z"
   },
   {
    "duration": 810,
    "start_time": "2023-05-10T20:16:59.115Z"
   },
   {
    "duration": 827,
    "start_time": "2023-05-10T20:17:07.392Z"
   },
   {
    "duration": 758,
    "start_time": "2023-05-10T20:17:20.055Z"
   },
   {
    "duration": 825,
    "start_time": "2023-05-10T20:17:31.082Z"
   },
   {
    "duration": 697,
    "start_time": "2023-05-10T20:17:41.581Z"
   },
   {
    "duration": 691,
    "start_time": "2023-05-10T20:18:02.719Z"
   },
   {
    "duration": 7,
    "start_time": "2023-05-10T20:34:32.975Z"
   },
   {
    "duration": 90,
    "start_time": "2023-05-10T20:36:45.143Z"
   },
   {
    "duration": 649,
    "start_time": "2023-05-10T20:49:46.959Z"
   },
   {
    "duration": 3,
    "start_time": "2023-05-10T21:07:00.453Z"
   },
   {
    "duration": 128,
    "start_time": "2023-05-10T21:07:20.459Z"
   },
   {
    "duration": 73,
    "start_time": "2023-05-10T21:09:42.837Z"
   },
   {
    "duration": 26,
    "start_time": "2023-05-10T21:10:09.046Z"
   },
   {
    "duration": 42,
    "start_time": "2023-05-10T21:10:20.331Z"
   },
   {
    "duration": 1268,
    "start_time": "2023-05-10T21:10:21.763Z"
   },
   {
    "duration": 1015,
    "start_time": "2023-05-10T21:10:23.033Z"
   },
   {
    "duration": 24,
    "start_time": "2023-05-10T21:10:24.050Z"
   },
   {
    "duration": 140,
    "start_time": "2023-05-10T21:10:26.036Z"
   },
   {
    "duration": 111,
    "start_time": "2023-05-10T21:10:27.111Z"
   },
   {
    "duration": 129,
    "start_time": "2023-05-10T21:10:29.225Z"
   },
   {
    "duration": 703,
    "start_time": "2023-05-10T21:10:31.283Z"
   },
   {
    "duration": 7,
    "start_time": "2023-05-10T21:10:34.162Z"
   },
   {
    "duration": 34,
    "start_time": "2023-05-10T21:10:37.538Z"
   },
   {
    "duration": 3,
    "start_time": "2023-05-10T21:10:40.033Z"
   },
   {
    "duration": 108,
    "start_time": "2023-05-10T21:10:41.509Z"
   },
   {
    "duration": 34,
    "start_time": "2023-05-10T21:30:43.878Z"
   },
   {
    "duration": 21,
    "start_time": "2023-05-10T21:32:03.221Z"
   },
   {
    "duration": 26,
    "start_time": "2023-05-10T21:32:39.783Z"
   },
   {
    "duration": 45,
    "start_time": "2023-05-11T09:40:04.124Z"
   },
   {
    "duration": 1464,
    "start_time": "2023-05-11T09:40:04.171Z"
   },
   {
    "duration": 1268,
    "start_time": "2023-05-11T09:40:05.637Z"
   },
   {
    "duration": 19,
    "start_time": "2023-05-11T09:40:06.907Z"
   },
   {
    "duration": 172,
    "start_time": "2023-05-11T09:40:06.928Z"
   },
   {
    "duration": 102,
    "start_time": "2023-05-11T09:40:07.102Z"
   },
   {
    "duration": 119,
    "start_time": "2023-05-11T09:40:07.206Z"
   },
   {
    "duration": 768,
    "start_time": "2023-05-11T09:40:07.327Z"
   },
   {
    "duration": 7,
    "start_time": "2023-05-11T09:40:08.097Z"
   },
   {
    "duration": 32,
    "start_time": "2023-05-11T09:40:08.106Z"
   },
   {
    "duration": 4,
    "start_time": "2023-05-11T09:40:08.141Z"
   },
   {
    "duration": 146,
    "start_time": "2023-05-11T09:40:08.147Z"
   },
   {
    "duration": 51,
    "start_time": "2023-05-11T09:46:57.764Z"
   },
   {
    "duration": 1143,
    "start_time": "2023-05-11T09:46:57.818Z"
   },
   {
    "duration": 1099,
    "start_time": "2023-05-11T09:46:58.963Z"
   },
   {
    "duration": 16,
    "start_time": "2023-05-11T09:47:00.064Z"
   },
   {
    "duration": 162,
    "start_time": "2023-05-11T09:47:00.082Z"
   },
   {
    "duration": 108,
    "start_time": "2023-05-11T09:47:00.246Z"
   },
   {
    "duration": 120,
    "start_time": "2023-05-11T09:47:00.356Z"
   },
   {
    "duration": 633,
    "start_time": "2023-05-11T09:47:00.477Z"
   },
   {
    "duration": 6,
    "start_time": "2023-05-11T09:47:01.112Z"
   },
   {
    "duration": 53,
    "start_time": "2023-05-11T09:47:01.120Z"
   },
   {
    "duration": 27,
    "start_time": "2023-05-11T09:47:01.175Z"
   },
   {
    "duration": 139,
    "start_time": "2023-05-11T09:47:01.204Z"
   },
   {
    "duration": 59,
    "start_time": "2023-05-11T09:47:55.718Z"
   },
   {
    "duration": 61,
    "start_time": "2023-05-11T09:48:07.517Z"
   },
   {
    "duration": 1117,
    "start_time": "2023-05-11T09:48:09.436Z"
   },
   {
    "duration": 1074,
    "start_time": "2023-05-11T09:48:10.807Z"
   },
   {
    "duration": 17,
    "start_time": "2023-05-11T09:48:11.883Z"
   },
   {
    "duration": 107,
    "start_time": "2023-05-11T09:48:12.107Z"
   },
   {
    "duration": 103,
    "start_time": "2023-05-11T09:48:13.223Z"
   },
   {
    "duration": 114,
    "start_time": "2023-05-11T09:48:13.734Z"
   },
   {
    "duration": 626,
    "start_time": "2023-05-11T09:48:14.893Z"
   },
   {
    "duration": 7,
    "start_time": "2023-05-11T09:48:17.645Z"
   },
   {
    "duration": 28,
    "start_time": "2023-05-11T09:48:19.834Z"
   },
   {
    "duration": 3,
    "start_time": "2023-05-11T09:48:21.705Z"
   },
   {
    "duration": 72,
    "start_time": "2023-05-11T09:48:22.752Z"
   },
   {
    "duration": 49,
    "start_time": "2023-05-11T09:48:53.614Z"
   },
   {
    "duration": 1286,
    "start_time": "2023-05-11T09:48:53.665Z"
   },
   {
    "duration": 1099,
    "start_time": "2023-05-11T09:48:54.953Z"
   },
   {
    "duration": 15,
    "start_time": "2023-05-11T09:48:56.055Z"
   },
   {
    "duration": 145,
    "start_time": "2023-05-11T09:48:56.072Z"
   },
   {
    "duration": 116,
    "start_time": "2023-05-11T09:48:56.219Z"
   },
   {
    "duration": 160,
    "start_time": "2023-05-11T09:48:56.338Z"
   },
   {
    "duration": 656,
    "start_time": "2023-05-11T09:48:56.500Z"
   },
   {
    "duration": 7,
    "start_time": "2023-05-11T09:48:57.157Z"
   },
   {
    "duration": 48,
    "start_time": "2023-05-11T09:48:57.167Z"
   },
   {
    "duration": 22,
    "start_time": "2023-05-11T09:48:57.217Z"
   },
   {
    "duration": 170,
    "start_time": "2023-05-11T09:48:57.241Z"
   },
   {
    "duration": 42,
    "start_time": "2023-05-11T09:49:57.418Z"
   },
   {
    "duration": 1283,
    "start_time": "2023-05-11T09:49:57.462Z"
   },
   {
    "duration": 1083,
    "start_time": "2023-05-11T09:49:58.747Z"
   },
   {
    "duration": 14,
    "start_time": "2023-05-11T09:49:59.832Z"
   },
   {
    "duration": 103,
    "start_time": "2023-05-11T09:49:59.849Z"
   },
   {
    "duration": 118,
    "start_time": "2023-05-11T09:49:59.954Z"
   },
   {
    "duration": 123,
    "start_time": "2023-05-11T09:50:00.074Z"
   },
   {
    "duration": 744,
    "start_time": "2023-05-11T09:50:00.199Z"
   },
   {
    "duration": 5,
    "start_time": "2023-05-11T09:50:00.945Z"
   },
   {
    "duration": 40,
    "start_time": "2023-05-11T09:50:00.952Z"
   },
   {
    "duration": 8,
    "start_time": "2023-05-11T09:50:00.995Z"
   },
   {
    "duration": 155,
    "start_time": "2023-05-11T09:50:01.005Z"
   },
   {
    "duration": 3,
    "start_time": "2023-05-11T09:50:01.163Z"
   },
   {
    "duration": 82,
    "start_time": "2023-05-11T09:50:01.169Z"
   },
   {
    "duration": 55,
    "start_time": "2023-05-11T09:50:01.252Z"
   },
   {
    "duration": 61,
    "start_time": "2023-05-11T09:50:01.309Z"
   },
   {
    "duration": 73,
    "start_time": "2023-05-11T09:52:43.302Z"
   },
   {
    "duration": 26,
    "start_time": "2023-05-11T09:53:59.296Z"
   },
   {
    "duration": 22,
    "start_time": "2023-05-11T09:54:02.562Z"
   },
   {
    "duration": 30,
    "start_time": "2023-05-11T09:59:55.703Z"
   },
   {
    "duration": 20,
    "start_time": "2023-05-11T10:00:11.654Z"
   },
   {
    "duration": 36,
    "start_time": "2023-05-11T10:00:23.750Z"
   },
   {
    "duration": 155,
    "start_time": "2023-05-11T10:00:24.782Z"
   },
   {
    "duration": 52,
    "start_time": "2023-05-11T10:05:31.770Z"
   },
   {
    "duration": 1234,
    "start_time": "2023-05-11T10:05:31.824Z"
   },
   {
    "duration": 826,
    "start_time": "2023-05-11T10:05:33.060Z"
   },
   {
    "duration": 17,
    "start_time": "2023-05-11T10:05:33.887Z"
   },
   {
    "duration": 125,
    "start_time": "2023-05-11T10:05:33.905Z"
   },
   {
    "duration": 109,
    "start_time": "2023-05-11T10:05:34.032Z"
   },
   {
    "duration": 111,
    "start_time": "2023-05-11T10:05:34.143Z"
   },
   {
    "duration": 610,
    "start_time": "2023-05-11T10:05:34.256Z"
   },
   {
    "duration": 7,
    "start_time": "2023-05-11T10:05:34.868Z"
   },
   {
    "duration": 54,
    "start_time": "2023-05-11T10:05:34.877Z"
   },
   {
    "duration": 10,
    "start_time": "2023-05-11T10:05:34.933Z"
   },
   {
    "duration": 99,
    "start_time": "2023-05-11T10:05:34.945Z"
   },
   {
    "duration": 76,
    "start_time": "2023-05-11T10:05:35.047Z"
   },
   {
    "duration": 42,
    "start_time": "2023-05-11T10:05:35.125Z"
   },
   {
    "duration": 30,
    "start_time": "2023-05-11T10:05:35.169Z"
   },
   {
    "duration": 104,
    "start_time": "2023-05-11T10:05:35.201Z"
   },
   {
    "duration": 0,
    "start_time": "2023-05-11T10:05:35.306Z"
   },
   {
    "duration": 0,
    "start_time": "2023-05-11T10:05:35.307Z"
   },
   {
    "duration": 0,
    "start_time": "2023-05-11T10:05:35.308Z"
   },
   {
    "duration": 0,
    "start_time": "2023-05-11T10:05:35.309Z"
   },
   {
    "duration": 0,
    "start_time": "2023-05-11T10:05:35.311Z"
   },
   {
    "duration": 34,
    "start_time": "2023-05-11T10:53:56.361Z"
   },
   {
    "duration": 1163,
    "start_time": "2023-05-11T10:53:56.397Z"
   },
   {
    "duration": 794,
    "start_time": "2023-05-11T10:53:57.562Z"
   },
   {
    "duration": 15,
    "start_time": "2023-05-11T10:53:58.358Z"
   },
   {
    "duration": 123,
    "start_time": "2023-05-11T10:53:58.375Z"
   },
   {
    "duration": 94,
    "start_time": "2023-05-11T10:53:58.500Z"
   },
   {
    "duration": 106,
    "start_time": "2023-05-11T10:53:58.596Z"
   },
   {
    "duration": 592,
    "start_time": "2023-05-11T10:53:58.704Z"
   },
   {
    "duration": 5,
    "start_time": "2023-05-11T10:53:59.299Z"
   },
   {
    "duration": 28,
    "start_time": "2023-05-11T10:53:59.306Z"
   },
   {
    "duration": 6,
    "start_time": "2023-05-11T10:53:59.337Z"
   },
   {
    "duration": 94,
    "start_time": "2023-05-11T10:53:59.344Z"
   },
   {
    "duration": 85,
    "start_time": "2023-05-11T10:53:59.439Z"
   },
   {
    "duration": 18,
    "start_time": "2023-05-11T10:53:59.528Z"
   },
   {
    "duration": 17,
    "start_time": "2023-05-11T10:53:59.547Z"
   },
   {
    "duration": 114,
    "start_time": "2023-05-11T10:53:59.566Z"
   },
   {
    "duration": 0,
    "start_time": "2023-05-11T10:53:59.682Z"
   },
   {
    "duration": 0,
    "start_time": "2023-05-11T10:53:59.682Z"
   },
   {
    "duration": 0,
    "start_time": "2023-05-11T10:53:59.683Z"
   },
   {
    "duration": 0,
    "start_time": "2023-05-11T10:53:59.684Z"
   },
   {
    "duration": 0,
    "start_time": "2023-05-11T10:53:59.692Z"
   },
   {
    "duration": 72,
    "start_time": "2023-05-11T10:55:02.177Z"
   },
   {
    "duration": 1276,
    "start_time": "2023-05-11T10:55:02.252Z"
   },
   {
    "duration": 783,
    "start_time": "2023-05-11T10:55:03.530Z"
   },
   {
    "duration": 15,
    "start_time": "2023-05-11T10:55:04.315Z"
   },
   {
    "duration": 128,
    "start_time": "2023-05-11T10:55:04.331Z"
   },
   {
    "duration": 105,
    "start_time": "2023-05-11T10:55:04.461Z"
   },
   {
    "duration": 106,
    "start_time": "2023-05-11T10:55:04.568Z"
   },
   {
    "duration": 606,
    "start_time": "2023-05-11T10:55:04.676Z"
   },
   {
    "duration": 6,
    "start_time": "2023-05-11T10:55:05.292Z"
   },
   {
    "duration": 28,
    "start_time": "2023-05-11T10:55:05.301Z"
   },
   {
    "duration": 4,
    "start_time": "2023-05-11T10:55:05.331Z"
   },
   {
    "duration": 97,
    "start_time": "2023-05-11T10:55:05.336Z"
   },
   {
    "duration": 73,
    "start_time": "2023-05-11T10:55:05.436Z"
   },
   {
    "duration": 17,
    "start_time": "2023-05-11T10:55:05.511Z"
   },
   {
    "duration": 22,
    "start_time": "2023-05-11T10:55:05.529Z"
   },
   {
    "duration": 24,
    "start_time": "2023-05-11T10:55:05.553Z"
   },
   {
    "duration": 30,
    "start_time": "2023-05-11T10:55:05.579Z"
   },
   {
    "duration": 22,
    "start_time": "2023-05-11T10:55:05.610Z"
   },
   {
    "duration": 18,
    "start_time": "2023-05-11T10:55:05.634Z"
   },
   {
    "duration": 38,
    "start_time": "2023-05-11T10:55:05.654Z"
   },
   {
    "duration": 4,
    "start_time": "2023-05-11T10:55:05.693Z"
   },
   {
    "duration": 48,
    "start_time": "2023-05-11T11:11:32.372Z"
   },
   {
    "duration": 1155,
    "start_time": "2023-05-11T11:11:32.422Z"
   },
   {
    "duration": 1136,
    "start_time": "2023-05-11T11:11:33.579Z"
   },
   {
    "duration": 17,
    "start_time": "2023-05-11T11:11:34.718Z"
   },
   {
    "duration": 120,
    "start_time": "2023-05-11T11:11:34.736Z"
   },
   {
    "duration": 107,
    "start_time": "2023-05-11T11:11:34.857Z"
   },
   {
    "duration": 110,
    "start_time": "2023-05-11T11:11:34.966Z"
   },
   {
    "duration": 618,
    "start_time": "2023-05-11T11:11:35.078Z"
   },
   {
    "duration": 9,
    "start_time": "2023-05-11T11:11:35.698Z"
   },
   {
    "duration": 36,
    "start_time": "2023-05-11T11:11:35.709Z"
   },
   {
    "duration": 6,
    "start_time": "2023-05-11T11:11:35.747Z"
   },
   {
    "duration": 93,
    "start_time": "2023-05-11T11:11:35.754Z"
   },
   {
    "duration": 77,
    "start_time": "2023-05-11T11:11:35.848Z"
   },
   {
    "duration": 32,
    "start_time": "2023-05-11T11:11:35.927Z"
   },
   {
    "duration": 35,
    "start_time": "2023-05-11T11:11:35.961Z"
   },
   {
    "duration": 25,
    "start_time": "2023-05-11T11:11:35.998Z"
   },
   {
    "duration": 41,
    "start_time": "2023-05-11T11:11:36.025Z"
   },
   {
    "duration": 24,
    "start_time": "2023-05-11T11:11:36.068Z"
   },
   {
    "duration": 27,
    "start_time": "2023-05-11T11:11:36.095Z"
   },
   {
    "duration": 18,
    "start_time": "2023-05-11T11:11:36.123Z"
   },
   {
    "duration": 24,
    "start_time": "2023-05-11T11:11:36.142Z"
   },
   {
    "duration": 31,
    "start_time": "2023-05-11T11:11:36.168Z"
   },
   {
    "duration": 19,
    "start_time": "2023-05-11T11:11:36.201Z"
   },
   {
    "duration": 49,
    "start_time": "2023-05-11T11:12:27.513Z"
   },
   {
    "duration": 1170,
    "start_time": "2023-05-11T11:12:27.565Z"
   },
   {
    "duration": 1175,
    "start_time": "2023-05-11T11:12:28.737Z"
   },
   {
    "duration": 17,
    "start_time": "2023-05-11T11:12:29.914Z"
   },
   {
    "duration": 126,
    "start_time": "2023-05-11T11:12:29.933Z"
   },
   {
    "duration": 116,
    "start_time": "2023-05-11T11:12:30.061Z"
   },
   {
    "duration": 121,
    "start_time": "2023-05-11T11:12:30.178Z"
   },
   {
    "duration": 642,
    "start_time": "2023-05-11T11:12:30.301Z"
   },
   {
    "duration": 5,
    "start_time": "2023-05-11T11:12:30.945Z"
   },
   {
    "duration": 59,
    "start_time": "2023-05-11T11:12:30.952Z"
   },
   {
    "duration": 20,
    "start_time": "2023-05-11T11:12:31.013Z"
   },
   {
    "duration": 109,
    "start_time": "2023-05-11T11:12:31.035Z"
   },
   {
    "duration": 85,
    "start_time": "2023-05-11T11:12:31.146Z"
   },
   {
    "duration": 44,
    "start_time": "2023-05-11T11:12:31.233Z"
   },
   {
    "duration": 47,
    "start_time": "2023-05-11T11:12:31.278Z"
   },
   {
    "duration": 43,
    "start_time": "2023-05-11T11:12:31.327Z"
   },
   {
    "duration": 51,
    "start_time": "2023-05-11T11:12:31.372Z"
   },
   {
    "duration": 42,
    "start_time": "2023-05-11T11:12:31.425Z"
   },
   {
    "duration": 51,
    "start_time": "2023-05-11T11:12:31.469Z"
   },
   {
    "duration": 54,
    "start_time": "2023-05-11T11:12:31.522Z"
   },
   {
    "duration": 48,
    "start_time": "2023-05-11T11:12:31.578Z"
   },
   {
    "duration": 48,
    "start_time": "2023-05-11T11:12:31.628Z"
   },
   {
    "duration": 42,
    "start_time": "2023-05-11T11:12:31.678Z"
   },
   {
    "duration": 77,
    "start_time": "2023-05-11T11:16:49.823Z"
   },
   {
    "duration": 1141,
    "start_time": "2023-05-11T11:16:49.902Z"
   },
   {
    "duration": 1166,
    "start_time": "2023-05-11T11:16:51.045Z"
   },
   {
    "duration": 17,
    "start_time": "2023-05-11T11:16:52.213Z"
   },
   {
    "duration": 129,
    "start_time": "2023-05-11T11:16:52.232Z"
   },
   {
    "duration": 115,
    "start_time": "2023-05-11T11:16:52.363Z"
   },
   {
    "duration": 115,
    "start_time": "2023-05-11T11:16:52.480Z"
   },
   {
    "duration": 591,
    "start_time": "2023-05-11T11:16:52.597Z"
   },
   {
    "duration": 5,
    "start_time": "2023-05-11T11:16:53.191Z"
   },
   {
    "duration": 35,
    "start_time": "2023-05-11T11:16:53.199Z"
   },
   {
    "duration": 7,
    "start_time": "2023-05-11T11:16:53.236Z"
   },
   {
    "duration": 82,
    "start_time": "2023-05-11T11:16:53.245Z"
   },
   {
    "duration": 84,
    "start_time": "2023-05-11T11:16:53.329Z"
   },
   {
    "duration": 21,
    "start_time": "2023-05-11T11:16:53.415Z"
   },
   {
    "duration": 20,
    "start_time": "2023-05-11T11:16:53.438Z"
   },
   {
    "duration": 41,
    "start_time": "2023-05-11T11:16:53.460Z"
   },
   {
    "duration": 18,
    "start_time": "2023-05-11T11:16:53.503Z"
   },
   {
    "duration": 31,
    "start_time": "2023-05-11T11:16:53.523Z"
   },
   {
    "duration": 27,
    "start_time": "2023-05-11T11:16:53.556Z"
   },
   {
    "duration": 19,
    "start_time": "2023-05-11T11:16:53.592Z"
   },
   {
    "duration": 36,
    "start_time": "2023-05-11T11:16:53.613Z"
   },
   {
    "duration": 27,
    "start_time": "2023-05-11T11:16:53.651Z"
   },
   {
    "duration": 19,
    "start_time": "2023-05-11T11:16:53.692Z"
   }
  ],
  "kernelspec": {
   "display_name": "Python 3 (ipykernel)",
   "language": "python",
   "name": "python3"
  },
  "language_info": {
   "codemirror_mode": {
    "name": "ipython",
    "version": 3
   },
   "file_extension": ".py",
   "mimetype": "text/x-python",
   "name": "python",
   "nbconvert_exporter": "python",
   "pygments_lexer": "ipython3",
   "version": "3.9.12"
  },
  "toc": {
   "base_numbering": 1,
   "nav_menu": {},
   "number_sections": true,
   "sideBar": true,
   "skip_h1_title": true,
   "title_cell": "Table of Contents",
   "title_sidebar": "Contents",
   "toc_cell": false,
   "toc_position": {},
   "toc_section_display": true,
   "toc_window_display": false
  }
 },
 "nbformat": 4,
 "nbformat_minor": 2
}
