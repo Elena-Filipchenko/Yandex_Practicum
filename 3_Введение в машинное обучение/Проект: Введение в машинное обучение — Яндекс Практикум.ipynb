{
 "cells": [
  {
   "cell_type": "markdown",
   "metadata": {},
   "source": [
    "# Рекомендация тарифов"
   ]
  },
  {
   "cell_type": "markdown",
   "metadata": {},
   "source": [
    "В вашем распоряжении данные о поведении клиентов, которые уже перешли на эти тарифы (из проекта курса «Статистический анализ данных»). Нужно построить модель для задачи классификации, которая выберет подходящий тариф. Предобработка данных не понадобится — вы её уже сделали.\n",
    "\n",
    "Постройте модель с максимально большим значением *accuracy*. Чтобы сдать проект успешно, нужно довести долю правильных ответов по крайней мере до 0.75. Проверьте *accuracy* на тестовой выборке самостоятельно."
   ]
  },
  {
   "cell_type": "markdown",
   "metadata": {},
   "source": [
    "## Описание данных\n",
    "\n",
    "Каждый объект в наборе данных — это информация о поведении одного пользователя за месяц. Известно:\n",
    "- сalls — количество звонков,\n",
    "- minutes — суммарная длительность звонков в минутах,\n",
    "- messages — количество sms-сообщений,\n",
    "- mb_used — израсходованный интернет-трафик в Мб,\n",
    "- is_ultra — каким тарифом пользовался в течение месяца («Ультра» — 1, «Смарт» — 0)."
   ]
  },
  {
   "cell_type": "markdown",
   "metadata": {},
   "source": [
    "## Ход работы"
   ]
  },
  {
   "cell_type": "markdown",
   "metadata": {},
   "source": [
    "Для построения моделей разобьем данные на 3 части (обучающую (60%), валидационную (20%) и тестовую (20%)). \n",
    "\n",
    "Проверим следующие модели:\n",
    "- Логистическая регрессия, \n",
    "- Деревья принятия решений\n",
    "- Случайный лес\n",
    "\n",
    "Выберем лучшую модель и проверим ее паботу на тестовых данных."
   ]
  },
  {
   "cell_type": "markdown",
   "metadata": {},
   "source": [
    "## Откройте и изучите файл"
   ]
  },
  {
   "cell_type": "code",
   "execution_count": 1,
   "metadata": {},
   "outputs": [],
   "source": [
    "import pandas as pd\n",
    "import numpy as np\n",
    "\n",
    "from sklearn.datasets import load_digits\n",
    "from sklearn.model_selection import train_test_split\n",
    "from sklearn.metrics import mean_squared_error\n",
    "from sklearn.metrics import accuracy_score\n",
    "\n",
    "from sklearn.linear_model import LogisticRegression\n",
    "from sklearn.linear_model import LinearRegression\n",
    "from sklearn.tree import DecisionTreeClassifier\n",
    "from sklearn.ensemble import RandomForestClassifier\n"
   ]
  },
  {
   "cell_type": "code",
   "execution_count": 2,
   "metadata": {},
   "outputs": [],
   "source": [
    "df = pd.read_csv('/datasets/users_behavior.csv')"
   ]
  },
  {
   "cell_type": "code",
   "execution_count": 3,
   "metadata": {},
   "outputs": [
    {
     "data": {
      "text/html": [
       "<div>\n",
       "<style scoped>\n",
       "    .dataframe tbody tr th:only-of-type {\n",
       "        vertical-align: middle;\n",
       "    }\n",
       "\n",
       "    .dataframe tbody tr th {\n",
       "        vertical-align: top;\n",
       "    }\n",
       "\n",
       "    .dataframe thead th {\n",
       "        text-align: right;\n",
       "    }\n",
       "</style>\n",
       "<table border=\"1\" class=\"dataframe\">\n",
       "  <thead>\n",
       "    <tr style=\"text-align: right;\">\n",
       "      <th></th>\n",
       "      <th>calls</th>\n",
       "      <th>minutes</th>\n",
       "      <th>messages</th>\n",
       "      <th>mb_used</th>\n",
       "      <th>is_ultra</th>\n",
       "    </tr>\n",
       "  </thead>\n",
       "  <tbody>\n",
       "    <tr>\n",
       "      <th>0</th>\n",
       "      <td>40.0</td>\n",
       "      <td>311.90</td>\n",
       "      <td>83.0</td>\n",
       "      <td>19915.42</td>\n",
       "      <td>0</td>\n",
       "    </tr>\n",
       "    <tr>\n",
       "      <th>1</th>\n",
       "      <td>85.0</td>\n",
       "      <td>516.75</td>\n",
       "      <td>56.0</td>\n",
       "      <td>22696.96</td>\n",
       "      <td>0</td>\n",
       "    </tr>\n",
       "    <tr>\n",
       "      <th>2</th>\n",
       "      <td>77.0</td>\n",
       "      <td>467.66</td>\n",
       "      <td>86.0</td>\n",
       "      <td>21060.45</td>\n",
       "      <td>0</td>\n",
       "    </tr>\n",
       "    <tr>\n",
       "      <th>3</th>\n",
       "      <td>106.0</td>\n",
       "      <td>745.53</td>\n",
       "      <td>81.0</td>\n",
       "      <td>8437.39</td>\n",
       "      <td>1</td>\n",
       "    </tr>\n",
       "    <tr>\n",
       "      <th>4</th>\n",
       "      <td>66.0</td>\n",
       "      <td>418.74</td>\n",
       "      <td>1.0</td>\n",
       "      <td>14502.75</td>\n",
       "      <td>0</td>\n",
       "    </tr>\n",
       "  </tbody>\n",
       "</table>\n",
       "</div>"
      ],
      "text/plain": [
       "   calls  minutes  messages   mb_used  is_ultra\n",
       "0   40.0   311.90      83.0  19915.42         0\n",
       "1   85.0   516.75      56.0  22696.96         0\n",
       "2   77.0   467.66      86.0  21060.45         0\n",
       "3  106.0   745.53      81.0   8437.39         1\n",
       "4   66.0   418.74       1.0  14502.75         0"
      ]
     },
     "execution_count": 3,
     "metadata": {},
     "output_type": "execute_result"
    }
   ],
   "source": [
    "df.head()"
   ]
  },
  {
   "cell_type": "code",
   "execution_count": 4,
   "metadata": {},
   "outputs": [
    {
     "name": "stdout",
     "output_type": "stream",
     "text": [
      "<class 'pandas.core.frame.DataFrame'>\n",
      "RangeIndex: 3214 entries, 0 to 3213\n",
      "Data columns (total 5 columns):\n",
      " #   Column    Non-Null Count  Dtype  \n",
      "---  ------    --------------  -----  \n",
      " 0   calls     3214 non-null   float64\n",
      " 1   minutes   3214 non-null   float64\n",
      " 2   messages  3214 non-null   float64\n",
      " 3   mb_used   3214 non-null   float64\n",
      " 4   is_ultra  3214 non-null   int64  \n",
      "dtypes: float64(4), int64(1)\n",
      "memory usage: 125.7 KB\n"
     ]
    }
   ],
   "source": [
    "df.info()"
   ]
  },
  {
   "cell_type": "markdown",
   "metadata": {},
   "source": [
    "Данные предобработаны, пропуски отсутствуют, формат данных удобен для дальнейшей работы."
   ]
  },
  {
   "cell_type": "markdown",
   "metadata": {},
   "source": [
    "## Разбейте данные на выборки"
   ]
  },
  {
   "cell_type": "markdown",
   "metadata": {},
   "source": [
    "Разобьем данные на 3 выборки: обучающую (60%), валидационную (20%) и тестовую (20%). \n",
    "Поскольку данные не равномерны, используем параметр stratify."
   ]
  },
  {
   "cell_type": "code",
   "execution_count": 5,
   "metadata": {},
   "outputs": [],
   "source": [
    "df_train, df_valid1 = train_test_split(df, test_size=0.4, random_state=12345, stratify=df['is_ultra'])\n",
    "df_test, df_valid = train_test_split(df_valid1, test_size=0.5, random_state=12345)"
   ]
  },
  {
   "cell_type": "markdown",
   "metadata": {},
   "source": [
    "Создаем переменные для признаков и целевого признака:"
   ]
  },
  {
   "cell_type": "code",
   "execution_count": 6,
   "metadata": {},
   "outputs": [],
   "source": [
    "features_train = df_train.drop('is_ultra', axis=1)\n",
    "features_valid = df_valid.drop('is_ultra', axis=1)\n",
    "features_test = df_test.drop('is_ultra', axis=1)\n",
    "target_train = df_train['is_ultra']\n",
    "target_valid = df_valid['is_ultra']\n",
    "target_test = df_test['is_ultra']"
   ]
  },
  {
   "cell_type": "markdown",
   "metadata": {},
   "source": [
    "## Исследуйте модели"
   ]
  },
  {
   "cell_type": "markdown",
   "metadata": {},
   "source": [
    "Перед нами стоит задача классификации - отнесение к типу 0 или 1."
   ]
  },
  {
   "cell_type": "markdown",
   "metadata": {},
   "source": [
    "Для выбора лушей модели исследуем следующие алгоритмы:\n",
    "\n",
    "Линейные алгоритмы:\n",
    "- Логистическая регрессия / Logistic Regression \n",
    "\n",
    "Нелинейный алгоритм:\n",
    "- Деревья принятия решений / Decision Tree Classifier \n",
    "\n",
    "Ансамблиевый алгоритм:\n",
    "- Случайный лес / Random Forest Classifier \n",
    "\n",
    "Для каждой модели определим долю правильных ответов."
   ]
  },
  {
   "cell_type": "markdown",
   "metadata": {},
   "source": [
    "#### Логистическая регрессия:"
   ]
  },
  {
   "cell_type": "code",
   "execution_count": 8,
   "metadata": {},
   "outputs": [
    {
     "data": {
      "text/plain": [
       "0.7480559875583204"
      ]
     },
     "execution_count": 8,
     "metadata": {},
     "output_type": "execute_result"
    }
   ],
   "source": [
    "model = LogisticRegression(random_state=12345, solver='lbfgs', max_iter=1000)\n",
    "model.fit(features_train, target_train)\n",
    "model.predict(features_valid)   \n",
    "model.score(features_valid, target_valid)"
   ]
  },
  {
   "cell_type": "markdown",
   "metadata": {},
   "source": [
    "Результаты не впечатляют."
   ]
  },
  {
   "cell_type": "markdown",
   "metadata": {},
   "source": [
    "#### Дерево решений:"
   ]
  },
  {
   "cell_type": "code",
   "execution_count": 9,
   "metadata": {},
   "outputs": [
    {
     "data": {
      "text/plain": [
       "0.7091757387247278"
      ]
     },
     "execution_count": 9,
     "metadata": {},
     "output_type": "execute_result"
    }
   ],
   "source": [
    "model = DecisionTreeClassifier(random_state=12345)\n",
    "model.fit(features_train, target_train)\n",
    "predictions_valid = model.predict(features_valid)   \n",
    "mean_squared_error(target_valid, predictions_valid)\n",
    "model.score(features_valid, target_valid)"
   ]
  },
  {
   "cell_type": "markdown",
   "metadata": {},
   "source": [
    "Неплохой результат. Попробуем подобрать параметры:"
   ]
  },
  {
   "cell_type": "code",
   "execution_count": 10,
   "metadata": {},
   "outputs": [
    {
     "name": "stdout",
     "output_type": "stream",
     "text": [
      "Модель DecisionTreeClassifier(criterion='entropy', max_depth=9, random_state=12345) Доля верных ответов 0.7978227060653188\n"
     ]
    }
   ],
   "source": [
    "best_model = None\n",
    "best_result = 0\n",
    "for depth in range(1, 10):\n",
    "    model = DecisionTreeClassifier(random_state=12345, max_depth=depth, criterion='entropy')\n",
    "    model.fit(features_train, target_train)\n",
    "    result = model.score(features_valid, target_valid)\n",
    "    if result > best_result:\n",
    "        best_model = model\n",
    "        best_result = result\n",
    "print('Модель', best_model, 'Доля верных ответов', best_result)"
   ]
  },
  {
   "cell_type": "markdown",
   "metadata": {},
   "source": [
    "#### Случайный лес:"
   ]
  },
  {
   "cell_type": "code",
   "execution_count": 11,
   "metadata": {},
   "outputs": [
    {
     "data": {
      "text/plain": [
       "0.7527216174183515"
      ]
     },
     "execution_count": 11,
     "metadata": {},
     "output_type": "execute_result"
    }
   ],
   "source": [
    "model = RandomForestClassifier(random_state=12345, n_estimators=3, criterion='entropy')\n",
    "model.fit(features_train, target_train)\n",
    "predictions_valid = model.predict(features_valid)   \n",
    "mean_squared_error(target_valid, predictions_valid)\n",
    "model.score(features_valid, target_valid)"
   ]
  },
  {
   "cell_type": "markdown",
   "metadata": {},
   "source": [
    "Данная модель показала самые высокие результаты, попробуем улучшить их."
   ]
  },
  {
   "cell_type": "code",
   "execution_count": 12,
   "metadata": {},
   "outputs": [
    {
     "name": "stdout",
     "output_type": "stream",
     "text": [
      "Модель RandomForestClassifier(criterion='entropy', max_depth=8, n_estimators=5,\n",
      "                       random_state=12345) Доля верных ответов 0.807153965785381\n"
     ]
    }
   ],
   "source": [
    "best_model = None\n",
    "best_result = 0\n",
    "for est in range(1,50):\n",
    "    model = RandomForestClassifier(random_state=12345, n_estimators=est, max_depth=8, criterion='entropy')\n",
    "    model.fit(features_train, target_train)\n",
    "    result = model.score(features_valid, target_valid)\n",
    "    if result > best_result:\n",
    "        best_model = model\n",
    "        best_result = result\n",
    "print('Модель', best_model, 'Доля верных ответов', best_result)"
   ]
  },
  {
   "cell_type": "markdown",
   "metadata": {},
   "source": [
    "Найдена модель, которая дает лучшие результаты. Используем эту модель на тестовой выборке."
   ]
  },
  {
   "cell_type": "markdown",
   "metadata": {},
   "source": [
    "## Проверьте модель на тестовой выборке"
   ]
  },
  {
   "cell_type": "code",
   "execution_count": 13,
   "metadata": {
    "scrolled": true
   },
   "outputs": [
    {
     "data": {
      "text/plain": [
       "0.80248833592535"
      ]
     },
     "execution_count": 13,
     "metadata": {},
     "output_type": "execute_result"
    }
   ],
   "source": [
    "model = RandomForestClassifier(random_state=12345, n_estimators=7, max_depth=8, criterion='entropy')\n",
    "model.fit(features_train, target_train)\n",
    "model.score(features_test, target_test)"
   ]
  },
  {
   "cell_type": "markdown",
   "metadata": {},
   "source": [
    "## (бонус) Проверьте модели на адекватность"
   ]
  },
  {
   "cell_type": "markdown",
   "metadata": {},
   "source": [
    "Представим, что менеджер компании дает рекомендации пользователю на основании того, как упала монетка: \"Орел\" - «Ультра», \"Решка\" — «Смарт». Напишем функцию для предсказаний:"
   ]
  },
  {
   "cell_type": "code",
   "execution_count": 14,
   "metadata": {},
   "outputs": [
    {
     "data": {
      "text/plain": [
       "0.5069984447900466"
      ]
     },
     "execution_count": 14,
     "metadata": {},
     "output_type": "execute_result"
    }
   ],
   "source": [
    "import random\n",
    "random_predictions = np.random.randint(low=0, high=2, size=643)\n",
    "accuracy_score(target_test, random_predictions)"
   ]
  },
  {
   "cell_type": "markdown",
   "metadata": {},
   "source": [
    "Таким образом, случайный менеджер, который дает рекомендации на основании подбросанной монетки, делает это правильно примерно в 50% случаев, а обученная нами модель-в чуть более 80%."
   ]
  },
  {
   "cell_type": "markdown",
   "metadata": {},
   "source": [
    "При этом, если просто выбирать наиболее встречаемый ответ, то точность будет около 70%, наша модель все еще дает лучший результат."
   ]
  },
  {
   "cell_type": "markdown",
   "metadata": {},
   "source": [
    "В связи с этим делаем вывод об адекватности модели."
   ]
  },
  {
   "cell_type": "markdown",
   "metadata": {},
   "source": [
    "## Вывод"
   ]
  },
  {
   "cell_type": "markdown",
   "metadata": {},
   "source": [
    "В ходе работы были рассмотрены 4 модели, которые позволяют делать вывод о принадлежности к определенному тарифу и давать рекомендации по тарифам для пользователей.\n",
    "\n",
    "Лучшей моделью стал Ансамблиевый алгоритм Случайный лес/Random Forest Classifier.\n",
    "Доля верных ответов на тестовой выборке составила 80,25%, что является довольно высоким результатом по сравнению с прочими моделями и случайными ответами."
   ]
  }
 ],
 "metadata": {
  "ExecuteTimeLog": [
   {
    "duration": 50,
    "start_time": "2023-02-28T21:00:31.592Z"
   },
   {
    "duration": 416,
    "start_time": "2023-02-28T21:00:34.744Z"
   },
   {
    "duration": 65,
    "start_time": "2023-02-28T21:00:36.241Z"
   },
   {
    "duration": 17,
    "start_time": "2023-02-28T21:00:50.901Z"
   },
   {
    "duration": 12,
    "start_time": "2023-02-28T21:02:00.187Z"
   },
   {
    "duration": 1013,
    "start_time": "2023-02-28T21:18:32.219Z"
   },
   {
    "duration": 27,
    "start_time": "2023-02-28T21:18:33.234Z"
   },
   {
    "duration": 18,
    "start_time": "2023-02-28T21:18:33.262Z"
   },
   {
    "duration": 15,
    "start_time": "2023-02-28T21:18:33.281Z"
   },
   {
    "duration": 5,
    "start_time": "2023-02-28T21:18:33.299Z"
   },
   {
    "duration": 5,
    "start_time": "2023-02-28T21:18:33.306Z"
   },
   {
    "duration": 12,
    "start_time": "2023-02-28T21:18:33.313Z"
   },
   {
    "duration": 11,
    "start_time": "2023-02-28T21:19:17.947Z"
   },
   {
    "duration": 10,
    "start_time": "2023-02-28T21:19:31.114Z"
   },
   {
    "duration": 1623,
    "start_time": "2023-03-02T10:38:09.057Z"
   },
   {
    "duration": 122,
    "start_time": "2023-03-02T10:38:10.683Z"
   },
   {
    "duration": 15,
    "start_time": "2023-03-02T10:38:10.806Z"
   },
   {
    "duration": 13,
    "start_time": "2023-03-02T10:38:10.823Z"
   },
   {
    "duration": 16,
    "start_time": "2023-03-02T10:38:10.843Z"
   },
   {
    "duration": 8,
    "start_time": "2023-03-02T10:38:10.860Z"
   },
   {
    "duration": 125,
    "start_time": "2023-03-02T10:38:10.870Z"
   },
   {
    "duration": 0,
    "start_time": "2023-03-02T10:38:10.996Z"
   },
   {
    "duration": 11,
    "start_time": "2023-03-02T10:38:46.410Z"
   },
   {
    "duration": 1539,
    "start_time": "2023-03-02T10:44:10.142Z"
   },
   {
    "duration": 30,
    "start_time": "2023-03-02T10:44:11.683Z"
   },
   {
    "duration": 15,
    "start_time": "2023-03-02T10:44:11.715Z"
   },
   {
    "duration": 12,
    "start_time": "2023-03-02T10:44:11.732Z"
   },
   {
    "duration": 7,
    "start_time": "2023-03-02T10:44:11.746Z"
   },
   {
    "duration": 13,
    "start_time": "2023-03-02T10:44:11.755Z"
   },
   {
    "duration": 136,
    "start_time": "2023-03-02T10:44:11.771Z"
   },
   {
    "duration": 0,
    "start_time": "2023-03-02T10:44:11.909Z"
   },
   {
    "duration": 4,
    "start_time": "2023-03-02T10:46:26.965Z"
   },
   {
    "duration": 12,
    "start_time": "2023-03-02T10:46:29.581Z"
   },
   {
    "duration": 1464,
    "start_time": "2023-03-02T10:48:33.301Z"
   },
   {
    "duration": 29,
    "start_time": "2023-03-02T10:48:34.767Z"
   },
   {
    "duration": 14,
    "start_time": "2023-03-02T10:48:34.798Z"
   },
   {
    "duration": 23,
    "start_time": "2023-03-02T10:48:34.814Z"
   },
   {
    "duration": 36,
    "start_time": "2023-03-02T10:48:34.839Z"
   },
   {
    "duration": 24,
    "start_time": "2023-03-02T10:48:34.876Z"
   },
   {
    "duration": 26,
    "start_time": "2023-03-02T10:48:34.902Z"
   },
   {
    "duration": 149,
    "start_time": "2023-03-02T10:48:34.929Z"
   },
   {
    "duration": 16,
    "start_time": "2023-03-02T10:51:06.746Z"
   },
   {
    "duration": 26,
    "start_time": "2023-03-02T10:51:24.873Z"
   },
   {
    "duration": 1447,
    "start_time": "2023-03-02T11:20:30.595Z"
   },
   {
    "duration": 35,
    "start_time": "2023-03-02T11:20:32.044Z"
   },
   {
    "duration": 14,
    "start_time": "2023-03-02T11:20:32.081Z"
   },
   {
    "duration": 38,
    "start_time": "2023-03-02T11:20:32.096Z"
   },
   {
    "duration": 26,
    "start_time": "2023-03-02T11:20:32.137Z"
   },
   {
    "duration": 20,
    "start_time": "2023-03-02T11:20:32.164Z"
   },
   {
    "duration": 12,
    "start_time": "2023-03-02T11:20:32.186Z"
   },
   {
    "duration": 111,
    "start_time": "2023-03-02T11:20:32.200Z"
   },
   {
    "duration": 0,
    "start_time": "2023-03-02T11:20:32.313Z"
   },
   {
    "duration": 0,
    "start_time": "2023-03-02T11:20:32.315Z"
   },
   {
    "duration": 320,
    "start_time": "2023-03-02T11:22:35.449Z"
   },
   {
    "duration": 366,
    "start_time": "2023-03-02T11:22:48.479Z"
   },
   {
    "duration": 124,
    "start_time": "2023-03-02T11:23:24.011Z"
   },
   {
    "duration": 3,
    "start_time": "2023-03-02T11:23:41.056Z"
   },
   {
    "duration": 121,
    "start_time": "2023-03-02T11:23:59.935Z"
   },
   {
    "duration": 360,
    "start_time": "2023-03-02T11:24:09.304Z"
   },
   {
    "duration": 391,
    "start_time": "2023-03-02T11:24:44.309Z"
   },
   {
    "duration": 38,
    "start_time": "2023-03-02T11:25:51.416Z"
   },
   {
    "duration": 28,
    "start_time": "2023-03-02T11:26:36.227Z"
   },
   {
    "duration": 3,
    "start_time": "2023-03-02T11:30:18.528Z"
   },
   {
    "duration": 29,
    "start_time": "2023-03-02T11:30:19.855Z"
   },
   {
    "duration": 32,
    "start_time": "2023-03-02T11:33:58.638Z"
   },
   {
    "duration": 10,
    "start_time": "2023-03-02T11:39:46.113Z"
   },
   {
    "duration": 4,
    "start_time": "2023-03-02T11:39:53.190Z"
   },
   {
    "duration": 15,
    "start_time": "2023-03-02T11:40:01.825Z"
   },
   {
    "duration": 5,
    "start_time": "2023-03-02T11:41:02.638Z"
   },
   {
    "duration": 16,
    "start_time": "2023-03-02T11:46:01.489Z"
   },
   {
    "duration": 20,
    "start_time": "2023-03-02T11:46:25.309Z"
   },
   {
    "duration": 11,
    "start_time": "2023-03-02T11:50:23.759Z"
   },
   {
    "duration": 10,
    "start_time": "2023-03-02T11:55:15.228Z"
   },
   {
    "duration": 399,
    "start_time": "2023-03-02T11:55:55.114Z"
   },
   {
    "duration": 26,
    "start_time": "2023-03-02T12:13:00.505Z"
   },
   {
    "duration": 36,
    "start_time": "2023-03-02T12:13:12.092Z"
   },
   {
    "duration": 16,
    "start_time": "2023-03-02T12:15:31.429Z"
   },
   {
    "duration": 1519,
    "start_time": "2023-03-02T12:15:57.264Z"
   },
   {
    "duration": 31,
    "start_time": "2023-03-02T12:15:58.786Z"
   },
   {
    "duration": 13,
    "start_time": "2023-03-02T12:15:58.819Z"
   },
   {
    "duration": 21,
    "start_time": "2023-03-02T12:15:58.833Z"
   },
   {
    "duration": 7,
    "start_time": "2023-03-02T12:15:58.856Z"
   },
   {
    "duration": 8,
    "start_time": "2023-03-02T12:15:58.864Z"
   },
   {
    "duration": 132,
    "start_time": "2023-03-02T12:15:58.873Z"
   },
   {
    "duration": 0,
    "start_time": "2023-03-02T12:15:59.006Z"
   },
   {
    "duration": 0,
    "start_time": "2023-03-02T12:15:59.008Z"
   },
   {
    "duration": 0,
    "start_time": "2023-03-02T12:15:59.009Z"
   },
   {
    "duration": 0,
    "start_time": "2023-03-02T12:15:59.010Z"
   },
   {
    "duration": 0,
    "start_time": "2023-03-02T12:15:59.011Z"
   },
   {
    "duration": 29,
    "start_time": "2023-03-02T12:16:37.020Z"
   },
   {
    "duration": 9,
    "start_time": "2023-03-02T12:16:44.786Z"
   },
   {
    "duration": 18,
    "start_time": "2023-03-02T12:16:49.048Z"
   },
   {
    "duration": 415,
    "start_time": "2023-03-02T12:16:51.083Z"
   },
   {
    "duration": 12,
    "start_time": "2023-03-02T12:16:51.840Z"
   },
   {
    "duration": 12,
    "start_time": "2023-03-02T12:17:29.359Z"
   },
   {
    "duration": 21,
    "start_time": "2023-03-02T12:17:37.339Z"
   },
   {
    "duration": 411,
    "start_time": "2023-03-02T12:17:45.989Z"
   },
   {
    "duration": 31,
    "start_time": "2023-03-02T12:34:24.090Z"
   },
   {
    "duration": 5,
    "start_time": "2023-03-02T12:34:55.318Z"
   },
   {
    "duration": 36,
    "start_time": "2023-03-02T12:35:02.652Z"
   },
   {
    "duration": 27,
    "start_time": "2023-03-02T12:53:41.997Z"
   },
   {
    "duration": 24,
    "start_time": "2023-03-02T12:58:24.870Z"
   },
   {
    "duration": 10,
    "start_time": "2023-03-02T12:58:42.214Z"
   },
   {
    "duration": 11,
    "start_time": "2023-03-02T12:58:54.598Z"
   },
   {
    "duration": 18,
    "start_time": "2023-03-02T13:00:04.661Z"
   },
   {
    "duration": 11,
    "start_time": "2023-03-02T13:00:08.496Z"
   },
   {
    "duration": 25,
    "start_time": "2023-03-02T13:00:47.869Z"
   },
   {
    "duration": 10,
    "start_time": "2023-03-02T13:01:08.282Z"
   },
   {
    "duration": 13,
    "start_time": "2023-03-02T13:04:17.163Z"
   },
   {
    "duration": 12,
    "start_time": "2023-03-02T13:05:31.423Z"
   },
   {
    "duration": 12,
    "start_time": "2023-03-02T13:05:38.762Z"
   },
   {
    "duration": 11,
    "start_time": "2023-03-02T13:05:42.966Z"
   },
   {
    "duration": 12,
    "start_time": "2023-03-02T13:33:26.920Z"
   },
   {
    "duration": 13,
    "start_time": "2023-03-02T13:34:31.853Z"
   },
   {
    "duration": 29,
    "start_time": "2023-03-02T13:34:47.363Z"
   },
   {
    "duration": 58,
    "start_time": "2023-03-02T13:36:13.233Z"
   },
   {
    "duration": 456,
    "start_time": "2023-03-02T13:36:19.416Z"
   },
   {
    "duration": 4087,
    "start_time": "2023-03-02T13:36:26.094Z"
   },
   {
    "duration": 399,
    "start_time": "2023-03-02T13:36:58.646Z"
   },
   {
    "duration": 4985,
    "start_time": "2023-03-02T13:38:15.525Z"
   },
   {
    "duration": 5169,
    "start_time": "2023-03-02T13:40:02.151Z"
   },
   {
    "duration": 130,
    "start_time": "2023-03-02T13:40:40.271Z"
   },
   {
    "duration": 74,
    "start_time": "2023-03-02T13:40:47.568Z"
   },
   {
    "duration": 80,
    "start_time": "2023-03-02T13:40:53.302Z"
   },
   {
    "duration": 5111,
    "start_time": "2023-03-02T13:40:58.769Z"
   },
   {
    "duration": 282696,
    "start_time": "2023-03-02T14:03:30.867Z"
   },
   {
    "duration": 20936,
    "start_time": "2023-03-02T14:08:20.394Z"
   },
   {
    "duration": 26,
    "start_time": "2023-03-02T14:10:39.700Z"
   },
   {
    "duration": 32,
    "start_time": "2023-03-02T14:13:41.724Z"
   },
   {
    "duration": 5506,
    "start_time": "2023-03-02T14:14:00.106Z"
   },
   {
    "duration": 27,
    "start_time": "2023-03-02T14:14:44.261Z"
   },
   {
    "duration": 26,
    "start_time": "2023-03-02T14:14:57.873Z"
   },
   {
    "duration": 36,
    "start_time": "2023-03-02T14:15:15.931Z"
   },
   {
    "duration": 6818,
    "start_time": "2023-03-02T14:16:13.182Z"
   },
   {
    "duration": 127,
    "start_time": "2023-03-02T14:20:15.652Z"
   },
   {
    "duration": 130,
    "start_time": "2023-03-02T14:20:39.772Z"
   },
   {
    "duration": 32,
    "start_time": "2023-03-02T14:35:06.701Z"
   },
   {
    "duration": 29,
    "start_time": "2023-03-02T14:35:18.627Z"
   },
   {
    "duration": 19,
    "start_time": "2023-03-02T14:36:03.270Z"
   },
   {
    "duration": 73,
    "start_time": "2023-03-02T14:36:49.472Z"
   },
   {
    "duration": 203,
    "start_time": "2023-03-02T14:37:06.835Z"
   },
   {
    "duration": 224,
    "start_time": "2023-03-02T14:37:15.404Z"
   },
   {
    "duration": 618,
    "start_time": "2023-03-02T14:37:22.153Z"
   },
   {
    "duration": 38,
    "start_time": "2023-03-02T14:38:01.633Z"
   },
   {
    "duration": 52,
    "start_time": "2023-03-02T14:38:07.832Z"
   },
   {
    "duration": 42,
    "start_time": "2023-03-02T14:38:17.326Z"
   },
   {
    "duration": 3003,
    "start_time": "2023-03-02T14:40:22.666Z"
   },
   {
    "duration": 95,
    "start_time": "2023-03-02T14:41:02.908Z"
   },
   {
    "duration": 4864,
    "start_time": "2023-03-02T14:41:08.938Z"
   },
   {
    "duration": 7818,
    "start_time": "2023-03-02T14:41:34.992Z"
   },
   {
    "duration": 4724,
    "start_time": "2023-03-02T14:42:02.055Z"
   },
   {
    "duration": 117,
    "start_time": "2023-03-02T14:47:58.646Z"
   },
   {
    "duration": 37,
    "start_time": "2023-03-02T14:49:53.180Z"
   },
   {
    "duration": 154,
    "start_time": "2023-03-02T14:50:01.840Z"
   },
   {
    "duration": 4744,
    "start_time": "2023-03-02T14:50:21.195Z"
   },
   {
    "duration": 5123,
    "start_time": "2023-03-02T14:50:38.986Z"
   },
   {
    "duration": 44,
    "start_time": "2023-03-02T14:51:10.457Z"
   },
   {
    "duration": 1552,
    "start_time": "2023-03-02T14:53:44.873Z"
   },
   {
    "duration": 56,
    "start_time": "2023-03-02T14:53:46.427Z"
   },
   {
    "duration": 14,
    "start_time": "2023-03-02T14:53:46.484Z"
   },
   {
    "duration": 12,
    "start_time": "2023-03-02T14:53:46.500Z"
   },
   {
    "duration": 7,
    "start_time": "2023-03-02T14:53:46.515Z"
   },
   {
    "duration": 8,
    "start_time": "2023-03-02T14:53:46.524Z"
   },
   {
    "duration": 71,
    "start_time": "2023-03-02T14:53:46.534Z"
   },
   {
    "duration": 16,
    "start_time": "2023-03-02T14:53:46.607Z"
   },
   {
    "duration": 65,
    "start_time": "2023-03-02T14:53:46.624Z"
   },
   {
    "duration": 75,
    "start_time": "2023-03-02T14:53:46.690Z"
   },
   {
    "duration": 32,
    "start_time": "2023-03-02T14:53:46.769Z"
   },
   {
    "duration": 4839,
    "start_time": "2023-03-02T14:53:46.803Z"
   },
   {
    "duration": 46,
    "start_time": "2023-03-02T14:53:51.644Z"
   },
   {
    "duration": 131,
    "start_time": "2023-03-02T15:01:46.999Z"
   },
   {
    "duration": 15,
    "start_time": "2023-03-02T15:02:26.991Z"
   },
   {
    "duration": 10,
    "start_time": "2023-03-02T15:03:50.526Z"
   },
   {
    "duration": 21,
    "start_time": "2023-03-02T15:04:32.074Z"
   },
   {
    "duration": 4,
    "start_time": "2023-03-02T15:04:42.515Z"
   },
   {
    "duration": 9,
    "start_time": "2023-03-02T15:04:49.914Z"
   },
   {
    "duration": 10,
    "start_time": "2023-03-02T15:05:06.087Z"
   },
   {
    "duration": 8,
    "start_time": "2023-03-02T15:05:20.281Z"
   },
   {
    "duration": 1704,
    "start_time": "2023-03-02T15:19:04.403Z"
   },
   {
    "duration": 37,
    "start_time": "2023-03-02T15:19:06.109Z"
   },
   {
    "duration": 62,
    "start_time": "2023-03-02T15:19:06.149Z"
   },
   {
    "duration": 70,
    "start_time": "2023-03-02T15:19:06.213Z"
   },
   {
    "duration": 183,
    "start_time": "2023-03-02T15:19:06.288Z"
   },
   {
    "duration": 0,
    "start_time": "2023-03-02T15:19:06.472Z"
   },
   {
    "duration": 0,
    "start_time": "2023-03-02T15:19:06.474Z"
   },
   {
    "duration": 0,
    "start_time": "2023-03-02T15:19:06.475Z"
   },
   {
    "duration": 0,
    "start_time": "2023-03-02T15:19:06.476Z"
   },
   {
    "duration": 0,
    "start_time": "2023-03-02T15:19:06.477Z"
   },
   {
    "duration": 0,
    "start_time": "2023-03-02T15:19:06.478Z"
   },
   {
    "duration": 0,
    "start_time": "2023-03-02T15:19:06.479Z"
   },
   {
    "duration": 0,
    "start_time": "2023-03-02T15:19:06.480Z"
   },
   {
    "duration": 0,
    "start_time": "2023-03-02T15:19:06.481Z"
   },
   {
    "duration": 12,
    "start_time": "2023-03-02T15:21:18.167Z"
   },
   {
    "duration": 1737,
    "start_time": "2023-03-02T15:22:15.336Z"
   },
   {
    "duration": 53,
    "start_time": "2023-03-02T15:22:17.075Z"
   },
   {
    "duration": 45,
    "start_time": "2023-03-02T15:22:17.130Z"
   },
   {
    "duration": 65,
    "start_time": "2023-03-02T15:22:17.180Z"
   },
   {
    "duration": 65,
    "start_time": "2023-03-02T15:22:17.248Z"
   },
   {
    "duration": 10,
    "start_time": "2023-03-02T15:22:17.316Z"
   },
   {
    "duration": 171,
    "start_time": "2023-03-02T15:22:17.328Z"
   },
   {
    "duration": 15,
    "start_time": "2023-03-02T15:22:17.501Z"
   },
   {
    "duration": 48,
    "start_time": "2023-03-02T15:22:17.518Z"
   },
   {
    "duration": 132,
    "start_time": "2023-03-02T15:22:17.571Z"
   },
   {
    "duration": 41,
    "start_time": "2023-03-02T15:22:17.712Z"
   },
   {
    "duration": 6343,
    "start_time": "2023-03-02T15:22:17.755Z"
   },
   {
    "duration": 62,
    "start_time": "2023-03-02T15:22:24.100Z"
   },
   {
    "duration": 86,
    "start_time": "2023-03-02T15:22:24.164Z"
   },
   {
    "duration": 60,
    "start_time": "2023-03-02T15:30:16.381Z"
   },
   {
    "duration": 98,
    "start_time": "2023-03-02T15:30:25.272Z"
   },
   {
    "duration": 7,
    "start_time": "2023-03-02T15:35:05.981Z"
   },
   {
    "duration": 3,
    "start_time": "2023-03-02T15:35:06.729Z"
   },
   {
    "duration": 5429,
    "start_time": "2023-03-02T15:36:27.914Z"
   },
   {
    "duration": 5306,
    "start_time": "2023-03-02T15:38:44.254Z"
   },
   {
    "duration": 5899,
    "start_time": "2023-03-02T15:38:58.174Z"
   },
   {
    "duration": 8199,
    "start_time": "2023-03-02T15:39:13.867Z"
   },
   {
    "duration": 9248,
    "start_time": "2023-03-02T15:39:31.127Z"
   },
   {
    "duration": 7011,
    "start_time": "2023-03-02T15:39:46.759Z"
   },
   {
    "duration": 6336,
    "start_time": "2023-03-02T15:40:00.335Z"
   },
   {
    "duration": 5456,
    "start_time": "2023-03-02T15:40:15.992Z"
   },
   {
    "duration": 7473,
    "start_time": "2023-03-02T15:40:26.269Z"
   },
   {
    "duration": 3978,
    "start_time": "2023-03-02T15:40:39.781Z"
   },
   {
    "duration": 12801,
    "start_time": "2023-03-02T15:40:55.748Z"
   },
   {
    "duration": 6932,
    "start_time": "2023-03-02T15:41:17.935Z"
   },
   {
    "duration": 5948,
    "start_time": "2023-03-02T15:41:35.008Z"
   },
   {
    "duration": 5745,
    "start_time": "2023-03-02T15:41:50.009Z"
   },
   {
    "duration": 6053,
    "start_time": "2023-03-02T15:42:07.514Z"
   },
   {
    "duration": 7851,
    "start_time": "2023-03-02T15:42:22.789Z"
   },
   {
    "duration": 43188,
    "start_time": "2023-03-02T15:42:54.661Z"
   },
   {
    "duration": 4637,
    "start_time": "2023-03-02T15:43:50.517Z"
   },
   {
    "duration": 41897,
    "start_time": "2023-03-02T15:44:10.382Z"
   },
   {
    "duration": 8513,
    "start_time": "2023-03-02T15:45:23.058Z"
   },
   {
    "duration": 9677,
    "start_time": "2023-03-02T15:45:45.077Z"
   },
   {
    "duration": 1432,
    "start_time": "2023-03-02T15:59:21.776Z"
   },
   {
    "duration": 35,
    "start_time": "2023-03-02T15:59:23.210Z"
   },
   {
    "duration": 28,
    "start_time": "2023-03-02T15:59:23.246Z"
   },
   {
    "duration": 29,
    "start_time": "2023-03-02T15:59:23.275Z"
   },
   {
    "duration": 26,
    "start_time": "2023-03-02T15:59:23.306Z"
   },
   {
    "duration": 51,
    "start_time": "2023-03-02T15:59:23.335Z"
   },
   {
    "duration": 43,
    "start_time": "2023-03-02T15:59:23.387Z"
   },
   {
    "duration": 59,
    "start_time": "2023-03-02T15:59:23.432Z"
   },
   {
    "duration": 19,
    "start_time": "2023-03-02T15:59:23.493Z"
   },
   {
    "duration": 74,
    "start_time": "2023-03-02T15:59:23.514Z"
   },
   {
    "duration": 55,
    "start_time": "2023-03-02T15:59:23.591Z"
   },
   {
    "duration": 4522,
    "start_time": "2023-03-02T15:59:23.648Z"
   },
   {
    "duration": 35,
    "start_time": "2023-03-02T15:59:28.173Z"
   },
   {
    "duration": 6,
    "start_time": "2023-03-02T15:59:28.210Z"
   },
   {
    "duration": 415,
    "start_time": "2023-03-02T15:59:46.311Z"
   },
   {
    "duration": 8,
    "start_time": "2023-03-02T15:59:56.364Z"
   },
   {
    "duration": 1267,
    "start_time": "2023-03-02T16:00:44.053Z"
   },
   {
    "duration": 41,
    "start_time": "2023-03-02T16:00:45.323Z"
   },
   {
    "duration": 19,
    "start_time": "2023-03-02T16:00:45.365Z"
   },
   {
    "duration": 13,
    "start_time": "2023-03-02T16:00:45.386Z"
   },
   {
    "duration": 7,
    "start_time": "2023-03-02T16:00:45.401Z"
   },
   {
    "duration": 7,
    "start_time": "2023-03-02T16:00:45.411Z"
   },
   {
    "duration": 23,
    "start_time": "2023-03-02T16:00:45.419Z"
   },
   {
    "duration": 44,
    "start_time": "2023-03-02T16:00:45.443Z"
   },
   {
    "duration": 19,
    "start_time": "2023-03-02T16:00:45.489Z"
   },
   {
    "duration": 104,
    "start_time": "2023-03-02T16:00:45.509Z"
   },
   {
    "duration": 49,
    "start_time": "2023-03-02T16:00:45.614Z"
   },
   {
    "duration": 4615,
    "start_time": "2023-03-02T16:00:45.664Z"
   },
   {
    "duration": 35,
    "start_time": "2023-03-02T16:00:50.280Z"
   },
   {
    "duration": 32,
    "start_time": "2023-03-02T16:00:50.317Z"
   }
  ],
  "kernelspec": {
   "display_name": "Python 3 (ipykernel)",
   "language": "python",
   "name": "python3"
  },
  "language_info": {
   "codemirror_mode": {
    "name": "ipython",
    "version": 3
   },
   "file_extension": ".py",
   "mimetype": "text/x-python",
   "name": "python",
   "nbconvert_exporter": "python",
   "pygments_lexer": "ipython3",
   "version": "3.9.12"
  },
  "toc": {
   "base_numbering": 1,
   "nav_menu": {},
   "number_sections": true,
   "sideBar": true,
   "skip_h1_title": true,
   "title_cell": "Table of Contents",
   "title_sidebar": "Contents",
   "toc_cell": false,
   "toc_position": {},
   "toc_section_display": true,
   "toc_window_display": false
  }
 },
 "nbformat": 4,
 "nbformat_minor": 2
}
