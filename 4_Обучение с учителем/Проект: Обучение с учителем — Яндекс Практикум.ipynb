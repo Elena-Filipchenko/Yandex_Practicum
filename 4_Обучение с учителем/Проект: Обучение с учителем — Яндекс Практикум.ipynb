{
 "cells": [
  {
   "cell_type": "markdown",
   "metadata": {
    "toc": true
   },
   "source": [
    "<h1>Содержание<span class=\"tocSkip\"></span></h1>\n",
    "<div class=\"toc\"><ul class=\"toc-item\"><li><span><a href=\"#Подготовка-данных\" data-toc-modified-id=\"Подготовка-данных-1\"><span class=\"toc-item-num\">1&nbsp;&nbsp;</span>Подготовка данных</a></span><ul class=\"toc-item\"><li><ul class=\"toc-item\"><li><span><a href=\"#Откроем-датасет-и-посмотрим-информацию:\" data-toc-modified-id=\"Откроем-датасет-и-посмотрим-информацию:-1.0.1\"><span class=\"toc-item-num\">1.0.1&nbsp;&nbsp;</span>Откроем датасет и посмотрим информацию:</a></span></li><li><span><a href=\"#Посмотрим-на-распределение-признаков:\" data-toc-modified-id=\"Посмотрим-на-распределение-признаков:-1.0.2\"><span class=\"toc-item-num\">1.0.2&nbsp;&nbsp;</span>Посмотрим на распределение признаков:</a></span></li><li><span><a href=\"#Посмотрим-соотношение-целевого-признака-в-этом-столбце-и-в-датасете-в-целом.\" data-toc-modified-id=\"Посмотрим-соотношение-целевого-признака-в-этом-столбце-и-в-датасете-в-целом.-1.0.3\"><span class=\"toc-item-num\">1.0.3&nbsp;&nbsp;</span>Посмотрим соотношение целевого признака в этом столбце и в датасете в целом.</a></span></li><li><span><a href=\"#Удалим-строки-с-пропущенными-в-столбце-данными:\" data-toc-modified-id=\"Удалим-строки-с-пропущенными-в-столбце-данными:-1.0.4\"><span class=\"toc-item-num\">1.0.4&nbsp;&nbsp;</span>Удалим строки с пропущенными в столбце данными:</a></span></li><li><span><a href=\"#Приведем-столбец-'Tenure'-к-целочисленному-типу:\" data-toc-modified-id=\"Приведем-столбец-'Tenure'-к-целочисленному-типу:-1.0.5\"><span class=\"toc-item-num\">1.0.5&nbsp;&nbsp;</span>Приведем столбец 'Tenure' к целочисленному типу:</a></span></li><li><span><a href=\"#Посмотрим-корреляцию-в-данных:\" data-toc-modified-id=\"Посмотрим-корреляцию-в-данных:-1.0.6\"><span class=\"toc-item-num\">1.0.6&nbsp;&nbsp;</span>Посмотрим корреляцию в данных:</a></span></li><li><span><a href=\"#Удалим-эти-столбцы:\" data-toc-modified-id=\"Удалим-эти-столбцы:-1.0.7\"><span class=\"toc-item-num\">1.0.7&nbsp;&nbsp;</span>Удалим эти столбцы:</a></span></li><li><span><a href=\"#Применим-OHE-к-столбцам-'Geography',-'Gender',-'HasCrCard',-'IsActiveMember':\" data-toc-modified-id=\"Применим-OHE-к-столбцам-'Geography',-'Gender',-'HasCrCard',-'IsActiveMember':-1.0.8\"><span class=\"toc-item-num\">1.0.8&nbsp;&nbsp;</span>Применим OHE к столбцам 'Geography', 'Gender', 'HasCrCard', 'IsActiveMember':</a></span></li></ul></li></ul></li><li><span><a href=\"#Исследование-задачи\" data-toc-modified-id=\"Исследование-задачи-2\"><span class=\"toc-item-num\">2&nbsp;&nbsp;</span>Исследование задачи</a></span><ul class=\"toc-item\"><li><span><a href=\"#Пробное-обучение\" data-toc-modified-id=\"Пробное-обучение-2.1\"><span class=\"toc-item-num\">2.1&nbsp;&nbsp;</span>Пробное обучение</a></span><ul class=\"toc-item\"><li><span><a href=\"#Разделим-данные-на-обучающую-и-валидационную-выборки.\" data-toc-modified-id=\"Разделим-данные-на-обучающую-и-валидационную-выборки.-2.1.1\"><span class=\"toc-item-num\">2.1.1&nbsp;&nbsp;</span>Разделим данные на обучающую и валидационную выборки.</a></span></li></ul></li><li><span><a href=\"#Масштабирование-признаков\" data-toc-modified-id=\"Масштабирование-признаков-2.2\"><span class=\"toc-item-num\">2.2&nbsp;&nbsp;</span>Масштабирование признаков</a></span></li><li><span><a href=\"#Дерево-решений\" data-toc-modified-id=\"Дерево-решений-2.3\"><span class=\"toc-item-num\">2.3&nbsp;&nbsp;</span>Дерево решений</a></span></li><li><span><a href=\"#Случайный-лес\" data-toc-modified-id=\"Случайный-лес-2.4\"><span class=\"toc-item-num\">2.4&nbsp;&nbsp;</span>Случайный лес</a></span></li><li><span><a href=\"#Логистическая-регрессия\" data-toc-modified-id=\"Логистическая-регрессия-2.5\"><span class=\"toc-item-num\">2.5&nbsp;&nbsp;</span>Логистическая регрессия</a></span></li></ul></li><li><span><a href=\"#Метрики-для-лучшей-модели---Случайного-леса\" data-toc-modified-id=\"Метрики-для-лучшей-модели---Случайного-леса-3\"><span class=\"toc-item-num\">3&nbsp;&nbsp;</span>Метрики для лучшей модели - Случайного леса</a></span><ul class=\"toc-item\"><li><ul class=\"toc-item\"><li><span><a href=\"#Матрица-ошибок-для-лучшей-модели\" data-toc-modified-id=\"Матрица-ошибок-для-лучшей-модели-3.0.1\"><span class=\"toc-item-num\">3.0.1&nbsp;&nbsp;</span>Матрица ошибок для лучшей модели</a></span></li><li><span><a href=\"#Полнота-для-лучшей-модели\" data-toc-modified-id=\"Полнота-для-лучшей-модели-3.0.2\"><span class=\"toc-item-num\">3.0.2&nbsp;&nbsp;</span>Полнота для лучшей модели</a></span></li><li><span><a href=\"#Точность-для-лучшей-модели\" data-toc-modified-id=\"Точность-для-лучшей-модели-3.0.3\"><span class=\"toc-item-num\">3.0.3&nbsp;&nbsp;</span>Точность для лучшей модели</a></span></li><li><span><a href=\"#F1-мера-для-лучшей-модели\" data-toc-modified-id=\"F1-мера-для-лучшей-модели-3.0.4\"><span class=\"toc-item-num\">3.0.4&nbsp;&nbsp;</span>F1-мера для лучшей модели</a></span></li></ul></li></ul></li><li><span><a href=\"#Борьба-с-дисбалансом\" data-toc-modified-id=\"Борьба-с-дисбалансом-4\"><span class=\"toc-item-num\">4&nbsp;&nbsp;</span>Борьба с дисбалансом</a></span><ul class=\"toc-item\"><li><span><a href=\"#Увеличение-веса-класса-1\" data-toc-modified-id=\"Увеличение-веса-класса-1-4.1\"><span class=\"toc-item-num\">4.1&nbsp;&nbsp;</span>Увеличение веса класса 1</a></span></li><li><span><a href=\"#Обучение-Случайного-леса\" data-toc-modified-id=\"Обучение-Случайного-леса-4.2\"><span class=\"toc-item-num\">4.2&nbsp;&nbsp;</span>Обучение Случайного леса</a></span><ul class=\"toc-item\"><li><span><a href=\"#Матрица-ошибок-для-лучшей-модели:\" data-toc-modified-id=\"Матрица-ошибок-для-лучшей-модели:-4.2.1\"><span class=\"toc-item-num\">4.2.1&nbsp;&nbsp;</span>Матрица ошибок для лучшей модели:</a></span></li><li><span><a href=\"#ROC-кривая-для-лучшей-модели\" data-toc-modified-id=\"ROC-кривая-для-лучшей-модели-4.2.2\"><span class=\"toc-item-num\">4.2.2&nbsp;&nbsp;</span>ROC-кривая для лучшей модели</a></span></li><li><span><a href=\"#Метрика-AUC-ROC\" data-toc-modified-id=\"Метрика-AUC-ROC-4.2.3\"><span class=\"toc-item-num\">4.2.3&nbsp;&nbsp;</span>Метрика AUC-ROC</a></span></li></ul></li></ul></li><li><span><a href=\"#Тестирование-модели\" data-toc-modified-id=\"Тестирование-модели-5\"><span class=\"toc-item-num\">5&nbsp;&nbsp;</span>Тестирование модели</a></span><ul class=\"toc-item\"><li><ul class=\"toc-item\"><li><span><a href=\"#F1-мера-для-константной-модели:\" data-toc-modified-id=\"F1-мера-для-константной-модели:-5.0.1\"><span class=\"toc-item-num\">5.0.1&nbsp;&nbsp;</span>F1-мера для константной модели:</a></span></li><li><span><a href=\"#ROC-кривая-для-тестовых-данных\" data-toc-modified-id=\"ROC-кривая-для-тестовых-данных-5.0.2\"><span class=\"toc-item-num\">5.0.2&nbsp;&nbsp;</span>ROC-кривая для тестовых данных</a></span></li><li><span><a href=\"#Метрика-AUC-ROC\" data-toc-modified-id=\"Метрика-AUC-ROC-5.0.3\"><span class=\"toc-item-num\">5.0.3&nbsp;&nbsp;</span>Метрика AUC-ROC</a></span></li></ul></li></ul></li><li><span><a href=\"#Общий-вывод\" data-toc-modified-id=\"Общий-вывод-6\"><span class=\"toc-item-num\">6&nbsp;&nbsp;</span>Общий вывод</a></span><ul class=\"toc-item\"><li><span><a href=\"#Перед-нами-стояла-задача-определения-с-помощью-машинного-обучения-факт-ухода-человека-из-банка.\" data-toc-modified-id=\"Перед-нами-стояла-задача-определения-с-помощью-машинного-обучения-факт-ухода-человека-из-банка.-6.1\"><span class=\"toc-item-num\">6.1&nbsp;&nbsp;</span>Перед нами стояла задача определения с помощью машинного обучения факт ухода человека из банка.</a></span></li></ul></li><li><span><a href=\"#Чек-лист-готовности-проекта\" data-toc-modified-id=\"Чек-лист-готовности-проекта-7\"><span class=\"toc-item-num\">7&nbsp;&nbsp;</span>Чек-лист готовности проекта</a></span></li></ul></div>"
   ]
  },
  {
   "cell_type": "markdown",
   "metadata": {},
   "source": [
    "# Отток клиентов"
   ]
  },
  {
   "cell_type": "markdown",
   "metadata": {},
   "source": [
    "Из «Бета-Банка» стали уходить клиенты. Каждый месяц. Немного, но заметно. Банковские маркетологи посчитали: сохранять текущих клиентов дешевле, чем привлекать новых.\n",
    "\n",
    "Нужно спрогнозировать, уйдёт клиент из банка в ближайшее время или нет. Вам предоставлены исторические данные о поведении клиентов и расторжении договоров с банком. \n",
    "\n",
    "Постройте модель с предельно большим значением *F1*-меры. Чтобы сдать проект успешно, нужно довести метрику до 0.59. Проверьте *F1*-меру на тестовой выборке самостоятельно.\n",
    "\n",
    "Дополнительно измеряйте *AUC-ROC*, сравнивайте её значение с *F1*-мерой.\n",
    "\n",
    "Источник данных: [https://www.kaggle.com/barelydedicated/bank-customer-churn-modeling](https://www.kaggle.com/barelydedicated/bank-customer-churn-modeling)"
   ]
  },
  {
   "cell_type": "markdown",
   "metadata": {},
   "source": [
    "Признаки\n",
    "- RowNumber — индекс строки в данных\n",
    "- CustomerId — уникальный идентификатор клиента\n",
    "- Surname — фамилия\n",
    "- CreditScore — кредитный рейтинг\n",
    "- Geography — страна проживания\n",
    "- Gender — пол\n",
    "- Age — возраст\n",
    "- Tenure — сколько лет человек является клиентом банка\n",
    "- Balance — баланс на счёте\n",
    "- NumOfProducts — количество продуктов банка, используемых клиентом\n",
    "- HasCrCard — наличие кредитной карты\n",
    "- IsActiveMember — активность клиента\n",
    "- EstimatedSalary — предполагаемая зарплата\n",
    "\n",
    "Целевой признак\n",
    "- Exited — факт ухода клиента"
   ]
  },
  {
   "cell_type": "markdown",
   "metadata": {},
   "source": [
    "Для выполнения задачи мы сначала проанализируем предоставленные данные, в случае необходимости проведем их дополнительную обработку."
   ]
  },
  {
   "cell_type": "markdown",
   "metadata": {},
   "source": [
    "## Подготовка данных"
   ]
  },
  {
   "cell_type": "markdown",
   "metadata": {},
   "source": [
    "#### Откроем датасет и посмотрим информацию:"
   ]
  },
  {
   "cell_type": "code",
   "execution_count": 1,
   "metadata": {},
   "outputs": [],
   "source": [
    "import pandas as pd\n",
    "import numpy as np\n",
    "import matplotlib.pyplot as plt\n",
    "\n",
    "from sklearn.datasets import load_digits\n",
    "from sklearn.model_selection import train_test_split, cross_val_score\n",
    "from sklearn.metrics import (mean_squared_error, accuracy_score, confusion_matrix, \n",
    "                             recall_score, precision_score, f1_score, roc_curve, \n",
    "                             roc_auc_score\n",
    "                            )\n",
    "from sklearn.utils import shuffle\n",
    "from sklearn.preprocessing import StandardScaler\n",
    "from sklearn.model_selection import GridSearchCV, cross_val_predict\n",
    "\n",
    "from sklearn.linear_model import LogisticRegression\n",
    "from sklearn.neighbors import KNeighborsClassifier\n",
    "from sklearn.tree import DecisionTreeClassifier\n",
    "from sklearn.ensemble import RandomForestClassifier\n",
    "from sklearn.dummy import DummyClassifier\n",
    "import warnings\n",
    "warnings.filterwarnings('ignore')"
   ]
  },
  {
   "cell_type": "code",
   "execution_count": 2,
   "metadata": {},
   "outputs": [
    {
     "data": {
      "text/html": [
       "<div>\n",
       "<style scoped>\n",
       "    .dataframe tbody tr th:only-of-type {\n",
       "        vertical-align: middle;\n",
       "    }\n",
       "\n",
       "    .dataframe tbody tr th {\n",
       "        vertical-align: top;\n",
       "    }\n",
       "\n",
       "    .dataframe thead th {\n",
       "        text-align: right;\n",
       "    }\n",
       "</style>\n",
       "<table border=\"1\" class=\"dataframe\">\n",
       "  <thead>\n",
       "    <tr style=\"text-align: right;\">\n",
       "      <th></th>\n",
       "      <th>RowNumber</th>\n",
       "      <th>CustomerId</th>\n",
       "      <th>Surname</th>\n",
       "      <th>CreditScore</th>\n",
       "      <th>Geography</th>\n",
       "      <th>Gender</th>\n",
       "      <th>Age</th>\n",
       "      <th>Tenure</th>\n",
       "      <th>Balance</th>\n",
       "      <th>NumOfProducts</th>\n",
       "      <th>HasCrCard</th>\n",
       "      <th>IsActiveMember</th>\n",
       "      <th>EstimatedSalary</th>\n",
       "      <th>Exited</th>\n",
       "    </tr>\n",
       "  </thead>\n",
       "  <tbody>\n",
       "    <tr>\n",
       "      <th>0</th>\n",
       "      <td>1</td>\n",
       "      <td>15634602</td>\n",
       "      <td>Hargrave</td>\n",
       "      <td>619</td>\n",
       "      <td>France</td>\n",
       "      <td>Female</td>\n",
       "      <td>42</td>\n",
       "      <td>2.0</td>\n",
       "      <td>0.00</td>\n",
       "      <td>1</td>\n",
       "      <td>1</td>\n",
       "      <td>1</td>\n",
       "      <td>101348.88</td>\n",
       "      <td>1</td>\n",
       "    </tr>\n",
       "    <tr>\n",
       "      <th>1</th>\n",
       "      <td>2</td>\n",
       "      <td>15647311</td>\n",
       "      <td>Hill</td>\n",
       "      <td>608</td>\n",
       "      <td>Spain</td>\n",
       "      <td>Female</td>\n",
       "      <td>41</td>\n",
       "      <td>1.0</td>\n",
       "      <td>83807.86</td>\n",
       "      <td>1</td>\n",
       "      <td>0</td>\n",
       "      <td>1</td>\n",
       "      <td>112542.58</td>\n",
       "      <td>0</td>\n",
       "    </tr>\n",
       "    <tr>\n",
       "      <th>2</th>\n",
       "      <td>3</td>\n",
       "      <td>15619304</td>\n",
       "      <td>Onio</td>\n",
       "      <td>502</td>\n",
       "      <td>France</td>\n",
       "      <td>Female</td>\n",
       "      <td>42</td>\n",
       "      <td>8.0</td>\n",
       "      <td>159660.80</td>\n",
       "      <td>3</td>\n",
       "      <td>1</td>\n",
       "      <td>0</td>\n",
       "      <td>113931.57</td>\n",
       "      <td>1</td>\n",
       "    </tr>\n",
       "    <tr>\n",
       "      <th>3</th>\n",
       "      <td>4</td>\n",
       "      <td>15701354</td>\n",
       "      <td>Boni</td>\n",
       "      <td>699</td>\n",
       "      <td>France</td>\n",
       "      <td>Female</td>\n",
       "      <td>39</td>\n",
       "      <td>1.0</td>\n",
       "      <td>0.00</td>\n",
       "      <td>2</td>\n",
       "      <td>0</td>\n",
       "      <td>0</td>\n",
       "      <td>93826.63</td>\n",
       "      <td>0</td>\n",
       "    </tr>\n",
       "    <tr>\n",
       "      <th>4</th>\n",
       "      <td>5</td>\n",
       "      <td>15737888</td>\n",
       "      <td>Mitchell</td>\n",
       "      <td>850</td>\n",
       "      <td>Spain</td>\n",
       "      <td>Female</td>\n",
       "      <td>43</td>\n",
       "      <td>2.0</td>\n",
       "      <td>125510.82</td>\n",
       "      <td>1</td>\n",
       "      <td>1</td>\n",
       "      <td>1</td>\n",
       "      <td>79084.10</td>\n",
       "      <td>0</td>\n",
       "    </tr>\n",
       "  </tbody>\n",
       "</table>\n",
       "</div>"
      ],
      "text/plain": [
       "   RowNumber  CustomerId   Surname  CreditScore Geography  Gender  Age  \\\n",
       "0          1    15634602  Hargrave          619    France  Female   42   \n",
       "1          2    15647311      Hill          608     Spain  Female   41   \n",
       "2          3    15619304      Onio          502    France  Female   42   \n",
       "3          4    15701354      Boni          699    France  Female   39   \n",
       "4          5    15737888  Mitchell          850     Spain  Female   43   \n",
       "\n",
       "   Tenure    Balance  NumOfProducts  HasCrCard  IsActiveMember  \\\n",
       "0     2.0       0.00              1          1               1   \n",
       "1     1.0   83807.86              1          0               1   \n",
       "2     8.0  159660.80              3          1               0   \n",
       "3     1.0       0.00              2          0               0   \n",
       "4     2.0  125510.82              1          1               1   \n",
       "\n",
       "   EstimatedSalary  Exited  \n",
       "0        101348.88       1  \n",
       "1        112542.58       0  \n",
       "2        113931.57       1  \n",
       "3         93826.63       0  \n",
       "4         79084.10       0  "
      ]
     },
     "execution_count": 2,
     "metadata": {},
     "output_type": "execute_result"
    }
   ],
   "source": [
    "data = pd.read_csv('/datasets/Churn.csv')\n",
    "data.head()"
   ]
  },
  {
   "cell_type": "code",
   "execution_count": 3,
   "metadata": {},
   "outputs": [
    {
     "name": "stdout",
     "output_type": "stream",
     "text": [
      "<class 'pandas.core.frame.DataFrame'>\n",
      "RangeIndex: 10000 entries, 0 to 9999\n",
      "Data columns (total 14 columns):\n",
      " #   Column           Non-Null Count  Dtype  \n",
      "---  ------           --------------  -----  \n",
      " 0   RowNumber        10000 non-null  int64  \n",
      " 1   CustomerId       10000 non-null  int64  \n",
      " 2   Surname          10000 non-null  object \n",
      " 3   CreditScore      10000 non-null  int64  \n",
      " 4   Geography        10000 non-null  object \n",
      " 5   Gender           10000 non-null  object \n",
      " 6   Age              10000 non-null  int64  \n",
      " 7   Tenure           9091 non-null   float64\n",
      " 8   Balance          10000 non-null  float64\n",
      " 9   NumOfProducts    10000 non-null  int64  \n",
      " 10  HasCrCard        10000 non-null  int64  \n",
      " 11  IsActiveMember   10000 non-null  int64  \n",
      " 12  EstimatedSalary  10000 non-null  float64\n",
      " 13  Exited           10000 non-null  int64  \n",
      "dtypes: float64(3), int64(8), object(3)\n",
      "memory usage: 1.1+ MB\n"
     ]
    }
   ],
   "source": [
    "data.info()"
   ]
  },
  {
   "cell_type": "markdown",
   "metadata": {},
   "source": [
    "Мы знаем, что столбец 'Exited' является целевым. \n",
    "#### Посмотрим на распределение признаков:"
   ]
  },
  {
   "cell_type": "code",
   "execution_count": 4,
   "metadata": {},
   "outputs": [
    {
     "data": {
      "text/plain": [
       "0    0.7963\n",
       "1    0.2037\n",
       "Name: Exited, dtype: float64"
      ]
     },
     "execution_count": 4,
     "metadata": {},
     "output_type": "execute_result"
    }
   ],
   "source": [
    "data['Exited'].value_counts(normalize=range(0, 1))"
   ]
  },
  {
   "cell_type": "markdown",
   "metadata": {},
   "source": [
    "Соотношение классов 0 и 1 примерно 4 к 1.\n",
    "Так же мы видим, что в примерно 10% строках отсутствует информация, сколько лет человек является клиентом банка.\n",
    "#### Посмотрим соотношение целевого признака в этом столбце и в датасете в целом."
   ]
  },
  {
   "cell_type": "code",
   "execution_count": 5,
   "metadata": {},
   "outputs": [
    {
     "data": {
      "text/plain": [
       "Exited\n",
       "0    7963\n",
       "1    2037\n",
       "Name: EstimatedSalary, dtype: int64"
      ]
     },
     "execution_count": 5,
     "metadata": {},
     "output_type": "execute_result"
    }
   ],
   "source": [
    "data.groupby('Exited')['EstimatedSalary'].count()"
   ]
  },
  {
   "cell_type": "code",
   "execution_count": 6,
   "metadata": {},
   "outputs": [
    {
     "data": {
      "text/plain": [
       "Exited\n",
       "0    7237\n",
       "1    1854\n",
       "Name: Tenure, dtype: int64"
      ]
     },
     "execution_count": 6,
     "metadata": {},
     "output_type": "execute_result"
    }
   ],
   "source": [
    "data.groupby('Exited')['Tenure'].count()"
   ]
  },
  {
   "cell_type": "markdown",
   "metadata": {},
   "source": [
    "Мы видим, что соотношение одинаковое, мы можем удалить строки с пропусками, что бы не путать обучаемую модели медианами или иными другими данными, которые не соответствуют действительности.\n",
    "\n",
    "Пропуски, вероятнее всего, связаны с тем, что данные созданы искусственно для обучения.\n",
    "\n",
    "#### Удалим строки с пропущенными в столбце данными:"
   ]
  },
  {
   "cell_type": "code",
   "execution_count": 7,
   "metadata": {},
   "outputs": [],
   "source": [
    "data = data.dropna(subset=['Tenure']).reset_index(drop=True)"
   ]
  },
  {
   "cell_type": "code",
   "execution_count": 8,
   "metadata": {},
   "outputs": [
    {
     "name": "stdout",
     "output_type": "stream",
     "text": [
      "<class 'pandas.core.frame.DataFrame'>\n",
      "RangeIndex: 9091 entries, 0 to 9090\n",
      "Data columns (total 14 columns):\n",
      " #   Column           Non-Null Count  Dtype  \n",
      "---  ------           --------------  -----  \n",
      " 0   RowNumber        9091 non-null   int64  \n",
      " 1   CustomerId       9091 non-null   int64  \n",
      " 2   Surname          9091 non-null   object \n",
      " 3   CreditScore      9091 non-null   int64  \n",
      " 4   Geography        9091 non-null   object \n",
      " 5   Gender           9091 non-null   object \n",
      " 6   Age              9091 non-null   int64  \n",
      " 7   Tenure           9091 non-null   float64\n",
      " 8   Balance          9091 non-null   float64\n",
      " 9   NumOfProducts    9091 non-null   int64  \n",
      " 10  HasCrCard        9091 non-null   int64  \n",
      " 11  IsActiveMember   9091 non-null   int64  \n",
      " 12  EstimatedSalary  9091 non-null   float64\n",
      " 13  Exited           9091 non-null   int64  \n",
      "dtypes: float64(3), int64(8), object(3)\n",
      "memory usage: 994.5+ KB\n"
     ]
    }
   ],
   "source": [
    "data.info()"
   ]
  },
  {
   "cell_type": "markdown",
   "metadata": {},
   "source": [
    "#### Приведем столбец 'Tenure' к целочисленному типу:"
   ]
  },
  {
   "cell_type": "code",
   "execution_count": 9,
   "metadata": {},
   "outputs": [],
   "source": [
    "data['Tenure'] = data['Tenure'].astype('int')"
   ]
  },
  {
   "cell_type": "markdown",
   "metadata": {},
   "source": [
    "Фамилия клиента,его уникальный идентификатор и индекс строки данных точно не могут влиять на уход клиента (если тошлько этого клиента не обзывали в банке по прозвищу из фамилии. \n",
    "#### Посмотрим корреляцию в данных: "
   ]
  },
  {
   "cell_type": "code",
   "execution_count": 10,
   "metadata": {},
   "outputs": [
    {
     "data": {
      "text/html": [
       "<div>\n",
       "<style scoped>\n",
       "    .dataframe tbody tr th:only-of-type {\n",
       "        vertical-align: middle;\n",
       "    }\n",
       "\n",
       "    .dataframe tbody tr th {\n",
       "        vertical-align: top;\n",
       "    }\n",
       "\n",
       "    .dataframe thead th {\n",
       "        text-align: right;\n",
       "    }\n",
       "</style>\n",
       "<table border=\"1\" class=\"dataframe\">\n",
       "  <thead>\n",
       "    <tr style=\"text-align: right;\">\n",
       "      <th></th>\n",
       "      <th>RowNumber</th>\n",
       "      <th>CustomerId</th>\n",
       "      <th>CreditScore</th>\n",
       "      <th>Age</th>\n",
       "      <th>Tenure</th>\n",
       "      <th>Balance</th>\n",
       "      <th>NumOfProducts</th>\n",
       "      <th>HasCrCard</th>\n",
       "      <th>IsActiveMember</th>\n",
       "      <th>EstimatedSalary</th>\n",
       "      <th>Exited</th>\n",
       "    </tr>\n",
       "  </thead>\n",
       "  <tbody>\n",
       "    <tr>\n",
       "      <th>RowNumber</th>\n",
       "      <td>1.000000</td>\n",
       "      <td>0.004289</td>\n",
       "      <td>0.002330</td>\n",
       "      <td>0.000681</td>\n",
       "      <td>-0.007322</td>\n",
       "      <td>-0.005921</td>\n",
       "      <td>0.009078</td>\n",
       "      <td>0.001248</td>\n",
       "      <td>0.009536</td>\n",
       "      <td>-0.004854</td>\n",
       "      <td>-0.014562</td>\n",
       "    </tr>\n",
       "    <tr>\n",
       "      <th>CustomerId</th>\n",
       "      <td>0.004289</td>\n",
       "      <td>1.000000</td>\n",
       "      <td>-0.001610</td>\n",
       "      <td>0.010379</td>\n",
       "      <td>-0.021418</td>\n",
       "      <td>-0.007445</td>\n",
       "      <td>0.014604</td>\n",
       "      <td>-0.019891</td>\n",
       "      <td>0.001499</td>\n",
       "      <td>0.010029</td>\n",
       "      <td>-0.007040</td>\n",
       "    </tr>\n",
       "    <tr>\n",
       "      <th>CreditScore</th>\n",
       "      <td>0.002330</td>\n",
       "      <td>-0.001610</td>\n",
       "      <td>1.000000</td>\n",
       "      <td>-0.004504</td>\n",
       "      <td>-0.000062</td>\n",
       "      <td>0.002804</td>\n",
       "      <td>0.011090</td>\n",
       "      <td>-0.003937</td>\n",
       "      <td>0.030947</td>\n",
       "      <td>0.005182</td>\n",
       "      <td>-0.023950</td>\n",
       "    </tr>\n",
       "    <tr>\n",
       "      <th>Age</th>\n",
       "      <td>0.000681</td>\n",
       "      <td>0.010379</td>\n",
       "      <td>-0.004504</td>\n",
       "      <td>1.000000</td>\n",
       "      <td>-0.013134</td>\n",
       "      <td>0.031481</td>\n",
       "      <td>-0.031877</td>\n",
       "      <td>-0.014129</td>\n",
       "      <td>0.082269</td>\n",
       "      <td>-0.007037</td>\n",
       "      <td>0.283017</td>\n",
       "    </tr>\n",
       "    <tr>\n",
       "      <th>Tenure</th>\n",
       "      <td>-0.007322</td>\n",
       "      <td>-0.021418</td>\n",
       "      <td>-0.000062</td>\n",
       "      <td>-0.013134</td>\n",
       "      <td>1.000000</td>\n",
       "      <td>-0.007911</td>\n",
       "      <td>0.011979</td>\n",
       "      <td>0.027232</td>\n",
       "      <td>-0.032178</td>\n",
       "      <td>0.010520</td>\n",
       "      <td>-0.016761</td>\n",
       "    </tr>\n",
       "    <tr>\n",
       "      <th>Balance</th>\n",
       "      <td>-0.005921</td>\n",
       "      <td>-0.007445</td>\n",
       "      <td>0.002804</td>\n",
       "      <td>0.031481</td>\n",
       "      <td>-0.007911</td>\n",
       "      <td>1.000000</td>\n",
       "      <td>-0.301858</td>\n",
       "      <td>-0.019055</td>\n",
       "      <td>-0.003285</td>\n",
       "      <td>0.014351</td>\n",
       "      <td>0.117218</td>\n",
       "    </tr>\n",
       "    <tr>\n",
       "      <th>NumOfProducts</th>\n",
       "      <td>0.009078</td>\n",
       "      <td>0.014604</td>\n",
       "      <td>0.011090</td>\n",
       "      <td>-0.031877</td>\n",
       "      <td>0.011979</td>\n",
       "      <td>-0.301858</td>\n",
       "      <td>1.000000</td>\n",
       "      <td>0.005805</td>\n",
       "      <td>0.009084</td>\n",
       "      <td>0.013990</td>\n",
       "      <td>-0.050271</td>\n",
       "    </tr>\n",
       "    <tr>\n",
       "      <th>HasCrCard</th>\n",
       "      <td>0.001248</td>\n",
       "      <td>-0.019891</td>\n",
       "      <td>-0.003937</td>\n",
       "      <td>-0.014129</td>\n",
       "      <td>0.027232</td>\n",
       "      <td>-0.019055</td>\n",
       "      <td>0.005805</td>\n",
       "      <td>1.000000</td>\n",
       "      <td>-0.008810</td>\n",
       "      <td>-0.006136</td>\n",
       "      <td>-0.005411</td>\n",
       "    </tr>\n",
       "    <tr>\n",
       "      <th>IsActiveMember</th>\n",
       "      <td>0.009536</td>\n",
       "      <td>0.001499</td>\n",
       "      <td>0.030947</td>\n",
       "      <td>0.082269</td>\n",
       "      <td>-0.032178</td>\n",
       "      <td>-0.003285</td>\n",
       "      <td>0.009084</td>\n",
       "      <td>-0.008810</td>\n",
       "      <td>1.000000</td>\n",
       "      <td>-0.020049</td>\n",
       "      <td>-0.155062</td>\n",
       "    </tr>\n",
       "    <tr>\n",
       "      <th>EstimatedSalary</th>\n",
       "      <td>-0.004854</td>\n",
       "      <td>0.010029</td>\n",
       "      <td>0.005182</td>\n",
       "      <td>-0.007037</td>\n",
       "      <td>0.010520</td>\n",
       "      <td>0.014351</td>\n",
       "      <td>0.013990</td>\n",
       "      <td>-0.006136</td>\n",
       "      <td>-0.020049</td>\n",
       "      <td>1.000000</td>\n",
       "      <td>0.016029</td>\n",
       "    </tr>\n",
       "    <tr>\n",
       "      <th>Exited</th>\n",
       "      <td>-0.014562</td>\n",
       "      <td>-0.007040</td>\n",
       "      <td>-0.023950</td>\n",
       "      <td>0.283017</td>\n",
       "      <td>-0.016761</td>\n",
       "      <td>0.117218</td>\n",
       "      <td>-0.050271</td>\n",
       "      <td>-0.005411</td>\n",
       "      <td>-0.155062</td>\n",
       "      <td>0.016029</td>\n",
       "      <td>1.000000</td>\n",
       "    </tr>\n",
       "  </tbody>\n",
       "</table>\n",
       "</div>"
      ],
      "text/plain": [
       "                 RowNumber  CustomerId  CreditScore       Age    Tenure  \\\n",
       "RowNumber         1.000000    0.004289     0.002330  0.000681 -0.007322   \n",
       "CustomerId        0.004289    1.000000    -0.001610  0.010379 -0.021418   \n",
       "CreditScore       0.002330   -0.001610     1.000000 -0.004504 -0.000062   \n",
       "Age               0.000681    0.010379    -0.004504  1.000000 -0.013134   \n",
       "Tenure           -0.007322   -0.021418    -0.000062 -0.013134  1.000000   \n",
       "Balance          -0.005921   -0.007445     0.002804  0.031481 -0.007911   \n",
       "NumOfProducts     0.009078    0.014604     0.011090 -0.031877  0.011979   \n",
       "HasCrCard         0.001248   -0.019891    -0.003937 -0.014129  0.027232   \n",
       "IsActiveMember    0.009536    0.001499     0.030947  0.082269 -0.032178   \n",
       "EstimatedSalary  -0.004854    0.010029     0.005182 -0.007037  0.010520   \n",
       "Exited           -0.014562   -0.007040    -0.023950  0.283017 -0.016761   \n",
       "\n",
       "                  Balance  NumOfProducts  HasCrCard  IsActiveMember  \\\n",
       "RowNumber       -0.005921       0.009078   0.001248        0.009536   \n",
       "CustomerId      -0.007445       0.014604  -0.019891        0.001499   \n",
       "CreditScore      0.002804       0.011090  -0.003937        0.030947   \n",
       "Age              0.031481      -0.031877  -0.014129        0.082269   \n",
       "Tenure          -0.007911       0.011979   0.027232       -0.032178   \n",
       "Balance          1.000000      -0.301858  -0.019055       -0.003285   \n",
       "NumOfProducts   -0.301858       1.000000   0.005805        0.009084   \n",
       "HasCrCard       -0.019055       0.005805   1.000000       -0.008810   \n",
       "IsActiveMember  -0.003285       0.009084  -0.008810        1.000000   \n",
       "EstimatedSalary  0.014351       0.013990  -0.006136       -0.020049   \n",
       "Exited           0.117218      -0.050271  -0.005411       -0.155062   \n",
       "\n",
       "                 EstimatedSalary    Exited  \n",
       "RowNumber              -0.004854 -0.014562  \n",
       "CustomerId              0.010029 -0.007040  \n",
       "CreditScore             0.005182 -0.023950  \n",
       "Age                    -0.007037  0.283017  \n",
       "Tenure                  0.010520 -0.016761  \n",
       "Balance                 0.014351  0.117218  \n",
       "NumOfProducts           0.013990 -0.050271  \n",
       "HasCrCard              -0.006136 -0.005411  \n",
       "IsActiveMember         -0.020049 -0.155062  \n",
       "EstimatedSalary         1.000000  0.016029  \n",
       "Exited                  0.016029  1.000000  "
      ]
     },
     "execution_count": 10,
     "metadata": {},
     "output_type": "execute_result"
    }
   ],
   "source": [
    "data.corr()"
   ]
  },
  {
   "cell_type": "markdown",
   "metadata": {},
   "source": [
    "#### Удалим эти столбцы:"
   ]
  },
  {
   "cell_type": "code",
   "execution_count": 11,
   "metadata": {},
   "outputs": [],
   "source": [
    "data_first = data.drop(['RowNumber', 'CustomerId', 'Surname'], axis=1)"
   ]
  },
  {
   "cell_type": "code",
   "execution_count": 12,
   "metadata": {},
   "outputs": [
    {
     "data": {
      "text/html": [
       "<div>\n",
       "<style scoped>\n",
       "    .dataframe tbody tr th:only-of-type {\n",
       "        vertical-align: middle;\n",
       "    }\n",
       "\n",
       "    .dataframe tbody tr th {\n",
       "        vertical-align: top;\n",
       "    }\n",
       "\n",
       "    .dataframe thead th {\n",
       "        text-align: right;\n",
       "    }\n",
       "</style>\n",
       "<table border=\"1\" class=\"dataframe\">\n",
       "  <thead>\n",
       "    <tr style=\"text-align: right;\">\n",
       "      <th></th>\n",
       "      <th>CreditScore</th>\n",
       "      <th>Age</th>\n",
       "      <th>Tenure</th>\n",
       "      <th>Balance</th>\n",
       "      <th>NumOfProducts</th>\n",
       "      <th>HasCrCard</th>\n",
       "      <th>IsActiveMember</th>\n",
       "      <th>EstimatedSalary</th>\n",
       "      <th>Exited</th>\n",
       "    </tr>\n",
       "  </thead>\n",
       "  <tbody>\n",
       "    <tr>\n",
       "      <th>CreditScore</th>\n",
       "      <td>1.000000</td>\n",
       "      <td>-0.004504</td>\n",
       "      <td>-0.000062</td>\n",
       "      <td>0.002804</td>\n",
       "      <td>0.011090</td>\n",
       "      <td>-0.003937</td>\n",
       "      <td>0.030947</td>\n",
       "      <td>0.005182</td>\n",
       "      <td>-0.023950</td>\n",
       "    </tr>\n",
       "    <tr>\n",
       "      <th>Age</th>\n",
       "      <td>-0.004504</td>\n",
       "      <td>1.000000</td>\n",
       "      <td>-0.013134</td>\n",
       "      <td>0.031481</td>\n",
       "      <td>-0.031877</td>\n",
       "      <td>-0.014129</td>\n",
       "      <td>0.082269</td>\n",
       "      <td>-0.007037</td>\n",
       "      <td>0.283017</td>\n",
       "    </tr>\n",
       "    <tr>\n",
       "      <th>Tenure</th>\n",
       "      <td>-0.000062</td>\n",
       "      <td>-0.013134</td>\n",
       "      <td>1.000000</td>\n",
       "      <td>-0.007911</td>\n",
       "      <td>0.011979</td>\n",
       "      <td>0.027232</td>\n",
       "      <td>-0.032178</td>\n",
       "      <td>0.010520</td>\n",
       "      <td>-0.016761</td>\n",
       "    </tr>\n",
       "    <tr>\n",
       "      <th>Balance</th>\n",
       "      <td>0.002804</td>\n",
       "      <td>0.031481</td>\n",
       "      <td>-0.007911</td>\n",
       "      <td>1.000000</td>\n",
       "      <td>-0.301858</td>\n",
       "      <td>-0.019055</td>\n",
       "      <td>-0.003285</td>\n",
       "      <td>0.014351</td>\n",
       "      <td>0.117218</td>\n",
       "    </tr>\n",
       "    <tr>\n",
       "      <th>NumOfProducts</th>\n",
       "      <td>0.011090</td>\n",
       "      <td>-0.031877</td>\n",
       "      <td>0.011979</td>\n",
       "      <td>-0.301858</td>\n",
       "      <td>1.000000</td>\n",
       "      <td>0.005805</td>\n",
       "      <td>0.009084</td>\n",
       "      <td>0.013990</td>\n",
       "      <td>-0.050271</td>\n",
       "    </tr>\n",
       "    <tr>\n",
       "      <th>HasCrCard</th>\n",
       "      <td>-0.003937</td>\n",
       "      <td>-0.014129</td>\n",
       "      <td>0.027232</td>\n",
       "      <td>-0.019055</td>\n",
       "      <td>0.005805</td>\n",
       "      <td>1.000000</td>\n",
       "      <td>-0.008810</td>\n",
       "      <td>-0.006136</td>\n",
       "      <td>-0.005411</td>\n",
       "    </tr>\n",
       "    <tr>\n",
       "      <th>IsActiveMember</th>\n",
       "      <td>0.030947</td>\n",
       "      <td>0.082269</td>\n",
       "      <td>-0.032178</td>\n",
       "      <td>-0.003285</td>\n",
       "      <td>0.009084</td>\n",
       "      <td>-0.008810</td>\n",
       "      <td>1.000000</td>\n",
       "      <td>-0.020049</td>\n",
       "      <td>-0.155062</td>\n",
       "    </tr>\n",
       "    <tr>\n",
       "      <th>EstimatedSalary</th>\n",
       "      <td>0.005182</td>\n",
       "      <td>-0.007037</td>\n",
       "      <td>0.010520</td>\n",
       "      <td>0.014351</td>\n",
       "      <td>0.013990</td>\n",
       "      <td>-0.006136</td>\n",
       "      <td>-0.020049</td>\n",
       "      <td>1.000000</td>\n",
       "      <td>0.016029</td>\n",
       "    </tr>\n",
       "    <tr>\n",
       "      <th>Exited</th>\n",
       "      <td>-0.023950</td>\n",
       "      <td>0.283017</td>\n",
       "      <td>-0.016761</td>\n",
       "      <td>0.117218</td>\n",
       "      <td>-0.050271</td>\n",
       "      <td>-0.005411</td>\n",
       "      <td>-0.155062</td>\n",
       "      <td>0.016029</td>\n",
       "      <td>1.000000</td>\n",
       "    </tr>\n",
       "  </tbody>\n",
       "</table>\n",
       "</div>"
      ],
      "text/plain": [
       "                 CreditScore       Age    Tenure   Balance  NumOfProducts  \\\n",
       "CreditScore         1.000000 -0.004504 -0.000062  0.002804       0.011090   \n",
       "Age                -0.004504  1.000000 -0.013134  0.031481      -0.031877   \n",
       "Tenure             -0.000062 -0.013134  1.000000 -0.007911       0.011979   \n",
       "Balance             0.002804  0.031481 -0.007911  1.000000      -0.301858   \n",
       "NumOfProducts       0.011090 -0.031877  0.011979 -0.301858       1.000000   \n",
       "HasCrCard          -0.003937 -0.014129  0.027232 -0.019055       0.005805   \n",
       "IsActiveMember      0.030947  0.082269 -0.032178 -0.003285       0.009084   \n",
       "EstimatedSalary     0.005182 -0.007037  0.010520  0.014351       0.013990   \n",
       "Exited             -0.023950  0.283017 -0.016761  0.117218      -0.050271   \n",
       "\n",
       "                 HasCrCard  IsActiveMember  EstimatedSalary    Exited  \n",
       "CreditScore      -0.003937        0.030947         0.005182 -0.023950  \n",
       "Age              -0.014129        0.082269        -0.007037  0.283017  \n",
       "Tenure            0.027232       -0.032178         0.010520 -0.016761  \n",
       "Balance          -0.019055       -0.003285         0.014351  0.117218  \n",
       "NumOfProducts     0.005805        0.009084         0.013990 -0.050271  \n",
       "HasCrCard         1.000000       -0.008810        -0.006136 -0.005411  \n",
       "IsActiveMember   -0.008810        1.000000        -0.020049 -0.155062  \n",
       "EstimatedSalary  -0.006136       -0.020049         1.000000  0.016029  \n",
       "Exited           -0.005411       -0.155062         0.016029  1.000000  "
      ]
     },
     "execution_count": 12,
     "metadata": {},
     "output_type": "execute_result"
    }
   ],
   "source": [
    "data_first.corr()"
   ]
  },
  {
   "cell_type": "markdown",
   "metadata": {},
   "source": [
    "Поскольку столбец 'Geography' может быть важным для интерпритирования результатов, не будем его удалять, а к нему, 'IsActiveMember', 'HasCrCard' и 'Gender' применим OHE.\n",
    "\n",
    "#### Применим OHE к столбцам 'Geography', 'Gender', 'HasCrCard', 'IsActiveMember':"
   ]
  },
  {
   "cell_type": "code",
   "execution_count": 13,
   "metadata": {},
   "outputs": [],
   "source": [
    "data_one = pd.get_dummies(data_first, columns=['Geography', 'Gender', 'HasCrCard', 'IsActiveMember'], drop_first= True)"
   ]
  },
  {
   "cell_type": "code",
   "execution_count": 14,
   "metadata": {},
   "outputs": [
    {
     "name": "stdout",
     "output_type": "stream",
     "text": [
      "<class 'pandas.core.frame.DataFrame'>\n",
      "RangeIndex: 9091 entries, 0 to 9090\n",
      "Data columns (total 12 columns):\n",
      " #   Column             Non-Null Count  Dtype  \n",
      "---  ------             --------------  -----  \n",
      " 0   CreditScore        9091 non-null   int64  \n",
      " 1   Age                9091 non-null   int64  \n",
      " 2   Tenure             9091 non-null   int64  \n",
      " 3   Balance            9091 non-null   float64\n",
      " 4   NumOfProducts      9091 non-null   int64  \n",
      " 5   EstimatedSalary    9091 non-null   float64\n",
      " 6   Exited             9091 non-null   int64  \n",
      " 7   Geography_Germany  9091 non-null   uint8  \n",
      " 8   Geography_Spain    9091 non-null   uint8  \n",
      " 9   Gender_Male        9091 non-null   uint8  \n",
      " 10  HasCrCard_1        9091 non-null   uint8  \n",
      " 11  IsActiveMember_1   9091 non-null   uint8  \n",
      "dtypes: float64(2), int64(5), uint8(5)\n",
      "memory usage: 541.7 KB\n"
     ]
    }
   ],
   "source": [
    "data_one.info()"
   ]
  },
  {
   "cell_type": "markdown",
   "metadata": {},
   "source": [
    "## Исследование задачи"
   ]
  },
  {
   "cell_type": "markdown",
   "metadata": {},
   "source": [
    "Нам требуется предсказать класс поведения, т.е. факт ухода клиента.\n",
    "1 в столбце-это уход. Импортируем нужные библиотеки и утилиты и попробуем провести пробное обучение для предсказания факта ухода."
   ]
  },
  {
   "cell_type": "markdown",
   "metadata": {},
   "source": [
    "### Пробное обучение"
   ]
  },
  {
   "cell_type": "markdown",
   "metadata": {},
   "source": [
    "#### Разделим данные на обучающую и валидационную выборки."
   ]
  },
  {
   "cell_type": "code",
   "execution_count": 15,
   "metadata": {},
   "outputs": [],
   "source": [
    "features = data_one.drop('Exited', axis=1)\n",
    "target = data_one['Exited']"
   ]
  },
  {
   "cell_type": "code",
   "execution_count": 16,
   "metadata": {},
   "outputs": [],
   "source": [
    "features_train, features_valid1, target_train, target_valid1 = train_test_split(\n",
    "    features, target, test_size=0.4, random_state=12345, \n",
    "    stratify=data['Exited'])\n",
    "features_test, features_valid, target_test, target_valid = train_test_split(\n",
    "    features_valid1, target_valid1, test_size=0.5, random_state=12345)"
   ]
  },
  {
   "cell_type": "code",
   "execution_count": 17,
   "metadata": {
    "scrolled": true
   },
   "outputs": [
    {
     "data": {
      "text/plain": [
       "((5454, 11), (1819, 11), (5454,), (1819,), (1818, 11), (1818,))"
      ]
     },
     "execution_count": 17,
     "metadata": {},
     "output_type": "execute_result"
    }
   ],
   "source": [
    "features_train.shape, features_valid.shape, target_train.shape, target_valid.shape, features_test.shape, target_test.shape"
   ]
  },
  {
   "cell_type": "markdown",
   "metadata": {},
   "source": [
    "### Масштабирование признаков"
   ]
  },
  {
   "cell_type": "code",
   "execution_count": 18,
   "metadata": {},
   "outputs": [],
   "source": [
    "numeric=['Balance', 'EstimatedSalary']\n",
    "scaler = StandardScaler()\n",
    "scaler.fit(features_train[numeric])\n",
    "features_train[numeric] = scaler.transform(features_train[numeric])\n",
    "features_valid[numeric] = scaler.transform(features_valid[numeric])\n",
    "features_test[numeric] = scaler.transform(features_test[numeric])\n",
    "\n",
    "pd.options.mode.chained_assignment = None"
   ]
  },
  {
   "cell_type": "markdown",
   "metadata": {},
   "source": [
    "### Дерево решений"
   ]
  },
  {
   "cell_type": "code",
   "execution_count": 19,
   "metadata": {},
   "outputs": [
    {
     "name": "stdout",
     "output_type": "stream",
     "text": [
      "Модель DecisionTreeClassifier(criterion='entropy', max_depth=7, random_state=12345) F1-мера 0.5572755417956656\n"
     ]
    }
   ],
   "source": [
    "best_model_tree = None\n",
    "best_f1 = 0\n",
    "for depth in range(1, 10):\n",
    "    model = DecisionTreeClassifier(random_state=12345, max_depth=depth, criterion='entropy')\n",
    "    model.fit(features_train, target_train)\n",
    "    predicted_tree = model.predict(features_valid) \n",
    "    f1 = f1_score(target_valid, predicted_tree)\n",
    "    if f1 > best_f1:\n",
    "        best_model_tree = model\n",
    "        best_f1 = f1\n",
    "print('Модель', best_model_tree, 'F1-мера', best_f1)"
   ]
  },
  {
   "cell_type": "code",
   "execution_count": 20,
   "metadata": {},
   "outputs": [
    {
     "name": "stdout",
     "output_type": "stream",
     "text": [
      "Площадь ROC-кривой: 0.6669388133228217\n",
      "Доля правильных ответов: 0.8422210005497526\n"
     ]
    }
   ],
   "source": [
    "probabilities = best_model_tree.predict_proba(features)\n",
    "probabilities_one = probabilities[:, 1]\n",
    "print('Площадь ROC-кривой:', roc_auc_score(target, probabilities_one))\n",
    "print('Доля правильных ответов:', model.score(features_valid, target_valid))"
   ]
  },
  {
   "cell_type": "markdown",
   "metadata": {},
   "source": [
    "Результаты печальные, пробуем дольше."
   ]
  },
  {
   "cell_type": "markdown",
   "metadata": {},
   "source": [
    "### Случайный лес"
   ]
  },
  {
   "cell_type": "code",
   "execution_count": 21,
   "metadata": {},
   "outputs": [
    {
     "name": "stdout",
     "output_type": "stream",
     "text": [
      "Модель RandomForestClassifier(max_depth=19, n_estimators=61, random_state=12345) \n",
      " F1-мера 0.5680272108843538\n"
     ]
    }
   ],
   "source": [
    "best_model = None\n",
    "best_f1 = 0\n",
    "for est in range(50, 70):\n",
    "    for depth in range(1, 20):\n",
    "        model = RandomForestClassifier(random_state=12345, n_estimators=est, \n",
    "                                       max_depth=depth)\n",
    "        model.fit(features_train, target_train)\n",
    "        predicted_forest = model.predict(features_valid) \n",
    "    f1 = f1_score(target_valid, predicted_forest)\n",
    "    if f1 > best_f1:\n",
    "        best_model_forest = model\n",
    "        best_f1 = f1\n",
    "print('Модель', best_model_forest, '\\n F1-мера', best_f1)"
   ]
  },
  {
   "cell_type": "code",
   "execution_count": 22,
   "metadata": {},
   "outputs": [
    {
     "name": "stdout",
     "output_type": "stream",
     "text": [
      "Площадь ROC-кривой: 0.7426175701130726\n",
      "Доля правильных ответов: 0.857064321055525\n"
     ]
    }
   ],
   "source": [
    "probabilities = best_model_forest.predict_proba(features)\n",
    "probabilities_one = probabilities[:, 1]\n",
    "print('Площадь ROC-кривой:', roc_auc_score(target, probabilities_one))\n",
    "print('Доля правильных ответов:', model.score(features_valid, target_valid))"
   ]
  },
  {
   "cell_type": "markdown",
   "metadata": {},
   "source": [
    "Результат уже лучше."
   ]
  },
  {
   "cell_type": "markdown",
   "metadata": {},
   "source": [
    "### Логистическая регрессия "
   ]
  },
  {
   "cell_type": "code",
   "execution_count": 23,
   "metadata": {},
   "outputs": [],
   "source": [
    "first_regression = LogisticRegression(random_state=12345, solver='lbfgs', max_iter=1000)"
   ]
  },
  {
   "cell_type": "code",
   "execution_count": 24,
   "metadata": {},
   "outputs": [
    {
     "data": {
      "text/plain": [
       "0.8180318856514568"
      ]
     },
     "execution_count": 24,
     "metadata": {},
     "output_type": "execute_result"
    }
   ],
   "source": [
    "first_regression.fit(features_train, target_train)\n",
    "predicted_regression = first_regression.predict(features_valid)\n",
    "accuracy_score(target_valid, predicted_regression)"
   ]
  },
  {
   "cell_type": "code",
   "execution_count": 25,
   "metadata": {},
   "outputs": [
    {
     "data": {
      "text/plain": [
       "0.5563139931740615"
      ]
     },
     "execution_count": 25,
     "metadata": {},
     "output_type": "execute_result"
    }
   ],
   "source": [
    "predicted_regression = model.predict(features_valid) \n",
    "f1_score(target_valid, predicted_regression)"
   ]
  },
  {
   "cell_type": "markdown",
   "metadata": {},
   "source": [
    "Лучше всего с задачей определения класса справляется случайный лес. Однако, в данных явный дисбаланс и процент правильных ответов не намного выше процента 0 класса."
   ]
  },
  {
   "cell_type": "markdown",
   "metadata": {},
   "source": [
    "## Метрики для лучшей модели - Случайного леса"
   ]
  },
  {
   "cell_type": "markdown",
   "metadata": {},
   "source": [
    "#### Матрица ошибок для лучшей модели "
   ]
  },
  {
   "cell_type": "code",
   "execution_count": 26,
   "metadata": {},
   "outputs": [
    {
     "data": {
      "text/plain": [
       "array([[1396,   56],\n",
       "       [ 204,  163]])"
      ]
     },
     "execution_count": 26,
     "metadata": {},
     "output_type": "execute_result"
    }
   ],
   "source": [
    "confusion_matrix(target_valid, predicted_forest)"
   ]
  },
  {
   "cell_type": "markdown",
   "metadata": {},
   "source": [
    "###### Таким образом, мы имеем:\n",
    "- TN=1396 - количество верно определенных оставшихся клиентов\n",
    "- FP=56 - количество клиентов, которые остались, однако, были определены как ушедшие\n",
    "- FN=204 - количество клиентов, которые ушли, однако, былши определены как оставшиеся\n",
    "- TP=163 - количество верно определенных ушедших клиентов\n"
   ]
  },
  {
   "cell_type": "markdown",
   "metadata": {},
   "source": [
    "То есть, наша модель хорошо определяет класс 0, а с 1 ошибается примерно в 1 случае из 2.\n",
    "Нам же важнее правильно определять класс 1."
   ]
  },
  {
   "cell_type": "markdown",
   "metadata": {},
   "source": [
    "#### Полнота для лучшей модели"
   ]
  },
  {
   "cell_type": "code",
   "execution_count": 27,
   "metadata": {},
   "outputs": [
    {
     "data": {
      "text/plain": [
       "0.444141689373297"
      ]
     },
     "execution_count": 27,
     "metadata": {},
     "output_type": "execute_result"
    }
   ],
   "source": [
    "recall_score(target_valid, predicted_forest)"
   ]
  },
  {
   "cell_type": "markdown",
   "metadata": {},
   "source": [
    "Таким образом, доля истинно положительных ответов (т.е. доля верно определенных ушедших клиентов) менее половины."
   ]
  },
  {
   "cell_type": "markdown",
   "metadata": {},
   "source": [
    "#### Точность для лучшей модели"
   ]
  },
  {
   "cell_type": "code",
   "execution_count": 28,
   "metadata": {},
   "outputs": [
    {
     "data": {
      "text/plain": [
       "0.7442922374429224"
      ]
     },
     "execution_count": 28,
     "metadata": {},
     "output_type": "execute_result"
    }
   ],
   "source": [
    "precision_score(target_valid, predicted_forest)"
   ]
  },
  {
   "cell_type": "markdown",
   "metadata": {},
   "source": [
    "Точность модели менее 75%, не самый хороший результат."
   ]
  },
  {
   "cell_type": "markdown",
   "metadata": {},
   "source": [
    "####  F1-мера для лучшей модели "
   ]
  },
  {
   "cell_type": "code",
   "execution_count": 29,
   "metadata": {},
   "outputs": [
    {
     "data": {
      "text/plain": [
       "0.5563139931740615"
      ]
     },
     "execution_count": 29,
     "metadata": {},
     "output_type": "execute_result"
    }
   ],
   "source": [
    "f1_score(target_valid, predicted_forest)"
   ]
  },
  {
   "cell_type": "markdown",
   "metadata": {},
   "source": [
    "В условии задачи указано, что значение 0,59 для F1-меры является достаточным, требуется улучшить модель и все показатели."
   ]
  },
  {
   "cell_type": "markdown",
   "metadata": {},
   "source": [
    "Нами была выбрана модель-Случайный лес, которая имеет точность около 75%. Попробуем улучшить ее качества и поработаем над дисбалансом выборки далее."
   ]
  },
  {
   "cell_type": "markdown",
   "metadata": {},
   "source": [
    "## Борьба с дисбалансом"
   ]
  },
  {
   "cell_type": "markdown",
   "metadata": {},
   "source": [
    "Для улучшения качества модели увеличим вес класса 1 в целевом признаке.\n",
    "Так же отметим, что среди признаков имеются данные, масштаб которых сильно различается (например, предполагаемая зарплата и сколько лет человек является клиентом банка). Масштабируем все признаки."
   ]
  },
  {
   "cell_type": "code",
   "execution_count": 30,
   "metadata": {},
   "outputs": [
    {
     "data": {
      "text/html": [
       "<div>\n",
       "<style scoped>\n",
       "    .dataframe tbody tr th:only-of-type {\n",
       "        vertical-align: middle;\n",
       "    }\n",
       "\n",
       "    .dataframe tbody tr th {\n",
       "        vertical-align: top;\n",
       "    }\n",
       "\n",
       "    .dataframe thead th {\n",
       "        text-align: right;\n",
       "    }\n",
       "</style>\n",
       "<table border=\"1\" class=\"dataframe\">\n",
       "  <thead>\n",
       "    <tr style=\"text-align: right;\">\n",
       "      <th></th>\n",
       "      <th>CreditScore</th>\n",
       "      <th>Age</th>\n",
       "      <th>Tenure</th>\n",
       "      <th>Balance</th>\n",
       "      <th>NumOfProducts</th>\n",
       "      <th>EstimatedSalary</th>\n",
       "      <th>Geography_Germany</th>\n",
       "      <th>Geography_Spain</th>\n",
       "      <th>Gender_Male</th>\n",
       "      <th>HasCrCard_1</th>\n",
       "      <th>IsActiveMember_1</th>\n",
       "    </tr>\n",
       "  </thead>\n",
       "  <tbody>\n",
       "    <tr>\n",
       "      <th>8837</th>\n",
       "      <td>526</td>\n",
       "      <td>32</td>\n",
       "      <td>7</td>\n",
       "      <td>0.786636</td>\n",
       "      <td>1</td>\n",
       "      <td>-0.223548</td>\n",
       "      <td>0</td>\n",
       "      <td>0</td>\n",
       "      <td>1</td>\n",
       "      <td>0</td>\n",
       "      <td>0</td>\n",
       "    </tr>\n",
       "    <tr>\n",
       "      <th>1090</th>\n",
       "      <td>500</td>\n",
       "      <td>47</td>\n",
       "      <td>8</td>\n",
       "      <td>0.833795</td>\n",
       "      <td>1</td>\n",
       "      <td>1.383021</td>\n",
       "      <td>0</td>\n",
       "      <td>1</td>\n",
       "      <td>0</td>\n",
       "      <td>1</td>\n",
       "      <td>0</td>\n",
       "    </tr>\n",
       "    <tr>\n",
       "      <th>7609</th>\n",
       "      <td>802</td>\n",
       "      <td>40</td>\n",
       "      <td>4</td>\n",
       "      <td>-1.222967</td>\n",
       "      <td>2</td>\n",
       "      <td>-0.308331</td>\n",
       "      <td>0</td>\n",
       "      <td>1</td>\n",
       "      <td>1</td>\n",
       "      <td>1</td>\n",
       "      <td>1</td>\n",
       "    </tr>\n",
       "    <tr>\n",
       "      <th>7279</th>\n",
       "      <td>731</td>\n",
       "      <td>39</td>\n",
       "      <td>2</td>\n",
       "      <td>0.807063</td>\n",
       "      <td>1</td>\n",
       "      <td>-0.430980</td>\n",
       "      <td>0</td>\n",
       "      <td>1</td>\n",
       "      <td>0</td>\n",
       "      <td>1</td>\n",
       "      <td>1</td>\n",
       "    </tr>\n",
       "    <tr>\n",
       "      <th>2245</th>\n",
       "      <td>612</td>\n",
       "      <td>26</td>\n",
       "      <td>4</td>\n",
       "      <td>-1.222967</td>\n",
       "      <td>2</td>\n",
       "      <td>1.392642</td>\n",
       "      <td>0</td>\n",
       "      <td>1</td>\n",
       "      <td>0</td>\n",
       "      <td>1</td>\n",
       "      <td>1</td>\n",
       "    </tr>\n",
       "  </tbody>\n",
       "</table>\n",
       "</div>"
      ],
      "text/plain": [
       "      CreditScore  Age  Tenure   Balance  NumOfProducts  EstimatedSalary  \\\n",
       "8837          526   32       7  0.786636              1        -0.223548   \n",
       "1090          500   47       8  0.833795              1         1.383021   \n",
       "7609          802   40       4 -1.222967              2        -0.308331   \n",
       "7279          731   39       2  0.807063              1        -0.430980   \n",
       "2245          612   26       4 -1.222967              2         1.392642   \n",
       "\n",
       "      Geography_Germany  Geography_Spain  Gender_Male  HasCrCard_1  \\\n",
       "8837                  0                0            1            0   \n",
       "1090                  0                1            0            1   \n",
       "7609                  0                1            1            1   \n",
       "7279                  0                1            0            1   \n",
       "2245                  0                1            0            1   \n",
       "\n",
       "      IsActiveMember_1  \n",
       "8837                 0  \n",
       "1090                 0  \n",
       "7609                 1  \n",
       "7279                 1  \n",
       "2245                 1  "
      ]
     },
     "execution_count": 30,
     "metadata": {},
     "output_type": "execute_result"
    }
   ],
   "source": [
    "features_train.head()"
   ]
  },
  {
   "cell_type": "markdown",
   "metadata": {},
   "source": [
    "### Увеличение веса класса 1"
   ]
  },
  {
   "cell_type": "code",
   "execution_count": 31,
   "metadata": {},
   "outputs": [],
   "source": [
    "def upsample(features, target, repeat):\n",
    "    features_zeros = features[target == 0]\n",
    "    features_ones = features[target == 1]\n",
    "    target_zeros = target[target == 0]\n",
    "    target_ones = target[target == 1]\n",
    "    \n",
    "    features_upsampled = pd.concat([features_zeros] + \n",
    "                                   [features_ones] * repeat)\n",
    "    target_upsampled = pd.concat([target_zeros] + \n",
    "                                 [target_ones] * repeat)\n",
    "    \n",
    "    features_upsampled, target_upsampled = shuffle(\n",
    "        features_upsampled, target_upsampled, random_state=12345)\n",
    "    \n",
    "    return features_upsampled, target_upsampled\n",
    "\n",
    "features_upsampled, target_upsampled = upsample(features_train, target_train, 4)\n"
   ]
  },
  {
   "cell_type": "code",
   "execution_count": 32,
   "metadata": {},
   "outputs": [
    {
     "data": {
      "text/plain": [
       "1    0.50603\n",
       "0    0.49397\n",
       "Name: Exited, dtype: float64"
      ]
     },
     "execution_count": 32,
     "metadata": {},
     "output_type": "execute_result"
    }
   ],
   "source": [
    "target_upsampled.value_counts(normalize=range(0, 1))"
   ]
  },
  {
   "cell_type": "markdown",
   "metadata": {},
   "source": [
    "Таким образом, мы произвели масштабирование некотрых признаков, а так же увеличили долю класса 1 в целевом признаке."
   ]
  },
  {
   "cell_type": "markdown",
   "metadata": {},
   "source": [
    "### Обучение Случайного леса"
   ]
  },
  {
   "cell_type": "markdown",
   "metadata": {},
   "source": [
    "Нам требуется, что бы F1 было максимальным. Подберем параметры:"
   ]
  },
  {
   "cell_type": "code",
   "execution_count": 33,
   "metadata": {},
   "outputs": [
    {
     "name": "stdout",
     "output_type": "stream",
     "text": [
      "Модель RandomForestClassifier(max_depth=11, n_estimators=34, random_state=12345) \n",
      " F1-мера 0.6262886597938144\n"
     ]
    }
   ],
   "source": [
    "best_forest = None\n",
    "best_f1 = 0\n",
    "for est in range(30, 41):\n",
    "    for depth in range(10, 21):\n",
    "        model = RandomForestClassifier(random_state=12345, n_estimators=est, \n",
    "                                       max_depth=depth)\n",
    "        model.fit(features_upsampled, target_upsampled)\n",
    "        predicted_best_forest = model.predict(features_valid) \n",
    "        f1 = f1_score(target_valid, predicted_best_forest)\n",
    "        if f1 > best_f1:\n",
    "            best_forest = model\n",
    "            best_f1 = f1\n",
    "print('Модель', best_forest, '\\n F1-мера', best_f1)"
   ]
  },
  {
   "cell_type": "code",
   "execution_count": 34,
   "metadata": {},
   "outputs": [
    {
     "name": "stdout",
     "output_type": "stream",
     "text": [
      "Площадь ROC-кривой: 0.7371015229629471\n",
      "Доля правильных ответов: 0.8466190214403518\n"
     ]
    }
   ],
   "source": [
    "probabilities = best_forest.predict_proba(features)\n",
    "probabilities_one = probabilities[:, 1]\n",
    "print('Площадь ROC-кривой:', roc_auc_score(target, probabilities_one))\n",
    "print('Доля правильных ответов:', model.score(features_valid, target_valid))"
   ]
  },
  {
   "cell_type": "markdown",
   "metadata": {},
   "source": [
    "#### Матрица ошибок для лучшей модели:"
   ]
  },
  {
   "cell_type": "code",
   "execution_count": 35,
   "metadata": {},
   "outputs": [
    {
     "data": {
      "text/plain": [
       "array([[1348,  104],\n",
       "       [ 175,  192]])"
      ]
     },
     "execution_count": 35,
     "metadata": {},
     "output_type": "execute_result"
    }
   ],
   "source": [
    "confusion_matrix(target_valid, predicted_best_forest)"
   ]
  },
  {
   "cell_type": "markdown",
   "metadata": {},
   "source": [
    " Таким образом, мы имеем: \n",
    "- TN=1341 - количество верно определенных оставшихся клиентов (уменьшилось)\n",
    "- FP=111 - количество клиентов, которые остались, однако, были определены как ушедшие (уменьшилось)\n",
    "- FN=169 - количество клиентов, которые ушли, однако, былши определены как оставшиеся (уменьшилось)\n",
    "- TP=198 - количество верно определенных ушедших клиентов (увеличилось)"
   ]
  },
  {
   "cell_type": "markdown",
   "metadata": {},
   "source": [
    "Данная модель уже довольно хорошо предсказывает класс 1 в тестовой выборке, можно считать, что ее качество улучшилось. Поскольку именно качественное определение этого класса является целью задачи."
   ]
  },
  {
   "cell_type": "markdown",
   "metadata": {},
   "source": [
    "#### ROC-кривая для лучшей модели"
   ]
  },
  {
   "cell_type": "markdown",
   "metadata": {},
   "source": [
    "Построим график для ложноположительных ответов (FPR) и истинноположительных ответов (TPR) - кривую ошибок."
   ]
  },
  {
   "cell_type": "code",
   "execution_count": 37,
   "metadata": {},
   "outputs": [],
   "source": [
    "probabilities_valid = best_forest.predict_proba(features_valid)\n",
    "probabilities_one_valid = probabilities_valid[:, 1]"
   ]
  },
  {
   "cell_type": "code",
   "execution_count": 38,
   "metadata": {},
   "outputs": [],
   "source": [
    "fpr, tpr, thresholds = roc_curve(target_valid, probabilities_one_valid)"
   ]
  },
  {
   "cell_type": "code",
   "execution_count": 39,
   "metadata": {},
   "outputs": [
    {
     "data": {
      "text/plain": [
       "[<matplotlib.lines.Line2D at 0x7f2d55ea23d0>]"
      ]
     },
     "execution_count": 39,
     "metadata": {},
     "output_type": "execute_result"
    },
    {
     "data": {
      "image/png": "[encoded data removed]",
      "text/plain": [
       "<Figure size 432x288 with 1 Axes>"
      ]
     },
     "metadata": {
      "needs_background": "light"
     },
     "output_type": "display_data"
    }
   ],
   "source": [
    "plt.figure()\n",
    "plt.plot(fpr, tpr)\n",
    "plt.xlim([0.0, 1.0])\n",
    "plt.ylim([0.0, 1.0])\n",
    "plt.xlabel('False Positive Rate')\n",
    "plt.ylabel('True Positive Rate')\n",
    "plt.title('ROC-кривая')\n",
    "plt.plot([0, 1], [0, 1], linestyle='--')"
   ]
  },
  {
   "cell_type": "markdown",
   "metadata": {},
   "source": [
    "ROC-кривая нашей модели значительно выше случайной, следовательно, выше значение TPR и лучше качество модели."
   ]
  },
  {
   "cell_type": "markdown",
   "metadata": {},
   "source": [
    "#### Метрика AUC-ROC"
   ]
  },
  {
   "cell_type": "code",
   "execution_count": 40,
   "metadata": {},
   "outputs": [
    {
     "data": {
      "text/plain": [
       "0.8603448405281449"
      ]
     },
     "execution_count": 40,
     "metadata": {},
     "output_type": "execute_result"
    }
   ],
   "source": [
    "roc_auc_score(target_valid, probabilities_one_valid)"
   ]
  },
  {
   "cell_type": "markdown",
   "metadata": {},
   "source": [
    "Площадь под ROC-кривой случайной модели равна 0,5, нашей модели- 0.86"
   ]
  },
  {
   "cell_type": "markdown",
   "metadata": {},
   "source": [
    "Нами была произведена работа по устранению дисбаланса выборки, а так же масштабирование признаков. Были подобраны параметры модели и сейчас модель правильно предсказывает класс 1 более, чем в 60% случаев, а точность модели составляет около 85%. "
   ]
  },
  {
   "cell_type": "markdown",
   "metadata": {},
   "source": [
    "## Тестирование модели"
   ]
  },
  {
   "cell_type": "code",
   "execution_count": 41,
   "metadata": {},
   "outputs": [
    {
     "data": {
      "text/plain": [
       "0.8278327832783279"
      ]
     },
     "execution_count": 41,
     "metadata": {},
     "output_type": "execute_result"
    }
   ],
   "source": [
    "predicted_test = best_forest.predict(features_test)\n",
    "best_forest.score(features_test, target_test)"
   ]
  },
  {
   "cell_type": "code",
   "execution_count": 42,
   "metadata": {},
   "outputs": [
    {
     "data": {
      "text/plain": [
       "0.6200000000000001"
      ]
     },
     "execution_count": 42,
     "metadata": {},
     "output_type": "execute_result"
    }
   ],
   "source": [
    "predict_best_forest_test = model.predict(features_test) \n",
    "f1_score(target_test, predict_best_forest_test)"
   ]
  },
  {
   "cell_type": "markdown",
   "metadata": {},
   "source": [
    "#### F1-мера для константной модели:"
   ]
  },
  {
   "cell_type": "code",
   "execution_count": 43,
   "metadata": {},
   "outputs": [
    {
     "data": {
      "text/plain": [
       "0.34199726402188785"
      ]
     },
     "execution_count": 43,
     "metadata": {},
     "output_type": "execute_result"
    }
   ],
   "source": [
    "dummy_model = DummyClassifier(strategy='constant', constant=1)\n",
    "dummy_model.fit(features_train, target_train)\n",
    "f1_score(dummy_model.predict(features_test), target_test)"
   ]
  },
  {
   "cell_type": "markdown",
   "metadata": {},
   "source": [
    "Если модель будет предсказывать 1 всегда, то ее F1 будет 0,34. F1-мера для обученной нами модели значительно выше."
   ]
  },
  {
   "cell_type": "markdown",
   "metadata": {},
   "source": [
    "#### ROC-кривая для тестовых данных"
   ]
  },
  {
   "cell_type": "code",
   "execution_count": 44,
   "metadata": {},
   "outputs": [],
   "source": [
    "probabilities_valid = best_forest.predict_proba(features_test)\n",
    "probabilities_one_valid = probabilities_valid[:, 1]"
   ]
  },
  {
   "cell_type": "code",
   "execution_count": 45,
   "metadata": {},
   "outputs": [],
   "source": [
    "fpr, tpr, thresholds = roc_curve(target_test, probabilities_one_valid)"
   ]
  },
  {
   "cell_type": "code",
   "execution_count": 46,
   "metadata": {},
   "outputs": [
    {
     "data": {
      "text/plain": [
       "[<matplotlib.lines.Line2D at 0x7f2d4dc77a00>]"
      ]
     },
     "execution_count": 46,
     "metadata": {},
     "output_type": "execute_result"
    },
    {
     "data": {
      "image/png": "[encoded data removed]",
      "text/plain": [
       "<Figure size 432x288 with 1 Axes>"
      ]
     },
     "metadata": {
      "needs_background": "light"
     },
     "output_type": "display_data"
    }
   ],
   "source": [
    "plt.figure()\n",
    "plt.plot(fpr, tpr)\n",
    "plt.xlim([0.0, 1.0])\n",
    "plt.ylim([0.0, 1.0])\n",
    "plt.xlabel('False Positive Rate')\n",
    "plt.ylabel('True Positive Rate')\n",
    "plt.title('ROC-кривая')\n",
    "plt.plot([0, 1], [0, 1], linestyle='--')"
   ]
  },
  {
   "cell_type": "markdown",
   "metadata": {},
   "source": [
    "#### Метрика AUC-ROC"
   ]
  },
  {
   "cell_type": "code",
   "execution_count": 47,
   "metadata": {},
   "outputs": [
    {
     "data": {
      "text/plain": [
       "0.8617528297528296"
      ]
     },
     "execution_count": 47,
     "metadata": {},
     "output_type": "execute_result"
    }
   ],
   "source": [
    "roc_auc_score(target_test, probabilities_one_valid)"
   ]
  },
  {
   "cell_type": "markdown",
   "metadata": {},
   "source": [
    "F1-мера на тестовой выборке составляет 62%, точность модели на тестовых данных 82,7%, а площадь под ROC-кривой 0,86."
   ]
  },
  {
   "cell_type": "markdown",
   "metadata": {},
   "source": [
    "## Общий вывод"
   ]
  },
  {
   "cell_type": "markdown",
   "metadata": {},
   "source": [
    "### Перед нами стояла задача определения с помощью машинного обучения факт ухода человека из банка.\n",
    "Нами были исследованы данные и удалены строки с отсутствующими значениями, определена лучшая модель для выполнения данной задачи - Случайный лес. Для улучшения показателей было проведено масштабирование признаков и увеличение веса класса 1 в целевом признаке.\n",
    "Датасет был разделен на 3 части-обучающую, валидационную и тестовую. Ответы по тестовой выборке машина в процессе обучения не видела.\n",
    "Для выполнения задачи были подобраны лучшие параметры Случайного леса.\n",
    "Обученная нами модель имеет F1-меру 0.62. И общая точность модели составляет около 83% по обоим целевым признакам."
   ]
  }
 ],
 "metadata": {
  "ExecuteTimeLog": [
   {
    "duration": 50,
    "start_time": "2023-03-16T09:35:55.038Z"
   },
   {
    "duration": 406,
    "start_time": "2023-03-16T09:36:17.721Z"
   },
   {
    "duration": 191,
    "start_time": "2023-03-16T09:36:18.866Z"
   },
   {
    "duration": 14,
    "start_time": "2023-03-16T09:37:05.702Z"
   },
   {
    "duration": 32,
    "start_time": "2023-03-16T10:22:26.773Z"
   },
   {
    "duration": 10,
    "start_time": "2023-03-16T10:27:30.089Z"
   },
   {
    "duration": 7,
    "start_time": "2023-03-16T10:27:38.922Z"
   },
   {
    "duration": 7,
    "start_time": "2023-03-16T10:36:52.482Z"
   },
   {
    "duration": 5,
    "start_time": "2023-03-16T10:37:41.441Z"
   },
   {
    "duration": 7,
    "start_time": "2023-03-16T10:38:20.897Z"
   },
   {
    "duration": 7,
    "start_time": "2023-03-16T10:41:23.378Z"
   },
   {
    "duration": 7,
    "start_time": "2023-03-16T10:41:42.618Z"
   },
   {
    "duration": 43,
    "start_time": "2023-03-16T10:47:39.045Z"
   },
   {
    "duration": 11,
    "start_time": "2023-03-16T10:47:56.234Z"
   },
   {
    "duration": 17,
    "start_time": "2023-03-16T10:48:02.510Z"
   },
   {
    "duration": 7,
    "start_time": "2023-03-16T10:48:19.282Z"
   },
   {
    "duration": 12,
    "start_time": "2023-03-16T10:48:19.789Z"
   },
   {
    "duration": 424,
    "start_time": "2023-03-16T11:45:54.097Z"
   },
   {
    "duration": 57,
    "start_time": "2023-03-16T11:45:54.523Z"
   },
   {
    "duration": 13,
    "start_time": "2023-03-16T11:45:54.582Z"
   },
   {
    "duration": 15,
    "start_time": "2023-03-16T11:45:54.597Z"
   },
   {
    "duration": 6,
    "start_time": "2023-03-16T11:45:54.613Z"
   },
   {
    "duration": 13,
    "start_time": "2023-03-16T11:45:54.620Z"
   },
   {
    "duration": 18,
    "start_time": "2023-03-16T11:45:54.634Z"
   },
   {
    "duration": 19,
    "start_time": "2023-03-16T11:45:54.654Z"
   },
   {
    "duration": 12,
    "start_time": "2023-03-16T11:45:54.675Z"
   },
   {
    "duration": 12,
    "start_time": "2023-03-16T11:50:39.089Z"
   },
   {
    "duration": 62,
    "start_time": "2023-03-16T12:02:46.189Z"
   },
   {
    "duration": 178,
    "start_time": "2023-03-16T12:02:53.803Z"
   },
   {
    "duration": 122,
    "start_time": "2023-03-16T12:02:55.079Z"
   },
   {
    "duration": 4,
    "start_time": "2023-03-16T12:11:07.911Z"
   },
   {
    "duration": 664,
    "start_time": "2023-03-16T12:11:58.085Z"
   },
   {
    "duration": 11,
    "start_time": "2023-03-16T12:13:37.112Z"
   },
   {
    "duration": 12,
    "start_time": "2023-03-16T12:13:38.614Z"
   },
   {
    "duration": 5,
    "start_time": "2023-03-16T12:21:07.994Z"
   },
   {
    "duration": 6,
    "start_time": "2023-03-16T12:22:59.497Z"
   },
   {
    "duration": 10,
    "start_time": "2023-03-16T12:23:14.408Z"
   },
   {
    "duration": 12,
    "start_time": "2023-03-16T12:23:15.709Z"
   },
   {
    "duration": 5,
    "start_time": "2023-03-16T12:23:31.358Z"
   },
   {
    "duration": 9,
    "start_time": "2023-03-16T12:23:33.339Z"
   },
   {
    "duration": 17,
    "start_time": "2023-03-16T12:23:34.095Z"
   },
   {
    "duration": 6,
    "start_time": "2023-03-16T12:24:54.234Z"
   },
   {
    "duration": 6,
    "start_time": "2023-03-16T12:26:16.710Z"
   },
   {
    "duration": 11,
    "start_time": "2023-03-16T12:26:47.985Z"
   },
   {
    "duration": 14,
    "start_time": "2023-03-16T12:26:51.904Z"
   },
   {
    "duration": 24,
    "start_time": "2023-03-16T12:30:59.565Z"
   },
   {
    "duration": 7,
    "start_time": "2023-03-16T12:37:26.652Z"
   },
   {
    "duration": 7,
    "start_time": "2023-03-16T12:37:44.304Z"
   },
   {
    "duration": 16,
    "start_time": "2023-03-16T12:38:07.036Z"
   },
   {
    "duration": 11,
    "start_time": "2023-03-16T12:38:43.938Z"
   },
   {
    "duration": 8,
    "start_time": "2023-03-16T12:39:22.048Z"
   },
   {
    "duration": 7,
    "start_time": "2023-03-16T12:39:43.613Z"
   },
   {
    "duration": 12,
    "start_time": "2023-03-16T12:39:54.712Z"
   },
   {
    "duration": 5,
    "start_time": "2023-03-16T12:40:34.848Z"
   },
   {
    "duration": 11,
    "start_time": "2023-03-16T12:40:41.185Z"
   },
   {
    "duration": 12,
    "start_time": "2023-03-16T12:40:42.722Z"
   },
   {
    "duration": 17,
    "start_time": "2023-03-16T12:41:06.154Z"
   },
   {
    "duration": 48,
    "start_time": "2023-03-16T15:43:50.793Z"
   },
   {
    "duration": 362,
    "start_time": "2023-03-16T15:44:01.145Z"
   },
   {
    "duration": 103,
    "start_time": "2023-03-16T15:44:01.509Z"
   },
   {
    "duration": 13,
    "start_time": "2023-03-16T15:44:01.614Z"
   },
   {
    "duration": 41,
    "start_time": "2023-03-16T15:44:01.628Z"
   },
   {
    "duration": 85,
    "start_time": "2023-03-16T15:44:01.672Z"
   },
   {
    "duration": 52,
    "start_time": "2023-03-16T15:44:01.759Z"
   },
   {
    "duration": 18,
    "start_time": "2023-03-16T15:44:01.813Z"
   },
   {
    "duration": 21,
    "start_time": "2023-03-16T15:44:01.832Z"
   },
   {
    "duration": 4,
    "start_time": "2023-03-16T15:44:01.854Z"
   },
   {
    "duration": 37,
    "start_time": "2023-03-16T15:44:01.859Z"
   },
   {
    "duration": 5,
    "start_time": "2023-03-16T15:44:01.898Z"
   },
   {
    "duration": 39,
    "start_time": "2023-03-16T15:44:01.905Z"
   },
   {
    "duration": 10,
    "start_time": "2023-03-16T15:44:01.946Z"
   },
   {
    "duration": 30,
    "start_time": "2023-03-16T15:44:01.957Z"
   },
   {
    "duration": 855,
    "start_time": "2023-03-16T15:44:02.119Z"
   },
   {
    "duration": 6,
    "start_time": "2023-03-16T15:44:02.976Z"
   },
   {
    "duration": 110,
    "start_time": "2023-03-16T15:53:19.297Z"
   },
   {
    "duration": 9,
    "start_time": "2023-03-16T15:54:42.594Z"
   },
   {
    "duration": 4,
    "start_time": "2023-03-16T15:54:59.313Z"
   },
   {
    "duration": 7,
    "start_time": "2023-03-16T15:55:00.586Z"
   },
   {
    "duration": 11,
    "start_time": "2023-03-16T15:55:33.355Z"
   },
   {
    "duration": 4,
    "start_time": "2023-03-16T15:55:43.328Z"
   },
   {
    "duration": 4,
    "start_time": "2023-03-16T15:56:13.791Z"
   },
   {
    "duration": 4,
    "start_time": "2023-03-16T15:56:22.484Z"
   },
   {
    "duration": 427,
    "start_time": "2023-03-16T18:36:55.642Z"
   },
   {
    "duration": 180,
    "start_time": "2023-03-16T18:36:56.071Z"
   },
   {
    "duration": 12,
    "start_time": "2023-03-16T18:36:56.252Z"
   },
   {
    "duration": 7,
    "start_time": "2023-03-16T18:36:56.265Z"
   },
   {
    "duration": 5,
    "start_time": "2023-03-16T18:36:56.274Z"
   },
   {
    "duration": 5,
    "start_time": "2023-03-16T18:36:56.281Z"
   },
   {
    "duration": 11,
    "start_time": "2023-03-16T18:36:56.288Z"
   },
   {
    "duration": 13,
    "start_time": "2023-03-16T18:36:56.302Z"
   },
   {
    "duration": 4,
    "start_time": "2023-03-16T18:36:56.317Z"
   },
   {
    "duration": 25,
    "start_time": "2023-03-16T18:36:56.322Z"
   },
   {
    "duration": 5,
    "start_time": "2023-03-16T18:36:56.349Z"
   },
   {
    "duration": 57,
    "start_time": "2023-03-16T18:36:56.356Z"
   },
   {
    "duration": 10,
    "start_time": "2023-03-16T18:36:56.415Z"
   },
   {
    "duration": 12,
    "start_time": "2023-03-16T18:36:56.428Z"
   },
   {
    "duration": 1353,
    "start_time": "2023-03-16T18:36:56.442Z"
   },
   {
    "duration": 16,
    "start_time": "2023-03-16T18:36:57.797Z"
   },
   {
    "duration": 19,
    "start_time": "2023-03-16T18:36:57.815Z"
   },
   {
    "duration": 8,
    "start_time": "2023-03-16T18:36:57.837Z"
   },
   {
    "duration": 127,
    "start_time": "2023-03-16T18:39:06.666Z"
   },
   {
    "duration": 4,
    "start_time": "2023-03-16T18:39:10.687Z"
   },
   {
    "duration": 10,
    "start_time": "2023-03-16T18:39:12.012Z"
   },
   {
    "duration": 178,
    "start_time": "2023-03-16T18:39:35.247Z"
   },
   {
    "duration": 4,
    "start_time": "2023-03-16T18:44:55.962Z"
   },
   {
    "duration": 4,
    "start_time": "2023-03-16T18:44:57.019Z"
   },
   {
    "duration": 9,
    "start_time": "2023-03-16T18:44:57.607Z"
   },
   {
    "duration": 4,
    "start_time": "2023-03-16T18:44:58.435Z"
   },
   {
    "duration": 3,
    "start_time": "2023-03-16T18:45:07.721Z"
   },
   {
    "duration": 188,
    "start_time": "2023-03-16T18:45:08.091Z"
   },
   {
    "duration": 4,
    "start_time": "2023-03-16T18:52:34.768Z"
   },
   {
    "duration": 11,
    "start_time": "2023-03-16T18:52:36.013Z"
   },
   {
    "duration": 13,
    "start_time": "2023-03-16T18:52:45.702Z"
   },
   {
    "duration": 6,
    "start_time": "2023-03-16T18:52:46.786Z"
   },
   {
    "duration": 4,
    "start_time": "2023-03-16T18:52:54.806Z"
   },
   {
    "duration": 185,
    "start_time": "2023-03-16T18:52:55.841Z"
   },
   {
    "duration": 8,
    "start_time": "2023-03-16T18:55:11.853Z"
   },
   {
    "duration": 5,
    "start_time": "2023-03-16T18:55:12.669Z"
   },
   {
    "duration": 64,
    "start_time": "2023-03-16T18:55:37.272Z"
   },
   {
    "duration": 3,
    "start_time": "2023-03-16T19:13:48.138Z"
   },
   {
    "duration": 23,
    "start_time": "2023-03-16T19:13:48.675Z"
   },
   {
    "duration": 55,
    "start_time": "2023-03-16T19:15:52.006Z"
   },
   {
    "duration": 835,
    "start_time": "2023-03-16T19:16:04.777Z"
   },
   {
    "duration": 3,
    "start_time": "2023-03-16T19:18:34.067Z"
   },
   {
    "duration": 3143,
    "start_time": "2023-03-16T19:18:35.221Z"
   },
   {
    "duration": 3,
    "start_time": "2023-03-16T19:28:39.937Z"
   },
   {
    "duration": 10,
    "start_time": "2023-03-16T19:29:28.573Z"
   },
   {
    "duration": 9,
    "start_time": "2023-03-16T19:29:43.455Z"
   },
   {
    "duration": 3,
    "start_time": "2023-03-16T19:30:06.929Z"
   },
   {
    "duration": 76,
    "start_time": "2023-03-16T19:30:07.920Z"
   },
   {
    "duration": 13,
    "start_time": "2023-03-16T19:34:07.675Z"
   },
   {
    "duration": 3,
    "start_time": "2023-03-16T19:36:03.340Z"
   },
   {
    "duration": 1911,
    "start_time": "2023-03-16T19:36:04.382Z"
   },
   {
    "duration": 11,
    "start_time": "2023-03-16T19:43:17.179Z"
   },
   {
    "duration": 3,
    "start_time": "2023-03-16T19:43:24.572Z"
   },
   {
    "duration": 13866,
    "start_time": "2023-03-16T19:43:25.138Z"
   },
   {
    "duration": 410,
    "start_time": "2023-03-17T08:40:08.421Z"
   },
   {
    "duration": 103,
    "start_time": "2023-03-17T08:40:08.833Z"
   },
   {
    "duration": 12,
    "start_time": "2023-03-17T08:40:08.937Z"
   },
   {
    "duration": 7,
    "start_time": "2023-03-17T08:40:08.951Z"
   },
   {
    "duration": 10,
    "start_time": "2023-03-17T08:40:08.960Z"
   },
   {
    "duration": 8,
    "start_time": "2023-03-17T08:40:08.971Z"
   },
   {
    "duration": 18,
    "start_time": "2023-03-17T08:40:08.981Z"
   },
   {
    "duration": 17,
    "start_time": "2023-03-17T08:40:09.001Z"
   },
   {
    "duration": 8,
    "start_time": "2023-03-17T08:40:09.019Z"
   },
   {
    "duration": 32,
    "start_time": "2023-03-17T08:40:09.029Z"
   },
   {
    "duration": 6,
    "start_time": "2023-03-17T08:40:09.063Z"
   },
   {
    "duration": 17,
    "start_time": "2023-03-17T08:40:09.071Z"
   },
   {
    "duration": 9,
    "start_time": "2023-03-17T08:40:09.090Z"
   },
   {
    "duration": 11,
    "start_time": "2023-03-17T08:40:09.102Z"
   },
   {
    "duration": 1001,
    "start_time": "2023-03-17T08:40:09.116Z"
   },
   {
    "duration": 6,
    "start_time": "2023-03-17T08:40:10.118Z"
   },
   {
    "duration": 13,
    "start_time": "2023-03-17T08:40:10.125Z"
   },
   {
    "duration": 6,
    "start_time": "2023-03-17T08:40:10.140Z"
   },
   {
    "duration": 2,
    "start_time": "2023-03-17T08:40:10.167Z"
   },
   {
    "duration": 45,
    "start_time": "2023-03-17T08:40:10.170Z"
   },
   {
    "duration": 3,
    "start_time": "2023-03-17T08:40:10.216Z"
   },
   {
    "duration": 163,
    "start_time": "2023-03-17T08:40:10.220Z"
   },
   {
    "duration": 3,
    "start_time": "2023-03-17T08:40:10.384Z"
   },
   {
    "duration": 733,
    "start_time": "2023-03-17T08:40:10.388Z"
   },
   {
    "duration": 2,
    "start_time": "2023-03-17T08:40:11.123Z"
   },
   {
    "duration": 2749,
    "start_time": "2023-03-17T08:40:11.127Z"
   },
   {
    "duration": 2,
    "start_time": "2023-03-17T08:40:13.878Z"
   },
   {
    "duration": 2082,
    "start_time": "2023-03-17T08:40:13.882Z"
   },
   {
    "duration": 5,
    "start_time": "2023-03-17T08:40:15.967Z"
   },
   {
    "duration": 6092,
    "start_time": "2023-03-17T08:40:15.978Z"
   },
   {
    "duration": 3,
    "start_time": "2023-03-17T08:51:54.083Z"
   },
   {
    "duration": 41,
    "start_time": "2023-03-17T08:51:54.976Z"
   },
   {
    "duration": 3,
    "start_time": "2023-03-17T08:51:56.526Z"
   },
   {
    "duration": 151,
    "start_time": "2023-03-17T08:51:57.068Z"
   },
   {
    "duration": 3,
    "start_time": "2023-03-17T08:52:00.508Z"
   },
   {
    "duration": 703,
    "start_time": "2023-03-17T08:52:01.194Z"
   },
   {
    "duration": 2,
    "start_time": "2023-03-17T08:52:02.517Z"
   },
   {
    "duration": 2873,
    "start_time": "2023-03-17T08:52:03.131Z"
   },
   {
    "duration": 2,
    "start_time": "2023-03-17T08:52:06.006Z"
   },
   {
    "duration": 1352,
    "start_time": "2023-03-17T08:52:06.010Z"
   },
   {
    "duration": 2,
    "start_time": "2023-03-17T08:52:07.785Z"
   },
   {
    "duration": 7327,
    "start_time": "2023-03-17T08:52:08.739Z"
   },
   {
    "duration": 4,
    "start_time": "2023-03-17T08:53:20.368Z"
   },
   {
    "duration": 660,
    "start_time": "2023-03-17T08:54:09.987Z"
   },
   {
    "duration": 5,
    "start_time": "2023-03-17T08:54:30.688Z"
   },
   {
    "duration": 128,
    "start_time": "2023-03-17T09:06:32.387Z"
   },
   {
    "duration": 4,
    "start_time": "2023-03-17T09:06:39.246Z"
   },
   {
    "duration": 5,
    "start_time": "2023-03-17T09:06:44.189Z"
   },
   {
    "duration": 5,
    "start_time": "2023-03-17T09:10:11.275Z"
   },
   {
    "duration": 7,
    "start_time": "2023-03-17T09:10:40.398Z"
   },
   {
    "duration": 4,
    "start_time": "2023-03-17T09:15:22.087Z"
   },
   {
    "duration": 7,
    "start_time": "2023-03-17T09:15:39.092Z"
   },
   {
    "duration": 437,
    "start_time": "2023-03-17T09:20:49.298Z"
   },
   {
    "duration": 83,
    "start_time": "2023-03-17T09:20:49.737Z"
   },
   {
    "duration": 16,
    "start_time": "2023-03-17T09:20:49.822Z"
   },
   {
    "duration": 7,
    "start_time": "2023-03-17T09:20:49.839Z"
   },
   {
    "duration": 7,
    "start_time": "2023-03-17T09:20:49.848Z"
   },
   {
    "duration": 63,
    "start_time": "2023-03-17T09:20:49.857Z"
   },
   {
    "duration": 34,
    "start_time": "2023-03-17T09:20:49.922Z"
   },
   {
    "duration": 72,
    "start_time": "2023-03-17T09:20:49.964Z"
   },
   {
    "duration": 4,
    "start_time": "2023-03-17T09:20:50.037Z"
   },
   {
    "duration": 41,
    "start_time": "2023-03-17T09:20:50.043Z"
   },
   {
    "duration": 15,
    "start_time": "2023-03-17T09:20:50.086Z"
   },
   {
    "duration": 25,
    "start_time": "2023-03-17T09:20:50.106Z"
   },
   {
    "duration": 9,
    "start_time": "2023-03-17T09:20:50.133Z"
   },
   {
    "duration": 12,
    "start_time": "2023-03-17T09:20:50.145Z"
   },
   {
    "duration": 952,
    "start_time": "2023-03-17T09:20:50.159Z"
   },
   {
    "duration": 7,
    "start_time": "2023-03-17T09:20:51.114Z"
   },
   {
    "duration": 18,
    "start_time": "2023-03-17T09:20:51.123Z"
   },
   {
    "duration": 5,
    "start_time": "2023-03-17T09:20:51.144Z"
   },
   {
    "duration": 4,
    "start_time": "2023-03-17T09:20:51.174Z"
   },
   {
    "duration": 254,
    "start_time": "2023-03-17T09:20:51.179Z"
   },
   {
    "duration": 0,
    "start_time": "2023-03-17T09:20:51.436Z"
   },
   {
    "duration": 0,
    "start_time": "2023-03-17T09:20:51.439Z"
   },
   {
    "duration": 0,
    "start_time": "2023-03-17T09:20:51.440Z"
   },
   {
    "duration": 0,
    "start_time": "2023-03-17T09:20:51.445Z"
   },
   {
    "duration": 0,
    "start_time": "2023-03-17T09:20:51.447Z"
   },
   {
    "duration": 0,
    "start_time": "2023-03-17T09:20:51.449Z"
   },
   {
    "duration": 0,
    "start_time": "2023-03-17T09:20:51.450Z"
   },
   {
    "duration": 0,
    "start_time": "2023-03-17T09:20:51.452Z"
   },
   {
    "duration": 1,
    "start_time": "2023-03-17T09:20:51.452Z"
   },
   {
    "duration": 0,
    "start_time": "2023-03-17T09:20:51.453Z"
   },
   {
    "duration": 0,
    "start_time": "2023-03-17T09:20:51.454Z"
   },
   {
    "duration": 0,
    "start_time": "2023-03-17T09:20:51.459Z"
   },
   {
    "duration": 0,
    "start_time": "2023-03-17T09:20:51.461Z"
   },
   {
    "duration": 0,
    "start_time": "2023-03-17T09:20:51.468Z"
   },
   {
    "duration": 421,
    "start_time": "2023-03-17T09:21:56.945Z"
   },
   {
    "duration": 71,
    "start_time": "2023-03-17T09:21:57.370Z"
   },
   {
    "duration": 18,
    "start_time": "2023-03-17T09:21:57.443Z"
   },
   {
    "duration": 19,
    "start_time": "2023-03-17T09:21:57.471Z"
   },
   {
    "duration": 17,
    "start_time": "2023-03-17T09:21:57.496Z"
   },
   {
    "duration": 10,
    "start_time": "2023-03-17T09:21:57.514Z"
   },
   {
    "duration": 7,
    "start_time": "2023-03-17T09:21:57.525Z"
   },
   {
    "duration": 11,
    "start_time": "2023-03-17T09:21:57.534Z"
   },
   {
    "duration": 3,
    "start_time": "2023-03-17T09:21:57.547Z"
   },
   {
    "duration": 27,
    "start_time": "2023-03-17T09:21:57.551Z"
   },
   {
    "duration": 26,
    "start_time": "2023-03-17T09:21:57.582Z"
   },
   {
    "duration": 25,
    "start_time": "2023-03-17T09:21:57.610Z"
   },
   {
    "duration": 10,
    "start_time": "2023-03-17T09:21:57.636Z"
   },
   {
    "duration": 18,
    "start_time": "2023-03-17T09:21:57.648Z"
   },
   {
    "duration": 844,
    "start_time": "2023-03-17T09:21:57.670Z"
   },
   {
    "duration": 6,
    "start_time": "2023-03-17T09:21:58.515Z"
   },
   {
    "duration": 9,
    "start_time": "2023-03-17T09:21:58.523Z"
   },
   {
    "duration": 5,
    "start_time": "2023-03-17T09:21:58.533Z"
   },
   {
    "duration": 20,
    "start_time": "2023-03-17T09:21:58.540Z"
   },
   {
    "duration": 66,
    "start_time": "2023-03-17T09:21:58.569Z"
   },
   {
    "duration": 2,
    "start_time": "2023-03-17T09:21:58.637Z"
   },
   {
    "duration": 212,
    "start_time": "2023-03-17T09:21:58.641Z"
   },
   {
    "duration": 9,
    "start_time": "2023-03-17T09:21:58.858Z"
   },
   {
    "duration": 816,
    "start_time": "2023-03-17T09:21:58.873Z"
   },
   {
    "duration": 8,
    "start_time": "2023-03-17T09:21:59.691Z"
   },
   {
    "duration": 3148,
    "start_time": "2023-03-17T09:21:59.701Z"
   },
   {
    "duration": 17,
    "start_time": "2023-03-17T09:22:02.851Z"
   },
   {
    "duration": 1802,
    "start_time": "2023-03-17T09:22:02.871Z"
   },
   {
    "duration": 6,
    "start_time": "2023-03-17T09:22:04.678Z"
   },
   {
    "duration": 7981,
    "start_time": "2023-03-17T09:22:04.693Z"
   },
   {
    "duration": 91,
    "start_time": "2023-03-17T09:22:12.682Z"
   },
   {
    "duration": 30,
    "start_time": "2023-03-17T09:22:12.782Z"
   },
   {
    "duration": 6,
    "start_time": "2023-03-17T09:22:12.814Z"
   },
   {
    "duration": 9,
    "start_time": "2023-03-17T09:22:12.821Z"
   },
   {
    "duration": 434,
    "start_time": "2023-03-17T11:00:32.569Z"
   },
   {
    "duration": 109,
    "start_time": "2023-03-17T11:00:33.005Z"
   },
   {
    "duration": 13,
    "start_time": "2023-03-17T11:00:33.117Z"
   },
   {
    "duration": 8,
    "start_time": "2023-03-17T11:00:33.133Z"
   },
   {
    "duration": 17,
    "start_time": "2023-03-17T11:00:33.142Z"
   },
   {
    "duration": 17,
    "start_time": "2023-03-17T11:00:33.161Z"
   },
   {
    "duration": 8,
    "start_time": "2023-03-17T11:00:33.179Z"
   },
   {
    "duration": 15,
    "start_time": "2023-03-17T11:00:33.189Z"
   },
   {
    "duration": 3,
    "start_time": "2023-03-17T11:00:33.206Z"
   },
   {
    "duration": 37,
    "start_time": "2023-03-17T11:00:33.211Z"
   },
   {
    "duration": 5,
    "start_time": "2023-03-17T11:00:33.249Z"
   },
   {
    "duration": 33,
    "start_time": "2023-03-17T11:00:33.256Z"
   },
   {
    "duration": 11,
    "start_time": "2023-03-17T11:00:33.290Z"
   },
   {
    "duration": 22,
    "start_time": "2023-03-17T11:00:33.303Z"
   },
   {
    "duration": 843,
    "start_time": "2023-03-17T11:00:33.327Z"
   },
   {
    "duration": 9,
    "start_time": "2023-03-17T11:00:34.172Z"
   },
   {
    "duration": 23,
    "start_time": "2023-03-17T11:00:34.183Z"
   },
   {
    "duration": 12,
    "start_time": "2023-03-17T11:00:34.208Z"
   },
   {
    "duration": 15,
    "start_time": "2023-03-17T11:00:34.222Z"
   },
   {
    "duration": 53,
    "start_time": "2023-03-17T11:00:34.239Z"
   },
   {
    "duration": 3,
    "start_time": "2023-03-17T11:00:34.294Z"
   },
   {
    "duration": 203,
    "start_time": "2023-03-17T11:00:34.299Z"
   },
   {
    "duration": 3,
    "start_time": "2023-03-17T11:00:34.504Z"
   },
   {
    "duration": 803,
    "start_time": "2023-03-17T11:00:34.508Z"
   },
   {
    "duration": 3,
    "start_time": "2023-03-17T11:00:35.313Z"
   },
   {
    "duration": 3147,
    "start_time": "2023-03-17T11:00:35.318Z"
   },
   {
    "duration": 10,
    "start_time": "2023-03-17T11:00:38.467Z"
   },
   {
    "duration": 607,
    "start_time": "2023-03-17T11:00:38.480Z"
   },
   {
    "duration": 5,
    "start_time": "2023-03-17T11:00:39.178Z"
   },
   {
    "duration": 3796,
    "start_time": "2023-03-17T11:00:39.185Z"
   },
   {
    "duration": 96,
    "start_time": "2023-03-17T11:00:42.983Z"
   },
   {
    "duration": 18,
    "start_time": "2023-03-17T11:00:43.081Z"
   },
   {
    "duration": 13,
    "start_time": "2023-03-17T11:00:43.101Z"
   },
   {
    "duration": 26,
    "start_time": "2023-03-17T11:00:43.115Z"
   },
   {
    "duration": 4,
    "start_time": "2023-03-17T11:06:31.312Z"
   },
   {
    "duration": 140,
    "start_time": "2023-03-17T11:15:42.081Z"
   },
   {
    "duration": 24,
    "start_time": "2023-03-17T11:19:27.223Z"
   },
   {
    "duration": 38,
    "start_time": "2023-03-17T11:28:40.214Z"
   },
   {
    "duration": 25,
    "start_time": "2023-03-17T11:35:28.735Z"
   },
   {
    "duration": 5,
    "start_time": "2023-03-17T11:58:31.834Z"
   },
   {
    "duration": 24,
    "start_time": "2023-03-17T11:59:30.019Z"
   },
   {
    "duration": 1183,
    "start_time": "2023-03-17T11:59:36.433Z"
   },
   {
    "duration": 8,
    "start_time": "2023-03-17T12:01:02.288Z"
   },
   {
    "duration": 14,
    "start_time": "2023-03-17T12:34:29.165Z"
   },
   {
    "duration": 10,
    "start_time": "2023-03-17T12:35:36.282Z"
   },
   {
    "duration": 16,
    "start_time": "2023-03-17T12:35:52.155Z"
   },
   {
    "duration": 14,
    "start_time": "2023-03-17T12:35:55.662Z"
   },
   {
    "duration": 11,
    "start_time": "2023-03-17T12:36:10.762Z"
   },
   {
    "duration": 7,
    "start_time": "2023-03-17T12:36:22.810Z"
   },
   {
    "duration": 12,
    "start_time": "2023-03-17T12:36:27.113Z"
   },
   {
    "duration": 20,
    "start_time": "2023-03-17T12:36:52.230Z"
   },
   {
    "duration": 20,
    "start_time": "2023-03-17T12:45:00.387Z"
   },
   {
    "duration": 21,
    "start_time": "2023-03-17T12:45:24.819Z"
   },
   {
    "duration": 21,
    "start_time": "2023-03-17T12:46:14.905Z"
   },
   {
    "duration": 73,
    "start_time": "2023-03-17T12:46:51.534Z"
   },
   {
    "duration": 1055,
    "start_time": "2023-03-17T12:46:55.549Z"
   },
   {
    "duration": 8,
    "start_time": "2023-03-17T12:46:59.764Z"
   },
   {
    "duration": 14,
    "start_time": "2023-03-17T13:25:10.294Z"
   },
   {
    "duration": 5,
    "start_time": "2023-03-17T13:25:36.114Z"
   },
   {
    "duration": 5,
    "start_time": "2023-03-17T13:26:28.165Z"
   },
   {
    "duration": 19,
    "start_time": "2023-03-17T13:28:12.183Z"
   },
   {
    "duration": 8,
    "start_time": "2023-03-17T13:29:07.117Z"
   },
   {
    "duration": 5,
    "start_time": "2023-03-17T13:31:30.311Z"
   },
   {
    "duration": 3,
    "start_time": "2023-03-17T13:46:58.731Z"
   },
   {
    "duration": 4,
    "start_time": "2023-03-17T13:47:00.411Z"
   },
   {
    "duration": 349675,
    "start_time": "2023-03-17T13:47:02.428Z"
   },
   {
    "duration": 14,
    "start_time": "2023-03-17T13:52:52.105Z"
   },
   {
    "duration": 6,
    "start_time": "2023-03-17T13:53:02.813Z"
   },
   {
    "duration": 3,
    "start_time": "2023-03-17T13:53:11.536Z"
   },
   {
    "duration": 3,
    "start_time": "2023-03-17T13:53:12.445Z"
   },
   {
    "duration": 39085,
    "start_time": "2023-03-17T13:53:14.123Z"
   },
   {
    "duration": 12,
    "start_time": "2023-03-17T13:53:53.211Z"
   },
   {
    "duration": 3,
    "start_time": "2023-03-17T13:54:00.330Z"
   },
   {
    "duration": 3,
    "start_time": "2023-03-17T13:54:01.311Z"
   },
   {
    "duration": 14522,
    "start_time": "2023-03-17T13:54:02.054Z"
   },
   {
    "duration": 14,
    "start_time": "2023-03-17T13:54:16.583Z"
   },
   {
    "duration": 3,
    "start_time": "2023-03-17T13:54:46.729Z"
   },
   {
    "duration": 2,
    "start_time": "2023-03-17T13:54:48.634Z"
   },
   {
    "duration": 78507,
    "start_time": "2023-03-17T13:54:49.405Z"
   },
   {
    "duration": 4,
    "start_time": "2023-03-17T13:56:07.914Z"
   },
   {
    "duration": 3,
    "start_time": "2023-03-17T13:57:10.770Z"
   },
   {
    "duration": 4,
    "start_time": "2023-03-17T13:57:11.399Z"
   },
   {
    "duration": 182223,
    "start_time": "2023-03-17T13:57:12.019Z"
   },
   {
    "duration": 4,
    "start_time": "2023-03-17T14:00:14.245Z"
   },
   {
    "duration": 3,
    "start_time": "2023-03-17T14:03:39.298Z"
   },
   {
    "duration": 3,
    "start_time": "2023-03-17T14:03:39.948Z"
   },
   {
    "duration": 99776,
    "start_time": "2023-03-17T14:03:40.536Z"
   },
   {
    "duration": 5,
    "start_time": "2023-03-17T14:05:20.314Z"
   },
   {
    "duration": 186,
    "start_time": "2023-03-17T14:10:01.539Z"
   },
   {
    "duration": 7,
    "start_time": "2023-03-17T14:13:51.568Z"
   },
   {
    "duration": 6,
    "start_time": "2023-03-17T14:14:16.898Z"
   },
   {
    "duration": 6,
    "start_time": "2023-03-17T14:14:49.528Z"
   },
   {
    "duration": 17,
    "start_time": "2023-03-17T14:16:54.250Z"
   },
   {
    "duration": 165,
    "start_time": "2023-03-17T14:17:00.592Z"
   },
   {
    "duration": 3300,
    "start_time": "2023-03-17T14:18:25.900Z"
   },
   {
    "duration": 492,
    "start_time": "2023-03-17T14:18:57.027Z"
   },
   {
    "duration": 642,
    "start_time": "2023-03-17T14:19:41.048Z"
   },
   {
    "duration": 10,
    "start_time": "2023-03-17T14:24:03.671Z"
   },
   {
    "duration": 4,
    "start_time": "2023-03-17T14:24:45.416Z"
   },
   {
    "duration": 698,
    "start_time": "2023-03-17T14:24:53.549Z"
   },
   {
    "duration": 14,
    "start_time": "2023-03-17T14:25:11.324Z"
   },
   {
    "duration": 14,
    "start_time": "2023-03-17T14:25:21.704Z"
   },
   {
    "duration": 681,
    "start_time": "2023-03-17T14:27:23.407Z"
   },
   {
    "duration": 12,
    "start_time": "2023-03-17T14:29:54.716Z"
   },
   {
    "duration": 21,
    "start_time": "2023-03-17T14:32:03.943Z"
   },
   {
    "duration": 10,
    "start_time": "2023-03-17T14:32:29.959Z"
   },
   {
    "duration": 4,
    "start_time": "2023-03-17T14:40:37.660Z"
   },
   {
    "duration": 116264,
    "start_time": "2023-03-17T14:40:38.952Z"
   },
   {
    "duration": 4,
    "start_time": "2023-03-17T14:42:35.218Z"
   },
   {
    "duration": 3,
    "start_time": "2023-03-17T14:43:35.661Z"
   },
   {
    "duration": 132,
    "start_time": "2023-03-17T14:43:36.804Z"
   },
   {
    "duration": 452,
    "start_time": "2023-03-17T15:15:16.048Z"
   },
   {
    "duration": 59,
    "start_time": "2023-03-17T15:15:16.502Z"
   },
   {
    "duration": 13,
    "start_time": "2023-03-17T15:15:16.563Z"
   },
   {
    "duration": 13,
    "start_time": "2023-03-17T15:15:16.578Z"
   },
   {
    "duration": 15,
    "start_time": "2023-03-17T15:15:16.592Z"
   },
   {
    "duration": 9,
    "start_time": "2023-03-17T15:15:16.609Z"
   },
   {
    "duration": 17,
    "start_time": "2023-03-17T15:15:16.620Z"
   },
   {
    "duration": 20,
    "start_time": "2023-03-17T15:15:16.639Z"
   },
   {
    "duration": 8,
    "start_time": "2023-03-17T15:15:16.661Z"
   },
   {
    "duration": 35,
    "start_time": "2023-03-17T15:15:16.672Z"
   },
   {
    "duration": 4,
    "start_time": "2023-03-17T15:15:16.709Z"
   },
   {
    "duration": 26,
    "start_time": "2023-03-17T15:15:16.715Z"
   },
   {
    "duration": 17,
    "start_time": "2023-03-17T15:15:16.742Z"
   },
   {
    "duration": 30,
    "start_time": "2023-03-17T15:15:16.761Z"
   },
   {
    "duration": 780,
    "start_time": "2023-03-17T15:15:16.792Z"
   },
   {
    "duration": 7,
    "start_time": "2023-03-17T15:15:17.573Z"
   },
   {
    "duration": 117,
    "start_time": "2023-03-17T15:15:17.582Z"
   },
   {
    "duration": 0,
    "start_time": "2023-03-17T15:15:17.701Z"
   },
   {
    "duration": 0,
    "start_time": "2023-03-17T15:15:17.702Z"
   },
   {
    "duration": 0,
    "start_time": "2023-03-17T15:15:17.703Z"
   },
   {
    "duration": 0,
    "start_time": "2023-03-17T15:15:17.704Z"
   },
   {
    "duration": 0,
    "start_time": "2023-03-17T15:15:17.704Z"
   },
   {
    "duration": 0,
    "start_time": "2023-03-17T15:15:17.705Z"
   },
   {
    "duration": 0,
    "start_time": "2023-03-17T15:15:17.707Z"
   },
   {
    "duration": 0,
    "start_time": "2023-03-17T15:15:17.707Z"
   },
   {
    "duration": 0,
    "start_time": "2023-03-17T15:15:17.708Z"
   },
   {
    "duration": 0,
    "start_time": "2023-03-17T15:15:17.709Z"
   },
   {
    "duration": 0,
    "start_time": "2023-03-17T15:15:17.710Z"
   },
   {
    "duration": 0,
    "start_time": "2023-03-17T15:15:17.711Z"
   },
   {
    "duration": 0,
    "start_time": "2023-03-17T15:15:17.712Z"
   },
   {
    "duration": 0,
    "start_time": "2023-03-17T15:15:17.714Z"
   },
   {
    "duration": 0,
    "start_time": "2023-03-17T15:15:17.715Z"
   },
   {
    "duration": 0,
    "start_time": "2023-03-17T15:15:17.716Z"
   },
   {
    "duration": 1,
    "start_time": "2023-03-17T15:15:17.717Z"
   },
   {
    "duration": 0,
    "start_time": "2023-03-17T15:15:17.718Z"
   },
   {
    "duration": 0,
    "start_time": "2023-03-17T15:15:17.720Z"
   },
   {
    "duration": 0,
    "start_time": "2023-03-17T15:15:17.721Z"
   },
   {
    "duration": 0,
    "start_time": "2023-03-17T15:15:17.722Z"
   },
   {
    "duration": 0,
    "start_time": "2023-03-17T15:15:17.723Z"
   },
   {
    "duration": 0,
    "start_time": "2023-03-17T15:15:17.724Z"
   },
   {
    "duration": 0,
    "start_time": "2023-03-17T15:15:17.725Z"
   },
   {
    "duration": 0,
    "start_time": "2023-03-17T15:15:17.726Z"
   },
   {
    "duration": 0,
    "start_time": "2023-03-17T15:15:17.727Z"
   },
   {
    "duration": 0,
    "start_time": "2023-03-17T15:15:17.729Z"
   },
   {
    "duration": 0,
    "start_time": "2023-03-17T15:15:17.730Z"
   },
   {
    "duration": 13,
    "start_time": "2023-03-17T15:16:09.581Z"
   },
   {
    "duration": 417,
    "start_time": "2023-03-17T15:16:21.017Z"
   },
   {
    "duration": 65,
    "start_time": "2023-03-17T15:16:21.436Z"
   },
   {
    "duration": 15,
    "start_time": "2023-03-17T15:16:21.502Z"
   },
   {
    "duration": 8,
    "start_time": "2023-03-17T15:16:21.519Z"
   },
   {
    "duration": 14,
    "start_time": "2023-03-17T15:16:21.530Z"
   },
   {
    "duration": 7,
    "start_time": "2023-03-17T15:16:21.546Z"
   },
   {
    "duration": 35,
    "start_time": "2023-03-17T15:16:21.554Z"
   },
   {
    "duration": 25,
    "start_time": "2023-03-17T15:16:21.592Z"
   },
   {
    "duration": 4,
    "start_time": "2023-03-17T15:16:21.619Z"
   },
   {
    "duration": 56,
    "start_time": "2023-03-17T15:16:21.625Z"
   },
   {
    "duration": 8,
    "start_time": "2023-03-17T15:16:21.687Z"
   },
   {
    "duration": 31,
    "start_time": "2023-03-17T15:16:21.696Z"
   },
   {
    "duration": 11,
    "start_time": "2023-03-17T15:16:21.728Z"
   },
   {
    "duration": 21,
    "start_time": "2023-03-17T15:16:21.742Z"
   },
   {
    "duration": 858,
    "start_time": "2023-03-17T15:16:21.765Z"
   },
   {
    "duration": 10,
    "start_time": "2023-03-17T15:16:22.625Z"
   },
   {
    "duration": 16,
    "start_time": "2023-03-17T15:16:22.637Z"
   },
   {
    "duration": 9,
    "start_time": "2023-03-17T15:16:22.656Z"
   },
   {
    "duration": 28,
    "start_time": "2023-03-17T15:16:22.667Z"
   },
   {
    "duration": 56,
    "start_time": "2023-03-17T15:16:22.697Z"
   },
   {
    "duration": 3,
    "start_time": "2023-03-17T15:16:22.755Z"
   },
   {
    "duration": 203,
    "start_time": "2023-03-17T15:16:22.760Z"
   },
   {
    "duration": 3,
    "start_time": "2023-03-17T15:16:22.965Z"
   },
   {
    "duration": 833,
    "start_time": "2023-03-17T15:16:22.969Z"
   },
   {
    "duration": 3,
    "start_time": "2023-03-17T15:16:23.804Z"
   },
   {
    "duration": 3187,
    "start_time": "2023-03-17T15:16:23.808Z"
   },
   {
    "duration": 3,
    "start_time": "2023-03-17T15:16:26.997Z"
   },
   {
    "duration": 1682,
    "start_time": "2023-03-17T15:16:27.002Z"
   },
   {
    "duration": 3,
    "start_time": "2023-03-17T15:16:28.687Z"
   },
   {
    "duration": 7005,
    "start_time": "2023-03-17T15:16:28.692Z"
   },
   {
    "duration": 12,
    "start_time": "2023-03-17T15:16:35.778Z"
   },
   {
    "duration": 91,
    "start_time": "2023-03-17T15:16:35.793Z"
   },
   {
    "duration": 17,
    "start_time": "2023-03-17T15:16:35.887Z"
   },
   {
    "duration": 8,
    "start_time": "2023-03-17T15:16:35.906Z"
   },
   {
    "duration": 27,
    "start_time": "2023-03-17T15:16:35.916Z"
   },
   {
    "duration": 14,
    "start_time": "2023-03-17T15:16:35.945Z"
   },
   {
    "duration": 1107,
    "start_time": "2023-03-17T15:16:35.961Z"
   },
   {
    "duration": 19,
    "start_time": "2023-03-17T15:16:37.070Z"
   },
   {
    "duration": 5,
    "start_time": "2023-03-17T15:16:37.091Z"
   },
   {
    "duration": 14100,
    "start_time": "2023-03-17T15:16:37.097Z"
   },
   {
    "duration": 5,
    "start_time": "2023-03-17T15:16:51.200Z"
   },
   {
    "duration": 225,
    "start_time": "2023-03-17T15:16:51.206Z"
   },
   {
    "duration": 655,
    "start_time": "2023-03-17T15:16:51.432Z"
   },
   {
    "duration": 681,
    "start_time": "2023-03-17T15:16:52.090Z"
   },
   {
    "duration": 135,
    "start_time": "2023-03-17T15:16:52.776Z"
   },
   {
    "duration": 15,
    "start_time": "2023-03-17T15:30:11.779Z"
   },
   {
    "duration": 13,
    "start_time": "2023-03-17T15:30:28.248Z"
   },
   {
    "duration": 4,
    "start_time": "2023-03-17T15:38:00.628Z"
   },
   {
    "duration": 1053,
    "start_time": "2023-03-17T15:54:10.954Z"
   },
   {
    "duration": 1208,
    "start_time": "2023-03-17T15:56:20.688Z"
   },
   {
    "duration": 1207,
    "start_time": "2023-03-17T15:56:36.618Z"
   },
   {
    "duration": 1213,
    "start_time": "2023-03-17T15:56:48.480Z"
   },
   {
    "duration": 338,
    "start_time": "2023-03-17T15:58:48.259Z"
   },
   {
    "duration": 6117,
    "start_time": "2023-03-17T15:59:12.331Z"
   },
   {
    "duration": 15294,
    "start_time": "2023-03-17T15:59:28.441Z"
   },
   {
    "duration": 561,
    "start_time": "2023-03-17T15:59:58.411Z"
   },
   {
    "duration": 30179,
    "start_time": "2023-03-17T16:00:08.445Z"
   },
   {
    "duration": 2012,
    "start_time": "2023-03-17T16:00:50.971Z"
   },
   {
    "duration": 486,
    "start_time": "2023-03-17T16:01:25.545Z"
   },
   {
    "duration": 7778,
    "start_time": "2023-03-17T16:01:40.080Z"
   },
   {
    "duration": 12533,
    "start_time": "2023-03-17T16:03:13.326Z"
   },
   {
    "duration": 2358,
    "start_time": "2023-03-17T16:03:43.110Z"
   },
   {
    "duration": 23525,
    "start_time": "2023-03-17T16:04:28.476Z"
   },
   {
    "duration": 22153,
    "start_time": "2023-03-17T16:05:42.362Z"
   },
   {
    "duration": 43602,
    "start_time": "2023-03-17T16:06:23.547Z"
   },
   {
    "duration": 13727,
    "start_time": "2023-03-17T16:10:38.212Z"
   },
   {
    "duration": 17,
    "start_time": "2023-03-17T16:15:53.318Z"
   },
   {
    "duration": 14,
    "start_time": "2023-03-17T16:15:58.324Z"
   },
   {
    "duration": 1105,
    "start_time": "2023-03-17T16:16:01.291Z"
   },
   {
    "duration": 13269,
    "start_time": "2023-03-17T16:16:11.424Z"
   },
   {
    "duration": 20108,
    "start_time": "2023-03-17T16:16:24.695Z"
   },
   {
    "duration": 6,
    "start_time": "2023-03-17T16:19:24.118Z"
   },
   {
    "duration": 13812,
    "start_time": "2023-03-17T16:28:33.262Z"
   },
   {
    "duration": 21093,
    "start_time": "2023-03-17T16:29:15.343Z"
   },
   {
    "duration": 18597,
    "start_time": "2023-03-17T16:29:52.028Z"
   },
   {
    "duration": 11,
    "start_time": "2023-03-17T16:36:32.059Z"
   },
   {
    "duration": 34,
    "start_time": "2023-03-17T16:44:44.805Z"
   },
   {
    "duration": 13297,
    "start_time": "2023-03-17T16:45:02.250Z"
   },
   {
    "duration": 14340,
    "start_time": "2023-03-17T16:45:28.468Z"
   },
   {
    "duration": 14230,
    "start_time": "2023-03-17T16:46:19.602Z"
   },
   {
    "duration": 443,
    "start_time": "2023-03-17T20:38:27.711Z"
   },
   {
    "duration": 185,
    "start_time": "2023-03-17T20:38:28.157Z"
   },
   {
    "duration": 17,
    "start_time": "2023-03-17T20:38:28.345Z"
   },
   {
    "duration": 15,
    "start_time": "2023-03-17T20:38:28.366Z"
   },
   {
    "duration": 10,
    "start_time": "2023-03-17T20:38:28.383Z"
   },
   {
    "duration": 8,
    "start_time": "2023-03-17T20:38:28.395Z"
   },
   {
    "duration": 13,
    "start_time": "2023-03-17T20:38:28.406Z"
   },
   {
    "duration": 22,
    "start_time": "2023-03-17T20:38:28.422Z"
   },
   {
    "duration": 4,
    "start_time": "2023-03-17T20:38:28.446Z"
   },
   {
    "duration": 71,
    "start_time": "2023-03-17T20:38:28.455Z"
   },
   {
    "duration": 5,
    "start_time": "2023-03-17T20:38:28.528Z"
   },
   {
    "duration": 22,
    "start_time": "2023-03-17T20:38:28.535Z"
   },
   {
    "duration": 12,
    "start_time": "2023-03-17T20:38:28.559Z"
   },
   {
    "duration": 14,
    "start_time": "2023-03-17T20:38:28.589Z"
   },
   {
    "duration": 1321,
    "start_time": "2023-03-17T20:38:28.605Z"
   },
   {
    "duration": 7,
    "start_time": "2023-03-17T20:38:29.929Z"
   },
   {
    "duration": 10,
    "start_time": "2023-03-17T20:38:29.938Z"
   },
   {
    "duration": 4,
    "start_time": "2023-03-17T20:38:29.950Z"
   },
   {
    "duration": 3,
    "start_time": "2023-03-17T20:38:29.956Z"
   },
   {
    "duration": 46,
    "start_time": "2023-03-17T20:38:29.960Z"
   },
   {
    "duration": 3,
    "start_time": "2023-03-17T20:38:30.007Z"
   },
   {
    "duration": 218,
    "start_time": "2023-03-17T20:38:30.013Z"
   },
   {
    "duration": 3,
    "start_time": "2023-03-17T20:38:30.233Z"
   },
   {
    "duration": 844,
    "start_time": "2023-03-17T20:38:30.238Z"
   },
   {
    "duration": 3,
    "start_time": "2023-03-17T20:38:31.088Z"
   },
   {
    "duration": 3080,
    "start_time": "2023-03-17T20:38:31.093Z"
   },
   {
    "duration": 15,
    "start_time": "2023-03-17T20:38:34.174Z"
   },
   {
    "duration": 1499,
    "start_time": "2023-03-17T20:38:34.193Z"
   },
   {
    "duration": 3,
    "start_time": "2023-03-17T20:38:35.694Z"
   },
   {
    "duration": 12100,
    "start_time": "2023-03-17T20:38:35.700Z"
   },
   {
    "duration": 92,
    "start_time": "2023-03-17T20:38:47.804Z"
   },
   {
    "duration": 8,
    "start_time": "2023-03-17T20:38:47.903Z"
   },
   {
    "duration": 10,
    "start_time": "2023-03-17T20:38:47.989Z"
   },
   {
    "duration": 8,
    "start_time": "2023-03-17T20:38:48.002Z"
   },
   {
    "duration": 24,
    "start_time": "2023-03-17T20:38:48.012Z"
   },
   {
    "duration": 16,
    "start_time": "2023-03-17T20:38:48.039Z"
   },
   {
    "duration": 32,
    "start_time": "2023-03-17T20:38:48.058Z"
   },
   {
    "duration": 1531,
    "start_time": "2023-03-17T20:38:48.092Z"
   },
   {
    "duration": 16344,
    "start_time": "2023-03-17T20:38:49.625Z"
   },
   {
    "duration": 16996,
    "start_time": "2023-03-17T20:39:05.971Z"
   },
   {
    "duration": 21558,
    "start_time": "2023-03-17T20:39:22.969Z"
   },
   {
    "duration": 3,
    "start_time": "2023-03-17T20:39:44.529Z"
   },
   {
    "duration": 68,
    "start_time": "2023-03-17T20:39:44.533Z"
   },
   {
    "duration": 17328,
    "start_time": "2023-03-17T20:39:44.603Z"
   },
   {
    "duration": 4,
    "start_time": "2023-03-17T20:40:01.932Z"
   },
   {
    "duration": 26,
    "start_time": "2023-03-17T20:40:01.938Z"
   },
   {
    "duration": 62,
    "start_time": "2023-03-17T20:40:01.966Z"
   },
   {
    "duration": 236,
    "start_time": "2023-03-17T20:40:02.029Z"
   },
   {
    "duration": 813,
    "start_time": "2023-03-17T20:40:02.267Z"
   },
   {
    "duration": 763,
    "start_time": "2023-03-17T20:40:03.082Z"
   },
   {
    "duration": 115,
    "start_time": "2023-03-17T20:40:03.846Z"
   },
   {
    "duration": 21281,
    "start_time": "2023-03-17T20:49:32.203Z"
   },
   {
    "duration": 7,
    "start_time": "2023-03-17T20:55:23.970Z"
   },
   {
    "duration": 12711,
    "start_time": "2023-03-17T20:56:41.433Z"
   },
   {
    "duration": 15019,
    "start_time": "2023-03-17T20:57:49.660Z"
   },
   {
    "duration": 17342,
    "start_time": "2023-03-17T21:00:40.861Z"
   },
   {
    "duration": 23760,
    "start_time": "2023-03-17T21:00:58.207Z"
   },
   {
    "duration": 13238,
    "start_time": "2023-03-17T21:05:05.467Z"
   },
   {
    "duration": 395,
    "start_time": "2023-03-17T21:06:16.916Z"
   },
   {
    "duration": 57,
    "start_time": "2023-03-17T21:06:17.313Z"
   },
   {
    "duration": 17,
    "start_time": "2023-03-17T21:06:17.372Z"
   },
   {
    "duration": 9,
    "start_time": "2023-03-17T21:06:17.391Z"
   },
   {
    "duration": 6,
    "start_time": "2023-03-17T21:06:17.402Z"
   },
   {
    "duration": 6,
    "start_time": "2023-03-17T21:06:17.410Z"
   },
   {
    "duration": 8,
    "start_time": "2023-03-17T21:06:17.417Z"
   },
   {
    "duration": 13,
    "start_time": "2023-03-17T21:06:17.427Z"
   },
   {
    "duration": 15,
    "start_time": "2023-03-17T21:06:17.442Z"
   },
   {
    "duration": 28,
    "start_time": "2023-03-17T21:06:17.488Z"
   },
   {
    "duration": 20,
    "start_time": "2023-03-17T21:06:17.518Z"
   },
   {
    "duration": 47,
    "start_time": "2023-03-17T21:06:17.539Z"
   },
   {
    "duration": 12,
    "start_time": "2023-03-17T21:06:17.588Z"
   },
   {
    "duration": 29,
    "start_time": "2023-03-17T21:06:17.601Z"
   },
   {
    "duration": 834,
    "start_time": "2023-03-17T21:06:17.632Z"
   },
   {
    "duration": 6,
    "start_time": "2023-03-17T21:06:18.468Z"
   },
   {
    "duration": 17,
    "start_time": "2023-03-17T21:06:18.477Z"
   },
   {
    "duration": 5,
    "start_time": "2023-03-17T21:06:18.496Z"
   },
   {
    "duration": 5,
    "start_time": "2023-03-17T21:06:18.503Z"
   },
   {
    "duration": 46,
    "start_time": "2023-03-17T21:06:18.510Z"
   },
   {
    "duration": 3,
    "start_time": "2023-03-17T21:06:18.558Z"
   },
   {
    "duration": 215,
    "start_time": "2023-03-17T21:06:18.562Z"
   },
   {
    "duration": 3,
    "start_time": "2023-03-17T21:06:18.779Z"
   },
   {
    "duration": 750,
    "start_time": "2023-03-17T21:06:18.784Z"
   },
   {
    "duration": 3,
    "start_time": "2023-03-17T21:06:19.536Z"
   },
   {
    "duration": 2905,
    "start_time": "2023-03-17T21:06:19.540Z"
   },
   {
    "duration": 3,
    "start_time": "2023-03-17T21:06:22.446Z"
   },
   {
    "duration": 747,
    "start_time": "2023-03-17T21:06:22.452Z"
   },
   {
    "duration": 3,
    "start_time": "2023-03-17T21:06:23.291Z"
   },
   {
    "duration": 4300,
    "start_time": "2023-03-17T21:06:23.301Z"
   },
   {
    "duration": 94,
    "start_time": "2023-03-17T21:06:27.604Z"
   },
   {
    "duration": 11,
    "start_time": "2023-03-17T21:06:27.790Z"
   },
   {
    "duration": 8,
    "start_time": "2023-03-17T21:06:27.803Z"
   },
   {
    "duration": 11,
    "start_time": "2023-03-17T21:06:27.813Z"
   },
   {
    "duration": 34,
    "start_time": "2023-03-17T21:06:27.826Z"
   },
   {
    "duration": 17,
    "start_time": "2023-03-17T21:06:27.862Z"
   },
   {
    "duration": 22,
    "start_time": "2023-03-17T21:06:27.880Z"
   },
   {
    "duration": 1503,
    "start_time": "2023-03-17T21:06:27.903Z"
   },
   {
    "duration": 17253,
    "start_time": "2023-03-17T21:06:29.407Z"
   },
   {
    "duration": 14032,
    "start_time": "2023-03-17T21:06:46.662Z"
   },
   {
    "duration": 0,
    "start_time": "2023-03-17T21:07:00.695Z"
   },
   {
    "duration": 0,
    "start_time": "2023-03-17T21:07:00.697Z"
   },
   {
    "duration": 0,
    "start_time": "2023-03-17T21:07:00.698Z"
   },
   {
    "duration": 0,
    "start_time": "2023-03-17T21:07:00.699Z"
   },
   {
    "duration": 0,
    "start_time": "2023-03-17T21:07:00.700Z"
   },
   {
    "duration": 0,
    "start_time": "2023-03-17T21:07:00.701Z"
   },
   {
    "duration": 0,
    "start_time": "2023-03-17T21:07:00.703Z"
   },
   {
    "duration": 0,
    "start_time": "2023-03-17T21:07:00.704Z"
   },
   {
    "duration": 0,
    "start_time": "2023-03-17T21:07:00.705Z"
   },
   {
    "duration": 0,
    "start_time": "2023-03-17T21:07:00.706Z"
   },
   {
    "duration": 0,
    "start_time": "2023-03-17T21:07:00.707Z"
   },
   {
    "duration": 0,
    "start_time": "2023-03-17T21:07:00.708Z"
   },
   {
    "duration": 0,
    "start_time": "2023-03-17T21:07:00.709Z"
   },
   {
    "duration": 13791,
    "start_time": "2023-03-17T21:08:35.025Z"
   },
   {
    "duration": 7179,
    "start_time": "2023-03-17T21:09:18.982Z"
   },
   {
    "duration": 8,
    "start_time": "2023-03-17T21:09:32.285Z"
   },
   {
    "duration": 12,
    "start_time": "2023-03-17T21:10:07.772Z"
   },
   {
    "duration": 6,
    "start_time": "2023-03-17T21:10:09.196Z"
   },
   {
    "duration": 841,
    "start_time": "2023-03-17T21:10:11.108Z"
   },
   {
    "duration": 10657,
    "start_time": "2023-03-17T21:10:13.343Z"
   },
   {
    "duration": 2036,
    "start_time": "2023-03-17T21:10:49.346Z"
   },
   {
    "duration": 7,
    "start_time": "2023-03-17T21:10:53.966Z"
   },
   {
    "duration": 8,
    "start_time": "2023-03-17T21:17:54.734Z"
   },
   {
    "duration": 10,
    "start_time": "2023-03-17T21:18:26.899Z"
   },
   {
    "duration": 18,
    "start_time": "2023-03-17T21:21:17.498Z"
   },
   {
    "duration": 9,
    "start_time": "2023-03-17T21:21:18.202Z"
   },
   {
    "duration": 1059,
    "start_time": "2023-03-17T21:21:19.226Z"
   },
   {
    "duration": 7008,
    "start_time": "2023-03-17T21:21:22.195Z"
   },
   {
    "duration": 0,
    "start_time": "2023-03-17T21:21:29.205Z"
   },
   {
    "duration": 13432,
    "start_time": "2023-03-17T21:21:36.895Z"
   },
   {
    "duration": 13055,
    "start_time": "2023-03-17T21:22:02.915Z"
   },
   {
    "duration": 8,
    "start_time": "2023-03-17T21:22:23.396Z"
   },
   {
    "duration": 14,
    "start_time": "2023-03-17T21:22:36.072Z"
   },
   {
    "duration": 7,
    "start_time": "2023-03-17T21:22:36.833Z"
   },
   {
    "duration": 948,
    "start_time": "2023-03-17T21:22:38.235Z"
   },
   {
    "duration": 12026,
    "start_time": "2023-03-17T21:22:46.719Z"
   },
   {
    "duration": 14385,
    "start_time": "2023-03-17T21:23:11.705Z"
   },
   {
    "duration": 7,
    "start_time": "2023-03-17T21:23:33.406Z"
   },
   {
    "duration": 13,
    "start_time": "2023-03-17T21:23:43.994Z"
   },
   {
    "duration": 10,
    "start_time": "2023-03-17T21:23:45.024Z"
   },
   {
    "duration": 933,
    "start_time": "2023-03-17T21:23:47.897Z"
   },
   {
    "duration": 11451,
    "start_time": "2023-03-17T21:23:50.881Z"
   },
   {
    "duration": 2257,
    "start_time": "2023-03-17T21:24:08.216Z"
   },
   {
    "duration": 7,
    "start_time": "2023-03-17T21:24:16.372Z"
   },
   {
    "duration": 5,
    "start_time": "2023-03-17T21:45:02.958Z"
   },
   {
    "duration": 12,
    "start_time": "2023-03-17T21:46:31.634Z"
   },
   {
    "duration": 423,
    "start_time": "2023-03-17T21:46:46.959Z"
   },
   {
    "duration": 5,
    "start_time": "2023-03-17T21:47:19.392Z"
   },
   {
    "duration": 408,
    "start_time": "2023-03-18T11:56:38.310Z"
   },
   {
    "duration": 382,
    "start_time": "2023-03-18T11:56:38.720Z"
   },
   {
    "duration": 12,
    "start_time": "2023-03-18T11:56:39.103Z"
   },
   {
    "duration": 6,
    "start_time": "2023-03-18T11:56:39.117Z"
   },
   {
    "duration": 5,
    "start_time": "2023-03-18T11:56:39.125Z"
   },
   {
    "duration": 7,
    "start_time": "2023-03-18T11:56:39.131Z"
   },
   {
    "duration": 8,
    "start_time": "2023-03-18T11:56:39.140Z"
   },
   {
    "duration": 47,
    "start_time": "2023-03-18T11:56:39.150Z"
   },
   {
    "duration": 3,
    "start_time": "2023-03-18T11:56:39.199Z"
   },
   {
    "duration": 21,
    "start_time": "2023-03-18T11:56:39.205Z"
   },
   {
    "duration": 5,
    "start_time": "2023-03-18T11:56:39.227Z"
   },
   {
    "duration": 24,
    "start_time": "2023-03-18T11:56:39.233Z"
   },
   {
    "duration": 34,
    "start_time": "2023-03-18T11:56:39.259Z"
   },
   {
    "duration": 12,
    "start_time": "2023-03-18T11:56:39.295Z"
   },
   {
    "duration": 1191,
    "start_time": "2023-03-18T11:56:39.309Z"
   },
   {
    "duration": 6,
    "start_time": "2023-03-18T11:56:40.502Z"
   },
   {
    "duration": 9,
    "start_time": "2023-03-18T11:56:40.510Z"
   },
   {
    "duration": 12,
    "start_time": "2023-03-18T11:56:40.521Z"
   },
   {
    "duration": 6,
    "start_time": "2023-03-18T11:56:40.535Z"
   },
   {
    "duration": 68,
    "start_time": "2023-03-18T11:56:40.543Z"
   },
   {
    "duration": 3,
    "start_time": "2023-03-18T11:56:40.614Z"
   },
   {
    "duration": 192,
    "start_time": "2023-03-18T11:56:40.619Z"
   },
   {
    "duration": 3,
    "start_time": "2023-03-18T11:56:40.812Z"
   },
   {
    "duration": 743,
    "start_time": "2023-03-18T11:56:40.816Z"
   },
   {
    "duration": 4,
    "start_time": "2023-03-18T11:56:41.561Z"
   },
   {
    "duration": 2895,
    "start_time": "2023-03-18T11:56:41.567Z"
   },
   {
    "duration": 3,
    "start_time": "2023-03-18T11:56:44.464Z"
   },
   {
    "duration": 629,
    "start_time": "2023-03-18T11:56:44.471Z"
   },
   {
    "duration": 4,
    "start_time": "2023-03-18T11:56:45.190Z"
   },
   {
    "duration": 3703,
    "start_time": "2023-03-18T11:56:45.196Z"
   },
   {
    "duration": 98,
    "start_time": "2023-03-18T11:56:48.902Z"
   },
   {
    "duration": 92,
    "start_time": "2023-03-18T11:56:49.004Z"
   },
   {
    "duration": 5,
    "start_time": "2023-03-18T11:56:49.098Z"
   },
   {
    "duration": 6,
    "start_time": "2023-03-18T11:56:49.105Z"
   },
   {
    "duration": 19,
    "start_time": "2023-03-18T11:56:49.113Z"
   },
   {
    "duration": 12,
    "start_time": "2023-03-18T11:56:49.134Z"
   },
   {
    "duration": 44,
    "start_time": "2023-03-18T11:56:49.148Z"
   },
   {
    "duration": 864,
    "start_time": "2023-03-18T11:56:49.194Z"
   },
   {
    "duration": 10334,
    "start_time": "2023-03-18T11:56:50.060Z"
   },
   {
    "duration": 1913,
    "start_time": "2023-03-18T11:57:00.396Z"
   },
   {
    "duration": 6,
    "start_time": "2023-03-18T11:57:02.311Z"
   },
   {
    "duration": 37,
    "start_time": "2023-03-18T11:57:02.318Z"
   },
   {
    "duration": 244,
    "start_time": "2023-03-18T12:00:33.957Z"
   },
   {
    "duration": 5,
    "start_time": "2023-03-18T12:00:39.462Z"
   },
   {
    "duration": 214,
    "start_time": "2023-03-18T12:00:42.007Z"
   },
   {
    "duration": 318,
    "start_time": "2023-03-18T12:01:10.246Z"
   },
   {
    "duration": 246,
    "start_time": "2023-03-18T12:01:52.239Z"
   },
   {
    "duration": 247,
    "start_time": "2023-03-18T12:02:04.089Z"
   },
   {
    "duration": 261,
    "start_time": "2023-03-18T12:02:58.456Z"
   },
   {
    "duration": 126,
    "start_time": "2023-03-18T12:03:04.618Z"
   },
   {
    "duration": 150,
    "start_time": "2023-03-18T12:03:22.912Z"
   },
   {
    "duration": 12,
    "start_time": "2023-03-18T12:21:31.337Z"
   },
   {
    "duration": 7,
    "start_time": "2023-03-18T12:22:06.535Z"
   },
   {
    "duration": 16,
    "start_time": "2023-03-18T13:07:07.109Z"
   },
   {
    "duration": 1900,
    "start_time": "2023-03-19T10:48:43.954Z"
   },
   {
    "duration": 117,
    "start_time": "2023-03-19T10:48:45.856Z"
   },
   {
    "duration": 34,
    "start_time": "2023-03-19T10:48:45.975Z"
   },
   {
    "duration": 11,
    "start_time": "2023-03-19T10:48:46.012Z"
   },
   {
    "duration": 37,
    "start_time": "2023-03-19T10:48:46.025Z"
   },
   {
    "duration": 42,
    "start_time": "2023-03-19T10:48:46.065Z"
   },
   {
    "duration": 13,
    "start_time": "2023-03-19T10:48:46.109Z"
   },
   {
    "duration": 17,
    "start_time": "2023-03-19T10:48:46.124Z"
   },
   {
    "duration": 7,
    "start_time": "2023-03-19T10:48:46.144Z"
   },
   {
    "duration": 47,
    "start_time": "2023-03-19T10:48:46.155Z"
   },
   {
    "duration": 9,
    "start_time": "2023-03-19T10:48:46.205Z"
   },
   {
    "duration": 42,
    "start_time": "2023-03-19T10:48:46.217Z"
   },
   {
    "duration": 33,
    "start_time": "2023-03-19T10:48:46.263Z"
   },
   {
    "duration": 47,
    "start_time": "2023-03-19T10:48:46.302Z"
   },
   {
    "duration": 15,
    "start_time": "2023-03-19T10:48:46.352Z"
   },
   {
    "duration": 36,
    "start_time": "2023-03-19T10:48:46.371Z"
   },
   {
    "duration": 27,
    "start_time": "2023-03-19T10:48:46.409Z"
   },
   {
    "duration": 26,
    "start_time": "2023-03-19T10:48:46.439Z"
   },
   {
    "duration": 60,
    "start_time": "2023-03-19T10:48:46.467Z"
   },
   {
    "duration": 4,
    "start_time": "2023-03-19T10:48:46.528Z"
   },
   {
    "duration": 202,
    "start_time": "2023-03-19T10:48:46.534Z"
   },
   {
    "duration": 3,
    "start_time": "2023-03-19T10:48:46.738Z"
   },
   {
    "duration": 916,
    "start_time": "2023-03-19T10:48:46.743Z"
   },
   {
    "duration": 3,
    "start_time": "2023-03-19T10:48:47.660Z"
   },
   {
    "duration": 3581,
    "start_time": "2023-03-19T10:48:47.665Z"
   },
   {
    "duration": 3,
    "start_time": "2023-03-19T10:48:51.248Z"
   },
   {
    "duration": 1052,
    "start_time": "2023-03-19T10:48:51.253Z"
   },
   {
    "duration": 5,
    "start_time": "2023-03-19T10:48:52.389Z"
   },
   {
    "duration": 7799,
    "start_time": "2023-03-19T10:48:52.400Z"
   },
   {
    "duration": 99,
    "start_time": "2023-03-19T10:49:00.288Z"
   },
   {
    "duration": 39,
    "start_time": "2023-03-19T10:49:00.389Z"
   },
   {
    "duration": 31,
    "start_time": "2023-03-19T10:49:00.430Z"
   },
   {
    "duration": 37,
    "start_time": "2023-03-19T10:49:00.463Z"
   },
   {
    "duration": 47,
    "start_time": "2023-03-19T10:49:00.503Z"
   },
   {
    "duration": 39,
    "start_time": "2023-03-19T10:49:00.553Z"
   },
   {
    "duration": 76,
    "start_time": "2023-03-19T10:49:00.595Z"
   },
   {
    "duration": 86,
    "start_time": "2023-03-19T10:49:00.674Z"
   },
   {
    "duration": 1233,
    "start_time": "2023-03-19T10:49:00.762Z"
   },
   {
    "duration": 13011,
    "start_time": "2023-03-19T10:49:01.998Z"
   },
   {
    "duration": 2491,
    "start_time": "2023-03-19T10:49:15.012Z"
   },
   {
    "duration": 8,
    "start_time": "2023-03-19T10:49:17.506Z"
   },
   {
    "duration": 18,
    "start_time": "2023-03-19T10:49:17.516Z"
   },
   {
    "duration": 18,
    "start_time": "2023-03-19T10:49:17.537Z"
   },
   {
    "duration": 195,
    "start_time": "2023-03-19T10:49:17.558Z"
   },
   {
    "duration": 9,
    "start_time": "2023-03-19T10:49:17.754Z"
   },
   {
    "duration": 7,
    "start_time": "2023-03-19T11:18:00.724Z"
   },
   {
    "duration": 19,
    "start_time": "2023-03-19T11:18:01.872Z"
   },
   {
    "duration": 6,
    "start_time": "2023-03-19T11:18:02.960Z"
   },
   {
    "duration": 7,
    "start_time": "2023-03-19T11:18:41.499Z"
   },
   {
    "duration": 138,
    "start_time": "2023-03-19T11:22:49.635Z"
   },
   {
    "duration": 13,
    "start_time": "2023-03-19T11:25:06.898Z"
   },
   {
    "duration": 5,
    "start_time": "2023-03-19T11:25:08.101Z"
   },
   {
    "duration": 13,
    "start_time": "2023-03-19T11:26:26.827Z"
   },
   {
    "duration": 5,
    "start_time": "2023-03-19T11:26:38.528Z"
   },
   {
    "duration": 1538,
    "start_time": "2023-03-19T11:33:21.296Z"
   },
   {
    "duration": 62,
    "start_time": "2023-03-19T11:33:22.836Z"
   },
   {
    "duration": 14,
    "start_time": "2023-03-19T11:33:22.900Z"
   },
   {
    "duration": 9,
    "start_time": "2023-03-19T11:33:22.915Z"
   },
   {
    "duration": 14,
    "start_time": "2023-03-19T11:33:22.926Z"
   },
   {
    "duration": 5,
    "start_time": "2023-03-19T11:33:22.942Z"
   },
   {
    "duration": 37,
    "start_time": "2023-03-19T11:33:22.949Z"
   },
   {
    "duration": 17,
    "start_time": "2023-03-19T11:33:22.988Z"
   },
   {
    "duration": 6,
    "start_time": "2023-03-19T11:33:23.007Z"
   },
   {
    "duration": 33,
    "start_time": "2023-03-19T11:33:23.015Z"
   },
   {
    "duration": 5,
    "start_time": "2023-03-19T11:33:23.049Z"
   },
   {
    "duration": 44,
    "start_time": "2023-03-19T11:33:23.055Z"
   },
   {
    "duration": 22,
    "start_time": "2023-03-19T11:33:23.101Z"
   },
   {
    "duration": 25,
    "start_time": "2023-03-19T11:33:23.127Z"
   },
   {
    "duration": 21,
    "start_time": "2023-03-19T11:33:23.154Z"
   },
   {
    "duration": 34,
    "start_time": "2023-03-19T11:33:23.177Z"
   },
   {
    "duration": 17,
    "start_time": "2023-03-19T11:33:23.213Z"
   },
   {
    "duration": 19,
    "start_time": "2023-03-19T11:33:23.231Z"
   },
   {
    "duration": 4,
    "start_time": "2023-03-19T11:33:23.252Z"
   },
   {
    "duration": 42,
    "start_time": "2023-03-19T11:33:23.258Z"
   },
   {
    "duration": 3,
    "start_time": "2023-03-19T11:33:23.303Z"
   },
   {
    "duration": 149,
    "start_time": "2023-03-19T11:33:23.308Z"
   },
   {
    "duration": 3,
    "start_time": "2023-03-19T11:33:23.459Z"
   },
   {
    "duration": 793,
    "start_time": "2023-03-19T11:33:23.464Z"
   },
   {
    "duration": 4,
    "start_time": "2023-03-19T11:33:24.258Z"
   },
   {
    "duration": 3091,
    "start_time": "2023-03-19T11:33:24.263Z"
   },
   {
    "duration": 3,
    "start_time": "2023-03-19T11:33:27.356Z"
   },
   {
    "duration": 14135,
    "start_time": "2023-03-19T11:33:27.361Z"
   },
   {
    "duration": 5,
    "start_time": "2023-03-19T11:33:41.500Z"
   },
   {
    "duration": 86097,
    "start_time": "2023-03-19T11:33:41.587Z"
   },
   {
    "duration": 14,
    "start_time": "2023-03-19T11:35:07.686Z"
   },
   {
    "duration": 110,
    "start_time": "2023-03-19T11:35:07.703Z"
   },
   {
    "duration": 9,
    "start_time": "2023-03-19T11:35:07.815Z"
   },
   {
    "duration": 10,
    "start_time": "2023-03-19T11:35:07.826Z"
   },
   {
    "duration": 16,
    "start_time": "2023-03-19T11:35:07.838Z"
   },
   {
    "duration": 12,
    "start_time": "2023-03-19T11:35:07.856Z"
   },
   {
    "duration": 21,
    "start_time": "2023-03-19T11:35:07.870Z"
   },
   {
    "duration": 1104,
    "start_time": "2023-03-19T11:35:07.895Z"
   },
   {
    "duration": 10508,
    "start_time": "2023-03-19T11:35:09.001Z"
   },
   {
    "duration": 1934,
    "start_time": "2023-03-19T11:35:19.511Z"
   },
   {
    "duration": 7,
    "start_time": "2023-03-19T11:35:21.449Z"
   },
   {
    "duration": 31,
    "start_time": "2023-03-19T11:35:21.457Z"
   },
   {
    "duration": 7,
    "start_time": "2023-03-19T11:35:21.491Z"
   },
   {
    "duration": 159,
    "start_time": "2023-03-19T11:35:21.500Z"
   },
   {
    "duration": 24,
    "start_time": "2023-03-19T11:35:21.661Z"
   },
   {
    "duration": 164,
    "start_time": "2023-03-19T11:47:14.883Z"
   },
   {
    "duration": 28,
    "start_time": "2023-03-19T11:47:29.171Z"
   },
   {
    "duration": 1778,
    "start_time": "2023-03-20T08:55:23.116Z"
   },
   {
    "duration": 207,
    "start_time": "2023-03-20T08:55:24.899Z"
   },
   {
    "duration": 14,
    "start_time": "2023-03-20T08:55:25.108Z"
   },
   {
    "duration": 14,
    "start_time": "2023-03-20T08:55:25.125Z"
   },
   {
    "duration": 22,
    "start_time": "2023-03-20T08:55:25.141Z"
   },
   {
    "duration": 14,
    "start_time": "2023-03-20T08:55:25.164Z"
   },
   {
    "duration": 13,
    "start_time": "2023-03-20T08:55:25.179Z"
   },
   {
    "duration": 16,
    "start_time": "2023-03-20T08:55:25.198Z"
   },
   {
    "duration": 7,
    "start_time": "2023-03-20T08:55:25.216Z"
   },
   {
    "duration": 22,
    "start_time": "2023-03-20T08:55:25.225Z"
   },
   {
    "duration": 5,
    "start_time": "2023-03-20T08:55:25.248Z"
   },
   {
    "duration": 36,
    "start_time": "2023-03-20T08:55:25.254Z"
   },
   {
    "duration": 12,
    "start_time": "2023-03-20T08:55:25.292Z"
   },
   {
    "duration": 17,
    "start_time": "2023-03-20T08:55:25.307Z"
   },
   {
    "duration": 22,
    "start_time": "2023-03-20T08:55:25.325Z"
   },
   {
    "duration": 12,
    "start_time": "2023-03-20T08:55:25.349Z"
   },
   {
    "duration": 5,
    "start_time": "2023-03-20T08:55:25.362Z"
   },
   {
    "duration": 30,
    "start_time": "2023-03-20T08:55:25.369Z"
   },
   {
    "duration": 4,
    "start_time": "2023-03-20T08:55:25.400Z"
   },
   {
    "duration": 34,
    "start_time": "2023-03-20T08:55:25.405Z"
   },
   {
    "duration": 181,
    "start_time": "2023-03-20T08:55:25.441Z"
   },
   {
    "duration": 2,
    "start_time": "2023-03-20T08:55:25.624Z"
   },
   {
    "duration": 704,
    "start_time": "2023-03-20T08:55:25.628Z"
   },
   {
    "duration": 3,
    "start_time": "2023-03-20T08:55:26.334Z"
   },
   {
    "duration": 3114,
    "start_time": "2023-03-20T08:55:26.338Z"
   },
   {
    "duration": 3,
    "start_time": "2023-03-20T08:55:29.454Z"
   },
   {
    "duration": 12639,
    "start_time": "2023-03-20T08:55:29.459Z"
   },
   {
    "duration": 78,
    "start_time": "2023-03-20T08:55:42.112Z"
   },
   {
    "duration": 43693,
    "start_time": "2023-03-20T08:55:42.197Z"
   },
   {
    "duration": 12,
    "start_time": "2023-03-20T08:56:25.892Z"
   },
   {
    "duration": 9,
    "start_time": "2023-03-20T08:56:25.906Z"
   },
   {
    "duration": 22,
    "start_time": "2023-03-20T08:56:25.916Z"
   },
   {
    "duration": 51,
    "start_time": "2023-03-20T08:56:25.939Z"
   },
   {
    "duration": 15,
    "start_time": "2023-03-20T08:56:25.992Z"
   },
   {
    "duration": 10,
    "start_time": "2023-03-20T08:56:26.009Z"
   },
   {
    "duration": 8,
    "start_time": "2023-03-20T08:56:26.021Z"
   },
   {
    "duration": 846,
    "start_time": "2023-03-20T08:56:26.031Z"
   },
   {
    "duration": 10477,
    "start_time": "2023-03-20T08:56:26.879Z"
   },
   {
    "duration": 2002,
    "start_time": "2023-03-20T08:56:37.358Z"
   },
   {
    "duration": 7,
    "start_time": "2023-03-20T08:56:39.361Z"
   },
   {
    "duration": 25,
    "start_time": "2023-03-20T08:56:39.370Z"
   },
   {
    "duration": 5,
    "start_time": "2023-03-20T08:56:39.402Z"
   },
   {
    "duration": 157,
    "start_time": "2023-03-20T08:56:39.409Z"
   },
   {
    "duration": 6,
    "start_time": "2023-03-20T08:56:39.568Z"
   },
   {
    "duration": 160,
    "start_time": "2023-03-20T08:57:52.821Z"
   },
   {
    "duration": 9,
    "start_time": "2023-03-20T08:57:54.525Z"
   },
   {
    "duration": 11,
    "start_time": "2023-03-20T08:59:28.961Z"
   },
   {
    "duration": 50,
    "start_time": "2023-03-20T09:02:37.122Z"
   },
   {
    "duration": 86,
    "start_time": "2023-03-20T09:03:45.630Z"
   },
   {
    "duration": 63,
    "start_time": "2023-03-20T09:04:11.562Z"
   },
   {
    "duration": 52,
    "start_time": "2023-03-20T09:04:21.014Z"
   },
   {
    "duration": 48,
    "start_time": "2023-03-20T09:04:40.122Z"
   },
   {
    "duration": 65,
    "start_time": "2023-03-20T09:04:56.158Z"
   },
   {
    "duration": 171,
    "start_time": "2023-03-20T09:06:44.891Z"
   },
   {
    "duration": 153,
    "start_time": "2023-03-20T09:07:11.658Z"
   },
   {
    "duration": 155,
    "start_time": "2023-03-20T09:07:21.820Z"
   },
   {
    "duration": 164,
    "start_time": "2023-03-20T09:07:28.343Z"
   },
   {
    "duration": 187,
    "start_time": "2023-03-20T09:09:35.168Z"
   },
   {
    "duration": 181,
    "start_time": "2023-03-20T09:11:34.614Z"
   },
   {
    "duration": 845,
    "start_time": "2023-03-20T09:12:23.234Z"
   },
   {
    "duration": 3,
    "start_time": "2023-03-20T09:12:29.341Z"
   },
   {
    "duration": 14,
    "start_time": "2023-03-20T09:12:38.921Z"
   },
   {
    "duration": 738,
    "start_time": "2023-03-20T09:15:24.525Z"
   },
   {
    "duration": 191,
    "start_time": "2023-03-20T09:15:34.708Z"
   },
   {
    "duration": 16,
    "start_time": "2023-03-20T09:15:38.227Z"
   },
   {
    "duration": 90242,
    "start_time": "2023-03-20T09:22:37.818Z"
   },
   {
    "duration": 125450,
    "start_time": "2023-03-20T09:24:56.876Z"
   },
   {
    "duration": 121849,
    "start_time": "2023-03-20T09:27:38.413Z"
   },
   {
    "duration": 143,
    "start_time": "2023-03-20T09:35:16.606Z"
   },
   {
    "duration": 47,
    "start_time": "2023-03-20T09:35:26.820Z"
   },
   {
    "duration": 11,
    "start_time": "2023-03-20T09:38:09.465Z"
   },
   {
    "duration": 1538,
    "start_time": "2023-03-20T09:38:17.457Z"
   },
   {
    "duration": 65,
    "start_time": "2023-03-20T09:38:18.997Z"
   },
   {
    "duration": 15,
    "start_time": "2023-03-20T09:38:19.063Z"
   },
   {
    "duration": 9,
    "start_time": "2023-03-20T09:38:19.081Z"
   },
   {
    "duration": 7,
    "start_time": "2023-03-20T09:38:19.093Z"
   },
   {
    "duration": 13,
    "start_time": "2023-03-20T09:38:19.102Z"
   },
   {
    "duration": 9,
    "start_time": "2023-03-20T09:38:19.117Z"
   },
   {
    "duration": 14,
    "start_time": "2023-03-20T09:38:19.127Z"
   },
   {
    "duration": 4,
    "start_time": "2023-03-20T09:38:19.142Z"
   },
   {
    "duration": 58,
    "start_time": "2023-03-20T09:38:19.147Z"
   },
   {
    "duration": 5,
    "start_time": "2023-03-20T09:38:19.206Z"
   },
   {
    "duration": 17,
    "start_time": "2023-03-20T09:38:19.213Z"
   },
   {
    "duration": 20,
    "start_time": "2023-03-20T09:38:19.232Z"
   },
   {
    "duration": 34,
    "start_time": "2023-03-20T09:38:19.255Z"
   },
   {
    "duration": 6,
    "start_time": "2023-03-20T09:38:19.292Z"
   },
   {
    "duration": 10,
    "start_time": "2023-03-20T09:38:19.300Z"
   },
   {
    "duration": 11,
    "start_time": "2023-03-20T09:38:19.312Z"
   },
   {
    "duration": 18,
    "start_time": "2023-03-20T09:38:19.326Z"
   },
   {
    "duration": 178,
    "start_time": "2023-03-20T09:38:19.346Z"
   },
   {
    "duration": 14,
    "start_time": "2023-03-20T09:38:19.527Z"
   },
   {
    "duration": 3,
    "start_time": "2023-03-20T09:38:19.543Z"
   },
   {
    "duration": 722,
    "start_time": "2023-03-20T09:38:19.548Z"
   },
   {
    "duration": 120510,
    "start_time": "2023-03-20T09:38:20.272Z"
   },
   {
    "duration": 4,
    "start_time": "2023-03-20T09:40:20.790Z"
   },
   {
    "duration": 9697,
    "start_time": "2023-03-20T09:40:20.796Z"
   },
   {
    "duration": 130,
    "start_time": "2023-03-20T09:40:30.496Z"
   },
   {
    "duration": 14,
    "start_time": "2023-03-20T09:40:30.629Z"
   },
   {
    "duration": 26,
    "start_time": "2023-03-20T09:40:30.645Z"
   },
   {
    "duration": 32,
    "start_time": "2023-03-20T09:40:30.672Z"
   },
   {
    "duration": 17,
    "start_time": "2023-03-20T09:40:30.707Z"
   },
   {
    "duration": 28,
    "start_time": "2023-03-20T09:40:30.726Z"
   },
   {
    "duration": 50,
    "start_time": "2023-03-20T09:40:30.756Z"
   },
   {
    "duration": 12,
    "start_time": "2023-03-20T09:40:30.808Z"
   },
   {
    "duration": 994,
    "start_time": "2023-03-20T09:40:30.822Z"
   },
   {
    "duration": 12250,
    "start_time": "2023-03-20T09:40:31.819Z"
   },
   {
    "duration": 2139,
    "start_time": "2023-03-20T09:40:44.071Z"
   },
   {
    "duration": 8,
    "start_time": "2023-03-20T09:40:46.211Z"
   },
   {
    "duration": 10,
    "start_time": "2023-03-20T09:40:46.222Z"
   },
   {
    "duration": 5,
    "start_time": "2023-03-20T09:40:46.234Z"
   },
   {
    "duration": 184,
    "start_time": "2023-03-20T09:40:46.242Z"
   },
   {
    "duration": 9,
    "start_time": "2023-03-20T09:40:46.430Z"
   },
   {
    "duration": 123644,
    "start_time": "2023-03-20T09:44:59.206Z"
   },
   {
    "duration": 13309,
    "start_time": "2023-03-20T09:47:14.826Z"
   },
   {
    "duration": 23890,
    "start_time": "2023-03-20T09:47:59.628Z"
   },
   {
    "duration": 438859,
    "start_time": "2023-03-20T09:48:53.962Z"
   },
   {
    "duration": 1441,
    "start_time": "2023-03-20T09:56:30.838Z"
   },
   {
    "duration": 57,
    "start_time": "2023-03-20T09:56:32.281Z"
   },
   {
    "duration": 14,
    "start_time": "2023-03-20T09:56:32.340Z"
   },
   {
    "duration": 7,
    "start_time": "2023-03-20T09:56:32.356Z"
   },
   {
    "duration": 6,
    "start_time": "2023-03-20T09:56:32.365Z"
   },
   {
    "duration": 17,
    "start_time": "2023-03-20T09:56:32.373Z"
   },
   {
    "duration": 7,
    "start_time": "2023-03-20T09:56:32.392Z"
   },
   {
    "duration": 20,
    "start_time": "2023-03-20T09:56:32.401Z"
   },
   {
    "duration": 4,
    "start_time": "2023-03-20T09:56:32.422Z"
   },
   {
    "duration": 23,
    "start_time": "2023-03-20T09:56:32.428Z"
   },
   {
    "duration": 6,
    "start_time": "2023-03-20T09:56:32.453Z"
   },
   {
    "duration": 40,
    "start_time": "2023-03-20T09:56:32.460Z"
   },
   {
    "duration": 11,
    "start_time": "2023-03-20T09:56:32.502Z"
   },
   {
    "duration": 14,
    "start_time": "2023-03-20T09:56:32.515Z"
   },
   {
    "duration": 5,
    "start_time": "2023-03-20T09:56:32.531Z"
   },
   {
    "duration": 20,
    "start_time": "2023-03-20T09:56:32.538Z"
   },
   {
    "duration": 4,
    "start_time": "2023-03-20T09:56:32.560Z"
   },
   {
    "duration": 19,
    "start_time": "2023-03-20T09:56:32.590Z"
   },
   {
    "duration": 203,
    "start_time": "2023-03-20T09:56:32.611Z"
   },
   {
    "duration": 14,
    "start_time": "2023-03-20T09:56:32.816Z"
   },
   {
    "duration": 4,
    "start_time": "2023-03-20T09:56:32.832Z"
   },
   {
    "duration": 750,
    "start_time": "2023-03-20T09:56:32.838Z"
   },
   {
    "duration": 121396,
    "start_time": "2023-03-20T09:56:33.590Z"
   },
   {
    "duration": 3,
    "start_time": "2023-03-20T09:58:34.989Z"
   },
   {
    "duration": 11797,
    "start_time": "2023-03-20T09:58:34.994Z"
   },
   {
    "duration": 137,
    "start_time": "2023-03-20T09:58:46.795Z"
   },
   {
    "duration": 9,
    "start_time": "2023-03-20T09:58:46.934Z"
   },
   {
    "duration": 7,
    "start_time": "2023-03-20T09:58:46.947Z"
   },
   {
    "duration": 35,
    "start_time": "2023-03-20T09:58:46.956Z"
   },
   {
    "duration": 9,
    "start_time": "2023-03-20T09:58:46.993Z"
   },
   {
    "duration": 13,
    "start_time": "2023-03-20T09:58:47.005Z"
   },
   {
    "duration": 18,
    "start_time": "2023-03-20T09:58:47.020Z"
   },
   {
    "duration": 7,
    "start_time": "2023-03-20T09:58:47.040Z"
   },
   {
    "duration": 1046,
    "start_time": "2023-03-20T09:58:47.090Z"
   },
   {
    "duration": 444821,
    "start_time": "2023-03-20T09:58:48.139Z"
   },
   {
    "duration": 2291,
    "start_time": "2023-03-20T10:06:12.963Z"
   },
   {
    "duration": 7,
    "start_time": "2023-03-20T10:06:15.256Z"
   },
   {
    "duration": 27,
    "start_time": "2023-03-20T10:06:15.265Z"
   },
   {
    "duration": 5,
    "start_time": "2023-03-20T10:06:15.295Z"
   },
   {
    "duration": 178,
    "start_time": "2023-03-20T10:06:15.302Z"
   },
   {
    "duration": 8,
    "start_time": "2023-03-20T10:06:15.482Z"
   },
   {
    "duration": 349701,
    "start_time": "2023-03-20T10:10:53.657Z"
   },
   {
    "duration": 26463,
    "start_time": "2023-03-20T10:17:18.128Z"
   },
   {
    "duration": 78037,
    "start_time": "2023-03-20T10:18:44.721Z"
   },
   {
    "duration": 12691,
    "start_time": "2023-03-20T10:20:40.413Z"
   },
   {
    "duration": 83356,
    "start_time": "2023-03-20T10:21:02.712Z"
   },
   {
    "duration": 12168,
    "start_time": "2023-03-20T10:48:19.878Z"
   },
   {
    "duration": 29146,
    "start_time": "2023-03-20T10:48:43.276Z"
   },
   {
    "duration": 86877,
    "start_time": "2023-03-20T10:51:34.655Z"
   },
   {
    "duration": 86558,
    "start_time": "2023-03-20T10:54:23.263Z"
   },
   {
    "duration": 10,
    "start_time": "2023-03-20T10:57:13.938Z"
   },
   {
    "duration": 15,
    "start_time": "2023-03-20T10:57:25.234Z"
   },
   {
    "duration": 80,
    "start_time": "2023-03-20T11:08:19.038Z"
   },
   {
    "duration": 37,
    "start_time": "2023-03-20T11:10:45.089Z"
   },
   {
    "duration": 22,
    "start_time": "2023-03-20T11:11:09.661Z"
   },
   {
    "duration": 15,
    "start_time": "2023-03-20T11:14:40.199Z"
   },
   {
    "duration": 46,
    "start_time": "2023-03-20T11:15:34.299Z"
   },
   {
    "duration": 49,
    "start_time": "2023-03-20T11:17:19.830Z"
   },
   {
    "duration": 14,
    "start_time": "2023-03-20T11:22:07.649Z"
   },
   {
    "duration": 21,
    "start_time": "2023-03-20T11:22:27.657Z"
   },
   {
    "duration": 6,
    "start_time": "2023-03-20T11:22:29.542Z"
   },
   {
    "duration": 170,
    "start_time": "2023-03-20T11:22:30.654Z"
   },
   {
    "duration": 7,
    "start_time": "2023-03-20T11:23:31.257Z"
   },
   {
    "duration": 44,
    "start_time": "2023-03-20T11:26:40.295Z"
   },
   {
    "duration": 18,
    "start_time": "2023-03-20T11:35:03.111Z"
   },
   {
    "duration": 14,
    "start_time": "2023-03-20T11:36:33.655Z"
   },
   {
    "duration": 9,
    "start_time": "2023-03-20T11:36:43.107Z"
   },
   {
    "duration": 12,
    "start_time": "2023-03-20T11:36:53.187Z"
   },
   {
    "duration": 9,
    "start_time": "2023-03-20T11:38:23.630Z"
   },
   {
    "duration": 1807,
    "start_time": "2023-03-20T11:39:29.035Z"
   },
   {
    "duration": 66,
    "start_time": "2023-03-20T11:39:30.845Z"
   },
   {
    "duration": 15,
    "start_time": "2023-03-20T11:39:30.913Z"
   },
   {
    "duration": 36,
    "start_time": "2023-03-20T11:39:30.931Z"
   },
   {
    "duration": 43,
    "start_time": "2023-03-20T11:39:30.969Z"
   },
   {
    "duration": 35,
    "start_time": "2023-03-20T11:39:31.014Z"
   },
   {
    "duration": 39,
    "start_time": "2023-03-20T11:39:31.051Z"
   },
   {
    "duration": 43,
    "start_time": "2023-03-20T11:39:31.098Z"
   },
   {
    "duration": 35,
    "start_time": "2023-03-20T11:39:31.142Z"
   },
   {
    "duration": 473,
    "start_time": "2023-03-20T11:39:31.179Z"
   },
   {
    "duration": 4,
    "start_time": "2023-03-20T11:39:31.654Z"
   },
   {
    "duration": 14,
    "start_time": "2023-03-20T11:39:31.660Z"
   },
   {
    "duration": 41,
    "start_time": "2023-03-20T11:39:31.676Z"
   },
   {
    "duration": 17,
    "start_time": "2023-03-20T11:39:31.721Z"
   },
   {
    "duration": 7,
    "start_time": "2023-03-20T11:39:31.741Z"
   },
   {
    "duration": 29,
    "start_time": "2023-03-20T11:39:31.750Z"
   },
   {
    "duration": 23,
    "start_time": "2023-03-20T11:39:31.781Z"
   },
   {
    "duration": 34,
    "start_time": "2023-03-20T11:39:31.807Z"
   },
   {
    "duration": 194,
    "start_time": "2023-03-20T11:39:31.843Z"
   },
   {
    "duration": 15,
    "start_time": "2023-03-20T11:39:32.039Z"
   },
   {
    "duration": 130823,
    "start_time": "2023-03-20T11:39:32.056Z"
   },
   {
    "duration": 134,
    "start_time": "2023-03-20T11:41:42.881Z"
   },
   {
    "duration": 5,
    "start_time": "2023-03-20T11:41:43.017Z"
   },
   {
    "duration": 22978,
    "start_time": "2023-03-20T11:41:43.023Z"
   },
   {
    "duration": 207,
    "start_time": "2023-03-20T11:42:06.003Z"
   },
   {
    "duration": 7,
    "start_time": "2023-03-20T11:42:06.212Z"
   },
   {
    "duration": 11,
    "start_time": "2023-03-20T11:42:06.221Z"
   },
   {
    "duration": 23,
    "start_time": "2023-03-20T11:42:06.234Z"
   },
   {
    "duration": 19,
    "start_time": "2023-03-20T11:42:06.259Z"
   },
   {
    "duration": 45,
    "start_time": "2023-03-20T11:42:06.279Z"
   },
   {
    "duration": 26,
    "start_time": "2023-03-20T11:42:06.325Z"
   },
   {
    "duration": 27,
    "start_time": "2023-03-20T11:42:06.353Z"
   },
   {
    "duration": 42323,
    "start_time": "2023-03-20T11:42:06.381Z"
   },
   {
    "duration": 74,
    "start_time": "2023-03-20T11:42:48.707Z"
   },
   {
    "duration": 13,
    "start_time": "2023-03-20T11:42:48.783Z"
   },
   {
    "duration": 169,
    "start_time": "2023-03-20T11:42:48.799Z"
   },
   {
    "duration": 0,
    "start_time": "2023-03-20T11:42:48.970Z"
   },
   {
    "duration": 0,
    "start_time": "2023-03-20T11:42:48.972Z"
   },
   {
    "duration": 0,
    "start_time": "2023-03-20T11:42:48.973Z"
   },
   {
    "duration": 0,
    "start_time": "2023-03-20T11:42:48.975Z"
   },
   {
    "duration": 0,
    "start_time": "2023-03-20T11:42:48.989Z"
   },
   {
    "duration": 0,
    "start_time": "2023-03-20T11:42:48.990Z"
   },
   {
    "duration": 0,
    "start_time": "2023-03-20T11:42:48.995Z"
   },
   {
    "duration": 0,
    "start_time": "2023-03-20T11:42:48.998Z"
   },
   {
    "duration": 0,
    "start_time": "2023-03-20T11:42:49.008Z"
   },
   {
    "duration": 0,
    "start_time": "2023-03-20T11:42:49.010Z"
   },
   {
    "duration": 26,
    "start_time": "2023-03-20T11:45:19.706Z"
   },
   {
    "duration": 6,
    "start_time": "2023-03-20T11:45:22.330Z"
   },
   {
    "duration": 160,
    "start_time": "2023-03-20T11:45:23.901Z"
   },
   {
    "duration": 7,
    "start_time": "2023-03-20T11:45:31.254Z"
   },
   {
    "duration": 38,
    "start_time": "2023-03-20T11:46:45.348Z"
   },
   {
    "duration": 37,
    "start_time": "2023-03-20T11:46:47.500Z"
   },
   {
    "duration": 7,
    "start_time": "2023-03-20T11:46:53.219Z"
   },
   {
    "duration": 24,
    "start_time": "2023-03-20T11:47:00.316Z"
   },
   {
    "duration": 6,
    "start_time": "2023-03-20T11:47:01.142Z"
   },
   {
    "duration": 146,
    "start_time": "2023-03-20T11:47:01.758Z"
   },
   {
    "duration": 9,
    "start_time": "2023-03-20T11:47:07.706Z"
   }
  ],
  "kernelspec": {
   "display_name": "Python 3 (ipykernel)",
   "language": "python",
   "name": "python3"
  },
  "language_info": {
   "codemirror_mode": {
    "name": "ipython",
    "version": 3
   },
   "file_extension": ".py",
   "mimetype": "text/x-python",
   "name": "python",
   "nbconvert_exporter": "python",
   "pygments_lexer": "ipython3",
   "version": "3.9.12"
  },
  "toc": {
   "base_numbering": 1,
   "nav_menu": {},
   "number_sections": true,
   "sideBar": true,
   "skip_h1_title": true,
   "title_cell": "Содержание",
   "title_sidebar": "Contents",
   "toc_cell": true,
   "toc_position": {},
   "toc_section_display": true,
   "toc_window_display": false
  }
 },
 "nbformat": 4,
 "nbformat_minor": 2
}
